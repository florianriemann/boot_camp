{
 "cells": [
  {
   "cell_type": "markdown",
   "id": "eb199ad5",
   "metadata": {
    "heading_collapsed": true
   },
   "source": [
    "### notebook general information "
   ]
  },
  {
   "cell_type": "code",
   "execution_count": 1,
   "id": "b887516c",
   "metadata": {
    "hidden": true
   },
   "outputs": [
    {
     "data": {
      "text/plain": [
       "' \\nPEP8\\npylint\\n\\nruntime\\nmemory\\nauthor\\ncreated on: Fri Mar 04 2022 \\nerror exception handling\\n\\nscaler.set_output(transform=\"Pandas\")\\n\\n\\n\\n#get titles with split (use function)\\n#we could add SibSp and Parch to get the family size\\n#group ticket feature and look if some people are on one ticket\\n#can we devide Fare through family size to get the real prize per person?\\n#checkout Voting Classifier!!!\\n#checkout ExtraTreesClassifier!!!\\n\\n'"
      ]
     },
     "execution_count": 1,
     "metadata": {},
     "output_type": "execute_result"
    }
   ],
   "source": [
    "\"\"\" \n",
    "PEP8\n",
    "pylint\n",
    "\n",
    "runtime\n",
    "memory\n",
    "author\n",
    "created on: Fri Mar 04 2022 \n",
    "error exception handling\n",
    "\n",
    "scaler.set_output(transform=\"Pandas\")\n",
    "\n",
    "\n",
    "\n",
    "#get titles with split (use function)\n",
    "#we could add SibSp and Parch to get the family size\n",
    "#group ticket feature and look if some people are on one ticket\n",
    "#can we devide Fare through family size to get the real prize per person?\n",
    "#checkout Voting Classifier!!!\n",
    "#checkout ExtraTreesClassifier!!!\n",
    "\n",
    "\"\"\""
   ]
  },
  {
   "cell_type": "markdown",
   "id": "08c4dbfc",
   "metadata": {
    "heading_collapsed": true
   },
   "source": [
    "### Step 0 - import libraries"
   ]
  },
  {
   "cell_type": "code",
   "execution_count": 2,
   "id": "f729bb87",
   "metadata": {
    "hidden": true
   },
   "outputs": [
    {
     "name": "stdout",
     "output_type": "stream",
     "text": [
      "friendly_traceback 0.7.4; friendly 0.7.2.\n",
      "Type 'Friendly' for basic help.\n"
     ]
    }
   ],
   "source": [
    "%matplotlib inline\n",
    "\n",
    "# data wrangling & visualizations\n",
    "import numpy               as np\n",
    "import pandas              as pd\n",
    "import matplotlib.pyplot   as plt\n",
    "import seaborn             as sns\n",
    "\n",
    "# models\n",
    "import xgboost             as xgb\n",
    "\n",
    "from sklearn.ensemble        import RandomForestRegressor\n",
    "from sklearn.linear_model    import LinearRegression\n",
    "from sklearn.linear_model    import Ridge\n",
    "from sklearn.linear_model    import Lasso\n",
    "from sklearn.ensemble        import GradientBoostingRegressor\n",
    "from lightgbm                import LGBMRegressor\n",
    "from catboost                import CatBoostRegressor\n",
    "from sklearn.linear_model    import SGDRegressor\n",
    "from sklearn.kernel_ridge    import KernelRidge\n",
    "from sklearn.linear_model    import ElasticNet\n",
    "from sklearn.base            import BaseEstimator\n",
    "\n",
    "# preprocessing & feature engineering\n",
    "from sklearn.model_selection import train_test_split\n",
    "from sklearn.compose         import ColumnTransformer\n",
    "from sklearn.preprocessing   import FunctionTransformer\n",
    "from sklearn.pipeline        import Pipeline\n",
    "from sklearn.preprocessing   import OneHotEncoder\n",
    "from sklearn.impute          import SimpleImputer\n",
    "from sklearn.preprocessing   import StandardScaler\n",
    "\n",
    "# validation\n",
    "from sklearn.model_selection import cross_val_score\n",
    "from sklearn.model_selection import GridSearchCV\n",
    "from sklearn.metrics         import confusion_matrix, classification_report, accuracy_score\n",
    "\n",
    "# warning & errors\n",
    "import warnings\n",
    "warnings.filterwarnings(\"ignore\", category=FutureWarning)\n",
    "\n",
    "from friendly.jupyter import *"
   ]
  },
  {
   "cell_type": "markdown",
   "id": "be49d276",
   "metadata": {
    "heading_collapsed": true
   },
   "source": [
    "### Step 1 - read data"
   ]
  },
  {
   "cell_type": "markdown",
   "id": "ef57782a",
   "metadata": {
    "hidden": true
   },
   "source": [
    "  - List the data you need and how much you need.\n",
    "\n",
    "  - Find and document where you can get the data.\n",
    "\n",
    "  - Check how much space it will take.\n",
    "\n",
    "  - Check legal obligations, and get authorizations if necessary.\n",
    "\n",
    "  - Get access authorizations.\n",
    "\n",
    "  - Create a workspace (with enough storage space).\n",
    "\n",
    "  - Get the data.\n",
    "\n",
    "  - Convert the data to a format you can easily manipulate (without changing the data itself).\n",
    "\n",
    "  - Ensure sensitive information is deleted or protected (e.g. anonymized).\n",
    "\n",
    "  - Check the size and type of data (time series, sample, geographical, etc.).\n",
    "\n",
    "  - Sample a test set, put it aside, and never look at it (no data snooping!)."
   ]
  },
  {
   "cell_type": "code",
   "execution_count": 3,
   "id": "36ed99e0",
   "metadata": {
    "hidden": true
   },
   "outputs": [
    {
     "data": {
      "text/html": [
       "<div>\n",
       "<style scoped>\n",
       "    .dataframe tbody tr th:only-of-type {\n",
       "        vertical-align: middle;\n",
       "    }\n",
       "\n",
       "    .dataframe tbody tr th {\n",
       "        vertical-align: top;\n",
       "    }\n",
       "\n",
       "    .dataframe thead th {\n",
       "        text-align: right;\n",
       "    }\n",
       "</style>\n",
       "<table border=\"1\" class=\"dataframe\">\n",
       "  <thead>\n",
       "    <tr style=\"text-align: right;\">\n",
       "      <th></th>\n",
       "      <th>datetime</th>\n",
       "      <th>season</th>\n",
       "      <th>holiday</th>\n",
       "      <th>workingday</th>\n",
       "      <th>weather</th>\n",
       "      <th>temp</th>\n",
       "      <th>atemp</th>\n",
       "      <th>humidity</th>\n",
       "      <th>windspeed</th>\n",
       "      <th>count</th>\n",
       "    </tr>\n",
       "  </thead>\n",
       "  <tbody>\n",
       "    <tr>\n",
       "      <th>0</th>\n",
       "      <td>2011-01-01 00:00:00</td>\n",
       "      <td>1</td>\n",
       "      <td>0</td>\n",
       "      <td>0</td>\n",
       "      <td>1</td>\n",
       "      <td>9.84</td>\n",
       "      <td>14.395</td>\n",
       "      <td>81</td>\n",
       "      <td>0.0</td>\n",
       "      <td>16</td>\n",
       "    </tr>\n",
       "    <tr>\n",
       "      <th>1</th>\n",
       "      <td>2011-01-01 01:00:00</td>\n",
       "      <td>1</td>\n",
       "      <td>0</td>\n",
       "      <td>0</td>\n",
       "      <td>1</td>\n",
       "      <td>9.02</td>\n",
       "      <td>13.635</td>\n",
       "      <td>80</td>\n",
       "      <td>0.0</td>\n",
       "      <td>40</td>\n",
       "    </tr>\n",
       "  </tbody>\n",
       "</table>\n",
       "</div>"
      ]
     },
     "execution_count": 3,
     "metadata": {},
     "output_type": "execute_result"
    }
   ],
   "source": [
    "#%time %memit\n",
    "PATH = '/home/florianriemann/data_science_portfolio/data/bikesharing/'\n",
    "\n",
    "df_bike, df_bike.name = pd.read_csv(PATH + 'train.csv'), 'df_bike'\n",
    "df_bike = df_bike.loc[:, ~df_bike.columns.isin(['casual','registered'])]\n",
    "df_bike.head(2)"
   ]
  },
  {
   "cell_type": "markdown",
   "id": "47e8f3ea",
   "metadata": {
    "heading_collapsed": true
   },
   "source": [
    "### Step 2 - train-test-split"
   ]
  },
  {
   "cell_type": "markdown",
   "id": "c59ab6f3",
   "metadata": {
    "hidden": true
   },
   "source": [
    "<hr style=\"border:2px solid black\">\n",
    "\n",
    "*Don't get biased by any stretch of the imagination. Do the train-test-split as early as possible!*\n",
    "\n",
    "<hr style=\"border:2px solid black\">"
   ]
  },
  {
   "cell_type": "code",
   "execution_count": 4,
   "id": "89d1f0be",
   "metadata": {
    "hidden": true
   },
   "outputs": [],
   "source": [
    "#%time %memit\n",
    "X = df_bike.drop('count', axis=1)\n",
    "y = df_bike['count']"
   ]
  },
  {
   "cell_type": "code",
   "execution_count": 5,
   "id": "79c9c429",
   "metadata": {
    "hidden": true
   },
   "outputs": [],
   "source": [
    "#%time %memit\n",
    "X_train, X_test, y_train, y_test = train_test_split(X, y, test_size = 0.2, random_state = 12)"
   ]
  },
  {
   "cell_type": "markdown",
   "id": "ae9cb271",
   "metadata": {
    "heading_collapsed": true
   },
   "source": [
    "### Step 3 - exploratory data analysis"
   ]
  },
  {
   "cell_type": "markdown",
   "id": "7743a971",
   "metadata": {
    "heading_collapsed": true,
    "hidden": true
   },
   "source": [
    "#### Step 3.0 - workflow"
   ]
  },
  {
   "cell_type": "markdown",
   "id": "e4f70a8d",
   "metadata": {
    "hidden": true
   },
   "source": [
    "  - Create a copy of the data exploration (sampling it down to a manageble size if necessary).\n",
    "\n",
    "  - Create a notebook to keep a record of your data exploration.\n",
    "\n",
    "  - Study each attribute and its characteristics:\n",
    "\n",
    "    - Name\n",
    "    - Type (categorical, int/float, bounded/unbounded, text, structured, etc.)\n",
    "    - % of missing values\n",
    "    - Noisiness and type of noise (stoxastoc, outliers, rounding errors, etc.)\n",
    "    - Possibly useful for the task?\n",
    "    - Type of distribution (Gaussian, uniform, logarithmic, etc.)\n",
    "  - For supervised learning tasks, identify target attribute(s).\n",
    "\n",
    "  - Visualize the data.\n",
    "\n",
    "  - Study the correlation between attributes.\n",
    "\n",
    "  - Study how you would solve the problem manually.\n",
    "\n",
    "  - Identify the promising transformations you may want to apply.\n",
    "\n",
    "  - Identify extra data that would be useful.\n",
    "\n",
    "  - Document what you have learned."
   ]
  },
  {
   "cell_type": "markdown",
   "id": "d8f9de8f",
   "metadata": {
    "heading_collapsed": true,
    "hidden": true
   },
   "source": [
    "#### Step 3.1 - general overview"
   ]
  },
  {
   "cell_type": "markdown",
   "id": "e19e5d94",
   "metadata": {
    "hidden": true
   },
   "source": [
    "*You are provided hourly rental data spanning two years. For this competition, the training set is comprised of the first 19 days of each month, while the test set is the 20th to the end of the month. You must predict the total count of bikes rented during each hour covered by the test set, using only information available prior to the rental period.* (https://www.kaggle.com/competitions/bike-sharing-demand/data)\n",
    "\n",
    "##### **Categorical:**\n",
    "\n",
    "- `Dichotomous`\n",
    "\n",
    ">- <u>season</u> - ( 1 = spring | 2 = summer | 3 = fall | 4 = winter )\n",
    ">- <u>holiday</u> - ( whether the day is considered a holiday )\n",
    ">- <u>workingday</u> - ( whether the day is neither a weekend nor holiday )\n",
    ">- <u>weather</u> \n",
    ">>-       1 = Clear, Few clouds, Partly cloudy, Partly cloudy\n",
    ">>-       2 = Mist + Cloudy, Mist + Broken clouds, Mist + Few clouds, Mist\n",
    ">>-       3 = Light Snow, Light Rain + Thunderstorm + Scattered clouds, Light Rain + Scattered clouds\n",
    ">>-       4 = Heavy Rain + Ice Pallets + Thunderstorm + Mist, Snow + Fog \n",
    "\n",
    "##### **Numeric:**\n",
    "\n",
    "- `Discrete`\n",
    "\n",
    ">- <u>casual</u> - number of non-registered user rentals initiated\t\n",
    ">- <u>registered</u> - number of registered user rentals initiated\n",
    ">- <u>count</u> - ( number of total rentals ) \n",
    "\n",
    "- `Continous`\n",
    "\n",
    ">- <u>atemp</u> - \"feels like\" temperature in Celsius\n",
    ">- <u>temp</u> - temperature in Celsius\n",
    ">- <u>humidity</u> - relative humidity\n",
    ">- <u>windspeed</u> - wind speed\n",
    "\n",
    "##### **Datetime:**\n",
    "\n",
    ">- <u>datetime</u> - hourly date + timestamp"
   ]
  },
  {
   "cell_type": "code",
   "execution_count": 6,
   "id": "1733e03e",
   "metadata": {
    "hidden": true
   },
   "outputs": [
    {
     "data": {
      "text/html": [
       "<div>\n",
       "<style scoped>\n",
       "    .dataframe tbody tr th:only-of-type {\n",
       "        vertical-align: middle;\n",
       "    }\n",
       "\n",
       "    .dataframe tbody tr th {\n",
       "        vertical-align: top;\n",
       "    }\n",
       "\n",
       "    .dataframe thead th {\n",
       "        text-align: right;\n",
       "    }\n",
       "</style>\n",
       "<table border=\"1\" class=\"dataframe\">\n",
       "  <thead>\n",
       "    <tr style=\"text-align: right;\">\n",
       "      <th></th>\n",
       "      <th>datetime</th>\n",
       "      <th>season</th>\n",
       "      <th>holiday</th>\n",
       "      <th>workingday</th>\n",
       "      <th>weather</th>\n",
       "      <th>temp</th>\n",
       "      <th>atemp</th>\n",
       "      <th>humidity</th>\n",
       "      <th>windspeed</th>\n",
       "      <th>count</th>\n",
       "    </tr>\n",
       "  </thead>\n",
       "  <tbody>\n",
       "    <tr>\n",
       "      <th>7360</th>\n",
       "      <td>2012-05-06 01:00:00</td>\n",
       "      <td>2</td>\n",
       "      <td>0</td>\n",
       "      <td>0</td>\n",
       "      <td>2</td>\n",
       "      <td>22.14</td>\n",
       "      <td>25.760</td>\n",
       "      <td>83</td>\n",
       "      <td>15.0013</td>\n",
       "      <td>121</td>\n",
       "    </tr>\n",
       "    <tr>\n",
       "      <th>10442</th>\n",
       "      <td>2012-12-01 12:00:00</td>\n",
       "      <td>4</td>\n",
       "      <td>0</td>\n",
       "      <td>0</td>\n",
       "      <td>2</td>\n",
       "      <td>13.12</td>\n",
       "      <td>16.665</td>\n",
       "      <td>81</td>\n",
       "      <td>6.0032</td>\n",
       "      <td>446</td>\n",
       "    </tr>\n",
       "    <tr>\n",
       "      <th>2475</th>\n",
       "      <td>2011-06-11 01:00:00</td>\n",
       "      <td>2</td>\n",
       "      <td>0</td>\n",
       "      <td>0</td>\n",
       "      <td>1</td>\n",
       "      <td>28.70</td>\n",
       "      <td>33.335</td>\n",
       "      <td>79</td>\n",
       "      <td>6.0032</td>\n",
       "      <td>77</td>\n",
       "    </tr>\n",
       "    <tr>\n",
       "      <th>6489</th>\n",
       "      <td>2012-03-07 15:00:00</td>\n",
       "      <td>1</td>\n",
       "      <td>0</td>\n",
       "      <td>1</td>\n",
       "      <td>1</td>\n",
       "      <td>22.14</td>\n",
       "      <td>25.760</td>\n",
       "      <td>37</td>\n",
       "      <td>30.0026</td>\n",
       "      <td>209</td>\n",
       "    </tr>\n",
       "    <tr>\n",
       "      <th>4322</th>\n",
       "      <td>2011-10-12 03:00:00</td>\n",
       "      <td>4</td>\n",
       "      <td>0</td>\n",
       "      <td>1</td>\n",
       "      <td>3</td>\n",
       "      <td>22.14</td>\n",
       "      <td>25.760</td>\n",
       "      <td>94</td>\n",
       "      <td>19.9995</td>\n",
       "      <td>2</td>\n",
       "    </tr>\n",
       "  </tbody>\n",
       "</table>\n",
       "</div>"
      ]
     },
     "execution_count": 6,
     "metadata": {},
     "output_type": "execute_result"
    }
   ],
   "source": [
    "#%time %memit\n",
    "# for the EDA I will only use the training data, that includes the input vector as well as the labels\n",
    "df_train = pd.concat([X_train, y_train], axis=1)\n",
    "df_train.head()"
   ]
  },
  {
   "cell_type": "code",
   "execution_count": 7,
   "id": "10c464c1",
   "metadata": {
    "hidden": true
   },
   "outputs": [
    {
     "data": {
      "text/html": [
       "<pre style='white-space:pre;overflow-x:auto;line-height:normal'><span style=\"font-weight: bold\">(</span><span style=\"color: #101010; text-decoration-color: #101010\">8708</span>, <span style=\"color: #101010; text-decoration-color: #101010\">10</span><span style=\"font-weight: bold\">)</span>\n",
       "</pre>"
      ],
      "text/plain": [
       "\u001b[1m(\u001b[0m\u001b[38;2;16;16;16m8708\u001b[0m, \u001b[38;2;16;16;16m10\u001b[0m\u001b[1m)\u001b[0m\n"
      ]
     },
     "metadata": {},
     "output_type": "display_data"
    }
   ],
   "source": [
    "df_train.shape"
   ]
  },
  {
   "cell_type": "code",
   "execution_count": 8,
   "id": "342db130",
   "metadata": {
    "hidden": true
   },
   "outputs": [
    {
     "name": "stdout",
     "output_type": "stream",
     "text": [
      "<class 'pandas.core.frame.DataFrame'>\n",
      "Int64Index: 8708 entries, 7360 to 5787\n",
      "Data columns (total 10 columns):\n",
      " #   Column      Non-Null Count  Dtype  \n",
      "---  ------      --------------  -----  \n",
      " 0   datetime    8708 non-null   object \n",
      " 1   season      8708 non-null   int64  \n",
      " 2   holiday     8708 non-null   int64  \n",
      " 3   workingday  8708 non-null   int64  \n",
      " 4   weather     8708 non-null   int64  \n",
      " 5   temp        8708 non-null   float64\n",
      " 6   atemp       8708 non-null   float64\n",
      " 7   humidity    8708 non-null   int64  \n",
      " 8   windspeed   8708 non-null   float64\n",
      " 9   count       8708 non-null   int64  \n",
      "dtypes: float64(3), int64(6), object(1)\n",
      "memory usage: 748.3+ KB\n"
     ]
    }
   ],
   "source": [
    "df_train.info()"
   ]
  },
  {
   "cell_type": "code",
   "execution_count": 15,
   "id": "4b8e5150",
   "metadata": {
    "hidden": true
   },
   "outputs": [
    {
     "data": {
      "text/html": [
       "<pre style='white-space:pre;overflow-x:auto;line-height:normal'>\n",
       "season         object\n",
       "holiday         int64\n",
       "workingday      int64\n",
       "weather        object\n",
       "temp          float64\n",
       "atemp         float64\n",
       "humidity        int64\n",
       "windspeed     float64\n",
       "count           int64\n",
       "year            int64\n",
       "month           int64\n",
       "month_name     object\n",
       "day_name       object\n",
       "day             int64\n",
       "hour            int64\n",
       "dtype: object\n",
       "</pre>"
      ],
      "text/plain": [
       "\n",
       "season         object\n",
       "holiday         int64\n",
       "workingday      int64\n",
       "weather        object\n",
       "temp          float64\n",
       "atemp         float64\n",
       "humidity        int64\n",
       "windspeed     float64\n",
       "count           int64\n",
       "year            int64\n",
       "month           int64\n",
       "month_name     object\n",
       "day_name       object\n",
       "day             int64\n",
       "hour            int64\n",
       "dtype: object\n"
      ]
     },
     "metadata": {},
     "output_type": "display_data"
    }
   ],
   "source": [
    "df_train.dtypes"
   ]
  },
  {
   "cell_type": "markdown",
   "id": "383c1ce9",
   "metadata": {
    "heading_collapsed": true,
    "hidden": true
   },
   "source": [
    "#### Step 3.2 - descriptive statistics"
   ]
  },
  {
   "cell_type": "code",
   "execution_count": 9,
   "id": "ae7405c3",
   "metadata": {
    "hidden": true
   },
   "outputs": [],
   "source": [
    "# translate the classes (numbers) into strings\n",
    "df_train.replace({'season'  : { 1 : 'spring', 2 : 'summer', 3 : 'fall', 4 : 'winter' }}, inplace = True)\n",
    "df_train.replace({'weather' : { 1 : 'nice'  , 2 : 'ok'    , 3 : 'bad' , 4 : 'worst'  }}, inplace = True)\n",
    "\n",
    "# set datetime as an index\n",
    "df_train['datetime'] = pd.to_datetime(df_train['datetime'], utc = True)\n",
    "df_train.set_index('datetime', inplace = True)\n",
    "\n",
    "# extract datetime information from the index\n",
    "df_train[\"year\"]       = df_train.index.year\n",
    "df_train[\"month\"]      = df_train.index.month\n",
    "df_train[\"month_name\"] = df_train.index.month_name()\n",
    "df_train[\"day_name\"]   = df_train.index.day_name()\n",
    "df_train[\"day\"]        = df_train.index.day\n",
    "df_train[\"hour\"]       = df_train.index.hour"
   ]
  },
  {
   "cell_type": "code",
   "execution_count": 10,
   "id": "72481011",
   "metadata": {
    "hidden": true
   },
   "outputs": [
    {
     "data": {
      "text/html": [
       "<div>\n",
       "<style scoped>\n",
       "    .dataframe tbody tr th:only-of-type {\n",
       "        vertical-align: middle;\n",
       "    }\n",
       "\n",
       "    .dataframe tbody tr th {\n",
       "        vertical-align: top;\n",
       "    }\n",
       "\n",
       "    .dataframe thead th {\n",
       "        text-align: right;\n",
       "    }\n",
       "</style>\n",
       "<table border=\"1\" class=\"dataframe\">\n",
       "  <thead>\n",
       "    <tr style=\"text-align: right;\">\n",
       "      <th></th>\n",
       "      <th>holiday</th>\n",
       "      <th>workingday</th>\n",
       "      <th>temp</th>\n",
       "      <th>atemp</th>\n",
       "      <th>humidity</th>\n",
       "      <th>windspeed</th>\n",
       "      <th>count</th>\n",
       "      <th>year</th>\n",
       "      <th>month</th>\n",
       "      <th>day</th>\n",
       "      <th>hour</th>\n",
       "    </tr>\n",
       "  </thead>\n",
       "  <tbody>\n",
       "    <tr>\n",
       "      <th>count</th>\n",
       "      <td>8708.000000</td>\n",
       "      <td>8708.000000</td>\n",
       "      <td>8708.000000</td>\n",
       "      <td>8708.000000</td>\n",
       "      <td>8708.000000</td>\n",
       "      <td>8708.000000</td>\n",
       "      <td>8708.000000</td>\n",
       "      <td>8708.000000</td>\n",
       "      <td>8708.000000</td>\n",
       "      <td>8708.000000</td>\n",
       "      <td>8708.000000</td>\n",
       "    </tr>\n",
       "    <tr>\n",
       "      <th>mean</th>\n",
       "      <td>0.028939</td>\n",
       "      <td>0.681902</td>\n",
       "      <td>20.236334</td>\n",
       "      <td>23.656412</td>\n",
       "      <td>61.865181</td>\n",
       "      <td>12.769146</td>\n",
       "      <td>191.045935</td>\n",
       "      <td>2011.499081</td>\n",
       "      <td>6.520441</td>\n",
       "      <td>9.969109</td>\n",
       "      <td>11.524001</td>\n",
       "    </tr>\n",
       "    <tr>\n",
       "      <th>std</th>\n",
       "      <td>0.167644</td>\n",
       "      <td>0.465765</td>\n",
       "      <td>7.771733</td>\n",
       "      <td>8.461706</td>\n",
       "      <td>19.293820</td>\n",
       "      <td>8.108651</td>\n",
       "      <td>180.570157</td>\n",
       "      <td>0.500028</td>\n",
       "      <td>3.444608</td>\n",
       "      <td>5.474947</td>\n",
       "      <td>6.934069</td>\n",
       "    </tr>\n",
       "    <tr>\n",
       "      <th>min</th>\n",
       "      <td>0.000000</td>\n",
       "      <td>0.000000</td>\n",
       "      <td>0.820000</td>\n",
       "      <td>0.760000</td>\n",
       "      <td>0.000000</td>\n",
       "      <td>0.000000</td>\n",
       "      <td>1.000000</td>\n",
       "      <td>2011.000000</td>\n",
       "      <td>1.000000</td>\n",
       "      <td>1.000000</td>\n",
       "      <td>0.000000</td>\n",
       "    </tr>\n",
       "    <tr>\n",
       "      <th>25%</th>\n",
       "      <td>0.000000</td>\n",
       "      <td>0.000000</td>\n",
       "      <td>13.940000</td>\n",
       "      <td>16.665000</td>\n",
       "      <td>47.000000</td>\n",
       "      <td>7.001500</td>\n",
       "      <td>41.000000</td>\n",
       "      <td>2011.000000</td>\n",
       "      <td>4.000000</td>\n",
       "      <td>5.000000</td>\n",
       "      <td>6.000000</td>\n",
       "    </tr>\n",
       "    <tr>\n",
       "      <th>50%</th>\n",
       "      <td>0.000000</td>\n",
       "      <td>1.000000</td>\n",
       "      <td>20.500000</td>\n",
       "      <td>24.240000</td>\n",
       "      <td>62.000000</td>\n",
       "      <td>12.998000</td>\n",
       "      <td>144.500000</td>\n",
       "      <td>2011.000000</td>\n",
       "      <td>7.000000</td>\n",
       "      <td>10.000000</td>\n",
       "      <td>12.000000</td>\n",
       "    </tr>\n",
       "    <tr>\n",
       "      <th>75%</th>\n",
       "      <td>0.000000</td>\n",
       "      <td>1.000000</td>\n",
       "      <td>26.240000</td>\n",
       "      <td>31.060000</td>\n",
       "      <td>77.000000</td>\n",
       "      <td>16.997900</td>\n",
       "      <td>284.000000</td>\n",
       "      <td>2012.000000</td>\n",
       "      <td>10.000000</td>\n",
       "      <td>15.000000</td>\n",
       "      <td>18.000000</td>\n",
       "    </tr>\n",
       "    <tr>\n",
       "      <th>max</th>\n",
       "      <td>1.000000</td>\n",
       "      <td>1.000000</td>\n",
       "      <td>39.360000</td>\n",
       "      <td>45.455000</td>\n",
       "      <td>100.000000</td>\n",
       "      <td>56.996900</td>\n",
       "      <td>970.000000</td>\n",
       "      <td>2012.000000</td>\n",
       "      <td>12.000000</td>\n",
       "      <td>19.000000</td>\n",
       "      <td>23.000000</td>\n",
       "    </tr>\n",
       "  </tbody>\n",
       "</table>\n",
       "</div>"
      ]
     },
     "execution_count": 10,
     "metadata": {},
     "output_type": "execute_result"
    }
   ],
   "source": [
    "# get a glance through the descriptive statistics\n",
    "df_train.describe()"
   ]
  },
  {
   "cell_type": "code",
   "execution_count": 22,
   "id": "e1d91da1",
   "metadata": {
    "hidden": true
   },
   "outputs": [
    {
     "data": {
      "text/html": [
       "<pre style='white-space:pre;overflow-x:auto;line-height:normal'>\n",
       "season        <span style=\"color: #101010; text-decoration-color: #101010\">0</span>\n",
       "holiday       <span style=\"color: #101010; text-decoration-color: #101010\">0</span>\n",
       "workingday    <span style=\"color: #101010; text-decoration-color: #101010\">0</span>\n",
       "weather       <span style=\"color: #101010; text-decoration-color: #101010\">0</span>\n",
       "temp          <span style=\"color: #101010; text-decoration-color: #101010\">0</span>\n",
       "atemp         <span style=\"color: #101010; text-decoration-color: #101010\">0</span>\n",
       "humidity      <span style=\"color: #101010; text-decoration-color: #101010\">0</span>\n",
       "windspeed     <span style=\"color: #101010; text-decoration-color: #101010\">0</span>\n",
       "count         <span style=\"color: #101010; text-decoration-color: #101010\">0</span>\n",
       "year          <span style=\"color: #101010; text-decoration-color: #101010\">0</span>\n",
       "month         <span style=\"color: #101010; text-decoration-color: #101010\">0</span>\n",
       "month_name    <span style=\"color: #101010; text-decoration-color: #101010\">0</span>\n",
       "day_name      <span style=\"color: #101010; text-decoration-color: #101010\">0</span>\n",
       "day           <span style=\"color: #101010; text-decoration-color: #101010\">0</span>\n",
       "hour          <span style=\"color: #101010; text-decoration-color: #101010\">0</span>\n",
       "dtype: int64\n",
       "</pre>"
      ],
      "text/plain": [
       "\n",
       "season        \u001b[38;2;16;16;16m0\u001b[0m\n",
       "holiday       \u001b[38;2;16;16;16m0\u001b[0m\n",
       "workingday    \u001b[38;2;16;16;16m0\u001b[0m\n",
       "weather       \u001b[38;2;16;16;16m0\u001b[0m\n",
       "temp          \u001b[38;2;16;16;16m0\u001b[0m\n",
       "atemp         \u001b[38;2;16;16;16m0\u001b[0m\n",
       "humidity      \u001b[38;2;16;16;16m0\u001b[0m\n",
       "windspeed     \u001b[38;2;16;16;16m0\u001b[0m\n",
       "count         \u001b[38;2;16;16;16m0\u001b[0m\n",
       "year          \u001b[38;2;16;16;16m0\u001b[0m\n",
       "month         \u001b[38;2;16;16;16m0\u001b[0m\n",
       "month_name    \u001b[38;2;16;16;16m0\u001b[0m\n",
       "day_name      \u001b[38;2;16;16;16m0\u001b[0m\n",
       "day           \u001b[38;2;16;16;16m0\u001b[0m\n",
       "hour          \u001b[38;2;16;16;16m0\u001b[0m\n",
       "dtype: int64\n"
      ]
     },
     "metadata": {},
     "output_type": "display_data"
    }
   ],
   "source": [
    "df_train.isna().sum()"
   ]
  },
  {
   "cell_type": "code",
   "execution_count": 26,
   "id": "8dfee890",
   "metadata": {
    "hidden": true
   },
   "outputs": [
    {
     "data": {
      "text/html": [
       "<div id='friendly-message6'><pre style='white-space:pre;overflow-x:auto;line-height:normal'><span style=\"color: #dd0000; text-decoration-color: #dd0000; background-color: #ffffff\">AttributeError</span>: 'tuple' object has no attribute 'subplots'            \n",
       "</pre></div>"
      ],
      "text/plain": [
       "\u001b[38;2;221;0;0;48;2;255;255;255mAttributeError\u001b[0m: 'tuple' object has no attribute 'subplots'            \n"
      ]
     },
     "metadata": {},
     "output_type": "display_data"
    },
    {
     "data": {
      "text/html": [
       "\n",
       "        <button\n",
       "            id='friendly-tb-btn-show6'\n",
       "            onclick='friendly_toggle_more6()'\n",
       "            style=''>\n",
       "        More ...\n",
       "        </button>\n",
       "        <script type=\"text/Javascript\"> function friendly_toggle_more6(){\n",
       "        var btn = document.getElementById('friendly-tb-btn-show6');\n",
       "        var btn_what = document.getElementById('friendly-tb-btn-show-what6');\n",
       "        var btn_where = document.getElementById('friendly-tb-btn-show-where6');\n",
       "        var btn_why = document.getElementById('friendly-tb-btn-show-why6');\n",
       "        ;\n",
       "        var message = document.getElementById('friendly-message6');\n",
       "        var friendly_tb_content = document.getElementById('friendly-tb-friendly_tb-content6');\n",
       "        var what_content = document.getElementById('friendly-tb-what-content6');\n",
       "        var why_content = document.getElementById('friendly-tb-why-content6');\n",
       "        var where_content = document.getElementById('friendly-tb-where-content6');\n",
       "        ;\n",
       "\n",
       "        if (btn_what.style.display == 'none'){\n",
       "            message.style.display = 'none';\n",
       "            btn_what.style.display = 'block';\n",
       "            btn_why.style.display = 'block';\n",
       "            btn_where.style.display = 'block';\n",
       "            friendly_tb_content.style.display = 'block';\n",
       "            ;\n",
       "            btn.textContent = \"Show message only\";\n",
       "            ;\n",
       "        } else {\n",
       "            btn_what.style.display = 'none';\n",
       "            btn_what.textContent = 'what()';\n",
       "            btn_why.style.display = 'none';\n",
       "            btn_why.textContent = 'why()';\n",
       "            btn_where.style.display = 'none';\n",
       "            btn_where.textContent = 'where()';\n",
       "            what_content.style.display = 'none';\n",
       "            why_content.style.display = 'none';\n",
       "            where_content.style.display = 'none';\n",
       "            ;\n",
       "            friendly_tb_content.style.display = 'none';\n",
       "            message.style.display = 'block';\n",
       "            btn.textContent = \"More ...\";\n",
       "            ;\n",
       "        }\n",
       "        };\n",
       "        </script>\n",
       "        "
      ]
     },
     "metadata": {},
     "output_type": "display_data"
    },
    {
     "data": {
      "text/html": [
       "<div id='friendly-tb-friendly_tb-content6' style='display:none'><pre style='white-space:pre;overflow-x:auto;line-height:normal'><span style=\"color: #dd0000; text-decoration-color: #dd0000; background-color: #ffffff\">Traceback (most recent call last):</span><span style=\"background-color: #ffffff\">                                                                  </span>\n",
       "<span style=\"color: #101010; text-decoration-color: #101010; background-color: #ffffff\">  File </span><span style=\"color: #005500; text-decoration-color: #005500; background-color: #ffffff\">\"[26]?\"</span><span style=\"color: #101010; text-decoration-color: #101010; background-color: #ffffff\">, line 1, in </span><span style=\"color: #0011aa; text-decoration-color: #0011aa; background-color: #ffffff\">&lt;cell line: 1&gt;</span><span style=\"background-color: #ffffff\">                                                           </span>\n",
       "<span style=\"color: #101010; text-decoration-color: #101010; background-color: #ffffff\">    </span><span style=\"color: #0011aa; text-decoration-color: #0011aa; background-color: #ffffff\">fig</span><span style=\"color: #783114; text-decoration-color: #783114; background-color: #ffffff\">,</span><span style=\"color: #101010; text-decoration-color: #101010; background-color: #ffffff\"> </span><span style=\"color: #0011aa; text-decoration-color: #0011aa; background-color: #ffffff\">axes</span><span style=\"color: #101010; text-decoration-color: #101010; background-color: #ffffff\"> </span><span style=\"color: #783114; text-decoration-color: #783114; background-color: #ffffff\">=</span><span style=\"color: #101010; text-decoration-color: #101010; background-color: #ffffff\"> </span><span style=\"color: #0011aa; text-decoration-color: #0011aa; background-color: #ffffff\">plt</span><span style=\"color: #783114; text-decoration-color: #783114; background-color: #ffffff\">.</span><span style=\"color: #0011aa; text-decoration-color: #0011aa; background-color: #ffffff\">subplots</span><span style=\"color: #783114; text-decoration-color: #783114; background-color: #ffffff\">(</span><span style=\"color: #0011aa; text-decoration-color: #0011aa; background-color: #ffffff\">nrows</span><span style=\"color: #101010; text-decoration-color: #101010; background-color: #ffffff\"> </span><span style=\"color: #783114; text-decoration-color: #783114; background-color: #ffffff\">=</span><span style=\"color: #101010; text-decoration-color: #101010; background-color: #ffffff\"> 2</span><span style=\"color: #783114; text-decoration-color: #783114; background-color: #ffffff\">,</span><span style=\"color: #101010; text-decoration-color: #101010; background-color: #ffffff\"> </span><span style=\"color: #0011aa; text-decoration-color: #0011aa; background-color: #ffffff\">ncols</span><span style=\"color: #101010; text-decoration-color: #101010; background-color: #ffffff\"> </span><span style=\"color: #783114; text-decoration-color: #783114; background-color: #ffffff\">=</span><span style=\"color: #101010; text-decoration-color: #101010; background-color: #ffffff\"> 2</span><span style=\"color: #783114; text-decoration-color: #783114; background-color: #ffffff\">)</span><span style=\"background-color: #ffffff\">                                                  </span>\n",
       "<span style=\"color: #dd0000; text-decoration-color: #dd0000; background-color: #ffffff\">AttributeError</span><span style=\"color: #101010; text-decoration-color: #101010; background-color: #ffffff\">: </span><span style=\"color: #0011aa; text-decoration-color: #0011aa; background-color: #ffffff\">'tuple' object has no attribute 'subplots'</span><span style=\"background-color: #ffffff\">                                          </span>\n",
       "</pre></div>"
      ],
      "text/plain": [
       "\u001b[38;2;221;0;0;48;2;255;255;255mTraceback (most recent call last):\u001b[0m\u001b[48;2;255;255;255m                                                                  \u001b[0m\n",
       "\u001b[38;2;16;16;16;48;2;255;255;255m  File \u001b[0m\u001b[38;2;0;85;0;48;2;255;255;255m\"[26]?\"\u001b[0m\u001b[38;2;16;16;16;48;2;255;255;255m, line \u001b[0m\u001b[38;2;16;16;16;48;2;255;255;255m1\u001b[0m\u001b[38;2;16;16;16;48;2;255;255;255m, in \u001b[0m\u001b[38;2;0;17;170;48;2;255;255;255m<cell line: 1>\u001b[0m\u001b[48;2;255;255;255m                                                           \u001b[0m\n",
       "\u001b[38;2;16;16;16;48;2;255;255;255m    \u001b[0m\u001b[38;2;0;17;170;48;2;255;255;255mfig\u001b[0m\u001b[38;2;120;49;20;48;2;255;255;255m,\u001b[0m\u001b[38;2;16;16;16;48;2;255;255;255m \u001b[0m\u001b[38;2;0;17;170;48;2;255;255;255maxes\u001b[0m\u001b[38;2;16;16;16;48;2;255;255;255m \u001b[0m\u001b[38;2;120;49;20;48;2;255;255;255m=\u001b[0m\u001b[38;2;16;16;16;48;2;255;255;255m \u001b[0m\u001b[38;2;0;17;170;48;2;255;255;255mplt\u001b[0m\u001b[38;2;120;49;20;48;2;255;255;255m.\u001b[0m\u001b[38;2;0;17;170;48;2;255;255;255msubplots\u001b[0m\u001b[38;2;120;49;20;48;2;255;255;255m(\u001b[0m\u001b[38;2;0;17;170;48;2;255;255;255mnrows\u001b[0m\u001b[38;2;16;16;16;48;2;255;255;255m \u001b[0m\u001b[38;2;120;49;20;48;2;255;255;255m=\u001b[0m\u001b[38;2;16;16;16;48;2;255;255;255m \u001b[0m\u001b[38;2;16;16;16;48;2;255;255;255m2\u001b[0m\u001b[38;2;120;49;20;48;2;255;255;255m,\u001b[0m\u001b[38;2;16;16;16;48;2;255;255;255m \u001b[0m\u001b[38;2;0;17;170;48;2;255;255;255mncols\u001b[0m\u001b[38;2;16;16;16;48;2;255;255;255m \u001b[0m\u001b[38;2;120;49;20;48;2;255;255;255m=\u001b[0m\u001b[38;2;16;16;16;48;2;255;255;255m \u001b[0m\u001b[38;2;16;16;16;48;2;255;255;255m2\u001b[0m\u001b[38;2;120;49;20;48;2;255;255;255m)\u001b[0m\u001b[48;2;255;255;255m                                                  \u001b[0m\n",
       "\u001b[38;2;221;0;0;48;2;255;255;255mAttributeError\u001b[0m\u001b[38;2;16;16;16;48;2;255;255;255m: \u001b[0m\u001b[38;2;0;17;170;48;2;255;255;255m'tuple' object has no attribute 'subplots'\u001b[0m\u001b[48;2;255;255;255m                                          \u001b[0m\n"
      ]
     },
     "metadata": {},
     "output_type": "display_data"
    },
    {
     "data": {
      "text/html": [
       "<script type=\"text/Javascript\"> function toggle_what6(){\n",
       "     var content = document.getElementById('friendly-tb-what-content6');\n",
       "     var btn = document.getElementById('friendly-tb-btn-show-what6');\n",
       "        if (content.style.display === 'none') {\n",
       "            content.style.display = 'block';\n",
       "            btn.textContent = \"Hide what()\";\n",
       "        } else {\n",
       "            content.style.display = 'none';\n",
       "            btn.textContent = \"what()\";\n",
       "       }\n",
       "    }\n",
       "     </script>\n",
       "     <button\n",
       "         id='friendly-tb-btn-show-what6'\n",
       "         onclick='toggle_what6()'\n",
       "         style='display:none '>\n",
       "     what()\n",
       "     </button>\n",
       "    "
      ]
     },
     "metadata": {},
     "output_type": "display_data"
    },
    {
     "data": {
      "text/html": [
       "<div id='friendly-tb-what-content6' style='display:none'><pre style='white-space:pre;overflow-x:auto;line-height:normal'>An <span style=\"color: #dd0000; text-decoration-color: #dd0000; background-color: #ffffff\">AttributeError</span> occurs when the code contains something like        \n",
       "<span style=\"color: #005500; text-decoration-color: #005500; background-color: #ffffff\">object</span><span style=\"color: #783114; text-decoration-color: #783114; background-color: #ffffff\">.</span><span style=\"color: #0011aa; text-decoration-color: #0011aa; background-color: #ffffff\">x</span> and <span style=\"color: #0011aa; text-decoration-color: #0011aa; background-color: #ffffff\">x</span> is not a method or attribute (variable) belonging to   \n",
       "<span style=\"color: #005500; text-decoration-color: #005500; background-color: #ffffff\">object</span>.                                                               \n",
       "</pre></div>"
      ],
      "text/plain": [
       "An \u001b[38;2;221;0;0;48;2;255;255;255mAttributeError\u001b[0m occurs when the code contains something like        \n",
       "\u001b[38;2;0;85;0;48;2;255;255;255mobject\u001b[0m\u001b[38;2;120;49;20;48;2;255;255;255m.\u001b[0m\u001b[38;2;0;17;170;48;2;255;255;255mx\u001b[0m and \u001b[38;2;0;17;170;48;2;255;255;255mx\u001b[0m is not a method or attribute (variable) belonging to   \n",
       "\u001b[38;2;0;85;0;48;2;255;255;255mobject\u001b[0m.                                                               \n"
      ]
     },
     "metadata": {},
     "output_type": "display_data"
    },
    {
     "data": {
      "text/html": [
       "<script type=\"text/Javascript\"> function toggle_why6(){\n",
       "     var content = document.getElementById('friendly-tb-why-content6');\n",
       "     var btn = document.getElementById('friendly-tb-btn-show-why6');\n",
       "        if (content.style.display === 'none') {\n",
       "            content.style.display = 'block';\n",
       "            btn.textContent = \"Hide why()\";\n",
       "        } else {\n",
       "            content.style.display = 'none';\n",
       "            btn.textContent = \"why()\";\n",
       "       }\n",
       "    }\n",
       "     </script>\n",
       "     <button\n",
       "         id='friendly-tb-btn-show-why6'\n",
       "         onclick='toggle_why6()'\n",
       "         style='display:none '>\n",
       "     why()\n",
       "     </button>\n",
       "    "
      ]
     },
     "metadata": {},
     "output_type": "display_data"
    },
    {
     "data": {
      "text/html": [
       "<div id='friendly-tb-why-content6' style='display:none'><pre style='white-space:pre;overflow-x:auto;line-height:normal'>The object <span style=\"color: #0011aa; text-decoration-color: #0011aa; background-color: #ffffff\">plt</span> has no attribute named <span style=\"color: #0011aa; text-decoration-color: #0011aa; background-color: #ffffff\">subplots</span>. The following are some\n",
       "of its known attributes: <span style=\"color: #0011aa; text-decoration-color: #0011aa; background-color: #ffffff\">count</span><span style=\"color: #783114; text-decoration-color: #783114; background-color: #ffffff\">,</span><span style=\"color: #101010; text-decoration-color: #101010; background-color: #ffffff\"> </span><span style=\"color: #0011aa; text-decoration-color: #0011aa; background-color: #ffffff\">index</span>.                                \n",
       "</pre></div>"
      ],
      "text/plain": [
       "The object \u001b[38;2;0;17;170;48;2;255;255;255mplt\u001b[0m has no attribute named \u001b[38;2;0;17;170;48;2;255;255;255msubplots\u001b[0m. The following are some\n",
       "of its known attributes: \u001b[38;2;0;17;170;48;2;255;255;255mcount\u001b[0m\u001b[38;2;120;49;20;48;2;255;255;255m,\u001b[0m\u001b[38;2;16;16;16;48;2;255;255;255m \u001b[0m\u001b[38;2;0;17;170;48;2;255;255;255mindex\u001b[0m.                                \n"
      ]
     },
     "metadata": {},
     "output_type": "display_data"
    },
    {
     "data": {
      "text/html": [
       "<script type=\"text/Javascript\"> function toggle_where6(){\n",
       "     var content = document.getElementById('friendly-tb-where-content6');\n",
       "     var btn = document.getElementById('friendly-tb-btn-show-where6');\n",
       "        if (content.style.display === 'none') {\n",
       "            content.style.display = 'block';\n",
       "            btn.textContent = \"Hide where()\";\n",
       "        } else {\n",
       "            content.style.display = 'none';\n",
       "            btn.textContent = \"where()\";\n",
       "       }\n",
       "    }\n",
       "     </script>\n",
       "     <button\n",
       "         id='friendly-tb-btn-show-where6'\n",
       "         onclick='toggle_where6()'\n",
       "         style='display:none '>\n",
       "     where()\n",
       "     </button>\n",
       "    "
      ]
     },
     "metadata": {},
     "output_type": "display_data"
    },
    {
     "data": {
      "text/html": [
       "<div id='friendly-tb-where-content6' style='display:none'><pre style='white-space:pre;overflow-x:auto;line-height:normal'><span style=\"color: #dd0000; text-decoration-color: #dd0000\">Exception raised on line 1 of code block </span><span style=\"color: #783114; text-decoration-color: #783114; background-color: #ffffff\">[</span><span style=\"color: #101010; text-decoration-color: #101010; background-color: #ffffff\">26</span><span style=\"color: #783114; text-decoration-color: #783114; background-color: #ffffff\">]</span><span style=\"color: #dd0000; text-decoration-color: #dd0000\">?.</span>                                                     \n",
       "\n",
       "<span style=\"color: #783114; text-decoration-color: #783114; background-color: #ffffff\">     &gt; </span><span style=\"color: #101010; text-decoration-color: #101010; background-color: #ffffff\">1|</span><span style=\"color: #0011aa; text-decoration-color: #0011aa; background-color: #ffffff\"> fig</span><span style=\"color: #783114; text-decoration-color: #783114; background-color: #ffffff\">,</span><span style=\"color: #0011aa; text-decoration-color: #0011aa; background-color: #ffffff\"> axes</span><span style=\"color: #783114; text-decoration-color: #783114; background-color: #ffffff\"> =</span><span style=\"color: #0011aa; text-decoration-color: #0011aa; background-color: #ffffff\"> plt</span><span style=\"color: #783114; text-decoration-color: #783114; background-color: #ffffff\">.</span><span style=\"color: #0011aa; text-decoration-color: #0011aa; background-color: #ffffff\">subplots</span><span style=\"color: #783114; text-decoration-color: #783114; background-color: #ffffff\">(</span><span style=\"color: #0011aa; text-decoration-color: #0011aa; background-color: #ffffff\">nrows</span><span style=\"color: #783114; text-decoration-color: #783114; background-color: #ffffff\"> =</span><span style=\"color: #101010; text-decoration-color: #101010; background-color: #ffffff\"> 2</span><span style=\"color: #783114; text-decoration-color: #783114; background-color: #ffffff\">,</span><span style=\"color: #0011aa; text-decoration-color: #0011aa; background-color: #ffffff\"> ncols</span><span style=\"color: #783114; text-decoration-color: #783114; background-color: #ffffff\"> =</span><span style=\"color: #101010; text-decoration-color: #101010; background-color: #ffffff\"> 2</span><span style=\"color: #783114; text-decoration-color: #783114; background-color: #ffffff\">)</span>\n",
       "<span style=\"color: #808080; text-decoration-color: #808080; background-color: #ffffff\">       2|</span><span style=\"color: #0011aa; text-decoration-color: #0011aa; background-color: #ffffff\"> fig</span><span style=\"color: #783114; text-decoration-color: #783114; background-color: #ffffff\">.</span><span style=\"color: #0011aa; text-decoration-color: #0011aa; background-color: #ffffff\">set_size_inches</span><span style=\"color: #783114; text-decoration-color: #783114; background-color: #ffffff\">(</span><span style=\"color: #101010; text-decoration-color: #101010; background-color: #ffffff\">12</span><span style=\"color: #783114; text-decoration-color: #783114; background-color: #ffffff\">,</span><span style=\"color: #101010; text-decoration-color: #101010; background-color: #ffffff\"> 10</span><span style=\"color: #783114; text-decoration-color: #783114; background-color: #ffffff\">)</span>\n",
       "\n",
       "<span style=\"color: #101010; text-decoration-color: #101010; background-color: #ffffff\">    </span><span style=\"color: #0011aa; text-decoration-color: #0011aa; background-color: #ffffff\">plt</span><span style=\"color: #783114; text-decoration-color: #783114; background-color: #ffffff\">:</span><span style=\"color: #101010; text-decoration-color: #101010; background-color: #ffffff\">  </span><span style=\"background-color: #ffffff\">                                                                                          </span>\n",
       "<span style=\"color: #101010; text-decoration-color: #101010; background-color: #ffffff\">        </span><span style=\"color: #783114; text-decoration-color: #783114; background-color: #ffffff\">((</span><span style=\"color: #0011aa; text-decoration-color: #0011aa; background-color: #ffffff\">array</span><span style=\"color: #783114; text-decoration-color: #783114; background-color: #ffffff\">([-</span><span style=\"color: #101010; text-decoration-color: #101010; background-color: #ffffff\">3.77627465</span><span style=\"color: #783114; text-decoration-color: #783114; background-color: #ffffff\">,</span><span style=\"color: #101010; text-decoration-color: #101010; background-color: #ffffff\"> </span><span style=\"color: #783114; text-decoration-color: #783114; background-color: #ffffff\">-</span><span style=\"color: #101010; text-decoration-color: #101010; background-color: #ffffff\">3.5491955 </span><span style=\"color: #783114; text-decoration-color: #783114; background-color: #ffffff\">,</span><span style=\"color: #101010; text-decoration-color: #101010; background-color: #ffffff\"> </span><span style=\"color: #783114; text-decoration-color: #783114; background-color: #ffffff\">-</span><span style=\"color: #101010; text-decoration-color: #101010; background-color: #ffffff\">3.42443716</span><span style=\"color: #783114; text-decoration-color: #783114; background-color: #ffffff\">,</span><span style=\"color: #101010; text-decoration-color: #101010; background-color: #ffffff\"> </span><span style=\"color: #783114; text-decoration-color: #783114; background-color: #ffffff\">...,</span><span style=\"color: #101010; text-decoration-color: #101010; background-color: #ffffff\">  3.42443716</span><span style=\"color: #783114; text-decoration-color: #783114; background-color: #ffffff\">,</span><span style=\"background-color: #ffffff\">                           </span>\n",
       "<span style=\"color: #101010; text-decoration-color: #101010; background-color: #ffffff\">                3.5491955 </span><span style=\"color: #783114; text-decoration-color: #783114; background-color: #ffffff\">,</span><span style=\"color: #101010; text-decoration-color: #101010; background-color: #ffffff\">  3.77627465</span><span style=\"color: #783114; text-decoration-color: #783114; background-color: #ffffff\">]),</span><span style=\"color: #101010; text-decoration-color: #101010; background-color: #ffffff\"> </span><span style=\"color: #0011aa; text-decoration-color: #0011aa; background-color: #ffffff\">array</span><span style=\"color: #783114; text-decoration-color: #783114; background-color: #ffffff\">([</span><span style=\"color: #101010; text-decoration-color: #101010; background-color: #ffffff\">  1</span><span style=\"color: #783114; text-decoration-color: #783114; background-color: #ffffff\">,</span><span style=\"color: #101010; text-decoration-color: #101010; background-color: #ffffff\">   1</span><span style=\"color: #783114; text-decoration-color: #783114; background-color: #ffffff\">,</span><span style=\"color: #101010; text-decoration-color: #101010; background-color: #ffffff\">   1</span><span style=\"color: #783114; text-decoration-color: #783114; background-color: #ffffff\">,</span><span style=\"color: #101010; text-decoration-color: #101010; background-color: #ffffff\"> </span><span style=\"color: #783114; text-decoration-color: #783114; background-color: #ffffff\">...,</span><span style=\"color: #101010; text-decoration-color: #101010; background-color: #ffffff\"> 943</span><span style=\"color: #783114; text-decoration-color: #783114; background-color: #ffffff\">,</span><span style=\"color: #101010; text-decoration-color: #101010; background-color: #ffffff\"> 9.</span><span style=\"color: #783114; text-decoration-color: #783114; background-color: #ffffff\">..</span><span style=\"background-color: #ffffff\">                     </span>\n",
       "</pre></div>"
      ],
      "text/plain": [
       "\u001b[38;2;221;0;0mException raised on line 1 of code block \u001b[0m\u001b[38;2;120;49;20;48;2;255;255;255m[\u001b[0m\u001b[38;2;16;16;16;48;2;255;255;255m26\u001b[0m\u001b[38;2;120;49;20;48;2;255;255;255m]\u001b[0m\u001b[38;2;221;0;0m?.\u001b[0m                                                     \n",
       "\n",
       "\u001b[38;2;120;49;20;48;2;255;255;255m     > \u001b[0m\u001b[38;2;16;16;16;48;2;255;255;255m1|\u001b[0m\u001b[38;2;0;17;170;48;2;255;255;255m \u001b[0m\u001b[38;2;0;17;170;48;2;255;255;255mfig\u001b[0m\u001b[38;2;120;49;20;48;2;255;255;255m,\u001b[0m\u001b[38;2;0;17;170;48;2;255;255;255m axes\u001b[0m\u001b[38;2;120;49;20;48;2;255;255;255m =\u001b[0m\u001b[38;2;0;17;170;48;2;255;255;255m plt\u001b[0m\u001b[38;2;120;49;20;48;2;255;255;255m.\u001b[0m\u001b[38;2;0;17;170;48;2;255;255;255msubplots\u001b[0m\u001b[38;2;120;49;20;48;2;255;255;255m(\u001b[0m\u001b[38;2;0;17;170;48;2;255;255;255mnrows\u001b[0m\u001b[38;2;120;49;20;48;2;255;255;255m =\u001b[0m\u001b[38;2;16;16;16;48;2;255;255;255m 2\u001b[0m\u001b[38;2;120;49;20;48;2;255;255;255m,\u001b[0m\u001b[38;2;0;17;170;48;2;255;255;255m ncols\u001b[0m\u001b[38;2;120;49;20;48;2;255;255;255m =\u001b[0m\u001b[38;2;16;16;16;48;2;255;255;255m 2\u001b[0m\u001b[38;2;120;49;20;48;2;255;255;255m)\u001b[0m\n",
       "\u001b[38;2;128;128;128;48;2;255;255;255m       2|\u001b[0m\u001b[38;2;0;17;170;48;2;255;255;255m \u001b[0m\u001b[38;2;0;17;170;48;2;255;255;255mfig\u001b[0m\u001b[38;2;120;49;20;48;2;255;255;255m.\u001b[0m\u001b[38;2;0;17;170;48;2;255;255;255mset_size_inches\u001b[0m\u001b[38;2;120;49;20;48;2;255;255;255m(\u001b[0m\u001b[38;2;16;16;16;48;2;255;255;255m12\u001b[0m\u001b[38;2;120;49;20;48;2;255;255;255m,\u001b[0m\u001b[38;2;16;16;16;48;2;255;255;255m 10\u001b[0m\u001b[38;2;120;49;20;48;2;255;255;255m)\u001b[0m\n",
       "\n",
       "\u001b[38;2;16;16;16;48;2;255;255;255m    \u001b[0m\u001b[38;2;0;17;170;48;2;255;255;255mplt\u001b[0m\u001b[38;2;120;49;20;48;2;255;255;255m:\u001b[0m\u001b[38;2;16;16;16;48;2;255;255;255m  \u001b[0m\u001b[48;2;255;255;255m                                                                                          \u001b[0m\n",
       "\u001b[38;2;16;16;16;48;2;255;255;255m        \u001b[0m\u001b[38;2;120;49;20;48;2;255;255;255m(\u001b[0m\u001b[38;2;120;49;20;48;2;255;255;255m(\u001b[0m\u001b[38;2;0;17;170;48;2;255;255;255marray\u001b[0m\u001b[38;2;120;49;20;48;2;255;255;255m(\u001b[0m\u001b[38;2;120;49;20;48;2;255;255;255m[\u001b[0m\u001b[38;2;120;49;20;48;2;255;255;255m-\u001b[0m\u001b[38;2;16;16;16;48;2;255;255;255m3.77627465\u001b[0m\u001b[38;2;120;49;20;48;2;255;255;255m,\u001b[0m\u001b[38;2;16;16;16;48;2;255;255;255m \u001b[0m\u001b[38;2;120;49;20;48;2;255;255;255m-\u001b[0m\u001b[38;2;16;16;16;48;2;255;255;255m3.5491955\u001b[0m\u001b[38;2;16;16;16;48;2;255;255;255m \u001b[0m\u001b[38;2;120;49;20;48;2;255;255;255m,\u001b[0m\u001b[38;2;16;16;16;48;2;255;255;255m \u001b[0m\u001b[38;2;120;49;20;48;2;255;255;255m-\u001b[0m\u001b[38;2;16;16;16;48;2;255;255;255m3.42443716\u001b[0m\u001b[38;2;120;49;20;48;2;255;255;255m,\u001b[0m\u001b[38;2;16;16;16;48;2;255;255;255m \u001b[0m\u001b[38;2;120;49;20;48;2;255;255;255m.\u001b[0m\u001b[38;2;120;49;20;48;2;255;255;255m.\u001b[0m\u001b[38;2;120;49;20;48;2;255;255;255m.\u001b[0m\u001b[38;2;120;49;20;48;2;255;255;255m,\u001b[0m\u001b[38;2;16;16;16;48;2;255;255;255m  \u001b[0m\u001b[38;2;16;16;16;48;2;255;255;255m3.42443716\u001b[0m\u001b[38;2;120;49;20;48;2;255;255;255m,\u001b[0m\u001b[48;2;255;255;255m                           \u001b[0m\n",
       "\u001b[38;2;16;16;16;48;2;255;255;255m                \u001b[0m\u001b[38;2;16;16;16;48;2;255;255;255m3.5491955\u001b[0m\u001b[38;2;16;16;16;48;2;255;255;255m \u001b[0m\u001b[38;2;120;49;20;48;2;255;255;255m,\u001b[0m\u001b[38;2;16;16;16;48;2;255;255;255m  \u001b[0m\u001b[38;2;16;16;16;48;2;255;255;255m3.77627465\u001b[0m\u001b[38;2;120;49;20;48;2;255;255;255m]\u001b[0m\u001b[38;2;120;49;20;48;2;255;255;255m)\u001b[0m\u001b[38;2;120;49;20;48;2;255;255;255m,\u001b[0m\u001b[38;2;16;16;16;48;2;255;255;255m \u001b[0m\u001b[38;2;0;17;170;48;2;255;255;255marray\u001b[0m\u001b[38;2;120;49;20;48;2;255;255;255m(\u001b[0m\u001b[38;2;120;49;20;48;2;255;255;255m[\u001b[0m\u001b[38;2;16;16;16;48;2;255;255;255m  \u001b[0m\u001b[38;2;16;16;16;48;2;255;255;255m1\u001b[0m\u001b[38;2;120;49;20;48;2;255;255;255m,\u001b[0m\u001b[38;2;16;16;16;48;2;255;255;255m   \u001b[0m\u001b[38;2;16;16;16;48;2;255;255;255m1\u001b[0m\u001b[38;2;120;49;20;48;2;255;255;255m,\u001b[0m\u001b[38;2;16;16;16;48;2;255;255;255m   \u001b[0m\u001b[38;2;16;16;16;48;2;255;255;255m1\u001b[0m\u001b[38;2;120;49;20;48;2;255;255;255m,\u001b[0m\u001b[38;2;16;16;16;48;2;255;255;255m \u001b[0m\u001b[38;2;120;49;20;48;2;255;255;255m.\u001b[0m\u001b[38;2;120;49;20;48;2;255;255;255m.\u001b[0m\u001b[38;2;120;49;20;48;2;255;255;255m.\u001b[0m\u001b[38;2;120;49;20;48;2;255;255;255m,\u001b[0m\u001b[38;2;16;16;16;48;2;255;255;255m \u001b[0m\u001b[38;2;16;16;16;48;2;255;255;255m943\u001b[0m\u001b[38;2;120;49;20;48;2;255;255;255m,\u001b[0m\u001b[38;2;16;16;16;48;2;255;255;255m \u001b[0m\u001b[38;2;16;16;16;48;2;255;255;255m9.\u001b[0m\u001b[38;2;120;49;20;48;2;255;255;255m.\u001b[0m\u001b[38;2;120;49;20;48;2;255;255;255m.\u001b[0m\u001b[48;2;255;255;255m                     \u001b[0m\n"
      ]
     },
     "metadata": {},
     "output_type": "display_data"
    }
   ],
   "source": [
    "fig, axes = plt.subplots(nrows = 2, ncols = 2)\n",
    "fig.set_size_inches(12, 10)\n",
    "\n",
    "sns.boxplot(data = df_train, y = \"count\"                   , orient = \"v\", ax = axes[0][0])\n",
    "sns.boxplot(data = df_train, y = \"count\", x = \"season\"     , orient = \"v\", ax = axes[0][1])\n",
    "sns.boxplot(data = df_train, y = \"count\", x = \"hour\"       , orient = \"v\", ax = axes[1][0])\n",
    "sns.boxplot(data = df_train, y = \"count\", x = \"workingday\" , orient = \"v\", ax = axes[1][1])\n",
    "\n",
    "axes[0][0].set(                             ylabel = 'Count', title = \"Box Plot On Count\")\n",
    "axes[0][1].set(xlabel = 'Season'          , ylabel = 'Count', title = \"Box Plot On Count Across Season\")\n",
    "axes[1][0].set(xlabel = 'Hour Of The Day' , ylabel = 'Count', title = \"Box Plot On Count Across Hour Of The Day\")\n",
    "axes[1][1].set(xlabel = 'Working Day'     , ylabel = 'Count', title = \"Box Plot On Count Across Working Day\")"
   ]
  },
  {
   "cell_type": "code",
   "execution_count": 27,
   "id": "5366a5e1",
   "metadata": {
    "hidden": true
   },
   "outputs": [
    {
     "data": {
      "text/html": [
       "<div id='friendly-message7'><pre style='white-space:pre;overflow-x:auto;line-height:normal'><span style=\"color: #dd0000; text-decoration-color: #dd0000; background-color: #ffffff\">AttributeError</span>: 'tuple' object has no attribute 'subplots'            \n",
       "</pre></div>"
      ],
      "text/plain": [
       "\u001b[38;2;221;0;0;48;2;255;255;255mAttributeError\u001b[0m: 'tuple' object has no attribute 'subplots'            \n"
      ]
     },
     "metadata": {},
     "output_type": "display_data"
    },
    {
     "data": {
      "text/html": [
       "\n",
       "        <button\n",
       "            id='friendly-tb-btn-show7'\n",
       "            onclick='friendly_toggle_more7()'\n",
       "            style=''>\n",
       "        More ...\n",
       "        </button>\n",
       "        <script type=\"text/Javascript\"> function friendly_toggle_more7(){\n",
       "        var btn = document.getElementById('friendly-tb-btn-show7');\n",
       "        var btn_what = document.getElementById('friendly-tb-btn-show-what7');\n",
       "        var btn_where = document.getElementById('friendly-tb-btn-show-where7');\n",
       "        var btn_why = document.getElementById('friendly-tb-btn-show-why7');\n",
       "        ;\n",
       "        var message = document.getElementById('friendly-message7');\n",
       "        var friendly_tb_content = document.getElementById('friendly-tb-friendly_tb-content7');\n",
       "        var what_content = document.getElementById('friendly-tb-what-content7');\n",
       "        var why_content = document.getElementById('friendly-tb-why-content7');\n",
       "        var where_content = document.getElementById('friendly-tb-where-content7');\n",
       "        ;\n",
       "\n",
       "        if (btn_what.style.display == 'none'){\n",
       "            message.style.display = 'none';\n",
       "            btn_what.style.display = 'block';\n",
       "            btn_why.style.display = 'block';\n",
       "            btn_where.style.display = 'block';\n",
       "            friendly_tb_content.style.display = 'block';\n",
       "            ;\n",
       "            btn.textContent = \"Show message only\";\n",
       "            ;\n",
       "        } else {\n",
       "            btn_what.style.display = 'none';\n",
       "            btn_what.textContent = 'what()';\n",
       "            btn_why.style.display = 'none';\n",
       "            btn_why.textContent = 'why()';\n",
       "            btn_where.style.display = 'none';\n",
       "            btn_where.textContent = 'where()';\n",
       "            what_content.style.display = 'none';\n",
       "            why_content.style.display = 'none';\n",
       "            where_content.style.display = 'none';\n",
       "            ;\n",
       "            friendly_tb_content.style.display = 'none';\n",
       "            message.style.display = 'block';\n",
       "            btn.textContent = \"More ...\";\n",
       "            ;\n",
       "        }\n",
       "        };\n",
       "        </script>\n",
       "        "
      ]
     },
     "metadata": {},
     "output_type": "display_data"
    },
    {
     "data": {
      "text/html": [
       "<div id='friendly-tb-friendly_tb-content7' style='display:none'><pre style='white-space:pre;overflow-x:auto;line-height:normal'><span style=\"color: #dd0000; text-decoration-color: #dd0000; background-color: #ffffff\">Traceback (most recent call last):</span><span style=\"background-color: #ffffff\">                                                                  </span>\n",
       "<span style=\"color: #101010; text-decoration-color: #101010; background-color: #ffffff\">  File </span><span style=\"color: #005500; text-decoration-color: #005500; background-color: #ffffff\">\"[27]?\"</span><span style=\"color: #101010; text-decoration-color: #101010; background-color: #ffffff\">, line 1, in </span><span style=\"color: #0011aa; text-decoration-color: #0011aa; background-color: #ffffff\">&lt;cell line: 1&gt;</span><span style=\"background-color: #ffffff\">                                                           </span>\n",
       "<span style=\"color: #101010; text-decoration-color: #101010; background-color: #ffffff\">    </span><span style=\"color: #0011aa; text-decoration-color: #0011aa; background-color: #ffffff\">fig</span><span style=\"color: #783114; text-decoration-color: #783114; background-color: #ffffff\">,(</span><span style=\"color: #0011aa; text-decoration-color: #0011aa; background-color: #ffffff\">ax1</span><span style=\"color: #783114; text-decoration-color: #783114; background-color: #ffffff\">,</span><span style=\"color: #0011aa; text-decoration-color: #0011aa; background-color: #ffffff\">ax2</span><span style=\"color: #783114; text-decoration-color: #783114; background-color: #ffffff\">,</span><span style=\"color: #0011aa; text-decoration-color: #0011aa; background-color: #ffffff\">ax3</span><span style=\"color: #783114; text-decoration-color: #783114; background-color: #ffffff\">)=</span><span style=\"color: #101010; text-decoration-color: #101010; background-color: #ffffff\"> </span><span style=\"color: #0011aa; text-decoration-color: #0011aa; background-color: #ffffff\">plt</span><span style=\"color: #783114; text-decoration-color: #783114; background-color: #ffffff\">.</span><span style=\"color: #0011aa; text-decoration-color: #0011aa; background-color: #ffffff\">subplots</span><span style=\"color: #783114; text-decoration-color: #783114; background-color: #ffffff\">(</span><span style=\"color: #0011aa; text-decoration-color: #0011aa; background-color: #ffffff\">nrows</span><span style=\"color: #783114; text-decoration-color: #783114; background-color: #ffffff\">=</span><span style=\"color: #101010; text-decoration-color: #101010; background-color: #ffffff\">3</span><span style=\"color: #783114; text-decoration-color: #783114; background-color: #ffffff\">)</span><span style=\"background-color: #ffffff\">                                                        </span>\n",
       "<span style=\"color: #dd0000; text-decoration-color: #dd0000; background-color: #ffffff\">AttributeError</span><span style=\"color: #101010; text-decoration-color: #101010; background-color: #ffffff\">: </span><span style=\"color: #0011aa; text-decoration-color: #0011aa; background-color: #ffffff\">'tuple' object has no attribute 'subplots'</span><span style=\"background-color: #ffffff\">                                          </span>\n",
       "</pre></div>"
      ],
      "text/plain": [
       "\u001b[38;2;221;0;0;48;2;255;255;255mTraceback (most recent call last):\u001b[0m\u001b[48;2;255;255;255m                                                                  \u001b[0m\n",
       "\u001b[38;2;16;16;16;48;2;255;255;255m  File \u001b[0m\u001b[38;2;0;85;0;48;2;255;255;255m\"[27]?\"\u001b[0m\u001b[38;2;16;16;16;48;2;255;255;255m, line \u001b[0m\u001b[38;2;16;16;16;48;2;255;255;255m1\u001b[0m\u001b[38;2;16;16;16;48;2;255;255;255m, in \u001b[0m\u001b[38;2;0;17;170;48;2;255;255;255m<cell line: 1>\u001b[0m\u001b[48;2;255;255;255m                                                           \u001b[0m\n",
       "\u001b[38;2;16;16;16;48;2;255;255;255m    \u001b[0m\u001b[38;2;0;17;170;48;2;255;255;255mfig\u001b[0m\u001b[38;2;120;49;20;48;2;255;255;255m,\u001b[0m\u001b[38;2;120;49;20;48;2;255;255;255m(\u001b[0m\u001b[38;2;0;17;170;48;2;255;255;255max1\u001b[0m\u001b[38;2;120;49;20;48;2;255;255;255m,\u001b[0m\u001b[38;2;0;17;170;48;2;255;255;255max2\u001b[0m\u001b[38;2;120;49;20;48;2;255;255;255m,\u001b[0m\u001b[38;2;0;17;170;48;2;255;255;255max3\u001b[0m\u001b[38;2;120;49;20;48;2;255;255;255m)\u001b[0m\u001b[38;2;120;49;20;48;2;255;255;255m=\u001b[0m\u001b[38;2;16;16;16;48;2;255;255;255m \u001b[0m\u001b[38;2;0;17;170;48;2;255;255;255mplt\u001b[0m\u001b[38;2;120;49;20;48;2;255;255;255m.\u001b[0m\u001b[38;2;0;17;170;48;2;255;255;255msubplots\u001b[0m\u001b[38;2;120;49;20;48;2;255;255;255m(\u001b[0m\u001b[38;2;0;17;170;48;2;255;255;255mnrows\u001b[0m\u001b[38;2;120;49;20;48;2;255;255;255m=\u001b[0m\u001b[38;2;16;16;16;48;2;255;255;255m3\u001b[0m\u001b[38;2;120;49;20;48;2;255;255;255m)\u001b[0m\u001b[48;2;255;255;255m                                                        \u001b[0m\n",
       "\u001b[38;2;221;0;0;48;2;255;255;255mAttributeError\u001b[0m\u001b[38;2;16;16;16;48;2;255;255;255m: \u001b[0m\u001b[38;2;0;17;170;48;2;255;255;255m'tuple' object has no attribute 'subplots'\u001b[0m\u001b[48;2;255;255;255m                                          \u001b[0m\n"
      ]
     },
     "metadata": {},
     "output_type": "display_data"
    },
    {
     "data": {
      "text/html": [
       "<script type=\"text/Javascript\"> function toggle_what7(){\n",
       "     var content = document.getElementById('friendly-tb-what-content7');\n",
       "     var btn = document.getElementById('friendly-tb-btn-show-what7');\n",
       "        if (content.style.display === 'none') {\n",
       "            content.style.display = 'block';\n",
       "            btn.textContent = \"Hide what()\";\n",
       "        } else {\n",
       "            content.style.display = 'none';\n",
       "            btn.textContent = \"what()\";\n",
       "       }\n",
       "    }\n",
       "     </script>\n",
       "     <button\n",
       "         id='friendly-tb-btn-show-what7'\n",
       "         onclick='toggle_what7()'\n",
       "         style='display:none '>\n",
       "     what()\n",
       "     </button>\n",
       "    "
      ]
     },
     "metadata": {},
     "output_type": "display_data"
    },
    {
     "data": {
      "text/html": [
       "<div id='friendly-tb-what-content7' style='display:none'><pre style='white-space:pre;overflow-x:auto;line-height:normal'>An <span style=\"color: #dd0000; text-decoration-color: #dd0000; background-color: #ffffff\">AttributeError</span> occurs when the code contains something like        \n",
       "<span style=\"color: #005500; text-decoration-color: #005500; background-color: #ffffff\">object</span><span style=\"color: #783114; text-decoration-color: #783114; background-color: #ffffff\">.</span><span style=\"color: #0011aa; text-decoration-color: #0011aa; background-color: #ffffff\">x</span> and <span style=\"color: #0011aa; text-decoration-color: #0011aa; background-color: #ffffff\">x</span> is not a method or attribute (variable) belonging to   \n",
       "<span style=\"color: #005500; text-decoration-color: #005500; background-color: #ffffff\">object</span>.                                                               \n",
       "</pre></div>"
      ],
      "text/plain": [
       "An \u001b[38;2;221;0;0;48;2;255;255;255mAttributeError\u001b[0m occurs when the code contains something like        \n",
       "\u001b[38;2;0;85;0;48;2;255;255;255mobject\u001b[0m\u001b[38;2;120;49;20;48;2;255;255;255m.\u001b[0m\u001b[38;2;0;17;170;48;2;255;255;255mx\u001b[0m and \u001b[38;2;0;17;170;48;2;255;255;255mx\u001b[0m is not a method or attribute (variable) belonging to   \n",
       "\u001b[38;2;0;85;0;48;2;255;255;255mobject\u001b[0m.                                                               \n"
      ]
     },
     "metadata": {},
     "output_type": "display_data"
    },
    {
     "data": {
      "text/html": [
       "<script type=\"text/Javascript\"> function toggle_why7(){\n",
       "     var content = document.getElementById('friendly-tb-why-content7');\n",
       "     var btn = document.getElementById('friendly-tb-btn-show-why7');\n",
       "        if (content.style.display === 'none') {\n",
       "            content.style.display = 'block';\n",
       "            btn.textContent = \"Hide why()\";\n",
       "        } else {\n",
       "            content.style.display = 'none';\n",
       "            btn.textContent = \"why()\";\n",
       "       }\n",
       "    }\n",
       "     </script>\n",
       "     <button\n",
       "         id='friendly-tb-btn-show-why7'\n",
       "         onclick='toggle_why7()'\n",
       "         style='display:none '>\n",
       "     why()\n",
       "     </button>\n",
       "    "
      ]
     },
     "metadata": {},
     "output_type": "display_data"
    },
    {
     "data": {
      "text/html": [
       "<div id='friendly-tb-why-content7' style='display:none'><pre style='white-space:pre;overflow-x:auto;line-height:normal'>The object <span style=\"color: #0011aa; text-decoration-color: #0011aa; background-color: #ffffff\">plt</span> has no attribute named <span style=\"color: #0011aa; text-decoration-color: #0011aa; background-color: #ffffff\">subplots</span>. The following are some\n",
       "of its known attributes: <span style=\"color: #0011aa; text-decoration-color: #0011aa; background-color: #ffffff\">count</span><span style=\"color: #783114; text-decoration-color: #783114; background-color: #ffffff\">,</span><span style=\"color: #101010; text-decoration-color: #101010; background-color: #ffffff\"> </span><span style=\"color: #0011aa; text-decoration-color: #0011aa; background-color: #ffffff\">index</span>.                                \n",
       "</pre></div>"
      ],
      "text/plain": [
       "The object \u001b[38;2;0;17;170;48;2;255;255;255mplt\u001b[0m has no attribute named \u001b[38;2;0;17;170;48;2;255;255;255msubplots\u001b[0m. The following are some\n",
       "of its known attributes: \u001b[38;2;0;17;170;48;2;255;255;255mcount\u001b[0m\u001b[38;2;120;49;20;48;2;255;255;255m,\u001b[0m\u001b[38;2;16;16;16;48;2;255;255;255m \u001b[0m\u001b[38;2;0;17;170;48;2;255;255;255mindex\u001b[0m.                                \n"
      ]
     },
     "metadata": {},
     "output_type": "display_data"
    },
    {
     "data": {
      "text/html": [
       "<script type=\"text/Javascript\"> function toggle_where7(){\n",
       "     var content = document.getElementById('friendly-tb-where-content7');\n",
       "     var btn = document.getElementById('friendly-tb-btn-show-where7');\n",
       "        if (content.style.display === 'none') {\n",
       "            content.style.display = 'block';\n",
       "            btn.textContent = \"Hide where()\";\n",
       "        } else {\n",
       "            content.style.display = 'none';\n",
       "            btn.textContent = \"where()\";\n",
       "       }\n",
       "    }\n",
       "     </script>\n",
       "     <button\n",
       "         id='friendly-tb-btn-show-where7'\n",
       "         onclick='toggle_where7()'\n",
       "         style='display:none '>\n",
       "     where()\n",
       "     </button>\n",
       "    "
      ]
     },
     "metadata": {},
     "output_type": "display_data"
    },
    {
     "data": {
      "text/html": [
       "<div id='friendly-tb-where-content7' style='display:none'><pre style='white-space:pre;overflow-x:auto;line-height:normal'><span style=\"color: #dd0000; text-decoration-color: #dd0000\">Exception raised on line 1 of code block </span><span style=\"color: #783114; text-decoration-color: #783114; background-color: #ffffff\">[</span><span style=\"color: #101010; text-decoration-color: #101010; background-color: #ffffff\">27</span><span style=\"color: #783114; text-decoration-color: #783114; background-color: #ffffff\">]</span><span style=\"color: #dd0000; text-decoration-color: #dd0000\">?.</span>                                                     \n",
       "\n",
       "<span style=\"color: #783114; text-decoration-color: #783114; background-color: #ffffff\">     &gt; </span><span style=\"color: #101010; text-decoration-color: #101010; background-color: #ffffff\">1|</span><span style=\"color: #0011aa; text-decoration-color: #0011aa; background-color: #ffffff\"> fig</span><span style=\"color: #783114; text-decoration-color: #783114; background-color: #ffffff\">,(</span><span style=\"color: #0011aa; text-decoration-color: #0011aa; background-color: #ffffff\">ax1</span><span style=\"color: #783114; text-decoration-color: #783114; background-color: #ffffff\">,</span><span style=\"color: #0011aa; text-decoration-color: #0011aa; background-color: #ffffff\">ax2</span><span style=\"color: #783114; text-decoration-color: #783114; background-color: #ffffff\">,</span><span style=\"color: #0011aa; text-decoration-color: #0011aa; background-color: #ffffff\">ax3</span><span style=\"color: #783114; text-decoration-color: #783114; background-color: #ffffff\">)=</span><span style=\"color: #0011aa; text-decoration-color: #0011aa; background-color: #ffffff\"> plt</span><span style=\"color: #783114; text-decoration-color: #783114; background-color: #ffffff\">.</span><span style=\"color: #0011aa; text-decoration-color: #0011aa; background-color: #ffffff\">subplots</span><span style=\"color: #783114; text-decoration-color: #783114; background-color: #ffffff\">(</span><span style=\"color: #0011aa; text-decoration-color: #0011aa; background-color: #ffffff\">nrows</span><span style=\"color: #783114; text-decoration-color: #783114; background-color: #ffffff\">=</span><span style=\"color: #101010; text-decoration-color: #101010; background-color: #ffffff\">3</span><span style=\"color: #783114; text-decoration-color: #783114; background-color: #ffffff\">)</span>\n",
       "<span style=\"color: #808080; text-decoration-color: #808080; background-color: #ffffff\">       2|</span><span style=\"color: #0011aa; text-decoration-color: #0011aa; background-color: #ffffff\"> fig</span><span style=\"color: #783114; text-decoration-color: #783114; background-color: #ffffff\">.</span><span style=\"color: #0011aa; text-decoration-color: #0011aa; background-color: #ffffff\">set_size_inches</span><span style=\"color: #783114; text-decoration-color: #783114; background-color: #ffffff\">(</span><span style=\"color: #101010; text-decoration-color: #101010; background-color: #ffffff\">12</span><span style=\"color: #783114; text-decoration-color: #783114; background-color: #ffffff\">,</span><span style=\"color: #101010; text-decoration-color: #101010; background-color: #ffffff\">20</span><span style=\"color: #783114; text-decoration-color: #783114; background-color: #ffffff\">)</span>\n",
       "\n",
       "<span style=\"color: #101010; text-decoration-color: #101010; background-color: #ffffff\">    </span><span style=\"color: #0011aa; text-decoration-color: #0011aa; background-color: #ffffff\">plt</span><span style=\"color: #783114; text-decoration-color: #783114; background-color: #ffffff\">:</span><span style=\"color: #101010; text-decoration-color: #101010; background-color: #ffffff\">  </span><span style=\"background-color: #ffffff\">                                                                                          </span>\n",
       "<span style=\"color: #101010; text-decoration-color: #101010; background-color: #ffffff\">        </span><span style=\"color: #783114; text-decoration-color: #783114; background-color: #ffffff\">((</span><span style=\"color: #0011aa; text-decoration-color: #0011aa; background-color: #ffffff\">array</span><span style=\"color: #783114; text-decoration-color: #783114; background-color: #ffffff\">([-</span><span style=\"color: #101010; text-decoration-color: #101010; background-color: #ffffff\">3.77627465</span><span style=\"color: #783114; text-decoration-color: #783114; background-color: #ffffff\">,</span><span style=\"color: #101010; text-decoration-color: #101010; background-color: #ffffff\"> </span><span style=\"color: #783114; text-decoration-color: #783114; background-color: #ffffff\">-</span><span style=\"color: #101010; text-decoration-color: #101010; background-color: #ffffff\">3.5491955 </span><span style=\"color: #783114; text-decoration-color: #783114; background-color: #ffffff\">,</span><span style=\"color: #101010; text-decoration-color: #101010; background-color: #ffffff\"> </span><span style=\"color: #783114; text-decoration-color: #783114; background-color: #ffffff\">-</span><span style=\"color: #101010; text-decoration-color: #101010; background-color: #ffffff\">3.42443716</span><span style=\"color: #783114; text-decoration-color: #783114; background-color: #ffffff\">,</span><span style=\"color: #101010; text-decoration-color: #101010; background-color: #ffffff\"> </span><span style=\"color: #783114; text-decoration-color: #783114; background-color: #ffffff\">...,</span><span style=\"color: #101010; text-decoration-color: #101010; background-color: #ffffff\">  3.42443716</span><span style=\"color: #783114; text-decoration-color: #783114; background-color: #ffffff\">,</span><span style=\"background-color: #ffffff\">                           </span>\n",
       "<span style=\"color: #101010; text-decoration-color: #101010; background-color: #ffffff\">                3.5491955 </span><span style=\"color: #783114; text-decoration-color: #783114; background-color: #ffffff\">,</span><span style=\"color: #101010; text-decoration-color: #101010; background-color: #ffffff\">  3.77627465</span><span style=\"color: #783114; text-decoration-color: #783114; background-color: #ffffff\">]),</span><span style=\"color: #101010; text-decoration-color: #101010; background-color: #ffffff\"> </span><span style=\"color: #0011aa; text-decoration-color: #0011aa; background-color: #ffffff\">array</span><span style=\"color: #783114; text-decoration-color: #783114; background-color: #ffffff\">([</span><span style=\"color: #101010; text-decoration-color: #101010; background-color: #ffffff\">  1</span><span style=\"color: #783114; text-decoration-color: #783114; background-color: #ffffff\">,</span><span style=\"color: #101010; text-decoration-color: #101010; background-color: #ffffff\">   1</span><span style=\"color: #783114; text-decoration-color: #783114; background-color: #ffffff\">,</span><span style=\"color: #101010; text-decoration-color: #101010; background-color: #ffffff\">   1</span><span style=\"color: #783114; text-decoration-color: #783114; background-color: #ffffff\">,</span><span style=\"color: #101010; text-decoration-color: #101010; background-color: #ffffff\"> </span><span style=\"color: #783114; text-decoration-color: #783114; background-color: #ffffff\">...,</span><span style=\"color: #101010; text-decoration-color: #101010; background-color: #ffffff\"> 943</span><span style=\"color: #783114; text-decoration-color: #783114; background-color: #ffffff\">,</span><span style=\"color: #101010; text-decoration-color: #101010; background-color: #ffffff\"> 9.</span><span style=\"color: #783114; text-decoration-color: #783114; background-color: #ffffff\">..</span><span style=\"background-color: #ffffff\">                     </span>\n",
       "</pre></div>"
      ],
      "text/plain": [
       "\u001b[38;2;221;0;0mException raised on line 1 of code block \u001b[0m\u001b[38;2;120;49;20;48;2;255;255;255m[\u001b[0m\u001b[38;2;16;16;16;48;2;255;255;255m27\u001b[0m\u001b[38;2;120;49;20;48;2;255;255;255m]\u001b[0m\u001b[38;2;221;0;0m?.\u001b[0m                                                     \n",
       "\n",
       "\u001b[38;2;120;49;20;48;2;255;255;255m     > \u001b[0m\u001b[38;2;16;16;16;48;2;255;255;255m1|\u001b[0m\u001b[38;2;0;17;170;48;2;255;255;255m \u001b[0m\u001b[38;2;0;17;170;48;2;255;255;255mfig\u001b[0m\u001b[38;2;120;49;20;48;2;255;255;255m,\u001b[0m\u001b[38;2;120;49;20;48;2;255;255;255m(\u001b[0m\u001b[38;2;0;17;170;48;2;255;255;255max1\u001b[0m\u001b[38;2;120;49;20;48;2;255;255;255m,\u001b[0m\u001b[38;2;0;17;170;48;2;255;255;255max2\u001b[0m\u001b[38;2;120;49;20;48;2;255;255;255m,\u001b[0m\u001b[38;2;0;17;170;48;2;255;255;255max3\u001b[0m\u001b[38;2;120;49;20;48;2;255;255;255m)\u001b[0m\u001b[38;2;120;49;20;48;2;255;255;255m=\u001b[0m\u001b[38;2;0;17;170;48;2;255;255;255m plt\u001b[0m\u001b[38;2;120;49;20;48;2;255;255;255m.\u001b[0m\u001b[38;2;0;17;170;48;2;255;255;255msubplots\u001b[0m\u001b[38;2;120;49;20;48;2;255;255;255m(\u001b[0m\u001b[38;2;0;17;170;48;2;255;255;255mnrows\u001b[0m\u001b[38;2;120;49;20;48;2;255;255;255m=\u001b[0m\u001b[38;2;16;16;16;48;2;255;255;255m3\u001b[0m\u001b[38;2;120;49;20;48;2;255;255;255m)\u001b[0m\n",
       "\u001b[38;2;128;128;128;48;2;255;255;255m       2|\u001b[0m\u001b[38;2;0;17;170;48;2;255;255;255m \u001b[0m\u001b[38;2;0;17;170;48;2;255;255;255mfig\u001b[0m\u001b[38;2;120;49;20;48;2;255;255;255m.\u001b[0m\u001b[38;2;0;17;170;48;2;255;255;255mset_size_inches\u001b[0m\u001b[38;2;120;49;20;48;2;255;255;255m(\u001b[0m\u001b[38;2;16;16;16;48;2;255;255;255m12\u001b[0m\u001b[38;2;120;49;20;48;2;255;255;255m,\u001b[0m\u001b[38;2;16;16;16;48;2;255;255;255m20\u001b[0m\u001b[38;2;120;49;20;48;2;255;255;255m)\u001b[0m\n",
       "\n",
       "\u001b[38;2;16;16;16;48;2;255;255;255m    \u001b[0m\u001b[38;2;0;17;170;48;2;255;255;255mplt\u001b[0m\u001b[38;2;120;49;20;48;2;255;255;255m:\u001b[0m\u001b[38;2;16;16;16;48;2;255;255;255m  \u001b[0m\u001b[48;2;255;255;255m                                                                                          \u001b[0m\n",
       "\u001b[38;2;16;16;16;48;2;255;255;255m        \u001b[0m\u001b[38;2;120;49;20;48;2;255;255;255m(\u001b[0m\u001b[38;2;120;49;20;48;2;255;255;255m(\u001b[0m\u001b[38;2;0;17;170;48;2;255;255;255marray\u001b[0m\u001b[38;2;120;49;20;48;2;255;255;255m(\u001b[0m\u001b[38;2;120;49;20;48;2;255;255;255m[\u001b[0m\u001b[38;2;120;49;20;48;2;255;255;255m-\u001b[0m\u001b[38;2;16;16;16;48;2;255;255;255m3.77627465\u001b[0m\u001b[38;2;120;49;20;48;2;255;255;255m,\u001b[0m\u001b[38;2;16;16;16;48;2;255;255;255m \u001b[0m\u001b[38;2;120;49;20;48;2;255;255;255m-\u001b[0m\u001b[38;2;16;16;16;48;2;255;255;255m3.5491955\u001b[0m\u001b[38;2;16;16;16;48;2;255;255;255m \u001b[0m\u001b[38;2;120;49;20;48;2;255;255;255m,\u001b[0m\u001b[38;2;16;16;16;48;2;255;255;255m \u001b[0m\u001b[38;2;120;49;20;48;2;255;255;255m-\u001b[0m\u001b[38;2;16;16;16;48;2;255;255;255m3.42443716\u001b[0m\u001b[38;2;120;49;20;48;2;255;255;255m,\u001b[0m\u001b[38;2;16;16;16;48;2;255;255;255m \u001b[0m\u001b[38;2;120;49;20;48;2;255;255;255m.\u001b[0m\u001b[38;2;120;49;20;48;2;255;255;255m.\u001b[0m\u001b[38;2;120;49;20;48;2;255;255;255m.\u001b[0m\u001b[38;2;120;49;20;48;2;255;255;255m,\u001b[0m\u001b[38;2;16;16;16;48;2;255;255;255m  \u001b[0m\u001b[38;2;16;16;16;48;2;255;255;255m3.42443716\u001b[0m\u001b[38;2;120;49;20;48;2;255;255;255m,\u001b[0m\u001b[48;2;255;255;255m                           \u001b[0m\n",
       "\u001b[38;2;16;16;16;48;2;255;255;255m                \u001b[0m\u001b[38;2;16;16;16;48;2;255;255;255m3.5491955\u001b[0m\u001b[38;2;16;16;16;48;2;255;255;255m \u001b[0m\u001b[38;2;120;49;20;48;2;255;255;255m,\u001b[0m\u001b[38;2;16;16;16;48;2;255;255;255m  \u001b[0m\u001b[38;2;16;16;16;48;2;255;255;255m3.77627465\u001b[0m\u001b[38;2;120;49;20;48;2;255;255;255m]\u001b[0m\u001b[38;2;120;49;20;48;2;255;255;255m)\u001b[0m\u001b[38;2;120;49;20;48;2;255;255;255m,\u001b[0m\u001b[38;2;16;16;16;48;2;255;255;255m \u001b[0m\u001b[38;2;0;17;170;48;2;255;255;255marray\u001b[0m\u001b[38;2;120;49;20;48;2;255;255;255m(\u001b[0m\u001b[38;2;120;49;20;48;2;255;255;255m[\u001b[0m\u001b[38;2;16;16;16;48;2;255;255;255m  \u001b[0m\u001b[38;2;16;16;16;48;2;255;255;255m1\u001b[0m\u001b[38;2;120;49;20;48;2;255;255;255m,\u001b[0m\u001b[38;2;16;16;16;48;2;255;255;255m   \u001b[0m\u001b[38;2;16;16;16;48;2;255;255;255m1\u001b[0m\u001b[38;2;120;49;20;48;2;255;255;255m,\u001b[0m\u001b[38;2;16;16;16;48;2;255;255;255m   \u001b[0m\u001b[38;2;16;16;16;48;2;255;255;255m1\u001b[0m\u001b[38;2;120;49;20;48;2;255;255;255m,\u001b[0m\u001b[38;2;16;16;16;48;2;255;255;255m \u001b[0m\u001b[38;2;120;49;20;48;2;255;255;255m.\u001b[0m\u001b[38;2;120;49;20;48;2;255;255;255m.\u001b[0m\u001b[38;2;120;49;20;48;2;255;255;255m.\u001b[0m\u001b[38;2;120;49;20;48;2;255;255;255m,\u001b[0m\u001b[38;2;16;16;16;48;2;255;255;255m \u001b[0m\u001b[38;2;16;16;16;48;2;255;255;255m943\u001b[0m\u001b[38;2;120;49;20;48;2;255;255;255m,\u001b[0m\u001b[38;2;16;16;16;48;2;255;255;255m \u001b[0m\u001b[38;2;16;16;16;48;2;255;255;255m9.\u001b[0m\u001b[38;2;120;49;20;48;2;255;255;255m.\u001b[0m\u001b[38;2;120;49;20;48;2;255;255;255m.\u001b[0m\u001b[48;2;255;255;255m                     \u001b[0m\n"
      ]
     },
     "metadata": {},
     "output_type": "display_data"
    }
   ],
   "source": [
    "fig,(ax1,ax2,ax3)= plt.subplots(nrows=3)\n",
    "fig.set_size_inches(12,20)\n",
    "\n",
    "sortOrder = [\"January\",\"February\",\"March\",\"April\",\"May\",\"June\",\"July\",\"August\",\"September\",\"October\",\"November\",\"December\"]\n",
    "hueOrder = [\"Sunday\",\"Monday\",\"Tuesday\",\"Wednesday\",\"Thursday\",\"Friday\",\"Saturday\"]\n",
    "\n",
    "monthAggregated = pd.DataFrame(df_train.groupby(\"month\")[\"count\"].mean()).reset_index()\n",
    "monthSorted = monthAggregated.sort_values(by=\"count\",ascending=False)\n",
    "sns.barplot(data=monthSorted,x=\"month\",y=\"count\",ax=ax1,order=sortOrder)\n",
    "ax1.set(xlabel='Month', ylabel='Avearage Count',title=\"Average Count By Month\")\n",
    "\n",
    "hourAggregated = pd.DataFrame(df_train.groupby([\"hour\",\"season\"],sort=True)[\"count\"].mean()).reset_index()\n",
    "sns.pointplot(x=hourAggregated[\"hour\"], y=hourAggregated[\"count\"],hue=hourAggregated[\"season\"], data=hourAggregated, join=True,ax=ax2)\n",
    "ax2.set(xlabel='Hour Of The Day', ylabel='Users Count',title=\"Average Users Count By Hour Of The Day Across Season\",label='big')\n",
    "\n",
    "hourAggregated = pd.DataFrame(df_train.groupby([\"hour\",\"weekday\"],sort=True)[\"count\"].mean()).reset_index()\n",
    "sns.pointplot(x=hourAggregated[\"hour\"], y=hourAggregated[\"count\"],hue=hourAggregated[\"weekday\"],hue_order=hueOrder, data=hourAggregated, join=True,ax=ax3)\n",
    "ax3.set(xlabel='Hour Of The Day', ylabel='Users Count',title=\"Average Users Count By Hour Of The Day Across Weekdays\",label='big')\n"
   ]
  },
  {
   "cell_type": "code",
   "execution_count": null,
   "id": "0af8bc84",
   "metadata": {
    "hidden": true
   },
   "outputs": [],
   "source": [
    "sns.lineplot(x = 'month', y = 'count', data = df_train, estimator = np.average, hue = 'weather', palette = 'coolwarm')"
   ]
  },
  {
   "cell_type": "code",
   "execution_count": null,
   "id": "9c0ed88c",
   "metadata": {
    "hidden": true
   },
   "outputs": [],
   "source": [
    "sns.barplot(data = df_train, \n",
    "            y    = \"count\", \n",
    "            hue  = \"workingday\", \n",
    "            x    = \"weather\")"
   ]
  },
  {
   "cell_type": "code",
   "execution_count": 19,
   "id": "08b5211a",
   "metadata": {
    "hidden": true
   },
   "outputs": [
    {
     "data": {
      "image/png": "[encoded data removed]"
     },
     "metadata": {
      "needs_background": "light"
     },
     "output_type": "display_data"
    }
   ],
   "source": [
    "sns.heatmap(df_train.corr(),cbar=True,annot=True,cmap=\"Blues\");"
   ]
  },
  {
   "cell_type": "markdown",
   "id": "d7e27838",
   "metadata": {
    "hidden": true
   },
   "source": [
    "#### Step 3.3 - observe some features in more detail"
   ]
  },
  {
   "cell_type": "markdown",
   "id": "1602aa43",
   "metadata": {
    "hidden": true
   },
   "source": [
    "##### Step 3.2.1 - Season"
   ]
  },
  {
   "cell_type": "markdown",
   "id": "cf56e13d",
   "metadata": {
    "hidden": true
   },
   "source": [
    "##### Step 3.2.2 - Holiday"
   ]
  },
  {
   "cell_type": "markdown",
   "id": "1e8b7187",
   "metadata": {
    "heading_collapsed": true,
    "hidden": true
   },
   "source": [
    "##### Step 3.2.3 - Workingday"
   ]
  },
  {
   "cell_type": "code",
   "execution_count": null,
   "id": "9b46beb8",
   "metadata": {
    "hidden": true
   },
   "outputs": [],
   "source": [
    "sns.barplot(x = 'workingday', y = 'count', data = df_train, estimator = np.average, palette='colorblind')\n",
    "#plt.ylabel('Average Count')\n",
    "#plt.show()"
   ]
  },
  {
   "cell_type": "markdown",
   "id": "ad35a779",
   "metadata": {
    "heading_collapsed": true,
    "hidden": true
   },
   "source": [
    "##### Step 3.2.4 - Weather"
   ]
  },
  {
   "cell_type": "code",
   "execution_count": null,
   "id": "1a8a5e1e",
   "metadata": {
    "hidden": true
   },
   "outputs": [],
   "source": [
    "sns.barplot(x = 'weather', y = 'count', data = df_train, estimator = np.average, palette='deep')\n",
    "# how many worst days are there? the count makes no real sense!"
   ]
  },
  {
   "cell_type": "markdown",
   "id": "988a4567",
   "metadata": {
    "heading_collapsed": true,
    "hidden": true
   },
   "source": [
    "##### Step 3.2.5 - Temp"
   ]
  },
  {
   "cell_type": "code",
   "execution_count": 28,
   "id": "c6d67e85",
   "metadata": {
    "hidden": true
   },
   "outputs": [
    {
     "data": {
      "image/png": "[encoded data removed]"
     },
     "metadata": {
      "needs_background": "light"
     },
     "output_type": "display_data"
    }
   ],
   "source": [
    "df_train[['temp','atemp']].plot.line();"
   ]
  },
  {
   "cell_type": "markdown",
   "id": "8b921639",
   "metadata": {
    "heading_collapsed": true,
    "hidden": true
   },
   "source": [
    "##### Step 3.2.6 - Atemp"
   ]
  },
  {
   "cell_type": "code",
   "execution_count": 29,
   "id": "04303a79",
   "metadata": {
    "hidden": true
   },
   "outputs": [
    {
     "data": {
      "text/html": [
       "<pre style='white-space:pre;overflow-x:auto;line-height:normal'><span style=\"font-weight: bold\">&lt;</span><span style=\"color: #0011aa; text-decoration-color: #0011aa\">seaborn.axisgrid.JointGrid</span><span style=\"color: #000000; text-decoration-color: #000000\"> object at </span><span style=\"color: #101010; text-decoration-color: #101010\">0x7f76ab751fd0</span><span style=\"font-weight: bold\">&gt;</span>\n",
       "</pre>"
      ],
      "text/plain": [
       "\u001b[1m<\u001b[0m\u001b[38;2;0;17;170mseaborn.axisgrid.JointGrid\u001b[0m\u001b[39m object at \u001b[0m\u001b[38;2;16;16;16m0x7f76ab751fd0\u001b[0m\u001b[1m>\u001b[0m\n"
      ]
     },
     "metadata": {},
     "output_type": "display_data"
    },
    {
     "data": {
      "image/png": "[encoded data removed]"
     },
     "metadata": {
      "needs_background": "light"
     },
     "output_type": "display_data"
    }
   ],
   "source": [
    "sns.jointplot(x = 'atemp', y = 'count', data = df_train, kind = 'kde', cmap = 'plasma')"
   ]
  },
  {
   "cell_type": "markdown",
   "id": "10dfc341",
   "metadata": {
    "hidden": true
   },
   "source": [
    "##### Step 3.2.7 - Humidity"
   ]
  },
  {
   "cell_type": "markdown",
   "id": "4792bbdb",
   "metadata": {
    "hidden": true
   },
   "source": [
    "##### Step 3.2.8 - Windspeed"
   ]
  },
  {
   "cell_type": "markdown",
   "id": "4123d4b4",
   "metadata": {
    "heading_collapsed": true,
    "hidden": true
   },
   "source": [
    "##### Step 3.2.9 - DateTime"
   ]
  },
  {
   "cell_type": "code",
   "execution_count": null,
   "id": "1cc0a145",
   "metadata": {
    "hidden": true
   },
   "outputs": [],
   "source": [
    "df_train.groupby(['day'])[['count']].mean().plot.bar(subplots=True);"
   ]
  },
  {
   "cell_type": "code",
   "execution_count": null,
   "id": "9a77de35",
   "metadata": {
    "hidden": true
   },
   "outputs": [],
   "source": [
    "df_train.groupby(['hour'])[['count']].mean().plot.bar();"
   ]
  },
  {
   "cell_type": "code",
   "execution_count": null,
   "id": "470829ac",
   "metadata": {
    "hidden": true
   },
   "outputs": [],
   "source": [
    "df_train.groupby(['year','month'])[['count']].sum().plot.bar(subplots=True)"
   ]
  },
  {
   "cell_type": "markdown",
   "id": "1d66fbf2",
   "metadata": {
    "heading_collapsed": true,
    "hidden": true
   },
   "source": [
    "##### Step 3.2.10 - Count"
   ]
  },
  {
   "cell_type": "code",
   "execution_count": null,
   "id": "fafab885",
   "metadata": {
    "hidden": true
   },
   "outputs": [],
   "source": [
    "sns.boxplot(x = df_train['count'])"
   ]
  },
  {
   "cell_type": "code",
   "execution_count": null,
   "id": "63eb36cb",
   "metadata": {
    "hidden": true
   },
   "outputs": [],
   "source": [
    "print(len(df_train[df_train['count'] > 600]['count'].values))\n",
    "print(len(df_train[df_train['count'] < 600]['count'].values))"
   ]
  },
  {
   "cell_type": "code",
   "execution_count": null,
   "id": "dd76d863",
   "metadata": {
    "hidden": true
   },
   "outputs": [],
   "source": [
    "Q99 = np.percentile(df_train['count'].values, [99])\n",
    "\n",
    "df_distplot = df_train[df_train['count'] < Q99[0]]\n",
    "\n",
    "sns.displot(df_distplot['count'], bins = 100, color = 'blue')"
   ]
  },
  {
   "cell_type": "code",
   "execution_count": null,
   "id": "05f3dc5a",
   "metadata": {
    "hidden": true
   },
   "outputs": [],
   "source": [
    "sns.histplot(df_train['count'].values)\n",
    "sns.histplot(np.log(df_train['count'].values)) # log transformed target"
   ]
  },
  {
   "cell_type": "markdown",
   "id": "fba08c58",
   "metadata": {},
   "source": [
    "### **Conclusion from the EDA**\n",
    "\n",
    "<hr style=\"border:2px solid black\">\n",
    "\n",
    "    - Season:\n",
    "\n",
    "    - Holiday:\n",
    "\n",
    "\t- Workingday:\n",
    "\t\n",
    "\t- Weather:\n",
    "\t\n",
    "\t- Temp:\n",
    "\t\n",
    "\t- Atemp:\n",
    "\t\n",
    "\t- Humidity:\n",
    "\t\n",
    "\t- Windspeed:\n",
    "\t\n",
    "\t- Datetime:\n",
    "\t\n",
    "\t- use a random forest as a baseline model and get the feature importance\n",
    "\n",
    "<hr style=\"border:2px solid black\">"
   ]
  },
  {
   "cell_type": "markdown",
   "id": "3a1927c3",
   "metadata": {},
   "source": [
    "### Step 4 - cleaning & scaling"
   ]
  },
  {
   "cell_type": "markdown",
   "id": "093f3135",
   "metadata": {},
   "source": [
    "   - *Fix or remove outliers (otional).*\n",
    "   - *Fill in missing values (e.g. with zero, mean, median ...) or drop their rows (or columns).*\n",
    "   - *Standardize or nomalize features*"
   ]
  },
  {
   "cell_type": "markdown",
   "id": "4976e00e",
   "metadata": {},
   "source": [
    "#### Step 4.1 - impute missing values"
   ]
  },
  {
   "cell_type": "code",
   "execution_count": null,
   "id": "964b529f",
   "metadata": {},
   "outputs": [],
   "source": [
    "# no missing values"
   ]
  },
  {
   "cell_type": "markdown",
   "id": "0af09e9e",
   "metadata": {},
   "source": [
    "#### Step 4.2 - scaling"
   ]
  },
  {
   "cell_type": "code",
   "execution_count": null,
   "id": "2e16e37f",
   "metadata": {},
   "outputs": [],
   "source": [
    "# in further analysis I will mainly distinguish between numerical and categorical features\n",
    "categorical_features = ['season', 'weather', 'month_name', 'day_name','year','day','hour']\n",
    "numeric_features     = ['temp','atemp','humidity','windspeed']"
   ]
  },
  {
   "cell_type": "code",
   "execution_count": null,
   "id": "1119f42c",
   "metadata": {},
   "outputs": [],
   "source": [
    "# standard scaler and simple imputer for floats (in case the test or production data contain missing data that couldn't be spotted during the training)\n",
    "numeric_steps =     [\n",
    "                       ('imputer' , SimpleImputer(strategy = 'mean')) \n",
    "                     , ('scaler'  , StandardScaler()                )     \n",
    "                    ]\n",
    "\n",
    "numeric_transformer = Pipeline(numeric_steps)"
   ]
  },
  {
   "cell_type": "markdown",
   "id": "cef9f995",
   "metadata": {},
   "source": [
    "#### Step 4.3 - interpolation"
   ]
  },
  {
   "cell_type": "code",
   "execution_count": null,
   "id": "b36ebfc5",
   "metadata": {},
   "outputs": [],
   "source": [
    "# no missing values"
   ]
  },
  {
   "cell_type": "markdown",
   "id": "99032ec2",
   "metadata": {},
   "source": [
    "#### Step 4.4 - remove duplicates and outliers"
   ]
  },
  {
   "cell_type": "code",
   "execution_count": null,
   "id": "4b8d3c32",
   "metadata": {},
   "outputs": [],
   "source": [
    "# handle the weather condition no 4"
   ]
  },
  {
   "cell_type": "markdown",
   "id": "0a7f403c",
   "metadata": {},
   "source": [
    "### Step 5 - feature engineering"
   ]
  },
  {
   "cell_type": "markdown",
   "id": "9434202e",
   "metadata": {},
   "source": [
    "   - *Discretize continious features.*\n",
    "   - *Decompose features (e.g. categorical, date/time, etc.).*\n",
    "   - *Add promising transformations of features (e.g. log(x), sqrt(x), x^2, etc.).*\n",
    "   - *Aggregate features into promising new features.*"
   ]
  },
  {
   "cell_type": "markdown",
   "id": "95728805",
   "metadata": {},
   "source": [
    "#### Step 5.1 - feature extraction, decomposition and transformation"
   ]
  },
  {
   "cell_type": "code",
   "execution_count": null,
   "id": "fc2d1188",
   "metadata": {},
   "outputs": [],
   "source": [
    "def indexicator(dataframe):\n",
    "    dataframe = pd.DataFrame(dataframe).copy()\n",
    "    \n",
    "    dataframe['datetime'] = pd.to_datetime(dataframe['datetime'])\n",
    "    dataframe.set_index('datetime', inplace=True)\n",
    "    \n",
    "    return dataframe"
   ]
  },
  {
   "cell_type": "code",
   "execution_count": null,
   "id": "f353f569",
   "metadata": {},
   "outputs": [],
   "source": [
    "# Let's first create new columns out of the datetime\n",
    "def datetime_extractor(dataframe):\n",
    "    dataframe = pd.DataFrame(dataframe).copy()\n",
    "\n",
    "    dataframe[\"year\"]       = dataframe.index.year\n",
    "    dataframe[\"month\"]      = dataframe.index.month\n",
    "    dataframe[\"month_name\"] = dataframe.index.month_name()\n",
    "    dataframe[\"day_name\"]   = dataframe.index.day_name()\n",
    "    dataframe[\"day\"]        = dataframe.index.day\n",
    "    dataframe[\"hour\"]       = dataframe.index.hour\n",
    "    \n",
    "    return dataframe"
   ]
  },
  {
   "cell_type": "code",
   "execution_count": null,
   "id": "d783204b",
   "metadata": {},
   "outputs": [],
   "source": [
    "# then we translate season and weather into readable values\n",
    "def cat_translator(dataframe):\n",
    "    dataframe = pd.DataFrame(dataframe).copy()\n",
    "    \n",
    "    dataframe.replace({'season'  : { 1 : 'spring', 2 : 'summer', 3 : 'fall', 4 : 'winter' }}, inplace =True)\n",
    "    dataframe.replace({'weather' : { 1 : 'nice'  , 2 : 'ok'    , 3 : 'bad' , 4 : 'worst'  }}, inplace =True)\n",
    "    \n",
    "    return dataframe"
   ]
  },
  {
   "cell_type": "markdown",
   "id": "4476808a",
   "metadata": {},
   "source": [
    "#### Step 5.2 - encoding of categorical features"
   ]
  },
  {
   "cell_type": "code",
   "execution_count": null,
   "id": "45378e8d",
   "metadata": {},
   "outputs": [],
   "source": [
    "# standard scaler and simple imputer for floats (in case the test or production data contain missing data that couldn't be spotted during the training)\n",
    "categorical_steps = [\n",
    "                       ('imputer' , SimpleImputer(strategy       = 'most_frequent' ))\n",
    "                     , ('onehot'  , OneHotEncoder(handle_unknown = 'ignore'        ))\n",
    "                    ]\n",
    "\n",
    "categorical_transformer = Pipeline(categorical_steps)"
   ]
  },
  {
   "cell_type": "markdown",
   "id": "4679de08",
   "metadata": {},
   "source": [
    "#### Step 5.3 - discretizing of continious features"
   ]
  },
  {
   "cell_type": "code",
   "execution_count": null,
   "id": "fde81eee",
   "metadata": {},
   "outputs": [],
   "source": [
    "# dicetize the age into bins of five years\n",
    "discretizer_step        = [('discretizer', KBinsDiscretizer(n_bins=5, encode='onehot', strategy='quantile', dtype=None, subsample='warn', random_state=None))]\n",
    "\n",
    "discretizer_transformer = Pipeline(discretizer_step)"
   ]
  },
  {
   "cell_type": "markdown",
   "id": "42488b0b",
   "metadata": {},
   "source": [
    "#### Step 5.4 - drop features"
   ]
  },
  {
   "cell_type": "markdown",
   "id": "c1146942",
   "metadata": {},
   "source": [
    "#### Step 5.5 - sampling strategy in case of imbalanced data"
   ]
  },
  {
   "cell_type": "markdown",
   "id": "e057a53f",
   "metadata": {},
   "source": [
    "#### Step 5.6 - implement polynomials"
   ]
  },
  {
   "cell_type": "markdown",
   "id": "6f28eb76",
   "metadata": {},
   "source": [
    "### Step 6 - baseline model"
   ]
  },
  {
   "cell_type": "markdown",
   "id": "165c2e8f",
   "metadata": {},
   "source": [
    "#### Step 6.1 - create pipeline for the baseline model "
   ]
  },
  {
   "cell_type": "markdown",
   "id": "881d6388",
   "metadata": {},
   "source": [
    "##### Step 6.1.1 - function and column transformer"
   ]
  },
  {
   "cell_type": "code",
   "execution_count": null,
   "id": "a0b4fb71",
   "metadata": {},
   "outputs": [],
   "source": [
    "# extractions and transformations\n",
    "index_transformer    = FunctionTransformer(indexicator)\n",
    "datetime_transformer = FunctionTransformer(datetime_extractor)\n",
    "cat_transformer      = FunctionTransformer(cat_translator)\n",
    "\n",
    "# column transformer\n",
    "col_transformer = ColumnTransformer(transformers = [\n",
    "                                                      ('numeric'     ,     numeric_transformer , numeric_features     )\n",
    "                                                    , ('categorical' , categorical_transformer , categorical_features )\n",
    "                                                    , ('discretizer' , discretizer_transformer , numerical_features   )\n",
    "                                                   ] \n",
    "                                   )"
   ]
  },
  {
   "cell_type": "markdown",
   "id": "9cf25d05",
   "metadata": {},
   "source": [
    "##### Step 6.1.2 - set up pipeline with estimators"
   ]
  },
  {
   "cell_type": "code",
   "execution_count": null,
   "id": "fc5f0bd9",
   "metadata": {},
   "outputs": [],
   "source": [
    "class DummyEstimator(BaseEstimator):\n",
    "    def fit(self):   pass\n",
    "    def score(self): pass"
   ]
  },
  {
   "cell_type": "code",
   "execution_count": null,
   "id": "4c508743",
   "metadata": {},
   "outputs": [],
   "source": [
    "pipeline = Pipeline([\n",
    "                    # my function transformers\n",
    "                       ( 'indexicator'           , index_transformer           )\n",
    "                     , ( 'datetime_extractor'    , datetime_transformer        )\n",
    "                     , ( 'categoricator'         , cat_transformer             )\n",
    "                    # my column transformers\n",
    "                     , ( 'col_transformer'       , col_transformer             )\n",
    "                    # my estimator ...\n",
    "                     , ( 'regressor'             , DummyEstimator()            )                     \n",
    "                    ])"
   ]
  },
  {
   "cell_type": "code",
   "execution_count": null,
   "id": "4e5fa7ff",
   "metadata": {},
   "outputs": [],
   "source": [
    "pipeline.named_steps"
   ]
  },
  {
   "cell_type": "code",
   "execution_count": null,
   "id": "1ca2fc13",
   "metadata": {},
   "outputs": [],
   "source": [
    "pipeline.get_params().keys()"
   ]
  },
  {
   "cell_type": "markdown",
   "id": "7370bbaf",
   "metadata": {},
   "source": [
    "##### Step 6.1.3 - define the hyperparameter grid"
   ]
  },
  {
   "cell_type": "code",
   "execution_count": null,
   "id": "6e1a0345",
   "metadata": {},
   "outputs": [],
   "source": [
    "hyperparam_grid = [\n",
    "                  {\n",
    "                      'regressor'                  : [RandomForestRegressor()]\n",
    "                    , 'regressor__n_estimators'    : [5, 10, 100, 200]\n",
    "                    , 'regressor__min_samples_leaf': [5, 10]\n",
    "                  },\n",
    "                  {\n",
    "                      'regressor'                  : [GradientBoostingRegressor()]\n",
    "                    , 'regressor__n_estimators'    : [50, 100, 200]\n",
    "                    , 'regressor__learning_rate'   : [0.05, 0.1, 0.2]    \n",
    "                  },\n",
    "                  {\n",
    "                      'regressor'                  : [xgb.XGBRegressor(objective ='reg:squarederror')]\n",
    "                    , 'regressor__n_estimators'    : [50, 100, 200]\n",
    "                    , 'regressor__learning_rate'   : [0.05, 0.1, 0.2]\n",
    "                  }\n",
    "]\n",
    "\n",
    "# Lasso Regression, Ridge Regression, Gaussian Regression, Polynomial Regression "
   ]
  },
  {
   "cell_type": "markdown",
   "id": "0c2ea5fd",
   "metadata": {},
   "source": [
    "##### Step 6.1.4 - set up the grid search CV"
   ]
  },
  {
   "cell_type": "code",
   "execution_count": null,
   "id": "8eb2d1a9",
   "metadata": {},
   "outputs": [],
   "source": [
    "gs = GridSearchCV(\n",
    "                      estimator  = pipeline \n",
    "                    , param_grid = hyperparam_grid                    \n",
    "                    , cv         = 5                                         \n",
    "                    , scoring    = 'neg_root_mean_squared_error'\n",
    "                )"
   ]
  },
  {
   "cell_type": "markdown",
   "id": "9ab13314",
   "metadata": {},
   "source": [
    "#### Step 6.2 - run the baseline model"
   ]
  },
  {
   "cell_type": "code",
   "execution_count": null,
   "id": "f44e180c",
   "metadata": {},
   "outputs": [],
   "source": [
    "grid_search = gs.fit(X_train, y_train)"
   ]
  },
  {
   "cell_type": "markdown",
   "id": "dfc198af",
   "metadata": {},
   "source": [
    "#### Step 6.3 - evaluate the model"
   ]
  },
  {
   "cell_type": "code",
   "execution_count": null,
   "id": "eef0647b",
   "metadata": {},
   "outputs": [],
   "source": [
    "pd.DataFrame(grid_search.cv_results_).sort_values('rank_test_score').head()"
   ]
  },
  {
   "cell_type": "code",
   "execution_count": null,
   "id": "12ec7c19",
   "metadata": {},
   "outputs": [],
   "source": [
    "best_pipe = gs.best_estimator_"
   ]
  },
  {
   "cell_type": "code",
   "execution_count": null,
   "id": "948f876a",
   "metadata": {},
   "outputs": [],
   "source": [
    "best_pipe"
   ]
  },
  {
   "cell_type": "code",
   "execution_count": null,
   "id": "070ea285",
   "metadata": {},
   "outputs": [],
   "source": [
    "predictions_test = best_pipe.predict(X_test)"
   ]
  },
  {
   "cell_type": "code",
   "execution_count": null,
   "id": "5e53e057",
   "metadata": {},
   "outputs": [],
   "source": [
    "best_pipe.score(X_test, y_test)"
   ]
  },
  {
   "cell_type": "code",
   "execution_count": null,
   "id": "b41d113c",
   "metadata": {},
   "outputs": [],
   "source": [
    "test_subm = pd.read_csv(PATH + 'test.csv')"
   ]
  },
  {
   "cell_type": "code",
   "execution_count": null,
   "id": "6fb8a712",
   "metadata": {},
   "outputs": [],
   "source": [
    "test_subm.head()"
   ]
  },
  {
   "cell_type": "code",
   "execution_count": null,
   "id": "fa71aa7e",
   "metadata": {},
   "outputs": [],
   "source": [
    "predictions_test = best_pipe.predict(test_subm)"
   ]
  },
  {
   "cell_type": "code",
   "execution_count": null,
   "id": "548f7ebd",
   "metadata": {},
   "outputs": [],
   "source": [
    "# predictions_test\n",
    "predictions_test = [np.round(x) for x in predictions_test]\n",
    "predictions_test = [0 if x < 0 else x for x in predictions_test]"
   ]
  },
  {
   "cell_type": "code",
   "execution_count": null,
   "id": "3070da3c",
   "metadata": {},
   "outputs": [],
   "source": [
    "# datetime_ = test_subm[['datetime']]\n",
    "test_subm['datetime'] = pd.to_datetime(test_subm['datetime'] )\n",
    "test_subm.set_index('datetime', inplace = True)"
   ]
  },
  {
   "cell_type": "code",
   "execution_count": null,
   "id": "7fd79778",
   "metadata": {},
   "outputs": [],
   "source": [
    "datetime_ = test_subm.index\n",
    "datetime_"
   ]
  },
  {
   "cell_type": "code",
   "execution_count": null,
   "id": "e8efa35a",
   "metadata": {},
   "outputs": [],
   "source": [
    "result_bike = pd.DataFrame({'datetime' : datetime_,\n",
    "                            'count'    : predictions_test\n",
    "                           })"
   ]
  },
  {
   "cell_type": "code",
   "execution_count": null,
   "id": "f5f66a93",
   "metadata": {},
   "outputs": [],
   "source": [
    "result_bike.to_csv('result_bike.csv', index=False)"
   ]
  },
  {
   "cell_type": "markdown",
   "id": "c7a2c2f6",
   "metadata": {},
   "source": [
    "#### Step 6.4 - evaluate the feature importance"
   ]
  },
  {
   "cell_type": "markdown",
   "id": "46cad5bc",
   "metadata": {},
   "source": [
    "#### Step 6.5 - feature selection"
   ]
  },
  {
   "cell_type": "markdown",
   "id": "ce42d23d",
   "metadata": {},
   "source": [
    "### Step 7 - model tuning"
   ]
  },
  {
   "cell_type": "markdown",
   "id": "40ba23c8",
   "metadata": {},
   "source": [
    "#### Step 7.1 - create a pipeline for model tuning"
   ]
  },
  {
   "cell_type": "markdown",
   "id": "41a26584",
   "metadata": {},
   "source": [
    "##### Step 7.1.1 - function transformer"
   ]
  },
  {
   "cell_type": "markdown",
   "id": "905d31b9",
   "metadata": {},
   "source": [
    "##### Step 7.1.2 - column transformer"
   ]
  },
  {
   "cell_type": "markdown",
   "id": "25d084dc",
   "metadata": {},
   "source": [
    "##### Step 7.1.3 - set up pipeline with estimators"
   ]
  },
  {
   "cell_type": "markdown",
   "id": "f8e7c6c7",
   "metadata": {},
   "source": [
    "##### Step 7.1.4 - define the hyperparameter grid"
   ]
  },
  {
   "cell_type": "markdown",
   "id": "162b2eaa",
   "metadata": {},
   "source": [
    "##### Step 7.1.5 - set up the grid search CV"
   ]
  },
  {
   "cell_type": "markdown",
   "id": "c162e0be",
   "metadata": {},
   "source": [
    "#### Step 7.2 - run the tuner model"
   ]
  },
  {
   "cell_type": "markdown",
   "id": "e6347687",
   "metadata": {},
   "source": [
    "#### Step 7.3 - evaluate the tuner model"
   ]
  },
  {
   "cell_type": "markdown",
   "id": "b340b7c0",
   "metadata": {},
   "source": [
    "#### Step 7.4 - handle over-/underfitting (e.g. regularization) - if necessary"
   ]
  },
  {
   "cell_type": "markdown",
   "id": "0c8a8e3a",
   "metadata": {},
   "source": [
    "#### Step 7.5 - optimize the model"
   ]
  },
  {
   "cell_type": "markdown",
   "id": "d69df641",
   "metadata": {},
   "source": [
    "### Step 8 - retraining the best model with the whole data set"
   ]
  },
  {
   "cell_type": "markdown",
   "id": "1bd93026",
   "metadata": {},
   "source": [
    "### Step 9 - pickle the best model"
   ]
  },
  {
   "cell_type": "code",
   "execution_count": null,
   "id": "c2b2c1a4",
   "metadata": {},
   "outputs": [],
   "source": [
    "# are there any duplicated rows?\n",
    "df_train.duplicated().sum()\n",
    "\n",
    "data['count'] = np.log(data['count'])\n",
    "\n",
    "#RMSLE\n",
    "print('RMSLE:', np.sqrt(metrics.mean_squared_log_error(np.exp(y_test), np.exp(pred))))"
   ]
  },
  {
   "cell_type": "code",
   "execution_count": null,
   "id": "b26b7ddf",
   "metadata": {},
   "outputs": [],
   "source": [
    "submission = pd.DataFrame({\n",
    "        \"datetime\": datetimecol,\n",
    "        \"count\": [max(0, x) for x in np.exp(predsTest)]\n",
    "    })\n",
    "submission.to_csv('bike_predictions_gbm_separate_without_fe.csv', index=False)"
   ]
  }
 ],
 "metadata": {
  "kernelspec": {
   "display_name": "Python 3 (ipykernel)",
   "language": "python",
   "name": "python3"
  },
  "language_info": {
   "codemirror_mode": {
    "name": "ipython",
    "version": 3
   },
   "file_extension": ".py",
   "mimetype": "text/x-python",
   "name": "python",
   "nbconvert_exporter": "python",
   "pygments_lexer": "ipython3",
   "version": "3.9.12"
  }
 },
 "nbformat": 4,
 "nbformat_minor": 5
}
