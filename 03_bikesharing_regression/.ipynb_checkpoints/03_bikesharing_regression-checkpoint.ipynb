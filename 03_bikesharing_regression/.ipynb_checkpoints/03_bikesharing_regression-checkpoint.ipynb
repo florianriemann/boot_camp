{
 "cells": [
  {
   "cell_type": "markdown",
   "id": "08c4dbfc",
   "metadata": {},
   "source": [
    "### Step 0 - import libraries"
   ]
  },
  {
   "cell_type": "code",
   "execution_count": 93,
   "id": "f729bb87",
   "metadata": {},
   "outputs": [],
   "source": [
    "%matplotlib inline\n",
    "\n",
    "# data wrangling & visualizations\n",
    "import numpy               as np\n",
    "import pandas              as pd\n",
    "import matplotlib.pyplot   as plt\n",
    "import seaborn             as sns\n",
    "\n",
    "# models\n",
    "import xgboost             as xgb\n",
    "\n",
    "from sklearn.ensemble        import RandomForestRegressor\n",
    "from sklearn.linear_model    import LinearRegression\n",
    "from sklearn.linear_model    import Ridge\n",
    "from sklearn.linear_model    import Lasso\n",
    "from sklearn.ensemble        import GradientBoostingRegressor\n",
    "from lightgbm                import LGBMRegressor\n",
    "from catboost                import CatBoostRegressor\n",
    "from sklearn.linear_model    import SGDRegressor\n",
    "from sklearn.kernel_ridge    import KernelRidge\n",
    "from sklearn.linear_model    import ElasticNet\n",
    "from sklearn.base            import BaseEstimator\n",
    "\n",
    "# preprocessing & feature engineering\n",
    "from sklearn.model_selection import train_test_split\n",
    "from sklearn.compose         import ColumnTransformer\n",
    "from sklearn.preprocessing   import FunctionTransformer\n",
    "from sklearn.pipeline        import Pipeline\n",
    "from sklearn.preprocessing   import OneHotEncoder\n",
    "from sklearn.impute          import SimpleImputer\n",
    "from sklearn.preprocessing   import StandardScaler\n",
    "from sklearn.preprocessing   import KBinsDiscretizer\n",
    "\n",
    "# validation\n",
    "from sklearn.model_selection import cross_val_score\n",
    "from sklearn.model_selection import GridSearchCV\n",
    "from sklearn.metrics         import confusion_matrix, classification_report, accuracy_score\n",
    "\n",
    "# warning & errors\n",
    "import warnings\n",
    "warnings.filterwarnings(\"ignore\", category=FutureWarning)\n",
    "\n",
    "from friendly.jupyter import *"
   ]
  },
  {
   "cell_type": "markdown",
   "id": "be49d276",
   "metadata": {},
   "source": [
    "### Step 1 - read data"
   ]
  },
  {
   "cell_type": "markdown",
   "id": "ef57782a",
   "metadata": {},
   "source": [
    "  - List the data you need and how much you need.\n",
    "\n",
    "  - Find and document where you can get the data.\n",
    "\n",
    "  - Check how much space it will take.\n",
    "\n",
    "  - Check legal obligations, and get authorizations if necessary.\n",
    "\n",
    "  - Get access authorizations.\n",
    "\n",
    "  - Create a workspace (with enough storage space).\n",
    "\n",
    "  - Get the data.\n",
    "\n",
    "  - Convert the data to a format you can easily manipulate (without changing the data itself).\n",
    "\n",
    "  - Ensure sensitive information is deleted or protected (e.g. anonymized).\n",
    "\n",
    "  - Check the size and type of data (time series, sample, geographical, etc.).\n",
    "\n",
    "  - Sample a test set, put it aside, and never look at it (no data snooping!)."
   ]
  },
  {
   "cell_type": "code",
   "execution_count": 94,
   "id": "36ed99e0",
   "metadata": {},
   "outputs": [
    {
     "data": {
      "text/html": [
       "<div>\n",
       "<style scoped>\n",
       "    .dataframe tbody tr th:only-of-type {\n",
       "        vertical-align: middle;\n",
       "    }\n",
       "\n",
       "    .dataframe tbody tr th {\n",
       "        vertical-align: top;\n",
       "    }\n",
       "\n",
       "    .dataframe thead th {\n",
       "        text-align: right;\n",
       "    }\n",
       "</style>\n",
       "<table border=\"1\" class=\"dataframe\">\n",
       "  <thead>\n",
       "    <tr style=\"text-align: right;\">\n",
       "      <th></th>\n",
       "      <th>datetime</th>\n",
       "      <th>season</th>\n",
       "      <th>holiday</th>\n",
       "      <th>workingday</th>\n",
       "      <th>weather</th>\n",
       "      <th>temp</th>\n",
       "      <th>atemp</th>\n",
       "      <th>humidity</th>\n",
       "      <th>windspeed</th>\n",
       "      <th>count</th>\n",
       "    </tr>\n",
       "  </thead>\n",
       "  <tbody>\n",
       "    <tr>\n",
       "      <th>0</th>\n",
       "      <td>2011-01-01 00:00:00</td>\n",
       "      <td>1</td>\n",
       "      <td>0</td>\n",
       "      <td>0</td>\n",
       "      <td>1</td>\n",
       "      <td>9.84</td>\n",
       "      <td>14.395</td>\n",
       "      <td>81</td>\n",
       "      <td>0.0</td>\n",
       "      <td>16</td>\n",
       "    </tr>\n",
       "    <tr>\n",
       "      <th>1</th>\n",
       "      <td>2011-01-01 01:00:00</td>\n",
       "      <td>1</td>\n",
       "      <td>0</td>\n",
       "      <td>0</td>\n",
       "      <td>1</td>\n",
       "      <td>9.02</td>\n",
       "      <td>13.635</td>\n",
       "      <td>80</td>\n",
       "      <td>0.0</td>\n",
       "      <td>40</td>\n",
       "    </tr>\n",
       "  </tbody>\n",
       "</table>\n",
       "</div>"
      ]
     },
     "execution_count": 94,
     "metadata": {},
     "output_type": "execute_result"
    }
   ],
   "source": [
    "#%time %memit\n",
    "PATH = '/home/florianriemann/data_science_portfolio/boot_camp/data/bikesharing/'\n",
    "\n",
    "df_bike, df_bike.name = pd.read_csv(PATH + 'train.csv'), 'df_bike'\n",
    "df_bike = df_bike.loc[:, ~df_bike.columns.isin(['casual','registered'])]\n",
    "df_bike.head(2)"
   ]
  },
  {
   "cell_type": "markdown",
   "id": "47e8f3ea",
   "metadata": {},
   "source": [
    "### Step 2 - train-test-split"
   ]
  },
  {
   "cell_type": "markdown",
   "id": "c59ab6f3",
   "metadata": {},
   "source": [
    "<hr style=\"border:2px solid black\">\n",
    "\n",
    "*Don't get biased by any stretch of the imagination. Do the train-test-split as early as possible!*\n",
    "\n",
    "<hr style=\"border:2px solid black\">"
   ]
  },
  {
   "cell_type": "code",
   "execution_count": 95,
   "id": "89d1f0be",
   "metadata": {},
   "outputs": [],
   "source": [
    "#%time %memit\n",
    "X = df_bike.drop('count', axis=1)\n",
    "y = df_bike['count']"
   ]
  },
  {
   "cell_type": "code",
   "execution_count": 96,
   "id": "79c9c429",
   "metadata": {},
   "outputs": [],
   "source": [
    "#%time %memit\n",
    "X_train, X_test, y_train, y_test = train_test_split(X, y, test_size = 0.2, random_state = 12)"
   ]
  },
  {
   "cell_type": "markdown",
   "id": "ae9cb271",
   "metadata": {},
   "source": [
    "### Step 3 - exploratory data analysis"
   ]
  },
  {
   "cell_type": "markdown",
   "id": "7743a971",
   "metadata": {
    "heading_collapsed": true
   },
   "source": [
    "#### Step 3.0 - workflow"
   ]
  },
  {
   "cell_type": "markdown",
   "id": "e4f70a8d",
   "metadata": {
    "hidden": true
   },
   "source": [
    "  - Create a copy of the data exploration (sampling it down to a manageble size if necessary).\n",
    "\n",
    "  - Create a notebook to keep a record of your data exploration.\n",
    "\n",
    "  - Study each attribute and its characteristics:\n",
    "\n",
    "    - Name\n",
    "    - Type (categorical, int/float, bounded/unbounded, text, structured, etc.)\n",
    "    - % of missing values\n",
    "    - Noisiness and type of noise (stoxastoc, outliers, rounding errors, etc.)\n",
    "    - Possibly useful for the task?\n",
    "    - Type of distribution (Gaussian, uniform, logarithmic, etc.)\n",
    "  - For supervised learning tasks, identify target attribute(s).\n",
    "\n",
    "  - Visualize the data.\n",
    "\n",
    "  - Study the correlation between attributes.\n",
    "\n",
    "  - Study how you would solve the problem manually.\n",
    "\n",
    "  - Identify the promising transformations you may want to apply.\n",
    "\n",
    "  - Identify extra data that would be useful.\n",
    "\n",
    "  - Document what you have learned."
   ]
  },
  {
   "cell_type": "markdown",
   "id": "d8f9de8f",
   "metadata": {},
   "source": [
    "#### Step 3.1 - general overview"
   ]
  },
  {
   "cell_type": "markdown",
   "id": "e19e5d94",
   "metadata": {},
   "source": [
    "*You are provided hourly rental data spanning two years. For this competition, the training set is comprised of the first 19 days of each month, while the test set is the 20th to the end of the month. You must predict the total count of bikes rented during each hour covered by the test set, using only information available prior to the rental period.* (https://www.kaggle.com/competitions/bike-sharing-demand/data)\n",
    "\n",
    "##### **Categorical:**\n",
    "\n",
    "- `Dichotomous`\n",
    "\n",
    ">- <u>season</u> - ( 1 = spring | 2 = summer | 3 = fall | 4 = winter )\n",
    ">- <u>holiday</u> - ( whether the day is considered a holiday )\n",
    ">- <u>workingday</u> - ( whether the day is neither a weekend nor holiday )\n",
    ">- <u>weather</u> \n",
    ">>-       1 = Clear, Few clouds, Partly cloudy, Partly cloudy\n",
    ">>-       2 = Mist + Cloudy, Mist + Broken clouds, Mist + Few clouds, Mist\n",
    ">>-       3 = Light Snow, Light Rain + Thunderstorm + Scattered clouds, Light Rain + Scattered clouds\n",
    ">>-       4 = Heavy Rain + Ice Pallets + Thunderstorm + Mist, Snow + Fog \n",
    "\n",
    "##### **Numeric:**\n",
    "\n",
    "- `Discrete`\n",
    "\n",
    ">- <u>casual</u> - number of non-registered user rentals initiated\t\n",
    ">- <u>registered</u> - number of registered user rentals initiated\n",
    ">- <u>count</u> - ( number of total rentals ) \n",
    "\n",
    "- `Continous`\n",
    "\n",
    ">- <u>atemp</u> - \"feels like\" temperature in Celsius\n",
    ">- <u>temp</u> - temperature in Celsius\n",
    ">- <u>humidity</u> - relative humidity\n",
    ">- <u>windspeed</u> - wind speed\n",
    "\n",
    "##### **Datetime:**\n",
    "\n",
    ">- <u>datetime</u> - hourly date + timestamp"
   ]
  },
  {
   "cell_type": "code",
   "execution_count": 97,
   "id": "1733e03e",
   "metadata": {},
   "outputs": [
    {
     "data": {
      "text/html": [
       "<div>\n",
       "<style scoped>\n",
       "    .dataframe tbody tr th:only-of-type {\n",
       "        vertical-align: middle;\n",
       "    }\n",
       "\n",
       "    .dataframe tbody tr th {\n",
       "        vertical-align: top;\n",
       "    }\n",
       "\n",
       "    .dataframe thead th {\n",
       "        text-align: right;\n",
       "    }\n",
       "</style>\n",
       "<table border=\"1\" class=\"dataframe\">\n",
       "  <thead>\n",
       "    <tr style=\"text-align: right;\">\n",
       "      <th></th>\n",
       "      <th>datetime</th>\n",
       "      <th>season</th>\n",
       "      <th>holiday</th>\n",
       "      <th>workingday</th>\n",
       "      <th>weather</th>\n",
       "      <th>temp</th>\n",
       "      <th>atemp</th>\n",
       "      <th>humidity</th>\n",
       "      <th>windspeed</th>\n",
       "      <th>count</th>\n",
       "    </tr>\n",
       "  </thead>\n",
       "  <tbody>\n",
       "    <tr>\n",
       "      <th>7360</th>\n",
       "      <td>2012-05-06 01:00:00</td>\n",
       "      <td>2</td>\n",
       "      <td>0</td>\n",
       "      <td>0</td>\n",
       "      <td>2</td>\n",
       "      <td>22.14</td>\n",
       "      <td>25.760</td>\n",
       "      <td>83</td>\n",
       "      <td>15.0013</td>\n",
       "      <td>121</td>\n",
       "    </tr>\n",
       "    <tr>\n",
       "      <th>10442</th>\n",
       "      <td>2012-12-01 12:00:00</td>\n",
       "      <td>4</td>\n",
       "      <td>0</td>\n",
       "      <td>0</td>\n",
       "      <td>2</td>\n",
       "      <td>13.12</td>\n",
       "      <td>16.665</td>\n",
       "      <td>81</td>\n",
       "      <td>6.0032</td>\n",
       "      <td>446</td>\n",
       "    </tr>\n",
       "    <tr>\n",
       "      <th>2475</th>\n",
       "      <td>2011-06-11 01:00:00</td>\n",
       "      <td>2</td>\n",
       "      <td>0</td>\n",
       "      <td>0</td>\n",
       "      <td>1</td>\n",
       "      <td>28.70</td>\n",
       "      <td>33.335</td>\n",
       "      <td>79</td>\n",
       "      <td>6.0032</td>\n",
       "      <td>77</td>\n",
       "    </tr>\n",
       "    <tr>\n",
       "      <th>6489</th>\n",
       "      <td>2012-03-07 15:00:00</td>\n",
       "      <td>1</td>\n",
       "      <td>0</td>\n",
       "      <td>1</td>\n",
       "      <td>1</td>\n",
       "      <td>22.14</td>\n",
       "      <td>25.760</td>\n",
       "      <td>37</td>\n",
       "      <td>30.0026</td>\n",
       "      <td>209</td>\n",
       "    </tr>\n",
       "    <tr>\n",
       "      <th>4322</th>\n",
       "      <td>2011-10-12 03:00:00</td>\n",
       "      <td>4</td>\n",
       "      <td>0</td>\n",
       "      <td>1</td>\n",
       "      <td>3</td>\n",
       "      <td>22.14</td>\n",
       "      <td>25.760</td>\n",
       "      <td>94</td>\n",
       "      <td>19.9995</td>\n",
       "      <td>2</td>\n",
       "    </tr>\n",
       "  </tbody>\n",
       "</table>\n",
       "</div>"
      ]
     },
     "execution_count": 97,
     "metadata": {},
     "output_type": "execute_result"
    }
   ],
   "source": [
    "#%time %memit\n",
    "# for the EDA I will only use the training data, that includes the input vector as well as the labels\n",
    "df_train = pd.concat([X_train, y_train], axis=1)\n",
    "df_train.head()"
   ]
  },
  {
   "cell_type": "code",
   "execution_count": 153,
   "id": "4a1d0dea",
   "metadata": {},
   "outputs": [
    {
     "name": "stderr",
     "output_type": "stream",
     "text": [
      "`DeprecationWarning`: In future, it will be an error for 'np.bool_' scalars to be interpreted as an index\n"
     ]
    }
   ],
   "source": [
    "# https://www.kaggle.com/code/mohitsital/top-10-bike-sharing-rf-gbm\n",
    "# https://www.kaggle.com/code/ibrahimyassen17/final-version-notebook-bike-sharing-catboost\n",
    "df_train['ideal'] = df_train[['temp', 'windspeed']].apply(lambda x: (0, 1)[x['temp'] > 27 and x['windspeed'] < 30], axis = 1)"
   ]
  },
  {
   "cell_type": "code",
   "execution_count": null,
   "id": "7fdf529a",
   "metadata": {},
   "outputs": [],
   "source": [
    "for col in ['casual', 'registered', 'count']:\n",
    "    df['%_log' % col] = np.log(df[col] + 1)"
   ]
  },
  {
   "cell_type": "code",
   "execution_count": 155,
   "id": "83130f40",
   "metadata": {},
   "outputs": [
    {
     "data": {
      "text/html": [
       "<div>\n",
       "<style scoped>\n",
       "    .dataframe tbody tr th:only-of-type {\n",
       "        vertical-align: middle;\n",
       "    }\n",
       "\n",
       "    .dataframe tbody tr th {\n",
       "        vertical-align: top;\n",
       "    }\n",
       "\n",
       "    .dataframe thead th {\n",
       "        text-align: right;\n",
       "    }\n",
       "</style>\n",
       "<table border=\"1\" class=\"dataframe\">\n",
       "  <thead>\n",
       "    <tr style=\"text-align: right;\">\n",
       "      <th></th>\n",
       "      <th>season</th>\n",
       "      <th>holiday</th>\n",
       "      <th>workingday</th>\n",
       "      <th>weather</th>\n",
       "      <th>temp</th>\n",
       "      <th>atemp</th>\n",
       "      <th>humidity</th>\n",
       "      <th>windspeed</th>\n",
       "      <th>count</th>\n",
       "      <th>year</th>\n",
       "      <th>month</th>\n",
       "      <th>month_name</th>\n",
       "      <th>day_name</th>\n",
       "      <th>day</th>\n",
       "      <th>hour</th>\n",
       "      <th>ideal</th>\n",
       "    </tr>\n",
       "    <tr>\n",
       "      <th>datetime</th>\n",
       "      <th></th>\n",
       "      <th></th>\n",
       "      <th></th>\n",
       "      <th></th>\n",
       "      <th></th>\n",
       "      <th></th>\n",
       "      <th></th>\n",
       "      <th></th>\n",
       "      <th></th>\n",
       "      <th></th>\n",
       "      <th></th>\n",
       "      <th></th>\n",
       "      <th></th>\n",
       "      <th></th>\n",
       "      <th></th>\n",
       "      <th></th>\n",
       "    </tr>\n",
       "  </thead>\n",
       "  <tbody>\n",
       "    <tr>\n",
       "      <th>2012-05-06 01:00:00+00:00</th>\n",
       "      <td>summer</td>\n",
       "      <td>0</td>\n",
       "      <td>0</td>\n",
       "      <td>ok</td>\n",
       "      <td>22.14</td>\n",
       "      <td>25.760</td>\n",
       "      <td>83</td>\n",
       "      <td>15.0013</td>\n",
       "      <td>121</td>\n",
       "      <td>2012</td>\n",
       "      <td>5</td>\n",
       "      <td>May</td>\n",
       "      <td>Sunday</td>\n",
       "      <td>6</td>\n",
       "      <td>1</td>\n",
       "      <td>0</td>\n",
       "    </tr>\n",
       "    <tr>\n",
       "      <th>2012-12-01 12:00:00+00:00</th>\n",
       "      <td>winter</td>\n",
       "      <td>0</td>\n",
       "      <td>0</td>\n",
       "      <td>ok</td>\n",
       "      <td>13.12</td>\n",
       "      <td>16.665</td>\n",
       "      <td>81</td>\n",
       "      <td>6.0032</td>\n",
       "      <td>446</td>\n",
       "      <td>2012</td>\n",
       "      <td>12</td>\n",
       "      <td>December</td>\n",
       "      <td>Saturday</td>\n",
       "      <td>1</td>\n",
       "      <td>12</td>\n",
       "      <td>0</td>\n",
       "    </tr>\n",
       "    <tr>\n",
       "      <th>2011-06-11 01:00:00+00:00</th>\n",
       "      <td>summer</td>\n",
       "      <td>0</td>\n",
       "      <td>0</td>\n",
       "      <td>nice</td>\n",
       "      <td>28.70</td>\n",
       "      <td>33.335</td>\n",
       "      <td>79</td>\n",
       "      <td>6.0032</td>\n",
       "      <td>77</td>\n",
       "      <td>2011</td>\n",
       "      <td>6</td>\n",
       "      <td>June</td>\n",
       "      <td>Saturday</td>\n",
       "      <td>11</td>\n",
       "      <td>1</td>\n",
       "      <td>1</td>\n",
       "    </tr>\n",
       "    <tr>\n",
       "      <th>2012-03-07 15:00:00+00:00</th>\n",
       "      <td>spring</td>\n",
       "      <td>0</td>\n",
       "      <td>1</td>\n",
       "      <td>nice</td>\n",
       "      <td>22.14</td>\n",
       "      <td>25.760</td>\n",
       "      <td>37</td>\n",
       "      <td>30.0026</td>\n",
       "      <td>209</td>\n",
       "      <td>2012</td>\n",
       "      <td>3</td>\n",
       "      <td>March</td>\n",
       "      <td>Wednesday</td>\n",
       "      <td>7</td>\n",
       "      <td>15</td>\n",
       "      <td>0</td>\n",
       "    </tr>\n",
       "    <tr>\n",
       "      <th>2011-10-12 03:00:00+00:00</th>\n",
       "      <td>winter</td>\n",
       "      <td>0</td>\n",
       "      <td>1</td>\n",
       "      <td>bad</td>\n",
       "      <td>22.14</td>\n",
       "      <td>25.760</td>\n",
       "      <td>94</td>\n",
       "      <td>19.9995</td>\n",
       "      <td>2</td>\n",
       "      <td>2011</td>\n",
       "      <td>10</td>\n",
       "      <td>October</td>\n",
       "      <td>Wednesday</td>\n",
       "      <td>12</td>\n",
       "      <td>3</td>\n",
       "      <td>0</td>\n",
       "    </tr>\n",
       "  </tbody>\n",
       "</table>\n",
       "</div>"
      ]
     },
     "execution_count": 155,
     "metadata": {},
     "output_type": "execute_result"
    }
   ],
   "source": [
    "df_train.head()"
   ]
  },
  {
   "cell_type": "code",
   "execution_count": 98,
   "id": "10c464c1",
   "metadata": {},
   "outputs": [
    {
     "data": {
      "text/html": [
       "<pre style='white-space:pre;overflow-x:auto;line-height:normal'><span style=\"font-weight: bold\">(</span><span style=\"color: #101010; text-decoration-color: #101010\">8708</span>, <span style=\"color: #101010; text-decoration-color: #101010\">10</span><span style=\"font-weight: bold\">)</span>\n",
       "</pre>"
      ],
      "text/plain": [
       "\u001b[1m(\u001b[0m\u001b[38;2;16;16;16m8708\u001b[0m, \u001b[38;2;16;16;16m10\u001b[0m\u001b[1m)\u001b[0m\n"
      ]
     },
     "metadata": {},
     "output_type": "display_data"
    }
   ],
   "source": [
    "df_train.shape"
   ]
  },
  {
   "cell_type": "code",
   "execution_count": 99,
   "id": "342db130",
   "metadata": {},
   "outputs": [
    {
     "name": "stdout",
     "output_type": "stream",
     "text": [
      "<class 'pandas.core.frame.DataFrame'>\n",
      "Int64Index: 8708 entries, 7360 to 5787\n",
      "Data columns (total 10 columns):\n",
      " #   Column      Non-Null Count  Dtype  \n",
      "---  ------      --------------  -----  \n",
      " 0   datetime    8708 non-null   object \n",
      " 1   season      8708 non-null   int64  \n",
      " 2   holiday     8708 non-null   int64  \n",
      " 3   workingday  8708 non-null   int64  \n",
      " 4   weather     8708 non-null   int64  \n",
      " 5   temp        8708 non-null   float64\n",
      " 6   atemp       8708 non-null   float64\n",
      " 7   humidity    8708 non-null   int64  \n",
      " 8   windspeed   8708 non-null   float64\n",
      " 9   count       8708 non-null   int64  \n",
      "dtypes: float64(3), int64(6), object(1)\n",
      "memory usage: 748.3+ KB\n"
     ]
    }
   ],
   "source": [
    "df_train.info()"
   ]
  },
  {
   "cell_type": "code",
   "execution_count": 100,
   "id": "4b8e5150",
   "metadata": {},
   "outputs": [
    {
     "data": {
      "text/html": [
       "<pre style='white-space:pre;overflow-x:auto;line-height:normal'>\n",
       "datetime       object\n",
       "season          int64\n",
       "holiday         int64\n",
       "workingday      int64\n",
       "weather         int64\n",
       "temp          float64\n",
       "atemp         float64\n",
       "humidity        int64\n",
       "windspeed     float64\n",
       "count           int64\n",
       "dtype: object\n",
       "</pre>"
      ],
      "text/plain": [
       "\n",
       "datetime       object\n",
       "season          int64\n",
       "holiday         int64\n",
       "workingday      int64\n",
       "weather         int64\n",
       "temp          float64\n",
       "atemp         float64\n",
       "humidity        int64\n",
       "windspeed     float64\n",
       "count           int64\n",
       "dtype: object\n"
      ]
     },
     "metadata": {},
     "output_type": "display_data"
    }
   ],
   "source": [
    "df_train.dtypes"
   ]
  },
  {
   "cell_type": "markdown",
   "id": "383c1ce9",
   "metadata": {},
   "source": [
    "#### Step 3.2 - descriptive statistics"
   ]
  },
  {
   "cell_type": "code",
   "execution_count": 101,
   "id": "ae7405c3",
   "metadata": {},
   "outputs": [],
   "source": [
    "# translate the classes (numbers) into strings\n",
    "df_train.replace({'season'  : { 1 : 'spring', 2 : 'summer', 3 : 'fall', 4 : 'winter' }}, inplace = True)\n",
    "df_train.replace({'weather' : { 1 : 'nice'  , 2 : 'ok'    , 3 : 'bad' , 4 : 'worst'  }}, inplace = True)\n",
    "\n",
    "# set datetime as an index\n",
    "df_train['datetime'] = pd.to_datetime(df_train['datetime'], utc = True)\n",
    "df_train.set_index('datetime', inplace = True)\n",
    "\n",
    "# extract datetime information from the index\n",
    "df_train[\"year\"]       = df_train.index.year\n",
    "df_train[\"month\"]      = df_train.index.month\n",
    "df_train[\"month_name\"] = df_train.index.month_name()\n",
    "df_train[\"day_name\"]   = df_train.index.day_name()\n",
    "df_train[\"day\"]        = df_train.index.day\n",
    "df_train[\"hour\"]       = df_train.index.hour"
   ]
  },
  {
   "cell_type": "code",
   "execution_count": 102,
   "id": "72481011",
   "metadata": {},
   "outputs": [
    {
     "data": {
      "text/html": [
       "<div>\n",
       "<style scoped>\n",
       "    .dataframe tbody tr th:only-of-type {\n",
       "        vertical-align: middle;\n",
       "    }\n",
       "\n",
       "    .dataframe tbody tr th {\n",
       "        vertical-align: top;\n",
       "    }\n",
       "\n",
       "    .dataframe thead th {\n",
       "        text-align: right;\n",
       "    }\n",
       "</style>\n",
       "<table border=\"1\" class=\"dataframe\">\n",
       "  <thead>\n",
       "    <tr style=\"text-align: right;\">\n",
       "      <th></th>\n",
       "      <th>holiday</th>\n",
       "      <th>workingday</th>\n",
       "      <th>temp</th>\n",
       "      <th>atemp</th>\n",
       "      <th>humidity</th>\n",
       "      <th>windspeed</th>\n",
       "      <th>count</th>\n",
       "      <th>year</th>\n",
       "      <th>month</th>\n",
       "      <th>day</th>\n",
       "      <th>hour</th>\n",
       "    </tr>\n",
       "  </thead>\n",
       "  <tbody>\n",
       "    <tr>\n",
       "      <th>count</th>\n",
       "      <td>8708.000000</td>\n",
       "      <td>8708.000000</td>\n",
       "      <td>8708.000000</td>\n",
       "      <td>8708.000000</td>\n",
       "      <td>8708.000000</td>\n",
       "      <td>8708.000000</td>\n",
       "      <td>8708.000000</td>\n",
       "      <td>8708.000000</td>\n",
       "      <td>8708.000000</td>\n",
       "      <td>8708.000000</td>\n",
       "      <td>8708.000000</td>\n",
       "    </tr>\n",
       "    <tr>\n",
       "      <th>mean</th>\n",
       "      <td>0.028939</td>\n",
       "      <td>0.681902</td>\n",
       "      <td>20.236334</td>\n",
       "      <td>23.656412</td>\n",
       "      <td>61.865181</td>\n",
       "      <td>12.769146</td>\n",
       "      <td>191.045935</td>\n",
       "      <td>2011.499081</td>\n",
       "      <td>6.520441</td>\n",
       "      <td>9.969109</td>\n",
       "      <td>11.524001</td>\n",
       "    </tr>\n",
       "    <tr>\n",
       "      <th>std</th>\n",
       "      <td>0.167644</td>\n",
       "      <td>0.465765</td>\n",
       "      <td>7.771733</td>\n",
       "      <td>8.461706</td>\n",
       "      <td>19.293820</td>\n",
       "      <td>8.108651</td>\n",
       "      <td>180.570157</td>\n",
       "      <td>0.500028</td>\n",
       "      <td>3.444608</td>\n",
       "      <td>5.474947</td>\n",
       "      <td>6.934069</td>\n",
       "    </tr>\n",
       "    <tr>\n",
       "      <th>min</th>\n",
       "      <td>0.000000</td>\n",
       "      <td>0.000000</td>\n",
       "      <td>0.820000</td>\n",
       "      <td>0.760000</td>\n",
       "      <td>0.000000</td>\n",
       "      <td>0.000000</td>\n",
       "      <td>1.000000</td>\n",
       "      <td>2011.000000</td>\n",
       "      <td>1.000000</td>\n",
       "      <td>1.000000</td>\n",
       "      <td>0.000000</td>\n",
       "    </tr>\n",
       "    <tr>\n",
       "      <th>25%</th>\n",
       "      <td>0.000000</td>\n",
       "      <td>0.000000</td>\n",
       "      <td>13.940000</td>\n",
       "      <td>16.665000</td>\n",
       "      <td>47.000000</td>\n",
       "      <td>7.001500</td>\n",
       "      <td>41.000000</td>\n",
       "      <td>2011.000000</td>\n",
       "      <td>4.000000</td>\n",
       "      <td>5.000000</td>\n",
       "      <td>6.000000</td>\n",
       "    </tr>\n",
       "    <tr>\n",
       "      <th>50%</th>\n",
       "      <td>0.000000</td>\n",
       "      <td>1.000000</td>\n",
       "      <td>20.500000</td>\n",
       "      <td>24.240000</td>\n",
       "      <td>62.000000</td>\n",
       "      <td>12.998000</td>\n",
       "      <td>144.500000</td>\n",
       "      <td>2011.000000</td>\n",
       "      <td>7.000000</td>\n",
       "      <td>10.000000</td>\n",
       "      <td>12.000000</td>\n",
       "    </tr>\n",
       "    <tr>\n",
       "      <th>75%</th>\n",
       "      <td>0.000000</td>\n",
       "      <td>1.000000</td>\n",
       "      <td>26.240000</td>\n",
       "      <td>31.060000</td>\n",
       "      <td>77.000000</td>\n",
       "      <td>16.997900</td>\n",
       "      <td>284.000000</td>\n",
       "      <td>2012.000000</td>\n",
       "      <td>10.000000</td>\n",
       "      <td>15.000000</td>\n",
       "      <td>18.000000</td>\n",
       "    </tr>\n",
       "    <tr>\n",
       "      <th>max</th>\n",
       "      <td>1.000000</td>\n",
       "      <td>1.000000</td>\n",
       "      <td>39.360000</td>\n",
       "      <td>45.455000</td>\n",
       "      <td>100.000000</td>\n",
       "      <td>56.996900</td>\n",
       "      <td>970.000000</td>\n",
       "      <td>2012.000000</td>\n",
       "      <td>12.000000</td>\n",
       "      <td>19.000000</td>\n",
       "      <td>23.000000</td>\n",
       "    </tr>\n",
       "  </tbody>\n",
       "</table>\n",
       "</div>"
      ]
     },
     "execution_count": 102,
     "metadata": {},
     "output_type": "execute_result"
    }
   ],
   "source": [
    "# get a glance through the descriptive statistics\n",
    "df_train.describe()"
   ]
  },
  {
   "cell_type": "code",
   "execution_count": 103,
   "id": "e1d91da1",
   "metadata": {},
   "outputs": [
    {
     "data": {
      "text/html": [
       "<pre style='white-space:pre;overflow-x:auto;line-height:normal'>\n",
       "season        <span style=\"color: #101010; text-decoration-color: #101010\">0</span>\n",
       "holiday       <span style=\"color: #101010; text-decoration-color: #101010\">0</span>\n",
       "workingday    <span style=\"color: #101010; text-decoration-color: #101010\">0</span>\n",
       "weather       <span style=\"color: #101010; text-decoration-color: #101010\">0</span>\n",
       "temp          <span style=\"color: #101010; text-decoration-color: #101010\">0</span>\n",
       "atemp         <span style=\"color: #101010; text-decoration-color: #101010\">0</span>\n",
       "humidity      <span style=\"color: #101010; text-decoration-color: #101010\">0</span>\n",
       "windspeed     <span style=\"color: #101010; text-decoration-color: #101010\">0</span>\n",
       "count         <span style=\"color: #101010; text-decoration-color: #101010\">0</span>\n",
       "year          <span style=\"color: #101010; text-decoration-color: #101010\">0</span>\n",
       "month         <span style=\"color: #101010; text-decoration-color: #101010\">0</span>\n",
       "month_name    <span style=\"color: #101010; text-decoration-color: #101010\">0</span>\n",
       "day_name      <span style=\"color: #101010; text-decoration-color: #101010\">0</span>\n",
       "day           <span style=\"color: #101010; text-decoration-color: #101010\">0</span>\n",
       "hour          <span style=\"color: #101010; text-decoration-color: #101010\">0</span>\n",
       "dtype: int64\n",
       "</pre>"
      ],
      "text/plain": [
       "\n",
       "season        \u001b[38;2;16;16;16m0\u001b[0m\n",
       "holiday       \u001b[38;2;16;16;16m0\u001b[0m\n",
       "workingday    \u001b[38;2;16;16;16m0\u001b[0m\n",
       "weather       \u001b[38;2;16;16;16m0\u001b[0m\n",
       "temp          \u001b[38;2;16;16;16m0\u001b[0m\n",
       "atemp         \u001b[38;2;16;16;16m0\u001b[0m\n",
       "humidity      \u001b[38;2;16;16;16m0\u001b[0m\n",
       "windspeed     \u001b[38;2;16;16;16m0\u001b[0m\n",
       "count         \u001b[38;2;16;16;16m0\u001b[0m\n",
       "year          \u001b[38;2;16;16;16m0\u001b[0m\n",
       "month         \u001b[38;2;16;16;16m0\u001b[0m\n",
       "month_name    \u001b[38;2;16;16;16m0\u001b[0m\n",
       "day_name      \u001b[38;2;16;16;16m0\u001b[0m\n",
       "day           \u001b[38;2;16;16;16m0\u001b[0m\n",
       "hour          \u001b[38;2;16;16;16m0\u001b[0m\n",
       "dtype: int64\n"
      ]
     },
     "metadata": {},
     "output_type": "display_data"
    }
   ],
   "source": [
    "df_train.isna().sum()"
   ]
  },
  {
   "cell_type": "code",
   "execution_count": 104,
   "id": "8dfee890",
   "metadata": {},
   "outputs": [
    {
     "data": {
      "text/html": [
       "<pre style='white-space:pre;overflow-x:auto;line-height:normal'>\n",
       "<span style=\"font-weight: bold\">[</span>\n",
       "<span style=\"color: #808080; text-decoration-color: #808080\">│   </span><span style=\"color: #0011aa; text-decoration-color: #0011aa\">Text</span><span style=\"font-weight: bold\">(</span><span style=\"color: #101010; text-decoration-color: #101010\">0.5</span>, <span style=\"color: #101010; text-decoration-color: #101010\">0</span>, <span style=\"color: #8b008b; text-decoration-color: #8b008b\">'Working Day'</span><span style=\"font-weight: bold\">)</span>,\n",
       "<span style=\"color: #808080; text-decoration-color: #808080\">│   </span><span style=\"color: #0011aa; text-decoration-color: #0011aa\">Text</span><span style=\"font-weight: bold\">(</span><span style=\"color: #101010; text-decoration-color: #101010\">0</span>, <span style=\"color: #101010; text-decoration-color: #101010\">0.5</span>, <span style=\"color: #8b008b; text-decoration-color: #8b008b\">'Count'</span><span style=\"font-weight: bold\">)</span>,\n",
       "<span style=\"color: #808080; text-decoration-color: #808080\">│   </span><span style=\"color: #0011aa; text-decoration-color: #0011aa\">Text</span><span style=\"font-weight: bold\">(</span><span style=\"color: #101010; text-decoration-color: #101010\">0.5</span>, <span style=\"color: #101010; text-decoration-color: #101010\">1.0</span>, <span style=\"color: #8b008b; text-decoration-color: #8b008b\">'Box Plot On Count Across Working Day'</span><span style=\"font-weight: bold\">)</span>\n",
       "<span style=\"font-weight: bold\">]</span>\n",
       "</pre>"
      ],
      "text/plain": [
       "\n",
       "\u001b[1m[\u001b[0m\n",
       "\u001b[38;2;128;128;128m│   \u001b[0m\u001b[38;2;0;17;170mText\u001b[0m\u001b[1m(\u001b[0m\u001b[38;2;16;16;16m0.5\u001b[0m, \u001b[38;2;16;16;16m0\u001b[0m, \u001b[38;2;139;0;139m'Working Day'\u001b[0m\u001b[1m)\u001b[0m,\n",
       "\u001b[38;2;128;128;128m│   \u001b[0m\u001b[38;2;0;17;170mText\u001b[0m\u001b[1m(\u001b[0m\u001b[38;2;16;16;16m0\u001b[0m, \u001b[38;2;16;16;16m0.5\u001b[0m, \u001b[38;2;139;0;139m'Count'\u001b[0m\u001b[1m)\u001b[0m,\n",
       "\u001b[38;2;128;128;128m│   \u001b[0m\u001b[38;2;0;17;170mText\u001b[0m\u001b[1m(\u001b[0m\u001b[38;2;16;16;16m0.5\u001b[0m, \u001b[38;2;16;16;16m1.0\u001b[0m, \u001b[38;2;139;0;139m'Box Plot On Count Across Working Day'\u001b[0m\u001b[1m)\u001b[0m\n",
       "\u001b[1m]\u001b[0m\n"
      ]
     },
     "metadata": {},
     "output_type": "display_data"
    },
    {
     "data": {
      "image/png": "[encoded data removed]"
     },
     "metadata": {
      "needs_background": "light"
     },
     "output_type": "display_data"
    }
   ],
   "source": [
    "fig, axes = plt.subplots(nrows = 2, ncols = 2)\n",
    "fig.set_size_inches(12, 10)\n",
    "\n",
    "sns.boxplot(data = df_train, y = \"count\"                   , orient = \"v\", ax = axes[0][0])\n",
    "sns.boxplot(data = df_train, y = \"count\", x = \"season\"     , orient = \"v\", ax = axes[0][1])\n",
    "sns.boxplot(data = df_train, y = \"count\", x = \"hour\"       , orient = \"v\", ax = axes[1][0])\n",
    "sns.boxplot(data = df_train, y = \"count\", x = \"workingday\" , orient = \"v\", ax = axes[1][1])\n",
    "\n",
    "axes[0][0].set(                             ylabel = 'Count', title = \"Box Plot On Count\")\n",
    "axes[0][1].set(xlabel = 'Season'          , ylabel = 'Count', title = \"Box Plot On Count Across Season\")\n",
    "axes[1][0].set(xlabel = 'Hour Of The Day' , ylabel = 'Count', title = \"Box Plot On Count Across Hour Of The Day\")\n",
    "axes[1][1].set(xlabel = 'Working Day'     , ylabel = 'Count', title = \"Box Plot On Count Across Working Day\")"
   ]
  },
  {
   "cell_type": "code",
   "execution_count": 105,
   "id": "5366a5e1",
   "metadata": {},
   "outputs": [
    {
     "data": {
      "text/html": [
       "<pre style='white-space:pre;overflow-x:auto;line-height:normal'><span style=\"color: #8b008b; text-decoration-color: #8b008b\">'\\nfig,</span><span style=\"color: #8b008b; text-decoration-color: #8b008b; font-weight: bold\">(</span><span style=\"color: #8b008b; text-decoration-color: #8b008b\">ax1,ax2,ax3</span><span style=\"color: #8b008b; text-decoration-color: #8b008b; font-weight: bold\">)</span><span style=\"color: #8b008b; text-decoration-color: #8b008b\">= plt.subplots</span><span style=\"color: #8b008b; text-decoration-color: #8b008b; font-weight: bold\">(</span><span style=\"color: #8b008b; text-decoration-color: #8b008b\">nrows=3</span><span style=\"color: #8b008b; text-decoration-color: #8b008b; font-weight: bold\">)</span><span style=\"color: #8b008b; text-decoration-color: #8b008b\">\\nfig.set_size_inches</span><span style=\"color: #8b008b; text-decoration-color: #8b008b; font-weight: bold\">(</span><span style=\"color: #8b008b; text-decoration-color: #8b008b\">12,20</span><span style=\"color: #8b008b; text-decoration-color: #8b008b; font-weight: bold\">)</span><span style=\"color: #8b008b; text-decoration-color: #8b008b\">\\n\\nsortOrder = </span><span style=\"color: #8b008b; text-decoration-color: #8b008b; font-weight: bold\">[</span><span style=\"color: #8b008b; text-decoration-color: #8b008b\">\"January\",\"February\",\"March\",\"April\",\"May\",\"June\",\"July\",\"August\",\"September\",\"October\",\"November\",\"December\"</span><span style=\"color: #8b008b; text-decoration-color: #8b008b; font-weight: bold\">]</span><span style=\"color: #8b008b; text-decoration-color: #8b008b\">\\nhueOrder = </span><span style=\"color: #8b008b; text-decoration-color: #8b008b; font-weight: bold\">[</span><span style=\"color: #8b008b; text-decoration-color: #8b008b\">\"Sunday\",\"Monday\",\"Tuesday\",\"Wednesday\",\"Thursday\",\"Friday\",\"Saturday\"</span><span style=\"color: #8b008b; text-decoration-color: #8b008b; font-weight: bold\">]</span><span style=\"color: #8b008b; text-decoration-color: #8b008b\">\\n\\nmonthAggregated = pd.DataFrame</span><span style=\"color: #8b008b; text-decoration-color: #8b008b; font-weight: bold\">(</span><span style=\"color: #8b008b; text-decoration-color: #8b008b\">df_train.groupby</span><span style=\"color: #8b008b; text-decoration-color: #8b008b; font-weight: bold\">(</span><span style=\"color: #8b008b; text-decoration-color: #8b008b\">\"month\"</span><span style=\"color: #8b008b; text-decoration-color: #8b008b; font-weight: bold\">)[</span><span style=\"color: #8b008b; text-decoration-color: #8b008b\">\"count\"</span><span style=\"color: #8b008b; text-decoration-color: #8b008b; font-weight: bold\">]</span><span style=\"color: #8b008b; text-decoration-color: #8b008b\">.mean</span><span style=\"color: #8b008b; text-decoration-color: #8b008b; font-weight: bold\">())</span><span style=\"color: #8b008b; text-decoration-color: #8b008b\">.reset_index</span><span style=\"color: #8b008b; text-decoration-color: #8b008b; font-weight: bold\">()</span><span style=\"color: #8b008b; text-decoration-color: #8b008b\">\\nmonthSorted = monthAggregated.sort_values</span><span style=\"color: #8b008b; text-decoration-color: #8b008b; font-weight: bold\">(</span><span style=\"color: #8b008b; text-decoration-color: #8b008b\">by=\"count\",ascending=False</span><span style=\"color: #8b008b; text-decoration-color: #8b008b; font-weight: bold\">)</span><span style=\"color: #8b008b; text-decoration-color: #8b008b\">\\nsns.barplot</span><span style=\"color: #8b008b; text-decoration-color: #8b008b; font-weight: bold\">(</span><span style=\"color: #8b008b; text-decoration-color: #8b008b\">data=monthSorted,x=\"month\",y=\"count\",ax=ax1,order=sortOrder</span><span style=\"color: #8b008b; text-decoration-color: #8b008b; font-weight: bold\">)</span><span style=\"color: #8b008b; text-decoration-color: #8b008b\">\\nax1.set</span><span style=\"color: #8b008b; text-decoration-color: #8b008b; font-weight: bold\">(</span><span style=\"color: #8b008b; text-decoration-color: #8b008b\">xlabel=\\'Month\\', ylabel=\\'Avearage Count\\',title=\"Average Count By Month\"</span><span style=\"color: #8b008b; text-decoration-color: #8b008b; font-weight: bold\">)</span><span style=\"color: #8b008b; text-decoration-color: #8b008b\">\\n\\nhourAggregated = pd.DataFrame</span><span style=\"color: #8b008b; text-decoration-color: #8b008b; font-weight: bold\">(</span><span style=\"color: #8b008b; text-decoration-color: #8b008b\">df_train.groupby</span><span style=\"color: #8b008b; text-decoration-color: #8b008b; font-weight: bold\">([</span><span style=\"color: #8b008b; text-decoration-color: #8b008b\">\"hour\",\"season\"</span><span style=\"color: #8b008b; text-decoration-color: #8b008b; font-weight: bold\">]</span><span style=\"color: #8b008b; text-decoration-color: #8b008b\">,sort=True</span><span style=\"color: #8b008b; text-decoration-color: #8b008b; font-weight: bold\">)[</span><span style=\"color: #8b008b; text-decoration-color: #8b008b\">\"count\"</span><span style=\"color: #8b008b; text-decoration-color: #8b008b; font-weight: bold\">]</span><span style=\"color: #8b008b; text-decoration-color: #8b008b\">.mean</span><span style=\"color: #8b008b; text-decoration-color: #8b008b; font-weight: bold\">())</span><span style=\"color: #8b008b; text-decoration-color: #8b008b\">.reset_index</span><span style=\"color: #8b008b; text-decoration-color: #8b008b; font-weight: bold\">()</span><span style=\"color: #8b008b; text-decoration-color: #8b008b\">\\nsns.pointplot</span><span style=\"color: #8b008b; text-decoration-color: #8b008b; font-weight: bold\">(</span><span style=\"color: #8b008b; text-decoration-color: #8b008b\">x=hourAggregated</span><span style=\"color: #8b008b; text-decoration-color: #8b008b; font-weight: bold\">[</span><span style=\"color: #8b008b; text-decoration-color: #8b008b\">\"hour\"</span><span style=\"color: #8b008b; text-decoration-color: #8b008b; font-weight: bold\">]</span><span style=\"color: #8b008b; text-decoration-color: #8b008b\">, y=hourAggregated</span><span style=\"color: #8b008b; text-decoration-color: #8b008b; font-weight: bold\">[</span><span style=\"color: #8b008b; text-decoration-color: #8b008b\">\"count\"</span><span style=\"color: #8b008b; text-decoration-color: #8b008b; font-weight: bold\">]</span><span style=\"color: #8b008b; text-decoration-color: #8b008b\">,hue=hourAggregated</span><span style=\"color: #8b008b; text-decoration-color: #8b008b; font-weight: bold\">[</span><span style=\"color: #8b008b; text-decoration-color: #8b008b\">\"season\"</span><span style=\"color: #8b008b; text-decoration-color: #8b008b; font-weight: bold\">]</span><span style=\"color: #8b008b; text-decoration-color: #8b008b\">, data=hourAggregated, join=True,ax=ax2</span><span style=\"color: #8b008b; text-decoration-color: #8b008b; font-weight: bold\">)</span><span style=\"color: #8b008b; text-decoration-color: #8b008b\">\\nax2.set</span><span style=\"color: #8b008b; text-decoration-color: #8b008b; font-weight: bold\">(</span><span style=\"color: #8b008b; text-decoration-color: #8b008b\">xlabel=\\'Hour Of The Day\\', ylabel=\\'Users Count\\',title=\"Average Users Count By Hour Of The Day Across Season\",label=\\'big\\'</span><span style=\"color: #8b008b; text-decoration-color: #8b008b; font-weight: bold\">)</span><span style=\"color: #8b008b; text-decoration-color: #8b008b\">\\n\\nhourAggregated = pd.DataFrame</span><span style=\"color: #8b008b; text-decoration-color: #8b008b; font-weight: bold\">(</span><span style=\"color: #8b008b; text-decoration-color: #8b008b\">df_train.groupby</span><span style=\"color: #8b008b; text-decoration-color: #8b008b; font-weight: bold\">([</span><span style=\"color: #8b008b; text-decoration-color: #8b008b\">\"hour\",\"weekday\"</span><span style=\"color: #8b008b; text-decoration-color: #8b008b; font-weight: bold\">]</span><span style=\"color: #8b008b; text-decoration-color: #8b008b\">,sort=True</span><span style=\"color: #8b008b; text-decoration-color: #8b008b; font-weight: bold\">)[</span><span style=\"color: #8b008b; text-decoration-color: #8b008b\">\"count\"</span><span style=\"color: #8b008b; text-decoration-color: #8b008b; font-weight: bold\">]</span><span style=\"color: #8b008b; text-decoration-color: #8b008b\">.mean</span><span style=\"color: #8b008b; text-decoration-color: #8b008b; font-weight: bold\">())</span><span style=\"color: #8b008b; text-decoration-color: #8b008b\">.reset_index</span><span style=\"color: #8b008b; text-decoration-color: #8b008b; font-weight: bold\">()</span><span style=\"color: #8b008b; text-decoration-color: #8b008b\">\\nsns.pointplot</span><span style=\"color: #8b008b; text-decoration-color: #8b008b; font-weight: bold\">(</span><span style=\"color: #8b008b; text-decoration-color: #8b008b\">x=hourAggregated</span><span style=\"color: #8b008b; text-decoration-color: #8b008b; font-weight: bold\">[</span><span style=\"color: #8b008b; text-decoration-color: #8b008b\">\"hour\"</span><span style=\"color: #8b008b; text-decoration-color: #8b008b; font-weight: bold\">]</span><span style=\"color: #8b008b; text-decoration-color: #8b008b\">, y=hourAggregated</span><span style=\"color: #8b008b; text-decoration-color: #8b008b; font-weight: bold\">[</span><span style=\"color: #8b008b; text-decoration-color: #8b008b\">\"count\"</span><span style=\"color: #8b008b; text-decoration-color: #8b008b; font-weight: bold\">]</span><span style=\"color: #8b008b; text-decoration-color: #8b008b\">,hue=hourAggregated</span><span style=\"color: #8b008b; text-decoration-color: #8b008b; font-weight: bold\">[</span><span style=\"color: #8b008b; text-decoration-color: #8b008b\">\"weekday\"</span><span style=\"color: #8b008b; text-decoration-color: #8b008b; font-weight: bold\">]</span><span style=\"color: #8b008b; text-decoration-color: #8b008b\">,hue_order=hueOrder, data=hourAggregated, join=True,ax=ax3</span><span style=\"color: #8b008b; text-decoration-color: #8b008b; font-weight: bold\">)</span><span style=\"color: #8b008b; text-decoration-color: #8b008b\">\\nax3.set</span><span style=\"color: #8b008b; text-decoration-color: #8b008b; font-weight: bold\">(</span><span style=\"color: #8b008b; text-decoration-color: #8b008b\">xlabel=\\'Hour Of The Day\\', ylabel=\\'Users Count\\',title=\"Average Users Count By Hour Of The Day Across Weekdays\",label=\\'big\\'</span><span style=\"color: #8b008b; text-decoration-color: #8b008b; font-weight: bold\">)</span><span style=\"color: #8b008b; text-decoration-color: #8b008b\">\\n'</span>\n",
       "</pre>"
      ],
      "text/plain": [
       "\u001b[38;2;139;0;139m'\\nfig,\u001b[0m\u001b[1;38;2;139;0;139m(\u001b[0m\u001b[38;2;139;0;139max1,ax2,ax3\u001b[0m\u001b[1;38;2;139;0;139m)\u001b[0m\u001b[38;2;139;0;139m= plt.subplots\u001b[0m\u001b[1;38;2;139;0;139m(\u001b[0m\u001b[38;2;139;0;139mnrows\u001b[0m\u001b[38;2;139;0;139m=\u001b[0m\u001b[38;2;139;0;139m3\u001b[0m\u001b[1;38;2;139;0;139m)\u001b[0m\u001b[38;2;139;0;139m\\nfig.set_size_inches\u001b[0m\u001b[1;38;2;139;0;139m(\u001b[0m\u001b[38;2;139;0;139m12,20\u001b[0m\u001b[1;38;2;139;0;139m)\u001b[0m\u001b[38;2;139;0;139m\\n\\nsortOrder = \u001b[0m\u001b[1;38;2;139;0;139m[\u001b[0m\u001b[38;2;139;0;139m\"January\",\"February\",\"March\",\"April\",\"May\",\"June\",\"July\",\"August\",\"September\",\"October\",\"November\",\"December\"\u001b[0m\u001b[1;38;2;139;0;139m]\u001b[0m\u001b[38;2;139;0;139m\\nhueOrder = \u001b[0m\u001b[1;38;2;139;0;139m[\u001b[0m\u001b[38;2;139;0;139m\"Sunday\",\"Monday\",\"Tuesday\",\"Wednesday\",\"Thursday\",\"Friday\",\"Saturday\"\u001b[0m\u001b[1;38;2;139;0;139m]\u001b[0m\u001b[38;2;139;0;139m\\n\\nmonthAggregated = pd.DataFrame\u001b[0m\u001b[1;38;2;139;0;139m(\u001b[0m\u001b[38;2;139;0;139mdf_train.groupby\u001b[0m\u001b[1;38;2;139;0;139m(\u001b[0m\u001b[38;2;139;0;139m\"month\"\u001b[0m\u001b[1;38;2;139;0;139m)\u001b[0m\u001b[1;38;2;139;0;139m[\u001b[0m\u001b[38;2;139;0;139m\"count\"\u001b[0m\u001b[1;38;2;139;0;139m]\u001b[0m\u001b[38;2;139;0;139m.mean\u001b[0m\u001b[1;38;2;139;0;139m(\u001b[0m\u001b[1;38;2;139;0;139m)\u001b[0m\u001b[1;38;2;139;0;139m)\u001b[0m\u001b[38;2;139;0;139m.reset_index\u001b[0m\u001b[1;38;2;139;0;139m(\u001b[0m\u001b[1;38;2;139;0;139m)\u001b[0m\u001b[38;2;139;0;139m\\nmonthSorted = monthAggregated.sort_values\u001b[0m\u001b[1;38;2;139;0;139m(\u001b[0m\u001b[38;2;139;0;139mby\u001b[0m\u001b[38;2;139;0;139m=\u001b[0m\u001b[38;2;139;0;139m\"count\"\u001b[0m\u001b[38;2;139;0;139m,\u001b[0m\u001b[38;2;139;0;139mascending\u001b[0m\u001b[38;2;139;0;139m=\u001b[0m\u001b[38;2;139;0;139mFalse\u001b[0m\u001b[1;38;2;139;0;139m)\u001b[0m\u001b[38;2;139;0;139m\\nsns.barplot\u001b[0m\u001b[1;38;2;139;0;139m(\u001b[0m\u001b[38;2;139;0;139mdata\u001b[0m\u001b[38;2;139;0;139m=\u001b[0m\u001b[38;2;139;0;139mmonthSorted\u001b[0m\u001b[38;2;139;0;139m,\u001b[0m\u001b[38;2;139;0;139mx\u001b[0m\u001b[38;2;139;0;139m=\u001b[0m\u001b[38;2;139;0;139m\"month\"\u001b[0m\u001b[38;2;139;0;139m,\u001b[0m\u001b[38;2;139;0;139my\u001b[0m\u001b[38;2;139;0;139m=\u001b[0m\u001b[38;2;139;0;139m\"count\"\u001b[0m\u001b[38;2;139;0;139m,\u001b[0m\u001b[38;2;139;0;139max\u001b[0m\u001b[38;2;139;0;139m=\u001b[0m\u001b[38;2;139;0;139max1\u001b[0m\u001b[38;2;139;0;139m,\u001b[0m\u001b[38;2;139;0;139morder\u001b[0m\u001b[38;2;139;0;139m=\u001b[0m\u001b[38;2;139;0;139msortOrder\u001b[0m\u001b[1;38;2;139;0;139m)\u001b[0m\u001b[38;2;139;0;139m\\nax1.set\u001b[0m\u001b[1;38;2;139;0;139m(\u001b[0m\u001b[38;2;139;0;139mxlabel\u001b[0m\u001b[38;2;139;0;139m=\\'Month\\', \u001b[0m\u001b[38;2;139;0;139mylabel\u001b[0m\u001b[38;2;139;0;139m=\\'Avearage Count\\',\u001b[0m\u001b[38;2;139;0;139mtitle\u001b[0m\u001b[38;2;139;0;139m=\u001b[0m\u001b[38;2;139;0;139m\"Average\u001b[0m\u001b[38;2;139;0;139m Count By Month\"\u001b[0m\u001b[1;38;2;139;0;139m)\u001b[0m\u001b[38;2;139;0;139m\\n\\nhourAggregated = pd.DataFrame\u001b[0m\u001b[1;38;2;139;0;139m(\u001b[0m\u001b[38;2;139;0;139mdf_train.groupby\u001b[0m\u001b[1;38;2;139;0;139m(\u001b[0m\u001b[1;38;2;139;0;139m[\u001b[0m\u001b[38;2;139;0;139m\"hour\",\"season\"\u001b[0m\u001b[1;38;2;139;0;139m]\u001b[0m\u001b[38;2;139;0;139m,\u001b[0m\u001b[38;2;139;0;139msort\u001b[0m\u001b[38;2;139;0;139m=\u001b[0m\u001b[38;2;139;0;139mTrue\u001b[0m\u001b[1;38;2;139;0;139m)\u001b[0m\u001b[1;38;2;139;0;139m[\u001b[0m\u001b[38;2;139;0;139m\"count\"\u001b[0m\u001b[1;38;2;139;0;139m]\u001b[0m\u001b[38;2;139;0;139m.mean\u001b[0m\u001b[1;38;2;139;0;139m(\u001b[0m\u001b[1;38;2;139;0;139m)\u001b[0m\u001b[1;38;2;139;0;139m)\u001b[0m\u001b[38;2;139;0;139m.reset_index\u001b[0m\u001b[1;38;2;139;0;139m(\u001b[0m\u001b[1;38;2;139;0;139m)\u001b[0m\u001b[38;2;139;0;139m\\nsns.pointplot\u001b[0m\u001b[1;38;2;139;0;139m(\u001b[0m\u001b[38;2;139;0;139mx\u001b[0m\u001b[38;2;139;0;139m=\u001b[0m\u001b[38;2;139;0;139mhourAggregated\u001b[0m\u001b[1;38;2;139;0;139m[\u001b[0m\u001b[38;2;139;0;139m\"hour\"\u001b[0m\u001b[1;38;2;139;0;139m]\u001b[0m\u001b[38;2;139;0;139m, \u001b[0m\u001b[38;2;139;0;139my\u001b[0m\u001b[38;2;139;0;139m=\u001b[0m\u001b[38;2;139;0;139mhourAggregated\u001b[0m\u001b[1;38;2;139;0;139m[\u001b[0m\u001b[38;2;139;0;139m\"count\"\u001b[0m\u001b[1;38;2;139;0;139m]\u001b[0m\u001b[38;2;139;0;139m,\u001b[0m\u001b[38;2;139;0;139mhue\u001b[0m\u001b[38;2;139;0;139m=\u001b[0m\u001b[38;2;139;0;139mhourAggregated\u001b[0m\u001b[1;38;2;139;0;139m[\u001b[0m\u001b[38;2;139;0;139m\"season\"\u001b[0m\u001b[1;38;2;139;0;139m]\u001b[0m\u001b[38;2;139;0;139m, \u001b[0m\u001b[38;2;139;0;139mdata\u001b[0m\u001b[38;2;139;0;139m=\u001b[0m\u001b[38;2;139;0;139mhourAggregated\u001b[0m\u001b[38;2;139;0;139m, \u001b[0m\u001b[38;2;139;0;139mjoin\u001b[0m\u001b[38;2;139;0;139m=\u001b[0m\u001b[38;2;139;0;139mTrue\u001b[0m\u001b[38;2;139;0;139m,\u001b[0m\u001b[38;2;139;0;139max\u001b[0m\u001b[38;2;139;0;139m=\u001b[0m\u001b[38;2;139;0;139max2\u001b[0m\u001b[1;38;2;139;0;139m)\u001b[0m\u001b[38;2;139;0;139m\\nax2.set\u001b[0m\u001b[1;38;2;139;0;139m(\u001b[0m\u001b[38;2;139;0;139mxlabel\u001b[0m\u001b[38;2;139;0;139m=\\'Hour Of The Day\\', \u001b[0m\u001b[38;2;139;0;139mylabel\u001b[0m\u001b[38;2;139;0;139m=\\'Users Count\\',\u001b[0m\u001b[38;2;139;0;139mtitle\u001b[0m\u001b[38;2;139;0;139m=\u001b[0m\u001b[38;2;139;0;139m\"Average\u001b[0m\u001b[38;2;139;0;139m Users Count By Hour Of The Day Across Season\",\u001b[0m\u001b[38;2;139;0;139mlabel\u001b[0m\u001b[38;2;139;0;139m=\\'big\\'\u001b[0m\u001b[1;38;2;139;0;139m)\u001b[0m\u001b[38;2;139;0;139m\\n\\nhourAggregated = pd.DataFrame\u001b[0m\u001b[1;38;2;139;0;139m(\u001b[0m\u001b[38;2;139;0;139mdf_train.groupby\u001b[0m\u001b[1;38;2;139;0;139m(\u001b[0m\u001b[1;38;2;139;0;139m[\u001b[0m\u001b[38;2;139;0;139m\"hour\",\"weekday\"\u001b[0m\u001b[1;38;2;139;0;139m]\u001b[0m\u001b[38;2;139;0;139m,\u001b[0m\u001b[38;2;139;0;139msort\u001b[0m\u001b[38;2;139;0;139m=\u001b[0m\u001b[38;2;139;0;139mTrue\u001b[0m\u001b[1;38;2;139;0;139m)\u001b[0m\u001b[1;38;2;139;0;139m[\u001b[0m\u001b[38;2;139;0;139m\"count\"\u001b[0m\u001b[1;38;2;139;0;139m]\u001b[0m\u001b[38;2;139;0;139m.mean\u001b[0m\u001b[1;38;2;139;0;139m(\u001b[0m\u001b[1;38;2;139;0;139m)\u001b[0m\u001b[1;38;2;139;0;139m)\u001b[0m\u001b[38;2;139;0;139m.reset_index\u001b[0m\u001b[1;38;2;139;0;139m(\u001b[0m\u001b[1;38;2;139;0;139m)\u001b[0m\u001b[38;2;139;0;139m\\nsns.pointplot\u001b[0m\u001b[1;38;2;139;0;139m(\u001b[0m\u001b[38;2;139;0;139mx\u001b[0m\u001b[38;2;139;0;139m=\u001b[0m\u001b[38;2;139;0;139mhourAggregated\u001b[0m\u001b[1;38;2;139;0;139m[\u001b[0m\u001b[38;2;139;0;139m\"hour\"\u001b[0m\u001b[1;38;2;139;0;139m]\u001b[0m\u001b[38;2;139;0;139m, \u001b[0m\u001b[38;2;139;0;139my\u001b[0m\u001b[38;2;139;0;139m=\u001b[0m\u001b[38;2;139;0;139mhourAggregated\u001b[0m\u001b[1;38;2;139;0;139m[\u001b[0m\u001b[38;2;139;0;139m\"count\"\u001b[0m\u001b[1;38;2;139;0;139m]\u001b[0m\u001b[38;2;139;0;139m,\u001b[0m\u001b[38;2;139;0;139mhue\u001b[0m\u001b[38;2;139;0;139m=\u001b[0m\u001b[38;2;139;0;139mhourAggregated\u001b[0m\u001b[1;38;2;139;0;139m[\u001b[0m\u001b[38;2;139;0;139m\"weekday\"\u001b[0m\u001b[1;38;2;139;0;139m]\u001b[0m\u001b[38;2;139;0;139m,\u001b[0m\u001b[38;2;139;0;139mhue_order\u001b[0m\u001b[38;2;139;0;139m=\u001b[0m\u001b[38;2;139;0;139mhueOrder\u001b[0m\u001b[38;2;139;0;139m, \u001b[0m\u001b[38;2;139;0;139mdata\u001b[0m\u001b[38;2;139;0;139m=\u001b[0m\u001b[38;2;139;0;139mhourAggregated\u001b[0m\u001b[38;2;139;0;139m, \u001b[0m\u001b[38;2;139;0;139mjoin\u001b[0m\u001b[38;2;139;0;139m=\u001b[0m\u001b[38;2;139;0;139mTrue\u001b[0m\u001b[38;2;139;0;139m,\u001b[0m\u001b[38;2;139;0;139max\u001b[0m\u001b[38;2;139;0;139m=\u001b[0m\u001b[38;2;139;0;139max3\u001b[0m\u001b[1;38;2;139;0;139m)\u001b[0m\u001b[38;2;139;0;139m\\nax3.set\u001b[0m\u001b[1;38;2;139;0;139m(\u001b[0m\u001b[38;2;139;0;139mxlabel\u001b[0m\u001b[38;2;139;0;139m=\\'Hour Of The Day\\', \u001b[0m\u001b[38;2;139;0;139mylabel\u001b[0m\u001b[38;2;139;0;139m=\\'Users Count\\',\u001b[0m\u001b[38;2;139;0;139mtitle\u001b[0m\u001b[38;2;139;0;139m=\u001b[0m\u001b[38;2;139;0;139m\"Average\u001b[0m\u001b[38;2;139;0;139m Users Count By Hour Of The Day Across Weekdays\",\u001b[0m\u001b[38;2;139;0;139mlabel\u001b[0m\u001b[38;2;139;0;139m=\\'big\\'\u001b[0m\u001b[1;38;2;139;0;139m)\u001b[0m\u001b[38;2;139;0;139m\\n'\u001b[0m\n"
      ]
     },
     "metadata": {},
     "output_type": "display_data"
    }
   ],
   "source": [
    "'''\n",
    "fig,(ax1,ax2,ax3)= plt.subplots(nrows=3)\n",
    "fig.set_size_inches(12,20)\n",
    "\n",
    "sortOrder = [\"January\",\"February\",\"March\",\"April\",\"May\",\"June\",\"July\",\"August\",\"September\",\"October\",\"November\",\"December\"]\n",
    "hueOrder = [\"Sunday\",\"Monday\",\"Tuesday\",\"Wednesday\",\"Thursday\",\"Friday\",\"Saturday\"]\n",
    "\n",
    "monthAggregated = pd.DataFrame(df_train.groupby(\"month\")[\"count\"].mean()).reset_index()\n",
    "monthSorted = monthAggregated.sort_values(by=\"count\",ascending=False)\n",
    "sns.barplot(data=monthSorted,x=\"month\",y=\"count\",ax=ax1,order=sortOrder)\n",
    "ax1.set(xlabel='Month', ylabel='Avearage Count',title=\"Average Count By Month\")\n",
    "\n",
    "hourAggregated = pd.DataFrame(df_train.groupby([\"hour\",\"season\"],sort=True)[\"count\"].mean()).reset_index()\n",
    "sns.pointplot(x=hourAggregated[\"hour\"], y=hourAggregated[\"count\"],hue=hourAggregated[\"season\"], data=hourAggregated, join=True,ax=ax2)\n",
    "ax2.set(xlabel='Hour Of The Day', ylabel='Users Count',title=\"Average Users Count By Hour Of The Day Across Season\",label='big')\n",
    "\n",
    "hourAggregated = pd.DataFrame(df_train.groupby([\"hour\",\"weekday\"],sort=True)[\"count\"].mean()).reset_index()\n",
    "sns.pointplot(x=hourAggregated[\"hour\"], y=hourAggregated[\"count\"],hue=hourAggregated[\"weekday\"],hue_order=hueOrder, data=hourAggregated, join=True,ax=ax3)\n",
    "ax3.set(xlabel='Hour Of The Day', ylabel='Users Count',title=\"Average Users Count By Hour Of The Day Across Weekdays\",label='big')\n",
    "'''"
   ]
  },
  {
   "cell_type": "code",
   "execution_count": 106,
   "id": "0af8bc84",
   "metadata": {},
   "outputs": [
    {
     "data": {
      "image/png": "[encoded data removed]"
     },
     "metadata": {
      "needs_background": "light"
     },
     "output_type": "display_data"
    }
   ],
   "source": [
    "sns.lineplot(x = 'month', y = 'count', data = df_train, estimator = np.average, hue = 'weather', palette = 'coolwarm')"
   ]
  },
  {
   "cell_type": "code",
   "execution_count": 107,
   "id": "9c0ed88c",
   "metadata": {},
   "outputs": [
    {
     "data": {
      "image/png": "[encoded data removed]"
     },
     "metadata": {
      "needs_background": "light"
     },
     "output_type": "display_data"
    }
   ],
   "source": [
    "sns.barplot(data = df_train, \n",
    "            y    = \"count\", \n",
    "            hue  = \"workingday\", \n",
    "            x    = \"weather\")"
   ]
  },
  {
   "cell_type": "code",
   "execution_count": 108,
   "id": "08b5211a",
   "metadata": {},
   "outputs": [
    {
     "data": {
      "image/png": "[encoded data removed]"
     },
     "metadata": {
      "needs_background": "light"
     },
     "output_type": "display_data"
    }
   ],
   "source": [
    "sns.heatmap(df_train.corr(),cbar=True,annot=True,cmap=\"Blues\");"
   ]
  },
  {
   "cell_type": "markdown",
   "id": "d7e27838",
   "metadata": {},
   "source": [
    "#### Step 3.3 - observe some features in more detail"
   ]
  },
  {
   "cell_type": "markdown",
   "id": "1602aa43",
   "metadata": {
    "heading_collapsed": true
   },
   "source": [
    "##### Step 3.2.1 - Season"
   ]
  },
  {
   "cell_type": "markdown",
   "id": "cf56e13d",
   "metadata": {
    "heading_collapsed": true
   },
   "source": [
    "##### Step 3.2.2 - Holiday"
   ]
  },
  {
   "cell_type": "markdown",
   "id": "1e8b7187",
   "metadata": {},
   "source": [
    "##### Step 3.2.3 - Workingday"
   ]
  },
  {
   "cell_type": "code",
   "execution_count": 109,
   "id": "9b46beb8",
   "metadata": {},
   "outputs": [
    {
     "data": {
      "image/png": "[encoded data removed]"
     },
     "metadata": {
      "needs_background": "light"
     },
     "output_type": "display_data"
    }
   ],
   "source": [
    "sns.barplot(x = 'workingday', y = 'count', data = df_train, estimator = np.average, palette='colorblind')\n",
    "#plt.ylabel('Average Count')\n",
    "#plt.show()"
   ]
  },
  {
   "cell_type": "markdown",
   "id": "ad35a779",
   "metadata": {},
   "source": [
    "##### Step 3.2.4 - Weather"
   ]
  },
  {
   "cell_type": "code",
   "execution_count": 110,
   "id": "1a8a5e1e",
   "metadata": {},
   "outputs": [
    {
     "data": {
      "image/png": "[encoded data removed]"
     },
     "metadata": {
      "needs_background": "light"
     },
     "output_type": "display_data"
    }
   ],
   "source": [
    "sns.barplot(x = 'weather', y = 'count', data = df_train, estimator = np.average, palette='deep')\n",
    "# how many worst days are there? the count makes no real sense!"
   ]
  },
  {
   "cell_type": "markdown",
   "id": "988a4567",
   "metadata": {},
   "source": [
    "##### Step 3.2.5 - Temp"
   ]
  },
  {
   "cell_type": "code",
   "execution_count": 111,
   "id": "c6d67e85",
   "metadata": {},
   "outputs": [
    {
     "data": {
      "image/png": "[encoded data removed]"
     },
     "metadata": {
      "needs_background": "light"
     },
     "output_type": "display_data"
    }
   ],
   "source": [
    "df_train[['temp','atemp']].plot.line();"
   ]
  },
  {
   "cell_type": "markdown",
   "id": "8b921639",
   "metadata": {},
   "source": [
    "##### Step 3.2.6 - Atemp"
   ]
  },
  {
   "cell_type": "code",
   "execution_count": 112,
   "id": "04303a79",
   "metadata": {},
   "outputs": [
    {
     "data": {
      "text/html": [
       "<pre style='white-space:pre;overflow-x:auto;line-height:normal'><span style=\"font-weight: bold\">&lt;</span><span style=\"color: #0011aa; text-decoration-color: #0011aa\">seaborn.axisgrid.JointGrid</span><span style=\"color: #000000; text-decoration-color: #000000\"> object at </span><span style=\"color: #101010; text-decoration-color: #101010\">0x7f20855b9d60</span><span style=\"font-weight: bold\">&gt;</span>\n",
       "</pre>"
      ],
      "text/plain": [
       "\u001b[1m<\u001b[0m\u001b[38;2;0;17;170mseaborn.axisgrid.JointGrid\u001b[0m\u001b[39m object at \u001b[0m\u001b[38;2;16;16;16m0x7f20855b9d60\u001b[0m\u001b[1m>\u001b[0m\n"
      ]
     },
     "metadata": {},
     "output_type": "display_data"
    },
    {
     "data": {
      "image/png": "[encoded data removed]"
     },
     "metadata": {
      "needs_background": "light"
     },
     "output_type": "display_data"
    }
   ],
   "source": [
    "sns.jointplot(x = 'atemp', y = 'count', data = df_train, kind = 'kde', cmap = 'plasma')"
   ]
  },
  {
   "cell_type": "markdown",
   "id": "10dfc341",
   "metadata": {
    "heading_collapsed": true
   },
   "source": [
    "##### Step 3.2.7 - Humidity"
   ]
  },
  {
   "cell_type": "markdown",
   "id": "4792bbdb",
   "metadata": {},
   "source": [
    "##### Step 3.2.8 - Windspeed"
   ]
  },
  {
   "cell_type": "markdown",
   "id": "4123d4b4",
   "metadata": {},
   "source": [
    "##### Step 3.2.9 - DateTime"
   ]
  },
  {
   "cell_type": "code",
   "execution_count": 113,
   "id": "1cc0a145",
   "metadata": {},
   "outputs": [
    {
     "data": {
      "image/png": "[encoded data removed]"
     },
     "metadata": {
      "needs_background": "light"
     },
     "output_type": "display_data"
    }
   ],
   "source": [
    "df_train.groupby(['day'])[['count']].mean().plot.bar(subplots=True);"
   ]
  },
  {
   "cell_type": "code",
   "execution_count": 114,
   "id": "9a77de35",
   "metadata": {},
   "outputs": [
    {
     "data": {
      "image/png": "[encoded data removed]"
     },
     "metadata": {
      "needs_background": "light"
     },
     "output_type": "display_data"
    }
   ],
   "source": [
    "df_train.groupby(['hour'])[['count']].mean().plot.bar();"
   ]
  },
  {
   "cell_type": "code",
   "execution_count": 115,
   "id": "470829ac",
   "metadata": {},
   "outputs": [
    {
     "data": {
      "text/html": [
       "<pre style='white-space:pre;overflow-x:auto;line-height:normal'>\n",
       "<span style=\"color: #0011aa; text-decoration-color: #0011aa\">array</span><span style=\"font-weight: bold\">([&lt;</span><span style=\"color: #0011aa; text-decoration-color: #0011aa\">AxesSubplot:</span><span style=\"color: #005500; text-decoration-color: #005500\">title</span><span style=\"color: #000000; text-decoration-color: #000000\">=</span><span style=\"color: #000000; text-decoration-color: #000000; font-weight: bold\">{</span><span style=\"color: #8b008b; text-decoration-color: #8b008b\">'center'</span><span style=\"color: #000000; text-decoration-color: #000000\">:</span><span style=\"color: #8b008b; text-decoration-color: #8b008b\">'count'</span><span style=\"color: #000000; text-decoration-color: #000000; font-weight: bold\">}</span><span style=\"color: #000000; text-decoration-color: #000000\">, </span><span style=\"color: #005500; text-decoration-color: #005500\">xlabel</span><span style=\"color: #000000; text-decoration-color: #000000\">=</span><span style=\"color: #8b008b; text-decoration-color: #8b008b\">'year,month'</span><span style=\"font-weight: bold\">&gt;]</span>,\n",
       "<span style=\"color: #808080; text-decoration-color: #808080\">│     </span><span style=\"color: #005500; text-decoration-color: #005500\">dtype</span>=<span style=\"color: #0011aa; text-decoration-color: #0011aa\">object</span><span style=\"font-weight: bold\">)</span>\n",
       "</pre>"
      ],
      "text/plain": [
       "\n",
       "\u001b[38;2;0;17;170marray\u001b[0m\u001b[1m(\u001b[0m\u001b[1m[\u001b[0m\u001b[1m<\u001b[0m\u001b[38;2;0;17;170mAxesSubplot:\u001b[0m\u001b[38;2;0;85;0mtitle\u001b[0m\u001b[39m=\u001b[0m\u001b[1;39m{\u001b[0m\u001b[38;2;139;0;139m'center'\u001b[0m\u001b[39m:\u001b[0m\u001b[38;2;139;0;139m'count'\u001b[0m\u001b[1;39m}\u001b[0m\u001b[39m, \u001b[0m\u001b[38;2;0;85;0mxlabel\u001b[0m\u001b[39m=\u001b[0m\u001b[38;2;139;0;139m'year,month'\u001b[0m\u001b[1m>\u001b[0m\u001b[1m]\u001b[0m,\n",
       "\u001b[38;2;128;128;128m│     \u001b[0m\u001b[38;2;0;85;0mdtype\u001b[0m=\u001b[38;2;0;17;170mobject\u001b[0m\u001b[1m)\u001b[0m\n"
      ]
     },
     "metadata": {},
     "output_type": "display_data"
    },
    {
     "data": {
      "image/png": "[encoded data removed]"
     },
     "metadata": {
      "needs_background": "light"
     },
     "output_type": "display_data"
    }
   ],
   "source": [
    "df_train.groupby(['year','month'])[['count']].sum().plot.bar(subplots=True)"
   ]
  },
  {
   "cell_type": "markdown",
   "id": "1d66fbf2",
   "metadata": {
    "heading_collapsed": true
   },
   "source": [
    "##### Step 3.2.10 - Count"
   ]
  },
  {
   "cell_type": "code",
   "execution_count": 116,
   "id": "fafab885",
   "metadata": {
    "hidden": true
   },
   "outputs": [
    {
     "data": {
      "image/png": "[encoded data removed]"
     },
     "metadata": {
      "needs_background": "light"
     },
     "output_type": "display_data"
    }
   ],
   "source": [
    "sns.boxplot(x = df_train['count'])"
   ]
  },
  {
   "cell_type": "code",
   "execution_count": 117,
   "id": "63eb36cb",
   "metadata": {
    "hidden": true
   },
   "outputs": [
    {
     "name": "stdout",
     "output_type": "stream",
     "text": [
      "324\n",
      "8383\n"
     ]
    }
   ],
   "source": [
    "print(len(df_train[df_train['count'] > 600]['count'].values))\n",
    "print(len(df_train[df_train['count'] < 600]['count'].values))"
   ]
  },
  {
   "cell_type": "code",
   "execution_count": 118,
   "id": "dd76d863",
   "metadata": {
    "hidden": true
   },
   "outputs": [
    {
     "data": {
      "text/html": [
       "<pre style='white-space:pre;overflow-x:auto;line-height:normal'><span style=\"font-weight: bold\">&lt;</span><span style=\"color: #0011aa; text-decoration-color: #0011aa\">seaborn.axisgrid.FacetGrid</span><span style=\"color: #000000; text-decoration-color: #000000\"> object at </span><span style=\"color: #101010; text-decoration-color: #101010\">0x7f2085271c40</span><span style=\"font-weight: bold\">&gt;</span>\n",
       "</pre>"
      ],
      "text/plain": [
       "\u001b[1m<\u001b[0m\u001b[38;2;0;17;170mseaborn.axisgrid.FacetGrid\u001b[0m\u001b[39m object at \u001b[0m\u001b[38;2;16;16;16m0x7f2085271c40\u001b[0m\u001b[1m>\u001b[0m\n"
      ]
     },
     "metadata": {},
     "output_type": "display_data"
    },
    {
     "data": {
      "image/png": "[encoded data removed]"
     },
     "metadata": {
      "needs_background": "light"
     },
     "output_type": "display_data"
    }
   ],
   "source": [
    "Q99 = np.percentile(df_train['count'].values, [99])\n",
    "\n",
    "df_distplot = df_train[df_train['count'] < Q99[0]]\n",
    "\n",
    "sns.displot(df_distplot['count'], bins = 100, color = 'blue')"
   ]
  },
  {
   "cell_type": "code",
   "execution_count": 119,
   "id": "05f3dc5a",
   "metadata": {
    "hidden": true
   },
   "outputs": [
    {
     "data": {
      "image/png": "[encoded data removed]"
     },
     "metadata": {
      "needs_background": "light"
     },
     "output_type": "display_data"
    }
   ],
   "source": [
    "sns.histplot(df_train['count'].values)\n",
    "sns.histplot(np.log(df_train['count'].values)) # log transformed target"
   ]
  },
  {
   "cell_type": "markdown",
   "id": "fba08c58",
   "metadata": {},
   "source": [
    "### **Conclusion from the EDA**\n",
    "\n",
    "<hr style=\"border:2px solid black\">\n",
    "\n",
    "    - Season:\n",
    "\n",
    "    - Holiday:\n",
    "\n",
    "\t- Workingday:\n",
    "\t\n",
    "\t- Weather:\n",
    "\t\n",
    "\t- Temp:\n",
    "\t\n",
    "\t- Atemp:\n",
    "\t\n",
    "\t- Humidity:\n",
    "\t\n",
    "\t- Windspeed:\n",
    "\t\n",
    "\t- Datetime:\n",
    "\t\n",
    "\t- use a random forest as a baseline model and get the feature importance\n",
    "\n",
    "<hr style=\"border:2px solid black\">"
   ]
  },
  {
   "cell_type": "markdown",
   "id": "3a1927c3",
   "metadata": {},
   "source": [
    "### Step 4 - cleaning & scaling"
   ]
  },
  {
   "cell_type": "markdown",
   "id": "093f3135",
   "metadata": {},
   "source": [
    "   - *Fix or remove outliers (otional).*\n",
    "   - *Fill in missing values (e.g. with zero, mean, median ...) or drop their rows (or columns).*\n",
    "   - *Standardize or nomalize features*"
   ]
  },
  {
   "cell_type": "markdown",
   "id": "4976e00e",
   "metadata": {},
   "source": [
    "#### Step 4.1 - impute missing values"
   ]
  },
  {
   "cell_type": "code",
   "execution_count": 120,
   "id": "964b529f",
   "metadata": {},
   "outputs": [],
   "source": [
    "# no missing values"
   ]
  },
  {
   "cell_type": "markdown",
   "id": "0af09e9e",
   "metadata": {},
   "source": [
    "#### Step 4.2 - scaling"
   ]
  },
  {
   "cell_type": "code",
   "execution_count": 121,
   "id": "2e16e37f",
   "metadata": {},
   "outputs": [],
   "source": [
    "# in further analysis I will mainly distinguish between numerical and categorical features\n",
    "categorical_features = ['season', 'weather', 'month_name', 'day_name','year','day','hour']\n",
    "numeric_features     = ['temp','atemp','humidity','windspeed']"
   ]
  },
  {
   "cell_type": "code",
   "execution_count": 122,
   "id": "1119f42c",
   "metadata": {},
   "outputs": [],
   "source": [
    "# standard scaler and simple imputer for floats (in case the test or production data contain missing data that couldn't be spotted during the training)\n",
    "numeric_steps =     [\n",
    "                       ('imputer' , SimpleImputer(strategy = 'mean')) \n",
    "                     , ('scaler'  , StandardScaler()                )     \n",
    "                    ]\n",
    "\n",
    "numeric_transformer = Pipeline(numeric_steps)"
   ]
  },
  {
   "cell_type": "markdown",
   "id": "cef9f995",
   "metadata": {},
   "source": [
    "#### Step 4.3 - interpolation"
   ]
  },
  {
   "cell_type": "code",
   "execution_count": 123,
   "id": "b36ebfc5",
   "metadata": {},
   "outputs": [],
   "source": [
    "# no missing values"
   ]
  },
  {
   "cell_type": "markdown",
   "id": "99032ec2",
   "metadata": {},
   "source": [
    "#### Step 4.4 - remove duplicates and outliers"
   ]
  },
  {
   "cell_type": "code",
   "execution_count": 124,
   "id": "4b8d3c32",
   "metadata": {},
   "outputs": [],
   "source": [
    "# handle the weather condition no 4"
   ]
  },
  {
   "cell_type": "markdown",
   "id": "0a7f403c",
   "metadata": {},
   "source": [
    "### Step 5 - feature engineering"
   ]
  },
  {
   "cell_type": "markdown",
   "id": "9434202e",
   "metadata": {},
   "source": [
    "   - *Discretize continious features.*\n",
    "   - *Decompose features (e.g. categorical, date/time, etc.).*\n",
    "   - *Add promising transformations of features (e.g. log(x), sqrt(x), x^2, etc.).*\n",
    "   - *Aggregate features into promising new features.*"
   ]
  },
  {
   "cell_type": "markdown",
   "id": "95728805",
   "metadata": {},
   "source": [
    "#### Step 5.1 - feature extraction, decomposition and transformation"
   ]
  },
  {
   "cell_type": "code",
   "execution_count": 125,
   "id": "fc2d1188",
   "metadata": {},
   "outputs": [],
   "source": [
    "def indexicator(dataframe):\n",
    "    dataframe = pd.DataFrame(dataframe).copy()\n",
    "    \n",
    "    dataframe['datetime'] = pd.to_datetime(dataframe['datetime'])\n",
    "    dataframe.set_index('datetime', inplace=True)\n",
    "    \n",
    "    return dataframe"
   ]
  },
  {
   "cell_type": "code",
   "execution_count": 126,
   "id": "f353f569",
   "metadata": {},
   "outputs": [],
   "source": [
    "# Let's first create new columns out of the datetime\n",
    "def datetime_extractor(dataframe):\n",
    "    dataframe = pd.DataFrame(dataframe).copy()\n",
    "\n",
    "    dataframe[\"year\"]       = dataframe.index.year\n",
    "    dataframe[\"month\"]      = dataframe.index.month\n",
    "    dataframe[\"month_name\"] = dataframe.index.month_name()\n",
    "    dataframe[\"day_name\"]   = dataframe.index.day_name()\n",
    "    dataframe[\"day\"]        = dataframe.index.day\n",
    "    dataframe[\"hour\"]       = dataframe.index.hour\n",
    "    \n",
    "    return dataframe"
   ]
  },
  {
   "cell_type": "code",
   "execution_count": 127,
   "id": "d783204b",
   "metadata": {},
   "outputs": [],
   "source": [
    "# then we translate season and weather into readable values\n",
    "def cat_translator(dataframe):\n",
    "    dataframe = pd.DataFrame(dataframe).copy()\n",
    "    \n",
    "    dataframe.replace({'season'  : { 1 : 'spring', 2 : 'summer', 3 : 'fall', 4 : 'winter' }}, inplace =True)\n",
    "    dataframe.replace({'weather' : { 1 : 'nice'  , 2 : 'ok'    , 3 : 'bad' , 4 : 'worst'  }}, inplace =True)\n",
    "    \n",
    "    return dataframe"
   ]
  },
  {
   "cell_type": "markdown",
   "id": "4476808a",
   "metadata": {},
   "source": [
    "#### Step 5.2 - encoding of categorical features"
   ]
  },
  {
   "cell_type": "code",
   "execution_count": 128,
   "id": "45378e8d",
   "metadata": {},
   "outputs": [],
   "source": [
    "# standard scaler and simple imputer for floats (in case the test or production data contain missing data that couldn't be spotted during the training)\n",
    "categorical_steps = [\n",
    "                       ('imputer' , SimpleImputer(strategy       = 'most_frequent' ))\n",
    "                     , ('onehot'  , OneHotEncoder(handle_unknown = 'ignore'        ))\n",
    "                    ]\n",
    "\n",
    "categorical_transformer = Pipeline(categorical_steps)"
   ]
  },
  {
   "cell_type": "markdown",
   "id": "4679de08",
   "metadata": {},
   "source": [
    "#### Step 5.3 - discretizing of continious features"
   ]
  },
  {
   "cell_type": "code",
   "execution_count": 129,
   "id": "fde81eee",
   "metadata": {},
   "outputs": [],
   "source": [
    "# dicetize the age into bins of five years\n",
    "discretizer_step        = [('discretizer', KBinsDiscretizer(n_bins=5, encode='onehot', strategy='quantile', dtype=None, subsample='warn', random_state=None))]\n",
    "\n",
    "discretizer_transformer = Pipeline(discretizer_step)"
   ]
  },
  {
   "cell_type": "markdown",
   "id": "42488b0b",
   "metadata": {},
   "source": [
    "#### Step 5.4 - drop features"
   ]
  },
  {
   "cell_type": "markdown",
   "id": "c1146942",
   "metadata": {},
   "source": [
    "#### Step 5.5 - sampling strategy in case of imbalanced data"
   ]
  },
  {
   "cell_type": "markdown",
   "id": "e057a53f",
   "metadata": {},
   "source": [
    "#### Step 5.6 - implement polynomials"
   ]
  },
  {
   "cell_type": "markdown",
   "id": "6f28eb76",
   "metadata": {},
   "source": [
    "### Step 6 - baseline model"
   ]
  },
  {
   "cell_type": "markdown",
   "id": "165c2e8f",
   "metadata": {},
   "source": [
    "#### Step 6.1 - create pipeline for the baseline model "
   ]
  },
  {
   "cell_type": "markdown",
   "id": "881d6388",
   "metadata": {},
   "source": [
    "##### Step 6.1.1 - function and column transformer"
   ]
  },
  {
   "cell_type": "code",
   "execution_count": 130,
   "id": "a0b4fb71",
   "metadata": {},
   "outputs": [],
   "source": [
    "# extractions and transformations\n",
    "index_transformer    = FunctionTransformer(indexicator)\n",
    "datetime_transformer = FunctionTransformer(datetime_extractor)\n",
    "cat_transformer      = FunctionTransformer(cat_translator)\n",
    "\n",
    "# column transformer\n",
    "col_transformer = ColumnTransformer(transformers = [\n",
    "                                                      ('numeric'     ,     numeric_transformer , numeric_features     )\n",
    "                                                    , ('categorical' , categorical_transformer , categorical_features )\n",
    "                                                    , ('discretizer' , discretizer_transformer , numeric_features     )\n",
    "                                                   ] \n",
    "                                   )"
   ]
  },
  {
   "cell_type": "markdown",
   "id": "9cf25d05",
   "metadata": {},
   "source": [
    "##### Step 6.1.2 - set up pipeline with estimators"
   ]
  },
  {
   "cell_type": "code",
   "execution_count": 131,
   "id": "fc5f0bd9",
   "metadata": {},
   "outputs": [],
   "source": [
    "class DummyEstimator(BaseEstimator):\n",
    "    def fit(self):   pass\n",
    "    def score(self): pass"
   ]
  },
  {
   "cell_type": "code",
   "execution_count": 132,
   "id": "4c508743",
   "metadata": {},
   "outputs": [],
   "source": [
    "pipeline = Pipeline([\n",
    "                    # my function transformers\n",
    "                       ( 'indexicator'           , index_transformer           )\n",
    "                     , ( 'datetime_extractor'    , datetime_transformer        )\n",
    "                     , ( 'categoricator'         , cat_transformer             )\n",
    "                    # my column transformers\n",
    "                     , ( 'col_transformer'       , col_transformer             )\n",
    "                    # my estimator ...\n",
    "                     , ( 'regressor'             , DummyEstimator()            )                     \n",
    "                    ])"
   ]
  },
  {
   "cell_type": "code",
   "execution_count": 133,
   "id": "4e5fa7ff",
   "metadata": {},
   "outputs": [
    {
     "data": {
      "text/html": [
       "<pre style='white-space:pre;overflow-x:auto;line-height:normal'>\n",
       "<span style=\"font-weight: bold\">{</span>\n",
       "<span style=\"color: #808080; text-decoration-color: #808080\">│   </span><span style=\"color: #8b008b; text-decoration-color: #8b008b\">'indexicator'</span>: <span style=\"color: #0011aa; text-decoration-color: #0011aa\">FunctionTransformer</span><span style=\"font-weight: bold\">(</span><span style=\"color: #005500; text-decoration-color: #005500\">func</span>=<span style=\"font-weight: bold\">&lt;</span><span style=\"color: #0011aa; text-decoration-color: #0011aa\">function</span><span style=\"color: #000000; text-decoration-color: #000000\"> indexicator at </span><span style=\"color: #101010; text-decoration-color: #101010\">0x7f20850488b0</span><span style=\"font-weight: bold\">&gt;)</span>,\n",
       "<span style=\"color: #808080; text-decoration-color: #808080\">│   </span><span style=\"color: #8b008b; text-decoration-color: #8b008b\">'datetime_extractor'</span>: <span style=\"color: #0011aa; text-decoration-color: #0011aa\">FunctionTransformer</span><span style=\"font-weight: bold\">(</span><span style=\"color: #005500; text-decoration-color: #005500\">func</span>=<span style=\"font-weight: bold\">&lt;</span><span style=\"color: #0011aa; text-decoration-color: #0011aa\">function</span><span style=\"color: #000000; text-decoration-color: #000000\"> datetime_extractor at </span><span style=\"color: #101010; text-decoration-color: #101010\">0x7f2085048790</span><span style=\"font-weight: bold\">&gt;)</span>,\n",
       "<span style=\"color: #808080; text-decoration-color: #808080\">│   </span><span style=\"color: #8b008b; text-decoration-color: #8b008b\">'categoricator'</span>: <span style=\"color: #0011aa; text-decoration-color: #0011aa\">FunctionTransformer</span><span style=\"font-weight: bold\">(</span><span style=\"color: #005500; text-decoration-color: #005500\">func</span>=<span style=\"font-weight: bold\">&lt;</span><span style=\"color: #0011aa; text-decoration-color: #0011aa\">function</span><span style=\"color: #000000; text-decoration-color: #000000\"> cat_translator at </span><span style=\"color: #101010; text-decoration-color: #101010\">0x7f2085048430</span><span style=\"font-weight: bold\">&gt;)</span>,\n",
       "<span style=\"color: #808080; text-decoration-color: #808080\">│   </span><span style=\"color: #8b008b; text-decoration-color: #8b008b\">'col_transformer'</span>: <span style=\"color: #0011aa; text-decoration-color: #0011aa\">ColumnTransformer</span><span style=\"font-weight: bold\">(</span><span style=\"color: #005500; text-decoration-color: #005500\">transformers</span>=<span style=\"font-weight: bold\">[(</span><span style=\"color: #8b008b; text-decoration-color: #8b008b\">'numeric'</span>,\n",
       "<span style=\"color: #808080; text-decoration-color: #808080\">│   │   │   │   │   │   │   │    </span><span style=\"color: #0011aa; text-decoration-color: #0011aa\">Pipeline</span><span style=\"font-weight: bold\">(</span><span style=\"color: #005500; text-decoration-color: #005500\">steps</span>=<span style=\"font-weight: bold\">[(</span><span style=\"color: #8b008b; text-decoration-color: #8b008b\">'imputer'</span>, <span style=\"color: #0011aa; text-decoration-color: #0011aa\">SimpleImputer</span><span style=\"font-weight: bold\">())</span>,\n",
       "<span style=\"color: #808080; text-decoration-color: #808080\">│   │   │   │   │   │   │   │   │   │   │   │    </span><span style=\"font-weight: bold\">(</span><span style=\"color: #8b008b; text-decoration-color: #8b008b\">'scaler'</span>, <span style=\"color: #0011aa; text-decoration-color: #0011aa\">StandardScaler</span><span style=\"font-weight: bold\">())])</span>,\n",
       "<span style=\"color: #808080; text-decoration-color: #808080\">│   │   │   │   │   │   │   │    </span><span style=\"font-weight: bold\">[</span><span style=\"color: #8b008b; text-decoration-color: #8b008b\">'temp'</span>, <span style=\"color: #8b008b; text-decoration-color: #8b008b\">'atemp'</span>, <span style=\"color: #8b008b; text-decoration-color: #8b008b\">'humidity'</span>, <span style=\"color: #8b008b; text-decoration-color: #8b008b\">'windspeed'</span><span style=\"font-weight: bold\">])</span>,\n",
       "<span style=\"color: #808080; text-decoration-color: #808080\">│   │   │   │   │   │   │   │   </span><span style=\"font-weight: bold\">(</span><span style=\"color: #8b008b; text-decoration-color: #8b008b\">'categorical'</span>,\n",
       "<span style=\"color: #808080; text-decoration-color: #808080\">│   │   │   │   │   │   │   │    </span><span style=\"color: #0011aa; text-decoration-color: #0011aa\">Pipeline</span><span style=\"font-weight: bold\">(</span><span style=\"color: #005500; text-decoration-color: #005500\">steps</span>=<span style=\"font-weight: bold\">[(</span><span style=\"color: #8b008b; text-decoration-color: #8b008b\">'imputer'</span>,\n",
       "<span style=\"color: #808080; text-decoration-color: #808080\">│   │   │   │   │   │   │   │   │   │   │   │     </span><span style=\"color: #0011aa; text-decoration-color: #0011aa\">SimpleImputer</span><span style=\"font-weight: bold\">(</span><span style=\"color: #005500; text-decoration-color: #005500\">strategy</span>=<span style=\"color: #8b008b; text-decoration-color: #8b008b\">'most_frequent'</span><span style=\"font-weight: bold\">))</span>,\n",
       "<span style=\"color: #808080; text-decoration-color: #808080\">│   │   │   │   │   │   │   │   │   │   │   │    </span><span style=\"font-weight: bold\">(</span><span style=\"color: #8b008b; text-decoration-color: #8b008b\">'onehot'</span>,\n",
       "<span style=\"color: #808080; text-decoration-color: #808080\">│   │   │   │   │   │   │   │   │   │   │   │     </span><span style=\"color: #0011aa; text-decoration-color: #0011aa\">OneHotEncoder</span><span style=\"font-weight: bold\">(</span><span style=\"color: #005500; text-decoration-color: #005500\">handle_unknown</span>=<span style=\"color: #8b008b; text-decoration-color: #8b008b\">'ignore'</span><span style=\"font-weight: bold\">))])</span>,\n",
       "<span style=\"color: #808080; text-decoration-color: #808080\">│   │   │   │   │   │   │   │    </span><span style=\"font-weight: bold\">[</span><span style=\"color: #8b008b; text-decoration-color: #8b008b\">'season'</span>, <span style=\"color: #8b008b; text-decoration-color: #8b008b\">'weather'</span>, <span style=\"color: #8b008b; text-decoration-color: #8b008b\">'month_name'</span>, <span style=\"color: #8b008b; text-decoration-color: #8b008b\">'day_name'</span>,\n",
       "<span style=\"color: #808080; text-decoration-color: #808080\">│   │   │   │   │   │   │   │     </span><span style=\"color: #8b008b; text-decoration-color: #8b008b\">'year'</span>, <span style=\"color: #8b008b; text-decoration-color: #8b008b\">'day'</span>, <span style=\"color: #8b008b; text-decoration-color: #8b008b\">'hour'</span><span style=\"font-weight: bold\">])</span>,\n",
       "<span style=\"color: #808080; text-decoration-color: #808080\">│   │   │   │   │   │   │   │   </span><span style=\"font-weight: bold\">(</span><span style=\"color: #8b008b; text-decoration-color: #8b008b\">'discretizer'</span>,\n",
       "<span style=\"color: #808080; text-decoration-color: #808080\">│   │   │   │   │   │   │   │    </span><span style=\"color: #0011aa; text-decoration-color: #0011aa\">Pipeline</span><span style=\"font-weight: bold\">(</span><span style=\"color: #005500; text-decoration-color: #005500\">steps</span>=<span style=\"font-weight: bold\">[(</span><span style=\"color: #8b008b; text-decoration-color: #8b008b\">'discretizer'</span>,\n",
       "<span style=\"color: #808080; text-decoration-color: #808080\">│   │   │   │   │   │   │   │   │   │   │   │     </span><span style=\"color: #0011aa; text-decoration-color: #0011aa\">KBinsDiscretizer</span><span style=\"font-weight: bold\">())])</span>,\n",
       "<span style=\"color: #808080; text-decoration-color: #808080\">│   │   │   │   │   │   │   │    </span><span style=\"font-weight: bold\">[</span><span style=\"color: #8b008b; text-decoration-color: #8b008b\">'temp'</span>, <span style=\"color: #8b008b; text-decoration-color: #8b008b\">'atemp'</span>, <span style=\"color: #8b008b; text-decoration-color: #8b008b\">'humidity'</span>, <span style=\"color: #8b008b; text-decoration-color: #8b008b\">'windspeed'</span><span style=\"font-weight: bold\">])])</span>,\n",
       "<span style=\"color: #808080; text-decoration-color: #808080\">│   </span><span style=\"color: #8b008b; text-decoration-color: #8b008b\">'regressor'</span>: <span style=\"color: #0011aa; text-decoration-color: #0011aa\">DummyEstimator</span><span style=\"font-weight: bold\">()</span>\n",
       "<span style=\"font-weight: bold\">}</span>\n",
       "</pre>"
      ],
      "text/plain": [
       "\n",
       "\u001b[1m{\u001b[0m\n",
       "\u001b[38;2;128;128;128m│   \u001b[0m\u001b[38;2;139;0;139m'indexicator'\u001b[0m: \u001b[38;2;0;17;170mFunctionTransformer\u001b[0m\u001b[1m(\u001b[0m\u001b[38;2;0;85;0mfunc\u001b[0m=\u001b[1m<\u001b[0m\u001b[38;2;0;17;170mfunction\u001b[0m\u001b[39m indexicator at \u001b[0m\u001b[38;2;16;16;16m0x7f20850488b0\u001b[0m\u001b[1m>\u001b[0m\u001b[1m)\u001b[0m,\n",
       "\u001b[38;2;128;128;128m│   \u001b[0m\u001b[38;2;139;0;139m'datetime_extractor'\u001b[0m: \u001b[38;2;0;17;170mFunctionTransformer\u001b[0m\u001b[1m(\u001b[0m\u001b[38;2;0;85;0mfunc\u001b[0m=\u001b[1m<\u001b[0m\u001b[38;2;0;17;170mfunction\u001b[0m\u001b[39m datetime_extractor at \u001b[0m\u001b[38;2;16;16;16m0x7f2085048790\u001b[0m\u001b[1m>\u001b[0m\u001b[1m)\u001b[0m,\n",
       "\u001b[38;2;128;128;128m│   \u001b[0m\u001b[38;2;139;0;139m'categoricator'\u001b[0m: \u001b[38;2;0;17;170mFunctionTransformer\u001b[0m\u001b[1m(\u001b[0m\u001b[38;2;0;85;0mfunc\u001b[0m=\u001b[1m<\u001b[0m\u001b[38;2;0;17;170mfunction\u001b[0m\u001b[39m cat_translator at \u001b[0m\u001b[38;2;16;16;16m0x7f2085048430\u001b[0m\u001b[1m>\u001b[0m\u001b[1m)\u001b[0m,\n",
       "\u001b[38;2;128;128;128m│   \u001b[0m\u001b[38;2;139;0;139m'col_transformer'\u001b[0m: \u001b[38;2;0;17;170mColumnTransformer\u001b[0m\u001b[1m(\u001b[0m\u001b[38;2;0;85;0mtransformers\u001b[0m=\u001b[1m[\u001b[0m\u001b[1m(\u001b[0m\u001b[38;2;139;0;139m'numeric'\u001b[0m,\n",
       "\u001b[38;2;128;128;128m│   │   │   │   │   │   │   │    \u001b[0m\u001b[38;2;0;17;170mPipeline\u001b[0m\u001b[1m(\u001b[0m\u001b[38;2;0;85;0msteps\u001b[0m=\u001b[1m[\u001b[0m\u001b[1m(\u001b[0m\u001b[38;2;139;0;139m'imputer'\u001b[0m, \u001b[38;2;0;17;170mSimpleImputer\u001b[0m\u001b[1m(\u001b[0m\u001b[1m)\u001b[0m\u001b[1m)\u001b[0m,\n",
       "\u001b[38;2;128;128;128m│   │   │   │   │   │   │   │   │   │   │   │    \u001b[0m\u001b[1m(\u001b[0m\u001b[38;2;139;0;139m'scaler'\u001b[0m, \u001b[38;2;0;17;170mStandardScaler\u001b[0m\u001b[1m(\u001b[0m\u001b[1m)\u001b[0m\u001b[1m)\u001b[0m\u001b[1m]\u001b[0m\u001b[1m)\u001b[0m,\n",
       "\u001b[38;2;128;128;128m│   │   │   │   │   │   │   │    \u001b[0m\u001b[1m[\u001b[0m\u001b[38;2;139;0;139m'temp'\u001b[0m, \u001b[38;2;139;0;139m'atemp'\u001b[0m, \u001b[38;2;139;0;139m'humidity'\u001b[0m, \u001b[38;2;139;0;139m'windspeed'\u001b[0m\u001b[1m]\u001b[0m\u001b[1m)\u001b[0m,\n",
       "\u001b[38;2;128;128;128m│   │   │   │   │   │   │   │   \u001b[0m\u001b[1m(\u001b[0m\u001b[38;2;139;0;139m'categorical'\u001b[0m,\n",
       "\u001b[38;2;128;128;128m│   │   │   │   │   │   │   │    \u001b[0m\u001b[38;2;0;17;170mPipeline\u001b[0m\u001b[1m(\u001b[0m\u001b[38;2;0;85;0msteps\u001b[0m=\u001b[1m[\u001b[0m\u001b[1m(\u001b[0m\u001b[38;2;139;0;139m'imputer'\u001b[0m,\n",
       "\u001b[38;2;128;128;128m│   │   │   │   │   │   │   │   │   │   │   │     \u001b[0m\u001b[38;2;0;17;170mSimpleImputer\u001b[0m\u001b[1m(\u001b[0m\u001b[38;2;0;85;0mstrategy\u001b[0m=\u001b[38;2;139;0;139m'most_frequent'\u001b[0m\u001b[1m)\u001b[0m\u001b[1m)\u001b[0m,\n",
       "\u001b[38;2;128;128;128m│   │   │   │   │   │   │   │   │   │   │   │    \u001b[0m\u001b[1m(\u001b[0m\u001b[38;2;139;0;139m'onehot'\u001b[0m,\n",
       "\u001b[38;2;128;128;128m│   │   │   │   │   │   │   │   │   │   │   │     \u001b[0m\u001b[38;2;0;17;170mOneHotEncoder\u001b[0m\u001b[1m(\u001b[0m\u001b[38;2;0;85;0mhandle_unknown\u001b[0m=\u001b[38;2;139;0;139m'ignore'\u001b[0m\u001b[1m)\u001b[0m\u001b[1m)\u001b[0m\u001b[1m]\u001b[0m\u001b[1m)\u001b[0m,\n",
       "\u001b[38;2;128;128;128m│   │   │   │   │   │   │   │    \u001b[0m\u001b[1m[\u001b[0m\u001b[38;2;139;0;139m'season'\u001b[0m, \u001b[38;2;139;0;139m'weather'\u001b[0m, \u001b[38;2;139;0;139m'month_name'\u001b[0m, \u001b[38;2;139;0;139m'day_name'\u001b[0m,\n",
       "\u001b[38;2;128;128;128m│   │   │   │   │   │   │   │     \u001b[0m\u001b[38;2;139;0;139m'year'\u001b[0m, \u001b[38;2;139;0;139m'day'\u001b[0m, \u001b[38;2;139;0;139m'hour'\u001b[0m\u001b[1m]\u001b[0m\u001b[1m)\u001b[0m,\n",
       "\u001b[38;2;128;128;128m│   │   │   │   │   │   │   │   \u001b[0m\u001b[1m(\u001b[0m\u001b[38;2;139;0;139m'discretizer'\u001b[0m,\n",
       "\u001b[38;2;128;128;128m│   │   │   │   │   │   │   │    \u001b[0m\u001b[38;2;0;17;170mPipeline\u001b[0m\u001b[1m(\u001b[0m\u001b[38;2;0;85;0msteps\u001b[0m=\u001b[1m[\u001b[0m\u001b[1m(\u001b[0m\u001b[38;2;139;0;139m'discretizer'\u001b[0m,\n",
       "\u001b[38;2;128;128;128m│   │   │   │   │   │   │   │   │   │   │   │     \u001b[0m\u001b[38;2;0;17;170mKBinsDiscretizer\u001b[0m\u001b[1m(\u001b[0m\u001b[1m)\u001b[0m\u001b[1m)\u001b[0m\u001b[1m]\u001b[0m\u001b[1m)\u001b[0m,\n",
       "\u001b[38;2;128;128;128m│   │   │   │   │   │   │   │    \u001b[0m\u001b[1m[\u001b[0m\u001b[38;2;139;0;139m'temp'\u001b[0m, \u001b[38;2;139;0;139m'atemp'\u001b[0m, \u001b[38;2;139;0;139m'humidity'\u001b[0m, \u001b[38;2;139;0;139m'windspeed'\u001b[0m\u001b[1m]\u001b[0m\u001b[1m)\u001b[0m\u001b[1m]\u001b[0m\u001b[1m)\u001b[0m,\n",
       "\u001b[38;2;128;128;128m│   \u001b[0m\u001b[38;2;139;0;139m'regressor'\u001b[0m: \u001b[38;2;0;17;170mDummyEstimator\u001b[0m\u001b[1m(\u001b[0m\u001b[1m)\u001b[0m\n",
       "\u001b[1m}\u001b[0m\n"
      ]
     },
     "metadata": {},
     "output_type": "display_data"
    }
   ],
   "source": [
    "pipeline.named_steps"
   ]
  },
  {
   "cell_type": "code",
   "execution_count": 134,
   "id": "1ca2fc13",
   "metadata": {},
   "outputs": [
    {
     "data": {
      "text/html": [
       "<pre style='white-space:pre;overflow-x:auto;line-height:normal'><span style=\"color: #0011aa; text-decoration-color: #0011aa\">dict_keys</span><span style=\"font-weight: bold\">([</span><span style=\"color: #8b008b; text-decoration-color: #8b008b\">'memory'</span>, <span style=\"color: #8b008b; text-decoration-color: #8b008b\">'steps'</span>, <span style=\"color: #8b008b; text-decoration-color: #8b008b\">'verbose'</span>, <span style=\"color: #8b008b; text-decoration-color: #8b008b\">'indexicator'</span>, <span style=\"color: #8b008b; text-decoration-color: #8b008b\">'datetime_extractor'</span>, <span style=\"color: #8b008b; text-decoration-color: #8b008b\">'categoricator'</span>, <span style=\"color: #8b008b; text-decoration-color: #8b008b\">'col_transformer'</span>, <span style=\"color: #8b008b; text-decoration-color: #8b008b\">'regressor'</span>, <span style=\"color: #8b008b; text-decoration-color: #8b008b\">'indexicator__accept_sparse'</span>, <span style=\"color: #8b008b; text-decoration-color: #8b008b\">'indexicator__check_inverse'</span>, <span style=\"color: #8b008b; text-decoration-color: #8b008b\">'indexicator__feature_names_out'</span>, <span style=\"color: #8b008b; text-decoration-color: #8b008b\">'indexicator__func'</span>, <span style=\"color: #8b008b; text-decoration-color: #8b008b\">'indexicator__inv_kw_args'</span>, <span style=\"color: #8b008b; text-decoration-color: #8b008b\">'indexicator__inverse_func'</span>, <span style=\"color: #8b008b; text-decoration-color: #8b008b\">'indexicator__kw_args'</span>, <span style=\"color: #8b008b; text-decoration-color: #8b008b\">'indexicator__validate'</span>, <span style=\"color: #8b008b; text-decoration-color: #8b008b\">'datetime_extractor__accept_sparse'</span>, <span style=\"color: #8b008b; text-decoration-color: #8b008b\">'datetime_extractor__check_inverse'</span>, <span style=\"color: #8b008b; text-decoration-color: #8b008b\">'datetime_extractor__feature_names_out'</span>, <span style=\"color: #8b008b; text-decoration-color: #8b008b\">'datetime_extractor__func'</span>, <span style=\"color: #8b008b; text-decoration-color: #8b008b\">'datetime_extractor__inv_kw_args'</span>, <span style=\"color: #8b008b; text-decoration-color: #8b008b\">'datetime_extractor__inverse_func'</span>, <span style=\"color: #8b008b; text-decoration-color: #8b008b\">'datetime_extractor__kw_args'</span>, <span style=\"color: #8b008b; text-decoration-color: #8b008b\">'datetime_extractor__validate'</span>, <span style=\"color: #8b008b; text-decoration-color: #8b008b\">'categoricator__accept_sparse'</span>, <span style=\"color: #8b008b; text-decoration-color: #8b008b\">'categoricator__check_inverse'</span>, <span style=\"color: #8b008b; text-decoration-color: #8b008b\">'categoricator__feature_names_out'</span>, <span style=\"color: #8b008b; text-decoration-color: #8b008b\">'categoricator__func'</span>, <span style=\"color: #8b008b; text-decoration-color: #8b008b\">'categoricator__inv_kw_args'</span>, <span style=\"color: #8b008b; text-decoration-color: #8b008b\">'categoricator__inverse_func'</span>, <span style=\"color: #8b008b; text-decoration-color: #8b008b\">'categoricator__kw_args'</span>, <span style=\"color: #8b008b; text-decoration-color: #8b008b\">'categoricator__validate'</span>, <span style=\"color: #8b008b; text-decoration-color: #8b008b\">'col_transformer__n_jobs'</span>, <span style=\"color: #8b008b; text-decoration-color: #8b008b\">'col_transformer__remainder'</span>, <span style=\"color: #8b008b; text-decoration-color: #8b008b\">'col_transformer__sparse_threshold'</span>, <span style=\"color: #8b008b; text-decoration-color: #8b008b\">'col_transformer__transformer_weights'</span>, <span style=\"color: #8b008b; text-decoration-color: #8b008b\">'col_transformer__transformers'</span>, <span style=\"color: #8b008b; text-decoration-color: #8b008b\">'col_transformer__verbose'</span>, <span style=\"color: #8b008b; text-decoration-color: #8b008b\">'col_transformer__verbose_feature_names_out'</span>, <span style=\"color: #8b008b; text-decoration-color: #8b008b\">'col_transformer__numeric'</span>, <span style=\"color: #8b008b; text-decoration-color: #8b008b\">'col_transformer__categorical'</span>, <span style=\"color: #8b008b; text-decoration-color: #8b008b\">'col_transformer__discretizer'</span>, <span style=\"color: #8b008b; text-decoration-color: #8b008b\">'col_transformer__numeric__memory'</span>, <span style=\"color: #8b008b; text-decoration-color: #8b008b\">'col_transformer__numeric__steps'</span>, <span style=\"color: #8b008b; text-decoration-color: #8b008b\">'col_transformer__numeric__verbose'</span>, <span style=\"color: #8b008b; text-decoration-color: #8b008b\">'col_transformer__numeric__imputer'</span>, <span style=\"color: #8b008b; text-decoration-color: #8b008b\">'col_transformer__numeric__scaler'</span>, <span style=\"color: #8b008b; text-decoration-color: #8b008b\">'col_transformer__numeric__imputer__add_indicator'</span>, <span style=\"color: #8b008b; text-decoration-color: #8b008b\">'col_transformer__numeric__imputer__copy'</span>, <span style=\"color: #8b008b; text-decoration-color: #8b008b\">'col_transformer__numeric__imputer__fill_value'</span>, <span style=\"color: #8b008b; text-decoration-color: #8b008b\">'col_transformer__numeric__imputer__missing_values'</span>, <span style=\"color: #8b008b; text-decoration-color: #8b008b\">'col_transformer__numeric__imputer__strategy'</span>, <span style=\"color: #8b008b; text-decoration-color: #8b008b\">'col_transformer__numeric__imputer__verbose'</span>, <span style=\"color: #8b008b; text-decoration-color: #8b008b\">'col_transformer__numeric__scaler__copy'</span>, <span style=\"color: #8b008b; text-decoration-color: #8b008b\">'col_transformer__numeric__scaler__with_mean'</span>, <span style=\"color: #8b008b; text-decoration-color: #8b008b\">'col_transformer__numeric__scaler__with_std'</span>, <span style=\"color: #8b008b; text-decoration-color: #8b008b\">'col_transformer__categorical__memory'</span>, <span style=\"color: #8b008b; text-decoration-color: #8b008b\">'col_transformer__categorical__steps'</span>, <span style=\"color: #8b008b; text-decoration-color: #8b008b\">'col_transformer__categorical__verbose'</span>, <span style=\"color: #8b008b; text-decoration-color: #8b008b\">'col_transformer__categorical__imputer'</span>, <span style=\"color: #8b008b; text-decoration-color: #8b008b\">'col_transformer__categorical__onehot'</span>, <span style=\"color: #8b008b; text-decoration-color: #8b008b\">'col_transformer__categorical__imputer__add_indicator'</span>, <span style=\"color: #8b008b; text-decoration-color: #8b008b\">'col_transformer__categorical__imputer__copy'</span>, <span style=\"color: #8b008b; text-decoration-color: #8b008b\">'col_transformer__categorical__imputer__fill_value'</span>, <span style=\"color: #8b008b; text-decoration-color: #8b008b\">'col_transformer__categorical__imputer__missing_values'</span>, <span style=\"color: #8b008b; text-decoration-color: #8b008b\">'col_transformer__categorical__imputer__strategy'</span>, <span style=\"color: #8b008b; text-decoration-color: #8b008b\">'col_transformer__categorical__imputer__verbose'</span>, <span style=\"color: #8b008b; text-decoration-color: #8b008b\">'col_transformer__categorical__onehot__categories'</span>, <span style=\"color: #8b008b; text-decoration-color: #8b008b\">'col_transformer__categorical__onehot__drop'</span>, <span style=\"color: #8b008b; text-decoration-color: #8b008b\">'col_transformer__categorical__onehot__dtype'</span>, <span style=\"color: #8b008b; text-decoration-color: #8b008b\">'col_transformer__categorical__onehot__handle_unknown'</span>, <span style=\"color: #8b008b; text-decoration-color: #8b008b\">'col_transformer__categorical__onehot__max_categories'</span>, <span style=\"color: #8b008b; text-decoration-color: #8b008b\">'col_transformer__categorical__onehot__min_frequency'</span>, <span style=\"color: #8b008b; text-decoration-color: #8b008b\">'col_transformer__categorical__onehot__sparse'</span>, <span style=\"color: #8b008b; text-decoration-color: #8b008b\">'col_transformer__discretizer__memory'</span>, <span style=\"color: #8b008b; text-decoration-color: #8b008b\">'col_transformer__discretizer__steps'</span>, <span style=\"color: #8b008b; text-decoration-color: #8b008b\">'col_transformer__discretizer__verbose'</span>, <span style=\"color: #8b008b; text-decoration-color: #8b008b\">'col_transformer__discretizer__discretizer'</span>, <span style=\"color: #8b008b; text-decoration-color: #8b008b\">'col_transformer__discretizer__discretizer__dtype'</span>, <span style=\"color: #8b008b; text-decoration-color: #8b008b\">'col_transformer__discretizer__discretizer__encode'</span>, <span style=\"color: #8b008b; text-decoration-color: #8b008b\">'col_transformer__discretizer__discretizer__n_bins'</span>, <span style=\"color: #8b008b; text-decoration-color: #8b008b\">'col_transformer__discretizer__discretizer__random_state'</span>, <span style=\"color: #8b008b; text-decoration-color: #8b008b\">'col_transformer__discretizer__discretizer__strategy'</span>, <span style=\"color: #8b008b; text-decoration-color: #8b008b\">'col_transformer__discretizer__discretizer__subsample'</span><span style=\"font-weight: bold\">])</span>\n",
       "</pre>"
      ],
      "text/plain": [
       "\u001b[38;2;0;17;170mdict_keys\u001b[0m\u001b[1m(\u001b[0m\u001b[1m[\u001b[0m\u001b[38;2;139;0;139m'memory'\u001b[0m, \u001b[38;2;139;0;139m'steps'\u001b[0m, \u001b[38;2;139;0;139m'verbose'\u001b[0m, \u001b[38;2;139;0;139m'indexicator'\u001b[0m, \u001b[38;2;139;0;139m'datetime_extractor'\u001b[0m, \u001b[38;2;139;0;139m'categoricator'\u001b[0m, \u001b[38;2;139;0;139m'col_transformer'\u001b[0m, \u001b[38;2;139;0;139m'regressor'\u001b[0m, \u001b[38;2;139;0;139m'indexicator__accept_sparse'\u001b[0m, \u001b[38;2;139;0;139m'indexicator__check_inverse'\u001b[0m, \u001b[38;2;139;0;139m'indexicator__feature_names_out'\u001b[0m, \u001b[38;2;139;0;139m'indexicator__func'\u001b[0m, \u001b[38;2;139;0;139m'indexicator__inv_kw_args'\u001b[0m, \u001b[38;2;139;0;139m'indexicator__inverse_func'\u001b[0m, \u001b[38;2;139;0;139m'indexicator__kw_args'\u001b[0m, \u001b[38;2;139;0;139m'indexicator__validate'\u001b[0m, \u001b[38;2;139;0;139m'datetime_extractor__accept_sparse'\u001b[0m, \u001b[38;2;139;0;139m'datetime_extractor__check_inverse'\u001b[0m, \u001b[38;2;139;0;139m'datetime_extractor__feature_names_out'\u001b[0m, \u001b[38;2;139;0;139m'datetime_extractor__func'\u001b[0m, \u001b[38;2;139;0;139m'datetime_extractor__inv_kw_args'\u001b[0m, \u001b[38;2;139;0;139m'datetime_extractor__inverse_func'\u001b[0m, \u001b[38;2;139;0;139m'datetime_extractor__kw_args'\u001b[0m, \u001b[38;2;139;0;139m'datetime_extractor__validate'\u001b[0m, \u001b[38;2;139;0;139m'categoricator__accept_sparse'\u001b[0m, \u001b[38;2;139;0;139m'categoricator__check_inverse'\u001b[0m, \u001b[38;2;139;0;139m'categoricator__feature_names_out'\u001b[0m, \u001b[38;2;139;0;139m'categoricator__func'\u001b[0m, \u001b[38;2;139;0;139m'categoricator__inv_kw_args'\u001b[0m, \u001b[38;2;139;0;139m'categoricator__inverse_func'\u001b[0m, \u001b[38;2;139;0;139m'categoricator__kw_args'\u001b[0m, \u001b[38;2;139;0;139m'categoricator__validate'\u001b[0m, \u001b[38;2;139;0;139m'col_transformer__n_jobs'\u001b[0m, \u001b[38;2;139;0;139m'col_transformer__remainder'\u001b[0m, \u001b[38;2;139;0;139m'col_transformer__sparse_threshold'\u001b[0m, \u001b[38;2;139;0;139m'col_transformer__transformer_weights'\u001b[0m, \u001b[38;2;139;0;139m'col_transformer__transformers'\u001b[0m, \u001b[38;2;139;0;139m'col_transformer__verbose'\u001b[0m, \u001b[38;2;139;0;139m'col_transformer__verbose_feature_names_out'\u001b[0m, \u001b[38;2;139;0;139m'col_transformer__numeric'\u001b[0m, \u001b[38;2;139;0;139m'col_transformer__categorical'\u001b[0m, \u001b[38;2;139;0;139m'col_transformer__discretizer'\u001b[0m, \u001b[38;2;139;0;139m'col_transformer__numeric__memory'\u001b[0m, \u001b[38;2;139;0;139m'col_transformer__numeric__steps'\u001b[0m, \u001b[38;2;139;0;139m'col_transformer__numeric__verbose'\u001b[0m, \u001b[38;2;139;0;139m'col_transformer__numeric__imputer'\u001b[0m, \u001b[38;2;139;0;139m'col_transformer__numeric__scaler'\u001b[0m, \u001b[38;2;139;0;139m'col_transformer__numeric__imputer__add_indicator'\u001b[0m, \u001b[38;2;139;0;139m'col_transformer__numeric__imputer__copy'\u001b[0m, \u001b[38;2;139;0;139m'col_transformer__numeric__imputer__fill_value'\u001b[0m, \u001b[38;2;139;0;139m'col_transformer__numeric__imputer__missing_values'\u001b[0m, \u001b[38;2;139;0;139m'col_transformer__numeric__imputer__strategy'\u001b[0m, \u001b[38;2;139;0;139m'col_transformer__numeric__imputer__verbose'\u001b[0m, \u001b[38;2;139;0;139m'col_transformer__numeric__scaler__copy'\u001b[0m, \u001b[38;2;139;0;139m'col_transformer__numeric__scaler__with_mean'\u001b[0m, \u001b[38;2;139;0;139m'col_transformer__numeric__scaler__with_std'\u001b[0m, \u001b[38;2;139;0;139m'col_transformer__categorical__memory'\u001b[0m, \u001b[38;2;139;0;139m'col_transformer__categorical__steps'\u001b[0m, \u001b[38;2;139;0;139m'col_transformer__categorical__verbose'\u001b[0m, \u001b[38;2;139;0;139m'col_transformer__categorical__imputer'\u001b[0m, \u001b[38;2;139;0;139m'col_transformer__categorical__onehot'\u001b[0m, \u001b[38;2;139;0;139m'col_transformer__categorical__imputer__add_indicator'\u001b[0m, \u001b[38;2;139;0;139m'col_transformer__categorical__imputer__copy'\u001b[0m, \u001b[38;2;139;0;139m'col_transformer__categorical__imputer__fill_value'\u001b[0m, \u001b[38;2;139;0;139m'col_transformer__categorical__imputer__missing_values'\u001b[0m, \u001b[38;2;139;0;139m'col_transformer__categorical__imputer__strategy'\u001b[0m, \u001b[38;2;139;0;139m'col_transformer__categorical__imputer__verbose'\u001b[0m, \u001b[38;2;139;0;139m'col_transformer__categorical__onehot__categories'\u001b[0m, \u001b[38;2;139;0;139m'col_transformer__categorical__onehot__drop'\u001b[0m, \u001b[38;2;139;0;139m'col_transformer__categorical__onehot__dtype'\u001b[0m, \u001b[38;2;139;0;139m'col_transformer__categorical__onehot__handle_unknown'\u001b[0m, \u001b[38;2;139;0;139m'col_transformer__categorical__onehot__max_categories'\u001b[0m, \u001b[38;2;139;0;139m'col_transformer__categorical__onehot__min_frequency'\u001b[0m, \u001b[38;2;139;0;139m'col_transformer__categorical__onehot__sparse'\u001b[0m, \u001b[38;2;139;0;139m'col_transformer__discretizer__memory'\u001b[0m, \u001b[38;2;139;0;139m'col_transformer__discretizer__steps'\u001b[0m, \u001b[38;2;139;0;139m'col_transformer__discretizer__verbose'\u001b[0m, \u001b[38;2;139;0;139m'col_transformer__discretizer__discretizer'\u001b[0m, \u001b[38;2;139;0;139m'col_transformer__discretizer__discretizer__dtype'\u001b[0m, \u001b[38;2;139;0;139m'col_transformer__discretizer__discretizer__encode'\u001b[0m, \u001b[38;2;139;0;139m'col_transformer__discretizer__discretizer__n_bins'\u001b[0m, \u001b[38;2;139;0;139m'col_transformer__discretizer__discretizer__random_state'\u001b[0m, \u001b[38;2;139;0;139m'col_transformer__discretizer__discretizer__strategy'\u001b[0m, \u001b[38;2;139;0;139m'col_transformer__discretizer__discretizer__subsample'\u001b[0m\u001b[1m]\u001b[0m\u001b[1m)\u001b[0m\n"
      ]
     },
     "metadata": {},
     "output_type": "display_data"
    }
   ],
   "source": [
    "pipeline.get_params().keys()"
   ]
  },
  {
   "cell_type": "markdown",
   "id": "7370bbaf",
   "metadata": {},
   "source": [
    "##### Step 6.1.3 - define the hyperparameter grid"
   ]
  },
  {
   "cell_type": "code",
   "execution_count": 135,
   "id": "6e1a0345",
   "metadata": {},
   "outputs": [],
   "source": [
    "hyperparam_grid = [\n",
    "                  {\n",
    "                      'regressor'                  : [RandomForestRegressor()]\n",
    "                    , 'regressor__n_estimators'    : [5, 10, 100, 200]\n",
    "                    , 'regressor__min_samples_leaf': [5, 10]\n",
    "                  },\n",
    "                  {\n",
    "                      'regressor'                  : [GradientBoostingRegressor()]\n",
    "                    , 'regressor__n_estimators'    : [50, 100, 200]\n",
    "                    , 'regressor__learning_rate'   : [0.05, 0.1, 0.2]    \n",
    "                  },\n",
    "                  {\n",
    "                      'regressor'                  : [xgb.XGBRegressor(objective ='reg:squarederror')]\n",
    "                    , 'regressor__n_estimators'    : [50, 100, 200]\n",
    "                    , 'regressor__learning_rate'   : [0.05, 0.1, 0.2]\n",
    "                  }\n",
    "]\n",
    "\n",
    "# Lasso Regression, Ridge Regression, Gaussian Regression, Polynomial Regression "
   ]
  },
  {
   "cell_type": "markdown",
   "id": "0c2ea5fd",
   "metadata": {},
   "source": [
    "##### Step 6.1.4 - set up the grid search CV"
   ]
  },
  {
   "cell_type": "code",
   "execution_count": 136,
   "id": "8eb2d1a9",
   "metadata": {},
   "outputs": [],
   "source": [
    "gs = GridSearchCV(\n",
    "                      estimator  = pipeline \n",
    "                    , param_grid = hyperparam_grid                    \n",
    "                    , cv         = 5                                         \n",
    "                    , scoring    = 'neg_root_mean_squared_error'\n",
    "                )"
   ]
  },
  {
   "cell_type": "markdown",
   "id": "9ab13314",
   "metadata": {},
   "source": [
    "#### Step 6.2 - run the baseline model"
   ]
  },
  {
   "cell_type": "code",
   "execution_count": 137,
   "id": "f44e180c",
   "metadata": {},
   "outputs": [],
   "source": [
    "grid_search = gs.fit(X_train, y_train)"
   ]
  },
  {
   "cell_type": "markdown",
   "id": "dfc198af",
   "metadata": {},
   "source": [
    "#### Step 6.3 - evaluate the model"
   ]
  },
  {
   "cell_type": "code",
   "execution_count": 138,
   "id": "eef0647b",
   "metadata": {},
   "outputs": [
    {
     "data": {
      "text/html": [
       "<div>\n",
       "<style scoped>\n",
       "    .dataframe tbody tr th:only-of-type {\n",
       "        vertical-align: middle;\n",
       "    }\n",
       "\n",
       "    .dataframe tbody tr th {\n",
       "        vertical-align: top;\n",
       "    }\n",
       "\n",
       "    .dataframe thead th {\n",
       "        text-align: right;\n",
       "    }\n",
       "</style>\n",
       "<table border=\"1\" class=\"dataframe\">\n",
       "  <thead>\n",
       "    <tr style=\"text-align: right;\">\n",
       "      <th></th>\n",
       "      <th>mean_fit_time</th>\n",
       "      <th>std_fit_time</th>\n",
       "      <th>mean_score_time</th>\n",
       "      <th>std_score_time</th>\n",
       "      <th>param_regressor</th>\n",
       "      <th>param_regressor__min_samples_leaf</th>\n",
       "      <th>param_regressor__n_estimators</th>\n",
       "      <th>param_regressor__learning_rate</th>\n",
       "      <th>params</th>\n",
       "      <th>split0_test_score</th>\n",
       "      <th>split1_test_score</th>\n",
       "      <th>split2_test_score</th>\n",
       "      <th>split3_test_score</th>\n",
       "      <th>split4_test_score</th>\n",
       "      <th>mean_test_score</th>\n",
       "      <th>std_test_score</th>\n",
       "      <th>rank_test_score</th>\n",
       "    </tr>\n",
       "  </thead>\n",
       "  <tbody>\n",
       "    <tr>\n",
       "      <th>25</th>\n",
       "      <td>0.767424</td>\n",
       "      <td>0.004165</td>\n",
       "      <td>0.025621</td>\n",
       "      <td>0.000135</td>\n",
       "      <td>XGBRegressor(base_score=None, booster=None, ca...</td>\n",
       "      <td>NaN</td>\n",
       "      <td>200</td>\n",
       "      <td>0.2</td>\n",
       "      <td>{'regressor': XGBRegressor(base_score=None, bo...</td>\n",
       "      <td>-50.669833</td>\n",
       "      <td>-52.833178</td>\n",
       "      <td>-47.028199</td>\n",
       "      <td>-52.046060</td>\n",
       "      <td>-50.527633</td>\n",
       "      <td>-50.620980</td>\n",
       "      <td>1.992177</td>\n",
       "      <td>1</td>\n",
       "    </tr>\n",
       "    <tr>\n",
       "      <th>22</th>\n",
       "      <td>0.651651</td>\n",
       "      <td>0.003531</td>\n",
       "      <td>0.022188</td>\n",
       "      <td>0.000198</td>\n",
       "      <td>XGBRegressor(base_score=None, booster=None, ca...</td>\n",
       "      <td>NaN</td>\n",
       "      <td>200</td>\n",
       "      <td>0.1</td>\n",
       "      <td>{'regressor': XGBRegressor(base_score=None, bo...</td>\n",
       "      <td>-53.226786</td>\n",
       "      <td>-54.520497</td>\n",
       "      <td>-50.176080</td>\n",
       "      <td>-54.917058</td>\n",
       "      <td>-52.824277</td>\n",
       "      <td>-53.132940</td>\n",
       "      <td>1.670658</td>\n",
       "      <td>2</td>\n",
       "    </tr>\n",
       "    <tr>\n",
       "      <th>24</th>\n",
       "      <td>0.368173</td>\n",
       "      <td>0.025185</td>\n",
       "      <td>0.022044</td>\n",
       "      <td>0.001266</td>\n",
       "      <td>XGBRegressor(base_score=None, booster=None, ca...</td>\n",
       "      <td>NaN</td>\n",
       "      <td>100</td>\n",
       "      <td>0.2</td>\n",
       "      <td>{'regressor': XGBRegressor(base_score=None, bo...</td>\n",
       "      <td>-53.070077</td>\n",
       "      <td>-55.632548</td>\n",
       "      <td>-50.758021</td>\n",
       "      <td>-54.638996</td>\n",
       "      <td>-52.885660</td>\n",
       "      <td>-53.397060</td>\n",
       "      <td>1.665700</td>\n",
       "      <td>3</td>\n",
       "    </tr>\n",
       "    <tr>\n",
       "      <th>23</th>\n",
       "      <td>0.208166</td>\n",
       "      <td>0.001193</td>\n",
       "      <td>0.020917</td>\n",
       "      <td>0.000158</td>\n",
       "      <td>XGBRegressor(base_score=None, booster=None, ca...</td>\n",
       "      <td>NaN</td>\n",
       "      <td>50</td>\n",
       "      <td>0.2</td>\n",
       "      <td>{'regressor': XGBRegressor(base_score=None, bo...</td>\n",
       "      <td>-60.556195</td>\n",
       "      <td>-61.860620</td>\n",
       "      <td>-57.346686</td>\n",
       "      <td>-62.173530</td>\n",
       "      <td>-59.581514</td>\n",
       "      <td>-60.303709</td>\n",
       "      <td>1.746396</td>\n",
       "      <td>4</td>\n",
       "    </tr>\n",
       "    <tr>\n",
       "      <th>21</th>\n",
       "      <td>0.377024</td>\n",
       "      <td>0.019317</td>\n",
       "      <td>0.022771</td>\n",
       "      <td>0.002361</td>\n",
       "      <td>XGBRegressor(base_score=None, booster=None, ca...</td>\n",
       "      <td>NaN</td>\n",
       "      <td>100</td>\n",
       "      <td>0.1</td>\n",
       "      <td>{'regressor': XGBRegressor(base_score=None, bo...</td>\n",
       "      <td>-60.626533</td>\n",
       "      <td>-61.691911</td>\n",
       "      <td>-57.356857</td>\n",
       "      <td>-62.348485</td>\n",
       "      <td>-63.744204</td>\n",
       "      <td>-61.153598</td>\n",
       "      <td>2.150433</td>\n",
       "      <td>5</td>\n",
       "    </tr>\n",
       "  </tbody>\n",
       "</table>\n",
       "</div>"
      ]
     },
     "execution_count": 138,
     "metadata": {},
     "output_type": "execute_result"
    }
   ],
   "source": [
    "pd.DataFrame(grid_search.cv_results_).sort_values('rank_test_score').head()"
   ]
  },
  {
   "cell_type": "code",
   "execution_count": 139,
   "id": "12ec7c19",
   "metadata": {},
   "outputs": [],
   "source": [
    "best_pipe = gs.best_estimator_"
   ]
  },
  {
   "cell_type": "code",
   "execution_count": 140,
   "id": "948f876a",
   "metadata": {},
   "outputs": [
    {
     "data": {
      "text/html": [
       "<style>#sk-container-id-1 {color: black;background-color: white;}#sk-container-id-1 pre{padding: 0;}#sk-container-id-1 div.sk-toggleable {background-color: white;}#sk-container-id-1 label.sk-toggleable__label {cursor: pointer;display: block;width: 100%;margin-bottom: 0;padding: 0.3em;box-sizing: border-box;text-align: center;}#sk-container-id-1 label.sk-toggleable__label-arrow:before {content: \"▸\";float: left;margin-right: 0.25em;color: #696969;}#sk-container-id-1 label.sk-toggleable__label-arrow:hover:before {color: black;}#sk-container-id-1 div.sk-estimator:hover label.sk-toggleable__label-arrow:before {color: black;}#sk-container-id-1 div.sk-toggleable__content {max-height: 0;max-width: 0;overflow: hidden;text-align: left;background-color: #f0f8ff;}#sk-container-id-1 div.sk-toggleable__content pre {margin: 0.2em;color: black;border-radius: 0.25em;background-color: #f0f8ff;}#sk-container-id-1 input.sk-toggleable__control:checked~div.sk-toggleable__content {max-height: 200px;max-width: 100%;overflow: auto;}#sk-container-id-1 input.sk-toggleable__control:checked~label.sk-toggleable__label-arrow:before {content: \"▾\";}#sk-container-id-1 div.sk-estimator input.sk-toggleable__control:checked~label.sk-toggleable__label {background-color: #d4ebff;}#sk-container-id-1 div.sk-label input.sk-toggleable__control:checked~label.sk-toggleable__label {background-color: #d4ebff;}#sk-container-id-1 input.sk-hidden--visually {border: 0;clip: rect(1px 1px 1px 1px);clip: rect(1px, 1px, 1px, 1px);height: 1px;margin: -1px;overflow: hidden;padding: 0;position: absolute;width: 1px;}#sk-container-id-1 div.sk-estimator {font-family: monospace;background-color: #f0f8ff;border: 1px dotted black;border-radius: 0.25em;box-sizing: border-box;margin-bottom: 0.5em;}#sk-container-id-1 div.sk-estimator:hover {background-color: #d4ebff;}#sk-container-id-1 div.sk-parallel-item::after {content: \"\";width: 100%;border-bottom: 1px solid gray;flex-grow: 1;}#sk-container-id-1 div.sk-label:hover label.sk-toggleable__label {background-color: #d4ebff;}#sk-container-id-1 div.sk-serial::before {content: \"\";position: absolute;border-left: 1px solid gray;box-sizing: border-box;top: 0;bottom: 0;left: 50%;z-index: 0;}#sk-container-id-1 div.sk-serial {display: flex;flex-direction: column;align-items: center;background-color: white;padding-right: 0.2em;padding-left: 0.2em;position: relative;}#sk-container-id-1 div.sk-item {position: relative;z-index: 1;}#sk-container-id-1 div.sk-parallel {display: flex;align-items: stretch;justify-content: center;background-color: white;position: relative;}#sk-container-id-1 div.sk-item::before, #sk-container-id-1 div.sk-parallel-item::before {content: \"\";position: absolute;border-left: 1px solid gray;box-sizing: border-box;top: 0;bottom: 0;left: 50%;z-index: -1;}#sk-container-id-1 div.sk-parallel-item {display: flex;flex-direction: column;z-index: 1;position: relative;background-color: white;}#sk-container-id-1 div.sk-parallel-item:first-child::after {align-self: flex-end;width: 50%;}#sk-container-id-1 div.sk-parallel-item:last-child::after {align-self: flex-start;width: 50%;}#sk-container-id-1 div.sk-parallel-item:only-child::after {width: 0;}#sk-container-id-1 div.sk-dashed-wrapped {border: 1px dashed gray;margin: 0 0.4em 0.5em 0.4em;box-sizing: border-box;padding-bottom: 0.4em;background-color: white;}#sk-container-id-1 div.sk-label label {font-family: monospace;font-weight: bold;display: inline-block;line-height: 1.2em;}#sk-container-id-1 div.sk-label-container {text-align: center;}#sk-container-id-1 div.sk-container {/* jupyter's `normalize.less` sets `[hidden] { display: none; }` but bootstrap.min.css set `[hidden] { display: none !important; }` so we also need the `!important` here to be able to override the default hidden behavior on the sphinx rendered scikit-learn.org. See: https://github.com/scikit-learn/scikit-learn/issues/21755 */display: inline-block !important;position: relative;}#sk-container-id-1 div.sk-text-repr-fallback {display: none;}</style><div id=\"sk-container-id-1\" class=\"sk-top-container\"><div class=\"sk-text-repr-fallback\"><pre>Pipeline(steps=[(&#x27;indexicator&#x27;,\n",
       "                 FunctionTransformer(func=&lt;function indexicator at 0x7f20850488b0&gt;)),\n",
       "                (&#x27;datetime_extractor&#x27;,\n",
       "                 FunctionTransformer(func=&lt;function datetime_extractor at 0x7f2085048790&gt;)),\n",
       "                (&#x27;categoricator&#x27;,\n",
       "                 FunctionTransformer(func=&lt;function cat_translator at 0x7f2085048430&gt;)),\n",
       "                (&#x27;col_transformer&#x27;,\n",
       "                 ColumnTransformer(transformers=[(&#x27;numeric&#x27;,\n",
       "                                                  Pipeline(step...\n",
       "                              enable_categorical=False, eval_metric=None,\n",
       "                              gamma=0, gpu_id=-1, grow_policy=&#x27;depthwise&#x27;,\n",
       "                              importance_type=None, interaction_constraints=&#x27;&#x27;,\n",
       "                              learning_rate=0.2, max_bin=256,\n",
       "                              max_cat_to_onehot=4, max_delta_step=0,\n",
       "                              max_depth=6, max_leaves=0, min_child_weight=1,\n",
       "                              missing=nan, monotone_constraints=&#x27;()&#x27;,\n",
       "                              n_estimators=200, n_jobs=0, num_parallel_tree=1,\n",
       "                              predictor=&#x27;auto&#x27;, random_state=0, reg_alpha=0,\n",
       "                              reg_lambda=1, ...))])</pre><b>In a Jupyter environment, please rerun this cell to show the HTML representation or trust the notebook. <br />On GitHub, the HTML representation is unable to render, please try loading this page with nbviewer.org.</b></div><div class=\"sk-container\" hidden><div class=\"sk-item sk-dashed-wrapped\"><div class=\"sk-label-container\"><div class=\"sk-label sk-toggleable\"><input class=\"sk-toggleable__control sk-hidden--visually\" id=\"sk-estimator-id-1\" type=\"checkbox\" ><label for=\"sk-estimator-id-1\" class=\"sk-toggleable__label sk-toggleable__label-arrow\">Pipeline</label><div class=\"sk-toggleable__content\"><pre>Pipeline(steps=[(&#x27;indexicator&#x27;,\n",
       "                 FunctionTransformer(func=&lt;function indexicator at 0x7f20850488b0&gt;)),\n",
       "                (&#x27;datetime_extractor&#x27;,\n",
       "                 FunctionTransformer(func=&lt;function datetime_extractor at 0x7f2085048790&gt;)),\n",
       "                (&#x27;categoricator&#x27;,\n",
       "                 FunctionTransformer(func=&lt;function cat_translator at 0x7f2085048430&gt;)),\n",
       "                (&#x27;col_transformer&#x27;,\n",
       "                 ColumnTransformer(transformers=[(&#x27;numeric&#x27;,\n",
       "                                                  Pipeline(step...\n",
       "                              enable_categorical=False, eval_metric=None,\n",
       "                              gamma=0, gpu_id=-1, grow_policy=&#x27;depthwise&#x27;,\n",
       "                              importance_type=None, interaction_constraints=&#x27;&#x27;,\n",
       "                              learning_rate=0.2, max_bin=256,\n",
       "                              max_cat_to_onehot=4, max_delta_step=0,\n",
       "                              max_depth=6, max_leaves=0, min_child_weight=1,\n",
       "                              missing=nan, monotone_constraints=&#x27;()&#x27;,\n",
       "                              n_estimators=200, n_jobs=0, num_parallel_tree=1,\n",
       "                              predictor=&#x27;auto&#x27;, random_state=0, reg_alpha=0,\n",
       "                              reg_lambda=1, ...))])</pre></div></div></div><div class=\"sk-serial\"><div class=\"sk-item\"><div class=\"sk-estimator sk-toggleable\"><input class=\"sk-toggleable__control sk-hidden--visually\" id=\"sk-estimator-id-2\" type=\"checkbox\" ><label for=\"sk-estimator-id-2\" class=\"sk-toggleable__label sk-toggleable__label-arrow\">FunctionTransformer</label><div class=\"sk-toggleable__content\"><pre>FunctionTransformer(func=&lt;function indexicator at 0x7f20850488b0&gt;)</pre></div></div></div><div class=\"sk-item\"><div class=\"sk-estimator sk-toggleable\"><input class=\"sk-toggleable__control sk-hidden--visually\" id=\"sk-estimator-id-3\" type=\"checkbox\" ><label for=\"sk-estimator-id-3\" class=\"sk-toggleable__label sk-toggleable__label-arrow\">FunctionTransformer</label><div class=\"sk-toggleable__content\"><pre>FunctionTransformer(func=&lt;function datetime_extractor at 0x7f2085048790&gt;)</pre></div></div></div><div class=\"sk-item\"><div class=\"sk-estimator sk-toggleable\"><input class=\"sk-toggleable__control sk-hidden--visually\" id=\"sk-estimator-id-4\" type=\"checkbox\" ><label for=\"sk-estimator-id-4\" class=\"sk-toggleable__label sk-toggleable__label-arrow\">FunctionTransformer</label><div class=\"sk-toggleable__content\"><pre>FunctionTransformer(func=&lt;function cat_translator at 0x7f2085048430&gt;)</pre></div></div></div><div class=\"sk-item sk-dashed-wrapped\"><div class=\"sk-label-container\"><div class=\"sk-label sk-toggleable\"><input class=\"sk-toggleable__control sk-hidden--visually\" id=\"sk-estimator-id-5\" type=\"checkbox\" ><label for=\"sk-estimator-id-5\" class=\"sk-toggleable__label sk-toggleable__label-arrow\">col_transformer: ColumnTransformer</label><div class=\"sk-toggleable__content\"><pre>ColumnTransformer(transformers=[(&#x27;numeric&#x27;,\n",
       "                                 Pipeline(steps=[(&#x27;imputer&#x27;, SimpleImputer()),\n",
       "                                                 (&#x27;scaler&#x27;, StandardScaler())]),\n",
       "                                 [&#x27;temp&#x27;, &#x27;atemp&#x27;, &#x27;humidity&#x27;, &#x27;windspeed&#x27;]),\n",
       "                                (&#x27;categorical&#x27;,\n",
       "                                 Pipeline(steps=[(&#x27;imputer&#x27;,\n",
       "                                                  SimpleImputer(strategy=&#x27;most_frequent&#x27;)),\n",
       "                                                 (&#x27;onehot&#x27;,\n",
       "                                                  OneHotEncoder(handle_unknown=&#x27;ignore&#x27;))]),\n",
       "                                 [&#x27;season&#x27;, &#x27;weather&#x27;, &#x27;month_name&#x27;, &#x27;day_name&#x27;,\n",
       "                                  &#x27;year&#x27;, &#x27;day&#x27;, &#x27;hour&#x27;]),\n",
       "                                (&#x27;discretizer&#x27;,\n",
       "                                 Pipeline(steps=[(&#x27;discretizer&#x27;,\n",
       "                                                  KBinsDiscretizer())]),\n",
       "                                 [&#x27;temp&#x27;, &#x27;atemp&#x27;, &#x27;humidity&#x27;, &#x27;windspeed&#x27;])])</pre></div></div></div><div class=\"sk-parallel\"><div class=\"sk-parallel-item\"><div class=\"sk-item\"><div class=\"sk-label-container\"><div class=\"sk-label sk-toggleable\"><input class=\"sk-toggleable__control sk-hidden--visually\" id=\"sk-estimator-id-6\" type=\"checkbox\" ><label for=\"sk-estimator-id-6\" class=\"sk-toggleable__label sk-toggleable__label-arrow\">numeric</label><div class=\"sk-toggleable__content\"><pre>[&#x27;temp&#x27;, &#x27;atemp&#x27;, &#x27;humidity&#x27;, &#x27;windspeed&#x27;]</pre></div></div></div><div class=\"sk-serial\"><div class=\"sk-item\"><div class=\"sk-serial\"><div class=\"sk-item\"><div class=\"sk-estimator sk-toggleable\"><input class=\"sk-toggleable__control sk-hidden--visually\" id=\"sk-estimator-id-7\" type=\"checkbox\" ><label for=\"sk-estimator-id-7\" class=\"sk-toggleable__label sk-toggleable__label-arrow\">SimpleImputer</label><div class=\"sk-toggleable__content\"><pre>SimpleImputer()</pre></div></div></div><div class=\"sk-item\"><div class=\"sk-estimator sk-toggleable\"><input class=\"sk-toggleable__control sk-hidden--visually\" id=\"sk-estimator-id-8\" type=\"checkbox\" ><label for=\"sk-estimator-id-8\" class=\"sk-toggleable__label sk-toggleable__label-arrow\">StandardScaler</label><div class=\"sk-toggleable__content\"><pre>StandardScaler()</pre></div></div></div></div></div></div></div></div><div class=\"sk-parallel-item\"><div class=\"sk-item\"><div class=\"sk-label-container\"><div class=\"sk-label sk-toggleable\"><input class=\"sk-toggleable__control sk-hidden--visually\" id=\"sk-estimator-id-9\" type=\"checkbox\" ><label for=\"sk-estimator-id-9\" class=\"sk-toggleable__label sk-toggleable__label-arrow\">categorical</label><div class=\"sk-toggleable__content\"><pre>[&#x27;season&#x27;, &#x27;weather&#x27;, &#x27;month_name&#x27;, &#x27;day_name&#x27;, &#x27;year&#x27;, &#x27;day&#x27;, &#x27;hour&#x27;]</pre></div></div></div><div class=\"sk-serial\"><div class=\"sk-item\"><div class=\"sk-serial\"><div class=\"sk-item\"><div class=\"sk-estimator sk-toggleable\"><input class=\"sk-toggleable__control sk-hidden--visually\" id=\"sk-estimator-id-10\" type=\"checkbox\" ><label for=\"sk-estimator-id-10\" class=\"sk-toggleable__label sk-toggleable__label-arrow\">SimpleImputer</label><div class=\"sk-toggleable__content\"><pre>SimpleImputer(strategy=&#x27;most_frequent&#x27;)</pre></div></div></div><div class=\"sk-item\"><div class=\"sk-estimator sk-toggleable\"><input class=\"sk-toggleable__control sk-hidden--visually\" id=\"sk-estimator-id-11\" type=\"checkbox\" ><label for=\"sk-estimator-id-11\" class=\"sk-toggleable__label sk-toggleable__label-arrow\">OneHotEncoder</label><div class=\"sk-toggleable__content\"><pre>OneHotEncoder(handle_unknown=&#x27;ignore&#x27;)</pre></div></div></div></div></div></div></div></div><div class=\"sk-parallel-item\"><div class=\"sk-item\"><div class=\"sk-label-container\"><div class=\"sk-label sk-toggleable\"><input class=\"sk-toggleable__control sk-hidden--visually\" id=\"sk-estimator-id-12\" type=\"checkbox\" ><label for=\"sk-estimator-id-12\" class=\"sk-toggleable__label sk-toggleable__label-arrow\">discretizer</label><div class=\"sk-toggleable__content\"><pre>[&#x27;temp&#x27;, &#x27;atemp&#x27;, &#x27;humidity&#x27;, &#x27;windspeed&#x27;]</pre></div></div></div><div class=\"sk-serial\"><div class=\"sk-item\"><div class=\"sk-serial\"><div class=\"sk-item\"><div class=\"sk-estimator sk-toggleable\"><input class=\"sk-toggleable__control sk-hidden--visually\" id=\"sk-estimator-id-13\" type=\"checkbox\" ><label for=\"sk-estimator-id-13\" class=\"sk-toggleable__label sk-toggleable__label-arrow\">KBinsDiscretizer</label><div class=\"sk-toggleable__content\"><pre>KBinsDiscretizer()</pre></div></div></div></div></div></div></div></div></div></div><div class=\"sk-item\"><div class=\"sk-estimator sk-toggleable\"><input class=\"sk-toggleable__control sk-hidden--visually\" id=\"sk-estimator-id-14\" type=\"checkbox\" ><label for=\"sk-estimator-id-14\" class=\"sk-toggleable__label sk-toggleable__label-arrow\">XGBRegressor</label><div class=\"sk-toggleable__content\"><pre>XGBRegressor(base_score=0.5, booster=&#x27;gbtree&#x27;, callbacks=None,\n",
       "             colsample_bylevel=1, colsample_bynode=1, colsample_bytree=1,\n",
       "             early_stopping_rounds=None, enable_categorical=False,\n",
       "             eval_metric=None, gamma=0, gpu_id=-1, grow_policy=&#x27;depthwise&#x27;,\n",
       "             importance_type=None, interaction_constraints=&#x27;&#x27;,\n",
       "             learning_rate=0.2, max_bin=256, max_cat_to_onehot=4,\n",
       "             max_delta_step=0, max_depth=6, max_leaves=0, min_child_weight=1,\n",
       "             missing=nan, monotone_constraints=&#x27;()&#x27;, n_estimators=200, n_jobs=0,\n",
       "             num_parallel_tree=1, predictor=&#x27;auto&#x27;, random_state=0, reg_alpha=0,\n",
       "             reg_lambda=1, ...)</pre></div></div></div></div></div></div></div>"
      ],
      "text/plain": [
       "Pipeline(steps=[('indexicator',\n",
       "                 FunctionTransformer(func=<function indexicator at 0x7f20850488b0>)),\n",
       "                ('datetime_extractor',\n",
       "                 FunctionTransformer(func=<function datetime_extractor at 0x7f2085048790>)),\n",
       "                ('categoricator',\n",
       "                 FunctionTransformer(func=<function cat_translator at 0x7f2085048430>)),\n",
       "                ('col_transformer',\n",
       "                 ColumnTransformer(transformers=[('numeric',\n",
       "                                                  Pipeline(step...\n",
       "                              enable_categorical=False, eval_metric=None,\n",
       "                              gamma=0, gpu_id=-1, grow_policy='depthwise',\n",
       "                              importance_type=None, interaction_constraints='',\n",
       "                              learning_rate=0.2, max_bin=256,\n",
       "                              max_cat_to_onehot=4, max_delta_step=0,\n",
       "                              max_depth=6, max_leaves=0, min_child_weight=1,\n",
       "                              missing=nan, monotone_constraints='()',\n",
       "                              n_estimators=200, n_jobs=0, num_parallel_tree=1,\n",
       "                              predictor='auto', random_state=0, reg_alpha=0,\n",
       "                              reg_lambda=1, ...))])"
      ]
     },
     "execution_count": 140,
     "metadata": {},
     "output_type": "execute_result"
    }
   ],
   "source": [
    "best_pipe"
   ]
  },
  {
   "cell_type": "code",
   "execution_count": 141,
   "id": "070ea285",
   "metadata": {},
   "outputs": [],
   "source": [
    "predictions_test = best_pipe.predict(X_test)"
   ]
  },
  {
   "cell_type": "code",
   "execution_count": 142,
   "id": "5e53e057",
   "metadata": {},
   "outputs": [
    {
     "data": {
      "text/html": [
       "<pre style='white-space:pre;overflow-x:auto;line-height:normal'><span style=\"color: #101010; text-decoration-color: #101010\">0.9246170959955409</span>\n",
       "</pre>"
      ],
      "text/plain": [
       "\u001b[38;2;16;16;16m0.9246170959955409\u001b[0m\n"
      ]
     },
     "metadata": {},
     "output_type": "display_data"
    }
   ],
   "source": [
    "best_pipe.score(X_test, y_test)"
   ]
  },
  {
   "cell_type": "code",
   "execution_count": 143,
   "id": "b41d113c",
   "metadata": {},
   "outputs": [],
   "source": [
    "test_subm = pd.read_csv(PATH + 'test.csv')"
   ]
  },
  {
   "cell_type": "code",
   "execution_count": 144,
   "id": "6fb8a712",
   "metadata": {},
   "outputs": [
    {
     "data": {
      "text/html": [
       "<div>\n",
       "<style scoped>\n",
       "    .dataframe tbody tr th:only-of-type {\n",
       "        vertical-align: middle;\n",
       "    }\n",
       "\n",
       "    .dataframe tbody tr th {\n",
       "        vertical-align: top;\n",
       "    }\n",
       "\n",
       "    .dataframe thead th {\n",
       "        text-align: right;\n",
       "    }\n",
       "</style>\n",
       "<table border=\"1\" class=\"dataframe\">\n",
       "  <thead>\n",
       "    <tr style=\"text-align: right;\">\n",
       "      <th></th>\n",
       "      <th>datetime</th>\n",
       "      <th>season</th>\n",
       "      <th>holiday</th>\n",
       "      <th>workingday</th>\n",
       "      <th>weather</th>\n",
       "      <th>temp</th>\n",
       "      <th>atemp</th>\n",
       "      <th>humidity</th>\n",
       "      <th>windspeed</th>\n",
       "    </tr>\n",
       "  </thead>\n",
       "  <tbody>\n",
       "    <tr>\n",
       "      <th>0</th>\n",
       "      <td>2011-01-20 00:00:00</td>\n",
       "      <td>1</td>\n",
       "      <td>0</td>\n",
       "      <td>1</td>\n",
       "      <td>1</td>\n",
       "      <td>10.66</td>\n",
       "      <td>11.365</td>\n",
       "      <td>56</td>\n",
       "      <td>26.0027</td>\n",
       "    </tr>\n",
       "    <tr>\n",
       "      <th>1</th>\n",
       "      <td>2011-01-20 01:00:00</td>\n",
       "      <td>1</td>\n",
       "      <td>0</td>\n",
       "      <td>1</td>\n",
       "      <td>1</td>\n",
       "      <td>10.66</td>\n",
       "      <td>13.635</td>\n",
       "      <td>56</td>\n",
       "      <td>0.0000</td>\n",
       "    </tr>\n",
       "    <tr>\n",
       "      <th>2</th>\n",
       "      <td>2011-01-20 02:00:00</td>\n",
       "      <td>1</td>\n",
       "      <td>0</td>\n",
       "      <td>1</td>\n",
       "      <td>1</td>\n",
       "      <td>10.66</td>\n",
       "      <td>13.635</td>\n",
       "      <td>56</td>\n",
       "      <td>0.0000</td>\n",
       "    </tr>\n",
       "    <tr>\n",
       "      <th>3</th>\n",
       "      <td>2011-01-20 03:00:00</td>\n",
       "      <td>1</td>\n",
       "      <td>0</td>\n",
       "      <td>1</td>\n",
       "      <td>1</td>\n",
       "      <td>10.66</td>\n",
       "      <td>12.880</td>\n",
       "      <td>56</td>\n",
       "      <td>11.0014</td>\n",
       "    </tr>\n",
       "    <tr>\n",
       "      <th>4</th>\n",
       "      <td>2011-01-20 04:00:00</td>\n",
       "      <td>1</td>\n",
       "      <td>0</td>\n",
       "      <td>1</td>\n",
       "      <td>1</td>\n",
       "      <td>10.66</td>\n",
       "      <td>12.880</td>\n",
       "      <td>56</td>\n",
       "      <td>11.0014</td>\n",
       "    </tr>\n",
       "  </tbody>\n",
       "</table>\n",
       "</div>"
      ]
     },
     "execution_count": 144,
     "metadata": {},
     "output_type": "execute_result"
    }
   ],
   "source": [
    "test_subm.head()"
   ]
  },
  {
   "cell_type": "code",
   "execution_count": 145,
   "id": "fa71aa7e",
   "metadata": {},
   "outputs": [],
   "source": [
    "predictions_test = best_pipe.predict(test_subm)"
   ]
  },
  {
   "cell_type": "code",
   "execution_count": 146,
   "id": "548f7ebd",
   "metadata": {},
   "outputs": [],
   "source": [
    "# predictions_test\n",
    "predictions_test = [np.round(x) for x in predictions_test]\n",
    "predictions_test = [0 if x < 0 else x for x in predictions_test]"
   ]
  },
  {
   "cell_type": "code",
   "execution_count": 147,
   "id": "3070da3c",
   "metadata": {},
   "outputs": [],
   "source": [
    "# datetime_ = test_subm[['datetime']]\n",
    "test_subm['datetime'] = pd.to_datetime(test_subm['datetime'] )\n",
    "test_subm.set_index('datetime', inplace = True)"
   ]
  },
  {
   "cell_type": "code",
   "execution_count": 148,
   "id": "7fd79778",
   "metadata": {},
   "outputs": [
    {
     "data": {
      "text/html": [
       "<pre style='white-space:pre;overflow-x:auto;line-height:normal'>\n",
       "<span style=\"color: #0011aa; text-decoration-color: #0011aa\">DatetimeIndex</span><span style=\"font-weight: bold\">([</span><span style=\"color: #8b008b; text-decoration-color: #8b008b\">'2011-01-20 00:00:00'</span>, <span style=\"color: #8b008b; text-decoration-color: #8b008b\">'2011-01-20 01:00:00'</span>,\n",
       "<span style=\"color: #808080; text-decoration-color: #808080\">│   │   │      </span><span style=\"color: #8b008b; text-decoration-color: #8b008b\">'2011-01-20 02:00:00'</span>, <span style=\"color: #8b008b; text-decoration-color: #8b008b\">'2011-01-20 03:00:00'</span>,\n",
       "<span style=\"color: #808080; text-decoration-color: #808080\">│   │   │      </span><span style=\"color: #8b008b; text-decoration-color: #8b008b\">'2011-01-20 04:00:00'</span>, <span style=\"color: #8b008b; text-decoration-color: #8b008b\">'2011-01-20 05:00:00'</span>,\n",
       "<span style=\"color: #808080; text-decoration-color: #808080\">│   │   │      </span><span style=\"color: #8b008b; text-decoration-color: #8b008b\">'2011-01-20 06:00:00'</span>, <span style=\"color: #8b008b; text-decoration-color: #8b008b\">'2011-01-20 07:00:00'</span>,\n",
       "<span style=\"color: #808080; text-decoration-color: #808080\">│   │   │      </span><span style=\"color: #8b008b; text-decoration-color: #8b008b\">'2011-01-20 08:00:00'</span>, <span style=\"color: #8b008b; text-decoration-color: #8b008b\">'2011-01-20 09:00:00'</span>,\n",
       "<span style=\"color: #808080; text-decoration-color: #808080\">│   │   │      </span><span style=\"color: #808000; text-decoration-color: #808000\">...</span>\n",
       "<span style=\"color: #808080; text-decoration-color: #808080\">│   │   │      </span><span style=\"color: #8b008b; text-decoration-color: #8b008b\">'2012-12-31 14:00:00'</span>, <span style=\"color: #8b008b; text-decoration-color: #8b008b\">'2012-12-31 15:00:00'</span>,\n",
       "<span style=\"color: #808080; text-decoration-color: #808080\">│   │   │      </span><span style=\"color: #8b008b; text-decoration-color: #8b008b\">'2012-12-31 16:00:00'</span>, <span style=\"color: #8b008b; text-decoration-color: #8b008b\">'2012-12-31 17:00:00'</span>,\n",
       "<span style=\"color: #808080; text-decoration-color: #808080\">│   │   │      </span><span style=\"color: #8b008b; text-decoration-color: #8b008b\">'2012-12-31 18:00:00'</span>, <span style=\"color: #8b008b; text-decoration-color: #8b008b\">'2012-12-31 19:00:00'</span>,\n",
       "<span style=\"color: #808080; text-decoration-color: #808080\">│   │   │      </span><span style=\"color: #8b008b; text-decoration-color: #8b008b\">'2012-12-31 20:00:00'</span>, <span style=\"color: #8b008b; text-decoration-color: #8b008b\">'2012-12-31 21:00:00'</span>,\n",
       "<span style=\"color: #808080; text-decoration-color: #808080\">│   │   │      </span><span style=\"color: #8b008b; text-decoration-color: #8b008b\">'2012-12-31 22:00:00'</span>, <span style=\"color: #8b008b; text-decoration-color: #8b008b\">'2012-12-31 23:00:00'</span><span style=\"font-weight: bold\">]</span>,\n",
       "<span style=\"color: #808080; text-decoration-color: #808080\">│   │   │     </span><span style=\"color: #005500; text-decoration-color: #005500\">dtype</span>=<span style=\"color: #8b008b; text-decoration-color: #8b008b\">'datetime64</span><span style=\"color: #8b008b; text-decoration-color: #8b008b; font-weight: bold\">[</span><span style=\"color: #8b008b; text-decoration-color: #8b008b\">ns</span><span style=\"color: #8b008b; text-decoration-color: #8b008b; font-weight: bold\">]</span><span style=\"color: #8b008b; text-decoration-color: #8b008b\">'</span>, <span style=\"color: #005500; text-decoration-color: #005500\">name</span>=<span style=\"color: #8b008b; text-decoration-color: #8b008b\">'datetime'</span>, <span style=\"color: #005500; text-decoration-color: #005500\">length</span>=<span style=\"color: #101010; text-decoration-color: #101010\">6493</span>, <span style=\"color: #005500; text-decoration-color: #005500\">freq</span>=<span style=\"color: #266290; text-decoration-color: #266290\">None</span><span style=\"font-weight: bold\">)</span>\n",
       "</pre>"
      ],
      "text/plain": [
       "\n",
       "\u001b[38;2;0;17;170mDatetimeIndex\u001b[0m\u001b[1m(\u001b[0m\u001b[1m[\u001b[0m\u001b[38;2;139;0;139m'2011-01-20 00:00:00'\u001b[0m, \u001b[38;2;139;0;139m'2011-01-20 01:00:00'\u001b[0m,\n",
       "\u001b[38;2;128;128;128m│   │   │      \u001b[0m\u001b[38;2;139;0;139m'2011-01-20 02:00:00'\u001b[0m, \u001b[38;2;139;0;139m'2011-01-20 03:00:00'\u001b[0m,\n",
       "\u001b[38;2;128;128;128m│   │   │      \u001b[0m\u001b[38;2;139;0;139m'2011-01-20 04:00:00'\u001b[0m, \u001b[38;2;139;0;139m'2011-01-20 05:00:00'\u001b[0m,\n",
       "\u001b[38;2;128;128;128m│   │   │      \u001b[0m\u001b[38;2;139;0;139m'2011-01-20 06:00:00'\u001b[0m, \u001b[38;2;139;0;139m'2011-01-20 07:00:00'\u001b[0m,\n",
       "\u001b[38;2;128;128;128m│   │   │      \u001b[0m\u001b[38;2;139;0;139m'2011-01-20 08:00:00'\u001b[0m, \u001b[38;2;139;0;139m'2011-01-20 09:00:00'\u001b[0m,\n",
       "\u001b[38;2;128;128;128m│   │   │      \u001b[0m\u001b[33m...\u001b[0m\n",
       "\u001b[38;2;128;128;128m│   │   │      \u001b[0m\u001b[38;2;139;0;139m'2012-12-31 14:00:00'\u001b[0m, \u001b[38;2;139;0;139m'2012-12-31 15:00:00'\u001b[0m,\n",
       "\u001b[38;2;128;128;128m│   │   │      \u001b[0m\u001b[38;2;139;0;139m'2012-12-31 16:00:00'\u001b[0m, \u001b[38;2;139;0;139m'2012-12-31 17:00:00'\u001b[0m,\n",
       "\u001b[38;2;128;128;128m│   │   │      \u001b[0m\u001b[38;2;139;0;139m'2012-12-31 18:00:00'\u001b[0m, \u001b[38;2;139;0;139m'2012-12-31 19:00:00'\u001b[0m,\n",
       "\u001b[38;2;128;128;128m│   │   │      \u001b[0m\u001b[38;2;139;0;139m'2012-12-31 20:00:00'\u001b[0m, \u001b[38;2;139;0;139m'2012-12-31 21:00:00'\u001b[0m,\n",
       "\u001b[38;2;128;128;128m│   │   │      \u001b[0m\u001b[38;2;139;0;139m'2012-12-31 22:00:00'\u001b[0m, \u001b[38;2;139;0;139m'2012-12-31 23:00:00'\u001b[0m\u001b[1m]\u001b[0m,\n",
       "\u001b[38;2;128;128;128m│   │   │     \u001b[0m\u001b[38;2;0;85;0mdtype\u001b[0m=\u001b[38;2;139;0;139m'datetime64\u001b[0m\u001b[1;38;2;139;0;139m[\u001b[0m\u001b[38;2;139;0;139mns\u001b[0m\u001b[1;38;2;139;0;139m]\u001b[0m\u001b[38;2;139;0;139m'\u001b[0m, \u001b[38;2;0;85;0mname\u001b[0m=\u001b[38;2;139;0;139m'datetime'\u001b[0m, \u001b[38;2;0;85;0mlength\u001b[0m=\u001b[38;2;16;16;16m6493\u001b[0m, \u001b[38;2;0;85;0mfreq\u001b[0m=\u001b[38;2;38;98;144mNone\u001b[0m\u001b[1m)\u001b[0m\n"
      ]
     },
     "metadata": {},
     "output_type": "display_data"
    }
   ],
   "source": [
    "datetime_ = test_subm.index\n",
    "datetime_"
   ]
  },
  {
   "cell_type": "code",
   "execution_count": 149,
   "id": "e8efa35a",
   "metadata": {},
   "outputs": [],
   "source": [
    "result_bike = pd.DataFrame({'datetime' : datetime_,\n",
    "                            'count'    : predictions_test\n",
    "                           })"
   ]
  },
  {
   "cell_type": "code",
   "execution_count": 150,
   "id": "f5f66a93",
   "metadata": {},
   "outputs": [],
   "source": [
    "result_bike.to_csv('result_bike.csv', index=False)"
   ]
  },
  {
   "cell_type": "markdown",
   "id": "c7a2c2f6",
   "metadata": {},
   "source": [
    "#### Step 6.4 - evaluate the feature importance"
   ]
  },
  {
   "cell_type": "markdown",
   "id": "46cad5bc",
   "metadata": {},
   "source": [
    "#### Step 6.5 - feature selection"
   ]
  },
  {
   "cell_type": "markdown",
   "id": "ce42d23d",
   "metadata": {
    "heading_collapsed": true
   },
   "source": [
    "### Step 7 - model tuning"
   ]
  },
  {
   "cell_type": "markdown",
   "id": "40ba23c8",
   "metadata": {
    "hidden": true
   },
   "source": [
    "#### Step 7.1 - create a pipeline for model tuning"
   ]
  },
  {
   "cell_type": "markdown",
   "id": "41a26584",
   "metadata": {
    "hidden": true
   },
   "source": [
    "##### Step 7.1.1 - function transformer"
   ]
  },
  {
   "cell_type": "markdown",
   "id": "905d31b9",
   "metadata": {
    "hidden": true
   },
   "source": [
    "##### Step 7.1.2 - column transformer"
   ]
  },
  {
   "cell_type": "markdown",
   "id": "25d084dc",
   "metadata": {
    "hidden": true
   },
   "source": [
    "##### Step 7.1.3 - set up pipeline with estimators"
   ]
  },
  {
   "cell_type": "markdown",
   "id": "f8e7c6c7",
   "metadata": {
    "hidden": true
   },
   "source": [
    "##### Step 7.1.4 - define the hyperparameter grid"
   ]
  },
  {
   "cell_type": "markdown",
   "id": "162b2eaa",
   "metadata": {
    "hidden": true
   },
   "source": [
    "##### Step 7.1.5 - set up the grid search CV"
   ]
  },
  {
   "cell_type": "markdown",
   "id": "c162e0be",
   "metadata": {
    "hidden": true
   },
   "source": [
    "#### Step 7.2 - run the tuner model"
   ]
  },
  {
   "cell_type": "markdown",
   "id": "e6347687",
   "metadata": {
    "hidden": true
   },
   "source": [
    "#### Step 7.3 - evaluate the tuner model"
   ]
  },
  {
   "cell_type": "markdown",
   "id": "b340b7c0",
   "metadata": {
    "hidden": true
   },
   "source": [
    "#### Step 7.4 - handle over-/underfitting (e.g. regularization) - if necessary"
   ]
  },
  {
   "cell_type": "markdown",
   "id": "0c8a8e3a",
   "metadata": {
    "hidden": true
   },
   "source": [
    "#### Step 7.5 - optimize the model"
   ]
  },
  {
   "cell_type": "markdown",
   "id": "d69df641",
   "metadata": {},
   "source": [
    "### Step 8 - retraining the best model with the whole data set"
   ]
  },
  {
   "cell_type": "markdown",
   "id": "1bd93026",
   "metadata": {},
   "source": [
    "### Step 9 - pickle the best model"
   ]
  },
  {
   "cell_type": "code",
   "execution_count": 151,
   "id": "c2b2c1a4",
   "metadata": {},
   "outputs": [
    {
     "data": {
      "text/html": [
       "<div id='friendly-message4'><pre style='white-space:pre;overflow-x:auto;line-height:normal'><span style=\"color: #dd0000; text-decoration-color: #dd0000; background-color: #ffffff\">NameError</span>: name 'data' is not defined                                 \n",
       "</pre></div>"
      ],
      "text/plain": [
       "\u001b[38;2;221;0;0;48;2;255;255;255mNameError\u001b[0m: name 'data' is not defined                                 \n"
      ]
     },
     "metadata": {},
     "output_type": "display_data"
    },
    {
     "data": {
      "text/html": [
       "\n",
       "        <button\n",
       "            id='friendly-tb-btn-show4'\n",
       "            onclick='friendly_toggle_more4()'\n",
       "            style=''>\n",
       "        More ...\n",
       "        </button>\n",
       "        <script type=\"text/Javascript\"> function friendly_toggle_more4(){\n",
       "        var btn = document.getElementById('friendly-tb-btn-show4');\n",
       "        var btn_what = document.getElementById('friendly-tb-btn-show-what4');\n",
       "        var btn_where = document.getElementById('friendly-tb-btn-show-where4');\n",
       "        var btn_why = document.getElementById('friendly-tb-btn-show-why4');\n",
       "        ;\n",
       "        var message = document.getElementById('friendly-message4');\n",
       "        var friendly_tb_content = document.getElementById('friendly-tb-friendly_tb-content4');\n",
       "        var what_content = document.getElementById('friendly-tb-what-content4');\n",
       "        var why_content = document.getElementById('friendly-tb-why-content4');\n",
       "        var where_content = document.getElementById('friendly-tb-where-content4');\n",
       "        ;\n",
       "\n",
       "        if (btn_what.style.display == 'none'){\n",
       "            message.style.display = 'none';\n",
       "            btn_what.style.display = 'block';\n",
       "            btn_why.style.display = 'block';\n",
       "            btn_where.style.display = 'block';\n",
       "            friendly_tb_content.style.display = 'block';\n",
       "            ;\n",
       "            btn.textContent = \"Show message only\";\n",
       "            ;\n",
       "        } else {\n",
       "            btn_what.style.display = 'none';\n",
       "            btn_what.textContent = 'what()';\n",
       "            btn_why.style.display = 'none';\n",
       "            btn_why.textContent = 'why()';\n",
       "            btn_where.style.display = 'none';\n",
       "            btn_where.textContent = 'where()';\n",
       "            what_content.style.display = 'none';\n",
       "            why_content.style.display = 'none';\n",
       "            where_content.style.display = 'none';\n",
       "            ;\n",
       "            friendly_tb_content.style.display = 'none';\n",
       "            message.style.display = 'block';\n",
       "            btn.textContent = \"More ...\";\n",
       "            ;\n",
       "        }\n",
       "        };\n",
       "        </script>\n",
       "        "
      ]
     },
     "metadata": {},
     "output_type": "display_data"
    },
    {
     "data": {
      "text/html": [
       "<div id='friendly-tb-friendly_tb-content4' style='display:none'><pre style='white-space:pre;overflow-x:auto;line-height:normal'><span style=\"color: #dd0000; text-decoration-color: #dd0000; background-color: #ffffff\">Traceback (most recent call last):</span><span style=\"background-color: #ffffff\">                                                                  </span>\n",
       "<span style=\"color: #101010; text-decoration-color: #101010; background-color: #ffffff\">  Code block </span><span style=\"color: #783114; text-decoration-color: #783114; background-color: #ffffff\">[</span><span style=\"color: #101010; text-decoration-color: #101010; background-color: #ffffff\">151</span><span style=\"color: #783114; text-decoration-color: #783114; background-color: #ffffff\">]</span><span style=\"color: #101010; text-decoration-color: #101010; background-color: #ffffff\">, line 4</span><span style=\"background-color: #ffffff\">                                                                          </span>\n",
       "<span style=\"color: #101010; text-decoration-color: #101010; background-color: #ffffff\">    </span><span style=\"color: #0011aa; text-decoration-color: #0011aa; background-color: #ffffff\">data</span><span style=\"color: #783114; text-decoration-color: #783114; background-color: #ffffff\">[</span><span style=\"color: #8b008b; text-decoration-color: #8b008b; background-color: #ffffff\">'count'</span><span style=\"color: #783114; text-decoration-color: #783114; background-color: #ffffff\">]</span><span style=\"color: #101010; text-decoration-color: #101010; background-color: #ffffff\"> </span><span style=\"color: #783114; text-decoration-color: #783114; background-color: #ffffff\">=</span><span style=\"color: #101010; text-decoration-color: #101010; background-color: #ffffff\"> </span><span style=\"color: #0011aa; text-decoration-color: #0011aa; background-color: #ffffff\">np</span><span style=\"color: #783114; text-decoration-color: #783114; background-color: #ffffff\">.</span><span style=\"color: #0011aa; text-decoration-color: #0011aa; background-color: #ffffff\">log</span><span style=\"color: #783114; text-decoration-color: #783114; background-color: #ffffff\">(</span><span style=\"color: #0011aa; text-decoration-color: #0011aa; background-color: #ffffff\">data</span><span style=\"color: #783114; text-decoration-color: #783114; background-color: #ffffff\">[</span><span style=\"color: #8b008b; text-decoration-color: #8b008b; background-color: #ffffff\">'count'</span><span style=\"color: #783114; text-decoration-color: #783114; background-color: #ffffff\">])</span><span style=\"background-color: #ffffff\">                                                           </span>\n",
       "<span style=\"color: #dd0000; text-decoration-color: #dd0000; background-color: #ffffff\">NameError</span><span style=\"color: #101010; text-decoration-color: #101010; background-color: #ffffff\">: </span><span style=\"color: #0011aa; text-decoration-color: #0011aa; background-color: #ffffff\">name 'data' is not defined</span><span style=\"background-color: #ffffff\">                                                               </span>\n",
       "\n",
       "Did you forget to add <span style=\"color: #0011aa; text-decoration-color: #0011aa; background-color: #ffffff\">___</span><span style=\"color: #783114; text-decoration-color: #783114; background-color: #ffffff\">.</span>?                                                                         \n",
       "</pre></div>"
      ],
      "text/plain": [
       "\u001b[38;2;221;0;0;48;2;255;255;255mTraceback (most recent call last):\u001b[0m\u001b[48;2;255;255;255m                                                                  \u001b[0m\n",
       "\u001b[38;2;16;16;16;48;2;255;255;255m  Code block \u001b[0m\u001b[38;2;120;49;20;48;2;255;255;255m[\u001b[0m\u001b[38;2;16;16;16;48;2;255;255;255m151\u001b[0m\u001b[38;2;120;49;20;48;2;255;255;255m]\u001b[0m\u001b[38;2;16;16;16;48;2;255;255;255m, line \u001b[0m\u001b[38;2;16;16;16;48;2;255;255;255m4\u001b[0m\u001b[48;2;255;255;255m                                                                          \u001b[0m\n",
       "\u001b[38;2;16;16;16;48;2;255;255;255m    \u001b[0m\u001b[38;2;0;17;170;48;2;255;255;255mdata\u001b[0m\u001b[38;2;120;49;20;48;2;255;255;255m[\u001b[0m\u001b[38;2;139;0;139;48;2;255;255;255m'\u001b[0m\u001b[38;2;139;0;139;48;2;255;255;255mcount\u001b[0m\u001b[38;2;139;0;139;48;2;255;255;255m'\u001b[0m\u001b[38;2;120;49;20;48;2;255;255;255m]\u001b[0m\u001b[38;2;16;16;16;48;2;255;255;255m \u001b[0m\u001b[38;2;120;49;20;48;2;255;255;255m=\u001b[0m\u001b[38;2;16;16;16;48;2;255;255;255m \u001b[0m\u001b[38;2;0;17;170;48;2;255;255;255mnp\u001b[0m\u001b[38;2;120;49;20;48;2;255;255;255m.\u001b[0m\u001b[38;2;0;17;170;48;2;255;255;255mlog\u001b[0m\u001b[38;2;120;49;20;48;2;255;255;255m(\u001b[0m\u001b[38;2;0;17;170;48;2;255;255;255mdata\u001b[0m\u001b[38;2;120;49;20;48;2;255;255;255m[\u001b[0m\u001b[38;2;139;0;139;48;2;255;255;255m'\u001b[0m\u001b[38;2;139;0;139;48;2;255;255;255mcount\u001b[0m\u001b[38;2;139;0;139;48;2;255;255;255m'\u001b[0m\u001b[38;2;120;49;20;48;2;255;255;255m]\u001b[0m\u001b[38;2;120;49;20;48;2;255;255;255m)\u001b[0m\u001b[48;2;255;255;255m                                                           \u001b[0m\n",
       "\u001b[38;2;221;0;0;48;2;255;255;255mNameError\u001b[0m\u001b[38;2;16;16;16;48;2;255;255;255m: \u001b[0m\u001b[38;2;0;17;170;48;2;255;255;255mname 'data' is not defined\u001b[0m\u001b[48;2;255;255;255m                                                               \u001b[0m\n",
       "\n",
       "Did you forget to add \u001b[38;2;0;17;170;48;2;255;255;255m___\u001b[0m\u001b[38;2;120;49;20;48;2;255;255;255m.\u001b[0m?                                                                         \n"
      ]
     },
     "metadata": {},
     "output_type": "display_data"
    },
    {
     "data": {
      "text/html": [
       "<script type=\"text/Javascript\"> function toggle_what4(){\n",
       "     var content = document.getElementById('friendly-tb-what-content4');\n",
       "     var btn = document.getElementById('friendly-tb-btn-show-what4');\n",
       "        if (content.style.display === 'none') {\n",
       "            content.style.display = 'block';\n",
       "            btn.textContent = \"Hide what()\";\n",
       "        } else {\n",
       "            content.style.display = 'none';\n",
       "            btn.textContent = \"what()\";\n",
       "       }\n",
       "    }\n",
       "     </script>\n",
       "     <button\n",
       "         id='friendly-tb-btn-show-what4'\n",
       "         onclick='toggle_what4()'\n",
       "         style='display:none '>\n",
       "     what()\n",
       "     </button>\n",
       "    "
      ]
     },
     "metadata": {},
     "output_type": "display_data"
    },
    {
     "data": {
      "text/html": [
       "<div id='friendly-tb-what-content4' style='display:none'><pre style='white-space:pre;overflow-x:auto;line-height:normal'>A <span style=\"color: #dd0000; text-decoration-color: #dd0000; background-color: #ffffff\">NameError</span> exception indicates that a variable or function name is   \n",
       "not known to Python. Most often, this is because there is a spelling  \n",
       "mistake. However, sometimes it is because the name is used before     \n",
       "being defined or given a value.                                       \n",
       "</pre></div>"
      ],
      "text/plain": [
       "A \u001b[38;2;221;0;0;48;2;255;255;255mNameError\u001b[0m exception indicates that a variable or function name is   \n",
       "not known to Python. Most often, this is because there is a spelling  \n",
       "mistake. However, sometimes it is because the name is used before     \n",
       "being defined or given a value.                                       \n"
      ]
     },
     "metadata": {},
     "output_type": "display_data"
    },
    {
     "data": {
      "text/html": [
       "<script type=\"text/Javascript\"> function toggle_why4(){\n",
       "     var content = document.getElementById('friendly-tb-why-content4');\n",
       "     var btn = document.getElementById('friendly-tb-btn-show-why4');\n",
       "        if (content.style.display === 'none') {\n",
       "            content.style.display = 'block';\n",
       "            btn.textContent = \"Hide why()\";\n",
       "        } else {\n",
       "            content.style.display = 'none';\n",
       "            btn.textContent = \"why()\";\n",
       "       }\n",
       "    }\n",
       "     </script>\n",
       "     <button\n",
       "         id='friendly-tb-btn-show-why4'\n",
       "         onclick='toggle_why4()'\n",
       "         style='display:none '>\n",
       "     why()\n",
       "     </button>\n",
       "    "
      ]
     },
     "metadata": {},
     "output_type": "display_data"
    },
    {
     "data": {
      "text/html": [
       "<div id='friendly-tb-why-content4' style='display:none'><pre style='white-space:pre;overflow-x:auto;line-height:normal'>In your program, no object with the name <span style=\"color: #0011aa; text-decoration-color: #0011aa; background-color: #ffffff\">data</span> exists.                 \n",
       "\n",
       "The local object <span style=\"color: #0011aa; text-decoration-color: #0011aa; background-color: #ffffff\">___</span> has an attribute named <span style=\"color: #0011aa; text-decoration-color: #0011aa; background-color: #ffffff\">data</span>. Perhaps you should  \n",
       "have written <span style=\"color: #0011aa; text-decoration-color: #0011aa; background-color: #ffffff\">___</span><span style=\"color: #783114; text-decoration-color: #783114; background-color: #ffffff\">.</span><span style=\"color: #0011aa; text-decoration-color: #0011aa; background-color: #ffffff\">data</span> instead of <span style=\"color: #0011aa; text-decoration-color: #0011aa; background-color: #ffffff\">data</span>.                                \n",
       "</pre></div>"
      ],
      "text/plain": [
       "In your program, no object with the name \u001b[38;2;0;17;170;48;2;255;255;255mdata\u001b[0m exists.                 \n",
       "\n",
       "The local object \u001b[38;2;0;17;170;48;2;255;255;255m___\u001b[0m has an attribute named \u001b[38;2;0;17;170;48;2;255;255;255mdata\u001b[0m. Perhaps you should  \n",
       "have written \u001b[38;2;0;17;170;48;2;255;255;255m___\u001b[0m\u001b[38;2;120;49;20;48;2;255;255;255m.\u001b[0m\u001b[38;2;0;17;170;48;2;255;255;255mdata\u001b[0m instead of \u001b[38;2;0;17;170;48;2;255;255;255mdata\u001b[0m.                                \n"
      ]
     },
     "metadata": {},
     "output_type": "display_data"
    },
    {
     "data": {
      "text/html": [
       "<script type=\"text/Javascript\"> function toggle_where4(){\n",
       "     var content = document.getElementById('friendly-tb-where-content4');\n",
       "     var btn = document.getElementById('friendly-tb-btn-show-where4');\n",
       "        if (content.style.display === 'none') {\n",
       "            content.style.display = 'block';\n",
       "            btn.textContent = \"Hide where()\";\n",
       "        } else {\n",
       "            content.style.display = 'none';\n",
       "            btn.textContent = \"where()\";\n",
       "       }\n",
       "    }\n",
       "     </script>\n",
       "     <button\n",
       "         id='friendly-tb-btn-show-where4'\n",
       "         onclick='toggle_where4()'\n",
       "         style='display:none '>\n",
       "     where()\n",
       "     </button>\n",
       "    "
      ]
     },
     "metadata": {},
     "output_type": "display_data"
    },
    {
     "data": {
      "text/html": [
       "<div id='friendly-tb-where-content4' style='display:none'><pre style='white-space:pre;overflow-x:auto;line-height:normal'><span style=\"color: #dd0000; text-decoration-color: #dd0000\">Exception raised on line 4 of code block </span><span style=\"color: #783114; text-decoration-color: #783114; background-color: #ffffff\">[</span><span style=\"color: #101010; text-decoration-color: #101010; background-color: #ffffff\">151</span><span style=\"color: #783114; text-decoration-color: #783114; background-color: #ffffff\">]</span><span style=\"color: #dd0000; text-decoration-color: #dd0000\">.</span>                                                     \n",
       "\n",
       "<span style=\"color: #808080; text-decoration-color: #808080; background-color: #ffffff\">       1| # are there any duplicated rows?</span>\n",
       "<span style=\"color: #808080; text-decoration-color: #808080; background-color: #ffffff\">       2|</span><span style=\"color: #0011aa; text-decoration-color: #0011aa; background-color: #ffffff\"> df_train</span><span style=\"color: #783114; text-decoration-color: #783114; background-color: #ffffff\">.</span><span style=\"color: #0011aa; text-decoration-color: #0011aa; background-color: #ffffff\">duplicated</span><span style=\"color: #783114; text-decoration-color: #783114; background-color: #ffffff\">().</span><span style=\"color: #005500; text-decoration-color: #005500; background-color: #ffffff\">sum</span><span style=\"color: #783114; text-decoration-color: #783114; background-color: #ffffff\">()</span>\n",
       "<span style=\"color: #808080; text-decoration-color: #808080; background-color: #ffffff\">       3|</span><span style=\"color: #0011aa; text-decoration-color: #0011aa; background-color: #ffffff\"> </span>\n",
       "<span style=\"color: #783114; text-decoration-color: #783114; background-color: #ffffff\">     &gt; </span><span style=\"color: #101010; text-decoration-color: #101010; background-color: #ffffff\">4|</span><span style=\"color: #0011aa; text-decoration-color: #0011aa; background-color: #ffffff\"> data</span><span style=\"color: #783114; text-decoration-color: #783114; background-color: #ffffff\">[</span><span style=\"color: #8b008b; text-decoration-color: #8b008b; background-color: #ffffff\">'count'</span><span style=\"color: #783114; text-decoration-color: #783114; background-color: #ffffff\">] =</span><span style=\"color: #0011aa; text-decoration-color: #0011aa; background-color: #ffffff\"> np</span><span style=\"color: #783114; text-decoration-color: #783114; background-color: #ffffff\">.</span><span style=\"color: #0011aa; text-decoration-color: #0011aa; background-color: #ffffff\">log</span><span style=\"color: #783114; text-decoration-color: #783114; background-color: #ffffff\">(</span><span style=\"color: #0011aa; text-decoration-color: #0011aa; background-color: #ffffff\">data</span><span style=\"color: #783114; text-decoration-color: #783114; background-color: #ffffff\">[</span><span style=\"color: #8b008b; text-decoration-color: #8b008b; background-color: #ffffff\">'count'</span><span style=\"color: #783114; text-decoration-color: #783114; background-color: #ffffff\">])</span>\n",
       "<span style=\"color: #808080; text-decoration-color: #808080; background-color: #ffffff\">       5|</span><span style=\"color: #0011aa; text-decoration-color: #0011aa; background-color: #ffffff\"> </span>\n",
       "<span style=\"color: #808080; text-decoration-color: #808080; background-color: #ffffff\">       6| #RMSLE</span>\n",
       "\n",
       "<span style=\"color: #101010; text-decoration-color: #101010; background-color: #ffffff\">    </span><span style=\"color: #0011aa; text-decoration-color: #0011aa; background-color: #ffffff\">np</span><span style=\"color: #783114; text-decoration-color: #783114; background-color: #ffffff\">:</span><span style=\"color: #101010; text-decoration-color: #101010; background-color: #ffffff\">  </span><span style=\"color: #783114; text-decoration-color: #783114; background-color: #ffffff\">&lt;</span><span style=\"color: #0011aa; text-decoration-color: #0011aa; background-color: #ffffff\">module</span><span style=\"color: #101010; text-decoration-color: #101010; background-color: #ffffff\"> </span><span style=\"color: #0011aa; text-decoration-color: #0011aa; background-color: #ffffff\">numpy</span><span style=\"color: #783114; text-decoration-color: #783114; background-color: #ffffff\">&gt;</span><span style=\"color: #101010; text-decoration-color: #101010; background-color: #ffffff\"> </span><span style=\"color: #005500; text-decoration-color: #005500; background-color: #ffffff\">from</span><span style=\"color: #101010; text-decoration-color: #101010; background-color: #ffffff\"> </span><span style=\"color: #0011aa; text-decoration-color: #0011aa; background-color: #ffffff\">LOCAL</span><span style=\"color: #783114; text-decoration-color: #783114; background-color: #ffffff\">:/</span><span style=\"color: #0011aa; text-decoration-color: #0011aa; background-color: #ffffff\">numpy</span><span style=\"color: #783114; text-decoration-color: #783114; background-color: #ffffff\">/</span><span style=\"color: #0011aa; text-decoration-color: #0011aa; background-color: #ffffff\">__init__</span><span style=\"color: #783114; text-decoration-color: #783114; background-color: #ffffff\">.</span><span style=\"color: #0011aa; text-decoration-color: #0011aa; background-color: #ffffff\">py</span><span style=\"background-color: #ffffff\">                                               </span>\n",
       "<span style=\"color: #101010; text-decoration-color: #101010; background-color: #ffffff\">    </span><span style=\"color: #0011aa; text-decoration-color: #0011aa; background-color: #ffffff\">np</span><span style=\"color: #783114; text-decoration-color: #783114; background-color: #ffffff\">.</span><span style=\"color: #0011aa; text-decoration-color: #0011aa; background-color: #ffffff\">log</span><span style=\"color: #783114; text-decoration-color: #783114; background-color: #ffffff\">:</span><span style=\"color: #101010; text-decoration-color: #101010; background-color: #ffffff\">  </span><span style=\"color: #783114; text-decoration-color: #783114; background-color: #ffffff\">&lt;</span><span style=\"color: #0011aa; text-decoration-color: #0011aa; background-color: #ffffff\">ufunc</span><span style=\"color: #101010; text-decoration-color: #101010; background-color: #ffffff\"> </span><span style=\"color: #8b008b; text-decoration-color: #8b008b; background-color: #ffffff\">'log&gt;</span><span style=\"background-color: #ffffff\">                                                                           </span>\n",
       "</pre></div>"
      ],
      "text/plain": [
       "\u001b[38;2;221;0;0mException raised on line 4 of code block \u001b[0m\u001b[38;2;120;49;20;48;2;255;255;255m[\u001b[0m\u001b[38;2;16;16;16;48;2;255;255;255m151\u001b[0m\u001b[38;2;120;49;20;48;2;255;255;255m]\u001b[0m\u001b[38;2;221;0;0m.\u001b[0m                                                     \n",
       "\n",
       "\u001b[38;2;128;128;128;48;2;255;255;255m       1|\u001b[0m\u001b[38;2;128;128;128;48;2;255;255;255m # are there any duplicated rows?\u001b[0m\n",
       "\u001b[38;2;128;128;128;48;2;255;255;255m       2|\u001b[0m\u001b[38;2;0;17;170;48;2;255;255;255m \u001b[0m\u001b[38;2;0;17;170;48;2;255;255;255mdf_train\u001b[0m\u001b[38;2;120;49;20;48;2;255;255;255m.\u001b[0m\u001b[38;2;0;17;170;48;2;255;255;255mduplicated\u001b[0m\u001b[38;2;120;49;20;48;2;255;255;255m(\u001b[0m\u001b[38;2;120;49;20;48;2;255;255;255m)\u001b[0m\u001b[38;2;120;49;20;48;2;255;255;255m.\u001b[0m\u001b[38;2;0;85;0;48;2;255;255;255msum\u001b[0m\u001b[38;2;120;49;20;48;2;255;255;255m(\u001b[0m\u001b[38;2;120;49;20;48;2;255;255;255m)\u001b[0m\n",
       "\u001b[38;2;128;128;128;48;2;255;255;255m       3|\u001b[0m\u001b[38;2;0;17;170;48;2;255;255;255m \u001b[0m\n",
       "\u001b[38;2;120;49;20;48;2;255;255;255m     > \u001b[0m\u001b[38;2;16;16;16;48;2;255;255;255m4|\u001b[0m\u001b[38;2;0;17;170;48;2;255;255;255m \u001b[0m\u001b[38;2;0;17;170;48;2;255;255;255mdata\u001b[0m\u001b[38;2;120;49;20;48;2;255;255;255m[\u001b[0m\u001b[38;2;139;0;139;48;2;255;255;255m'count'\u001b[0m\u001b[38;2;120;49;20;48;2;255;255;255m]\u001b[0m\u001b[38;2;120;49;20;48;2;255;255;255m =\u001b[0m\u001b[38;2;0;17;170;48;2;255;255;255m np\u001b[0m\u001b[38;2;120;49;20;48;2;255;255;255m.\u001b[0m\u001b[38;2;0;17;170;48;2;255;255;255mlog\u001b[0m\u001b[38;2;120;49;20;48;2;255;255;255m(\u001b[0m\u001b[38;2;0;17;170;48;2;255;255;255mdata\u001b[0m\u001b[38;2;120;49;20;48;2;255;255;255m[\u001b[0m\u001b[38;2;139;0;139;48;2;255;255;255m'count'\u001b[0m\u001b[38;2;120;49;20;48;2;255;255;255m]\u001b[0m\u001b[38;2;120;49;20;48;2;255;255;255m)\u001b[0m\n",
       "\u001b[38;2;128;128;128;48;2;255;255;255m       5|\u001b[0m\u001b[38;2;0;17;170;48;2;255;255;255m \u001b[0m\n",
       "\u001b[38;2;128;128;128;48;2;255;255;255m       6|\u001b[0m\u001b[38;2;128;128;128;48;2;255;255;255m #RMSLE\u001b[0m\n",
       "\n",
       "\u001b[38;2;16;16;16;48;2;255;255;255m    \u001b[0m\u001b[38;2;0;17;170;48;2;255;255;255mnp\u001b[0m\u001b[38;2;120;49;20;48;2;255;255;255m:\u001b[0m\u001b[38;2;16;16;16;48;2;255;255;255m  \u001b[0m\u001b[38;2;120;49;20;48;2;255;255;255m<\u001b[0m\u001b[38;2;0;17;170;48;2;255;255;255mmodule\u001b[0m\u001b[38;2;16;16;16;48;2;255;255;255m \u001b[0m\u001b[38;2;0;17;170;48;2;255;255;255mnumpy\u001b[0m\u001b[38;2;120;49;20;48;2;255;255;255m>\u001b[0m\u001b[38;2;16;16;16;48;2;255;255;255m \u001b[0m\u001b[38;2;0;85;0;48;2;255;255;255mfrom\u001b[0m\u001b[38;2;16;16;16;48;2;255;255;255m \u001b[0m\u001b[38;2;0;17;170;48;2;255;255;255mLOCAL\u001b[0m\u001b[38;2;120;49;20;48;2;255;255;255m:\u001b[0m\u001b[38;2;120;49;20;48;2;255;255;255m/\u001b[0m\u001b[38;2;0;17;170;48;2;255;255;255mnumpy\u001b[0m\u001b[38;2;120;49;20;48;2;255;255;255m/\u001b[0m\u001b[38;2;0;17;170;48;2;255;255;255m__init__\u001b[0m\u001b[38;2;120;49;20;48;2;255;255;255m.\u001b[0m\u001b[38;2;0;17;170;48;2;255;255;255mpy\u001b[0m\u001b[48;2;255;255;255m                                               \u001b[0m\n",
       "\u001b[38;2;16;16;16;48;2;255;255;255m    \u001b[0m\u001b[38;2;0;17;170;48;2;255;255;255mnp\u001b[0m\u001b[38;2;120;49;20;48;2;255;255;255m.\u001b[0m\u001b[38;2;0;17;170;48;2;255;255;255mlog\u001b[0m\u001b[38;2;120;49;20;48;2;255;255;255m:\u001b[0m\u001b[38;2;16;16;16;48;2;255;255;255m  \u001b[0m\u001b[38;2;120;49;20;48;2;255;255;255m<\u001b[0m\u001b[38;2;0;17;170;48;2;255;255;255mufunc\u001b[0m\u001b[38;2;16;16;16;48;2;255;255;255m \u001b[0m\u001b[38;2;139;0;139;48;2;255;255;255m'\u001b[0m\u001b[38;2;139;0;139;48;2;255;255;255mlog>\u001b[0m\u001b[48;2;255;255;255m                                                                           \u001b[0m\n"
      ]
     },
     "metadata": {},
     "output_type": "display_data"
    }
   ],
   "source": [
    "# are there any duplicated rows?\n",
    "df_train.duplicated().sum()\n",
    "\n",
    "data['count'] = np.log(data['count'])\n",
    "\n",
    "#RMSLE\n",
    "print('RMSLE:', np.sqrt(metrics.mean_squared_log_error(np.exp(y_test), np.exp(pred))))"
   ]
  },
  {
   "cell_type": "code",
   "execution_count": 152,
   "id": "b26b7ddf",
   "metadata": {},
   "outputs": [
    {
     "data": {
      "text/html": [
       "<div id='friendly-message5'><pre style='white-space:pre;overflow-x:auto;line-height:normal'><span style=\"color: #dd0000; text-decoration-color: #dd0000; background-color: #ffffff\">NameError</span>: name 'datetimecol' is not defined                          \n",
       "</pre></div>"
      ],
      "text/plain": [
       "\u001b[38;2;221;0;0;48;2;255;255;255mNameError\u001b[0m: name 'datetimecol' is not defined                          \n"
      ]
     },
     "metadata": {},
     "output_type": "display_data"
    },
    {
     "data": {
      "text/html": [
       "\n",
       "        <button\n",
       "            id='friendly-tb-btn-show5'\n",
       "            onclick='friendly_toggle_more5()'\n",
       "            style=''>\n",
       "        More ...\n",
       "        </button>\n",
       "        <script type=\"text/Javascript\"> function friendly_toggle_more5(){\n",
       "        var btn = document.getElementById('friendly-tb-btn-show5');\n",
       "        var btn_what = document.getElementById('friendly-tb-btn-show-what5');\n",
       "        var btn_where = document.getElementById('friendly-tb-btn-show-where5');\n",
       "        var btn_why = document.getElementById('friendly-tb-btn-show-why5');\n",
       "        ;\n",
       "        var message = document.getElementById('friendly-message5');\n",
       "        var friendly_tb_content = document.getElementById('friendly-tb-friendly_tb-content5');\n",
       "        var what_content = document.getElementById('friendly-tb-what-content5');\n",
       "        var why_content = document.getElementById('friendly-tb-why-content5');\n",
       "        var where_content = document.getElementById('friendly-tb-where-content5');\n",
       "        ;\n",
       "\n",
       "        if (btn_what.style.display == 'none'){\n",
       "            message.style.display = 'none';\n",
       "            btn_what.style.display = 'block';\n",
       "            btn_why.style.display = 'block';\n",
       "            btn_where.style.display = 'block';\n",
       "            friendly_tb_content.style.display = 'block';\n",
       "            ;\n",
       "            btn.textContent = \"Show message only\";\n",
       "            ;\n",
       "        } else {\n",
       "            btn_what.style.display = 'none';\n",
       "            btn_what.textContent = 'what()';\n",
       "            btn_why.style.display = 'none';\n",
       "            btn_why.textContent = 'why()';\n",
       "            btn_where.style.display = 'none';\n",
       "            btn_where.textContent = 'where()';\n",
       "            what_content.style.display = 'none';\n",
       "            why_content.style.display = 'none';\n",
       "            where_content.style.display = 'none';\n",
       "            ;\n",
       "            friendly_tb_content.style.display = 'none';\n",
       "            message.style.display = 'block';\n",
       "            btn.textContent = \"More ...\";\n",
       "            ;\n",
       "        }\n",
       "        };\n",
       "        </script>\n",
       "        "
      ]
     },
     "metadata": {},
     "output_type": "display_data"
    },
    {
     "data": {
      "text/html": [
       "<div id='friendly-tb-friendly_tb-content5' style='display:none'><pre style='white-space:pre;overflow-x:auto;line-height:normal'><span style=\"color: #dd0000; text-decoration-color: #dd0000; background-color: #ffffff\">Traceback (most recent call last):</span><span style=\"background-color: #ffffff\">                                                                  </span>\n",
       "<span style=\"color: #101010; text-decoration-color: #101010; background-color: #ffffff\">  Code block </span><span style=\"color: #783114; text-decoration-color: #783114; background-color: #ffffff\">[</span><span style=\"color: #101010; text-decoration-color: #101010; background-color: #ffffff\">152</span><span style=\"color: #783114; text-decoration-color: #783114; background-color: #ffffff\">]</span><span style=\"color: #101010; text-decoration-color: #101010; background-color: #ffffff\">, line 2</span><span style=\"background-color: #ffffff\">                                                                          </span>\n",
       "<span style=\"color: #101010; text-decoration-color: #101010; background-color: #ffffff\">    </span><span style=\"color: #8b008b; text-decoration-color: #8b008b; background-color: #ffffff\">\"datetime\"</span><span style=\"color: #783114; text-decoration-color: #783114; background-color: #ffffff\">:</span><span style=\"color: #101010; text-decoration-color: #101010; background-color: #ffffff\"> </span><span style=\"color: #0011aa; text-decoration-color: #0011aa; background-color: #ffffff\">datetimecol</span><span style=\"color: #783114; text-decoration-color: #783114; background-color: #ffffff\">,</span><span style=\"background-color: #ffffff\">                                                                        </span>\n",
       "<span style=\"color: #dd0000; text-decoration-color: #dd0000; background-color: #ffffff\">NameError</span><span style=\"color: #101010; text-decoration-color: #101010; background-color: #ffffff\">: </span><span style=\"color: #0011aa; text-decoration-color: #0011aa; background-color: #ffffff\">name 'datetimecol' is not defined</span><span style=\"background-color: #ffffff\">                                                        </span>\n",
       "\n",
       "Did you mean <span style=\"color: #0011aa; text-decoration-color: #0011aa; background-color: #ffffff\">datetime_</span>?                                                                             \n",
       "</pre></div>"
      ],
      "text/plain": [
       "\u001b[38;2;221;0;0;48;2;255;255;255mTraceback (most recent call last):\u001b[0m\u001b[48;2;255;255;255m                                                                  \u001b[0m\n",
       "\u001b[38;2;16;16;16;48;2;255;255;255m  Code block \u001b[0m\u001b[38;2;120;49;20;48;2;255;255;255m[\u001b[0m\u001b[38;2;16;16;16;48;2;255;255;255m152\u001b[0m\u001b[38;2;120;49;20;48;2;255;255;255m]\u001b[0m\u001b[38;2;16;16;16;48;2;255;255;255m, line \u001b[0m\u001b[38;2;16;16;16;48;2;255;255;255m2\u001b[0m\u001b[48;2;255;255;255m                                                                          \u001b[0m\n",
       "\u001b[38;2;16;16;16;48;2;255;255;255m    \u001b[0m\u001b[38;2;139;0;139;48;2;255;255;255m\"\u001b[0m\u001b[38;2;139;0;139;48;2;255;255;255mdatetime\u001b[0m\u001b[38;2;139;0;139;48;2;255;255;255m\"\u001b[0m\u001b[38;2;120;49;20;48;2;255;255;255m:\u001b[0m\u001b[38;2;16;16;16;48;2;255;255;255m \u001b[0m\u001b[38;2;0;17;170;48;2;255;255;255mdatetimecol\u001b[0m\u001b[38;2;120;49;20;48;2;255;255;255m,\u001b[0m\u001b[48;2;255;255;255m                                                                        \u001b[0m\n",
       "\u001b[38;2;221;0;0;48;2;255;255;255mNameError\u001b[0m\u001b[38;2;16;16;16;48;2;255;255;255m: \u001b[0m\u001b[38;2;0;17;170;48;2;255;255;255mname 'datetimecol' is not defined\u001b[0m\u001b[48;2;255;255;255m                                                        \u001b[0m\n",
       "\n",
       "Did you mean \u001b[38;2;0;17;170;48;2;255;255;255mdatetime_\u001b[0m?                                                                             \n"
      ]
     },
     "metadata": {},
     "output_type": "display_data"
    },
    {
     "data": {
      "text/html": [
       "<script type=\"text/Javascript\"> function toggle_what5(){\n",
       "     var content = document.getElementById('friendly-tb-what-content5');\n",
       "     var btn = document.getElementById('friendly-tb-btn-show-what5');\n",
       "        if (content.style.display === 'none') {\n",
       "            content.style.display = 'block';\n",
       "            btn.textContent = \"Hide what()\";\n",
       "        } else {\n",
       "            content.style.display = 'none';\n",
       "            btn.textContent = \"what()\";\n",
       "       }\n",
       "    }\n",
       "     </script>\n",
       "     <button\n",
       "         id='friendly-tb-btn-show-what5'\n",
       "         onclick='toggle_what5()'\n",
       "         style='display:none '>\n",
       "     what()\n",
       "     </button>\n",
       "    "
      ]
     },
     "metadata": {},
     "output_type": "display_data"
    },
    {
     "data": {
      "text/html": [
       "<div id='friendly-tb-what-content5' style='display:none'><pre style='white-space:pre;overflow-x:auto;line-height:normal'>A <span style=\"color: #dd0000; text-decoration-color: #dd0000; background-color: #ffffff\">NameError</span> exception indicates that a variable or function name is   \n",
       "not known to Python. Most often, this is because there is a spelling  \n",
       "mistake. However, sometimes it is because the name is used before     \n",
       "being defined or given a value.                                       \n",
       "</pre></div>"
      ],
      "text/plain": [
       "A \u001b[38;2;221;0;0;48;2;255;255;255mNameError\u001b[0m exception indicates that a variable or function name is   \n",
       "not known to Python. Most often, this is because there is a spelling  \n",
       "mistake. However, sometimes it is because the name is used before     \n",
       "being defined or given a value.                                       \n"
      ]
     },
     "metadata": {},
     "output_type": "display_data"
    },
    {
     "data": {
      "text/html": [
       "<script type=\"text/Javascript\"> function toggle_why5(){\n",
       "     var content = document.getElementById('friendly-tb-why-content5');\n",
       "     var btn = document.getElementById('friendly-tb-btn-show-why5');\n",
       "        if (content.style.display === 'none') {\n",
       "            content.style.display = 'block';\n",
       "            btn.textContent = \"Hide why()\";\n",
       "        } else {\n",
       "            content.style.display = 'none';\n",
       "            btn.textContent = \"why()\";\n",
       "       }\n",
       "    }\n",
       "     </script>\n",
       "     <button\n",
       "         id='friendly-tb-btn-show-why5'\n",
       "         onclick='toggle_why5()'\n",
       "         style='display:none '>\n",
       "     why()\n",
       "     </button>\n",
       "    "
      ]
     },
     "metadata": {},
     "output_type": "display_data"
    },
    {
     "data": {
      "text/html": [
       "<div id='friendly-tb-why-content5' style='display:none'><pre style='white-space:pre;overflow-x:auto;line-height:normal'>In your program, no object with the name <span style=\"color: #0011aa; text-decoration-color: #0011aa; background-color: #ffffff\">datetimecol</span> exists. The      \n",
       "similar name <span style=\"color: #0011aa; text-decoration-color: #0011aa; background-color: #ffffff\">datetime_</span> was found in the local scope.                  \n",
       "</pre></div>"
      ],
      "text/plain": [
       "In your program, no object with the name \u001b[38;2;0;17;170;48;2;255;255;255mdatetimecol\u001b[0m exists. The      \n",
       "similar name \u001b[38;2;0;17;170;48;2;255;255;255mdatetime_\u001b[0m was found in the local scope.                  \n"
      ]
     },
     "metadata": {},
     "output_type": "display_data"
    },
    {
     "data": {
      "text/html": [
       "<script type=\"text/Javascript\"> function toggle_where5(){\n",
       "     var content = document.getElementById('friendly-tb-where-content5');\n",
       "     var btn = document.getElementById('friendly-tb-btn-show-where5');\n",
       "        if (content.style.display === 'none') {\n",
       "            content.style.display = 'block';\n",
       "            btn.textContent = \"Hide where()\";\n",
       "        } else {\n",
       "            content.style.display = 'none';\n",
       "            btn.textContent = \"where()\";\n",
       "       }\n",
       "    }\n",
       "     </script>\n",
       "     <button\n",
       "         id='friendly-tb-btn-show-where5'\n",
       "         onclick='toggle_where5()'\n",
       "         style='display:none '>\n",
       "     where()\n",
       "     </button>\n",
       "    "
      ]
     },
     "metadata": {},
     "output_type": "display_data"
    },
    {
     "data": {
      "text/html": [
       "<div id='friendly-tb-where-content5' style='display:none'><pre style='white-space:pre;overflow-x:auto;line-height:normal'><span style=\"color: #dd0000; text-decoration-color: #dd0000\">Exception raised on line 2 of code block </span><span style=\"color: #783114; text-decoration-color: #783114; background-color: #ffffff\">[</span><span style=\"color: #101010; text-decoration-color: #101010; background-color: #ffffff\">152</span><span style=\"color: #783114; text-decoration-color: #783114; background-color: #ffffff\">]</span><span style=\"color: #dd0000; text-decoration-color: #dd0000\">.</span>                                                     \n",
       "\n",
       "<span style=\"color: #808080; text-decoration-color: #808080; background-color: #ffffff\">       1|</span><span style=\"color: #0011aa; text-decoration-color: #0011aa; background-color: #ffffff\"> submission</span><span style=\"color: #783114; text-decoration-color: #783114; background-color: #ffffff\"> =</span><span style=\"color: #0011aa; text-decoration-color: #0011aa; background-color: #ffffff\"> pd</span><span style=\"color: #783114; text-decoration-color: #783114; background-color: #ffffff\">.</span><span style=\"color: #0011aa; text-decoration-color: #0011aa; background-color: #ffffff\">DataFrame</span><span style=\"color: #783114; text-decoration-color: #783114; background-color: #ffffff\">({</span>\n",
       "<span style=\"color: #783114; text-decoration-color: #783114; background-color: #ffffff\">     &gt; </span><span style=\"color: #101010; text-decoration-color: #101010; background-color: #ffffff\">2|</span><span style=\"color: #0011aa; text-decoration-color: #0011aa; background-color: #ffffff\">         </span><span style=\"color: #8b008b; text-decoration-color: #8b008b; background-color: #ffffff\">\"datetime\"</span><span style=\"color: #783114; text-decoration-color: #783114; background-color: #ffffff\">:</span><span style=\"color: #0011aa; text-decoration-color: #0011aa; background-color: #ffffff\"> datetimecol</span><span style=\"color: #783114; text-decoration-color: #783114; background-color: #ffffff\">,</span>\n",
       "<span style=\"color: #808080; text-decoration-color: #808080; background-color: #ffffff\">       3|</span><span style=\"color: #0011aa; text-decoration-color: #0011aa; background-color: #ffffff\">         </span><span style=\"color: #8b008b; text-decoration-color: #8b008b; background-color: #ffffff\">\"count\"</span><span style=\"color: #783114; text-decoration-color: #783114; background-color: #ffffff\">: [</span><span style=\"color: #005500; text-decoration-color: #005500; background-color: #ffffff\">max</span><span style=\"color: #783114; text-decoration-color: #783114; background-color: #ffffff\">(</span><span style=\"color: #101010; text-decoration-color: #101010; background-color: #ffffff\">0</span><span style=\"color: #783114; text-decoration-color: #783114; background-color: #ffffff\">,</span><span style=\"color: #0011aa; text-decoration-color: #0011aa; background-color: #ffffff\"> x</span><span style=\"color: #783114; text-decoration-color: #783114; background-color: #ffffff\">)</span><span style=\"color: #005500; text-decoration-color: #005500; background-color: #ffffff\"> for</span><span style=\"color: #0011aa; text-decoration-color: #0011aa; background-color: #ffffff\"> x</span><span style=\"color: #005500; text-decoration-color: #005500; background-color: #ffffff\"> in</span><span style=\"color: #0011aa; text-decoration-color: #0011aa; background-color: #ffffff\"> np</span><span style=\"color: #783114; text-decoration-color: #783114; background-color: #ffffff\">.</span><span style=\"color: #0011aa; text-decoration-color: #0011aa; background-color: #ffffff\">exp</span><span style=\"color: #783114; text-decoration-color: #783114; background-color: #ffffff\">(</span><span style=\"color: #0011aa; text-decoration-color: #0011aa; background-color: #ffffff\">predsTest</span><span style=\"color: #783114; text-decoration-color: #783114; background-color: #ffffff\">)]</span>\n",
       "<span style=\"color: #808080; text-decoration-color: #808080; background-color: #ffffff\">       4|</span><span style=\"color: #0011aa; text-decoration-color: #0011aa; background-color: #ffffff\">     </span><span style=\"color: #783114; text-decoration-color: #783114; background-color: #ffffff\">})</span>\n",
       "<span style=\"color: #808080; text-decoration-color: #808080; background-color: #ffffff\">       5|</span><span style=\"color: #0011aa; text-decoration-color: #0011aa; background-color: #ffffff\"> submission</span><span style=\"color: #783114; text-decoration-color: #783114; background-color: #ffffff\">.</span><span style=\"color: #0011aa; text-decoration-color: #0011aa; background-color: #ffffff\">to_csv</span><span style=\"color: #783114; text-decoration-color: #783114; background-color: #ffffff\">(</span><span style=\"color: #8b008b; text-decoration-color: #8b008b; background-color: #ffffff\">'bike_predictions_gbm_separate_without_fe.csv'</span><span style=\"color: #783114; text-decoration-color: #783114; background-color: #ffffff\">,</span><span style=\"color: #0011aa; text-decoration-color: #0011aa; background-color: #ffffff\"> index</span><span style=\"color: #783114; text-decoration-color: #783114; background-color: #ffffff\">=</span><span style=\"color: #266290; text-decoration-color: #266290; background-color: #ffffff\">False</span><span style=\"color: #783114; text-decoration-color: #783114; background-color: #ffffff\">)</span>\n",
       "</pre></div>"
      ],
      "text/plain": [
       "\u001b[38;2;221;0;0mException raised on line 2 of code block \u001b[0m\u001b[38;2;120;49;20;48;2;255;255;255m[\u001b[0m\u001b[38;2;16;16;16;48;2;255;255;255m152\u001b[0m\u001b[38;2;120;49;20;48;2;255;255;255m]\u001b[0m\u001b[38;2;221;0;0m.\u001b[0m                                                     \n",
       "\n",
       "\u001b[38;2;128;128;128;48;2;255;255;255m       1|\u001b[0m\u001b[38;2;0;17;170;48;2;255;255;255m \u001b[0m\u001b[38;2;0;17;170;48;2;255;255;255msubmission\u001b[0m\u001b[38;2;120;49;20;48;2;255;255;255m =\u001b[0m\u001b[38;2;0;17;170;48;2;255;255;255m pd\u001b[0m\u001b[38;2;120;49;20;48;2;255;255;255m.\u001b[0m\u001b[38;2;0;17;170;48;2;255;255;255mDataFrame\u001b[0m\u001b[38;2;120;49;20;48;2;255;255;255m(\u001b[0m\u001b[38;2;120;49;20;48;2;255;255;255m{\u001b[0m\n",
       "\u001b[38;2;120;49;20;48;2;255;255;255m     > \u001b[0m\u001b[38;2;16;16;16;48;2;255;255;255m2|\u001b[0m\u001b[38;2;0;17;170;48;2;255;255;255m         \u001b[0m\u001b[38;2;139;0;139;48;2;255;255;255m\"datetime\"\u001b[0m\u001b[38;2;120;49;20;48;2;255;255;255m:\u001b[0m\u001b[38;2;0;17;170;48;2;255;255;255m datetimecol\u001b[0m\u001b[38;2;120;49;20;48;2;255;255;255m,\u001b[0m\n",
       "\u001b[38;2;128;128;128;48;2;255;255;255m       3|\u001b[0m\u001b[38;2;0;17;170;48;2;255;255;255m         \u001b[0m\u001b[38;2;139;0;139;48;2;255;255;255m\"count\"\u001b[0m\u001b[38;2;120;49;20;48;2;255;255;255m:\u001b[0m\u001b[38;2;120;49;20;48;2;255;255;255m [\u001b[0m\u001b[38;2;0;85;0;48;2;255;255;255mmax\u001b[0m\u001b[38;2;120;49;20;48;2;255;255;255m(\u001b[0m\u001b[38;2;16;16;16;48;2;255;255;255m0\u001b[0m\u001b[38;2;120;49;20;48;2;255;255;255m,\u001b[0m\u001b[38;2;0;17;170;48;2;255;255;255m x\u001b[0m\u001b[38;2;120;49;20;48;2;255;255;255m)\u001b[0m\u001b[38;2;0;85;0;48;2;255;255;255m for\u001b[0m\u001b[38;2;0;17;170;48;2;255;255;255m x\u001b[0m\u001b[38;2;0;85;0;48;2;255;255;255m in\u001b[0m\u001b[38;2;0;17;170;48;2;255;255;255m np\u001b[0m\u001b[38;2;120;49;20;48;2;255;255;255m.\u001b[0m\u001b[38;2;0;17;170;48;2;255;255;255mexp\u001b[0m\u001b[38;2;120;49;20;48;2;255;255;255m(\u001b[0m\u001b[38;2;0;17;170;48;2;255;255;255mpredsTest\u001b[0m\u001b[38;2;120;49;20;48;2;255;255;255m)\u001b[0m\u001b[38;2;120;49;20;48;2;255;255;255m]\u001b[0m\n",
       "\u001b[38;2;128;128;128;48;2;255;255;255m       4|\u001b[0m\u001b[38;2;0;17;170;48;2;255;255;255m     \u001b[0m\u001b[38;2;120;49;20;48;2;255;255;255m}\u001b[0m\u001b[38;2;120;49;20;48;2;255;255;255m)\u001b[0m\n",
       "\u001b[38;2;128;128;128;48;2;255;255;255m       5|\u001b[0m\u001b[38;2;0;17;170;48;2;255;255;255m \u001b[0m\u001b[38;2;0;17;170;48;2;255;255;255msubmission\u001b[0m\u001b[38;2;120;49;20;48;2;255;255;255m.\u001b[0m\u001b[38;2;0;17;170;48;2;255;255;255mto_csv\u001b[0m\u001b[38;2;120;49;20;48;2;255;255;255m(\u001b[0m\u001b[38;2;139;0;139;48;2;255;255;255m'bike_predictions_gbm_separate_without_fe.csv'\u001b[0m\u001b[38;2;120;49;20;48;2;255;255;255m,\u001b[0m\u001b[38;2;0;17;170;48;2;255;255;255m index\u001b[0m\u001b[38;2;120;49;20;48;2;255;255;255m=\u001b[0m\u001b[38;2;38;98;144;48;2;255;255;255mFalse\u001b[0m\u001b[38;2;120;49;20;48;2;255;255;255m)\u001b[0m\n"
      ]
     },
     "metadata": {},
     "output_type": "display_data"
    }
   ],
   "source": [
    "submission = pd.DataFrame({\n",
    "        \"datetime\": datetimecol,\n",
    "        \"count\": [max(0, x) for x in np.exp(predsTest)]\n",
    "    })\n",
    "submission.to_csv('bike_predictions_gbm_separate_without_fe.csv', index=False)"
   ]
  },
  {
   "cell_type": "code",
   "execution_count": null,
   "id": "ed1f81ca",
   "metadata": {},
   "outputs": [],
   "source": []
  }
 ],
 "metadata": {
  "kernelspec": {
   "display_name": "Python 3 (ipykernel)",
   "language": "python",
   "name": "python3"
  },
  "language_info": {
   "codemirror_mode": {
    "name": "ipython",
    "version": 3
   },
   "file_extension": ".py",
   "mimetype": "text/x-python",
   "name": "python",
   "nbconvert_exporter": "python",
   "pygments_lexer": "ipython3",
   "version": "3.9.12"
  }
 },
 "nbformat": 4,
 "nbformat_minor": 5
}
