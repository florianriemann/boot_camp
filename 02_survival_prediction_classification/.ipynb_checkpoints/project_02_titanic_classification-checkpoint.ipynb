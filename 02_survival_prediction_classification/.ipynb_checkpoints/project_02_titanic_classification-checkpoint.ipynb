{
 "cells": [
  {
   "cell_type": "markdown",
   "metadata": {
    "heading_collapsed": true
   },
   "source": [
    "### notebook general information "
   ]
  },
  {
   "cell_type": "code",
   "execution_count": 172,
   "metadata": {
    "hidden": true
   },
   "outputs": [
    {
     "data": {
      "text/plain": [
       "'\\n__author__ = \"One solo developer\"\\n__authors__ = [\"One developer\", \"And another one\", \"etc\"]\\n__contact__ = \"mail@example.com\"\\n__copyright__ = \"Copyright $YEAR, $COMPANY_NAME\"\\n__credits__ = [\"One developer\", \"And another one\", \"etc\"]\\n__date__ = \"YYYY/MM/DD\"\\n__deprecated__ = False\\n__email__ =  \"mail@example.com\"\\n__license__ = \"GPLv3\"\\n__maintainer__ = \"developer\"\\n__status__ = \"Production\"\\n__version__ = \"0.0.1\"\\n\\n\\n\\n\\nimport zen\\n\\nPEP8\\npylint\\n\\nruntime\\nmemory\\nauthor\\ncreated on: Fri Mar 04 2022 \\nerror exception handling\\n\\nscaler.set_output(transform=\"Pandas\")\\n'"
      ]
     },
     "execution_count": 172,
     "metadata": {},
     "output_type": "execute_result"
    }
   ],
   "source": [
    "\"\"\" Short description of this Python module.\n",
    "Longer description of this module.\n",
    "This program is free software: you can redistribute it and/or modify it under\n",
    "the terms of the GNU General Public License as published by the Free Software\n",
    "Foundation, either version 3 of the License, or (at your option) any later\n",
    "version.\n",
    "This program is distributed in the hope that it will be useful, but WITHOUT\n",
    "ANY WARRANTY; without even the implied warranty of MERCHANTABILITY or FITNESS\n",
    "FOR A PARTICULAR PURPOSE. See the GNU General Public License for more details.\n",
    "You should have received a copy of the GNU General Public License along with\n",
    "this program. If not, see <http://www.gnu.org/licenses/>.\n",
    "\"\"\"\n",
    "\n",
    "\"\"\"\n",
    "__author__ = \"One solo developer\"\n",
    "__authors__ = [\"One developer\", \"And another one\", \"etc\"]\n",
    "__contact__ = \"mail@example.com\"\n",
    "__copyright__ = \"Copyright $YEAR, $COMPANY_NAME\"\n",
    "__credits__ = [\"One developer\", \"And another one\", \"etc\"]\n",
    "__date__ = \"YYYY/MM/DD\"\n",
    "__deprecated__ = False\n",
    "__email__ =  \"mail@example.com\"\n",
    "__license__ = \"GPLv3\"\n",
    "__maintainer__ = \"developer\"\n",
    "__status__ = \"Production\"\n",
    "__version__ = \"0.0.1\"\n",
    "\n",
    "\n",
    "\n",
    "\n",
    "import zen\n",
    "\n",
    "PEP8\n",
    "pylint\n",
    "\n",
    "runtime\n",
    "memory\n",
    "author\n",
    "created on: Fri Mar 04 2022 \n",
    "error exception handling\n",
    "\n",
    "scaler.set_output(transform=\"Pandas\")\n",
    "\"\"\""
   ]
  },
  {
   "cell_type": "markdown",
   "metadata": {
    "hidden": true
   },
   "source": [
    "{\n",
    "\"name\": \"\",\n",
    "\"celltoolbar\": \"Slideshow\",\n",
    "\"signature\": \"sha256:b01826fe48973cffb8307654e0cb5e48b963c0e44cb0013e9d5c5a5ebc13c321\",\n",
    "\n",
    "\"document\": {\n",
    "    \"title\": \"Title of document/presentation\",\n",
    "    \"subtitle\": \"Subtitle of document/presentation\",\n",
    "    \"authors\": {\n",
    "        \"author1\": {\n",
    "            \"name\": \"LastName, FirstName\",\n",
    "            \"affiliation\": \"org1\",\n",
    "            \"email\" : \"author1@domain.org\",\n",
    "            },\n",
    "        \"author2\": {\n",
    "            \"name\": \"LastName, FirstName\",\n",
    "            \"affiliation\": \"org2\",\n",
    "            \"email\" : \"author2@domain.de\",\n",
    "            },\n",
    "        },\n",
    "    \"affiliations\": {\n",
    "        \"org1\" : {\n",
    "            \"institute\" : \"University of...\",\n",
    "            \"department\": \"Department of...\",\n",
    "            \"section\"   : \"Laboratory of...\",\n",
    "            \"street\"    : \"Street A\",\n",
    "            \"city\"      : \"City A\",\n",
    "            \"country\"   : \"Country A\",\n",
    "            \"postcode\"  : \"Postcode A\",\n",
    "            },\n",
    "        \"org2\" : {\n",
    "            \"institute\" : \"... GmbH\",\n",
    "            \"department\": \"Department of...\",\n",
    "            \"section\"   : \"Section...\",\n",
    "            \"street\"    : \"Street A\",\n",
    "            \"city\"      : \"City A\",\n",
    "            \"country\"   : \"Country A\",\n",
    "            \"postcode\"  : \"Postcode A\",\n",
    "            },\n",
    "        },\n",
    "    },\n",
    "}"
   ]
  },
  {
   "cell_type": "markdown",
   "metadata": {
    "hidden": true
   },
   "source": [
    "***3. Explore the Data: Discover and visualize the data to gain insights.***\n",
    "\n",
    "  - *Create a copy of the data exploration (sampling it down to a manageble size if necessary).*\n",
    "\n",
    "  - *Create a notebook to keep a record of your data exploration.*\n",
    "\n",
    "  - *Study each attribute and its characteristics:*\n",
    "\n",
    "    - *Name*\n",
    "    - *Type (categorical, int/float, bounded/unbounded, text, structured, etc.)*\n",
    "    - *% of missing values*\n",
    "    - *Noisiness and type of noise (stoxastoc, outliers, rounding errors, etc.)*\n",
    "    - *Possibly useful for the task?*\n",
    "    - *Type of distribution (Gaussian, uniform, logarithmic, etc.)*\n",
    "  - *For supervised learning tasks, identify target attribute(s).*\n",
    "\n",
    "  - *Visualize the data.*\n",
    "\n",
    "  - *Study the correlation between attributes.*\n",
    "\n",
    "  - *Study how you would solve the problem manually.*\n",
    "\n",
    "  - *Identify the promising transformations you may want to apply.*\n",
    "\n",
    "  - *Identify extra data that would be useful.*\n",
    "\n",
    "  - *Document what you have learned.* \n",
    "\n",
    "\n",
    "  - ***Data cleaning:***\n",
    "    - *Fix or remove outliers (otional).*\n",
    "    - *Fill in missing values (e.g. with zero, mean, median ...) or drop their rows (or columns).*\n",
    "  \n",
    "\n",
    "\n",
    "  - ***Feature Selection (optional):***\n",
    "\n",
    "    - *Drop the attributes that provide no useful information for the task.*\n",
    "\n",
    "\n",
    "\n",
    "  - ***Feature engineering, where appropriate:***\n",
    "\n",
    "    - *Discretize continious features.*\n",
    "\n",
    "    - *Decompose features (e.g. categorical, date/time, etc.).*\n",
    "\n",
    "    - *Add promising transformations of features (e.g. log(x), sqrt(x), x^2, etc.).*\n",
    "\n",
    "    - *Aggregate features into promising new features.*\n",
    "  \n",
    "\n",
    "\n",
    "  - ***Feature Scaling: Standadize or nomalize features.***\n",
    "\n",
    "What to do next?\n",
    "\n",
    "    - Survived:   balance that class with SMOTE                               - SMOTE\n",
    "    \n",
    "    - Pclass:     encoding                                                    - pclass_fe()\n",
    "    \n",
    "    - Name:       extract title and () = 1 else 0                             - name_fe\n",
    "    \n",
    "    - Sex:        encoding                                                    - sex_fe() \n",
    "    \n",
    "    - Age:        impute missing data and scaling                             - age_fe()    | run this first & run StandardScaler in the end\n",
    "    \n",
    "    - SibSp:      encoding                                                    - sibsp_fe()\n",
    "    \n",
    "    - Parch:      encoding                                                    - parch_fe()\n",
    "    \n",
    "    - Ticket:     drop feature                                                - ticket_fe()\n",
    "    \n",
    "    - Fare:       scaling                                                     - no function | run StandardScaler in the end\n",
    "    \n",
    "    - Cabin:      extract letters, impute missing data and encoding           - cabin_fe()\n",
    "    \n",
    "    - Embarked:   impute missing data and encoding                            - embarked_fe()\n",
    "\n",
    "\n",
    "encoding\n",
    "imputing (e.g. from sklearn.impute import SimpleImputer)\n",
    "scaling\n",
    "feature importance (Coefficients as Feature Importance)\n",
    "cross validation\n",
    "metrics\n",
    "smote\n",
    "drop features?\n",
    "duplicates?\n",
    "correlation? (spurious correlation?)\n",
    "baseline\n",
    "underfitting/overfitting\n",
    "PolynomialFeatures\n",
    "Interpolation\n",
    "ColumnTransformer?\n",
    "FunctionTransformer?\n",
    "KBinsDiscretizer?\n",
    "Pipeline?\n",
    "use many classifiers (especially xgboost)\n",
    "# get titles with split (use function)\n",
    "\n",
    "# we could add SibSp and Parch to get the family size\n",
    "\n",
    "# group ticket feature and look if some people are on one ticket\n",
    "\n",
    "# can we devide Fare through family size to get the real prize per person?\n",
    "\n",
    "# checkout Voting Classifier!!!\n",
    "\n",
    "# checkout ExtraTreesClassifier!!!\n",
    "\n",
    "# after split the title, check a count group by to see how often these appear\n",
    "\n",
    "# use binizer for fare\n",
    "\n",
    "# standardize \n",
    "###"
   ]
  },
  {
   "cell_type": "code",
   "execution_count": 173,
   "metadata": {
    "hidden": true
   },
   "outputs": [
    {
     "data": {
      "text/plain": [
       "''"
      ]
     },
     "execution_count": 173,
     "metadata": {},
     "output_type": "execute_result"
    }
   ],
   "source": [
    "'''\n",
    "Step 0 - import libraries\n",
    "Step 1 - read data\n",
    "Step 2 - train test split\n",
    "Step 3 - exploratory data analysis\n",
    "Step 4 - data cleaning\n",
    "Step 5 - feature engineering\n",
    "Step 6 - baseline model\n",
    "Step 7 - evaluate the feature importance\n",
    "Step 8 - feature selection\n",
    "Step 9 - create model pipeline\n",
    "Step 8 - create transformers \n",
    "Step 10 - create hyperparameter grid / tuning\n",
    "Step 11 -  cross validation\n",
    "Step 12 - model evaluating\n",
    "Step 13 - model selection\n",
    "Step 14 - retraining with whole data set\n",
    "Step 15 - pickle\n",
    "Step 16 - sampling in case of imbalanced data\n",
    "Step 17 - encoding of categorial features\n",
    "Step 18 - drop duplicates\n",
    "Step 19 - imputing of missing data (consider dropping)\n",
    "Step 20 - interpolation of continious features\n",
    "Step 21 - discretizing of continious features\n",
    "Step 22 - drop features\n",
    "Step 23 - make copy()\n",
    "Step 24 - show dataframe after pipeline transformation\n",
    "Step 25 - regularization\n",
    "Step 26 - feature importance\n",
    "Step 27 - underfitting/overfitting\n",
    "Step 28 - scaling\n",
    "Step 29 - missing values handling\n",
    "\n",
    "\n",
    "... also use the workflow by Aurélien Géron's \"Hands-On Machine Learning with Scikit-Learn & TensorFlow\"\n",
    "\n",
    "'''\n",
    ";"
   ]
  },
  {
   "cell_type": "markdown",
   "metadata": {},
   "source": [
    "### Step 0 - import libraries"
   ]
  },
  {
   "cell_type": "code",
   "execution_count": 174,
   "metadata": {},
   "outputs": [
    {
     "name": "stdout",
     "output_type": "stream",
     "text": [
      "The memory_profiler extension is already loaded. To reload it, use:\n",
      "  %reload_ext memory_profiler\n"
     ]
    }
   ],
   "source": [
    "# data wrangling & visualization\n",
    "import numpy               as np\n",
    "import pandas              as pd\n",
    "import matplotlib.pyplot   as plt\n",
    "import seaborn             as sns\n",
    "%matplotlib inline\n",
    "\n",
    "# models\n",
    "import xgboost             as xgb\n",
    "\n",
    "from sklearn.ensemble        import RandomForestRegressor\n",
    "from sklearn.linear_model    import LinearRegression\n",
    "from sklearn.linear_model    import Ridge\n",
    "from sklearn.linear_model    import Lasso\n",
    "from sklearn.ensemble        import GradientBoostingRegressor\n",
    "from lightgbm                import LGBMRegressor\n",
    "from catboost                import CatBoostRegressor\n",
    "from sklearn.linear_model    import SGDRegressor\n",
    "from sklearn.kernel_ridge    import KernelRidge\n",
    "from sklearn.linear_model    import ElasticNet\n",
    "from sklearn.base            import BaseEstimator\n",
    "\n",
    "# preprocessing & feature engineering\n",
    "from sklearn.model_selection import train_test_split\n",
    "from sklearn.compose         import ColumnTransformer\n",
    "from sklearn.preprocessing   import FunctionTransformer\n",
    "from sklearn.pipeline        import Pipeline\n",
    "from sklearn.preprocessing   import OneHotEncoder\n",
    "from sklearn.impute          import SimpleImputer\n",
    "from sklearn.preprocessing   import StandardScaler\n",
    "from scipy                   import stats\n",
    "from sklearn.preprocessing   import KBinsDiscretizer\n",
    "\n",
    "# validation\n",
    "from sklearn.model_selection import cross_val_score\n",
    "from sklearn.model_selection import GridSearchCV\n",
    "from sklearn.metrics         import confusion_matrix, classification_report, accuracy_score\n",
    "\n",
    "# warning & errors\n",
    "import warnings\n",
    "warnings.filterwarnings(\"ignore\", category=FutureWarning)\n",
    "\n",
    "#\n",
    "\n",
    "# else???\n",
    "from matplotlib.ticker       import StrMethodFormatter\n",
    "from sklearn.ensemble        import RandomForestClassifier\n",
    "from sklearn.metrics         import accuracy_score\n",
    "from sklearn                 import metrics\n",
    "from sklearn.metrics         import matthews_corrcoef\n",
    "from sklearn.metrics         import precision_recall_curve\n",
    "from sklearn.metrics         import plot_precision_recall_curve\n",
    "from sklearn.metrics         import average_precision_score\n",
    "import time\n",
    "from subprocess              import check_output\n",
    "from sklearn.ensemble        import GradientBoostingClassifier\n",
    "from numpy                   import mean\n",
    "from sklearn.datasets        import make_classification\n",
    "from sklearn.model_selection import cross_val_score\n",
    "from sklearn.model_selection import RepeatedStratifiedKFold\n",
    "from sklearn.tree            import DecisionTreeClassifier\n",
    "\n",
    "from sklearn.model_selection import cross_val_predict\n",
    "from sklearn.metrics         import roc_auc_score\n",
    "\n",
    "from sklearn.linear_model    import LogisticRegression\n",
    "from sklearn.neighbors       import KNeighborsClassifier\n",
    "from sklearn                 import svm\n",
    "from sklearn.preprocessing   import StandardScaler\n",
    "\n",
    "\n",
    "\n",
    "from sklearn.linear_model    import LogisticRegression\n",
    "from sklearn.model_selection import train_test_split, GridSearchCV, StratifiedKFold\n",
    "from sklearn.preprocessing   import MinMaxScaler\n",
    "\n",
    "# conda install -c conda-forge imbalanced-learn \n",
    "from imblearn.over_sampling  import SMOTE\n",
    "from imblearn.pipeline       import Pipeline as imbpipeline\n",
    "from sklearn.pipeline        import Pipeline\n",
    "\n",
    "%load_ext memory_profiler"
   ]
  },
  {
   "cell_type": "markdown",
   "metadata": {},
   "source": [
    "### Step 1 - read data"
   ]
  },
  {
   "cell_type": "markdown",
   "metadata": {},
   "source": [
    "  - List the data you need and how much you need.\n",
    "\n",
    "  - Find and document where you can get the data.\n",
    "\n",
    "  - Check how much space it will take.\n",
    "\n",
    "  - Check legal obligations, and get authorizations if necessary.\n",
    "\n",
    "  - Get access authorizations.\n",
    "\n",
    "  - Create a workspace (with enough storage space).\n",
    "\n",
    "  - Get the data.\n",
    "\n",
    "  - Convert the data to a format you can easily manipulate (without changing the data itself).\n",
    "\n",
    "  - Ensure sensitive information is deleted or protected (e.g. anonymized).\n",
    "\n",
    "  - Check the size and type of data (time series, sample, geographical, etc.).\n",
    "\n",
    "  - Sample a test set, put it aside, and never look at it (no data snooping!)."
   ]
  },
  {
   "cell_type": "code",
   "execution_count": 175,
   "metadata": {},
   "outputs": [
    {
     "name": "stdout",
     "output_type": "stream",
     "text": [
      "peak memory: 327.32 MiB, increment: 0.00 MiB\n",
      "CPU times: user 126 ms, sys: 40.8 ms, total: 167 ms\n",
      "Wall time: 310 ms\n"
     ]
    },
    {
     "data": {
      "text/html": [
       "<div>\n",
       "<style scoped>\n",
       "    .dataframe tbody tr th:only-of-type {\n",
       "        vertical-align: middle;\n",
       "    }\n",
       "\n",
       "    .dataframe tbody tr th {\n",
       "        vertical-align: top;\n",
       "    }\n",
       "\n",
       "    .dataframe thead th {\n",
       "        text-align: right;\n",
       "    }\n",
       "</style>\n",
       "<table border=\"1\" class=\"dataframe\">\n",
       "  <thead>\n",
       "    <tr style=\"text-align: right;\">\n",
       "      <th></th>\n",
       "      <th>Survived</th>\n",
       "      <th>Pclass</th>\n",
       "      <th>Name</th>\n",
       "      <th>Sex</th>\n",
       "      <th>Age</th>\n",
       "      <th>SibSp</th>\n",
       "      <th>Parch</th>\n",
       "      <th>Ticket</th>\n",
       "      <th>Fare</th>\n",
       "      <th>Cabin</th>\n",
       "      <th>Embarked</th>\n",
       "    </tr>\n",
       "    <tr>\n",
       "      <th>PassengerId</th>\n",
       "      <th></th>\n",
       "      <th></th>\n",
       "      <th></th>\n",
       "      <th></th>\n",
       "      <th></th>\n",
       "      <th></th>\n",
       "      <th></th>\n",
       "      <th></th>\n",
       "      <th></th>\n",
       "      <th></th>\n",
       "      <th></th>\n",
       "    </tr>\n",
       "  </thead>\n",
       "  <tbody>\n",
       "    <tr>\n",
       "      <th>1</th>\n",
       "      <td>0</td>\n",
       "      <td>3</td>\n",
       "      <td>Braund, Mr. Owen Harris</td>\n",
       "      <td>male</td>\n",
       "      <td>22.0</td>\n",
       "      <td>1</td>\n",
       "      <td>0</td>\n",
       "      <td>A/5 21171</td>\n",
       "      <td>7.2500</td>\n",
       "      <td>NaN</td>\n",
       "      <td>S</td>\n",
       "    </tr>\n",
       "    <tr>\n",
       "      <th>2</th>\n",
       "      <td>1</td>\n",
       "      <td>1</td>\n",
       "      <td>Cumings, Mrs. John Bradley (Florence Briggs Th...</td>\n",
       "      <td>female</td>\n",
       "      <td>38.0</td>\n",
       "      <td>1</td>\n",
       "      <td>0</td>\n",
       "      <td>PC 17599</td>\n",
       "      <td>71.2833</td>\n",
       "      <td>C85</td>\n",
       "      <td>C</td>\n",
       "    </tr>\n",
       "  </tbody>\n",
       "</table>\n",
       "</div>"
      ],
      "text/plain": [
       "             Survived  Pclass  \\\n",
       "PassengerId                     \n",
       "1                   0       3   \n",
       "2                   1       1   \n",
       "\n",
       "                                                          Name     Sex   Age  \\\n",
       "PassengerId                                                                    \n",
       "1                                      Braund, Mr. Owen Harris    male  22.0   \n",
       "2            Cumings, Mrs. John Bradley (Florence Briggs Th...  female  38.0   \n",
       "\n",
       "             SibSp  Parch     Ticket     Fare Cabin Embarked  \n",
       "PassengerId                                                   \n",
       "1                1      0  A/5 21171   7.2500   NaN        S  \n",
       "2                1      0   PC 17599  71.2833   C85        C  "
      ]
     },
     "execution_count": 175,
     "metadata": {},
     "output_type": "execute_result"
    }
   ],
   "source": [
    "%time %memit\n",
    "PATH = '/home/florianriemann/data_science_portfolio/data/titanic/'\n",
    "\n",
    "df_titanic, df_titanic.name = pd.read_csv(PATH + 'train.csv'), 'df_titanic'\n",
    "df_titanic.set_index(['PassengerId'], inplace=True)\n",
    "df_titanic.head(2)"
   ]
  },
  {
   "cell_type": "markdown",
   "metadata": {},
   "source": [
    "### Step 2 - train-test-split"
   ]
  },
  {
   "cell_type": "markdown",
   "metadata": {},
   "source": [
    "<hr style=\"border:2px solid black\">\n",
    "\n",
    "*Don't get biased by any stretch of the imagination. Do the train-test-split as early as possible!*\n",
    "\n",
    "<hr style=\"border:2px solid black\">"
   ]
  },
  {
   "cell_type": "code",
   "execution_count": 176,
   "metadata": {},
   "outputs": [
    {
     "name": "stdout",
     "output_type": "stream",
     "text": [
      "peak memory: 327.35 MiB, increment: 0.03 MiB\n",
      "CPU times: user 121 ms, sys: 51.6 ms, total: 173 ms\n",
      "Wall time: 318 ms\n"
     ]
    }
   ],
   "source": [
    "%time %memit\n",
    "X = df_titanic.loc[:, ~df_titanic.columns.isin(['Survived'])]\n",
    "y = df_titanic.loc[:,  df_titanic.columns.isin(['Survived'])]"
   ]
  },
  {
   "cell_type": "code",
   "execution_count": 177,
   "metadata": {},
   "outputs": [
    {
     "name": "stdout",
     "output_type": "stream",
     "text": [
      "peak memory: 327.37 MiB, increment: 0.00 MiB\n",
      "CPU times: user 111 ms, sys: 60.8 ms, total: 172 ms\n",
      "Wall time: 318 ms\n"
     ]
    }
   ],
   "source": [
    "%time %memit\n",
    "X_train, X_test, y_train, y_test = train_test_split(X, y, test_size = 0.2, random_state = 12)"
   ]
  },
  {
   "cell_type": "markdown",
   "metadata": {},
   "source": [
    "### Step 3 - exploratory data analysis"
   ]
  },
  {
   "cell_type": "markdown",
   "metadata": {},
   "source": [
    "#### Step 3.0 - workflow"
   ]
  },
  {
   "cell_type": "markdown",
   "metadata": {},
   "source": [
    "  - Create a copy of the data exploration (sampling it down to a manageble size if necessary).\n",
    "\n",
    "  - Create a notebook to keep a record of your data exploration.\n",
    "\n",
    "  - Study each attribute and its characteristics:\n",
    "\n",
    "    - Name\n",
    "    - Type (categorical, int/float, bounded/unbounded, text, structured, etc.)\n",
    "    - % of missing values\n",
    "    - Noisiness and type of noise (stoxastoc, outliers, rounding errors, etc.)\n",
    "    - Possibly useful for the task?\n",
    "    - Type of distribution (Gaussian, uniform, logarithmic, etc.)\n",
    "  - For supervised learning tasks, identify target attribute(s).\n",
    "\n",
    "  - Visualize the data.\n",
    "\n",
    "  - Study the correlation between attributes.\n",
    "\n",
    "  - Study how you would solve the problem manually.\n",
    "\n",
    "  - Identify the promising transformations you may want to apply.\n",
    "\n",
    "  - Identify extra data that would be useful.\n",
    "\n",
    "  - Document what you have learned."
   ]
  },
  {
   "cell_type": "markdown",
   "metadata": {},
   "source": [
    "#### Step 3.1 - general overview"
   ]
  },
  {
   "cell_type": "markdown",
   "metadata": {},
   "source": [
    "##### **Categorical:**\n",
    "\n",
    "- `Nominal`\n",
    "\n",
    ">- <u>Cabin</u> - Cabin number   \n",
    ">- <u>Embarked</u> - Port of Embarkation ( C = Cherbourg | Q = Queenstown | S = Southampton )\n",
    "\n",
    "- `Dichotomous`\n",
    "\n",
    ">- <u>Sex</u> - ( Female | Male )\n",
    "\n",
    "- `Ordinal`\n",
    "    \n",
    ">- <u>Pclass</u> - Ticket class ( 1 = 1st | 2 = 2nd | 3 = 3rd )\n",
    "    * A proxy for socio-economic status (SES)\n",
    "        - 1st = Upper\n",
    "        - 2nd = Middle\n",
    "        - 3rd = Lower\n",
    "\n",
    "##### **Numeric:**\n",
    "\n",
    "- `Discrete`\n",
    "\n",
    ">- <u>Passenger ID</u>\n",
    ">- <u>SibSp</u> - # of siblings / spouses aboard the Titanic\t\n",
    "    * sibsp: The dataset defines family relations in this way...\n",
    "        - Sibling = brother, sister, stepbrother, stepsister\n",
    "        - Spouse  = husband, wife (mistresses and fiancés were ignored)\n",
    ">- <u>Parch</u> - # of parents / children aboard the Titanic\n",
    "    * parch: The dataset defines family relations in this way...\n",
    "        - Parent = mother, father\n",
    "        - Child  = daughter, son, stepdaughter, stepson\n",
    "        - Some children travelled only with a nanny, therefore parch = 0 for them.\n",
    ">- <u>Survived</u> - ( 0 = Not Survived | 1 = Surived ) \n",
    "\n",
    "- `Continous`\n",
    "\n",
    ">- <u>Age</u> - Age in years\n",
    "    * Age is fractional if less than 1. If the age is estimated, is it in the form of xx.5\n",
    "\n",
    ">- <u>Fare</u> - Passenger fare\n",
    "\n",
    "##### **Text:**\n",
    "\n",
    "- <u>Ticket</u> - Ticket number\n",
    "- <u>Name</u> - Name of passenger"
   ]
  },
  {
   "cell_type": "code",
   "execution_count": 178,
   "metadata": {},
   "outputs": [
    {
     "name": "stdout",
     "output_type": "stream",
     "text": [
      "peak memory: 327.37 MiB, increment: 0.00 MiB\n",
      "CPU times: user 120 ms, sys: 49 ms, total: 169 ms\n",
      "Wall time: 313 ms\n"
     ]
    },
    {
     "data": {
      "text/html": [
       "<div>\n",
       "<style scoped>\n",
       "    .dataframe tbody tr th:only-of-type {\n",
       "        vertical-align: middle;\n",
       "    }\n",
       "\n",
       "    .dataframe tbody tr th {\n",
       "        vertical-align: top;\n",
       "    }\n",
       "\n",
       "    .dataframe thead th {\n",
       "        text-align: right;\n",
       "    }\n",
       "</style>\n",
       "<table border=\"1\" class=\"dataframe\">\n",
       "  <thead>\n",
       "    <tr style=\"text-align: right;\">\n",
       "      <th></th>\n",
       "      <th>Pclass</th>\n",
       "      <th>Name</th>\n",
       "      <th>Sex</th>\n",
       "      <th>Age</th>\n",
       "      <th>SibSp</th>\n",
       "      <th>Parch</th>\n",
       "      <th>Ticket</th>\n",
       "      <th>Fare</th>\n",
       "      <th>Cabin</th>\n",
       "      <th>Embarked</th>\n",
       "      <th>Survived</th>\n",
       "    </tr>\n",
       "    <tr>\n",
       "      <th>PassengerId</th>\n",
       "      <th></th>\n",
       "      <th></th>\n",
       "      <th></th>\n",
       "      <th></th>\n",
       "      <th></th>\n",
       "      <th></th>\n",
       "      <th></th>\n",
       "      <th></th>\n",
       "      <th></th>\n",
       "      <th></th>\n",
       "      <th></th>\n",
       "    </tr>\n",
       "  </thead>\n",
       "  <tbody>\n",
       "    <tr>\n",
       "      <th>9</th>\n",
       "      <td>3</td>\n",
       "      <td>Johnson, Mrs. Oscar W (Elisabeth Vilhelmina Berg)</td>\n",
       "      <td>female</td>\n",
       "      <td>27.0</td>\n",
       "      <td>0</td>\n",
       "      <td>2</td>\n",
       "      <td>347742</td>\n",
       "      <td>11.1333</td>\n",
       "      <td>NaN</td>\n",
       "      <td>S</td>\n",
       "      <td>1</td>\n",
       "    </tr>\n",
       "    <tr>\n",
       "      <th>151</th>\n",
       "      <td>2</td>\n",
       "      <td>Bateman, Rev. Robert James</td>\n",
       "      <td>male</td>\n",
       "      <td>51.0</td>\n",
       "      <td>0</td>\n",
       "      <td>0</td>\n",
       "      <td>S.O.P. 1166</td>\n",
       "      <td>12.5250</td>\n",
       "      <td>NaN</td>\n",
       "      <td>S</td>\n",
       "      <td>0</td>\n",
       "    </tr>\n",
       "    <tr>\n",
       "      <th>222</th>\n",
       "      <td>2</td>\n",
       "      <td>Bracken, Mr. James H</td>\n",
       "      <td>male</td>\n",
       "      <td>27.0</td>\n",
       "      <td>0</td>\n",
       "      <td>0</td>\n",
       "      <td>220367</td>\n",
       "      <td>13.0000</td>\n",
       "      <td>NaN</td>\n",
       "      <td>S</td>\n",
       "      <td>0</td>\n",
       "    </tr>\n",
       "    <tr>\n",
       "      <th>366</th>\n",
       "      <td>3</td>\n",
       "      <td>Adahl, Mr. Mauritz Nils Martin</td>\n",
       "      <td>male</td>\n",
       "      <td>30.0</td>\n",
       "      <td>0</td>\n",
       "      <td>0</td>\n",
       "      <td>C 7076</td>\n",
       "      <td>7.2500</td>\n",
       "      <td>NaN</td>\n",
       "      <td>S</td>\n",
       "      <td>0</td>\n",
       "    </tr>\n",
       "    <tr>\n",
       "      <th>325</th>\n",
       "      <td>3</td>\n",
       "      <td>Sage, Mr. George John Jr</td>\n",
       "      <td>male</td>\n",
       "      <td>NaN</td>\n",
       "      <td>8</td>\n",
       "      <td>2</td>\n",
       "      <td>CA. 2343</td>\n",
       "      <td>69.5500</td>\n",
       "      <td>NaN</td>\n",
       "      <td>S</td>\n",
       "      <td>0</td>\n",
       "    </tr>\n",
       "  </tbody>\n",
       "</table>\n",
       "</div>"
      ],
      "text/plain": [
       "             Pclass                                               Name  \\\n",
       "PassengerId                                                              \n",
       "9                 3  Johnson, Mrs. Oscar W (Elisabeth Vilhelmina Berg)   \n",
       "151               2                         Bateman, Rev. Robert James   \n",
       "222               2                               Bracken, Mr. James H   \n",
       "366               3                     Adahl, Mr. Mauritz Nils Martin   \n",
       "325               3                           Sage, Mr. George John Jr   \n",
       "\n",
       "                Sex   Age  SibSp  Parch       Ticket     Fare Cabin Embarked  \\\n",
       "PassengerId                                                                    \n",
       "9            female  27.0      0      2       347742  11.1333   NaN        S   \n",
       "151            male  51.0      0      0  S.O.P. 1166  12.5250   NaN        S   \n",
       "222            male  27.0      0      0       220367  13.0000   NaN        S   \n",
       "366            male  30.0      0      0       C 7076   7.2500   NaN        S   \n",
       "325            male   NaN      8      2     CA. 2343  69.5500   NaN        S   \n",
       "\n",
       "             Survived  \n",
       "PassengerId            \n",
       "9                   1  \n",
       "151                 0  \n",
       "222                 0  \n",
       "366                 0  \n",
       "325                 0  "
      ]
     },
     "execution_count": 178,
     "metadata": {},
     "output_type": "execute_result"
    }
   ],
   "source": [
    "%time %memit\n",
    "# for the EDA we will only use the training data, that includes the input vector as well as the labels\n",
    "df_train = pd.concat([X_train, y_train], axis=1)\n",
    "df_train.head()"
   ]
  },
  {
   "cell_type": "code",
   "execution_count": 179,
   "metadata": {},
   "outputs": [
    {
     "data": {
      "text/plain": [
       "(712, 11)"
      ]
     },
     "execution_count": 179,
     "metadata": {},
     "output_type": "execute_result"
    }
   ],
   "source": [
    "df_train.shape"
   ]
  },
  {
   "cell_type": "code",
   "execution_count": 180,
   "metadata": {},
   "outputs": [
    {
     "name": "stdout",
     "output_type": "stream",
     "text": [
      "<class 'pandas.core.frame.DataFrame'>\n",
      "Int64Index: 712 entries, 9 to 844\n",
      "Data columns (total 11 columns):\n",
      " #   Column    Non-Null Count  Dtype  \n",
      "---  ------    --------------  -----  \n",
      " 0   Pclass    712 non-null    int64  \n",
      " 1   Name      712 non-null    object \n",
      " 2   Sex       712 non-null    object \n",
      " 3   Age       570 non-null    float64\n",
      " 4   SibSp     712 non-null    int64  \n",
      " 5   Parch     712 non-null    int64  \n",
      " 6   Ticket    712 non-null    object \n",
      " 7   Fare      712 non-null    float64\n",
      " 8   Cabin     151 non-null    object \n",
      " 9   Embarked  711 non-null    object \n",
      " 10  Survived  712 non-null    int64  \n",
      "dtypes: float64(2), int64(4), object(5)\n",
      "memory usage: 66.8+ KB\n"
     ]
    }
   ],
   "source": [
    "# we get a first impression of missing data in Age, Cabin and Embarked. \n",
    "df_train.info()"
   ]
  },
  {
   "cell_type": "code",
   "execution_count": 181,
   "metadata": {},
   "outputs": [
    {
     "data": {
      "text/plain": [
       "['Pclass',\n",
       " 'Name',\n",
       " 'Sex',\n",
       " 'Age',\n",
       " 'SibSp',\n",
       " 'Parch',\n",
       " 'Ticket',\n",
       " 'Fare',\n",
       " 'Cabin',\n",
       " 'Embarked',\n",
       " 'Survived']"
      ]
     },
     "execution_count": 181,
     "metadata": {},
     "output_type": "execute_result"
    }
   ],
   "source": [
    "list(df_train.columns)"
   ]
  },
  {
   "cell_type": "code",
   "execution_count": 182,
   "metadata": {},
   "outputs": [],
   "source": [
    "# in further analysis I will mainly distinguish between numerical and categorical features\n",
    "cat_features = []\n",
    "num_features = ['Survived']\n",
    "for col in df_train.columns:\n",
    "    if str(df_train[col].dtype) == 'float64':\n",
    "        num_features.append(col)\n",
    "    else:\n",
    "        cat_features.append(col)"
   ]
  },
  {
   "cell_type": "code",
   "execution_count": 183,
   "metadata": {},
   "outputs": [
    {
     "data": {
      "text/plain": [
       "['Pclass',\n",
       " 'Name',\n",
       " 'Sex',\n",
       " 'SibSp',\n",
       " 'Parch',\n",
       " 'Ticket',\n",
       " 'Cabin',\n",
       " 'Embarked',\n",
       " 'Survived']"
      ]
     },
     "execution_count": 183,
     "metadata": {},
     "output_type": "execute_result"
    }
   ],
   "source": [
    "cat_features"
   ]
  },
  {
   "cell_type": "code",
   "execution_count": 184,
   "metadata": {},
   "outputs": [
    {
     "data": {
      "text/plain": [
       "['Survived', 'Age', 'Fare']"
      ]
     },
     "execution_count": 184,
     "metadata": {},
     "output_type": "execute_result"
    }
   ],
   "source": [
    "num_features"
   ]
  },
  {
   "cell_type": "markdown",
   "metadata": {},
   "source": [
    "#### Step 3.2 - descriptive statistics"
   ]
  },
  {
   "cell_type": "code",
   "execution_count": 185,
   "metadata": {},
   "outputs": [
    {
     "data": {
      "image/png": "[encoded data removed]",
      "text/plain": [
       "<Figure size 411.875x360 with 6 Axes>"
      ]
     },
     "metadata": {
      "needs_background": "light"
     },
     "output_type": "display_data"
    }
   ],
   "source": [
    "# It looks like there is a correlation between age and survival rate \n",
    "# as well as between fare and survival rate, meaning the higher there fare / age \n",
    "# the higher the chances to survive.\n",
    "# The distribution of the age looks gaussian'ish and the distribution of fare is highly skewed.\n",
    "sns.pairplot(  df_train[num_features]\n",
    "             , hue       = \"Survived\"\n",
    "             , palette   = \"gnuplot\"\n",
    "             , diag_kind = \"kde\"\n",
    "             , height    = 2.5\n",
    "            );"
   ]
  },
  {
   "cell_type": "code",
   "execution_count": 186,
   "metadata": {},
   "outputs": [
    {
     "data": {
      "image/png": "[encoded data removed]",
      "text/plain": [
       "<Figure size 591.875x540 with 12 Axes>"
      ]
     },
     "metadata": {
      "needs_background": "light"
     },
     "output_type": "display_data"
    }
   ],
   "source": [
    "# As it is to be expected there might be a correlation between the PClass and the survival rate,\n",
    "# so the chances to survive are the highest for class 1 and lowest for class 3.\n",
    "# Furthermore there is a strong impact on the survival rate based on the number of relatives \n",
    "# someone is travelling with. Those who travelled in the 1st or 2nd class with relatives most likely survived.\n",
    "\n",
    "g = sns.PairGrid(df_train[cat_features], hue = \"Survived\",  palette = \"gnuplot\")\n",
    "g.map_diag(sns.histplot)\n",
    "g.map_offdiag(sns.scatterplot)\n",
    "g.add_legend();"
   ]
  },
  {
   "cell_type": "code",
   "execution_count": 187,
   "metadata": {},
   "outputs": [
    {
     "data": {
      "text/html": [
       "<div>\n",
       "<style scoped>\n",
       "    .dataframe tbody tr th:only-of-type {\n",
       "        vertical-align: middle;\n",
       "    }\n",
       "\n",
       "    .dataframe tbody tr th {\n",
       "        vertical-align: top;\n",
       "    }\n",
       "\n",
       "    .dataframe thead th {\n",
       "        text-align: right;\n",
       "    }\n",
       "</style>\n",
       "<table border=\"1\" class=\"dataframe\">\n",
       "  <thead>\n",
       "    <tr style=\"text-align: right;\">\n",
       "      <th></th>\n",
       "      <th>Pclass</th>\n",
       "      <th>Age</th>\n",
       "      <th>SibSp</th>\n",
       "      <th>Parch</th>\n",
       "      <th>Fare</th>\n",
       "      <th>Survived</th>\n",
       "    </tr>\n",
       "  </thead>\n",
       "  <tbody>\n",
       "    <tr>\n",
       "      <th>count</th>\n",
       "      <td>712.000000</td>\n",
       "      <td>570.000000</td>\n",
       "      <td>712.000000</td>\n",
       "      <td>712.000000</td>\n",
       "      <td>712.000000</td>\n",
       "      <td>712.000000</td>\n",
       "    </tr>\n",
       "    <tr>\n",
       "      <th>mean</th>\n",
       "      <td>2.303371</td>\n",
       "      <td>29.495193</td>\n",
       "      <td>0.491573</td>\n",
       "      <td>0.356742</td>\n",
       "      <td>32.133941</td>\n",
       "      <td>0.369382</td>\n",
       "    </tr>\n",
       "    <tr>\n",
       "      <th>std</th>\n",
       "      <td>0.828867</td>\n",
       "      <td>14.169135</td>\n",
       "      <td>1.093356</td>\n",
       "      <td>0.782534</td>\n",
       "      <td>50.508682</td>\n",
       "      <td>0.482977</td>\n",
       "    </tr>\n",
       "    <tr>\n",
       "      <th>min</th>\n",
       "      <td>1.000000</td>\n",
       "      <td>0.420000</td>\n",
       "      <td>0.000000</td>\n",
       "      <td>0.000000</td>\n",
       "      <td>0.000000</td>\n",
       "      <td>0.000000</td>\n",
       "    </tr>\n",
       "    <tr>\n",
       "      <th>25%</th>\n",
       "      <td>2.000000</td>\n",
       "      <td>20.000000</td>\n",
       "      <td>0.000000</td>\n",
       "      <td>0.000000</td>\n",
       "      <td>7.895800</td>\n",
       "      <td>0.000000</td>\n",
       "    </tr>\n",
       "    <tr>\n",
       "      <th>50%</th>\n",
       "      <td>3.000000</td>\n",
       "      <td>28.000000</td>\n",
       "      <td>0.000000</td>\n",
       "      <td>0.000000</td>\n",
       "      <td>13.500000</td>\n",
       "      <td>0.000000</td>\n",
       "    </tr>\n",
       "    <tr>\n",
       "      <th>75%</th>\n",
       "      <td>3.000000</td>\n",
       "      <td>38.000000</td>\n",
       "      <td>1.000000</td>\n",
       "      <td>0.000000</td>\n",
       "      <td>31.068750</td>\n",
       "      <td>1.000000</td>\n",
       "    </tr>\n",
       "    <tr>\n",
       "      <th>max</th>\n",
       "      <td>3.000000</td>\n",
       "      <td>80.000000</td>\n",
       "      <td>8.000000</td>\n",
       "      <td>5.000000</td>\n",
       "      <td>512.329200</td>\n",
       "      <td>1.000000</td>\n",
       "    </tr>\n",
       "  </tbody>\n",
       "</table>\n",
       "</div>"
      ],
      "text/plain": [
       "           Pclass         Age       SibSp       Parch        Fare    Survived\n",
       "count  712.000000  570.000000  712.000000  712.000000  712.000000  712.000000\n",
       "mean     2.303371   29.495193    0.491573    0.356742   32.133941    0.369382\n",
       "std      0.828867   14.169135    1.093356    0.782534   50.508682    0.482977\n",
       "min      1.000000    0.420000    0.000000    0.000000    0.000000    0.000000\n",
       "25%      2.000000   20.000000    0.000000    0.000000    7.895800    0.000000\n",
       "50%      3.000000   28.000000    0.000000    0.000000   13.500000    0.000000\n",
       "75%      3.000000   38.000000    1.000000    0.000000   31.068750    1.000000\n",
       "max      3.000000   80.000000    8.000000    5.000000  512.329200    1.000000"
      ]
     },
     "execution_count": 187,
     "metadata": {},
     "output_type": "execute_result"
    }
   ],
   "source": [
    "# get a glance through the descriptive statistics\n",
    "df_train.describe()"
   ]
  },
  {
   "cell_type": "code",
   "execution_count": 188,
   "metadata": {},
   "outputs": [
    {
     "data": {
      "text/plain": [
       "0"
      ]
     },
     "execution_count": 188,
     "metadata": {},
     "output_type": "execute_result"
    }
   ],
   "source": [
    "# are there any duplicated rows?\n",
    "df_train.duplicated().sum()"
   ]
  },
  {
   "cell_type": "code",
   "execution_count": 189,
   "metadata": {},
   "outputs": [
    {
     "data": {
      "image/png": "[encoded data removed]",
      "text/plain": [
       "<Figure size 864x432 with 1 Axes>"
      ]
     },
     "metadata": {},
     "output_type": "display_data"
    }
   ],
   "source": [
    "# Regarding the embarkation some of the most expensive tickets were sold to passengers who embarked in \n",
    "# Cherbourg. The price for tickets who embarked in Queenstown is very little which might be \n",
    "# associated with the number of passengers.\n",
    "# C = Cherbourg | Q = Queenstown | S = Southampton\n",
    "sns.set_style('darkgrid')\n",
    "fig, ax = plt.subplots(figsize = (12,6), ncols = 1)\n",
    "ax      = sns.boxplot(  x    = \"Embarked\"\n",
    "                      , y    = \"Fare\"\n",
    "                      , hue  = \"Pclass\"\n",
    "                      , data = df_train)\n",
    "ax.set_title(\"Boxplot Embarked\", fontsize = 18);"
   ]
  },
  {
   "cell_type": "code",
   "execution_count": 190,
   "metadata": {},
   "outputs": [
    {
     "data": {
      "text/html": [
       "<div>\n",
       "<style scoped>\n",
       "    .dataframe tbody tr th:only-of-type {\n",
       "        vertical-align: middle;\n",
       "    }\n",
       "\n",
       "    .dataframe tbody tr th {\n",
       "        vertical-align: top;\n",
       "    }\n",
       "\n",
       "    .dataframe thead th {\n",
       "        text-align: right;\n",
       "    }\n",
       "</style>\n",
       "<table border=\"1\" class=\"dataframe\">\n",
       "  <thead>\n",
       "    <tr style=\"text-align: right;\">\n",
       "      <th></th>\n",
       "      <th>percentage of nan</th>\n",
       "    </tr>\n",
       "  </thead>\n",
       "  <tbody>\n",
       "    <tr>\n",
       "      <th>Pclass</th>\n",
       "      <td>0.00</td>\n",
       "    </tr>\n",
       "    <tr>\n",
       "      <th>Name</th>\n",
       "      <td>0.00</td>\n",
       "    </tr>\n",
       "    <tr>\n",
       "      <th>Sex</th>\n",
       "      <td>0.00</td>\n",
       "    </tr>\n",
       "    <tr>\n",
       "      <th>Age</th>\n",
       "      <td>19.94</td>\n",
       "    </tr>\n",
       "    <tr>\n",
       "      <th>SibSp</th>\n",
       "      <td>0.00</td>\n",
       "    </tr>\n",
       "    <tr>\n",
       "      <th>Parch</th>\n",
       "      <td>0.00</td>\n",
       "    </tr>\n",
       "    <tr>\n",
       "      <th>Ticket</th>\n",
       "      <td>0.00</td>\n",
       "    </tr>\n",
       "    <tr>\n",
       "      <th>Fare</th>\n",
       "      <td>0.00</td>\n",
       "    </tr>\n",
       "    <tr>\n",
       "      <th>Cabin</th>\n",
       "      <td>78.79</td>\n",
       "    </tr>\n",
       "    <tr>\n",
       "      <th>Embarked</th>\n",
       "      <td>0.14</td>\n",
       "    </tr>\n",
       "    <tr>\n",
       "      <th>Survived</th>\n",
       "      <td>0.00</td>\n",
       "    </tr>\n",
       "  </tbody>\n",
       "</table>\n",
       "</div>"
      ],
      "text/plain": [
       "          percentage of nan\n",
       "Pclass                 0.00\n",
       "Name                   0.00\n",
       "Sex                    0.00\n",
       "Age                   19.94\n",
       "SibSp                  0.00\n",
       "Parch                  0.00\n",
       "Ticket                 0.00\n",
       "Fare                   0.00\n",
       "Cabin                 78.79\n",
       "Embarked               0.14\n",
       "Survived               0.00"
      ]
     },
     "execution_count": 190,
     "metadata": {},
     "output_type": "execute_result"
    }
   ],
   "source": [
    "# lets look for missing data\n",
    "data_missing_values = df_train.isna().mean().round(4) * 100\n",
    "data_missing_values = data_missing_values.to_frame()\n",
    "data_missing_values = data_missing_values.rename(columns = {0:'percentage of nan'})\n",
    "data_missing_values"
   ]
  },
  {
   "cell_type": "code",
   "execution_count": 191,
   "metadata": {},
   "outputs": [
    {
     "data": {
      "image/png": "[encoded data removed]",
      "text/plain": [
       "<Figure size 432x288 with 2 Axes>"
      ]
     },
     "metadata": {},
     "output_type": "display_data"
    }
   ],
   "source": [
    "# Correlation:\n",
    "#    - Fare & PClass | -0.36\n",
    "#    - Parch & SibSp |  0.41\n",
    "# Most interestingly we see a correlation between survived and fare of 0.28 and pclass and survived of -0.36.\n",
    "sns.heatmap(df_train.corr(),cmap=\"Reds\",annot=True);"
   ]
  },
  {
   "cell_type": "code",
   "execution_count": 192,
   "metadata": {},
   "outputs": [
    {
     "data": {
      "image/png": "[encoded data removed]",
      "text/plain": [
       "<Figure size 1080x576 with 1 Axes>"
      ]
     },
     "metadata": {},
     "output_type": "display_data"
    }
   ],
   "source": [
    "# Kernel Density Plot for Pclass\n",
    "# As expected and concluded from above being a passenger in the third class reduced the chance to survive drastically.\n",
    "fig = plt.figure(figsize=(15,8),)\n",
    "\n",
    "ax = sns.kdeplot(  df_train.loc[(df_train['Survived'] == 0),'Pclass']\n",
    "                 , color = 'red'\n",
    "                 , shade = True\n",
    "                 , label = 'Not Survived'\n",
    "                )\n",
    "\n",
    "ax = sns.kdeplot(  df_train.loc[(df_train['Survived'] == 1),'Pclass']\n",
    "                 , color = 'green'\n",
    "                 , shade = True\n",
    "                 , label = 'Survived'\n",
    "              )\n",
    "\n",
    "plt.title('Class Distribution | Survived vs Non-Survived' , fontsize = 25, pad      = 40)\n",
    "plt.ylabel(\"Percentage of Survived\"                       , fontsize = 15, labelpad = 20)\n",
    "plt.xlabel(\"Passenger Class\"                              , fontsize = 15, labelpad = 20)\n",
    "labels = ['Upper', 'Middle', 'Lower']\n",
    "plt.xticks(sorted(df_train.Pclass.unique()), labels);"
   ]
  },
  {
   "cell_type": "code",
   "execution_count": 193,
   "metadata": {},
   "outputs": [
    {
     "data": {
      "text/plain": [
       "''"
      ]
     },
     "execution_count": 193,
     "metadata": {},
     "output_type": "execute_result"
    },
    {
     "data": {
      "image/png": "[encoded data removed]",
      "text/plain": [
       "<Figure size 1080x576 with 1 Axes>"
      ]
     },
     "metadata": {},
     "output_type": "display_data"
    }
   ],
   "source": [
    "# Kernel Density Plot for Age\n",
    "# Being in the age between approximately 17 and 35 as well as 55+ increased the probability not to survive.\n",
    "fig = plt.figure(figsize=(15,8),)\n",
    "\n",
    "ax = sns.kdeplot(  df_train.loc[(df_train['Survived'] == 0),'Age']\n",
    "                 , color = 'red'\n",
    "                 , shade = True\n",
    "                 , label = 'Not Survived'\n",
    "                )\n",
    "\n",
    "ax = sns.kdeplot(  df_train.loc[(df_train['Survived'] == 1),'Age']\n",
    "                 , color = 'green'\n",
    "                 , shade = True\n",
    "                 , label = 'Survived'\n",
    "              )\n",
    "\n",
    "plt.title('Age Distribution | Survived vs Non-Survived'   , fontsize = 25, pad      = 40)\n",
    "plt.ylabel(\"Percentage of Survived\"                       , fontsize = 15, labelpad = 20)\n",
    "plt.xlabel(\"Passenger Age\"                                , fontsize = 15, labelpad = 20)\n",
    ";"
   ]
  },
  {
   "cell_type": "markdown",
   "metadata": {
    "heading_collapsed": true
   },
   "source": [
    "#### Step 3.3 - observe some features in more detail"
   ]
  },
  {
   "cell_type": "markdown",
   "metadata": {
    "heading_collapsed": true,
    "hidden": true
   },
   "source": [
    "##### Step 3.2.1 - PassengerId"
   ]
  },
  {
   "cell_type": "code",
   "execution_count": 194,
   "metadata": {
    "hidden": true
   },
   "outputs": [],
   "source": [
    "# no valuable information"
   ]
  },
  {
   "cell_type": "markdown",
   "metadata": {
    "heading_collapsed": true,
    "hidden": true
   },
   "source": [
    "##### Step 3.2.2 - Pclass"
   ]
  },
  {
   "cell_type": "code",
   "execution_count": 195,
   "metadata": {
    "hidden": true
   },
   "outputs": [
    {
     "data": {
      "text/html": [
       "<div>\n",
       "<style scoped>\n",
       "    .dataframe tbody tr th:only-of-type {\n",
       "        vertical-align: middle;\n",
       "    }\n",
       "\n",
       "    .dataframe tbody tr th {\n",
       "        vertical-align: top;\n",
       "    }\n",
       "\n",
       "    .dataframe thead th {\n",
       "        text-align: right;\n",
       "    }\n",
       "</style>\n",
       "<table border=\"1\" class=\"dataframe\">\n",
       "  <thead>\n",
       "    <tr style=\"text-align: right;\">\n",
       "      <th>Survived</th>\n",
       "      <th>0</th>\n",
       "      <th>1</th>\n",
       "    </tr>\n",
       "    <tr>\n",
       "      <th>Pclass</th>\n",
       "      <th></th>\n",
       "      <th></th>\n",
       "    </tr>\n",
       "  </thead>\n",
       "  <tbody>\n",
       "    <tr>\n",
       "      <th>1</th>\n",
       "      <td>63</td>\n",
       "      <td>106</td>\n",
       "    </tr>\n",
       "    <tr>\n",
       "      <th>2</th>\n",
       "      <td>85</td>\n",
       "      <td>73</td>\n",
       "    </tr>\n",
       "    <tr>\n",
       "      <th>3</th>\n",
       "      <td>301</td>\n",
       "      <td>84</td>\n",
       "    </tr>\n",
       "  </tbody>\n",
       "</table>\n",
       "</div>"
      ],
      "text/plain": [
       "Survived    0    1\n",
       "Pclass            \n",
       "1          63  106\n",
       "2          85   73\n",
       "3         301   84"
      ]
     },
     "execution_count": 195,
     "metadata": {},
     "output_type": "execute_result"
    }
   ],
   "source": [
    "# The chances of survival are in class 2 almost equal.\n",
    "df_train.groupby(['Pclass','Survived']).size().unstack('Survived')"
   ]
  },
  {
   "cell_type": "code",
   "execution_count": 196,
   "metadata": {
    "hidden": true
   },
   "outputs": [
    {
     "data": {
      "image/png": "[encoded data removed]",
      "text/plain": [
       "<Figure size 432x288 with 1 Axes>"
      ]
     },
     "metadata": {},
     "output_type": "display_data"
    }
   ],
   "source": [
    "# the higher the class the higher the survival rate.  \n",
    "# there is a higher probality to not survive in the 3rd class\n",
    "sns.countplot(data=df_train,x=df_train['Pclass'],hue='Survived'); "
   ]
  },
  {
   "cell_type": "markdown",
   "metadata": {
    "heading_collapsed": true,
    "hidden": true
   },
   "source": [
    "##### Step 3.2.3 - Name"
   ]
  },
  {
   "cell_type": "code",
   "execution_count": 197,
   "metadata": {
    "hidden": true
   },
   "outputs": [
    {
     "data": {
      "text/html": [
       "<div>\n",
       "<style scoped>\n",
       "    .dataframe tbody tr th:only-of-type {\n",
       "        vertical-align: middle;\n",
       "    }\n",
       "\n",
       "    .dataframe tbody tr th {\n",
       "        vertical-align: top;\n",
       "    }\n",
       "\n",
       "    .dataframe thead th {\n",
       "        text-align: right;\n",
       "    }\n",
       "</style>\n",
       "<table border=\"1\" class=\"dataframe\">\n",
       "  <thead>\n",
       "    <tr style=\"text-align: right;\">\n",
       "      <th></th>\n",
       "      <th>Name</th>\n",
       "    </tr>\n",
       "    <tr>\n",
       "      <th>PassengerId</th>\n",
       "      <th></th>\n",
       "    </tr>\n",
       "  </thead>\n",
       "  <tbody>\n",
       "    <tr>\n",
       "      <th>9</th>\n",
       "      <td>Johnson, Mrs. Oscar W (Elisabeth Vilhelmina Berg)</td>\n",
       "    </tr>\n",
       "    <tr>\n",
       "      <th>151</th>\n",
       "      <td>Bateman, Rev. Robert James</td>\n",
       "    </tr>\n",
       "    <tr>\n",
       "      <th>222</th>\n",
       "      <td>Bracken, Mr. James H</td>\n",
       "    </tr>\n",
       "  </tbody>\n",
       "</table>\n",
       "</div>"
      ],
      "text/plain": [
       "                                                          Name\n",
       "PassengerId                                                   \n",
       "9            Johnson, Mrs. Oscar W (Elisabeth Vilhelmina Berg)\n",
       "151                                 Bateman, Rev. Robert James\n",
       "222                                       Bracken, Mr. James H"
      ]
     },
     "execution_count": 197,
     "metadata": {},
     "output_type": "execute_result"
    }
   ],
   "source": [
    "df_train[['Name']].head(3)"
   ]
  },
  {
   "cell_type": "code",
   "execution_count": 198,
   "metadata": {
    "hidden": true
   },
   "outputs": [
    {
     "data": {
      "text/html": [
       "<div>\n",
       "<style scoped>\n",
       "    .dataframe tbody tr th:only-of-type {\n",
       "        vertical-align: middle;\n",
       "    }\n",
       "\n",
       "    .dataframe tbody tr th {\n",
       "        vertical-align: top;\n",
       "    }\n",
       "\n",
       "    .dataframe thead th {\n",
       "        text-align: right;\n",
       "    }\n",
       "</style>\n",
       "<table border=\"1\" class=\"dataframe\">\n",
       "  <thead>\n",
       "    <tr style=\"text-align: right;\">\n",
       "      <th></th>\n",
       "      <th>Lastname</th>\n",
       "      <th>title_and_firstname</th>\n",
       "    </tr>\n",
       "    <tr>\n",
       "      <th>PassengerId</th>\n",
       "      <th></th>\n",
       "      <th></th>\n",
       "    </tr>\n",
       "  </thead>\n",
       "  <tbody>\n",
       "    <tr>\n",
       "      <th>9</th>\n",
       "      <td>Johnson</td>\n",
       "      <td>Mrs. Oscar W (Elisabeth Vilhelmina Berg)</td>\n",
       "    </tr>\n",
       "    <tr>\n",
       "      <th>151</th>\n",
       "      <td>Bateman</td>\n",
       "      <td>Rev. Robert James</td>\n",
       "    </tr>\n",
       "    <tr>\n",
       "      <th>222</th>\n",
       "      <td>Bracken</td>\n",
       "      <td>Mr. James H</td>\n",
       "    </tr>\n",
       "  </tbody>\n",
       "</table>\n",
       "</div>"
      ],
      "text/plain": [
       "            Lastname                        title_and_firstname\n",
       "PassengerId                                                    \n",
       "9            Johnson   Mrs. Oscar W (Elisabeth Vilhelmina Berg)\n",
       "151          Bateman                          Rev. Robert James\n",
       "222          Bracken                                Mr. James H"
      ]
     },
     "execution_count": 198,
     "metadata": {},
     "output_type": "execute_result"
    }
   ],
   "source": [
    "# As seen there is some more information in this feature contained than just a name.\n",
    "# I split the feature along the commas into two columns, so that I get the lstname and a combination \n",
    "# of the firstname and the titke that needs to be split afterwards once again.\n",
    "df_train_names = df_train[\"Name\"].str.split(',', expand=True)\n",
    "df_train_names.rename(columns={0:'Lastname', 1:'title_and_firstname'}, inplace=True)\n",
    "df_train_names.head(3)"
   ]
  },
  {
   "cell_type": "code",
   "execution_count": 199,
   "metadata": {
    "hidden": true
   },
   "outputs": [
    {
     "data": {
      "text/html": [
       "<div>\n",
       "<style scoped>\n",
       "    .dataframe tbody tr th:only-of-type {\n",
       "        vertical-align: middle;\n",
       "    }\n",
       "\n",
       "    .dataframe tbody tr th {\n",
       "        vertical-align: top;\n",
       "    }\n",
       "\n",
       "    .dataframe thead th {\n",
       "        text-align: right;\n",
       "    }\n",
       "</style>\n",
       "<table border=\"1\" class=\"dataframe\">\n",
       "  <thead>\n",
       "    <tr style=\"text-align: right;\">\n",
       "      <th></th>\n",
       "      <th>Title</th>\n",
       "    </tr>\n",
       "    <tr>\n",
       "      <th>PassengerId</th>\n",
       "      <th></th>\n",
       "    </tr>\n",
       "  </thead>\n",
       "  <tbody>\n",
       "    <tr>\n",
       "      <th>9</th>\n",
       "      <td>Mrs.</td>\n",
       "    </tr>\n",
       "    <tr>\n",
       "      <th>151</th>\n",
       "      <td>Rev.</td>\n",
       "    </tr>\n",
       "    <tr>\n",
       "      <th>222</th>\n",
       "      <td>Mr.</td>\n",
       "    </tr>\n",
       "  </tbody>\n",
       "</table>\n",
       "</div>"
      ],
      "text/plain": [
       "            Title\n",
       "PassengerId      \n",
       "9            Mrs.\n",
       "151          Rev.\n",
       "222           Mr."
      ]
     },
     "execution_count": 199,
     "metadata": {},
     "output_type": "execute_result"
    }
   ],
   "source": [
    "# get the title from title_and_firstname\n",
    "df_train_titles = df_train_names[\"title_and_firstname\"].str.split(' ', expand=True)\n",
    "df_train_titles.rename(columns={1:'Title'}, inplace=True)\n",
    "df_train_titles = df_train_titles[[\"Title\"]]\n",
    "df_train_titles.head(3)"
   ]
  },
  {
   "cell_type": "code",
   "execution_count": 200,
   "metadata": {
    "hidden": true
   },
   "outputs": [
    {
     "data": {
      "text/plain": [
       "array(['Mrs.', 'Rev.', 'Mr.', 'Major.', 'Master.', 'Miss.', 'Lady.',\n",
       "       'Jonkheer.', 'Dr.', 'Col.', 'Mlle.', 'Ms.', 'Sir.', 'Capt.',\n",
       "       'Don.', 'the'], dtype=object)"
      ]
     },
     "execution_count": 200,
     "metadata": {},
     "output_type": "execute_result"
    }
   ],
   "source": [
    "# Check the titles. \n",
    "df_train_titles[\"Title\"].unique()"
   ]
  },
  {
   "cell_type": "code",
   "execution_count": 201,
   "metadata": {
    "hidden": true
   },
   "outputs": [
    {
     "data": {
      "text/html": [
       "<div>\n",
       "<style scoped>\n",
       "    .dataframe tbody tr th:only-of-type {\n",
       "        vertical-align: middle;\n",
       "    }\n",
       "\n",
       "    .dataframe tbody tr th {\n",
       "        vertical-align: top;\n",
       "    }\n",
       "\n",
       "    .dataframe thead th {\n",
       "        text-align: right;\n",
       "    }\n",
       "</style>\n",
       "<table border=\"1\" class=\"dataframe\">\n",
       "  <thead>\n",
       "    <tr style=\"text-align: right;\">\n",
       "      <th></th>\n",
       "      <th>Pclass</th>\n",
       "      <th>Name</th>\n",
       "      <th>Sex</th>\n",
       "      <th>Age</th>\n",
       "      <th>SibSp</th>\n",
       "      <th>Parch</th>\n",
       "      <th>Ticket</th>\n",
       "      <th>Fare</th>\n",
       "      <th>Cabin</th>\n",
       "      <th>Embarked</th>\n",
       "      <th>Survived</th>\n",
       "      <th>Title</th>\n",
       "      <th>Lastname</th>\n",
       "      <th>title_and_firstname</th>\n",
       "    </tr>\n",
       "    <tr>\n",
       "      <th>PassengerId</th>\n",
       "      <th></th>\n",
       "      <th></th>\n",
       "      <th></th>\n",
       "      <th></th>\n",
       "      <th></th>\n",
       "      <th></th>\n",
       "      <th></th>\n",
       "      <th></th>\n",
       "      <th></th>\n",
       "      <th></th>\n",
       "      <th></th>\n",
       "      <th></th>\n",
       "      <th></th>\n",
       "      <th></th>\n",
       "    </tr>\n",
       "  </thead>\n",
       "  <tbody>\n",
       "    <tr>\n",
       "      <th>9</th>\n",
       "      <td>3</td>\n",
       "      <td>Johnson, Mrs. Oscar W (Elisabeth Vilhelmina Berg)</td>\n",
       "      <td>female</td>\n",
       "      <td>27.0</td>\n",
       "      <td>0</td>\n",
       "      <td>2</td>\n",
       "      <td>347742</td>\n",
       "      <td>11.1333</td>\n",
       "      <td>NaN</td>\n",
       "      <td>S</td>\n",
       "      <td>1</td>\n",
       "      <td>Mrs.</td>\n",
       "      <td>Johnson</td>\n",
       "      <td>Mrs. Oscar W (Elisabeth Vilhelmina Berg)</td>\n",
       "    </tr>\n",
       "    <tr>\n",
       "      <th>151</th>\n",
       "      <td>2</td>\n",
       "      <td>Bateman, Rev. Robert James</td>\n",
       "      <td>male</td>\n",
       "      <td>51.0</td>\n",
       "      <td>0</td>\n",
       "      <td>0</td>\n",
       "      <td>S.O.P. 1166</td>\n",
       "      <td>12.5250</td>\n",
       "      <td>NaN</td>\n",
       "      <td>S</td>\n",
       "      <td>0</td>\n",
       "      <td>Rev.</td>\n",
       "      <td>Bateman</td>\n",
       "      <td>Rev. Robert James</td>\n",
       "    </tr>\n",
       "    <tr>\n",
       "      <th>222</th>\n",
       "      <td>2</td>\n",
       "      <td>Bracken, Mr. James H</td>\n",
       "      <td>male</td>\n",
       "      <td>27.0</td>\n",
       "      <td>0</td>\n",
       "      <td>0</td>\n",
       "      <td>220367</td>\n",
       "      <td>13.0000</td>\n",
       "      <td>NaN</td>\n",
       "      <td>S</td>\n",
       "      <td>0</td>\n",
       "      <td>Mr.</td>\n",
       "      <td>Bracken</td>\n",
       "      <td>Mr. James H</td>\n",
       "    </tr>\n",
       "    <tr>\n",
       "      <th>366</th>\n",
       "      <td>3</td>\n",
       "      <td>Adahl, Mr. Mauritz Nils Martin</td>\n",
       "      <td>male</td>\n",
       "      <td>30.0</td>\n",
       "      <td>0</td>\n",
       "      <td>0</td>\n",
       "      <td>C 7076</td>\n",
       "      <td>7.2500</td>\n",
       "      <td>NaN</td>\n",
       "      <td>S</td>\n",
       "      <td>0</td>\n",
       "      <td>Mr.</td>\n",
       "      <td>Adahl</td>\n",
       "      <td>Mr. Mauritz Nils Martin</td>\n",
       "    </tr>\n",
       "    <tr>\n",
       "      <th>325</th>\n",
       "      <td>3</td>\n",
       "      <td>Sage, Mr. George John Jr</td>\n",
       "      <td>male</td>\n",
       "      <td>NaN</td>\n",
       "      <td>8</td>\n",
       "      <td>2</td>\n",
       "      <td>CA. 2343</td>\n",
       "      <td>69.5500</td>\n",
       "      <td>NaN</td>\n",
       "      <td>S</td>\n",
       "      <td>0</td>\n",
       "      <td>Mr.</td>\n",
       "      <td>Sage</td>\n",
       "      <td>Mr. George John Jr</td>\n",
       "    </tr>\n",
       "  </tbody>\n",
       "</table>\n",
       "</div>"
      ],
      "text/plain": [
       "             Pclass                                               Name  \\\n",
       "PassengerId                                                              \n",
       "9                 3  Johnson, Mrs. Oscar W (Elisabeth Vilhelmina Berg)   \n",
       "151               2                         Bateman, Rev. Robert James   \n",
       "222               2                               Bracken, Mr. James H   \n",
       "366               3                     Adahl, Mr. Mauritz Nils Martin   \n",
       "325               3                           Sage, Mr. George John Jr   \n",
       "\n",
       "                Sex   Age  SibSp  Parch       Ticket     Fare Cabin Embarked  \\\n",
       "PassengerId                                                                    \n",
       "9            female  27.0      0      2       347742  11.1333   NaN        S   \n",
       "151            male  51.0      0      0  S.O.P. 1166  12.5250   NaN        S   \n",
       "222            male  27.0      0      0       220367  13.0000   NaN        S   \n",
       "366            male  30.0      0      0       C 7076   7.2500   NaN        S   \n",
       "325            male   NaN      8      2     CA. 2343  69.5500   NaN        S   \n",
       "\n",
       "             Survived Title Lastname  \\\n",
       "PassengerId                            \n",
       "9                   1  Mrs.  Johnson   \n",
       "151                 0  Rev.  Bateman   \n",
       "222                 0   Mr.  Bracken   \n",
       "366                 0   Mr.    Adahl   \n",
       "325                 0   Mr.     Sage   \n",
       "\n",
       "                                   title_and_firstname  \n",
       "PassengerId                                             \n",
       "9             Mrs. Oscar W (Elisabeth Vilhelmina Berg)  \n",
       "151                                  Rev. Robert James  \n",
       "222                                        Mr. James H  \n",
       "366                            Mr. Mauritz Nils Martin  \n",
       "325                                 Mr. George John Jr  "
      ]
     },
     "execution_count": 201,
     "metadata": {},
     "output_type": "execute_result"
    }
   ],
   "source": [
    "# Concat df_train, df_train_names, df_train_titles\n",
    "df_train = pd.concat([df_train, df_train_titles, df_train_names], axis=1)\n",
    "df_train.head()"
   ]
  },
  {
   "cell_type": "code",
   "execution_count": 202,
   "metadata": {
    "hidden": true
   },
   "outputs": [
    {
     "data": {
      "text/html": [
       "<div>\n",
       "<style scoped>\n",
       "    .dataframe tbody tr th:only-of-type {\n",
       "        vertical-align: middle;\n",
       "    }\n",
       "\n",
       "    .dataframe tbody tr th {\n",
       "        vertical-align: top;\n",
       "    }\n",
       "\n",
       "    .dataframe thead th {\n",
       "        text-align: right;\n",
       "    }\n",
       "</style>\n",
       "<table border=\"1\" class=\"dataframe\">\n",
       "  <thead>\n",
       "    <tr style=\"text-align: right;\">\n",
       "      <th>Survived</th>\n",
       "      <th>0</th>\n",
       "      <th>1</th>\n",
       "    </tr>\n",
       "    <tr>\n",
       "      <th>Title</th>\n",
       "      <th></th>\n",
       "      <th></th>\n",
       "    </tr>\n",
       "  </thead>\n",
       "  <tbody>\n",
       "    <tr>\n",
       "      <th>Capt.</th>\n",
       "      <td>1.0</td>\n",
       "      <td>NaN</td>\n",
       "    </tr>\n",
       "    <tr>\n",
       "      <th>Col.</th>\n",
       "      <td>1.0</td>\n",
       "      <td>1.0</td>\n",
       "    </tr>\n",
       "    <tr>\n",
       "      <th>Don.</th>\n",
       "      <td>1.0</td>\n",
       "      <td>NaN</td>\n",
       "    </tr>\n",
       "    <tr>\n",
       "      <th>Dr.</th>\n",
       "      <td>4.0</td>\n",
       "      <td>3.0</td>\n",
       "    </tr>\n",
       "    <tr>\n",
       "      <th>Jonkheer.</th>\n",
       "      <td>1.0</td>\n",
       "      <td>NaN</td>\n",
       "    </tr>\n",
       "    <tr>\n",
       "      <th>Lady.</th>\n",
       "      <td>NaN</td>\n",
       "      <td>1.0</td>\n",
       "    </tr>\n",
       "    <tr>\n",
       "      <th>Major.</th>\n",
       "      <td>1.0</td>\n",
       "      <td>1.0</td>\n",
       "    </tr>\n",
       "    <tr>\n",
       "      <th>Master.</th>\n",
       "      <td>12.0</td>\n",
       "      <td>17.0</td>\n",
       "    </tr>\n",
       "    <tr>\n",
       "      <th>Miss.</th>\n",
       "      <td>43.0</td>\n",
       "      <td>100.0</td>\n",
       "    </tr>\n",
       "    <tr>\n",
       "      <th>Mlle.</th>\n",
       "      <td>NaN</td>\n",
       "      <td>2.0</td>\n",
       "    </tr>\n",
       "    <tr>\n",
       "      <th>Mr.</th>\n",
       "      <td>361.0</td>\n",
       "      <td>61.0</td>\n",
       "    </tr>\n",
       "    <tr>\n",
       "      <th>Mrs.</th>\n",
       "      <td>19.0</td>\n",
       "      <td>74.0</td>\n",
       "    </tr>\n",
       "    <tr>\n",
       "      <th>Ms.</th>\n",
       "      <td>NaN</td>\n",
       "      <td>1.0</td>\n",
       "    </tr>\n",
       "    <tr>\n",
       "      <th>Rev.</th>\n",
       "      <td>5.0</td>\n",
       "      <td>NaN</td>\n",
       "    </tr>\n",
       "    <tr>\n",
       "      <th>Sir.</th>\n",
       "      <td>NaN</td>\n",
       "      <td>1.0</td>\n",
       "    </tr>\n",
       "    <tr>\n",
       "      <th>the</th>\n",
       "      <td>NaN</td>\n",
       "      <td>1.0</td>\n",
       "    </tr>\n",
       "  </tbody>\n",
       "</table>\n",
       "</div>"
      ],
      "text/plain": [
       "Survived       0      1\n",
       "Title                  \n",
       "Capt.        1.0    NaN\n",
       "Col.         1.0    1.0\n",
       "Don.         1.0    NaN\n",
       "Dr.          4.0    3.0\n",
       "Jonkheer.    1.0    NaN\n",
       "Lady.        NaN    1.0\n",
       "Major.       1.0    1.0\n",
       "Master.     12.0   17.0\n",
       "Miss.       43.0  100.0\n",
       "Mlle.        NaN    2.0\n",
       "Mr.        361.0   61.0\n",
       "Mrs.        19.0   74.0\n",
       "Ms.          NaN    1.0\n",
       "Rev.         5.0    NaN\n",
       "Sir.         NaN    1.0\n",
       "the          NaN    1.0"
      ]
     },
     "execution_count": 202,
     "metadata": {},
     "output_type": "execute_result"
    }
   ],
   "source": [
    "# The chances of survival are in class 2 almost equal.\n",
    "# Female titles like Miss and Mrs indicate a higher chance to survive as well as beeing Master.\n",
    "# In contrast the titles Mr indicates a high chance to not survive.\n",
    "# Interestingly all 5 Rev. in this sample died that might be worth to consider later on.\n",
    "df_train.groupby(['Title','Survived']).size().unstack('Survived')"
   ]
  },
  {
   "cell_type": "markdown",
   "metadata": {
    "heading_collapsed": true,
    "hidden": true
   },
   "source": [
    "##### Step 3.2.4 - Sex"
   ]
  },
  {
   "cell_type": "code",
   "execution_count": 203,
   "metadata": {
    "hidden": true
   },
   "outputs": [
    {
     "data": {
      "image/png": "[encoded data removed]",
      "text/plain": [
       "<Figure size 432x288 with 1 Axes>"
      ]
     },
     "metadata": {},
     "output_type": "display_data"
    }
   ],
   "source": [
    "# check survival rate by sex\n",
    "sns.countplot(data=df_train,x=df_train['Sex'],hue='Survived');\n",
    "# sex tends to have an effect on the survival rate"
   ]
  },
  {
   "cell_type": "code",
   "execution_count": 204,
   "metadata": {
    "hidden": true
   },
   "outputs": [
    {
     "data": {
      "text/html": [
       "<div>\n",
       "<style scoped>\n",
       "    .dataframe tbody tr th:only-of-type {\n",
       "        vertical-align: middle;\n",
       "    }\n",
       "\n",
       "    .dataframe tbody tr th {\n",
       "        vertical-align: top;\n",
       "    }\n",
       "\n",
       "    .dataframe thead th {\n",
       "        text-align: right;\n",
       "    }\n",
       "</style>\n",
       "<table border=\"1\" class=\"dataframe\">\n",
       "  <thead>\n",
       "    <tr style=\"text-align: right;\">\n",
       "      <th></th>\n",
       "      <th>Survived</th>\n",
       "      <th>0</th>\n",
       "      <th>1</th>\n",
       "    </tr>\n",
       "    <tr>\n",
       "      <th>Sex</th>\n",
       "      <th>Pclass</th>\n",
       "      <th></th>\n",
       "      <th></th>\n",
       "    </tr>\n",
       "  </thead>\n",
       "  <tbody>\n",
       "    <tr>\n",
       "      <th rowspan=\"3\" valign=\"top\">female</th>\n",
       "      <th>1</th>\n",
       "      <td>2</td>\n",
       "      <td>71</td>\n",
       "    </tr>\n",
       "    <tr>\n",
       "      <th>2</th>\n",
       "      <td>6</td>\n",
       "      <td>61</td>\n",
       "    </tr>\n",
       "    <tr>\n",
       "      <th>3</th>\n",
       "      <td>54</td>\n",
       "      <td>48</td>\n",
       "    </tr>\n",
       "    <tr>\n",
       "      <th rowspan=\"3\" valign=\"top\">male</th>\n",
       "      <th>1</th>\n",
       "      <td>61</td>\n",
       "      <td>35</td>\n",
       "    </tr>\n",
       "    <tr>\n",
       "      <th>2</th>\n",
       "      <td>79</td>\n",
       "      <td>12</td>\n",
       "    </tr>\n",
       "    <tr>\n",
       "      <th>3</th>\n",
       "      <td>247</td>\n",
       "      <td>36</td>\n",
       "    </tr>\n",
       "  </tbody>\n",
       "</table>\n",
       "</div>"
      ],
      "text/plain": [
       "Survived         0   1\n",
       "Sex    Pclass         \n",
       "female 1         2  71\n",
       "       2         6  61\n",
       "       3        54  48\n",
       "male   1        61  35\n",
       "       2        79  12\n",
       "       3       247  36"
      ]
     },
     "execution_count": 204,
     "metadata": {},
     "output_type": "execute_result"
    }
   ],
   "source": [
    "# For women in the first and second class the probability to survive is very high.\n",
    "# However, the social-economic status has a stronger influence than the sex.\n",
    "df_train.groupby(['Sex','Pclass','Survived']).size().unstack('Survived')"
   ]
  },
  {
   "cell_type": "code",
   "execution_count": 205,
   "metadata": {
    "hidden": true
   },
   "outputs": [
    {
     "data": {
      "text/plain": [
       "<seaborn.axisgrid.FacetGrid at 0x7f2e3b05e430>"
      ]
     },
     "execution_count": 205,
     "metadata": {},
     "output_type": "execute_result"
    },
    {
     "data": {
      "image/png": "[encoded data removed]",
      "text/plain": [
       "<Figure size 656.675x288 with 3 Axes>"
      ]
     },
     "metadata": {},
     "output_type": "display_data"
    }
   ],
   "source": [
    "sns.catplot(data=df_train,x=\"Sex\",hue=\"Survived\",col=\"Pclass\", kind=\"count\", height=4, aspect=.7, hue_order=[1,0])"
   ]
  },
  {
   "cell_type": "code",
   "execution_count": 206,
   "metadata": {
    "hidden": true
   },
   "outputs": [
    {
     "data": {
      "text/plain": [
       "<seaborn.axisgrid.FacetGrid at 0x7f2e3af73fa0>"
      ]
     },
     "execution_count": 206,
     "metadata": {},
     "output_type": "execute_result"
    },
    {
     "data": {
      "image/png": "[encoded data removed]",
      "text/plain": [
       "<Figure size 411.875x360 with 1 Axes>"
      ]
     },
     "metadata": {},
     "output_type": "display_data"
    }
   ],
   "source": [
    "sns.catplot(data=df_train, x=\"Age\", y=\"Sex\", hue=\"Survived\", kind=\"violin\", bw=.25, cut=0, split=True)"
   ]
  },
  {
   "cell_type": "markdown",
   "metadata": {
    "heading_collapsed": true,
    "hidden": true
   },
   "source": [
    "##### Step 3.2.5 - Age"
   ]
  },
  {
   "cell_type": "code",
   "execution_count": 207,
   "metadata": {
    "hidden": true
   },
   "outputs": [
    {
     "name": "stdout",
     "output_type": "stream",
     "text": [
      "max Age:  80.0 \n",
      " min Age:  0.42\n"
     ]
    }
   ],
   "source": [
    "# min age and max age\n",
    "max_age = df_train[\"Age\"].max()\n",
    "min_age = df_train[\"Age\"].min()\n",
    "\n",
    "print(\n",
    "        'max Age: ', max_age,  '\\n'\n",
    "      , 'min Age: ', min_age\n",
    ")"
   ]
  },
  {
   "cell_type": "code",
   "execution_count": 208,
   "metadata": {
    "hidden": true
   },
   "outputs": [
    {
     "data": {
      "image/png": "[encoded data removed]",
      "text/plain": [
       "<Figure size 432x288 with 1 Axes>"
      ]
     },
     "metadata": {},
     "output_type": "display_data"
    }
   ],
   "source": [
    "# The distribution of the age shows that certain age groups, especially in the range from approx. 17 to 30 \n",
    "# have a relativly low probalitiy to survive as well es the elder passengers (50+)\n",
    "sns.histplot(data=df_train,x=df_train['Age'],hue='Survived', stat='count', kde=True);"
   ]
  },
  {
   "cell_type": "markdown",
   "metadata": {
    "heading_collapsed": true,
    "hidden": true
   },
   "source": [
    "##### Step 3.2.6 - SibSp"
   ]
  },
  {
   "cell_type": "code",
   "execution_count": 209,
   "metadata": {
    "hidden": true
   },
   "outputs": [
    {
     "data": {
      "image/png": "[encoded data removed]",
      "text/plain": [
       "<Figure size 411.875x360 with 1 Axes>"
      ]
     },
     "metadata": {},
     "output_type": "display_data"
    }
   ],
   "source": [
    "# Passengers with one or maximum two SibSp on board survived far mor often than those with 2+ SibSp on board \n",
    "sns.catplot(data=df_train[df_train['SibSp'] > 0], kind='count', x='SibSp', hue='Survived');"
   ]
  },
  {
   "cell_type": "code",
   "execution_count": 210,
   "metadata": {
    "hidden": true
   },
   "outputs": [
    {
     "data": {
      "text/html": [
       "<div>\n",
       "<style scoped>\n",
       "    .dataframe tbody tr th:only-of-type {\n",
       "        vertical-align: middle;\n",
       "    }\n",
       "\n",
       "    .dataframe tbody tr th {\n",
       "        vertical-align: top;\n",
       "    }\n",
       "\n",
       "    .dataframe thead th {\n",
       "        text-align: right;\n",
       "    }\n",
       "</style>\n",
       "<table border=\"1\" class=\"dataframe\">\n",
       "  <thead>\n",
       "    <tr style=\"text-align: right;\">\n",
       "      <th>Survived</th>\n",
       "      <th>0</th>\n",
       "      <th>1</th>\n",
       "    </tr>\n",
       "    <tr>\n",
       "      <th>SibSp</th>\n",
       "      <th></th>\n",
       "      <th></th>\n",
       "    </tr>\n",
       "  </thead>\n",
       "  <tbody>\n",
       "    <tr>\n",
       "      <th>0</th>\n",
       "      <td>334.0</td>\n",
       "      <td>167.0</td>\n",
       "    </tr>\n",
       "    <tr>\n",
       "      <th>1</th>\n",
       "      <td>74.0</td>\n",
       "      <td>81.0</td>\n",
       "    </tr>\n",
       "    <tr>\n",
       "      <th>2</th>\n",
       "      <td>14.0</td>\n",
       "      <td>10.0</td>\n",
       "    </tr>\n",
       "    <tr>\n",
       "      <th>3</th>\n",
       "      <td>6.0</td>\n",
       "      <td>2.0</td>\n",
       "    </tr>\n",
       "    <tr>\n",
       "      <th>4</th>\n",
       "      <td>12.0</td>\n",
       "      <td>3.0</td>\n",
       "    </tr>\n",
       "    <tr>\n",
       "      <th>5</th>\n",
       "      <td>3.0</td>\n",
       "      <td>NaN</td>\n",
       "    </tr>\n",
       "    <tr>\n",
       "      <th>8</th>\n",
       "      <td>6.0</td>\n",
       "      <td>NaN</td>\n",
       "    </tr>\n",
       "  </tbody>\n",
       "</table>\n",
       "</div>"
      ],
      "text/plain": [
       "Survived      0      1\n",
       "SibSp                 \n",
       "0         334.0  167.0\n",
       "1          74.0   81.0\n",
       "2          14.0   10.0\n",
       "3           6.0    2.0\n",
       "4          12.0    3.0\n",
       "5           3.0    NaN\n",
       "8           6.0    NaN"
      ]
     },
     "execution_count": 210,
     "metadata": {},
     "output_type": "execute_result"
    }
   ],
   "source": [
    "df_train.groupby(['SibSp','Survived']).size().unstack('Survived')"
   ]
  },
  {
   "cell_type": "markdown",
   "metadata": {
    "heading_collapsed": true,
    "hidden": true
   },
   "source": [
    "##### Step 3.2.7 - Parch"
   ]
  },
  {
   "cell_type": "code",
   "execution_count": 211,
   "metadata": {
    "hidden": true
   },
   "outputs": [
    {
     "data": {
      "image/png": "[encoded data removed]",
      "text/plain": [
       "<Figure size 411.875x360 with 1 Axes>"
      ]
     },
     "metadata": {},
     "output_type": "display_data"
    }
   ],
   "source": [
    "# the parent-child relation on board also of a strong influence on the survival rate\n",
    "sns.catplot(data=df_train[df_train['Parch'] > 0], kind='count', x='Parch', hue='Survived');"
   ]
  },
  {
   "cell_type": "code",
   "execution_count": 212,
   "metadata": {
    "hidden": true
   },
   "outputs": [
    {
     "data": {
      "text/plain": [
       "array([2, 0, 1, 3, 4, 5])"
      ]
     },
     "execution_count": 212,
     "metadata": {},
     "output_type": "execute_result"
    }
   ],
   "source": [
    "# Parch: # of parents / children aboard the Titanic\n",
    "df_train[\"Parch\"].unique()"
   ]
  },
  {
   "cell_type": "markdown",
   "metadata": {
    "heading_collapsed": true,
    "hidden": true
   },
   "source": [
    "##### Step 3.2.8 - Ticket"
   ]
  },
  {
   "cell_type": "code",
   "execution_count": 213,
   "metadata": {
    "hidden": true
   },
   "outputs": [
    {
     "data": {
      "text/html": [
       "<div>\n",
       "<style scoped>\n",
       "    .dataframe tbody tr th:only-of-type {\n",
       "        vertical-align: middle;\n",
       "    }\n",
       "\n",
       "    .dataframe tbody tr th {\n",
       "        vertical-align: top;\n",
       "    }\n",
       "\n",
       "    .dataframe thead th {\n",
       "        text-align: right;\n",
       "    }\n",
       "</style>\n",
       "<table border=\"1\" class=\"dataframe\">\n",
       "  <thead>\n",
       "    <tr style=\"text-align: right;\">\n",
       "      <th></th>\n",
       "      <th>Ticket</th>\n",
       "    </tr>\n",
       "    <tr>\n",
       "      <th>Ticket</th>\n",
       "      <th></th>\n",
       "    </tr>\n",
       "  </thead>\n",
       "  <tbody>\n",
       "    <tr>\n",
       "      <th>110152</th>\n",
       "      <td>3</td>\n",
       "    </tr>\n",
       "    <tr>\n",
       "      <th>110413</th>\n",
       "      <td>3</td>\n",
       "    </tr>\n",
       "    <tr>\n",
       "      <th>110465</th>\n",
       "      <td>2</td>\n",
       "    </tr>\n",
       "    <tr>\n",
       "      <th>110564</th>\n",
       "      <td>1</td>\n",
       "    </tr>\n",
       "    <tr>\n",
       "      <th>110813</th>\n",
       "      <td>1</td>\n",
       "    </tr>\n",
       "    <tr>\n",
       "      <th>...</th>\n",
       "      <td>...</td>\n",
       "    </tr>\n",
       "    <tr>\n",
       "      <th>W./C. 14263</th>\n",
       "      <td>1</td>\n",
       "    </tr>\n",
       "    <tr>\n",
       "      <th>W./C. 6608</th>\n",
       "      <td>4</td>\n",
       "    </tr>\n",
       "    <tr>\n",
       "      <th>W.E.P. 5734</th>\n",
       "      <td>1</td>\n",
       "    </tr>\n",
       "    <tr>\n",
       "      <th>W/C 14208</th>\n",
       "      <td>1</td>\n",
       "    </tr>\n",
       "    <tr>\n",
       "      <th>WE/P 5735</th>\n",
       "      <td>2</td>\n",
       "    </tr>\n",
       "  </tbody>\n",
       "</table>\n",
       "<p>578 rows × 1 columns</p>\n",
       "</div>"
      ],
      "text/plain": [
       "             Ticket\n",
       "Ticket             \n",
       "110152            3\n",
       "110413            3\n",
       "110465            2\n",
       "110564            1\n",
       "110813            1\n",
       "...             ...\n",
       "W./C. 14263       1\n",
       "W./C. 6608        4\n",
       "W.E.P. 5734       1\n",
       "W/C 14208         1\n",
       "WE/P 5735         2\n",
       "\n",
       "[578 rows x 1 columns]"
      ]
     },
     "execution_count": 213,
     "metadata": {},
     "output_type": "execute_result"
    }
   ],
   "source": [
    "# Do ticket numbers occur more than once? \n",
    "# Probalbly some passengers travel on one ticket (eg family tickets)\n",
    "df_train.groupby(['Ticket'])[['Ticket']].count()"
   ]
  },
  {
   "cell_type": "code",
   "execution_count": 214,
   "metadata": {
    "hidden": true
   },
   "outputs": [
    {
     "data": {
      "text/html": [
       "<div>\n",
       "<style scoped>\n",
       "    .dataframe tbody tr th:only-of-type {\n",
       "        vertical-align: middle;\n",
       "    }\n",
       "\n",
       "    .dataframe tbody tr th {\n",
       "        vertical-align: top;\n",
       "    }\n",
       "\n",
       "    .dataframe thead th {\n",
       "        text-align: right;\n",
       "    }\n",
       "</style>\n",
       "<table border=\"1\" class=\"dataframe\">\n",
       "  <thead>\n",
       "    <tr style=\"text-align: right;\">\n",
       "      <th></th>\n",
       "      <th>Pclass</th>\n",
       "      <th>Name</th>\n",
       "      <th>Sex</th>\n",
       "      <th>Age</th>\n",
       "      <th>SibSp</th>\n",
       "      <th>Parch</th>\n",
       "      <th>Ticket</th>\n",
       "      <th>Fare</th>\n",
       "      <th>Cabin</th>\n",
       "      <th>Embarked</th>\n",
       "      <th>Survived</th>\n",
       "      <th>Title</th>\n",
       "      <th>Lastname</th>\n",
       "      <th>title_and_firstname</th>\n",
       "      <th>occ_of_ticket</th>\n",
       "    </tr>\n",
       "    <tr>\n",
       "      <th>PassengerId</th>\n",
       "      <th></th>\n",
       "      <th></th>\n",
       "      <th></th>\n",
       "      <th></th>\n",
       "      <th></th>\n",
       "      <th></th>\n",
       "      <th></th>\n",
       "      <th></th>\n",
       "      <th></th>\n",
       "      <th></th>\n",
       "      <th></th>\n",
       "      <th></th>\n",
       "      <th></th>\n",
       "      <th></th>\n",
       "      <th></th>\n",
       "    </tr>\n",
       "  </thead>\n",
       "  <tbody>\n",
       "    <tr>\n",
       "      <th>9</th>\n",
       "      <td>3</td>\n",
       "      <td>Johnson, Mrs. Oscar W (Elisabeth Vilhelmina Berg)</td>\n",
       "      <td>female</td>\n",
       "      <td>27.0</td>\n",
       "      <td>0</td>\n",
       "      <td>2</td>\n",
       "      <td>347742</td>\n",
       "      <td>11.1333</td>\n",
       "      <td>NaN</td>\n",
       "      <td>S</td>\n",
       "      <td>1</td>\n",
       "      <td>Mrs.</td>\n",
       "      <td>Johnson</td>\n",
       "      <td>Mrs. Oscar W (Elisabeth Vilhelmina Berg)</td>\n",
       "      <td>2</td>\n",
       "    </tr>\n",
       "    <tr>\n",
       "      <th>151</th>\n",
       "      <td>2</td>\n",
       "      <td>Bateman, Rev. Robert James</td>\n",
       "      <td>male</td>\n",
       "      <td>51.0</td>\n",
       "      <td>0</td>\n",
       "      <td>0</td>\n",
       "      <td>S.O.P. 1166</td>\n",
       "      <td>12.5250</td>\n",
       "      <td>NaN</td>\n",
       "      <td>S</td>\n",
       "      <td>0</td>\n",
       "      <td>Rev.</td>\n",
       "      <td>Bateman</td>\n",
       "      <td>Rev. Robert James</td>\n",
       "      <td>1</td>\n",
       "    </tr>\n",
       "    <tr>\n",
       "      <th>222</th>\n",
       "      <td>2</td>\n",
       "      <td>Bracken, Mr. James H</td>\n",
       "      <td>male</td>\n",
       "      <td>27.0</td>\n",
       "      <td>0</td>\n",
       "      <td>0</td>\n",
       "      <td>220367</td>\n",
       "      <td>13.0000</td>\n",
       "      <td>NaN</td>\n",
       "      <td>S</td>\n",
       "      <td>0</td>\n",
       "      <td>Mr.</td>\n",
       "      <td>Bracken</td>\n",
       "      <td>Mr. James H</td>\n",
       "      <td>1</td>\n",
       "    </tr>\n",
       "  </tbody>\n",
       "</table>\n",
       "</div>"
      ],
      "text/plain": [
       "             Pclass                                               Name  \\\n",
       "PassengerId                                                              \n",
       "9                 3  Johnson, Mrs. Oscar W (Elisabeth Vilhelmina Berg)   \n",
       "151               2                         Bateman, Rev. Robert James   \n",
       "222               2                               Bracken, Mr. James H   \n",
       "\n",
       "                Sex   Age  SibSp  Parch       Ticket     Fare Cabin Embarked  \\\n",
       "PassengerId                                                                    \n",
       "9            female  27.0      0      2       347742  11.1333   NaN        S   \n",
       "151            male  51.0      0      0  S.O.P. 1166  12.5250   NaN        S   \n",
       "222            male  27.0      0      0       220367  13.0000   NaN        S   \n",
       "\n",
       "             Survived Title Lastname  \\\n",
       "PassengerId                            \n",
       "9                   1  Mrs.  Johnson   \n",
       "151                 0  Rev.  Bateman   \n",
       "222                 0   Mr.  Bracken   \n",
       "\n",
       "                                   title_and_firstname  occ_of_ticket  \n",
       "PassengerId                                                            \n",
       "9             Mrs. Oscar W (Elisabeth Vilhelmina Berg)              2  \n",
       "151                                  Rev. Robert James              1  \n",
       "222                                        Mr. James H              1  "
      ]
     },
     "execution_count": 214,
     "metadata": {},
     "output_type": "execute_result"
    }
   ],
   "source": [
    "df_train['occ_of_ticket'] = df_train.groupby(['Ticket'])['Ticket'].transform('count')\n",
    "df_train.head(3)"
   ]
  },
  {
   "cell_type": "code",
   "execution_count": 215,
   "metadata": {
    "hidden": true
   },
   "outputs": [
    {
     "data": {
      "image/png": "[encoded data removed]",
      "text/plain": [
       "<Figure size 432x288 with 1 Axes>"
      ]
     },
     "metadata": {},
     "output_type": "display_data"
    }
   ],
   "source": [
    "# Tickets that are connected to two or three persons seem to increase the probabilty to survive.\n",
    "sns.countplot(data=df_train,x=df_train['occ_of_ticket'],hue='Survived');"
   ]
  },
  {
   "cell_type": "markdown",
   "metadata": {
    "heading_collapsed": true,
    "hidden": true
   },
   "source": [
    "##### Step 3.2.9 - Fare"
   ]
  },
  {
   "cell_type": "code",
   "execution_count": 216,
   "metadata": {
    "hidden": true
   },
   "outputs": [
    {
     "data": {
      "image/png": "[encoded data removed]",
      "text/plain": [
       "<Figure size 432x288 with 1 Axes>"
      ]
     },
     "metadata": {},
     "output_type": "display_data"
    }
   ],
   "source": [
    "# Distribution of the fare and plotting survived and not survived.\n",
    "# The more expensive the fare the higher the chances to survive\n",
    "sns.histplot(data=df_train,x=df_train['Fare'],hue='Survived', stat='count', kde=True);"
   ]
  },
  {
   "cell_type": "markdown",
   "metadata": {
    "heading_collapsed": true,
    "hidden": true
   },
   "source": [
    "##### Step 3.2.10 - Cabin"
   ]
  },
  {
   "cell_type": "code",
   "execution_count": 217,
   "metadata": {
    "hidden": true
   },
   "outputs": [
    {
     "data": {
      "text/html": [
       "<div>\n",
       "<style scoped>\n",
       "    .dataframe tbody tr th:only-of-type {\n",
       "        vertical-align: middle;\n",
       "    }\n",
       "\n",
       "    .dataframe tbody tr th {\n",
       "        vertical-align: top;\n",
       "    }\n",
       "\n",
       "    .dataframe thead th {\n",
       "        text-align: right;\n",
       "    }\n",
       "</style>\n",
       "<table border=\"1\" class=\"dataframe\">\n",
       "  <thead>\n",
       "    <tr style=\"text-align: right;\">\n",
       "      <th></th>\n",
       "      <th>Cabin</th>\n",
       "    </tr>\n",
       "    <tr>\n",
       "      <th>PassengerId</th>\n",
       "      <th></th>\n",
       "    </tr>\n",
       "  </thead>\n",
       "  <tbody>\n",
       "    <tr>\n",
       "      <th>450</th>\n",
       "      <td>C104</td>\n",
       "    </tr>\n",
       "    <tr>\n",
       "      <th>340</th>\n",
       "      <td>T</td>\n",
       "    </tr>\n",
       "    <tr>\n",
       "      <th>171</th>\n",
       "      <td>B19</td>\n",
       "    </tr>\n",
       "    <tr>\n",
       "      <th>497</th>\n",
       "      <td>D20</td>\n",
       "    </tr>\n",
       "    <tr>\n",
       "      <th>557</th>\n",
       "      <td>A16</td>\n",
       "    </tr>\n",
       "    <tr>\n",
       "      <th>...</th>\n",
       "      <td>...</td>\n",
       "    </tr>\n",
       "    <tr>\n",
       "      <th>292</th>\n",
       "      <td>B49</td>\n",
       "    </tr>\n",
       "    <tr>\n",
       "      <th>270</th>\n",
       "      <td>C99</td>\n",
       "    </tr>\n",
       "    <tr>\n",
       "      <th>631</th>\n",
       "      <td>A23</td>\n",
       "    </tr>\n",
       "    <tr>\n",
       "      <th>474</th>\n",
       "      <td>D</td>\n",
       "    </tr>\n",
       "    <tr>\n",
       "      <th>391</th>\n",
       "      <td>B96 B98</td>\n",
       "    </tr>\n",
       "  </tbody>\n",
       "</table>\n",
       "<p>151 rows × 1 columns</p>\n",
       "</div>"
      ],
      "text/plain": [
       "               Cabin\n",
       "PassengerId         \n",
       "450             C104\n",
       "340                T\n",
       "171              B19\n",
       "497              D20\n",
       "557              A16\n",
       "...              ...\n",
       "292              B49\n",
       "270              C99\n",
       "631              A23\n",
       "474                D\n",
       "391          B96 B98\n",
       "\n",
       "[151 rows x 1 columns]"
      ]
     },
     "execution_count": 217,
     "metadata": {},
     "output_type": "execute_result"
    }
   ],
   "source": [
    "df_train[df_train[\"Cabin\"].notnull()][[\"Cabin\"]]"
   ]
  },
  {
   "cell_type": "code",
   "execution_count": 218,
   "metadata": {
    "hidden": true
   },
   "outputs": [
    {
     "data": {
      "text/html": [
       "<div>\n",
       "<style scoped>\n",
       "    .dataframe tbody tr th:only-of-type {\n",
       "        vertical-align: middle;\n",
       "    }\n",
       "\n",
       "    .dataframe tbody tr th {\n",
       "        vertical-align: top;\n",
       "    }\n",
       "\n",
       "    .dataframe thead th {\n",
       "        text-align: right;\n",
       "    }\n",
       "</style>\n",
       "<table border=\"1\" class=\"dataframe\">\n",
       "  <thead>\n",
       "    <tr style=\"text-align: right;\">\n",
       "      <th></th>\n",
       "      <th>Cabin_Category</th>\n",
       "    </tr>\n",
       "    <tr>\n",
       "      <th>PassengerId</th>\n",
       "      <th></th>\n",
       "    </tr>\n",
       "  </thead>\n",
       "  <tbody>\n",
       "    <tr>\n",
       "      <th>450</th>\n",
       "      <td>C</td>\n",
       "    </tr>\n",
       "    <tr>\n",
       "      <th>340</th>\n",
       "      <td>T</td>\n",
       "    </tr>\n",
       "    <tr>\n",
       "      <th>171</th>\n",
       "      <td>B</td>\n",
       "    </tr>\n",
       "    <tr>\n",
       "      <th>497</th>\n",
       "      <td>D</td>\n",
       "    </tr>\n",
       "    <tr>\n",
       "      <th>557</th>\n",
       "      <td>A</td>\n",
       "    </tr>\n",
       "    <tr>\n",
       "      <th>...</th>\n",
       "      <td>...</td>\n",
       "    </tr>\n",
       "    <tr>\n",
       "      <th>292</th>\n",
       "      <td>B</td>\n",
       "    </tr>\n",
       "    <tr>\n",
       "      <th>270</th>\n",
       "      <td>C</td>\n",
       "    </tr>\n",
       "    <tr>\n",
       "      <th>631</th>\n",
       "      <td>A</td>\n",
       "    </tr>\n",
       "    <tr>\n",
       "      <th>474</th>\n",
       "      <td>D</td>\n",
       "    </tr>\n",
       "    <tr>\n",
       "      <th>391</th>\n",
       "      <td>BB</td>\n",
       "    </tr>\n",
       "  </tbody>\n",
       "</table>\n",
       "<p>151 rows × 1 columns</p>\n",
       "</div>"
      ],
      "text/plain": [
       "            Cabin_Category\n",
       "PassengerId               \n",
       "450                      C\n",
       "340                      T\n",
       "171                      B\n",
       "497                      D\n",
       "557                      A\n",
       "...                    ...\n",
       "292                      B\n",
       "270                      C\n",
       "631                      A\n",
       "474                      D\n",
       "391                     BB\n",
       "\n",
       "[151 rows x 1 columns]"
      ]
     },
     "execution_count": 218,
     "metadata": {},
     "output_type": "execute_result"
    }
   ],
   "source": [
    "# It could be an approach to use the letter code, \n",
    "# which could possibly indicate the deck or any other location on the titanic\n",
    "df_train[\"Cabin\"] = df_train[\"Cabin\"].str.replace('\\d+', '')\n",
    "df_train[\"Cabin\"] = df_train[\"Cabin\"].str.replace(' ', '')\n",
    "df_train.rename(columns={'Cabin':'Cabin_Category'}, inplace=True)\n",
    "\n",
    "df_train[df_train[\"Cabin_Category\"].notnull()][[\"Cabin_Category\"]]"
   ]
  },
  {
   "cell_type": "code",
   "execution_count": 219,
   "metadata": {
    "hidden": true
   },
   "outputs": [
    {
     "data": {
      "text/plain": [
       "array([nan, 'C', 'T', 'B', 'D', 'A', 'E', 'BBBB', 'BB', 'BBB', 'G', 'F',\n",
       "       'CC', 'FE', 'FG'], dtype=object)"
      ]
     },
     "execution_count": 219,
     "metadata": {},
     "output_type": "execute_result"
    }
   ],
   "source": [
    "df_train[\"Cabin_Category\"].unique()"
   ]
  },
  {
   "cell_type": "code",
   "execution_count": 220,
   "metadata": {
    "hidden": true
   },
   "outputs": [
    {
     "data": {
      "image/png": "[encoded data removed]",
      "text/plain": [
       "<Figure size 432x288 with 1 Axes>"
      ]
     },
     "metadata": {},
     "output_type": "display_data"
    }
   ],
   "source": [
    "# Having a cabin leads mostly to a higher probabilty to survive, especially for the cabin categories B, D, E and F\n",
    "sns.countplot(  data  = df_train\n",
    "              , x     = df_train['Cabin_Category']\n",
    "              , hue   = 'Survived'\n",
    "             ); "
   ]
  },
  {
   "cell_type": "markdown",
   "metadata": {
    "heading_collapsed": true,
    "hidden": true
   },
   "source": [
    "##### Step 3.2.11 - Embarked"
   ]
  },
  {
   "cell_type": "code",
   "execution_count": 221,
   "metadata": {
    "hidden": true
   },
   "outputs": [
    {
     "data": {
      "image/png": "[encoded data removed]",
      "text/plain": [
       "<Figure size 432x288 with 1 Axes>"
      ]
     },
     "metadata": {},
     "output_type": "display_data"
    }
   ],
   "source": [
    "# Who embarked in S, C and Q? Did in C embark mainly blue collar?\n",
    "sns.countplot(  data  = df_train\n",
    "              , x     = df_train['Embarked']\n",
    "              , hue   = 'Survived'\n",
    "             ); "
   ]
  },
  {
   "cell_type": "markdown",
   "metadata": {
    "heading_collapsed": true,
    "hidden": true
   },
   "source": [
    "##### Step 3.2.12 - Survived"
   ]
  },
  {
   "cell_type": "code",
   "execution_count": 222,
   "metadata": {
    "hidden": true
   },
   "outputs": [
    {
     "data": {
      "text/plain": [
       "<AxesSubplot:xlabel='Survived', ylabel='count'>"
      ]
     },
     "execution_count": 222,
     "metadata": {},
     "output_type": "execute_result"
    },
    {
     "data": {
      "image/png": "[encoded data removed]",
      "text/plain": [
       "<Figure size 432x288 with 1 Axes>"
      ]
     },
     "metadata": {},
     "output_type": "display_data"
    }
   ],
   "source": [
    "# Are we dealing with imbalanced data?\n",
    "sns.countplot(x=df_train[\"Survived\"]) \n",
    "# data is only slightly imbalanced"
   ]
  },
  {
   "cell_type": "markdown",
   "metadata": {
    "heading_collapsed": true
   },
   "source": [
    "### **Conclusion from the EDA**\n",
    "\n",
    "<hr style=\"border:2px solid black\">\n",
    "\n",
    "    - Age: impute missing values by mean grouped by Pclass and Sex, remove outliers, standardize, dicretize (5 years)\n",
    "\n",
    "    - Fare: log-transformation (because it is highly skewed), standardize\n",
    "\n",
    "\t- Pclass: encoding \n",
    "\t\n",
    "\t- SibSp: encoding\n",
    "\t\n",
    "\t- Embarked: encoding\n",
    "\t\n",
    "\t- Cabin: impute missing values with \"-\", extract the cabon category, encoding\n",
    "\t\n",
    "\t- Name: extract the title, encoding \n",
    "\t\n",
    "\t- Sex: encoding\n",
    "\t\n",
    "\t- Parch: encoding\n",
    "\t\n",
    "\t- Tickets: count no of ticket occurences, encoding\n",
    "\t\n",
    "\t- Survived: balance the response variable with SMOTE (not for the baseline model)\n",
    "\t\n",
    "\t- use a random forest as a baseline model and get the feature importance\n",
    "\n",
    "<hr style=\"border:2px solid black\">"
   ]
  },
  {
   "cell_type": "markdown",
   "metadata": {},
   "source": [
    "### Step 4 - cleaning & scaling"
   ]
  },
  {
   "cell_type": "markdown",
   "metadata": {},
   "source": [
    "   - *Fix or remove outliers (otional).*\n",
    "   - *Fill in missing values (e.g. with zero, mean, median ...) or drop their rows (or columns).*\n",
    "   - *Standadize or nomalize features*"
   ]
  },
  {
   "cell_type": "markdown",
   "metadata": {},
   "source": [
    "#### Step 4.1 - impute missing values"
   ]
  },
  {
   "cell_type": "markdown",
   "metadata": {},
   "source": [
    "**Embarked**"
   ]
  },
  {
   "cell_type": "code",
   "execution_count": 223,
   "metadata": {},
   "outputs": [],
   "source": [
    "# Embarked: impute missing values with mode \n",
    "def embarked_imp(dataframe):\n",
    "    dataframe['Embarked'].fillna(dataframe['Embarked'].mode()[0], inplace=True)\n",
    "    return dataframe"
   ]
  },
  {
   "cell_type": "markdown",
   "metadata": {},
   "source": [
    "**Age**"
   ]
  },
  {
   "cell_type": "code",
   "execution_count": 224,
   "metadata": {},
   "outputs": [],
   "source": [
    "# Age: impute missing values with mean grouped by Pclass and Sex\n",
    "def age_imp(dataframe):\n",
    "    groupmeans = dataframe.groupby(['Sex','Pclass'])['Age'].transform('mean')\n",
    "    dataframe['Age'].fillna(groupmeans, inplace=True)\n",
    "    return dataframe"
   ]
  },
  {
   "cell_type": "markdown",
   "metadata": {},
   "source": [
    "**Fare**"
   ]
  },
  {
   "cell_type": "code",
   "execution_count": 225,
   "metadata": {},
   "outputs": [],
   "source": [
    "# Fare: impute missing values with mean grouped by Pclass and Embarked\n",
    "def fare_imp(dataframe):\n",
    "    groupmeans = dataframe.groupby(['Embarked','Pclass'])['Age'].transform('mean')\n",
    "    dataframe['Fare'].fillna(groupmeans, inplace=True)\n",
    "    return dataframe"
   ]
  },
  {
   "cell_type": "markdown",
   "metadata": {},
   "source": [
    "**Cabin**"
   ]
  },
  {
   "cell_type": "code",
   "execution_count": 226,
   "metadata": {},
   "outputs": [],
   "source": [
    "# Cabin: impute missing values with '-'\n",
    "def cabin_imp(dataframe):\n",
    "    dataframe['Cabin'].fillna('-', inplace=True)\n",
    "    return dataframe"
   ]
  },
  {
   "cell_type": "markdown",
   "metadata": {},
   "source": [
    "#### Step 4.2 - scaling"
   ]
  },
  {
   "cell_type": "code",
   "execution_count": 227,
   "metadata": {},
   "outputs": [],
   "source": [
    "################################################################################\n",
    "### list of numeric features that will be needed for the numeric transformer ###\n",
    "################################################################################\n",
    "def num_feat(dataframe):\n",
    "    cols_to_remove = ['PassengerId','Survived','Name','Ticket','title_and_firstname','Lastname']\n",
    "\n",
    "    numerical_features = list(dataframe.select_dtypes(include=['float64']).columns)\n",
    "    numerical_features = [col for col in numerical_features if col not in cols_to_remove]\n",
    "    return numerical_features "
   ]
  },
  {
   "cell_type": "code",
   "execution_count": 228,
   "metadata": {},
   "outputs": [],
   "source": [
    "numerical_features = ['Age', 'Fare', 'Fare_log']"
   ]
  },
  {
   "cell_type": "code",
   "execution_count": 229,
   "metadata": {},
   "outputs": [],
   "source": [
    "# standard scaler and simple imputer for floats (in case the test or production data contain missing data that couldn't be spotted during the training)\n",
    "numeric_steps =     [('imputer' , SimpleImputer(strategy = 'mean')), \n",
    "                     ('scaler'  , StandardScaler()                )     \n",
    "                    ]\n",
    "\n",
    "numeric_transformer = Pipeline(numeric_steps)"
   ]
  },
  {
   "cell_type": "markdown",
   "metadata": {},
   "source": [
    "#### Step 4.3 - interpolation"
   ]
  },
  {
   "cell_type": "code",
   "execution_count": 230,
   "metadata": {},
   "outputs": [],
   "source": [
    "# not needed, because no time series"
   ]
  },
  {
   "cell_type": "markdown",
   "metadata": {},
   "source": [
    "#### Step 4.4 - remove duplicates and outliers"
   ]
  },
  {
   "cell_type": "code",
   "execution_count": 231,
   "metadata": {},
   "outputs": [],
   "source": [
    "def drop_dupl(dataframe):\n",
    "    dataframe.drop_duplicates(inplace=True)\n",
    "    return dataframe"
   ]
  },
  {
   "cell_type": "markdown",
   "metadata": {},
   "source": [
    "**Age**"
   ]
  },
  {
   "cell_type": "code",
   "execution_count": 232,
   "metadata": {},
   "outputs": [],
   "source": [
    "# remove data points that are 3sd+ from Age with z-score\n",
    "def age_zscore(dataframe):\n",
    "    z = np.abs(stats.zscore(dataframe['Age']))\n",
    "    outlier = list(np.where(z > 3)[0])\n",
    "    dataframe.drop(dataframe.index[outlier], inplace=True)\n",
    "    return dataframe"
   ]
  },
  {
   "cell_type": "markdown",
   "metadata": {},
   "source": [
    "### Step 5 - feature engineering"
   ]
  },
  {
   "cell_type": "markdown",
   "metadata": {},
   "source": [
    "   - *Discretize continious features.*\n",
    "   - *Decompose features (e.g. categorical, date/time, etc.).*\n",
    "   - *Add promising transformations of features (e.g. log(x), sqrt(x), x^2, etc.).*\n",
    "   - *Aggregate features into promising new features.*"
   ]
  },
  {
   "cell_type": "markdown",
   "metadata": {},
   "source": [
    "#### Step 5.1 - feature extraction, decomposition and transformation"
   ]
  },
  {
   "cell_type": "code",
   "execution_count": 233,
   "metadata": {},
   "outputs": [],
   "source": [
    "def name_extract(dataframe):\n",
    "    df_names = dataframe[\"Name\"].str.split(',', expand=True)\n",
    "    df_names.rename(columns={0:'Lastname', 1:'title_and_firstname'}, inplace=True)\n",
    "    \n",
    "    df_titles = df_names[\"title_and_firstname\"].str.split(' ', expand=True)\n",
    "    df_titles.rename(columns={1:'Title'}, inplace=True)\n",
    "    df_titles = df_titles[[\"Title\"]]\n",
    "\n",
    "    dataframe = pd.concat([dataframe, df_names, df_titles], axis=1)\n",
    "    return dataframe"
   ]
  },
  {
   "cell_type": "code",
   "execution_count": 234,
   "metadata": {},
   "outputs": [],
   "source": [
    "def fare_log(dataframe):\n",
    "    dataframe['Fare_log'] = np.log(dataframe['Fare'], where = dataframe['Fare'] > 0)\n",
    "    return dataframe"
   ]
  },
  {
   "cell_type": "code",
   "execution_count": 235,
   "metadata": {},
   "outputs": [],
   "source": [
    "def cabin_extract(dataframe):\n",
    "    dataframe[\"Cabin\"] = dataframe[\"Cabin\"].str.replace('\\d+', '')\n",
    "    dataframe[\"Cabin\"] = dataframe[\"Cabin\"].str.replace(' ', '')\n",
    "    dataframe.rename(columns={'Cabin':'Cabin_Category'}, inplace=True)\n",
    "    return dataframe"
   ]
  },
  {
   "cell_type": "code",
   "execution_count": 236,
   "metadata": {},
   "outputs": [],
   "source": [
    "def ticket_occ(dataframe):\n",
    "    dataframe['occ_of_ticket'] = dataframe.groupby(['Ticket'])['Ticket'].transform('count')\n",
    "    return dataframe"
   ]
  },
  {
   "cell_type": "markdown",
   "metadata": {},
   "source": [
    "#### Step 5.2 - encoding of categorical features"
   ]
  },
  {
   "cell_type": "code",
   "execution_count": 237,
   "metadata": {},
   "outputs": [],
   "source": [
    "####################################################################################\n",
    "### list of categorical features that will be needed for the numeric transformer ###\n",
    "####################################################################################\n",
    "def cat_feat(dataframe):\n",
    "    cols_to_remove = ['PassengerId','Survived','Name','Ticket','title_and_firstname','Lastname']\n",
    "\n",
    "    categorical_features = list(dataframe.select_dtypes(include=['int64','object']).columns)\n",
    "    categorical_features = [col for col in categorical_features if col not in cols_to_remove]\n",
    "    return categorical_features "
   ]
  },
  {
   "cell_type": "code",
   "execution_count": 238,
   "metadata": {},
   "outputs": [],
   "source": [
    "categorical_features = ['Pclass', 'Sex', 'SibSp', 'Parch', 'Cabin_Category', 'Embarked', 'Title', 'occ_of_ticket']"
   ]
  },
  {
   "cell_type": "code",
   "execution_count": 239,
   "metadata": {},
   "outputs": [],
   "source": [
    "# standard scaler and simple imputer for floats (in case the test or production data contain missing data that couldn't be spotted during the training)\n",
    "categorical_steps = [('imputer' , SimpleImputer(strategy       = 'most_frequent' )),\n",
    "                     ('onehot'  , OneHotEncoder(handle_unknown = 'ignore'        ))\n",
    "                    ]\n",
    "\n",
    "categorical_transformer = Pipeline(categorical_steps)"
   ]
  },
  {
   "cell_type": "markdown",
   "metadata": {},
   "source": [
    "#### Step 5.3 - discretizing of continious features"
   ]
  },
  {
   "cell_type": "code",
   "execution_count": 240,
   "metadata": {},
   "outputs": [],
   "source": [
    "# dicetize the age into bins of five years\n",
    "discretizer_step        = [('discretizer', KBinsDiscretizer(n_bins=5, encode='onehot', strategy='quantile', dtype=None, subsample='warn', random_state=None))]\n",
    "\n",
    "discretizer_transformer = Pipeline(discretizer_step)"
   ]
  },
  {
   "cell_type": "markdown",
   "metadata": {},
   "source": [
    "#### Step 5.4 - drop features"
   ]
  },
  {
   "cell_type": "code",
   "execution_count": 241,
   "metadata": {},
   "outputs": [],
   "source": [
    "def drop_feat(dataframe):\n",
    "    cols_to_remove = ['PassengerId','Survived','Name','Ticket','title_and_firstname','Lastname']\n",
    "    dataframe.drop([x for x in cols_to_remove if x in dataframe.columns], axis=1, inplace=True)\n",
    "    return dataframe"
   ]
  },
  {
   "cell_type": "markdown",
   "metadata": {},
   "source": [
    "#### Step 5.5 - sampling strategy in case of imbalanced data"
   ]
  },
  {
   "cell_type": "code",
   "execution_count": 242,
   "metadata": {},
   "outputs": [],
   "source": [
    "sample_step = [('smote', SMOTE(random_state=11))]\n",
    "\n",
    "sample_transformer = Pipeline(sample_step)"
   ]
  },
  {
   "cell_type": "markdown",
   "metadata": {
    "heading_collapsed": true
   },
   "source": [
    "#### Step 5.6 - implement polynomials"
   ]
  },
  {
   "cell_type": "code",
   "execution_count": 243,
   "metadata": {
    "hidden": true
   },
   "outputs": [],
   "source": [
    "# not needed"
   ]
  },
  {
   "cell_type": "markdown",
   "metadata": {},
   "source": [
    "### Step 6 - baseline model"
   ]
  },
  {
   "cell_type": "markdown",
   "metadata": {},
   "source": [
    "#### Step 6.1 - create pipeline for the baseline model "
   ]
  },
  {
   "cell_type": "markdown",
   "metadata": {},
   "source": [
    "##### Step 6.1.1 - function and column transformer"
   ]
  },
  {
   "cell_type": "code",
   "execution_count": 244,
   "metadata": {},
   "outputs": [],
   "source": [
    "# imputing \n",
    "embarked_transformer      = FunctionTransformer(embarked_imp)\n",
    "age_transformer           = FunctionTransformer(age_imp)\n",
    "fare_transformer          = FunctionTransformer(fare_imp)\n",
    "cabin_transformer         = FunctionTransformer(cabin_imp)\n",
    "\n",
    "# cleaning and preprocessing\n",
    "num_feat_transformer      = FunctionTransformer(num_feat)\n",
    "cat_feat_transformer      = FunctionTransformer(cat_feat)\n",
    "drop_dupl_transformer     = FunctionTransformer(drop_dupl)\n",
    "\n",
    "# extractions and transformations\n",
    "name_extract_transformer  = FunctionTransformer(name_extract)\n",
    "fare_log_transformer      = FunctionTransformer(fare_log)\n",
    "cabin_extract_transformer = FunctionTransformer(cabin_extract)\n",
    "ticket_occ_transformer    = FunctionTransformer(ticket_occ)\n",
    "\n",
    "# drop features\n",
    "drop_feat_transformer     = FunctionTransformer(drop_feat)\n",
    "\n",
    "# column transformer\n",
    "col_transformer = ColumnTransformer(transformers = [\n",
    "                                                    ('numeric'     ,     numeric_transformer , numerical_features   ),\n",
    "                                                    ('categorical' , categorical_transformer , categorical_features ),\n",
    "                                                    ('discretizer' , discretizer_transformer , numerical_features   )\n",
    "                                                   ] \n",
    "                                   )"
   ]
  },
  {
   "cell_type": "markdown",
   "metadata": {},
   "source": [
    "##### Step 6.1.2 - set up pipeline with estimators"
   ]
  },
  {
   "cell_type": "code",
   "execution_count": 245,
   "metadata": {},
   "outputs": [],
   "source": [
    "class DummyEstimator(BaseEstimator):\n",
    "    def fit(self):   pass\n",
    "    def score(self): pass"
   ]
  },
  {
   "cell_type": "code",
   "execution_count": 246,
   "metadata": {},
   "outputs": [],
   "source": [
    "from imblearn.pipeline         import Pipeline as imbpipeline\n",
    "from imblearn.over_sampling    import SMOTE\n",
    "from sklearn.feature_selection import SelectKBest,f_classif\n",
    "\n",
    "pipeline = imbpipeline([\n",
    "\t\t\t\t\t\t# imputing \n",
    "\t\t\t\t\t\t  ( 'embarked_transformer'\t\t\t\t, embarked_transformer\t\t\t)\n",
    "\t\t\t\t\t\t, ( 'age_transformer'\t\t\t\t\t, age_transformer\t\t\t\t)\n",
    "\t\t\t\t\t\t, ( 'fare_transformer'\t\t\t\t\t, fare_transformer\t\t\t\t)\n",
    "\t\t\t\t\t\t, ( 'cabin_transformer'\t\t\t\t\t, cabin_transformer\t\t\t\t)\n",
    "\n",
    "\t\t\t\t\t\t# cleaning\n",
    "\t\t\t\t\t\t, ( 'drop_dupl_transformer'\t\t\t\t, drop_dupl_transformer\t\t\t)\n",
    "\n",
    "\t\t\t\t\t\t# extractions and transformations\n",
    "\t\t\t\t\t\t, ( 'name_extract_transformer'\t\t\t, name_extract_transformer\t\t)\n",
    "\t\t\t\t\t\t, ( 'fare_log_transformer'\t\t\t\t, fare_log_transformer\t\t\t)\n",
    "\t\t\t\t\t\t, ( 'cabin_extract_transformer'\t\t\t, cabin_extract_transformer\t\t)\n",
    "\t\t\t\t\t\t, ( 'ticket_occ_transformer'\t\t\t, ticket_occ_transformer\t\t)\n",
    "    \n",
    "\t\t\t\t\t\t# drop features\n",
    "\t\t\t\t\t\t, ( 'drop_feat_transformer'\t\t\t\t, drop_feat_transformer\t\t\t)\n",
    "\n",
    "\t\t\t\t\t\t# column transformer\n",
    "\t\t\t\t\t\t, ( 'col_transformer'\t\t\t\t\t, col_transformer\t\t\t\t)\n",
    "\n",
    "\t\t\t\t\t\t# sampling\n",
    "\t\t\t\t\t\t, ( 'smote'\t\t\t\t\t\t\t\t, SMOTE()\t\t\t\t\t\t)\n",
    "\n",
    "\t\t\t\t\t\t# \n",
    "\t\t\t\t\t\t, ('selector'\t\t\t\t\t\t\t, SelectKBest(f_classif)\t\t)\n",
    "    \n",
    "\t\t\t\t\t\t# my estimator ...\n",
    "\t\t\t\t\t\t, ( 'classifier'\t\t\t\t\t\t, DummyEstimator()\t\t\t\t)\n",
    "\n",
    "\t\t\t\t\t])"
   ]
  },
  {
   "cell_type": "code",
   "execution_count": 322,
   "metadata": {},
   "outputs": [
    {
     "data": {
      "text/plain": [
       "{'embarked_transformer': FunctionTransformer(func=<function embarked_imp at 0x7f2e49bb28b0>),\n",
       " 'age_transformer': FunctionTransformer(func=<function age_imp at 0x7f2e49bb2ee0>),\n",
       " 'fare_transformer': FunctionTransformer(func=<function fare_imp at 0x7f2e49e99160>),\n",
       " 'cabin_transformer': FunctionTransformer(func=<function cabin_imp at 0x7f2e49e993a0>),\n",
       " 'drop_dupl_transformer': FunctionTransformer(func=<function drop_dupl at 0x7f2e49eb4550>),\n",
       " 'name_extract_transformer': FunctionTransformer(func=<function name_extract at 0x7f2e49eb45e0>),\n",
       " 'fare_log_transformer': FunctionTransformer(func=<function fare_log at 0x7f2e49eb4e50>),\n",
       " 'cabin_extract_transformer': FunctionTransformer(func=<function cabin_extract at 0x7f2e49ea5310>),\n",
       " 'ticket_occ_transformer': FunctionTransformer(func=<function ticket_occ at 0x7f2e49ea5670>),\n",
       " 'drop_feat_transformer': FunctionTransformer(func=<function drop_feat at 0x7f2e49eae550>),\n",
       " 'col_transformer': ColumnTransformer(transformers=[('numeric',\n",
       "                                  Pipeline(steps=[('imputer', SimpleImputer()),\n",
       "                                                  ('scaler', StandardScaler())]),\n",
       "                                  ['Age', 'Fare', 'Fare_log']),\n",
       "                                 ('categorical',\n",
       "                                  Pipeline(steps=[('imputer',\n",
       "                                                   SimpleImputer(strategy='most_frequent')),\n",
       "                                                  ('onehot',\n",
       "                                                   OneHotEncoder(handle_unknown='ignore'))]),\n",
       "                                  ['Pclass', 'Sex', 'SibSp', 'Parch',\n",
       "                                   'Cabin_Category', 'Embarked', 'Title',\n",
       "                                   'occ_of_ticket']),\n",
       "                                 ('discretizer',\n",
       "                                  Pipeline(steps=[('discretizer',\n",
       "                                                   KBinsDiscretizer())]),\n",
       "                                  ['Age', 'Fare', 'Fare_log'])]),\n",
       " 'smote': SMOTE(),\n",
       " 'selector': SelectKBest(),\n",
       " 'classifier': DummyEstimator()}"
      ]
     },
     "execution_count": 322,
     "metadata": {},
     "output_type": "execute_result"
    }
   ],
   "source": [
    "pipeline.named_steps"
   ]
  },
  {
   "cell_type": "code",
   "execution_count": 323,
   "metadata": {},
   "outputs": [
    {
     "data": {
      "text/plain": [
       "dict_keys(['memory', 'steps', 'verbose', 'embarked_transformer', 'age_transformer', 'fare_transformer', 'cabin_transformer', 'drop_dupl_transformer', 'name_extract_transformer', 'fare_log_transformer', 'cabin_extract_transformer', 'ticket_occ_transformer', 'drop_feat_transformer', 'col_transformer', 'smote', 'selector', 'classifier', 'embarked_transformer__accept_sparse', 'embarked_transformer__check_inverse', 'embarked_transformer__feature_names_out', 'embarked_transformer__func', 'embarked_transformer__inv_kw_args', 'embarked_transformer__inverse_func', 'embarked_transformer__kw_args', 'embarked_transformer__validate', 'age_transformer__accept_sparse', 'age_transformer__check_inverse', 'age_transformer__feature_names_out', 'age_transformer__func', 'age_transformer__inv_kw_args', 'age_transformer__inverse_func', 'age_transformer__kw_args', 'age_transformer__validate', 'fare_transformer__accept_sparse', 'fare_transformer__check_inverse', 'fare_transformer__feature_names_out', 'fare_transformer__func', 'fare_transformer__inv_kw_args', 'fare_transformer__inverse_func', 'fare_transformer__kw_args', 'fare_transformer__validate', 'cabin_transformer__accept_sparse', 'cabin_transformer__check_inverse', 'cabin_transformer__feature_names_out', 'cabin_transformer__func', 'cabin_transformer__inv_kw_args', 'cabin_transformer__inverse_func', 'cabin_transformer__kw_args', 'cabin_transformer__validate', 'drop_dupl_transformer__accept_sparse', 'drop_dupl_transformer__check_inverse', 'drop_dupl_transformer__feature_names_out', 'drop_dupl_transformer__func', 'drop_dupl_transformer__inv_kw_args', 'drop_dupl_transformer__inverse_func', 'drop_dupl_transformer__kw_args', 'drop_dupl_transformer__validate', 'name_extract_transformer__accept_sparse', 'name_extract_transformer__check_inverse', 'name_extract_transformer__feature_names_out', 'name_extract_transformer__func', 'name_extract_transformer__inv_kw_args', 'name_extract_transformer__inverse_func', 'name_extract_transformer__kw_args', 'name_extract_transformer__validate', 'fare_log_transformer__accept_sparse', 'fare_log_transformer__check_inverse', 'fare_log_transformer__feature_names_out', 'fare_log_transformer__func', 'fare_log_transformer__inv_kw_args', 'fare_log_transformer__inverse_func', 'fare_log_transformer__kw_args', 'fare_log_transformer__validate', 'cabin_extract_transformer__accept_sparse', 'cabin_extract_transformer__check_inverse', 'cabin_extract_transformer__feature_names_out', 'cabin_extract_transformer__func', 'cabin_extract_transformer__inv_kw_args', 'cabin_extract_transformer__inverse_func', 'cabin_extract_transformer__kw_args', 'cabin_extract_transformer__validate', 'ticket_occ_transformer__accept_sparse', 'ticket_occ_transformer__check_inverse', 'ticket_occ_transformer__feature_names_out', 'ticket_occ_transformer__func', 'ticket_occ_transformer__inv_kw_args', 'ticket_occ_transformer__inverse_func', 'ticket_occ_transformer__kw_args', 'ticket_occ_transformer__validate', 'drop_feat_transformer__accept_sparse', 'drop_feat_transformer__check_inverse', 'drop_feat_transformer__feature_names_out', 'drop_feat_transformer__func', 'drop_feat_transformer__inv_kw_args', 'drop_feat_transformer__inverse_func', 'drop_feat_transformer__kw_args', 'drop_feat_transformer__validate', 'col_transformer__n_jobs', 'col_transformer__remainder', 'col_transformer__sparse_threshold', 'col_transformer__transformer_weights', 'col_transformer__transformers', 'col_transformer__verbose', 'col_transformer__verbose_feature_names_out', 'col_transformer__numeric', 'col_transformer__categorical', 'col_transformer__discretizer', 'col_transformer__numeric__memory', 'col_transformer__numeric__steps', 'col_transformer__numeric__verbose', 'col_transformer__numeric__imputer', 'col_transformer__numeric__scaler', 'col_transformer__numeric__imputer__add_indicator', 'col_transformer__numeric__imputer__copy', 'col_transformer__numeric__imputer__fill_value', 'col_transformer__numeric__imputer__missing_values', 'col_transformer__numeric__imputer__strategy', 'col_transformer__numeric__imputer__verbose', 'col_transformer__numeric__scaler__copy', 'col_transformer__numeric__scaler__with_mean', 'col_transformer__numeric__scaler__with_std', 'col_transformer__categorical__memory', 'col_transformer__categorical__steps', 'col_transformer__categorical__verbose', 'col_transformer__categorical__imputer', 'col_transformer__categorical__onehot', 'col_transformer__categorical__imputer__add_indicator', 'col_transformer__categorical__imputer__copy', 'col_transformer__categorical__imputer__fill_value', 'col_transformer__categorical__imputer__missing_values', 'col_transformer__categorical__imputer__strategy', 'col_transformer__categorical__imputer__verbose', 'col_transformer__categorical__onehot__categories', 'col_transformer__categorical__onehot__drop', 'col_transformer__categorical__onehot__dtype', 'col_transformer__categorical__onehot__handle_unknown', 'col_transformer__categorical__onehot__max_categories', 'col_transformer__categorical__onehot__min_frequency', 'col_transformer__categorical__onehot__sparse', 'col_transformer__discretizer__memory', 'col_transformer__discretizer__steps', 'col_transformer__discretizer__verbose', 'col_transformer__discretizer__discretizer', 'col_transformer__discretizer__discretizer__dtype', 'col_transformer__discretizer__discretizer__encode', 'col_transformer__discretizer__discretizer__n_bins', 'col_transformer__discretizer__discretizer__random_state', 'col_transformer__discretizer__discretizer__strategy', 'col_transformer__discretizer__discretizer__subsample', 'smote__k_neighbors', 'smote__n_jobs', 'smote__random_state', 'smote__sampling_strategy', 'selector__k', 'selector__score_func'])"
      ]
     },
     "execution_count": 323,
     "metadata": {},
     "output_type": "execute_result"
    }
   ],
   "source": [
    "pipeline.get_params().keys()"
   ]
  },
  {
   "cell_type": "markdown",
   "metadata": {},
   "source": [
    "##### Step 6.1.3 - define the hyperparameter grid"
   ]
  },
  {
   "cell_type": "code",
   "execution_count": 324,
   "metadata": {},
   "outputs": [],
   "source": [
    "hyperparam_grid = [\n",
    "                  {\n",
    "                    'smote__sampling_strategy'    : [0,1],\n",
    "                      \n",
    "                    'classifier'                  : [RandomForestClassifier()],\n",
    "                    'classifier__n_estimators'    : [20,30],\n",
    "                    'classifier__min_samples_leaf': [20,30],\n",
    "                      \n",
    "                    'selector__k'                 : [20,30]\n",
    "                  }\n",
    "]"
   ]
  },
  {
   "cell_type": "code",
   "execution_count": 325,
   "metadata": {},
   "outputs": [],
   "source": [
    "from sklearn.metrics import precision_score, accuracy_score, recall_score, f1_score\n",
    "from sklearn.metrics import make_scorer\n",
    "scoring = {\n",
    "                  \"AUC\"       : \"roc_auc\"\n",
    "                , \"Accuracy\"  : make_scorer(accuracy_score)\n",
    "                , \"Precision\" : make_scorer(precision_score)\n",
    "                , \"Recall\"    : make_scorer(recall_score)\n",
    "                , \"F1-Score\"  : make_scorer(f1_score)\n",
    "}"
   ]
  },
  {
   "cell_type": "code",
   "execution_count": 326,
   "metadata": {},
   "outputs": [],
   "source": [
    "from sklearn.model_selection import train_test_split, GridSearchCV, StratifiedKFold\n",
    "\n",
    "stratified_kfold = StratifiedKFold(n_splits=5,\n",
    "                                       shuffle=True,\n",
    "                                       random_state=11)"
   ]
  },
  {
   "cell_type": "markdown",
   "metadata": {},
   "source": [
    "##### Step 6.1.4 - set up the grid search CV"
   ]
  },
  {
   "cell_type": "code",
   "execution_count": 327,
   "metadata": {},
   "outputs": [],
   "source": [
    "gs = GridSearchCV(\n",
    "                      estimator  = pipeline \n",
    "                    , param_grid = hyperparam_grid                    \n",
    "                   #, cv         = 5\n",
    "                    , cv         = stratified_kfold\n",
    "                    , scoring    = scoring\n",
    "                    , refit      = \"AUC\"\n",
    "                    , return_train_score = True\n",
    "                 )"
   ]
  },
  {
   "cell_type": "markdown",
   "metadata": {},
   "source": [
    "#### Step 6.2 - run the baseline model"
   ]
  },
  {
   "cell_type": "markdown",
   "metadata": {},
   "source": [
    "Explanation:\n",
    "\n",
    "- **values** will give the values in a numpy array (shape: (n,1))\n",
    "\n",
    "- **ravel** will convert that array shape to (n, ) (i.e. flatten it)"
   ]
  },
  {
   "cell_type": "code",
   "execution_count": 328,
   "metadata": {},
   "outputs": [],
   "source": [
    "grid_search = gs.fit(X_train, y_train.values.ravel());"
   ]
  },
  {
   "cell_type": "markdown",
   "metadata": {},
   "source": [
    "#### Step 6.3 - evaluate the model"
   ]
  },
  {
   "cell_type": "code",
   "execution_count": 333,
   "metadata": {},
   "outputs": [
    {
     "data": {
      "text/html": [
       "<div>\n",
       "<style scoped>\n",
       "    .dataframe tbody tr th:only-of-type {\n",
       "        vertical-align: middle;\n",
       "    }\n",
       "\n",
       "    .dataframe tbody tr th {\n",
       "        vertical-align: top;\n",
       "    }\n",
       "\n",
       "    .dataframe thead th {\n",
       "        text-align: right;\n",
       "    }\n",
       "</style>\n",
       "<table border=\"1\" class=\"dataframe\">\n",
       "  <thead>\n",
       "    <tr style=\"text-align: right;\">\n",
       "      <th></th>\n",
       "      <th>mean_fit_time</th>\n",
       "      <th>std_fit_time</th>\n",
       "      <th>mean_score_time</th>\n",
       "      <th>std_score_time</th>\n",
       "      <th>param_classifier</th>\n",
       "      <th>param_classifier__min_samples_leaf</th>\n",
       "      <th>param_classifier__n_estimators</th>\n",
       "      <th>param_selector__k</th>\n",
       "      <th>param_smote__sampling_strategy</th>\n",
       "      <th>params</th>\n",
       "      <th>split0_test_AUC</th>\n",
       "      <th>split1_test_AUC</th>\n",
       "      <th>split2_test_AUC</th>\n",
       "      <th>split3_test_AUC</th>\n",
       "      <th>split4_test_AUC</th>\n",
       "      <th>mean_test_AUC</th>\n",
       "      <th>std_test_AUC</th>\n",
       "      <th>rank_test_AUC</th>\n",
       "      <th>split0_train_AUC</th>\n",
       "      <th>split1_train_AUC</th>\n",
       "      <th>split2_train_AUC</th>\n",
       "      <th>split3_train_AUC</th>\n",
       "      <th>split4_train_AUC</th>\n",
       "      <th>mean_train_AUC</th>\n",
       "      <th>std_train_AUC</th>\n",
       "      <th>split0_test_Accuracy</th>\n",
       "      <th>split1_test_Accuracy</th>\n",
       "      <th>split2_test_Accuracy</th>\n",
       "      <th>split3_test_Accuracy</th>\n",
       "      <th>split4_test_Accuracy</th>\n",
       "      <th>mean_test_Accuracy</th>\n",
       "      <th>std_test_Accuracy</th>\n",
       "      <th>rank_test_Accuracy</th>\n",
       "      <th>split0_train_Accuracy</th>\n",
       "      <th>split1_train_Accuracy</th>\n",
       "      <th>split2_train_Accuracy</th>\n",
       "      <th>split3_train_Accuracy</th>\n",
       "      <th>split4_train_Accuracy</th>\n",
       "      <th>mean_train_Accuracy</th>\n",
       "      <th>std_train_Accuracy</th>\n",
       "      <th>split0_test_Precision</th>\n",
       "      <th>split1_test_Precision</th>\n",
       "      <th>split2_test_Precision</th>\n",
       "      <th>split3_test_Precision</th>\n",
       "      <th>split4_test_Precision</th>\n",
       "      <th>mean_test_Precision</th>\n",
       "      <th>std_test_Precision</th>\n",
       "      <th>rank_test_Precision</th>\n",
       "      <th>split0_train_Precision</th>\n",
       "      <th>split1_train_Precision</th>\n",
       "      <th>split2_train_Precision</th>\n",
       "      <th>split3_train_Precision</th>\n",
       "      <th>split4_train_Precision</th>\n",
       "      <th>mean_train_Precision</th>\n",
       "      <th>std_train_Precision</th>\n",
       "      <th>split0_test_Recall</th>\n",
       "      <th>split1_test_Recall</th>\n",
       "      <th>split2_test_Recall</th>\n",
       "      <th>split3_test_Recall</th>\n",
       "      <th>split4_test_Recall</th>\n",
       "      <th>mean_test_Recall</th>\n",
       "      <th>std_test_Recall</th>\n",
       "      <th>rank_test_Recall</th>\n",
       "      <th>split0_train_Recall</th>\n",
       "      <th>split1_train_Recall</th>\n",
       "      <th>split2_train_Recall</th>\n",
       "      <th>split3_train_Recall</th>\n",
       "      <th>split4_train_Recall</th>\n",
       "      <th>mean_train_Recall</th>\n",
       "      <th>std_train_Recall</th>\n",
       "      <th>split0_test_F1-Score</th>\n",
       "      <th>split1_test_F1-Score</th>\n",
       "      <th>split2_test_F1-Score</th>\n",
       "      <th>split3_test_F1-Score</th>\n",
       "      <th>split4_test_F1-Score</th>\n",
       "      <th>mean_test_F1-Score</th>\n",
       "      <th>std_test_F1-Score</th>\n",
       "      <th>rank_test_F1-Score</th>\n",
       "      <th>split0_train_F1-Score</th>\n",
       "      <th>split1_train_F1-Score</th>\n",
       "      <th>split2_train_F1-Score</th>\n",
       "      <th>split3_train_F1-Score</th>\n",
       "      <th>split4_train_F1-Score</th>\n",
       "      <th>mean_train_F1-Score</th>\n",
       "      <th>std_train_F1-Score</th>\n",
       "    </tr>\n",
       "  </thead>\n",
       "  <tbody>\n",
       "    <tr>\n",
       "      <th>11</th>\n",
       "      <td>0.059300</td>\n",
       "      <td>0.002166</td>\n",
       "      <td>0.061843</td>\n",
       "      <td>0.002156</td>\n",
       "      <td>RandomForestClassifier(min_samples_leaf=20, n_...</td>\n",
       "      <td>30</td>\n",
       "      <td>20</td>\n",
       "      <td>30</td>\n",
       "      <td>1</td>\n",
       "      <td>{'classifier': RandomForestClassifier(min_samp...</td>\n",
       "      <td>0.824948</td>\n",
       "      <td>0.863627</td>\n",
       "      <td>0.860823</td>\n",
       "      <td>0.864103</td>\n",
       "      <td>0.816132</td>\n",
       "      <td>0.845926</td>\n",
       "      <td>0.020945</td>\n",
       "      <td>6</td>\n",
       "      <td>0.874665</td>\n",
       "      <td>0.869472</td>\n",
       "      <td>0.867050</td>\n",
       "      <td>0.869840</td>\n",
       "      <td>0.885536</td>\n",
       "      <td>0.873313</td>\n",
       "      <td>0.006592</td>\n",
       "      <td>0.769231</td>\n",
       "      <td>0.839161</td>\n",
       "      <td>0.838028</td>\n",
       "      <td>0.781690</td>\n",
       "      <td>0.760563</td>\n",
       "      <td>0.797735</td>\n",
       "      <td>0.034033</td>\n",
       "      <td>1</td>\n",
       "      <td>0.796134</td>\n",
       "      <td>0.796134</td>\n",
       "      <td>0.794737</td>\n",
       "      <td>0.803509</td>\n",
       "      <td>0.817544</td>\n",
       "      <td>0.801611</td>\n",
       "      <td>0.008541</td>\n",
       "      <td>0.685185</td>\n",
       "      <td>0.800000</td>\n",
       "      <td>0.788462</td>\n",
       "      <td>0.677966</td>\n",
       "      <td>0.673077</td>\n",
       "      <td>0.724938</td>\n",
       "      <td>0.056826</td>\n",
       "      <td>1</td>\n",
       "      <td>0.702586</td>\n",
       "      <td>0.717593</td>\n",
       "      <td>0.731343</td>\n",
       "      <td>0.741463</td>\n",
       "      <td>0.751174</td>\n",
       "      <td>0.728832</td>\n",
       "      <td>0.017206</td>\n",
       "      <td>0.698113</td>\n",
       "      <td>0.754717</td>\n",
       "      <td>0.773585</td>\n",
       "      <td>0.769231</td>\n",
       "      <td>0.673077</td>\n",
       "      <td>0.733745</td>\n",
       "      <td>0.040587</td>\n",
       "      <td>3</td>\n",
       "      <td>0.776190</td>\n",
       "      <td>0.738095</td>\n",
       "      <td>0.700000</td>\n",
       "      <td>0.720379</td>\n",
       "      <td>0.758294</td>\n",
       "      <td>0.738592</td>\n",
       "      <td>0.026919</td>\n",
       "      <td>0.691589</td>\n",
       "      <td>0.776699</td>\n",
       "      <td>0.780952</td>\n",
       "      <td>0.720721</td>\n",
       "      <td>0.673077</td>\n",
       "      <td>0.728608</td>\n",
       "      <td>0.043747</td>\n",
       "      <td>2</td>\n",
       "      <td>0.737557</td>\n",
       "      <td>0.727700</td>\n",
       "      <td>0.715328</td>\n",
       "      <td>0.730769</td>\n",
       "      <td>0.754717</td>\n",
       "      <td>0.733214</td>\n",
       "      <td>0.012942</td>\n",
       "    </tr>\n",
       "    <tr>\n",
       "      <th>1</th>\n",
       "      <td>0.059784</td>\n",
       "      <td>0.001378</td>\n",
       "      <td>0.061531</td>\n",
       "      <td>0.001399</td>\n",
       "      <td>RandomForestClassifier(min_samples_leaf=20, n_...</td>\n",
       "      <td>20</td>\n",
       "      <td>20</td>\n",
       "      <td>20</td>\n",
       "      <td>1</td>\n",
       "      <td>{'classifier': RandomForestClassifier(min_samp...</td>\n",
       "      <td>0.825996</td>\n",
       "      <td>0.872642</td>\n",
       "      <td>0.865063</td>\n",
       "      <td>0.868483</td>\n",
       "      <td>0.798077</td>\n",
       "      <td>0.846052</td>\n",
       "      <td>0.029242</td>\n",
       "      <td>5</td>\n",
       "      <td>0.884806</td>\n",
       "      <td>0.885887</td>\n",
       "      <td>0.879649</td>\n",
       "      <td>0.883206</td>\n",
       "      <td>0.887517</td>\n",
       "      <td>0.884213</td>\n",
       "      <td>0.002680</td>\n",
       "      <td>0.797203</td>\n",
       "      <td>0.825175</td>\n",
       "      <td>0.838028</td>\n",
       "      <td>0.781690</td>\n",
       "      <td>0.739437</td>\n",
       "      <td>0.796307</td>\n",
       "      <td>0.034706</td>\n",
       "      <td>2</td>\n",
       "      <td>0.797891</td>\n",
       "      <td>0.794376</td>\n",
       "      <td>0.794737</td>\n",
       "      <td>0.814035</td>\n",
       "      <td>0.810526</td>\n",
       "      <td>0.802313</td>\n",
       "      <td>0.008304</td>\n",
       "      <td>0.730769</td>\n",
       "      <td>0.769231</td>\n",
       "      <td>0.777778</td>\n",
       "      <td>0.672131</td>\n",
       "      <td>0.641509</td>\n",
       "      <td>0.718284</td>\n",
       "      <td>0.053508</td>\n",
       "      <td>4</td>\n",
       "      <td>0.705628</td>\n",
       "      <td>0.703057</td>\n",
       "      <td>0.716279</td>\n",
       "      <td>0.746479</td>\n",
       "      <td>0.728889</td>\n",
       "      <td>0.720066</td>\n",
       "      <td>0.016047</td>\n",
       "      <td>0.716981</td>\n",
       "      <td>0.754717</td>\n",
       "      <td>0.792453</td>\n",
       "      <td>0.788462</td>\n",
       "      <td>0.653846</td>\n",
       "      <td>0.741292</td>\n",
       "      <td>0.051498</td>\n",
       "      <td>2</td>\n",
       "      <td>0.776190</td>\n",
       "      <td>0.766667</td>\n",
       "      <td>0.733333</td>\n",
       "      <td>0.753555</td>\n",
       "      <td>0.777251</td>\n",
       "      <td>0.761399</td>\n",
       "      <td>0.016414</td>\n",
       "      <td>0.723810</td>\n",
       "      <td>0.761905</td>\n",
       "      <td>0.785047</td>\n",
       "      <td>0.725664</td>\n",
       "      <td>0.647619</td>\n",
       "      <td>0.728809</td>\n",
       "      <td>0.046658</td>\n",
       "      <td>1</td>\n",
       "      <td>0.739229</td>\n",
       "      <td>0.733485</td>\n",
       "      <td>0.724706</td>\n",
       "      <td>0.750000</td>\n",
       "      <td>0.752294</td>\n",
       "      <td>0.739943</td>\n",
       "      <td>0.010277</td>\n",
       "    </tr>\n",
       "    <tr>\n",
       "      <th>5</th>\n",
       "      <td>0.071429</td>\n",
       "      <td>0.001388</td>\n",
       "      <td>0.063111</td>\n",
       "      <td>0.000932</td>\n",
       "      <td>RandomForestClassifier(min_samples_leaf=20, n_...</td>\n",
       "      <td>20</td>\n",
       "      <td>30</td>\n",
       "      <td>20</td>\n",
       "      <td>1</td>\n",
       "      <td>{'classifier': RandomForestClassifier(min_samp...</td>\n",
       "      <td>0.839308</td>\n",
       "      <td>0.869602</td>\n",
       "      <td>0.875874</td>\n",
       "      <td>0.877137</td>\n",
       "      <td>0.819658</td>\n",
       "      <td>0.856316</td>\n",
       "      <td>0.022916</td>\n",
       "      <td>1</td>\n",
       "      <td>0.890761</td>\n",
       "      <td>0.882378</td>\n",
       "      <td>0.877639</td>\n",
       "      <td>0.885022</td>\n",
       "      <td>0.892216</td>\n",
       "      <td>0.885603</td>\n",
       "      <td>0.005376</td>\n",
       "      <td>0.783217</td>\n",
       "      <td>0.832168</td>\n",
       "      <td>0.838028</td>\n",
       "      <td>0.767606</td>\n",
       "      <td>0.753521</td>\n",
       "      <td>0.794908</td>\n",
       "      <td>0.034184</td>\n",
       "      <td>3</td>\n",
       "      <td>0.808436</td>\n",
       "      <td>0.801406</td>\n",
       "      <td>0.798246</td>\n",
       "      <td>0.810526</td>\n",
       "      <td>0.821053</td>\n",
       "      <td>0.807933</td>\n",
       "      <td>0.007944</td>\n",
       "      <td>0.711538</td>\n",
       "      <td>0.795918</td>\n",
       "      <td>0.777778</td>\n",
       "      <td>0.666667</td>\n",
       "      <td>0.660377</td>\n",
       "      <td>0.722456</td>\n",
       "      <td>0.055754</td>\n",
       "      <td>3</td>\n",
       "      <td>0.724444</td>\n",
       "      <td>0.729858</td>\n",
       "      <td>0.716895</td>\n",
       "      <td>0.761421</td>\n",
       "      <td>0.755869</td>\n",
       "      <td>0.737697</td>\n",
       "      <td>0.017680</td>\n",
       "      <td>0.698113</td>\n",
       "      <td>0.735849</td>\n",
       "      <td>0.792453</td>\n",
       "      <td>0.730769</td>\n",
       "      <td>0.673077</td>\n",
       "      <td>0.726052</td>\n",
       "      <td>0.040285</td>\n",
       "      <td>6</td>\n",
       "      <td>0.776190</td>\n",
       "      <td>0.733333</td>\n",
       "      <td>0.747619</td>\n",
       "      <td>0.710900</td>\n",
       "      <td>0.763033</td>\n",
       "      <td>0.746215</td>\n",
       "      <td>0.022788</td>\n",
       "      <td>0.704762</td>\n",
       "      <td>0.764706</td>\n",
       "      <td>0.785047</td>\n",
       "      <td>0.697248</td>\n",
       "      <td>0.666667</td>\n",
       "      <td>0.723686</td>\n",
       "      <td>0.044173</td>\n",
       "      <td>4</td>\n",
       "      <td>0.749425</td>\n",
       "      <td>0.731591</td>\n",
       "      <td>0.731935</td>\n",
       "      <td>0.735294</td>\n",
       "      <td>0.759434</td>\n",
       "      <td>0.741536</td>\n",
       "      <td>0.011069</td>\n",
       "    </tr>\n",
       "    <tr>\n",
       "      <th>7</th>\n",
       "      <td>0.069979</td>\n",
       "      <td>0.001855</td>\n",
       "      <td>0.061606</td>\n",
       "      <td>0.000718</td>\n",
       "      <td>RandomForestClassifier(min_samples_leaf=20, n_...</td>\n",
       "      <td>20</td>\n",
       "      <td>30</td>\n",
       "      <td>30</td>\n",
       "      <td>1</td>\n",
       "      <td>{'classifier': RandomForestClassifier(min_samp...</td>\n",
       "      <td>0.822956</td>\n",
       "      <td>0.854822</td>\n",
       "      <td>0.877782</td>\n",
       "      <td>0.879274</td>\n",
       "      <td>0.824893</td>\n",
       "      <td>0.851945</td>\n",
       "      <td>0.024474</td>\n",
       "      <td>3</td>\n",
       "      <td>0.887299</td>\n",
       "      <td>0.885767</td>\n",
       "      <td>0.875463</td>\n",
       "      <td>0.885233</td>\n",
       "      <td>0.890296</td>\n",
       "      <td>0.884812</td>\n",
       "      <td>0.004995</td>\n",
       "      <td>0.783217</td>\n",
       "      <td>0.832168</td>\n",
       "      <td>0.823944</td>\n",
       "      <td>0.774648</td>\n",
       "      <td>0.760563</td>\n",
       "      <td>0.794908</td>\n",
       "      <td>0.028136</td>\n",
       "      <td>3</td>\n",
       "      <td>0.801406</td>\n",
       "      <td>0.817223</td>\n",
       "      <td>0.796491</td>\n",
       "      <td>0.814035</td>\n",
       "      <td>0.821053</td>\n",
       "      <td>0.810042</td>\n",
       "      <td>0.009455</td>\n",
       "      <td>0.720000</td>\n",
       "      <td>0.784314</td>\n",
       "      <td>0.733333</td>\n",
       "      <td>0.666667</td>\n",
       "      <td>0.673077</td>\n",
       "      <td>0.715478</td>\n",
       "      <td>0.043030</td>\n",
       "      <td>5</td>\n",
       "      <td>0.717489</td>\n",
       "      <td>0.743119</td>\n",
       "      <td>0.694215</td>\n",
       "      <td>0.741935</td>\n",
       "      <td>0.751152</td>\n",
       "      <td>0.729582</td>\n",
       "      <td>0.020968</td>\n",
       "      <td>0.679245</td>\n",
       "      <td>0.754717</td>\n",
       "      <td>0.830189</td>\n",
       "      <td>0.769231</td>\n",
       "      <td>0.673077</td>\n",
       "      <td>0.741292</td>\n",
       "      <td>0.058935</td>\n",
       "      <td>1</td>\n",
       "      <td>0.761905</td>\n",
       "      <td>0.771429</td>\n",
       "      <td>0.800000</td>\n",
       "      <td>0.763033</td>\n",
       "      <td>0.772512</td>\n",
       "      <td>0.773776</td>\n",
       "      <td>0.013792</td>\n",
       "      <td>0.699029</td>\n",
       "      <td>0.769231</td>\n",
       "      <td>0.778761</td>\n",
       "      <td>0.714286</td>\n",
       "      <td>0.673077</td>\n",
       "      <td>0.726877</td>\n",
       "      <td>0.040778</td>\n",
       "      <td>3</td>\n",
       "      <td>0.739030</td>\n",
       "      <td>0.757009</td>\n",
       "      <td>0.743363</td>\n",
       "      <td>0.752336</td>\n",
       "      <td>0.761682</td>\n",
       "      <td>0.750684</td>\n",
       "      <td>0.008404</td>\n",
       "    </tr>\n",
       "    <tr>\n",
       "      <th>9</th>\n",
       "      <td>0.059416</td>\n",
       "      <td>0.001663</td>\n",
       "      <td>0.061986</td>\n",
       "      <td>0.001487</td>\n",
       "      <td>RandomForestClassifier(min_samples_leaf=20, n_...</td>\n",
       "      <td>30</td>\n",
       "      <td>20</td>\n",
       "      <td>20</td>\n",
       "      <td>1</td>\n",
       "      <td>{'classifier': RandomForestClassifier(min_samp...</td>\n",
       "      <td>0.825786</td>\n",
       "      <td>0.850839</td>\n",
       "      <td>0.855099</td>\n",
       "      <td>0.872436</td>\n",
       "      <td>0.815278</td>\n",
       "      <td>0.843887</td>\n",
       "      <td>0.020665</td>\n",
       "      <td>7</td>\n",
       "      <td>0.872258</td>\n",
       "      <td>0.870036</td>\n",
       "      <td>0.862163</td>\n",
       "      <td>0.873101</td>\n",
       "      <td>0.886797</td>\n",
       "      <td>0.872871</td>\n",
       "      <td>0.007963</td>\n",
       "      <td>0.797203</td>\n",
       "      <td>0.825175</td>\n",
       "      <td>0.823944</td>\n",
       "      <td>0.767606</td>\n",
       "      <td>0.760563</td>\n",
       "      <td>0.794898</td>\n",
       "      <td>0.027164</td>\n",
       "      <td>5</td>\n",
       "      <td>0.796134</td>\n",
       "      <td>0.797891</td>\n",
       "      <td>0.789474</td>\n",
       "      <td>0.814035</td>\n",
       "      <td>0.815789</td>\n",
       "      <td>0.802665</td>\n",
       "      <td>0.010402</td>\n",
       "      <td>0.750000</td>\n",
       "      <td>0.780000</td>\n",
       "      <td>0.759259</td>\n",
       "      <td>0.666667</td>\n",
       "      <td>0.666667</td>\n",
       "      <td>0.724519</td>\n",
       "      <td>0.048225</td>\n",
       "      <td>2</td>\n",
       "      <td>0.709821</td>\n",
       "      <td>0.725118</td>\n",
       "      <td>0.704545</td>\n",
       "      <td>0.766497</td>\n",
       "      <td>0.728448</td>\n",
       "      <td>0.726886</td>\n",
       "      <td>0.021748</td>\n",
       "      <td>0.679245</td>\n",
       "      <td>0.735849</td>\n",
       "      <td>0.773585</td>\n",
       "      <td>0.730769</td>\n",
       "      <td>0.692308</td>\n",
       "      <td>0.722351</td>\n",
       "      <td>0.033582</td>\n",
       "      <td>7</td>\n",
       "      <td>0.757143</td>\n",
       "      <td>0.728571</td>\n",
       "      <td>0.738095</td>\n",
       "      <td>0.715640</td>\n",
       "      <td>0.800948</td>\n",
       "      <td>0.748079</td>\n",
       "      <td>0.029698</td>\n",
       "      <td>0.712871</td>\n",
       "      <td>0.757282</td>\n",
       "      <td>0.766355</td>\n",
       "      <td>0.697248</td>\n",
       "      <td>0.679245</td>\n",
       "      <td>0.722600</td>\n",
       "      <td>0.033865</td>\n",
       "      <td>5</td>\n",
       "      <td>0.732719</td>\n",
       "      <td>0.726841</td>\n",
       "      <td>0.720930</td>\n",
       "      <td>0.740196</td>\n",
       "      <td>0.762980</td>\n",
       "      <td>0.736733</td>\n",
       "      <td>0.014592</td>\n",
       "    </tr>\n",
       "    <tr>\n",
       "      <th>3</th>\n",
       "      <td>0.060222</td>\n",
       "      <td>0.001336</td>\n",
       "      <td>0.061642</td>\n",
       "      <td>0.001992</td>\n",
       "      <td>RandomForestClassifier(min_samples_leaf=20, n_...</td>\n",
       "      <td>20</td>\n",
       "      <td>20</td>\n",
       "      <td>30</td>\n",
       "      <td>1</td>\n",
       "      <td>{'classifier': RandomForestClassifier(min_samp...</td>\n",
       "      <td>0.840356</td>\n",
       "      <td>0.876625</td>\n",
       "      <td>0.868985</td>\n",
       "      <td>0.872970</td>\n",
       "      <td>0.810897</td>\n",
       "      <td>0.853967</td>\n",
       "      <td>0.025061</td>\n",
       "      <td>2</td>\n",
       "      <td>0.891643</td>\n",
       "      <td>0.878207</td>\n",
       "      <td>0.878274</td>\n",
       "      <td>0.881781</td>\n",
       "      <td>0.891490</td>\n",
       "      <td>0.884279</td>\n",
       "      <td>0.006090</td>\n",
       "      <td>0.783217</td>\n",
       "      <td>0.818182</td>\n",
       "      <td>0.845070</td>\n",
       "      <td>0.760563</td>\n",
       "      <td>0.753521</td>\n",
       "      <td>0.792111</td>\n",
       "      <td>0.034779</td>\n",
       "      <td>6</td>\n",
       "      <td>0.806678</td>\n",
       "      <td>0.803163</td>\n",
       "      <td>0.803509</td>\n",
       "      <td>0.814035</td>\n",
       "      <td>0.817544</td>\n",
       "      <td>0.808986</td>\n",
       "      <td>0.005796</td>\n",
       "      <td>0.711538</td>\n",
       "      <td>0.754717</td>\n",
       "      <td>0.771930</td>\n",
       "      <td>0.655172</td>\n",
       "      <td>0.666667</td>\n",
       "      <td>0.712005</td>\n",
       "      <td>0.046262</td>\n",
       "      <td>6</td>\n",
       "      <td>0.727273</td>\n",
       "      <td>0.718750</td>\n",
       "      <td>0.724771</td>\n",
       "      <td>0.751196</td>\n",
       "      <td>0.737778</td>\n",
       "      <td>0.731953</td>\n",
       "      <td>0.011420</td>\n",
       "      <td>0.698113</td>\n",
       "      <td>0.754717</td>\n",
       "      <td>0.830189</td>\n",
       "      <td>0.730769</td>\n",
       "      <td>0.653846</td>\n",
       "      <td>0.733527</td>\n",
       "      <td>0.058997</td>\n",
       "      <td>5</td>\n",
       "      <td>0.761905</td>\n",
       "      <td>0.766667</td>\n",
       "      <td>0.752381</td>\n",
       "      <td>0.744076</td>\n",
       "      <td>0.786730</td>\n",
       "      <td>0.762352</td>\n",
       "      <td>0.014467</td>\n",
       "      <td>0.704762</td>\n",
       "      <td>0.754717</td>\n",
       "      <td>0.800000</td>\n",
       "      <td>0.690909</td>\n",
       "      <td>0.660194</td>\n",
       "      <td>0.722116</td>\n",
       "      <td>0.049473</td>\n",
       "      <td>6</td>\n",
       "      <td>0.744186</td>\n",
       "      <td>0.741935</td>\n",
       "      <td>0.738318</td>\n",
       "      <td>0.747619</td>\n",
       "      <td>0.761468</td>\n",
       "      <td>0.746705</td>\n",
       "      <td>0.007978</td>\n",
       "    </tr>\n",
       "    <tr>\n",
       "      <th>13</th>\n",
       "      <td>0.070928</td>\n",
       "      <td>0.001984</td>\n",
       "      <td>0.064036</td>\n",
       "      <td>0.001422</td>\n",
       "      <td>RandomForestClassifier(min_samples_leaf=20, n_...</td>\n",
       "      <td>30</td>\n",
       "      <td>30</td>\n",
       "      <td>20</td>\n",
       "      <td>1</td>\n",
       "      <td>{'classifier': RandomForestClassifier(min_samp...</td>\n",
       "      <td>0.840042</td>\n",
       "      <td>0.841090</td>\n",
       "      <td>0.859127</td>\n",
       "      <td>0.870513</td>\n",
       "      <td>0.806731</td>\n",
       "      <td>0.843500</td>\n",
       "      <td>0.021650</td>\n",
       "      <td>8</td>\n",
       "      <td>0.877530</td>\n",
       "      <td>0.868404</td>\n",
       "      <td>0.867692</td>\n",
       "      <td>0.874375</td>\n",
       "      <td>0.884579</td>\n",
       "      <td>0.874516</td>\n",
       "      <td>0.006234</td>\n",
       "      <td>0.790210</td>\n",
       "      <td>0.811189</td>\n",
       "      <td>0.823944</td>\n",
       "      <td>0.774648</td>\n",
       "      <td>0.746479</td>\n",
       "      <td>0.789294</td>\n",
       "      <td>0.027307</td>\n",
       "      <td>7</td>\n",
       "      <td>0.803163</td>\n",
       "      <td>0.794376</td>\n",
       "      <td>0.796491</td>\n",
       "      <td>0.817544</td>\n",
       "      <td>0.812281</td>\n",
       "      <td>0.804771</td>\n",
       "      <td>0.008930</td>\n",
       "      <td>0.734694</td>\n",
       "      <td>0.740741</td>\n",
       "      <td>0.750000</td>\n",
       "      <td>0.672414</td>\n",
       "      <td>0.642857</td>\n",
       "      <td>0.708141</td>\n",
       "      <td>0.042564</td>\n",
       "      <td>7</td>\n",
       "      <td>0.728972</td>\n",
       "      <td>0.696203</td>\n",
       "      <td>0.715596</td>\n",
       "      <td>0.760976</td>\n",
       "      <td>0.713115</td>\n",
       "      <td>0.722972</td>\n",
       "      <td>0.021672</td>\n",
       "      <td>0.679245</td>\n",
       "      <td>0.754717</td>\n",
       "      <td>0.792453</td>\n",
       "      <td>0.750000</td>\n",
       "      <td>0.692308</td>\n",
       "      <td>0.733745</td>\n",
       "      <td>0.042043</td>\n",
       "      <td>3</td>\n",
       "      <td>0.742857</td>\n",
       "      <td>0.785714</td>\n",
       "      <td>0.742857</td>\n",
       "      <td>0.739336</td>\n",
       "      <td>0.824645</td>\n",
       "      <td>0.767082</td>\n",
       "      <td>0.033479</td>\n",
       "      <td>0.705882</td>\n",
       "      <td>0.747664</td>\n",
       "      <td>0.770642</td>\n",
       "      <td>0.709091</td>\n",
       "      <td>0.666667</td>\n",
       "      <td>0.719989</td>\n",
       "      <td>0.036035</td>\n",
       "      <td>7</td>\n",
       "      <td>0.735849</td>\n",
       "      <td>0.738255</td>\n",
       "      <td>0.728972</td>\n",
       "      <td>0.750000</td>\n",
       "      <td>0.764835</td>\n",
       "      <td>0.743582</td>\n",
       "      <td>0.012606</td>\n",
       "    </tr>\n",
       "    <tr>\n",
       "      <th>15</th>\n",
       "      <td>0.070956</td>\n",
       "      <td>0.001208</td>\n",
       "      <td>0.064388</td>\n",
       "      <td>0.000533</td>\n",
       "      <td>RandomForestClassifier(min_samples_leaf=20, n_...</td>\n",
       "      <td>30</td>\n",
       "      <td>30</td>\n",
       "      <td>30</td>\n",
       "      <td>1</td>\n",
       "      <td>{'classifier': RandomForestClassifier(min_samp...</td>\n",
       "      <td>0.832809</td>\n",
       "      <td>0.871069</td>\n",
       "      <td>0.845029</td>\n",
       "      <td>0.875534</td>\n",
       "      <td>0.821795</td>\n",
       "      <td>0.849247</td>\n",
       "      <td>0.021018</td>\n",
       "      <td>4</td>\n",
       "      <td>0.878094</td>\n",
       "      <td>0.867509</td>\n",
       "      <td>0.871495</td>\n",
       "      <td>0.879088</td>\n",
       "      <td>0.888276</td>\n",
       "      <td>0.876892</td>\n",
       "      <td>0.007114</td>\n",
       "      <td>0.769231</td>\n",
       "      <td>0.832168</td>\n",
       "      <td>0.781690</td>\n",
       "      <td>0.767606</td>\n",
       "      <td>0.739437</td>\n",
       "      <td>0.778026</td>\n",
       "      <td>0.030397</td>\n",
       "      <td>8</td>\n",
       "      <td>0.794376</td>\n",
       "      <td>0.796134</td>\n",
       "      <td>0.794737</td>\n",
       "      <td>0.808772</td>\n",
       "      <td>0.812281</td>\n",
       "      <td>0.801260</td>\n",
       "      <td>0.007669</td>\n",
       "      <td>0.685185</td>\n",
       "      <td>0.795918</td>\n",
       "      <td>0.696429</td>\n",
       "      <td>0.666667</td>\n",
       "      <td>0.636364</td>\n",
       "      <td>0.696112</td>\n",
       "      <td>0.053885</td>\n",
       "      <td>8</td>\n",
       "      <td>0.701299</td>\n",
       "      <td>0.715596</td>\n",
       "      <td>0.699571</td>\n",
       "      <td>0.755000</td>\n",
       "      <td>0.728070</td>\n",
       "      <td>0.719907</td>\n",
       "      <td>0.020379</td>\n",
       "      <td>0.698113</td>\n",
       "      <td>0.735849</td>\n",
       "      <td>0.735849</td>\n",
       "      <td>0.730769</td>\n",
       "      <td>0.673077</td>\n",
       "      <td>0.714731</td>\n",
       "      <td>0.025141</td>\n",
       "      <td>8</td>\n",
       "      <td>0.771429</td>\n",
       "      <td>0.742857</td>\n",
       "      <td>0.776190</td>\n",
       "      <td>0.715640</td>\n",
       "      <td>0.786730</td>\n",
       "      <td>0.758569</td>\n",
       "      <td>0.025918</td>\n",
       "      <td>0.691589</td>\n",
       "      <td>0.764706</td>\n",
       "      <td>0.715596</td>\n",
       "      <td>0.697248</td>\n",
       "      <td>0.654206</td>\n",
       "      <td>0.704669</td>\n",
       "      <td>0.036046</td>\n",
       "      <td>8</td>\n",
       "      <td>0.734694</td>\n",
       "      <td>0.728972</td>\n",
       "      <td>0.735892</td>\n",
       "      <td>0.734793</td>\n",
       "      <td>0.756264</td>\n",
       "      <td>0.738123</td>\n",
       "      <td>0.009388</td>\n",
       "    </tr>\n",
       "    <tr>\n",
       "      <th>0</th>\n",
       "      <td>0.043344</td>\n",
       "      <td>0.011207</td>\n",
       "      <td>0.000000</td>\n",
       "      <td>0.000000</td>\n",
       "      <td>RandomForestClassifier(min_samples_leaf=20, n_...</td>\n",
       "      <td>20</td>\n",
       "      <td>20</td>\n",
       "      <td>20</td>\n",
       "      <td>0</td>\n",
       "      <td>{'classifier': RandomForestClassifier(min_samp...</td>\n",
       "      <td>NaN</td>\n",
       "      <td>NaN</td>\n",
       "      <td>NaN</td>\n",
       "      <td>NaN</td>\n",
       "      <td>NaN</td>\n",
       "      <td>NaN</td>\n",
       "      <td>NaN</td>\n",
       "      <td>9</td>\n",
       "      <td>NaN</td>\n",
       "      <td>NaN</td>\n",
       "      <td>NaN</td>\n",
       "      <td>NaN</td>\n",
       "      <td>NaN</td>\n",
       "      <td>NaN</td>\n",
       "      <td>NaN</td>\n",
       "      <td>NaN</td>\n",
       "      <td>NaN</td>\n",
       "      <td>NaN</td>\n",
       "      <td>NaN</td>\n",
       "      <td>NaN</td>\n",
       "      <td>NaN</td>\n",
       "      <td>NaN</td>\n",
       "      <td>9</td>\n",
       "      <td>NaN</td>\n",
       "      <td>NaN</td>\n",
       "      <td>NaN</td>\n",
       "      <td>NaN</td>\n",
       "      <td>NaN</td>\n",
       "      <td>NaN</td>\n",
       "      <td>NaN</td>\n",
       "      <td>NaN</td>\n",
       "      <td>NaN</td>\n",
       "      <td>NaN</td>\n",
       "      <td>NaN</td>\n",
       "      <td>NaN</td>\n",
       "      <td>NaN</td>\n",
       "      <td>NaN</td>\n",
       "      <td>9</td>\n",
       "      <td>NaN</td>\n",
       "      <td>NaN</td>\n",
       "      <td>NaN</td>\n",
       "      <td>NaN</td>\n",
       "      <td>NaN</td>\n",
       "      <td>NaN</td>\n",
       "      <td>NaN</td>\n",
       "      <td>NaN</td>\n",
       "      <td>NaN</td>\n",
       "      <td>NaN</td>\n",
       "      <td>NaN</td>\n",
       "      <td>NaN</td>\n",
       "      <td>NaN</td>\n",
       "      <td>NaN</td>\n",
       "      <td>9</td>\n",
       "      <td>NaN</td>\n",
       "      <td>NaN</td>\n",
       "      <td>NaN</td>\n",
       "      <td>NaN</td>\n",
       "      <td>NaN</td>\n",
       "      <td>NaN</td>\n",
       "      <td>NaN</td>\n",
       "      <td>NaN</td>\n",
       "      <td>NaN</td>\n",
       "      <td>NaN</td>\n",
       "      <td>NaN</td>\n",
       "      <td>NaN</td>\n",
       "      <td>NaN</td>\n",
       "      <td>NaN</td>\n",
       "      <td>9</td>\n",
       "      <td>NaN</td>\n",
       "      <td>NaN</td>\n",
       "      <td>NaN</td>\n",
       "      <td>NaN</td>\n",
       "      <td>NaN</td>\n",
       "      <td>NaN</td>\n",
       "      <td>NaN</td>\n",
       "    </tr>\n",
       "    <tr>\n",
       "      <th>2</th>\n",
       "      <td>0.035212</td>\n",
       "      <td>0.000568</td>\n",
       "      <td>0.000000</td>\n",
       "      <td>0.000000</td>\n",
       "      <td>RandomForestClassifier(min_samples_leaf=20, n_...</td>\n",
       "      <td>20</td>\n",
       "      <td>20</td>\n",
       "      <td>30</td>\n",
       "      <td>0</td>\n",
       "      <td>{'classifier': RandomForestClassifier(min_samp...</td>\n",
       "      <td>NaN</td>\n",
       "      <td>NaN</td>\n",
       "      <td>NaN</td>\n",
       "      <td>NaN</td>\n",
       "      <td>NaN</td>\n",
       "      <td>NaN</td>\n",
       "      <td>NaN</td>\n",
       "      <td>10</td>\n",
       "      <td>NaN</td>\n",
       "      <td>NaN</td>\n",
       "      <td>NaN</td>\n",
       "      <td>NaN</td>\n",
       "      <td>NaN</td>\n",
       "      <td>NaN</td>\n",
       "      <td>NaN</td>\n",
       "      <td>NaN</td>\n",
       "      <td>NaN</td>\n",
       "      <td>NaN</td>\n",
       "      <td>NaN</td>\n",
       "      <td>NaN</td>\n",
       "      <td>NaN</td>\n",
       "      <td>NaN</td>\n",
       "      <td>10</td>\n",
       "      <td>NaN</td>\n",
       "      <td>NaN</td>\n",
       "      <td>NaN</td>\n",
       "      <td>NaN</td>\n",
       "      <td>NaN</td>\n",
       "      <td>NaN</td>\n",
       "      <td>NaN</td>\n",
       "      <td>NaN</td>\n",
       "      <td>NaN</td>\n",
       "      <td>NaN</td>\n",
       "      <td>NaN</td>\n",
       "      <td>NaN</td>\n",
       "      <td>NaN</td>\n",
       "      <td>NaN</td>\n",
       "      <td>10</td>\n",
       "      <td>NaN</td>\n",
       "      <td>NaN</td>\n",
       "      <td>NaN</td>\n",
       "      <td>NaN</td>\n",
       "      <td>NaN</td>\n",
       "      <td>NaN</td>\n",
       "      <td>NaN</td>\n",
       "      <td>NaN</td>\n",
       "      <td>NaN</td>\n",
       "      <td>NaN</td>\n",
       "      <td>NaN</td>\n",
       "      <td>NaN</td>\n",
       "      <td>NaN</td>\n",
       "      <td>NaN</td>\n",
       "      <td>10</td>\n",
       "      <td>NaN</td>\n",
       "      <td>NaN</td>\n",
       "      <td>NaN</td>\n",
       "      <td>NaN</td>\n",
       "      <td>NaN</td>\n",
       "      <td>NaN</td>\n",
       "      <td>NaN</td>\n",
       "      <td>NaN</td>\n",
       "      <td>NaN</td>\n",
       "      <td>NaN</td>\n",
       "      <td>NaN</td>\n",
       "      <td>NaN</td>\n",
       "      <td>NaN</td>\n",
       "      <td>NaN</td>\n",
       "      <td>10</td>\n",
       "      <td>NaN</td>\n",
       "      <td>NaN</td>\n",
       "      <td>NaN</td>\n",
       "      <td>NaN</td>\n",
       "      <td>NaN</td>\n",
       "      <td>NaN</td>\n",
       "      <td>NaN</td>\n",
       "    </tr>\n",
       "    <tr>\n",
       "      <th>4</th>\n",
       "      <td>0.036000</td>\n",
       "      <td>0.000811</td>\n",
       "      <td>0.000000</td>\n",
       "      <td>0.000000</td>\n",
       "      <td>RandomForestClassifier(min_samples_leaf=20, n_...</td>\n",
       "      <td>20</td>\n",
       "      <td>30</td>\n",
       "      <td>20</td>\n",
       "      <td>0</td>\n",
       "      <td>{'classifier': RandomForestClassifier(min_samp...</td>\n",
       "      <td>NaN</td>\n",
       "      <td>NaN</td>\n",
       "      <td>NaN</td>\n",
       "      <td>NaN</td>\n",
       "      <td>NaN</td>\n",
       "      <td>NaN</td>\n",
       "      <td>NaN</td>\n",
       "      <td>11</td>\n",
       "      <td>NaN</td>\n",
       "      <td>NaN</td>\n",
       "      <td>NaN</td>\n",
       "      <td>NaN</td>\n",
       "      <td>NaN</td>\n",
       "      <td>NaN</td>\n",
       "      <td>NaN</td>\n",
       "      <td>NaN</td>\n",
       "      <td>NaN</td>\n",
       "      <td>NaN</td>\n",
       "      <td>NaN</td>\n",
       "      <td>NaN</td>\n",
       "      <td>NaN</td>\n",
       "      <td>NaN</td>\n",
       "      <td>11</td>\n",
       "      <td>NaN</td>\n",
       "      <td>NaN</td>\n",
       "      <td>NaN</td>\n",
       "      <td>NaN</td>\n",
       "      <td>NaN</td>\n",
       "      <td>NaN</td>\n",
       "      <td>NaN</td>\n",
       "      <td>NaN</td>\n",
       "      <td>NaN</td>\n",
       "      <td>NaN</td>\n",
       "      <td>NaN</td>\n",
       "      <td>NaN</td>\n",
       "      <td>NaN</td>\n",
       "      <td>NaN</td>\n",
       "      <td>11</td>\n",
       "      <td>NaN</td>\n",
       "      <td>NaN</td>\n",
       "      <td>NaN</td>\n",
       "      <td>NaN</td>\n",
       "      <td>NaN</td>\n",
       "      <td>NaN</td>\n",
       "      <td>NaN</td>\n",
       "      <td>NaN</td>\n",
       "      <td>NaN</td>\n",
       "      <td>NaN</td>\n",
       "      <td>NaN</td>\n",
       "      <td>NaN</td>\n",
       "      <td>NaN</td>\n",
       "      <td>NaN</td>\n",
       "      <td>11</td>\n",
       "      <td>NaN</td>\n",
       "      <td>NaN</td>\n",
       "      <td>NaN</td>\n",
       "      <td>NaN</td>\n",
       "      <td>NaN</td>\n",
       "      <td>NaN</td>\n",
       "      <td>NaN</td>\n",
       "      <td>NaN</td>\n",
       "      <td>NaN</td>\n",
       "      <td>NaN</td>\n",
       "      <td>NaN</td>\n",
       "      <td>NaN</td>\n",
       "      <td>NaN</td>\n",
       "      <td>NaN</td>\n",
       "      <td>11</td>\n",
       "      <td>NaN</td>\n",
       "      <td>NaN</td>\n",
       "      <td>NaN</td>\n",
       "      <td>NaN</td>\n",
       "      <td>NaN</td>\n",
       "      <td>NaN</td>\n",
       "      <td>NaN</td>\n",
       "    </tr>\n",
       "    <tr>\n",
       "      <th>6</th>\n",
       "      <td>0.035413</td>\n",
       "      <td>0.001023</td>\n",
       "      <td>0.000000</td>\n",
       "      <td>0.000000</td>\n",
       "      <td>RandomForestClassifier(min_samples_leaf=20, n_...</td>\n",
       "      <td>20</td>\n",
       "      <td>30</td>\n",
       "      <td>30</td>\n",
       "      <td>0</td>\n",
       "      <td>{'classifier': RandomForestClassifier(min_samp...</td>\n",
       "      <td>NaN</td>\n",
       "      <td>NaN</td>\n",
       "      <td>NaN</td>\n",
       "      <td>NaN</td>\n",
       "      <td>NaN</td>\n",
       "      <td>NaN</td>\n",
       "      <td>NaN</td>\n",
       "      <td>12</td>\n",
       "      <td>NaN</td>\n",
       "      <td>NaN</td>\n",
       "      <td>NaN</td>\n",
       "      <td>NaN</td>\n",
       "      <td>NaN</td>\n",
       "      <td>NaN</td>\n",
       "      <td>NaN</td>\n",
       "      <td>NaN</td>\n",
       "      <td>NaN</td>\n",
       "      <td>NaN</td>\n",
       "      <td>NaN</td>\n",
       "      <td>NaN</td>\n",
       "      <td>NaN</td>\n",
       "      <td>NaN</td>\n",
       "      <td>12</td>\n",
       "      <td>NaN</td>\n",
       "      <td>NaN</td>\n",
       "      <td>NaN</td>\n",
       "      <td>NaN</td>\n",
       "      <td>NaN</td>\n",
       "      <td>NaN</td>\n",
       "      <td>NaN</td>\n",
       "      <td>NaN</td>\n",
       "      <td>NaN</td>\n",
       "      <td>NaN</td>\n",
       "      <td>NaN</td>\n",
       "      <td>NaN</td>\n",
       "      <td>NaN</td>\n",
       "      <td>NaN</td>\n",
       "      <td>12</td>\n",
       "      <td>NaN</td>\n",
       "      <td>NaN</td>\n",
       "      <td>NaN</td>\n",
       "      <td>NaN</td>\n",
       "      <td>NaN</td>\n",
       "      <td>NaN</td>\n",
       "      <td>NaN</td>\n",
       "      <td>NaN</td>\n",
       "      <td>NaN</td>\n",
       "      <td>NaN</td>\n",
       "      <td>NaN</td>\n",
       "      <td>NaN</td>\n",
       "      <td>NaN</td>\n",
       "      <td>NaN</td>\n",
       "      <td>12</td>\n",
       "      <td>NaN</td>\n",
       "      <td>NaN</td>\n",
       "      <td>NaN</td>\n",
       "      <td>NaN</td>\n",
       "      <td>NaN</td>\n",
       "      <td>NaN</td>\n",
       "      <td>NaN</td>\n",
       "      <td>NaN</td>\n",
       "      <td>NaN</td>\n",
       "      <td>NaN</td>\n",
       "      <td>NaN</td>\n",
       "      <td>NaN</td>\n",
       "      <td>NaN</td>\n",
       "      <td>NaN</td>\n",
       "      <td>12</td>\n",
       "      <td>NaN</td>\n",
       "      <td>NaN</td>\n",
       "      <td>NaN</td>\n",
       "      <td>NaN</td>\n",
       "      <td>NaN</td>\n",
       "      <td>NaN</td>\n",
       "      <td>NaN</td>\n",
       "    </tr>\n",
       "    <tr>\n",
       "      <th>8</th>\n",
       "      <td>0.035959</td>\n",
       "      <td>0.000720</td>\n",
       "      <td>0.000000</td>\n",
       "      <td>0.000000</td>\n",
       "      <td>RandomForestClassifier(min_samples_leaf=20, n_...</td>\n",
       "      <td>30</td>\n",
       "      <td>20</td>\n",
       "      <td>20</td>\n",
       "      <td>0</td>\n",
       "      <td>{'classifier': RandomForestClassifier(min_samp...</td>\n",
       "      <td>NaN</td>\n",
       "      <td>NaN</td>\n",
       "      <td>NaN</td>\n",
       "      <td>NaN</td>\n",
       "      <td>NaN</td>\n",
       "      <td>NaN</td>\n",
       "      <td>NaN</td>\n",
       "      <td>13</td>\n",
       "      <td>NaN</td>\n",
       "      <td>NaN</td>\n",
       "      <td>NaN</td>\n",
       "      <td>NaN</td>\n",
       "      <td>NaN</td>\n",
       "      <td>NaN</td>\n",
       "      <td>NaN</td>\n",
       "      <td>NaN</td>\n",
       "      <td>NaN</td>\n",
       "      <td>NaN</td>\n",
       "      <td>NaN</td>\n",
       "      <td>NaN</td>\n",
       "      <td>NaN</td>\n",
       "      <td>NaN</td>\n",
       "      <td>13</td>\n",
       "      <td>NaN</td>\n",
       "      <td>NaN</td>\n",
       "      <td>NaN</td>\n",
       "      <td>NaN</td>\n",
       "      <td>NaN</td>\n",
       "      <td>NaN</td>\n",
       "      <td>NaN</td>\n",
       "      <td>NaN</td>\n",
       "      <td>NaN</td>\n",
       "      <td>NaN</td>\n",
       "      <td>NaN</td>\n",
       "      <td>NaN</td>\n",
       "      <td>NaN</td>\n",
       "      <td>NaN</td>\n",
       "      <td>13</td>\n",
       "      <td>NaN</td>\n",
       "      <td>NaN</td>\n",
       "      <td>NaN</td>\n",
       "      <td>NaN</td>\n",
       "      <td>NaN</td>\n",
       "      <td>NaN</td>\n",
       "      <td>NaN</td>\n",
       "      <td>NaN</td>\n",
       "      <td>NaN</td>\n",
       "      <td>NaN</td>\n",
       "      <td>NaN</td>\n",
       "      <td>NaN</td>\n",
       "      <td>NaN</td>\n",
       "      <td>NaN</td>\n",
       "      <td>13</td>\n",
       "      <td>NaN</td>\n",
       "      <td>NaN</td>\n",
       "      <td>NaN</td>\n",
       "      <td>NaN</td>\n",
       "      <td>NaN</td>\n",
       "      <td>NaN</td>\n",
       "      <td>NaN</td>\n",
       "      <td>NaN</td>\n",
       "      <td>NaN</td>\n",
       "      <td>NaN</td>\n",
       "      <td>NaN</td>\n",
       "      <td>NaN</td>\n",
       "      <td>NaN</td>\n",
       "      <td>NaN</td>\n",
       "      <td>13</td>\n",
       "      <td>NaN</td>\n",
       "      <td>NaN</td>\n",
       "      <td>NaN</td>\n",
       "      <td>NaN</td>\n",
       "      <td>NaN</td>\n",
       "      <td>NaN</td>\n",
       "      <td>NaN</td>\n",
       "    </tr>\n",
       "    <tr>\n",
       "      <th>10</th>\n",
       "      <td>0.034835</td>\n",
       "      <td>0.000958</td>\n",
       "      <td>0.000000</td>\n",
       "      <td>0.000000</td>\n",
       "      <td>RandomForestClassifier(min_samples_leaf=20, n_...</td>\n",
       "      <td>30</td>\n",
       "      <td>20</td>\n",
       "      <td>30</td>\n",
       "      <td>0</td>\n",
       "      <td>{'classifier': RandomForestClassifier(min_samp...</td>\n",
       "      <td>NaN</td>\n",
       "      <td>NaN</td>\n",
       "      <td>NaN</td>\n",
       "      <td>NaN</td>\n",
       "      <td>NaN</td>\n",
       "      <td>NaN</td>\n",
       "      <td>NaN</td>\n",
       "      <td>14</td>\n",
       "      <td>NaN</td>\n",
       "      <td>NaN</td>\n",
       "      <td>NaN</td>\n",
       "      <td>NaN</td>\n",
       "      <td>NaN</td>\n",
       "      <td>NaN</td>\n",
       "      <td>NaN</td>\n",
       "      <td>NaN</td>\n",
       "      <td>NaN</td>\n",
       "      <td>NaN</td>\n",
       "      <td>NaN</td>\n",
       "      <td>NaN</td>\n",
       "      <td>NaN</td>\n",
       "      <td>NaN</td>\n",
       "      <td>14</td>\n",
       "      <td>NaN</td>\n",
       "      <td>NaN</td>\n",
       "      <td>NaN</td>\n",
       "      <td>NaN</td>\n",
       "      <td>NaN</td>\n",
       "      <td>NaN</td>\n",
       "      <td>NaN</td>\n",
       "      <td>NaN</td>\n",
       "      <td>NaN</td>\n",
       "      <td>NaN</td>\n",
       "      <td>NaN</td>\n",
       "      <td>NaN</td>\n",
       "      <td>NaN</td>\n",
       "      <td>NaN</td>\n",
       "      <td>14</td>\n",
       "      <td>NaN</td>\n",
       "      <td>NaN</td>\n",
       "      <td>NaN</td>\n",
       "      <td>NaN</td>\n",
       "      <td>NaN</td>\n",
       "      <td>NaN</td>\n",
       "      <td>NaN</td>\n",
       "      <td>NaN</td>\n",
       "      <td>NaN</td>\n",
       "      <td>NaN</td>\n",
       "      <td>NaN</td>\n",
       "      <td>NaN</td>\n",
       "      <td>NaN</td>\n",
       "      <td>NaN</td>\n",
       "      <td>14</td>\n",
       "      <td>NaN</td>\n",
       "      <td>NaN</td>\n",
       "      <td>NaN</td>\n",
       "      <td>NaN</td>\n",
       "      <td>NaN</td>\n",
       "      <td>NaN</td>\n",
       "      <td>NaN</td>\n",
       "      <td>NaN</td>\n",
       "      <td>NaN</td>\n",
       "      <td>NaN</td>\n",
       "      <td>NaN</td>\n",
       "      <td>NaN</td>\n",
       "      <td>NaN</td>\n",
       "      <td>NaN</td>\n",
       "      <td>14</td>\n",
       "      <td>NaN</td>\n",
       "      <td>NaN</td>\n",
       "      <td>NaN</td>\n",
       "      <td>NaN</td>\n",
       "      <td>NaN</td>\n",
       "      <td>NaN</td>\n",
       "      <td>NaN</td>\n",
       "    </tr>\n",
       "    <tr>\n",
       "      <th>12</th>\n",
       "      <td>0.036708</td>\n",
       "      <td>0.000500</td>\n",
       "      <td>0.000000</td>\n",
       "      <td>0.000000</td>\n",
       "      <td>RandomForestClassifier(min_samples_leaf=20, n_...</td>\n",
       "      <td>30</td>\n",
       "      <td>30</td>\n",
       "      <td>20</td>\n",
       "      <td>0</td>\n",
       "      <td>{'classifier': RandomForestClassifier(min_samp...</td>\n",
       "      <td>NaN</td>\n",
       "      <td>NaN</td>\n",
       "      <td>NaN</td>\n",
       "      <td>NaN</td>\n",
       "      <td>NaN</td>\n",
       "      <td>NaN</td>\n",
       "      <td>NaN</td>\n",
       "      <td>15</td>\n",
       "      <td>NaN</td>\n",
       "      <td>NaN</td>\n",
       "      <td>NaN</td>\n",
       "      <td>NaN</td>\n",
       "      <td>NaN</td>\n",
       "      <td>NaN</td>\n",
       "      <td>NaN</td>\n",
       "      <td>NaN</td>\n",
       "      <td>NaN</td>\n",
       "      <td>NaN</td>\n",
       "      <td>NaN</td>\n",
       "      <td>NaN</td>\n",
       "      <td>NaN</td>\n",
       "      <td>NaN</td>\n",
       "      <td>15</td>\n",
       "      <td>NaN</td>\n",
       "      <td>NaN</td>\n",
       "      <td>NaN</td>\n",
       "      <td>NaN</td>\n",
       "      <td>NaN</td>\n",
       "      <td>NaN</td>\n",
       "      <td>NaN</td>\n",
       "      <td>NaN</td>\n",
       "      <td>NaN</td>\n",
       "      <td>NaN</td>\n",
       "      <td>NaN</td>\n",
       "      <td>NaN</td>\n",
       "      <td>NaN</td>\n",
       "      <td>NaN</td>\n",
       "      <td>15</td>\n",
       "      <td>NaN</td>\n",
       "      <td>NaN</td>\n",
       "      <td>NaN</td>\n",
       "      <td>NaN</td>\n",
       "      <td>NaN</td>\n",
       "      <td>NaN</td>\n",
       "      <td>NaN</td>\n",
       "      <td>NaN</td>\n",
       "      <td>NaN</td>\n",
       "      <td>NaN</td>\n",
       "      <td>NaN</td>\n",
       "      <td>NaN</td>\n",
       "      <td>NaN</td>\n",
       "      <td>NaN</td>\n",
       "      <td>15</td>\n",
       "      <td>NaN</td>\n",
       "      <td>NaN</td>\n",
       "      <td>NaN</td>\n",
       "      <td>NaN</td>\n",
       "      <td>NaN</td>\n",
       "      <td>NaN</td>\n",
       "      <td>NaN</td>\n",
       "      <td>NaN</td>\n",
       "      <td>NaN</td>\n",
       "      <td>NaN</td>\n",
       "      <td>NaN</td>\n",
       "      <td>NaN</td>\n",
       "      <td>NaN</td>\n",
       "      <td>NaN</td>\n",
       "      <td>15</td>\n",
       "      <td>NaN</td>\n",
       "      <td>NaN</td>\n",
       "      <td>NaN</td>\n",
       "      <td>NaN</td>\n",
       "      <td>NaN</td>\n",
       "      <td>NaN</td>\n",
       "      <td>NaN</td>\n",
       "    </tr>\n",
       "    <tr>\n",
       "      <th>14</th>\n",
       "      <td>0.036650</td>\n",
       "      <td>0.000457</td>\n",
       "      <td>0.000000</td>\n",
       "      <td>0.000000</td>\n",
       "      <td>RandomForestClassifier(min_samples_leaf=20, n_...</td>\n",
       "      <td>30</td>\n",
       "      <td>30</td>\n",
       "      <td>30</td>\n",
       "      <td>0</td>\n",
       "      <td>{'classifier': RandomForestClassifier(min_samp...</td>\n",
       "      <td>NaN</td>\n",
       "      <td>NaN</td>\n",
       "      <td>NaN</td>\n",
       "      <td>NaN</td>\n",
       "      <td>NaN</td>\n",
       "      <td>NaN</td>\n",
       "      <td>NaN</td>\n",
       "      <td>16</td>\n",
       "      <td>NaN</td>\n",
       "      <td>NaN</td>\n",
       "      <td>NaN</td>\n",
       "      <td>NaN</td>\n",
       "      <td>NaN</td>\n",
       "      <td>NaN</td>\n",
       "      <td>NaN</td>\n",
       "      <td>NaN</td>\n",
       "      <td>NaN</td>\n",
       "      <td>NaN</td>\n",
       "      <td>NaN</td>\n",
       "      <td>NaN</td>\n",
       "      <td>NaN</td>\n",
       "      <td>NaN</td>\n",
       "      <td>16</td>\n",
       "      <td>NaN</td>\n",
       "      <td>NaN</td>\n",
       "      <td>NaN</td>\n",
       "      <td>NaN</td>\n",
       "      <td>NaN</td>\n",
       "      <td>NaN</td>\n",
       "      <td>NaN</td>\n",
       "      <td>NaN</td>\n",
       "      <td>NaN</td>\n",
       "      <td>NaN</td>\n",
       "      <td>NaN</td>\n",
       "      <td>NaN</td>\n",
       "      <td>NaN</td>\n",
       "      <td>NaN</td>\n",
       "      <td>16</td>\n",
       "      <td>NaN</td>\n",
       "      <td>NaN</td>\n",
       "      <td>NaN</td>\n",
       "      <td>NaN</td>\n",
       "      <td>NaN</td>\n",
       "      <td>NaN</td>\n",
       "      <td>NaN</td>\n",
       "      <td>NaN</td>\n",
       "      <td>NaN</td>\n",
       "      <td>NaN</td>\n",
       "      <td>NaN</td>\n",
       "      <td>NaN</td>\n",
       "      <td>NaN</td>\n",
       "      <td>NaN</td>\n",
       "      <td>16</td>\n",
       "      <td>NaN</td>\n",
       "      <td>NaN</td>\n",
       "      <td>NaN</td>\n",
       "      <td>NaN</td>\n",
       "      <td>NaN</td>\n",
       "      <td>NaN</td>\n",
       "      <td>NaN</td>\n",
       "      <td>NaN</td>\n",
       "      <td>NaN</td>\n",
       "      <td>NaN</td>\n",
       "      <td>NaN</td>\n",
       "      <td>NaN</td>\n",
       "      <td>NaN</td>\n",
       "      <td>NaN</td>\n",
       "      <td>16</td>\n",
       "      <td>NaN</td>\n",
       "      <td>NaN</td>\n",
       "      <td>NaN</td>\n",
       "      <td>NaN</td>\n",
       "      <td>NaN</td>\n",
       "      <td>NaN</td>\n",
       "      <td>NaN</td>\n",
       "    </tr>\n",
       "  </tbody>\n",
       "</table>\n",
       "</div>"
      ],
      "text/plain": [
       "    mean_fit_time  std_fit_time  mean_score_time  std_score_time                                   param_classifier param_classifier__min_samples_leaf param_classifier__n_estimators param_selector__k param_smote__sampling_strategy                                             params  split0_test_AUC  split1_test_AUC  split2_test_AUC  split3_test_AUC  split4_test_AUC  mean_test_AUC  std_test_AUC  rank_test_AUC  split0_train_AUC  split1_train_AUC  split2_train_AUC  split3_train_AUC  split4_train_AUC  mean_train_AUC  std_train_AUC  split0_test_Accuracy  split1_test_Accuracy  split2_test_Accuracy  split3_test_Accuracy  split4_test_Accuracy  mean_test_Accuracy  std_test_Accuracy  rank_test_Accuracy  split0_train_Accuracy  split1_train_Accuracy  split2_train_Accuracy  split3_train_Accuracy  split4_train_Accuracy  mean_train_Accuracy  std_train_Accuracy  split0_test_Precision  split1_test_Precision  split2_test_Precision  split3_test_Precision  split4_test_Precision  mean_test_Precision  \\\n",
       "11       0.059300      0.002166         0.061843        0.002156  RandomForestClassifier(min_samples_leaf=20, n_...                                 30                             20                30                              1  {'classifier': RandomForestClassifier(min_samp...         0.824948         0.863627         0.860823         0.864103         0.816132       0.845926      0.020945              6          0.874665          0.869472          0.867050          0.869840          0.885536        0.873313       0.006592              0.769231              0.839161              0.838028              0.781690              0.760563            0.797735           0.034033                   1               0.796134               0.796134               0.794737               0.803509               0.817544             0.801611            0.008541               0.685185               0.800000               0.788462               0.677966               0.673077             0.724938   \n",
       "1        0.059784      0.001378         0.061531        0.001399  RandomForestClassifier(min_samples_leaf=20, n_...                                 20                             20                20                              1  {'classifier': RandomForestClassifier(min_samp...         0.825996         0.872642         0.865063         0.868483         0.798077       0.846052      0.029242              5          0.884806          0.885887          0.879649          0.883206          0.887517        0.884213       0.002680              0.797203              0.825175              0.838028              0.781690              0.739437            0.796307           0.034706                   2               0.797891               0.794376               0.794737               0.814035               0.810526             0.802313            0.008304               0.730769               0.769231               0.777778               0.672131               0.641509             0.718284   \n",
       "5        0.071429      0.001388         0.063111        0.000932  RandomForestClassifier(min_samples_leaf=20, n_...                                 20                             30                20                              1  {'classifier': RandomForestClassifier(min_samp...         0.839308         0.869602         0.875874         0.877137         0.819658       0.856316      0.022916              1          0.890761          0.882378          0.877639          0.885022          0.892216        0.885603       0.005376              0.783217              0.832168              0.838028              0.767606              0.753521            0.794908           0.034184                   3               0.808436               0.801406               0.798246               0.810526               0.821053             0.807933            0.007944               0.711538               0.795918               0.777778               0.666667               0.660377             0.722456   \n",
       "7        0.069979      0.001855         0.061606        0.000718  RandomForestClassifier(min_samples_leaf=20, n_...                                 20                             30                30                              1  {'classifier': RandomForestClassifier(min_samp...         0.822956         0.854822         0.877782         0.879274         0.824893       0.851945      0.024474              3          0.887299          0.885767          0.875463          0.885233          0.890296        0.884812       0.004995              0.783217              0.832168              0.823944              0.774648              0.760563            0.794908           0.028136                   3               0.801406               0.817223               0.796491               0.814035               0.821053             0.810042            0.009455               0.720000               0.784314               0.733333               0.666667               0.673077             0.715478   \n",
       "9        0.059416      0.001663         0.061986        0.001487  RandomForestClassifier(min_samples_leaf=20, n_...                                 30                             20                20                              1  {'classifier': RandomForestClassifier(min_samp...         0.825786         0.850839         0.855099         0.872436         0.815278       0.843887      0.020665              7          0.872258          0.870036          0.862163          0.873101          0.886797        0.872871       0.007963              0.797203              0.825175              0.823944              0.767606              0.760563            0.794898           0.027164                   5               0.796134               0.797891               0.789474               0.814035               0.815789             0.802665            0.010402               0.750000               0.780000               0.759259               0.666667               0.666667             0.724519   \n",
       "3        0.060222      0.001336         0.061642        0.001992  RandomForestClassifier(min_samples_leaf=20, n_...                                 20                             20                30                              1  {'classifier': RandomForestClassifier(min_samp...         0.840356         0.876625         0.868985         0.872970         0.810897       0.853967      0.025061              2          0.891643          0.878207          0.878274          0.881781          0.891490        0.884279       0.006090              0.783217              0.818182              0.845070              0.760563              0.753521            0.792111           0.034779                   6               0.806678               0.803163               0.803509               0.814035               0.817544             0.808986            0.005796               0.711538               0.754717               0.771930               0.655172               0.666667             0.712005   \n",
       "13       0.070928      0.001984         0.064036        0.001422  RandomForestClassifier(min_samples_leaf=20, n_...                                 30                             30                20                              1  {'classifier': RandomForestClassifier(min_samp...         0.840042         0.841090         0.859127         0.870513         0.806731       0.843500      0.021650              8          0.877530          0.868404          0.867692          0.874375          0.884579        0.874516       0.006234              0.790210              0.811189              0.823944              0.774648              0.746479            0.789294           0.027307                   7               0.803163               0.794376               0.796491               0.817544               0.812281             0.804771            0.008930               0.734694               0.740741               0.750000               0.672414               0.642857             0.708141   \n",
       "15       0.070956      0.001208         0.064388        0.000533  RandomForestClassifier(min_samples_leaf=20, n_...                                 30                             30                30                              1  {'classifier': RandomForestClassifier(min_samp...         0.832809         0.871069         0.845029         0.875534         0.821795       0.849247      0.021018              4          0.878094          0.867509          0.871495          0.879088          0.888276        0.876892       0.007114              0.769231              0.832168              0.781690              0.767606              0.739437            0.778026           0.030397                   8               0.794376               0.796134               0.794737               0.808772               0.812281             0.801260            0.007669               0.685185               0.795918               0.696429               0.666667               0.636364             0.696112   \n",
       "0        0.043344      0.011207         0.000000        0.000000  RandomForestClassifier(min_samples_leaf=20, n_...                                 20                             20                20                              0  {'classifier': RandomForestClassifier(min_samp...              NaN              NaN              NaN              NaN              NaN            NaN           NaN              9               NaN               NaN               NaN               NaN               NaN             NaN            NaN                   NaN                   NaN                   NaN                   NaN                   NaN                 NaN                NaN                   9                    NaN                    NaN                    NaN                    NaN                    NaN                  NaN                 NaN                    NaN                    NaN                    NaN                    NaN                    NaN                  NaN   \n",
       "2        0.035212      0.000568         0.000000        0.000000  RandomForestClassifier(min_samples_leaf=20, n_...                                 20                             20                30                              0  {'classifier': RandomForestClassifier(min_samp...              NaN              NaN              NaN              NaN              NaN            NaN           NaN             10               NaN               NaN               NaN               NaN               NaN             NaN            NaN                   NaN                   NaN                   NaN                   NaN                   NaN                 NaN                NaN                  10                    NaN                    NaN                    NaN                    NaN                    NaN                  NaN                 NaN                    NaN                    NaN                    NaN                    NaN                    NaN                  NaN   \n",
       "4        0.036000      0.000811         0.000000        0.000000  RandomForestClassifier(min_samples_leaf=20, n_...                                 20                             30                20                              0  {'classifier': RandomForestClassifier(min_samp...              NaN              NaN              NaN              NaN              NaN            NaN           NaN             11               NaN               NaN               NaN               NaN               NaN             NaN            NaN                   NaN                   NaN                   NaN                   NaN                   NaN                 NaN                NaN                  11                    NaN                    NaN                    NaN                    NaN                    NaN                  NaN                 NaN                    NaN                    NaN                    NaN                    NaN                    NaN                  NaN   \n",
       "6        0.035413      0.001023         0.000000        0.000000  RandomForestClassifier(min_samples_leaf=20, n_...                                 20                             30                30                              0  {'classifier': RandomForestClassifier(min_samp...              NaN              NaN              NaN              NaN              NaN            NaN           NaN             12               NaN               NaN               NaN               NaN               NaN             NaN            NaN                   NaN                   NaN                   NaN                   NaN                   NaN                 NaN                NaN                  12                    NaN                    NaN                    NaN                    NaN                    NaN                  NaN                 NaN                    NaN                    NaN                    NaN                    NaN                    NaN                  NaN   \n",
       "8        0.035959      0.000720         0.000000        0.000000  RandomForestClassifier(min_samples_leaf=20, n_...                                 30                             20                20                              0  {'classifier': RandomForestClassifier(min_samp...              NaN              NaN              NaN              NaN              NaN            NaN           NaN             13               NaN               NaN               NaN               NaN               NaN             NaN            NaN                   NaN                   NaN                   NaN                   NaN                   NaN                 NaN                NaN                  13                    NaN                    NaN                    NaN                    NaN                    NaN                  NaN                 NaN                    NaN                    NaN                    NaN                    NaN                    NaN                  NaN   \n",
       "10       0.034835      0.000958         0.000000        0.000000  RandomForestClassifier(min_samples_leaf=20, n_...                                 30                             20                30                              0  {'classifier': RandomForestClassifier(min_samp...              NaN              NaN              NaN              NaN              NaN            NaN           NaN             14               NaN               NaN               NaN               NaN               NaN             NaN            NaN                   NaN                   NaN                   NaN                   NaN                   NaN                 NaN                NaN                  14                    NaN                    NaN                    NaN                    NaN                    NaN                  NaN                 NaN                    NaN                    NaN                    NaN                    NaN                    NaN                  NaN   \n",
       "12       0.036708      0.000500         0.000000        0.000000  RandomForestClassifier(min_samples_leaf=20, n_...                                 30                             30                20                              0  {'classifier': RandomForestClassifier(min_samp...              NaN              NaN              NaN              NaN              NaN            NaN           NaN             15               NaN               NaN               NaN               NaN               NaN             NaN            NaN                   NaN                   NaN                   NaN                   NaN                   NaN                 NaN                NaN                  15                    NaN                    NaN                    NaN                    NaN                    NaN                  NaN                 NaN                    NaN                    NaN                    NaN                    NaN                    NaN                  NaN   \n",
       "14       0.036650      0.000457         0.000000        0.000000  RandomForestClassifier(min_samples_leaf=20, n_...                                 30                             30                30                              0  {'classifier': RandomForestClassifier(min_samp...              NaN              NaN              NaN              NaN              NaN            NaN           NaN             16               NaN               NaN               NaN               NaN               NaN             NaN            NaN                   NaN                   NaN                   NaN                   NaN                   NaN                 NaN                NaN                  16                    NaN                    NaN                    NaN                    NaN                    NaN                  NaN                 NaN                    NaN                    NaN                    NaN                    NaN                    NaN                  NaN   \n",
       "\n",
       "    std_test_Precision  rank_test_Precision  split0_train_Precision  split1_train_Precision  split2_train_Precision  split3_train_Precision  split4_train_Precision  mean_train_Precision  std_train_Precision  split0_test_Recall  split1_test_Recall  split2_test_Recall  split3_test_Recall  split4_test_Recall  mean_test_Recall  std_test_Recall  rank_test_Recall  split0_train_Recall  split1_train_Recall  split2_train_Recall  split3_train_Recall  split4_train_Recall  mean_train_Recall  std_train_Recall  split0_test_F1-Score  split1_test_F1-Score  split2_test_F1-Score  split3_test_F1-Score  split4_test_F1-Score  mean_test_F1-Score  std_test_F1-Score  rank_test_F1-Score  split0_train_F1-Score  split1_train_F1-Score  split2_train_F1-Score  split3_train_F1-Score  split4_train_F1-Score  mean_train_F1-Score  std_train_F1-Score  \n",
       "11            0.056826                    1                0.702586                0.717593                0.731343                0.741463                0.751174              0.728832             0.017206            0.698113            0.754717            0.773585            0.769231            0.673077          0.733745         0.040587                 3             0.776190             0.738095             0.700000             0.720379             0.758294           0.738592          0.026919              0.691589              0.776699              0.780952              0.720721              0.673077            0.728608           0.043747                   2               0.737557               0.727700               0.715328               0.730769               0.754717             0.733214            0.012942  \n",
       "1             0.053508                    4                0.705628                0.703057                0.716279                0.746479                0.728889              0.720066             0.016047            0.716981            0.754717            0.792453            0.788462            0.653846          0.741292         0.051498                 2             0.776190             0.766667             0.733333             0.753555             0.777251           0.761399          0.016414              0.723810              0.761905              0.785047              0.725664              0.647619            0.728809           0.046658                   1               0.739229               0.733485               0.724706               0.750000               0.752294             0.739943            0.010277  \n",
       "5             0.055754                    3                0.724444                0.729858                0.716895                0.761421                0.755869              0.737697             0.017680            0.698113            0.735849            0.792453            0.730769            0.673077          0.726052         0.040285                 6             0.776190             0.733333             0.747619             0.710900             0.763033           0.746215          0.022788              0.704762              0.764706              0.785047              0.697248              0.666667            0.723686           0.044173                   4               0.749425               0.731591               0.731935               0.735294               0.759434             0.741536            0.011069  \n",
       "7             0.043030                    5                0.717489                0.743119                0.694215                0.741935                0.751152              0.729582             0.020968            0.679245            0.754717            0.830189            0.769231            0.673077          0.741292         0.058935                 1             0.761905             0.771429             0.800000             0.763033             0.772512           0.773776          0.013792              0.699029              0.769231              0.778761              0.714286              0.673077            0.726877           0.040778                   3               0.739030               0.757009               0.743363               0.752336               0.761682             0.750684            0.008404  \n",
       "9             0.048225                    2                0.709821                0.725118                0.704545                0.766497                0.728448              0.726886             0.021748            0.679245            0.735849            0.773585            0.730769            0.692308          0.722351         0.033582                 7             0.757143             0.728571             0.738095             0.715640             0.800948           0.748079          0.029698              0.712871              0.757282              0.766355              0.697248              0.679245            0.722600           0.033865                   5               0.732719               0.726841               0.720930               0.740196               0.762980             0.736733            0.014592  \n",
       "3             0.046262                    6                0.727273                0.718750                0.724771                0.751196                0.737778              0.731953             0.011420            0.698113            0.754717            0.830189            0.730769            0.653846          0.733527         0.058997                 5             0.761905             0.766667             0.752381             0.744076             0.786730           0.762352          0.014467              0.704762              0.754717              0.800000              0.690909              0.660194            0.722116           0.049473                   6               0.744186               0.741935               0.738318               0.747619               0.761468             0.746705            0.007978  \n",
       "13            0.042564                    7                0.728972                0.696203                0.715596                0.760976                0.713115              0.722972             0.021672            0.679245            0.754717            0.792453            0.750000            0.692308          0.733745         0.042043                 3             0.742857             0.785714             0.742857             0.739336             0.824645           0.767082          0.033479              0.705882              0.747664              0.770642              0.709091              0.666667            0.719989           0.036035                   7               0.735849               0.738255               0.728972               0.750000               0.764835             0.743582            0.012606  \n",
       "15            0.053885                    8                0.701299                0.715596                0.699571                0.755000                0.728070              0.719907             0.020379            0.698113            0.735849            0.735849            0.730769            0.673077          0.714731         0.025141                 8             0.771429             0.742857             0.776190             0.715640             0.786730           0.758569          0.025918              0.691589              0.764706              0.715596              0.697248              0.654206            0.704669           0.036046                   8               0.734694               0.728972               0.735892               0.734793               0.756264             0.738123            0.009388  \n",
       "0                  NaN                    9                     NaN                     NaN                     NaN                     NaN                     NaN                   NaN                  NaN                 NaN                 NaN                 NaN                 NaN                 NaN               NaN              NaN                 9                  NaN                  NaN                  NaN                  NaN                  NaN                NaN               NaN                   NaN                   NaN                   NaN                   NaN                   NaN                 NaN                NaN                   9                    NaN                    NaN                    NaN                    NaN                    NaN                  NaN                 NaN  \n",
       "2                  NaN                   10                     NaN                     NaN                     NaN                     NaN                     NaN                   NaN                  NaN                 NaN                 NaN                 NaN                 NaN                 NaN               NaN              NaN                10                  NaN                  NaN                  NaN                  NaN                  NaN                NaN               NaN                   NaN                   NaN                   NaN                   NaN                   NaN                 NaN                NaN                  10                    NaN                    NaN                    NaN                    NaN                    NaN                  NaN                 NaN  \n",
       "4                  NaN                   11                     NaN                     NaN                     NaN                     NaN                     NaN                   NaN                  NaN                 NaN                 NaN                 NaN                 NaN                 NaN               NaN              NaN                11                  NaN                  NaN                  NaN                  NaN                  NaN                NaN               NaN                   NaN                   NaN                   NaN                   NaN                   NaN                 NaN                NaN                  11                    NaN                    NaN                    NaN                    NaN                    NaN                  NaN                 NaN  \n",
       "6                  NaN                   12                     NaN                     NaN                     NaN                     NaN                     NaN                   NaN                  NaN                 NaN                 NaN                 NaN                 NaN                 NaN               NaN              NaN                12                  NaN                  NaN                  NaN                  NaN                  NaN                NaN               NaN                   NaN                   NaN                   NaN                   NaN                   NaN                 NaN                NaN                  12                    NaN                    NaN                    NaN                    NaN                    NaN                  NaN                 NaN  \n",
       "8                  NaN                   13                     NaN                     NaN                     NaN                     NaN                     NaN                   NaN                  NaN                 NaN                 NaN                 NaN                 NaN                 NaN               NaN              NaN                13                  NaN                  NaN                  NaN                  NaN                  NaN                NaN               NaN                   NaN                   NaN                   NaN                   NaN                   NaN                 NaN                NaN                  13                    NaN                    NaN                    NaN                    NaN                    NaN                  NaN                 NaN  \n",
       "10                 NaN                   14                     NaN                     NaN                     NaN                     NaN                     NaN                   NaN                  NaN                 NaN                 NaN                 NaN                 NaN                 NaN               NaN              NaN                14                  NaN                  NaN                  NaN                  NaN                  NaN                NaN               NaN                   NaN                   NaN                   NaN                   NaN                   NaN                 NaN                NaN                  14                    NaN                    NaN                    NaN                    NaN                    NaN                  NaN                 NaN  \n",
       "12                 NaN                   15                     NaN                     NaN                     NaN                     NaN                     NaN                   NaN                  NaN                 NaN                 NaN                 NaN                 NaN                 NaN               NaN              NaN                15                  NaN                  NaN                  NaN                  NaN                  NaN                NaN               NaN                   NaN                   NaN                   NaN                   NaN                   NaN                 NaN                NaN                  15                    NaN                    NaN                    NaN                    NaN                    NaN                  NaN                 NaN  \n",
       "14                 NaN                   16                     NaN                     NaN                     NaN                     NaN                     NaN                   NaN                  NaN                 NaN                 NaN                 NaN                 NaN                 NaN               NaN              NaN                16                  NaN                  NaN                  NaN                  NaN                  NaN                NaN               NaN                   NaN                   NaN                   NaN                   NaN                   NaN                 NaN                NaN                  16                    NaN                    NaN                    NaN                    NaN                    NaN                  NaN                 NaN  "
      ]
     },
     "execution_count": 333,
     "metadata": {},
     "output_type": "execute_result"
    }
   ],
   "source": [
    "import pandas as pd\n",
    "pd.set_option('display.max_rows'   , 500)\n",
    "pd.set_option('display.max_columns', 500)\n",
    "pd.set_option('display.width'      , 1000)\n",
    "\n",
    "pd.DataFrame(grid_search.cv_results_).sort_values('rank_test_Accuracy')"
   ]
  },
  {
   "cell_type": "code",
   "execution_count": 265,
   "metadata": {},
   "outputs": [],
   "source": [
    "best_pipe = gs.best_estimator_"
   ]
  },
  {
   "cell_type": "code",
   "execution_count": 266,
   "metadata": {},
   "outputs": [
    {
     "data": {
      "text/html": [
       "<style>#sk-container-id-3 {color: black;background-color: white;}#sk-container-id-3 pre{padding: 0;}#sk-container-id-3 div.sk-toggleable {background-color: white;}#sk-container-id-3 label.sk-toggleable__label {cursor: pointer;display: block;width: 100%;margin-bottom: 0;padding: 0.3em;box-sizing: border-box;text-align: center;}#sk-container-id-3 label.sk-toggleable__label-arrow:before {content: \"▸\";float: left;margin-right: 0.25em;color: #696969;}#sk-container-id-3 label.sk-toggleable__label-arrow:hover:before {color: black;}#sk-container-id-3 div.sk-estimator:hover label.sk-toggleable__label-arrow:before {color: black;}#sk-container-id-3 div.sk-toggleable__content {max-height: 0;max-width: 0;overflow: hidden;text-align: left;background-color: #f0f8ff;}#sk-container-id-3 div.sk-toggleable__content pre {margin: 0.2em;color: black;border-radius: 0.25em;background-color: #f0f8ff;}#sk-container-id-3 input.sk-toggleable__control:checked~div.sk-toggleable__content {max-height: 200px;max-width: 100%;overflow: auto;}#sk-container-id-3 input.sk-toggleable__control:checked~label.sk-toggleable__label-arrow:before {content: \"▾\";}#sk-container-id-3 div.sk-estimator input.sk-toggleable__control:checked~label.sk-toggleable__label {background-color: #d4ebff;}#sk-container-id-3 div.sk-label input.sk-toggleable__control:checked~label.sk-toggleable__label {background-color: #d4ebff;}#sk-container-id-3 input.sk-hidden--visually {border: 0;clip: rect(1px 1px 1px 1px);clip: rect(1px, 1px, 1px, 1px);height: 1px;margin: -1px;overflow: hidden;padding: 0;position: absolute;width: 1px;}#sk-container-id-3 div.sk-estimator {font-family: monospace;background-color: #f0f8ff;border: 1px dotted black;border-radius: 0.25em;box-sizing: border-box;margin-bottom: 0.5em;}#sk-container-id-3 div.sk-estimator:hover {background-color: #d4ebff;}#sk-container-id-3 div.sk-parallel-item::after {content: \"\";width: 100%;border-bottom: 1px solid gray;flex-grow: 1;}#sk-container-id-3 div.sk-label:hover label.sk-toggleable__label {background-color: #d4ebff;}#sk-container-id-3 div.sk-serial::before {content: \"\";position: absolute;border-left: 1px solid gray;box-sizing: border-box;top: 0;bottom: 0;left: 50%;z-index: 0;}#sk-container-id-3 div.sk-serial {display: flex;flex-direction: column;align-items: center;background-color: white;padding-right: 0.2em;padding-left: 0.2em;position: relative;}#sk-container-id-3 div.sk-item {position: relative;z-index: 1;}#sk-container-id-3 div.sk-parallel {display: flex;align-items: stretch;justify-content: center;background-color: white;position: relative;}#sk-container-id-3 div.sk-item::before, #sk-container-id-3 div.sk-parallel-item::before {content: \"\";position: absolute;border-left: 1px solid gray;box-sizing: border-box;top: 0;bottom: 0;left: 50%;z-index: -1;}#sk-container-id-3 div.sk-parallel-item {display: flex;flex-direction: column;z-index: 1;position: relative;background-color: white;}#sk-container-id-3 div.sk-parallel-item:first-child::after {align-self: flex-end;width: 50%;}#sk-container-id-3 div.sk-parallel-item:last-child::after {align-self: flex-start;width: 50%;}#sk-container-id-3 div.sk-parallel-item:only-child::after {width: 0;}#sk-container-id-3 div.sk-dashed-wrapped {border: 1px dashed gray;margin: 0 0.4em 0.5em 0.4em;box-sizing: border-box;padding-bottom: 0.4em;background-color: white;}#sk-container-id-3 div.sk-label label {font-family: monospace;font-weight: bold;display: inline-block;line-height: 1.2em;}#sk-container-id-3 div.sk-label-container {text-align: center;}#sk-container-id-3 div.sk-container {/* jupyter's `normalize.less` sets `[hidden] { display: none; }` but bootstrap.min.css set `[hidden] { display: none !important; }` so we also need the `!important` here to be able to override the default hidden behavior on the sphinx rendered scikit-learn.org. See: https://github.com/scikit-learn/scikit-learn/issues/21755 */display: inline-block !important;position: relative;}#sk-container-id-3 div.sk-text-repr-fallback {display: none;}</style><div id=\"sk-container-id-3\" class=\"sk-top-container\"><div class=\"sk-text-repr-fallback\"><pre>Pipeline(steps=[(&#x27;embarked_transformer&#x27;,\n",
       "                 FunctionTransformer(func=&lt;function embarked_imp at 0x7f2e49bb28b0&gt;)),\n",
       "                (&#x27;age_transformer&#x27;,\n",
       "                 FunctionTransformer(func=&lt;function age_imp at 0x7f2e49bb2ee0&gt;)),\n",
       "                (&#x27;fare_transformer&#x27;,\n",
       "                 FunctionTransformer(func=&lt;function fare_imp at 0x7f2e49e99160&gt;)),\n",
       "                (&#x27;cabin_transformer&#x27;,\n",
       "                 FunctionTransformer(func=&lt;function cabin_imp at 0x7f2e49e993a0&gt;)...\n",
       "                                                                   OneHotEncoder(handle_unknown=&#x27;ignore&#x27;))]),\n",
       "                                                  [&#x27;Pclass&#x27;, &#x27;Sex&#x27;, &#x27;SibSp&#x27;,\n",
       "                                                   &#x27;Parch&#x27;, &#x27;Cabin_Category&#x27;,\n",
       "                                                   &#x27;Embarked&#x27;, &#x27;Title&#x27;,\n",
       "                                                   &#x27;occ_of_ticket&#x27;]),\n",
       "                                                 (&#x27;discretizer&#x27;,\n",
       "                                                  Pipeline(steps=[(&#x27;discretizer&#x27;,\n",
       "                                                                   KBinsDiscretizer())]),\n",
       "                                                  [&#x27;Age&#x27;, &#x27;Fare&#x27;,\n",
       "                                                   &#x27;Fare_log&#x27;])])),\n",
       "                (&#x27;smote&#x27;, SMOTE()), (&#x27;selector&#x27;, SelectKBest(k=20)),\n",
       "                (&#x27;classifier&#x27;,\n",
       "                 RandomForestClassifier(min_samples_leaf=20, n_estimators=30))])</pre><b>In a Jupyter environment, please rerun this cell to show the HTML representation or trust the notebook. <br />On GitHub, the HTML representation is unable to render, please try loading this page with nbviewer.org.</b></div><div class=\"sk-container\" hidden><div class=\"sk-item sk-dashed-wrapped\"><div class=\"sk-label-container\"><div class=\"sk-label sk-toggleable\"><input class=\"sk-toggleable__control sk-hidden--visually\" id=\"sk-estimator-id-47\" type=\"checkbox\" ><label for=\"sk-estimator-id-47\" class=\"sk-toggleable__label sk-toggleable__label-arrow\">Pipeline</label><div class=\"sk-toggleable__content\"><pre>Pipeline(steps=[(&#x27;embarked_transformer&#x27;,\n",
       "                 FunctionTransformer(func=&lt;function embarked_imp at 0x7f2e49bb28b0&gt;)),\n",
       "                (&#x27;age_transformer&#x27;,\n",
       "                 FunctionTransformer(func=&lt;function age_imp at 0x7f2e49bb2ee0&gt;)),\n",
       "                (&#x27;fare_transformer&#x27;,\n",
       "                 FunctionTransformer(func=&lt;function fare_imp at 0x7f2e49e99160&gt;)),\n",
       "                (&#x27;cabin_transformer&#x27;,\n",
       "                 FunctionTransformer(func=&lt;function cabin_imp at 0x7f2e49e993a0&gt;)...\n",
       "                                                                   OneHotEncoder(handle_unknown=&#x27;ignore&#x27;))]),\n",
       "                                                  [&#x27;Pclass&#x27;, &#x27;Sex&#x27;, &#x27;SibSp&#x27;,\n",
       "                                                   &#x27;Parch&#x27;, &#x27;Cabin_Category&#x27;,\n",
       "                                                   &#x27;Embarked&#x27;, &#x27;Title&#x27;,\n",
       "                                                   &#x27;occ_of_ticket&#x27;]),\n",
       "                                                 (&#x27;discretizer&#x27;,\n",
       "                                                  Pipeline(steps=[(&#x27;discretizer&#x27;,\n",
       "                                                                   KBinsDiscretizer())]),\n",
       "                                                  [&#x27;Age&#x27;, &#x27;Fare&#x27;,\n",
       "                                                   &#x27;Fare_log&#x27;])])),\n",
       "                (&#x27;smote&#x27;, SMOTE()), (&#x27;selector&#x27;, SelectKBest(k=20)),\n",
       "                (&#x27;classifier&#x27;,\n",
       "                 RandomForestClassifier(min_samples_leaf=20, n_estimators=30))])</pre></div></div></div><div class=\"sk-serial\"><div class=\"sk-item\"><div class=\"sk-estimator sk-toggleable\"><input class=\"sk-toggleable__control sk-hidden--visually\" id=\"sk-estimator-id-48\" type=\"checkbox\" ><label for=\"sk-estimator-id-48\" class=\"sk-toggleable__label sk-toggleable__label-arrow\">FunctionTransformer</label><div class=\"sk-toggleable__content\"><pre>FunctionTransformer(func=&lt;function embarked_imp at 0x7f2e49bb28b0&gt;)</pre></div></div></div><div class=\"sk-item\"><div class=\"sk-estimator sk-toggleable\"><input class=\"sk-toggleable__control sk-hidden--visually\" id=\"sk-estimator-id-49\" type=\"checkbox\" ><label for=\"sk-estimator-id-49\" class=\"sk-toggleable__label sk-toggleable__label-arrow\">FunctionTransformer</label><div class=\"sk-toggleable__content\"><pre>FunctionTransformer(func=&lt;function age_imp at 0x7f2e49bb2ee0&gt;)</pre></div></div></div><div class=\"sk-item\"><div class=\"sk-estimator sk-toggleable\"><input class=\"sk-toggleable__control sk-hidden--visually\" id=\"sk-estimator-id-50\" type=\"checkbox\" ><label for=\"sk-estimator-id-50\" class=\"sk-toggleable__label sk-toggleable__label-arrow\">FunctionTransformer</label><div class=\"sk-toggleable__content\"><pre>FunctionTransformer(func=&lt;function fare_imp at 0x7f2e49e99160&gt;)</pre></div></div></div><div class=\"sk-item\"><div class=\"sk-estimator sk-toggleable\"><input class=\"sk-toggleable__control sk-hidden--visually\" id=\"sk-estimator-id-51\" type=\"checkbox\" ><label for=\"sk-estimator-id-51\" class=\"sk-toggleable__label sk-toggleable__label-arrow\">FunctionTransformer</label><div class=\"sk-toggleable__content\"><pre>FunctionTransformer(func=&lt;function cabin_imp at 0x7f2e49e993a0&gt;)</pre></div></div></div><div class=\"sk-item\"><div class=\"sk-estimator sk-toggleable\"><input class=\"sk-toggleable__control sk-hidden--visually\" id=\"sk-estimator-id-52\" type=\"checkbox\" ><label for=\"sk-estimator-id-52\" class=\"sk-toggleable__label sk-toggleable__label-arrow\">FunctionTransformer</label><div class=\"sk-toggleable__content\"><pre>FunctionTransformer(func=&lt;function drop_dupl at 0x7f2e49eb4550&gt;)</pre></div></div></div><div class=\"sk-item\"><div class=\"sk-estimator sk-toggleable\"><input class=\"sk-toggleable__control sk-hidden--visually\" id=\"sk-estimator-id-53\" type=\"checkbox\" ><label for=\"sk-estimator-id-53\" class=\"sk-toggleable__label sk-toggleable__label-arrow\">FunctionTransformer</label><div class=\"sk-toggleable__content\"><pre>FunctionTransformer(func=&lt;function name_extract at 0x7f2e49eb45e0&gt;)</pre></div></div></div><div class=\"sk-item\"><div class=\"sk-estimator sk-toggleable\"><input class=\"sk-toggleable__control sk-hidden--visually\" id=\"sk-estimator-id-54\" type=\"checkbox\" ><label for=\"sk-estimator-id-54\" class=\"sk-toggleable__label sk-toggleable__label-arrow\">FunctionTransformer</label><div class=\"sk-toggleable__content\"><pre>FunctionTransformer(func=&lt;function fare_log at 0x7f2e49eb4e50&gt;)</pre></div></div></div><div class=\"sk-item\"><div class=\"sk-estimator sk-toggleable\"><input class=\"sk-toggleable__control sk-hidden--visually\" id=\"sk-estimator-id-55\" type=\"checkbox\" ><label for=\"sk-estimator-id-55\" class=\"sk-toggleable__label sk-toggleable__label-arrow\">FunctionTransformer</label><div class=\"sk-toggleable__content\"><pre>FunctionTransformer(func=&lt;function cabin_extract at 0x7f2e49ea5310&gt;)</pre></div></div></div><div class=\"sk-item\"><div class=\"sk-estimator sk-toggleable\"><input class=\"sk-toggleable__control sk-hidden--visually\" id=\"sk-estimator-id-56\" type=\"checkbox\" ><label for=\"sk-estimator-id-56\" class=\"sk-toggleable__label sk-toggleable__label-arrow\">FunctionTransformer</label><div class=\"sk-toggleable__content\"><pre>FunctionTransformer(func=&lt;function ticket_occ at 0x7f2e49ea5670&gt;)</pre></div></div></div><div class=\"sk-item\"><div class=\"sk-estimator sk-toggleable\"><input class=\"sk-toggleable__control sk-hidden--visually\" id=\"sk-estimator-id-57\" type=\"checkbox\" ><label for=\"sk-estimator-id-57\" class=\"sk-toggleable__label sk-toggleable__label-arrow\">FunctionTransformer</label><div class=\"sk-toggleable__content\"><pre>FunctionTransformer(func=&lt;function drop_feat at 0x7f2e49eae550&gt;)</pre></div></div></div><div class=\"sk-item sk-dashed-wrapped\"><div class=\"sk-label-container\"><div class=\"sk-label sk-toggleable\"><input class=\"sk-toggleable__control sk-hidden--visually\" id=\"sk-estimator-id-58\" type=\"checkbox\" ><label for=\"sk-estimator-id-58\" class=\"sk-toggleable__label sk-toggleable__label-arrow\">col_transformer: ColumnTransformer</label><div class=\"sk-toggleable__content\"><pre>ColumnTransformer(transformers=[(&#x27;numeric&#x27;,\n",
       "                                 Pipeline(steps=[(&#x27;imputer&#x27;, SimpleImputer()),\n",
       "                                                 (&#x27;scaler&#x27;, StandardScaler())]),\n",
       "                                 [&#x27;Age&#x27;, &#x27;Fare&#x27;, &#x27;Fare_log&#x27;]),\n",
       "                                (&#x27;categorical&#x27;,\n",
       "                                 Pipeline(steps=[(&#x27;imputer&#x27;,\n",
       "                                                  SimpleImputer(strategy=&#x27;most_frequent&#x27;)),\n",
       "                                                 (&#x27;onehot&#x27;,\n",
       "                                                  OneHotEncoder(handle_unknown=&#x27;ignore&#x27;))]),\n",
       "                                 [&#x27;Pclass&#x27;, &#x27;Sex&#x27;, &#x27;SibSp&#x27;, &#x27;Parch&#x27;,\n",
       "                                  &#x27;Cabin_Category&#x27;, &#x27;Embarked&#x27;, &#x27;Title&#x27;,\n",
       "                                  &#x27;occ_of_ticket&#x27;]),\n",
       "                                (&#x27;discretizer&#x27;,\n",
       "                                 Pipeline(steps=[(&#x27;discretizer&#x27;,\n",
       "                                                  KBinsDiscretizer())]),\n",
       "                                 [&#x27;Age&#x27;, &#x27;Fare&#x27;, &#x27;Fare_log&#x27;])])</pre></div></div></div><div class=\"sk-parallel\"><div class=\"sk-parallel-item\"><div class=\"sk-item\"><div class=\"sk-label-container\"><div class=\"sk-label sk-toggleable\"><input class=\"sk-toggleable__control sk-hidden--visually\" id=\"sk-estimator-id-59\" type=\"checkbox\" ><label for=\"sk-estimator-id-59\" class=\"sk-toggleable__label sk-toggleable__label-arrow\">numeric</label><div class=\"sk-toggleable__content\"><pre>[&#x27;Age&#x27;, &#x27;Fare&#x27;, &#x27;Fare_log&#x27;]</pre></div></div></div><div class=\"sk-serial\"><div class=\"sk-item\"><div class=\"sk-serial\"><div class=\"sk-item\"><div class=\"sk-estimator sk-toggleable\"><input class=\"sk-toggleable__control sk-hidden--visually\" id=\"sk-estimator-id-60\" type=\"checkbox\" ><label for=\"sk-estimator-id-60\" class=\"sk-toggleable__label sk-toggleable__label-arrow\">SimpleImputer</label><div class=\"sk-toggleable__content\"><pre>SimpleImputer()</pre></div></div></div><div class=\"sk-item\"><div class=\"sk-estimator sk-toggleable\"><input class=\"sk-toggleable__control sk-hidden--visually\" id=\"sk-estimator-id-61\" type=\"checkbox\" ><label for=\"sk-estimator-id-61\" class=\"sk-toggleable__label sk-toggleable__label-arrow\">StandardScaler</label><div class=\"sk-toggleable__content\"><pre>StandardScaler()</pre></div></div></div></div></div></div></div></div><div class=\"sk-parallel-item\"><div class=\"sk-item\"><div class=\"sk-label-container\"><div class=\"sk-label sk-toggleable\"><input class=\"sk-toggleable__control sk-hidden--visually\" id=\"sk-estimator-id-62\" type=\"checkbox\" ><label for=\"sk-estimator-id-62\" class=\"sk-toggleable__label sk-toggleable__label-arrow\">categorical</label><div class=\"sk-toggleable__content\"><pre>[&#x27;Pclass&#x27;, &#x27;Sex&#x27;, &#x27;SibSp&#x27;, &#x27;Parch&#x27;, &#x27;Cabin_Category&#x27;, &#x27;Embarked&#x27;, &#x27;Title&#x27;, &#x27;occ_of_ticket&#x27;]</pre></div></div></div><div class=\"sk-serial\"><div class=\"sk-item\"><div class=\"sk-serial\"><div class=\"sk-item\"><div class=\"sk-estimator sk-toggleable\"><input class=\"sk-toggleable__control sk-hidden--visually\" id=\"sk-estimator-id-63\" type=\"checkbox\" ><label for=\"sk-estimator-id-63\" class=\"sk-toggleable__label sk-toggleable__label-arrow\">SimpleImputer</label><div class=\"sk-toggleable__content\"><pre>SimpleImputer(strategy=&#x27;most_frequent&#x27;)</pre></div></div></div><div class=\"sk-item\"><div class=\"sk-estimator sk-toggleable\"><input class=\"sk-toggleable__control sk-hidden--visually\" id=\"sk-estimator-id-64\" type=\"checkbox\" ><label for=\"sk-estimator-id-64\" class=\"sk-toggleable__label sk-toggleable__label-arrow\">OneHotEncoder</label><div class=\"sk-toggleable__content\"><pre>OneHotEncoder(handle_unknown=&#x27;ignore&#x27;)</pre></div></div></div></div></div></div></div></div><div class=\"sk-parallel-item\"><div class=\"sk-item\"><div class=\"sk-label-container\"><div class=\"sk-label sk-toggleable\"><input class=\"sk-toggleable__control sk-hidden--visually\" id=\"sk-estimator-id-65\" type=\"checkbox\" ><label for=\"sk-estimator-id-65\" class=\"sk-toggleable__label sk-toggleable__label-arrow\">discretizer</label><div class=\"sk-toggleable__content\"><pre>[&#x27;Age&#x27;, &#x27;Fare&#x27;, &#x27;Fare_log&#x27;]</pre></div></div></div><div class=\"sk-serial\"><div class=\"sk-item\"><div class=\"sk-serial\"><div class=\"sk-item\"><div class=\"sk-estimator sk-toggleable\"><input class=\"sk-toggleable__control sk-hidden--visually\" id=\"sk-estimator-id-66\" type=\"checkbox\" ><label for=\"sk-estimator-id-66\" class=\"sk-toggleable__label sk-toggleable__label-arrow\">KBinsDiscretizer</label><div class=\"sk-toggleable__content\"><pre>KBinsDiscretizer()</pre></div></div></div></div></div></div></div></div></div></div><div class=\"sk-item\"><div class=\"sk-estimator sk-toggleable\"><input class=\"sk-toggleable__control sk-hidden--visually\" id=\"sk-estimator-id-67\" type=\"checkbox\" ><label for=\"sk-estimator-id-67\" class=\"sk-toggleable__label sk-toggleable__label-arrow\">SMOTE</label><div class=\"sk-toggleable__content\"><pre>SMOTE()</pre></div></div></div><div class=\"sk-item\"><div class=\"sk-estimator sk-toggleable\"><input class=\"sk-toggleable__control sk-hidden--visually\" id=\"sk-estimator-id-68\" type=\"checkbox\" ><label for=\"sk-estimator-id-68\" class=\"sk-toggleable__label sk-toggleable__label-arrow\">SelectKBest</label><div class=\"sk-toggleable__content\"><pre>SelectKBest(k=20)</pre></div></div></div><div class=\"sk-item\"><div class=\"sk-estimator sk-toggleable\"><input class=\"sk-toggleable__control sk-hidden--visually\" id=\"sk-estimator-id-69\" type=\"checkbox\" ><label for=\"sk-estimator-id-69\" class=\"sk-toggleable__label sk-toggleable__label-arrow\">RandomForestClassifier</label><div class=\"sk-toggleable__content\"><pre>RandomForestClassifier(min_samples_leaf=20, n_estimators=30)</pre></div></div></div></div></div></div></div>"
      ],
      "text/plain": [
       "Pipeline(steps=[('embarked_transformer',\n",
       "                 FunctionTransformer(func=<function embarked_imp at 0x7f2e49bb28b0>)),\n",
       "                ('age_transformer',\n",
       "                 FunctionTransformer(func=<function age_imp at 0x7f2e49bb2ee0>)),\n",
       "                ('fare_transformer',\n",
       "                 FunctionTransformer(func=<function fare_imp at 0x7f2e49e99160>)),\n",
       "                ('cabin_transformer',\n",
       "                 FunctionTransformer(func=<function cabin_imp at 0x7f2e49e993a0>)...\n",
       "                                                                   OneHotEncoder(handle_unknown='ignore'))]),\n",
       "                                                  ['Pclass', 'Sex', 'SibSp',\n",
       "                                                   'Parch', 'Cabin_Category',\n",
       "                                                   'Embarked', 'Title',\n",
       "                                                   'occ_of_ticket']),\n",
       "                                                 ('discretizer',\n",
       "                                                  Pipeline(steps=[('discretizer',\n",
       "                                                                   KBinsDiscretizer())]),\n",
       "                                                  ['Age', 'Fare',\n",
       "                                                   'Fare_log'])])),\n",
       "                ('smote', SMOTE()), ('selector', SelectKBest(k=20)),\n",
       "                ('classifier',\n",
       "                 RandomForestClassifier(min_samples_leaf=20, n_estimators=30))])"
      ]
     },
     "execution_count": 266,
     "metadata": {},
     "output_type": "execute_result"
    }
   ],
   "source": [
    "best_pipe"
   ]
  },
  {
   "cell_type": "markdown",
   "metadata": {},
   "source": [
    "#### Step 6.4 - evaluate the feature importance"
   ]
  },
  {
   "cell_type": "code",
   "execution_count": 169,
   "metadata": {},
   "outputs": [
    {
     "data": {
      "text/plain": [
       "array([0.05133769, 0.04627674, 0.01093798, 0.01027628, 0.10665947,\n",
       "       0.14244048, 0.17197516, 0.0086531 , 0.00269961, 0.01313214,\n",
       "       0.00483189, 0.022827  , 0.00367388, 0.        , 0.00266119,\n",
       "       0.00102091, 0.00964722, 0.09547669, 0.19200136, 0.06386948,\n",
       "       0.00552751, 0.00647053, 0.00237393, 0.00475676, 0.00180533,\n",
       "       0.00202207, 0.00627506, 0.00123288, 0.00106704, 0.0080706 ])"
      ]
     },
     "execution_count": 169,
     "metadata": {},
     "output_type": "execute_result"
    }
   ],
   "source": [
    "best_pipe.steps[-1][1].feature_importances_"
   ]
  },
  {
   "cell_type": "code",
   "execution_count": 264,
   "metadata": {},
   "outputs": [],
   "source": [
    "# in order to evaluate the features I need the feature importance and the transformed feature names\n",
    "# this will be possible with future versions\n",
    "# https://scikit-learn.org/stable/auto_examples/miscellaneous/plot_set_output.html\n",
    "# .set_output( transform = \"pandas\"))"
   ]
  },
  {
   "cell_type": "markdown",
   "metadata": {},
   "source": [
    "#### Step 6.5 - feature selection"
   ]
  },
  {
   "cell_type": "markdown",
   "metadata": {},
   "source": [
    "- *Drop the attributes that provide no useful information for the task.*"
   ]
  },
  {
   "cell_type": "markdown",
   "metadata": {},
   "source": [
    "### Step 7 - model tuning"
   ]
  },
  {
   "cell_type": "markdown",
   "metadata": {
    "heading_collapsed": true
   },
   "source": [
    "#### Step 7.1 - create a pipeline for model tuning"
   ]
  },
  {
   "cell_type": "markdown",
   "metadata": {
    "hidden": true
   },
   "source": [
    "##### Step 7.1.1 - function transformer"
   ]
  },
  {
   "cell_type": "markdown",
   "metadata": {
    "hidden": true
   },
   "source": [
    "##### Step 7.1.2 - column transformer"
   ]
  },
  {
   "cell_type": "markdown",
   "metadata": {
    "hidden": true
   },
   "source": [
    "##### Step 7.1.3 - set up pipeline with estimators"
   ]
  },
  {
   "cell_type": "markdown",
   "metadata": {
    "hidden": true
   },
   "source": [
    "##### Step 7.1.4 - define the hyperparameter grid"
   ]
  },
  {
   "cell_type": "markdown",
   "metadata": {
    "hidden": true
   },
   "source": [
    "##### Step 7.1.5 - set up the grid search CV"
   ]
  },
  {
   "cell_type": "markdown",
   "metadata": {},
   "source": [
    "#### Step 7.2 - run the baseline model"
   ]
  },
  {
   "cell_type": "markdown",
   "metadata": {},
   "source": [
    "#### Step 7.3 - evaluate the model"
   ]
  },
  {
   "cell_type": "markdown",
   "metadata": {},
   "source": [
    "#### Step 7.4 - handle over-/underfitting (e.g. regularization)"
   ]
  },
  {
   "cell_type": "markdown",
   "metadata": {},
   "source": [
    "#### Step 7.5 - optimize the model"
   ]
  },
  {
   "cell_type": "markdown",
   "metadata": {},
   "source": [
    "### Step 8 - retraining the best model with the whole data set"
   ]
  },
  {
   "cell_type": "markdown",
   "metadata": {},
   "source": [
    "### Step 9 - pickle the best model"
   ]
  },
  {
   "cell_type": "code",
   "execution_count": null,
   "metadata": {},
   "outputs": [],
   "source": [
    "# .set_output( transform = \"pandas\"))"
   ]
  },
  {
   "cell_type": "code",
   "execution_count": null,
   "metadata": {},
   "outputs": [],
   "source": [
    "# print all versions"
   ]
  },
  {
   "cell_type": "code",
   "execution_count": null,
   "metadata": {},
   "outputs": [],
   "source": []
  },
  {
   "cell_type": "code",
   "execution_count": null,
   "metadata": {},
   "outputs": [],
   "source": []
  },
  {
   "cell_type": "code",
   "execution_count": null,
   "metadata": {},
   "outputs": [],
   "source": []
  },
  {
   "cell_type": "code",
   "execution_count": null,
   "metadata": {},
   "outputs": [],
   "source": []
  },
  {
   "cell_type": "code",
   "execution_count": null,
   "metadata": {},
   "outputs": [],
   "source": []
  },
  {
   "cell_type": "code",
   "execution_count": null,
   "metadata": {},
   "outputs": [],
   "source": []
  },
  {
   "cell_type": "code",
   "execution_count": null,
   "metadata": {},
   "outputs": [],
   "source": []
  },
  {
   "cell_type": "code",
   "execution_count": null,
   "metadata": {},
   "outputs": [],
   "source": []
  },
  {
   "cell_type": "code",
   "execution_count": null,
   "metadata": {},
   "outputs": [],
   "source": []
  },
  {
   "cell_type": "code",
   "execution_count": null,
   "metadata": {},
   "outputs": [],
   "source": []
  },
  {
   "cell_type": "code",
   "execution_count": null,
   "metadata": {},
   "outputs": [],
   "source": [
    "from numpy import loadtxt\n",
    "from xgboost import XGBClassifier\n",
    "from sklearn.model_selection import train_test_split\n",
    "from sklearn.metrics import accuracy_score\n",
    "'''\n",
    "# load data\n",
    "dataset = loadtxt('pima-indians-diabetes.csv', delimiter=\",\")\n",
    "# split data into X and y\n",
    "X = dataset[:,0:8]\n",
    "Y = dataset[:,8]\n",
    "# split data into train and test sets\n",
    "seed = 7\n",
    "test_size = 0.33\n",
    "X_train, X_test, y_train, y_test = train_test_split(X, Y, test_size=test_size, random_state=seed)\n",
    "'''\n",
    "# fit model no training data\n",
    "# model = XGBClassifier(max_depth=6, n_estimators=50, learning_rate=0.01)\n",
    "model = LogisticRegression()\n",
    "\n",
    "model.fit(X_train, y_train)\n",
    "# make predictions for test data\n",
    "y_pred = model.predict(X_test)\n",
    "predictions = [round(value) for value in y_pred]\n",
    "# evaluate predictions\n",
    "accuracy = accuracy_score(y_test, predictions)\n",
    "print(\"Accuracy: %.2f%%\" % (accuracy * 100.0))"
   ]
  },
  {
   "cell_type": "code",
   "execution_count": null,
   "metadata": {},
   "outputs": [],
   "source": [
    "pred = model.predict(df_test_new)"
   ]
  },
  {
   "cell_type": "code",
   "execution_count": null,
   "metadata": {},
   "outputs": [],
   "source": [
    "results = pd.DataFrame({'PassengerId':pid.values,\n",
    "                   'Survived':pred})"
   ]
  },
  {
   "cell_type": "code",
   "execution_count": null,
   "metadata": {},
   "outputs": [],
   "source": [
    "# results.to_csv('predictions_titanic.csv', index=False)\n",
    "results"
   ]
  },
  {
   "cell_type": "code",
   "execution_count": null,
   "metadata": {},
   "outputs": [],
   "source": []
  }
 ],
 "metadata": {
  "kernelspec": {
   "display_name": "Python 3 (ipykernel)",
   "language": "python",
   "name": "python3"
  },
  "language_info": {
   "codemirror_mode": {
    "name": "ipython",
    "version": 3
   },
   "file_extension": ".py",
   "mimetype": "text/x-python",
   "name": "python",
   "nbconvert_exporter": "python",
   "pygments_lexer": "ipython3",
   "version": "3.9.12"
  }
 },
 "nbformat": 4,
 "nbformat_minor": 4
}
