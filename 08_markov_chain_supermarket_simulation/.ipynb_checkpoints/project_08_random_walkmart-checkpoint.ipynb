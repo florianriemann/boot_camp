{
 "cells": [
  {
   "cell_type": "markdown",
   "id": "39206ad6",
   "metadata": {},
   "source": [
    "The project involves the following tasks:\n",
    "\n",
    "explore the data (includes pandas wrangling)\n",
    "\n",
    "calculate transition probabilities (a 5x5 matrix)\n",
    "\n",
    "implement a customer class\n",
    "\n",
    "run a MCMC simulation for a single customer\n",
    "\n",
    "extend the simulation to multiple customers\n",
    "\n",
    "Upload your code to GitHub\n",
    "\n",
    "The output of the simulation should be a CSV file, similar to the input:"
   ]
  },
  {
   "cell_type": "code",
   "execution_count": 1,
   "id": "1a14e2ad",
   "metadata": {},
   "outputs": [],
   "source": [
    "import pandas            as pd\n",
    "import matplotlib.pyplot as plt\n",
    "\n",
    "pd.options.mode.chained_assignment = None  # default='warn'"
   ]
  },
  {
   "cell_type": "code",
   "execution_count": 2,
   "id": "b0cadd5b",
   "metadata": {},
   "outputs": [
    {
     "data": {
      "text/plain": [
       "'\\ntue_raw = pd.read_csv(\"tuesday.csv\", delimiter=\",\")\\nwed_raw = pd.read_csv(\"wednesday.csv\", delimiter=\",\")\\nthu_raw = pd.read_csv(\"thursday.csv\", delimiter=\",\")\\nfri_raw = pd.read_csv(\"friday.csv\", delimiter=\",\")\\n'"
      ]
     },
     "execution_count": 2,
     "metadata": {},
     "output_type": "execute_result"
    }
   ],
   "source": [
    "### Import Data\n",
    "\n",
    "PATH = '/home/florianriemann/spicy_projects/repos/garlic-boosting-student-code/08_week_project/data/'\n",
    "\n",
    "mon_raw = pd.read_csv(PATH + \"monday.csv\", delimiter=\";\")\n",
    "\n",
    "'''\n",
    "tue_raw = pd.read_csv(\"tuesday.csv\", delimiter=\",\")\n",
    "wed_raw = pd.read_csv(\"wednesday.csv\", delimiter=\",\")\n",
    "thu_raw = pd.read_csv(\"thursday.csv\", delimiter=\",\")\n",
    "fri_raw = pd.read_csv(\"friday.csv\", delimiter=\",\")\n",
    "'''"
   ]
  },
  {
   "cell_type": "code",
   "execution_count": 3,
   "id": "034e3398",
   "metadata": {},
   "outputs": [],
   "source": [
    "# we need the timestamp for multiindex and for aggregation as a column, therefore we use the _tmp temprary\n",
    "mon_raw['timestamp'] = pd.to_datetime(mon_raw['timestamp'])"
   ]
  },
  {
   "cell_type": "code",
   "execution_count": 4,
   "id": "261ea9d8",
   "metadata": {},
   "outputs": [
    {
     "name": "stdout",
     "output_type": "stream",
     "text": [
      "<class 'pandas.core.frame.DataFrame'>\n",
      "RangeIndex: 4884 entries, 0 to 4883\n",
      "Data columns (total 3 columns):\n",
      " #   Column       Non-Null Count  Dtype         \n",
      "---  ------       --------------  -----         \n",
      " 0   timestamp    4884 non-null   datetime64[ns]\n",
      " 1   customer_no  4884 non-null   int64         \n",
      " 2   location     4884 non-null   object        \n",
      "dtypes: datetime64[ns](1), int64(1), object(1)\n",
      "memory usage: 114.6+ KB\n"
     ]
    }
   ],
   "source": [
    "mon_raw.info()"
   ]
  },
  {
   "cell_type": "code",
   "execution_count": 5,
   "id": "e1157079",
   "metadata": {},
   "outputs": [],
   "source": [
    "mon_raw['timestamp_last'] = mon_raw.groupby(['customer_no'])['timestamp'].transform('last')"
   ]
  },
  {
   "cell_type": "code",
   "execution_count": 6,
   "id": "2be4afad",
   "metadata": {},
   "outputs": [],
   "source": [
    "mon_df_missing_checkouts = mon_raw.loc[(mon_raw['timestamp'] == mon_raw['timestamp_last']) & (mon_raw['location'] != 'checkout')]"
   ]
  },
  {
   "cell_type": "code",
   "execution_count": 7,
   "id": "67455919",
   "metadata": {},
   "outputs": [
    {
     "data": {
      "text/html": [
       "<div>\n",
       "<style scoped>\n",
       "    .dataframe tbody tr th:only-of-type {\n",
       "        vertical-align: middle;\n",
       "    }\n",
       "\n",
       "    .dataframe tbody tr th {\n",
       "        vertical-align: top;\n",
       "    }\n",
       "\n",
       "    .dataframe thead th {\n",
       "        text-align: right;\n",
       "    }\n",
       "</style>\n",
       "<table border=\"1\" class=\"dataframe\">\n",
       "  <thead>\n",
       "    <tr style=\"text-align: right;\">\n",
       "      <th></th>\n",
       "      <th>timestamp</th>\n",
       "      <th>customer_no</th>\n",
       "      <th>location</th>\n",
       "      <th>timestamp_last</th>\n",
       "    </tr>\n",
       "  </thead>\n",
       "  <tbody>\n",
       "    <tr>\n",
       "      <th>0</th>\n",
       "      <td>2019-09-02 07:03:00</td>\n",
       "      <td>1</td>\n",
       "      <td>dairy</td>\n",
       "      <td>2019-09-02 07:05:00</td>\n",
       "    </tr>\n",
       "    <tr>\n",
       "      <th>1</th>\n",
       "      <td>2019-09-02 07:03:00</td>\n",
       "      <td>2</td>\n",
       "      <td>dairy</td>\n",
       "      <td>2019-09-02 07:06:00</td>\n",
       "    </tr>\n",
       "    <tr>\n",
       "      <th>2</th>\n",
       "      <td>2019-09-02 07:04:00</td>\n",
       "      <td>3</td>\n",
       "      <td>dairy</td>\n",
       "      <td>2019-09-02 07:06:00</td>\n",
       "    </tr>\n",
       "    <tr>\n",
       "      <th>3</th>\n",
       "      <td>2019-09-02 07:04:00</td>\n",
       "      <td>4</td>\n",
       "      <td>dairy</td>\n",
       "      <td>2019-09-02 07:08:00</td>\n",
       "    </tr>\n",
       "    <tr>\n",
       "      <th>4</th>\n",
       "      <td>2019-09-02 07:04:00</td>\n",
       "      <td>5</td>\n",
       "      <td>spices</td>\n",
       "      <td>2019-09-02 07:05:00</td>\n",
       "    </tr>\n",
       "  </tbody>\n",
       "</table>\n",
       "</div>"
      ],
      "text/plain": [
       "            timestamp  customer_no location      timestamp_last\n",
       "0 2019-09-02 07:03:00            1    dairy 2019-09-02 07:05:00\n",
       "1 2019-09-02 07:03:00            2    dairy 2019-09-02 07:06:00\n",
       "2 2019-09-02 07:04:00            3    dairy 2019-09-02 07:06:00\n",
       "3 2019-09-02 07:04:00            4    dairy 2019-09-02 07:08:00\n",
       "4 2019-09-02 07:04:00            5   spices 2019-09-02 07:05:00"
      ]
     },
     "execution_count": 7,
     "metadata": {},
     "output_type": "execute_result"
    }
   ],
   "source": [
    "mon_raw.head()"
   ]
  },
  {
   "cell_type": "code",
   "execution_count": 8,
   "id": "9de41861",
   "metadata": {},
   "outputs": [
    {
     "data": {
      "text/html": [
       "<div>\n",
       "<style scoped>\n",
       "    .dataframe tbody tr th:only-of-type {\n",
       "        vertical-align: middle;\n",
       "    }\n",
       "\n",
       "    .dataframe tbody tr th {\n",
       "        vertical-align: top;\n",
       "    }\n",
       "\n",
       "    .dataframe thead th {\n",
       "        text-align: right;\n",
       "    }\n",
       "</style>\n",
       "<table border=\"1\" class=\"dataframe\">\n",
       "  <thead>\n",
       "    <tr style=\"text-align: right;\">\n",
       "      <th></th>\n",
       "      <th>timestamp</th>\n",
       "      <th>customer_no</th>\n",
       "      <th>location</th>\n",
       "      <th>timestamp_last</th>\n",
       "    </tr>\n",
       "  </thead>\n",
       "  <tbody>\n",
       "    <tr>\n",
       "      <th>4860</th>\n",
       "      <td>2019-09-02 21:46:00</td>\n",
       "      <td>1439</td>\n",
       "      <td>fruit</td>\n",
       "      <td>2019-09-02 21:46:00</td>\n",
       "    </tr>\n",
       "    <tr>\n",
       "      <th>4863</th>\n",
       "      <td>2019-09-02 21:47:00</td>\n",
       "      <td>1437</td>\n",
       "      <td>dairy</td>\n",
       "      <td>2019-09-02 21:47:00</td>\n",
       "    </tr>\n",
       "    <tr>\n",
       "      <th>4873</th>\n",
       "      <td>2019-09-02 21:48:00</td>\n",
       "      <td>1443</td>\n",
       "      <td>dairy</td>\n",
       "      <td>2019-09-02 21:48:00</td>\n",
       "    </tr>\n",
       "    <tr>\n",
       "      <th>4875</th>\n",
       "      <td>2019-09-02 21:49:00</td>\n",
       "      <td>1430</td>\n",
       "      <td>fruit</td>\n",
       "      <td>2019-09-02 21:49:00</td>\n",
       "    </tr>\n",
       "    <tr>\n",
       "      <th>4876</th>\n",
       "      <td>2019-09-02 21:49:00</td>\n",
       "      <td>1433</td>\n",
       "      <td>fruit</td>\n",
       "      <td>2019-09-02 21:49:00</td>\n",
       "    </tr>\n",
       "  </tbody>\n",
       "</table>\n",
       "</div>"
      ],
      "text/plain": [
       "               timestamp  customer_no location      timestamp_last\n",
       "4860 2019-09-02 21:46:00         1439    fruit 2019-09-02 21:46:00\n",
       "4863 2019-09-02 21:47:00         1437    dairy 2019-09-02 21:47:00\n",
       "4873 2019-09-02 21:48:00         1443    dairy 2019-09-02 21:48:00\n",
       "4875 2019-09-02 21:49:00         1430    fruit 2019-09-02 21:49:00\n",
       "4876 2019-09-02 21:49:00         1433    fruit 2019-09-02 21:49:00"
      ]
     },
     "execution_count": 8,
     "metadata": {},
     "output_type": "execute_result"
    }
   ],
   "source": [
    "mon_df_missing_checkouts.head()"
   ]
  },
  {
   "cell_type": "code",
   "execution_count": 9,
   "id": "d8b4be53",
   "metadata": {},
   "outputs": [],
   "source": [
    "mon_df_missing_checkouts.loc[:,['location']] = ['checkout']"
   ]
  },
  {
   "cell_type": "code",
   "execution_count": 10,
   "id": "55e9c178",
   "metadata": {},
   "outputs": [
    {
     "data": {
      "text/html": [
       "<div>\n",
       "<style scoped>\n",
       "    .dataframe tbody tr th:only-of-type {\n",
       "        vertical-align: middle;\n",
       "    }\n",
       "\n",
       "    .dataframe tbody tr th {\n",
       "        vertical-align: top;\n",
       "    }\n",
       "\n",
       "    .dataframe thead th {\n",
       "        text-align: right;\n",
       "    }\n",
       "</style>\n",
       "<table border=\"1\" class=\"dataframe\">\n",
       "  <thead>\n",
       "    <tr style=\"text-align: right;\">\n",
       "      <th></th>\n",
       "      <th>timestamp</th>\n",
       "      <th>customer_no</th>\n",
       "      <th>location</th>\n",
       "      <th>timestamp_last</th>\n",
       "    </tr>\n",
       "  </thead>\n",
       "  <tbody>\n",
       "    <tr>\n",
       "      <th>4860</th>\n",
       "      <td>2019-09-02 21:46:00</td>\n",
       "      <td>1439</td>\n",
       "      <td>checkout</td>\n",
       "      <td>2019-09-02 21:46:00</td>\n",
       "    </tr>\n",
       "    <tr>\n",
       "      <th>4863</th>\n",
       "      <td>2019-09-02 21:47:00</td>\n",
       "      <td>1437</td>\n",
       "      <td>checkout</td>\n",
       "      <td>2019-09-02 21:47:00</td>\n",
       "    </tr>\n",
       "    <tr>\n",
       "      <th>4873</th>\n",
       "      <td>2019-09-02 21:48:00</td>\n",
       "      <td>1443</td>\n",
       "      <td>checkout</td>\n",
       "      <td>2019-09-02 21:48:00</td>\n",
       "    </tr>\n",
       "    <tr>\n",
       "      <th>4875</th>\n",
       "      <td>2019-09-02 21:49:00</td>\n",
       "      <td>1430</td>\n",
       "      <td>checkout</td>\n",
       "      <td>2019-09-02 21:49:00</td>\n",
       "    </tr>\n",
       "    <tr>\n",
       "      <th>4876</th>\n",
       "      <td>2019-09-02 21:49:00</td>\n",
       "      <td>1433</td>\n",
       "      <td>checkout</td>\n",
       "      <td>2019-09-02 21:49:00</td>\n",
       "    </tr>\n",
       "    <tr>\n",
       "      <th>4877</th>\n",
       "      <td>2019-09-02 21:49:00</td>\n",
       "      <td>1440</td>\n",
       "      <td>checkout</td>\n",
       "      <td>2019-09-02 21:49:00</td>\n",
       "    </tr>\n",
       "    <tr>\n",
       "      <th>4878</th>\n",
       "      <td>2019-09-02 21:49:00</td>\n",
       "      <td>1441</td>\n",
       "      <td>checkout</td>\n",
       "      <td>2019-09-02 21:49:00</td>\n",
       "    </tr>\n",
       "    <tr>\n",
       "      <th>4881</th>\n",
       "      <td>2019-09-02 21:49:00</td>\n",
       "      <td>1445</td>\n",
       "      <td>checkout</td>\n",
       "      <td>2019-09-02 21:49:00</td>\n",
       "    </tr>\n",
       "    <tr>\n",
       "      <th>4882</th>\n",
       "      <td>2019-09-02 21:50:00</td>\n",
       "      <td>1446</td>\n",
       "      <td>checkout</td>\n",
       "      <td>2019-09-02 21:50:00</td>\n",
       "    </tr>\n",
       "    <tr>\n",
       "      <th>4883</th>\n",
       "      <td>2019-09-02 21:50:00</td>\n",
       "      <td>1447</td>\n",
       "      <td>checkout</td>\n",
       "      <td>2019-09-02 21:50:00</td>\n",
       "    </tr>\n",
       "  </tbody>\n",
       "</table>\n",
       "</div>"
      ],
      "text/plain": [
       "               timestamp  customer_no  location      timestamp_last\n",
       "4860 2019-09-02 21:46:00         1439  checkout 2019-09-02 21:46:00\n",
       "4863 2019-09-02 21:47:00         1437  checkout 2019-09-02 21:47:00\n",
       "4873 2019-09-02 21:48:00         1443  checkout 2019-09-02 21:48:00\n",
       "4875 2019-09-02 21:49:00         1430  checkout 2019-09-02 21:49:00\n",
       "4876 2019-09-02 21:49:00         1433  checkout 2019-09-02 21:49:00\n",
       "4877 2019-09-02 21:49:00         1440  checkout 2019-09-02 21:49:00\n",
       "4878 2019-09-02 21:49:00         1441  checkout 2019-09-02 21:49:00\n",
       "4881 2019-09-02 21:49:00         1445  checkout 2019-09-02 21:49:00\n",
       "4882 2019-09-02 21:50:00         1446  checkout 2019-09-02 21:50:00\n",
       "4883 2019-09-02 21:50:00         1447  checkout 2019-09-02 21:50:00"
      ]
     },
     "execution_count": 10,
     "metadata": {},
     "output_type": "execute_result"
    }
   ],
   "source": [
    "mon_df_missing_checkouts"
   ]
  },
  {
   "cell_type": "code",
   "execution_count": 11,
   "id": "8bc9c903",
   "metadata": {},
   "outputs": [],
   "source": [
    "mon_df_missing_checkouts['timestamp'] = mon_df_missing_checkouts['timestamp'] + pd.Timedelta(minutes=1)"
   ]
  },
  {
   "cell_type": "code",
   "execution_count": 12,
   "id": "b9000697",
   "metadata": {},
   "outputs": [
    {
     "data": {
      "text/plain": [
       "(10, 4)"
      ]
     },
     "execution_count": 12,
     "metadata": {},
     "output_type": "execute_result"
    }
   ],
   "source": [
    "mon_df_missing_checkouts.shape"
   ]
  },
  {
   "cell_type": "code",
   "execution_count": 13,
   "id": "ac512758",
   "metadata": {},
   "outputs": [
    {
     "data": {
      "text/plain": [
       "(4884, 4)"
      ]
     },
     "execution_count": 13,
     "metadata": {},
     "output_type": "execute_result"
    }
   ],
   "source": [
    "mon_raw.shape # we should get 4884 + 10 rows when we concatenate both dataframes"
   ]
  },
  {
   "cell_type": "code",
   "execution_count": 14,
   "id": "b7ecf5ab",
   "metadata": {},
   "outputs": [],
   "source": [
    "mon_df = pd.concat([mon_raw, mon_df_missing_checkouts], ignore_index=True)"
   ]
  },
  {
   "cell_type": "code",
   "execution_count": 15,
   "id": "a4ed54f3",
   "metadata": {},
   "outputs": [
    {
     "data": {
      "text/plain": [
       "(4894, 4)"
      ]
     },
     "execution_count": 15,
     "metadata": {},
     "output_type": "execute_result"
    }
   ],
   "source": [
    "mon_df.shape"
   ]
  },
  {
   "cell_type": "code",
   "execution_count": 16,
   "id": "0595dfc0",
   "metadata": {},
   "outputs": [
    {
     "data": {
      "text/html": [
       "<div>\n",
       "<style scoped>\n",
       "    .dataframe tbody tr th:only-of-type {\n",
       "        vertical-align: middle;\n",
       "    }\n",
       "\n",
       "    .dataframe tbody tr th {\n",
       "        vertical-align: top;\n",
       "    }\n",
       "\n",
       "    .dataframe thead th {\n",
       "        text-align: right;\n",
       "    }\n",
       "</style>\n",
       "<table border=\"1\" class=\"dataframe\">\n",
       "  <thead>\n",
       "    <tr style=\"text-align: right;\">\n",
       "      <th></th>\n",
       "      <th>timestamp</th>\n",
       "      <th>customer_no</th>\n",
       "      <th>location</th>\n",
       "      <th>timestamp_last</th>\n",
       "    </tr>\n",
       "  </thead>\n",
       "  <tbody>\n",
       "    <tr>\n",
       "      <th>0</th>\n",
       "      <td>2019-09-02 07:03:00</td>\n",
       "      <td>1</td>\n",
       "      <td>dairy</td>\n",
       "      <td>2019-09-02 07:05:00</td>\n",
       "    </tr>\n",
       "    <tr>\n",
       "      <th>1</th>\n",
       "      <td>2019-09-02 07:03:00</td>\n",
       "      <td>2</td>\n",
       "      <td>dairy</td>\n",
       "      <td>2019-09-02 07:06:00</td>\n",
       "    </tr>\n",
       "    <tr>\n",
       "      <th>2</th>\n",
       "      <td>2019-09-02 07:04:00</td>\n",
       "      <td>3</td>\n",
       "      <td>dairy</td>\n",
       "      <td>2019-09-02 07:06:00</td>\n",
       "    </tr>\n",
       "    <tr>\n",
       "      <th>3</th>\n",
       "      <td>2019-09-02 07:04:00</td>\n",
       "      <td>4</td>\n",
       "      <td>dairy</td>\n",
       "      <td>2019-09-02 07:08:00</td>\n",
       "    </tr>\n",
       "    <tr>\n",
       "      <th>4</th>\n",
       "      <td>2019-09-02 07:04:00</td>\n",
       "      <td>5</td>\n",
       "      <td>spices</td>\n",
       "      <td>2019-09-02 07:05:00</td>\n",
       "    </tr>\n",
       "  </tbody>\n",
       "</table>\n",
       "</div>"
      ],
      "text/plain": [
       "            timestamp  customer_no location      timestamp_last\n",
       "0 2019-09-02 07:03:00            1    dairy 2019-09-02 07:05:00\n",
       "1 2019-09-02 07:03:00            2    dairy 2019-09-02 07:06:00\n",
       "2 2019-09-02 07:04:00            3    dairy 2019-09-02 07:06:00\n",
       "3 2019-09-02 07:04:00            4    dairy 2019-09-02 07:08:00\n",
       "4 2019-09-02 07:04:00            5   spices 2019-09-02 07:05:00"
      ]
     },
     "execution_count": 16,
     "metadata": {},
     "output_type": "execute_result"
    }
   ],
   "source": [
    "mon_df.head()"
   ]
  },
  {
   "cell_type": "code",
   "execution_count": 17,
   "id": "098bd013",
   "metadata": {},
   "outputs": [],
   "source": [
    "mon_df.set_index('timestamp', inplace=True)"
   ]
  },
  {
   "cell_type": "code",
   "execution_count": 18,
   "id": "6c43c6cb",
   "metadata": {},
   "outputs": [
    {
     "data": {
      "text/html": [
       "<div>\n",
       "<style scoped>\n",
       "    .dataframe tbody tr th:only-of-type {\n",
       "        vertical-align: middle;\n",
       "    }\n",
       "\n",
       "    .dataframe tbody tr th {\n",
       "        vertical-align: top;\n",
       "    }\n",
       "\n",
       "    .dataframe thead th {\n",
       "        text-align: right;\n",
       "    }\n",
       "</style>\n",
       "<table border=\"1\" class=\"dataframe\">\n",
       "  <thead>\n",
       "    <tr style=\"text-align: right;\">\n",
       "      <th></th>\n",
       "      <th>customer_no</th>\n",
       "      <th>location</th>\n",
       "      <th>timestamp_last</th>\n",
       "    </tr>\n",
       "    <tr>\n",
       "      <th>timestamp</th>\n",
       "      <th></th>\n",
       "      <th></th>\n",
       "      <th></th>\n",
       "    </tr>\n",
       "  </thead>\n",
       "  <tbody>\n",
       "    <tr>\n",
       "      <th>2019-09-02 07:03:00</th>\n",
       "      <td>1</td>\n",
       "      <td>dairy</td>\n",
       "      <td>2019-09-02 07:05:00</td>\n",
       "    </tr>\n",
       "    <tr>\n",
       "      <th>2019-09-02 07:03:00</th>\n",
       "      <td>2</td>\n",
       "      <td>dairy</td>\n",
       "      <td>2019-09-02 07:06:00</td>\n",
       "    </tr>\n",
       "    <tr>\n",
       "      <th>2019-09-02 07:04:00</th>\n",
       "      <td>3</td>\n",
       "      <td>dairy</td>\n",
       "      <td>2019-09-02 07:06:00</td>\n",
       "    </tr>\n",
       "    <tr>\n",
       "      <th>2019-09-02 07:04:00</th>\n",
       "      <td>4</td>\n",
       "      <td>dairy</td>\n",
       "      <td>2019-09-02 07:08:00</td>\n",
       "    </tr>\n",
       "    <tr>\n",
       "      <th>2019-09-02 07:04:00</th>\n",
       "      <td>5</td>\n",
       "      <td>spices</td>\n",
       "      <td>2019-09-02 07:05:00</td>\n",
       "    </tr>\n",
       "  </tbody>\n",
       "</table>\n",
       "</div>"
      ],
      "text/plain": [
       "                     customer_no location      timestamp_last\n",
       "timestamp                                                    \n",
       "2019-09-02 07:03:00            1    dairy 2019-09-02 07:05:00\n",
       "2019-09-02 07:03:00            2    dairy 2019-09-02 07:06:00\n",
       "2019-09-02 07:04:00            3    dairy 2019-09-02 07:06:00\n",
       "2019-09-02 07:04:00            4    dairy 2019-09-02 07:08:00\n",
       "2019-09-02 07:04:00            5   spices 2019-09-02 07:05:00"
      ]
     },
     "execution_count": 18,
     "metadata": {},
     "output_type": "execute_result"
    }
   ],
   "source": [
    "mon_df.head()"
   ]
  },
  {
   "cell_type": "code",
   "execution_count": 19,
   "id": "a8f6136e",
   "metadata": {},
   "outputs": [],
   "source": [
    "# resample gets applied to each dataframe inside the groupby\n",
    "mon_df = mon_df.groupby('customer_no').resample('60S').first().ffill() # 60S means one minute"
   ]
  },
  {
   "cell_type": "code",
   "execution_count": 20,
   "id": "2062148f",
   "metadata": {},
   "outputs": [],
   "source": [
    "mon_df['customer_no'] = mon_df.customer_no.astype(int)"
   ]
  },
  {
   "cell_type": "code",
   "execution_count": 21,
   "id": "be987d0c",
   "metadata": {},
   "outputs": [],
   "source": [
    "# mon_df.drop(['timestamp_last','customer_no'], axis=1, inplace=True)          # do we need these columns?"
   ]
  },
  {
   "cell_type": "code",
   "execution_count": 22,
   "id": "7f6e0307",
   "metadata": {},
   "outputs": [
    {
     "data": {
      "text/html": [
       "<div>\n",
       "<style scoped>\n",
       "    .dataframe tbody tr th:only-of-type {\n",
       "        vertical-align: middle;\n",
       "    }\n",
       "\n",
       "    .dataframe tbody tr th {\n",
       "        vertical-align: top;\n",
       "    }\n",
       "\n",
       "    .dataframe thead th {\n",
       "        text-align: right;\n",
       "    }\n",
       "</style>\n",
       "<table border=\"1\" class=\"dataframe\">\n",
       "  <thead>\n",
       "    <tr style=\"text-align: right;\">\n",
       "      <th></th>\n",
       "      <th></th>\n",
       "      <th>customer_no</th>\n",
       "      <th>location</th>\n",
       "      <th>timestamp_last</th>\n",
       "    </tr>\n",
       "    <tr>\n",
       "      <th>customer_no</th>\n",
       "      <th>timestamp</th>\n",
       "      <th></th>\n",
       "      <th></th>\n",
       "      <th></th>\n",
       "    </tr>\n",
       "  </thead>\n",
       "  <tbody>\n",
       "    <tr>\n",
       "      <th rowspan=\"3\" valign=\"top\">1</th>\n",
       "      <th>2019-09-02 07:03:00</th>\n",
       "      <td>1</td>\n",
       "      <td>dairy</td>\n",
       "      <td>2019-09-02 07:05:00</td>\n",
       "    </tr>\n",
       "    <tr>\n",
       "      <th>2019-09-02 07:04:00</th>\n",
       "      <td>1</td>\n",
       "      <td>dairy</td>\n",
       "      <td>2019-09-02 07:05:00</td>\n",
       "    </tr>\n",
       "    <tr>\n",
       "      <th>2019-09-02 07:05:00</th>\n",
       "      <td>1</td>\n",
       "      <td>checkout</td>\n",
       "      <td>2019-09-02 07:05:00</td>\n",
       "    </tr>\n",
       "    <tr>\n",
       "      <th rowspan=\"2\" valign=\"top\">2</th>\n",
       "      <th>2019-09-02 07:03:00</th>\n",
       "      <td>2</td>\n",
       "      <td>dairy</td>\n",
       "      <td>2019-09-02 07:06:00</td>\n",
       "    </tr>\n",
       "    <tr>\n",
       "      <th>2019-09-02 07:04:00</th>\n",
       "      <td>2</td>\n",
       "      <td>dairy</td>\n",
       "      <td>2019-09-02 07:06:00</td>\n",
       "    </tr>\n",
       "    <tr>\n",
       "      <th>...</th>\n",
       "      <th>...</th>\n",
       "      <td>...</td>\n",
       "      <td>...</td>\n",
       "      <td>...</td>\n",
       "    </tr>\n",
       "    <tr>\n",
       "      <th>1445</th>\n",
       "      <th>2019-09-02 21:50:00</th>\n",
       "      <td>1445</td>\n",
       "      <td>checkout</td>\n",
       "      <td>2019-09-02 21:49:00</td>\n",
       "    </tr>\n",
       "    <tr>\n",
       "      <th rowspan=\"2\" valign=\"top\">1446</th>\n",
       "      <th>2019-09-02 21:50:00</th>\n",
       "      <td>1446</td>\n",
       "      <td>dairy</td>\n",
       "      <td>2019-09-02 21:50:00</td>\n",
       "    </tr>\n",
       "    <tr>\n",
       "      <th>2019-09-02 21:51:00</th>\n",
       "      <td>1446</td>\n",
       "      <td>checkout</td>\n",
       "      <td>2019-09-02 21:50:00</td>\n",
       "    </tr>\n",
       "    <tr>\n",
       "      <th rowspan=\"2\" valign=\"top\">1447</th>\n",
       "      <th>2019-09-02 21:50:00</th>\n",
       "      <td>1447</td>\n",
       "      <td>fruit</td>\n",
       "      <td>2019-09-02 21:50:00</td>\n",
       "    </tr>\n",
       "    <tr>\n",
       "      <th>2019-09-02 21:51:00</th>\n",
       "      <td>1447</td>\n",
       "      <td>checkout</td>\n",
       "      <td>2019-09-02 21:50:00</td>\n",
       "    </tr>\n",
       "  </tbody>\n",
       "</table>\n",
       "<p>10775 rows × 3 columns</p>\n",
       "</div>"
      ],
      "text/plain": [
       "                                 customer_no  location      timestamp_last\n",
       "customer_no timestamp                                                     \n",
       "1           2019-09-02 07:03:00            1     dairy 2019-09-02 07:05:00\n",
       "            2019-09-02 07:04:00            1     dairy 2019-09-02 07:05:00\n",
       "            2019-09-02 07:05:00            1  checkout 2019-09-02 07:05:00\n",
       "2           2019-09-02 07:03:00            2     dairy 2019-09-02 07:06:00\n",
       "            2019-09-02 07:04:00            2     dairy 2019-09-02 07:06:00\n",
       "...                                      ...       ...                 ...\n",
       "1445        2019-09-02 21:50:00         1445  checkout 2019-09-02 21:49:00\n",
       "1446        2019-09-02 21:50:00         1446     dairy 2019-09-02 21:50:00\n",
       "            2019-09-02 21:51:00         1446  checkout 2019-09-02 21:50:00\n",
       "1447        2019-09-02 21:50:00         1447     fruit 2019-09-02 21:50:00\n",
       "            2019-09-02 21:51:00         1447  checkout 2019-09-02 21:50:00\n",
       "\n",
       "[10775 rows x 3 columns]"
      ]
     },
     "execution_count": 22,
     "metadata": {},
     "output_type": "execute_result"
    }
   ],
   "source": [
    "mon_df"
   ]
  },
  {
   "cell_type": "code",
   "execution_count": 28,
   "id": "411dfd41",
   "metadata": {},
   "outputs": [
    {
     "data": {
      "text/html": [
       "<div>\n",
       "<style scoped>\n",
       "    .dataframe tbody tr th:only-of-type {\n",
       "        vertical-align: middle;\n",
       "    }\n",
       "\n",
       "    .dataframe tbody tr th {\n",
       "        vertical-align: top;\n",
       "    }\n",
       "\n",
       "    .dataframe thead th {\n",
       "        text-align: right;\n",
       "    }\n",
       "</style>\n",
       "<table border=\"1\" class=\"dataframe\">\n",
       "  <thead>\n",
       "    <tr style=\"text-align: right;\">\n",
       "      <th></th>\n",
       "      <th></th>\n",
       "      <th>customer_no</th>\n",
       "    </tr>\n",
       "    <tr>\n",
       "      <th>timestamp</th>\n",
       "      <th>location</th>\n",
       "      <th></th>\n",
       "    </tr>\n",
       "  </thead>\n",
       "  <tbody>\n",
       "    <tr>\n",
       "      <th>2019-09-02 07:03:00</th>\n",
       "      <th>dairy</th>\n",
       "      <td>2</td>\n",
       "    </tr>\n",
       "    <tr>\n",
       "      <th rowspan=\"3\" valign=\"top\">2019-09-02 07:04:00</th>\n",
       "      <th>dairy</th>\n",
       "      <td>4</td>\n",
       "    </tr>\n",
       "    <tr>\n",
       "      <th>fruit</th>\n",
       "      <td>1</td>\n",
       "    </tr>\n",
       "    <tr>\n",
       "      <th>spices</th>\n",
       "      <td>3</td>\n",
       "    </tr>\n",
       "    <tr>\n",
       "      <th>2019-09-02 07:05:00</th>\n",
       "      <th>checkout</th>\n",
       "      <td>2</td>\n",
       "    </tr>\n",
       "    <tr>\n",
       "      <th>...</th>\n",
       "      <th>...</th>\n",
       "      <td>...</td>\n",
       "    </tr>\n",
       "    <tr>\n",
       "      <th>2019-09-02 21:49:00</th>\n",
       "      <th>spices</th>\n",
       "      <td>2</td>\n",
       "    </tr>\n",
       "    <tr>\n",
       "      <th rowspan=\"3\" valign=\"top\">2019-09-02 21:50:00</th>\n",
       "      <th>checkout</th>\n",
       "      <td>5</td>\n",
       "    </tr>\n",
       "    <tr>\n",
       "      <th>dairy</th>\n",
       "      <td>1</td>\n",
       "    </tr>\n",
       "    <tr>\n",
       "      <th>fruit</th>\n",
       "      <td>1</td>\n",
       "    </tr>\n",
       "    <tr>\n",
       "      <th>2019-09-02 21:51:00</th>\n",
       "      <th>checkout</th>\n",
       "      <td>2</td>\n",
       "    </tr>\n",
       "  </tbody>\n",
       "</table>\n",
       "<p>3779 rows × 1 columns</p>\n",
       "</div>"
      ],
      "text/plain": [
       "                              customer_no\n",
       "timestamp           location             \n",
       "2019-09-02 07:03:00 dairy               2\n",
       "2019-09-02 07:04:00 dairy               4\n",
       "                    fruit               1\n",
       "                    spices              3\n",
       "2019-09-02 07:05:00 checkout            2\n",
       "...                                   ...\n",
       "2019-09-02 21:49:00 spices              2\n",
       "2019-09-02 21:50:00 checkout            5\n",
       "                    dairy               1\n",
       "                    fruit               1\n",
       "2019-09-02 21:51:00 checkout            2\n",
       "\n",
       "[3779 rows x 1 columns]"
      ]
     },
     "execution_count": 28,
     "metadata": {},
     "output_type": "execute_result"
    }
   ],
   "source": [
    "# Display the number of customers at checkout over time                  FLORIAN\n",
    "mon_df.groupby(['timestamp','location'])[['customer_no']].count()"
   ]
  },
  {
   "cell_type": "code",
   "execution_count": 24,
   "id": "66ea1af2",
   "metadata": {},
   "outputs": [
    {
     "data": {
      "text/html": [
       "<div>\n",
       "<style scoped>\n",
       "    .dataframe tbody tr th:only-of-type {\n",
       "        vertical-align: middle;\n",
       "    }\n",
       "\n",
       "    .dataframe tbody tr th {\n",
       "        vertical-align: top;\n",
       "    }\n",
       "\n",
       "    .dataframe thead th {\n",
       "        text-align: right;\n",
       "    }\n",
       "</style>\n",
       "<table border=\"1\" class=\"dataframe\">\n",
       "  <thead>\n",
       "    <tr style=\"text-align: right;\">\n",
       "      <th></th>\n",
       "      <th>customer_no</th>\n",
       "    </tr>\n",
       "    <tr>\n",
       "      <th>timestamp</th>\n",
       "      <th></th>\n",
       "    </tr>\n",
       "  </thead>\n",
       "  <tbody>\n",
       "    <tr>\n",
       "      <th>2019-09-02 07:03:00</th>\n",
       "      <td>2</td>\n",
       "    </tr>\n",
       "    <tr>\n",
       "      <th>2019-09-02 07:04:00</th>\n",
       "      <td>8</td>\n",
       "    </tr>\n",
       "    <tr>\n",
       "      <th>2019-09-02 07:05:00</th>\n",
       "      <td>8</td>\n",
       "    </tr>\n",
       "    <tr>\n",
       "      <th>2019-09-02 07:06:00</th>\n",
       "      <td>12</td>\n",
       "    </tr>\n",
       "    <tr>\n",
       "      <th>2019-09-02 07:07:00</th>\n",
       "      <td>12</td>\n",
       "    </tr>\n",
       "    <tr>\n",
       "      <th>...</th>\n",
       "      <td>...</td>\n",
       "    </tr>\n",
       "    <tr>\n",
       "      <th>2019-09-02 21:47:00</th>\n",
       "      <td>12</td>\n",
       "    </tr>\n",
       "    <tr>\n",
       "      <th>2019-09-02 21:48:00</th>\n",
       "      <td>10</td>\n",
       "    </tr>\n",
       "    <tr>\n",
       "      <th>2019-09-02 21:49:00</th>\n",
       "      <td>8</td>\n",
       "    </tr>\n",
       "    <tr>\n",
       "      <th>2019-09-02 21:50:00</th>\n",
       "      <td>7</td>\n",
       "    </tr>\n",
       "    <tr>\n",
       "      <th>2019-09-02 21:51:00</th>\n",
       "      <td>2</td>\n",
       "    </tr>\n",
       "  </tbody>\n",
       "</table>\n",
       "<p>889 rows × 1 columns</p>\n",
       "</div>"
      ],
      "text/plain": [
       "                     customer_no\n",
       "timestamp                       \n",
       "2019-09-02 07:03:00            2\n",
       "2019-09-02 07:04:00            8\n",
       "2019-09-02 07:05:00            8\n",
       "2019-09-02 07:06:00           12\n",
       "2019-09-02 07:07:00           12\n",
       "...                          ...\n",
       "2019-09-02 21:47:00           12\n",
       "2019-09-02 21:48:00           10\n",
       "2019-09-02 21:49:00            8\n",
       "2019-09-02 21:50:00            7\n",
       "2019-09-02 21:51:00            2\n",
       "\n",
       "[889 rows x 1 columns]"
      ]
     },
     "execution_count": 24,
     "metadata": {},
     "output_type": "execute_result"
    }
   ],
   "source": [
    "# Calculate the total number of customers in the supermarket over time.  FLORIAN\n",
    "cust_over_time = pd.DataFrame(mon_df['customer_no'].groupby('timestamp').count())\n",
    "cust_over_time"
   ]
  },
  {
   "cell_type": "code",
   "execution_count": null,
   "id": "283db805",
   "metadata": {},
   "outputs": [],
   "source": []
  },
  {
   "cell_type": "code",
   "execution_count": null,
   "id": "d5d34478",
   "metadata": {},
   "outputs": [],
   "source": []
  }
 ],
 "metadata": {
  "kernelspec": {
   "display_name": "Python 3 (ipykernel)",
   "language": "python",
   "name": "python3"
  },
  "language_info": {
   "codemirror_mode": {
    "name": "ipython",
    "version": 3
   },
   "file_extension": ".py",
   "mimetype": "text/x-python",
   "name": "python",
   "nbconvert_exporter": "python",
   "pygments_lexer": "ipython3",
   "version": "3.9.12"
  }
 },
 "nbformat": 4,
 "nbformat_minor": 5
}
