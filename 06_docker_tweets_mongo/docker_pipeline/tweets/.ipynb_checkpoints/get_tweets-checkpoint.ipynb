{
 "cells": [
  {
   "cell_type": "code",
   "execution_count": 3,
   "id": "54495fa8",
   "metadata": {},
   "outputs": [],
   "source": [
    "\"\"\"Twe following script is meant for being used for the TWITTER API-V2.\n",
    "The least tweepy version to use is 4.01\"\"\"\n",
    "\n",
    "import tweepy\n",
    "from credentials import *\n",
    "import logging\n",
    "\n",
    "import os\n",
    "\n",
    "# sudo apt install python3-dotenv-cli\n",
    "#\n",
    "# or\n",
    "#\n",
    "# python -m pip install python-dotenv\n",
    "\n",
    "from dotenv import load_dotenv # in the pwd needs to be a -env file with the tokens (it is hidden!!!)"
   ]
  },
  {
   "cell_type": "code",
   "execution_count": 4,
   "id": "b12d5307",
   "metadata": {},
   "outputs": [
    {
     "data": {
      "text/plain": [
       "'/home/florianriemann/spicy_projects/repos/garlic-boosting-student-code/06_week_project/docker_pipeline/tweets'"
      ]
     },
     "execution_count": 4,
     "metadata": {},
     "output_type": "execute_result"
    }
   ],
   "source": [
    "pwd"
   ]
  },
  {
   "cell_type": "code",
   "execution_count": 5,
   "id": "90fdb20b",
   "metadata": {},
   "outputs": [
    {
     "name": "stderr",
     "output_type": "stream",
     "text": [
      "CRITICAL:root:\n",
      "Autentication OK\n"
     ]
    },
    {
     "ename": "Unauthorized",
     "evalue": "401 Unauthorized",
     "output_type": "error",
     "traceback": [
      "\u001b[0;31m---------------------------------------------------------------------------\u001b[0m",
      "\u001b[0;31mUnauthorized\u001b[0m                              Traceback (most recent call last)",
      "Input \u001b[0;32mIn [5]\u001b[0m, in \u001b[0;36m<cell line: 30>\u001b[0;34m()\u001b[0m\n\u001b[1;32m     23\u001b[0m     logging\u001b[38;5;241m.\u001b[39mcritical(\u001b[38;5;124m'\u001b[39m\u001b[38;5;130;01m\\n\u001b[39;00m\u001b[38;5;124mVerify your credentials\u001b[39m\u001b[38;5;124m'\u001b[39m)\n\u001b[1;32m     26\u001b[0m \u001b[38;5;66;03m#### LOOKUP USERS USING THEIR USERNAME\u001b[39;00m\n\u001b[1;32m     27\u001b[0m \n\u001b[1;32m     28\u001b[0m \u001b[38;5;66;03m# for user_fields parameters check here https://developer.twitter.com/en/docs/twitter-api/data-dictionary/object-model/user\u001b[39;00m\n\u001b[0;32m---> 30\u001b[0m elon \u001b[38;5;241m=\u001b[39m client\u001b[38;5;241m.\u001b[39mget_user(username \u001b[38;5;241m=\u001b[39m \u001b[38;5;124m'\u001b[39m\u001b[38;5;124melonmusk\u001b[39m\u001b[38;5;124m'\u001b[39m,user_fields \u001b[38;5;241m=\u001b[39m [\u001b[38;5;124m'\u001b[39m\u001b[38;5;124mname\u001b[39m\u001b[38;5;124m'\u001b[39m,\u001b[38;5;124m'\u001b[39m\u001b[38;5;124mid\u001b[39m\u001b[38;5;124m'\u001b[39m,\u001b[38;5;124m'\u001b[39m\u001b[38;5;124mcreated_at\u001b[39m\u001b[38;5;124m'\u001b[39m])\n\u001b[1;32m     31\u001b[0m \u001b[38;5;66;03m#print(elon)\u001b[39;00m\n\u001b[1;32m     33\u001b[0m \u001b[38;5;28mprint\u001b[39m(\u001b[38;5;124mf\u001b[39m\u001b[38;5;124m'\u001b[39m\u001b[38;5;124mthe user with name \u001b[39m\u001b[38;5;132;01m{\u001b[39;00melon\u001b[38;5;241m.\u001b[39mdata\u001b[38;5;241m.\u001b[39mname\u001b[38;5;132;01m}\u001b[39;00m\u001b[38;5;124m and ID \u001b[39m\u001b[38;5;132;01m{\u001b[39;00melon\u001b[38;5;241m.\u001b[39mdata\u001b[38;5;241m.\u001b[39mid\u001b[38;5;132;01m}\u001b[39;00m\u001b[38;5;124m created its twitter account on \u001b[39m\u001b[38;5;132;01m{\u001b[39;00melon\u001b[38;5;241m.\u001b[39mdata\u001b[38;5;241m.\u001b[39mcreated_at\u001b[38;5;132;01m}\u001b[39;00m\u001b[38;5;124m'\u001b[39m)\n",
      "File \u001b[0;32m~/anaconda3/lib/python3.9/site-packages/tweepy/client.py:1660\u001b[0m, in \u001b[0;36mClient.get_user\u001b[0;34m(self, id, username, user_auth, **params)\u001b[0m\n\u001b[1;32m   1657\u001b[0m \u001b[38;5;28;01melse\u001b[39;00m:\n\u001b[1;32m   1658\u001b[0m     \u001b[38;5;28;01mraise\u001b[39;00m \u001b[38;5;167;01mTypeError\u001b[39;00m(\u001b[38;5;124m\"\u001b[39m\u001b[38;5;124mID or username is required\u001b[39m\u001b[38;5;124m\"\u001b[39m)\n\u001b[0;32m-> 1660\u001b[0m \u001b[38;5;28;01mreturn\u001b[39;00m \u001b[38;5;28;43mself\u001b[39;49m\u001b[38;5;241;43m.\u001b[39;49m\u001b[43m_make_request\u001b[49m\u001b[43m(\u001b[49m\n\u001b[1;32m   1661\u001b[0m \u001b[43m    \u001b[49m\u001b[38;5;124;43m\"\u001b[39;49m\u001b[38;5;124;43mGET\u001b[39;49m\u001b[38;5;124;43m\"\u001b[39;49m\u001b[43m,\u001b[49m\u001b[43m \u001b[49m\u001b[43mroute\u001b[49m\u001b[43m,\u001b[49m\u001b[43m \u001b[49m\u001b[43mparams\u001b[49m\u001b[38;5;241;43m=\u001b[39;49m\u001b[43mparams\u001b[49m\u001b[43m,\u001b[49m\n\u001b[1;32m   1662\u001b[0m \u001b[43m    \u001b[49m\u001b[43mendpoint_parameters\u001b[49m\u001b[38;5;241;43m=\u001b[39;49m\u001b[43m(\u001b[49m\u001b[38;5;124;43m\"\u001b[39;49m\u001b[38;5;124;43mexpansions\u001b[39;49m\u001b[38;5;124;43m\"\u001b[39;49m\u001b[43m,\u001b[49m\u001b[43m \u001b[49m\u001b[38;5;124;43m\"\u001b[39;49m\u001b[38;5;124;43mtweet.fields\u001b[39;49m\u001b[38;5;124;43m\"\u001b[39;49m\u001b[43m,\u001b[49m\u001b[43m \u001b[49m\u001b[38;5;124;43m\"\u001b[39;49m\u001b[38;5;124;43muser.fields\u001b[39;49m\u001b[38;5;124;43m\"\u001b[39;49m\u001b[43m)\u001b[49m\u001b[43m,\u001b[49m\n\u001b[1;32m   1663\u001b[0m \u001b[43m    \u001b[49m\u001b[43mdata_type\u001b[49m\u001b[38;5;241;43m=\u001b[39;49m\u001b[43mUser\u001b[49m\u001b[43m,\u001b[49m\u001b[43m \u001b[49m\u001b[43muser_auth\u001b[49m\u001b[38;5;241;43m=\u001b[39;49m\u001b[43muser_auth\u001b[49m\n\u001b[1;32m   1664\u001b[0m \u001b[43m\u001b[49m\u001b[43m)\u001b[49m\n",
      "File \u001b[0;32m~/anaconda3/lib/python3.9/site-packages/tweepy/client.py:166\u001b[0m, in \u001b[0;36mClient._make_request\u001b[0;34m(self, method, route, params, endpoint_parameters, json, data_type, user_auth)\u001b[0m\n\u001b[1;32m    163\u001b[0m     \u001b[38;5;28;01mif\u001b[39;00m param_name \u001b[38;5;129;01mnot\u001b[39;00m \u001b[38;5;129;01min\u001b[39;00m endpoint_parameters:\n\u001b[1;32m    164\u001b[0m         log\u001b[38;5;241m.\u001b[39mwarn(\u001b[38;5;124mf\u001b[39m\u001b[38;5;124m\"\u001b[39m\u001b[38;5;124mUnexpected parameter: \u001b[39m\u001b[38;5;132;01m{\u001b[39;00mparam_name\u001b[38;5;132;01m}\u001b[39;00m\u001b[38;5;124m\"\u001b[39m)\n\u001b[0;32m--> 166\u001b[0m response \u001b[38;5;241m=\u001b[39m \u001b[38;5;28;43mself\u001b[39;49m\u001b[38;5;241;43m.\u001b[39;49m\u001b[43mrequest\u001b[49m\u001b[43m(\u001b[49m\u001b[43mmethod\u001b[49m\u001b[43m,\u001b[49m\u001b[43m \u001b[49m\u001b[43mroute\u001b[49m\u001b[43m,\u001b[49m\u001b[43m \u001b[49m\u001b[43mparams\u001b[49m\u001b[38;5;241;43m=\u001b[39;49m\u001b[43mrequest_params\u001b[49m\u001b[43m,\u001b[49m\n\u001b[1;32m    167\u001b[0m \u001b[43m                        \u001b[49m\u001b[43mjson\u001b[49m\u001b[38;5;241;43m=\u001b[39;49m\u001b[43mjson\u001b[49m\u001b[43m,\u001b[49m\u001b[43m \u001b[49m\u001b[43muser_auth\u001b[49m\u001b[38;5;241;43m=\u001b[39;49m\u001b[43muser_auth\u001b[49m\u001b[43m)\u001b[49m\n\u001b[1;32m    169\u001b[0m \u001b[38;5;28;01mif\u001b[39;00m \u001b[38;5;28mself\u001b[39m\u001b[38;5;241m.\u001b[39mreturn_type \u001b[38;5;129;01mis\u001b[39;00m requests\u001b[38;5;241m.\u001b[39mResponse:\n\u001b[1;32m    170\u001b[0m     \u001b[38;5;28;01mreturn\u001b[39;00m response\n",
      "File \u001b[0;32m~/anaconda3/lib/python3.9/site-packages/tweepy/client.py:122\u001b[0m, in \u001b[0;36mClient.request\u001b[0;34m(self, method, route, params, json, user_auth)\u001b[0m\n\u001b[1;32m    120\u001b[0m     \u001b[38;5;28;01mraise\u001b[39;00m BadRequest(response)\n\u001b[1;32m    121\u001b[0m \u001b[38;5;28;01mif\u001b[39;00m response\u001b[38;5;241m.\u001b[39mstatus_code \u001b[38;5;241m==\u001b[39m \u001b[38;5;241m401\u001b[39m:\n\u001b[0;32m--> 122\u001b[0m     \u001b[38;5;28;01mraise\u001b[39;00m Unauthorized(response)\n\u001b[1;32m    123\u001b[0m \u001b[38;5;28;01mif\u001b[39;00m response\u001b[38;5;241m.\u001b[39mstatus_code \u001b[38;5;241m==\u001b[39m \u001b[38;5;241m403\u001b[39m:\n\u001b[1;32m    124\u001b[0m     \u001b[38;5;28;01mraise\u001b[39;00m Forbidden(response)\n",
      "\u001b[0;31mUnauthorized\u001b[0m: 401 Unauthorized"
     ]
    }
   ],
   "source": [
    "##### AUTHENTICATION #####\n",
    "'''\n",
    "client = tweepy.Client(  bearer_token        = BEARER_TOKEN\n",
    "                       , consumer_key        = API_KEY\n",
    "                       , consumer_secret     = API_KEY_SECRET\n",
    "                       , access_token        = ACCESS_TOKEN\n",
    "                       , access_token_secret = ACCESS_TOKEN_SECRET )\n",
    "'''\n",
    "\n",
    "os.getenv('DISCORD_TOKEN')\n",
    "\n",
    "client = tweepy.Client(\n",
    "                       bearer_token=os.getenv('BEARER_TOKEN'), \n",
    "                       access_token=os.getenv('API_KEY'),\n",
    "                       access_token_secret=os.getenv('API_KEY_SECRET')\n",
    "                      )\n",
    "\n",
    "\n",
    "\n",
    "if client:\n",
    "    logging.critical(\"\\nAutentication OK\")\n",
    "else:\n",
    "    logging.critical('\\nVerify your credentials')\n",
    "\n",
    "\n",
    "#### LOOKUP USERS USING THEIR USERNAME\n",
    "\n",
    "# for user_fields parameters check here https://developer.twitter.com/en/docs/twitter-api/data-dictionary/object-model/user\n",
    "\n",
    "elon = client.get_user(username = 'elonmusk',user_fields = ['name','id','created_at'])\n",
    "#print(elon)\n",
    "\n",
    "print(f'the user with name {elon.data.name} and ID {elon.data.id} created its twitter account on {elon.data.created_at}')\n"
   ]
  },
  {
   "cell_type": "code",
   "execution_count": null,
   "id": "dfbf79e5",
   "metadata": {},
   "outputs": [],
   "source": [
    "#### LOOKUP AT USER'S TIMELINE\n",
    "\n",
    "## elon musk's timeline\n",
    "## passing elon id into the function below\n",
    "# for tweets_fields parameters check herehttps://developer.twitter.com/en/docs/twitter-api/data-dictionary/object-model/tweet\n",
    "elon_tweets = client.get_users_tweets(id=elon.data.id, tweet_fields=['id','text','created_at'],max_results=5)\n",
    "print(elon_tweets.data)\n",
    "for tweet in elon_tweets.data:\n",
    "    print(f\"the user {elon.data.name} at {tweet.created_at} wrote:{tweet.text}\\n\")\n"
   ]
  },
  {
   "cell_type": "code",
   "execution_count": null,
   "id": "116b9961",
   "metadata": {},
   "outputs": [],
   "source": [
    "\n",
    "#### SEARCHING FOR TWEETS #####\n",
    "\n",
    "# Defining a query search string\n",
    "query = 'climate change lang:en -is:retweet'  \n",
    "\n",
    "\n",
    "search_tweets = client.search_recent_tweets(query=query,tweet_fields=['id','created_at','text'], max_results=10)\n",
    "#print(search_tweets)\n",
    "for tweet in search_tweets.data:\n",
    "    logging.critical(f'\\n\\n\\nINCOMING TWEET:\\n{tweet.text}\\n\\n\\n')"
   ]
  },
  {
   "cell_type": "code",
   "execution_count": null,
   "id": "041ad9cd",
   "metadata": {},
   "outputs": [],
   "source": [
    "\n",
    "### Getting more than 100 tweets using Paginator \n",
    "# Check here https://docs.tweepy.org/en/stable/pagination.html\n",
    "\n",
    "#paginator = tweepy.Paginator(client.search_recent_tweets,tweet_fields=['id','created_at','text'], query=query).flatten(limit=10)\n",
    "#print(paginator)\n",
    "#for tweet in paginator:\n",
    "    #logging.critical(f'\\n\\n\\nINCOMING TWEET ID {tweet.id}:\\n{tweet.text}\\n\\n\\n')\n",
    "    #file = open('fetched_tweets.txt',mode='a')\n",
    "    #file.write(tweet.text)\n",
    "    #file.close()"
   ]
  }
 ],
 "metadata": {
  "kernelspec": {
   "display_name": "Python 3 (ipykernel)",
   "language": "python",
   "name": "python3"
  },
  "language_info": {
   "codemirror_mode": {
    "name": "ipython",
    "version": 3
   },
   "file_extension": ".py",
   "mimetype": "text/x-python",
   "name": "python",
   "nbconvert_exporter": "python",
   "pygments_lexer": "ipython3",
   "version": "3.9.12"
  }
 },
 "nbformat": 4,
 "nbformat_minor": 5
}
