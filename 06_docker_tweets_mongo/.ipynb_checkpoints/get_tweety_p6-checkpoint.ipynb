{
 "cells": [
  {
   "cell_type": "code",
   "execution_count": 17,
   "id": "54495fa8",
   "metadata": {},
   "outputs": [
    {
     "ename": "ModuleNotFoundError",
     "evalue": "No module named 'dotenv'",
     "output_type": "error",
     "traceback": [
      "\u001b[0;31m---------------------------------------------------------------------------\u001b[0m",
      "\u001b[0;31mModuleNotFoundError\u001b[0m                       Traceback (most recent call last)",
      "Input \u001b[0;32mIn [17]\u001b[0m, in \u001b[0;36m<cell line: 10>\u001b[0;34m()\u001b[0m\n\u001b[1;32m      8\u001b[0m \u001b[38;5;28;01mimport\u001b[39;00m \u001b[38;5;21;01mos\u001b[39;00m\n\u001b[1;32m      9\u001b[0m \u001b[38;5;66;03m# sudo apt install python3-dotenv-cli\u001b[39;00m\n\u001b[0;32m---> 10\u001b[0m \u001b[38;5;28;01mfrom\u001b[39;00m \u001b[38;5;21;01mdotenv\u001b[39;00m \u001b[38;5;28;01mimport\u001b[39;00m load_dotenv\n",
      "\u001b[0;31mModuleNotFoundError\u001b[0m: No module named 'dotenv'"
     ]
    }
   ],
   "source": [
    "\"\"\"Twe following script is meant for being used for the TWITTER API-V2.\n",
    "The least tweepy version to use is 4.01\"\"\"\n",
    "\n",
    "import tweepy\n",
    "from credentials import *\n",
    "import logging\n",
    "\n",
    "import os\n",
    "# sudo apt install python3-dotenv-cli\n",
    "from dotenv import load_dotenv"
   ]
  },
  {
   "cell_type": "code",
   "execution_count": 13,
   "id": "b12d5307",
   "metadata": {},
   "outputs": [
    {
     "data": {
      "text/plain": [
       "'/home/florianriemann/spicy_projects/repos/garlic-boosting-student-code/06_week_project'"
      ]
     },
     "execution_count": 13,
     "metadata": {},
     "output_type": "execute_result"
    }
   ],
   "source": [
    "pwd"
   ]
  },
  {
   "cell_type": "code",
   "execution_count": 15,
   "id": "90fdb20b",
   "metadata": {},
   "outputs": [
    {
     "ename": "NameError",
     "evalue": "name 'BEARER_TOKEN' is not defined",
     "output_type": "error",
     "traceback": [
      "\u001b[0;31m---------------------------------------------------------------------------\u001b[0m",
      "\u001b[0;31mNameError\u001b[0m                                 Traceback (most recent call last)",
      "Input \u001b[0;32mIn [15]\u001b[0m, in \u001b[0;36m<cell line: 9>\u001b[0;34m()\u001b[0m\n\u001b[1;32m      1\u001b[0m \u001b[38;5;66;03m##### AUTHENTICATION #####\u001b[39;00m\n\u001b[1;32m      2\u001b[0m \u001b[38;5;124;03m'''\u001b[39;00m\n\u001b[1;32m      3\u001b[0m \u001b[38;5;124;03mclient = tweepy.Client(  bearer_token        = BEARER_TOKEN\u001b[39;00m\n\u001b[1;32m      4\u001b[0m \u001b[38;5;124;03m                       , consumer_key        = API_KEY\u001b[39;00m\n\u001b[0;32m   (...)\u001b[0m\n\u001b[1;32m      7\u001b[0m \u001b[38;5;124;03m                       , access_token_secret = ACCESS_TOKEN_SECRET )\u001b[39;00m\n\u001b[1;32m      8\u001b[0m \u001b[38;5;124;03m'''\u001b[39;00m\n\u001b[0;32m----> 9\u001b[0m client \u001b[38;5;241m=\u001b[39m tweepy\u001b[38;5;241m.\u001b[39mClient(bearer_token\u001b[38;5;241m=\u001b[39mBEARER_TOKEN, \n\u001b[1;32m     10\u001b[0m                        access_token\u001b[38;5;241m=\u001b[39mAPI_KEY,\n\u001b[1;32m     11\u001b[0m                        access_token_secret\u001b[38;5;241m=\u001b[39mAPI_KEY_SECRET)\n\u001b[1;32m     15\u001b[0m \u001b[38;5;28;01mif\u001b[39;00m client:\n\u001b[1;32m     16\u001b[0m     logging\u001b[38;5;241m.\u001b[39mcritical(\u001b[38;5;124m\"\u001b[39m\u001b[38;5;130;01m\\n\u001b[39;00m\u001b[38;5;124mAutentication OK\u001b[39m\u001b[38;5;124m\"\u001b[39m)\n",
      "\u001b[0;31mNameError\u001b[0m: name 'BEARER_TOKEN' is not defined"
     ]
    }
   ],
   "source": [
    "##### AUTHENTICATION #####\n",
    "'''\n",
    "client = tweepy.Client(  bearer_token        = BEARER_TOKEN\n",
    "                       , consumer_key        = API_KEY\n",
    "                       , consumer_secret     = API_KEY_SECRET\n",
    "                       , access_token        = ACCESS_TOKEN\n",
    "                       , access_token_secret = ACCESS_TOKEN_SECRET )\n",
    "'''\n",
    "client = tweepy.Client(bearer_token=BEARER_TOKEN, \n",
    "                       access_token=API_KEY,\n",
    "                       access_token_secret=API_KEY_SECRET)\n",
    "\n",
    "\n",
    "\n",
    "if client:\n",
    "    logging.critical(\"\\nAutentication OK\")\n",
    "else:\n",
    "    logging.critical('\\nVerify your credentials')\n",
    "\n",
    "\n",
    "#### LOOKUP USERS USING THEIR USERNAME\n",
    "\n",
    "# for user_fields parameters check here https://developer.twitter.com/en/docs/twitter-api/data-dictionary/object-model/user\n",
    "\n",
    "elon = client.get_user(username = 'elonmusk',user_fields = ['name','id','created_at'])\n",
    "#print(elon)\n",
    "\n",
    "print(f'the user with name {elon.data.name} and ID {elon.data.id} created its twitter account on {elon.data.created_at}')\n"
   ]
  },
  {
   "cell_type": "code",
   "execution_count": null,
   "id": "dfbf79e5",
   "metadata": {},
   "outputs": [],
   "source": [
    "#### LOOKUP AT USER'S TIMELINE\n",
    "\n",
    "## elon musk's timeline\n",
    "## passing elon id into the function below\n",
    "# for tweets_fields parameters check herehttps://developer.twitter.com/en/docs/twitter-api/data-dictionary/object-model/tweet\n",
    "elon_tweets = client.get_users_tweets(id=elon.data.id, tweet_fields=['id','text','created_at'],max_results=5)\n",
    "print(elon_tweets.data)\n",
    "for tweet in elon_tweets.data:\n",
    "    print(f\"the user {elon.data.name} at {tweet.created_at} wrote:{tweet.text}\\n\")\n"
   ]
  },
  {
   "cell_type": "code",
   "execution_count": null,
   "id": "116b9961",
   "metadata": {},
   "outputs": [],
   "source": [
    "\n",
    "#### SEARCHING FOR TWEETS #####\n",
    "\n",
    "# Defining a query search string\n",
    "query = 'climate change lang:en -is:retweet'  \n",
    "\n",
    "\n",
    "search_tweets = client.search_recent_tweets(query=query,tweet_fields=['id','created_at','text'], max_results=10)\n",
    "#print(search_tweets)\n",
    "for tweet in search_tweets.data:\n",
    "    logging.critical(f'\\n\\n\\nINCOMING TWEET:\\n{tweet.text}\\n\\n\\n')"
   ]
  },
  {
   "cell_type": "code",
   "execution_count": null,
   "id": "041ad9cd",
   "metadata": {},
   "outputs": [],
   "source": [
    "\n",
    "### Getting more than 100 tweets using Paginator \n",
    "# Check here https://docs.tweepy.org/en/stable/pagination.html\n",
    "\n",
    "#paginator = tweepy.Paginator(client.search_recent_tweets,tweet_fields=['id','created_at','text'], query=query).flatten(limit=10)\n",
    "#print(paginator)\n",
    "#for tweet in paginator:\n",
    "    #logging.critical(f'\\n\\n\\nINCOMING TWEET ID {tweet.id}:\\n{tweet.text}\\n\\n\\n')\n",
    "    #file = open('fetched_tweets.txt',mode='a')\n",
    "    #file.write(tweet.text)\n",
    "    #file.close()"
   ]
  }
 ],
 "metadata": {
  "kernelspec": {
   "display_name": "Python 3 (ipykernel)",
   "language": "python",
   "name": "python3"
  },
  "language_info": {
   "codemirror_mode": {
    "name": "ipython",
    "version": 3
   },
   "file_extension": ".py",
   "mimetype": "text/x-python",
   "name": "python",
   "nbconvert_exporter": "python",
   "pygments_lexer": "ipython3",
   "version": "3.9.12"
  }
 },
 "nbformat": 4,
 "nbformat_minor": 5
}
