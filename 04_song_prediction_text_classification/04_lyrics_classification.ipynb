{
 "cells": [
  {
   "cell_type": "markdown",
   "metadata": {
    "heading_collapsed": true
   },
   "source": [
    "### Step 0 - import libraries"
   ]
  },
  {
   "cell_type": "code",
   "execution_count": 1,
   "metadata": {
    "hidden": true
   },
   "outputs": [
    {
     "name": "stderr",
     "output_type": "stream",
     "text": [
      "[nltk_data] Downloading package omw-1.4 to\n",
      "[nltk_data]     /home/florianriemann/nltk_data...\n",
      "[nltk_data]   Package omw-1.4 is already up-to-date!\n",
      "[nltk_data] Downloading package wordnet to\n",
      "[nltk_data]     /home/florianriemann/nltk_data...\n",
      "[nltk_data]   Package wordnet is already up-to-date!\n"
     ]
    }
   ],
   "source": [
    "%matplotlib inline\n",
    "\n",
    "# data wrangling & visualizations\n",
    "import numpy               as np\n",
    "import pandas              as pd\n",
    "import matplotlib.pyplot   as plt\n",
    "import seaborn             as sns\n",
    "import glob\n",
    "\n",
    "# models\n",
    "import xgboost             as xgb\n",
    "\n",
    "'''\n",
    "from sklearn.ensemble        import RandomForestRegressor\n",
    "from sklearn.linear_model    import LinearRegression\n",
    "from sklearn.linear_model    import Ridge\n",
    "from sklearn.linear_model    import Lasso\n",
    "from sklearn.ensemble        import GradientBoostingRegressor\n",
    "from lightgbm                import LGBMRegressor\n",
    "from catboost                import CatBoostRegressor\n",
    "from sklearn.linear_model    import SGDRegressor\n",
    "from sklearn.kernel_ridge    import KernelRidge\n",
    "from sklearn.linear_model    import ElasticNet\n",
    "'''\n",
    "from sklearn.base            import BaseEstimator\n",
    "from sklearn.linear_model    import LogisticRegression\n",
    "from sklearn                 import model_selection, naive_bayes, svm\n",
    "from xgboost                 import XGBClassifier\n",
    "from sklearn.naive_bayes     import MultinomialNB\n",
    "\n",
    "# preprocessing & feature engineering\n",
    "from sklearn.model_selection import train_test_split\n",
    "from sklearn.compose         import ColumnTransformer\n",
    "from sklearn.preprocessing   import FunctionTransformer\n",
    "from sklearn.pipeline        import Pipeline\n",
    "from sklearn.preprocessing   import OneHotEncoder\n",
    "from sklearn.impute          import SimpleImputer\n",
    "from sklearn.preprocessing   import StandardScaler\n",
    "from sklearn.decomposition   import PCA\n",
    "\n",
    "# validation\n",
    "from sklearn.model_selection import cross_val_score\n",
    "from sklearn.model_selection import GridSearchCV\n",
    "from sklearn.metrics         import confusion_matrix, classification_report, accuracy_score\n",
    "from sklearn.metrics         import accuracy_score, precision_score, recall_score, balanced_accuracy_score\n",
    "\n",
    "# warning & errors\n",
    "import warnings\n",
    "warnings.filterwarnings(\"ignore\", category=FutureWarning)\n",
    "\n",
    "# specific lbraries and packages for text analysis\n",
    "import nltk\n",
    "nltk.download('omw-1.4')\n",
    "nltk.download(\"wordnet\")  \n",
    "# only done once! we have to download the WordNet database locally\n",
    "from nltk.tokenize                   import TreebankWordTokenizer \n",
    "# very good tokenizer for english, considers sentence structure\n",
    "from nltk.stem                       import WordNetLemmatizer\n",
    "#nltk.download('stopwords')\n",
    "from nltk.corpus                     import stopwords\n",
    "from sklearn.feature_extraction.text import TfidfVectorizer   \n",
    "\n",
    "STOPWORDS = stopwords.words('english')\n"
   ]
  },
  {
   "cell_type": "markdown",
   "metadata": {
    "heading_collapsed": true
   },
   "source": [
    "### Step 1 - read data"
   ]
  },
  {
   "cell_type": "markdown",
   "metadata": {
    "hidden": true
   },
   "source": [
    "  - List the data you need and how much you need.\n",
    "\n",
    "  - Find and document where you can get the data.\n",
    "\n",
    "  - Check how much space it will take.\n",
    "\n",
    "  - Check legal obligations, and get authorizations if necessary.\n",
    "\n",
    "  - Get access authorizations.\n",
    "\n",
    "  - Create a workspace (with enough storage space).\n",
    "\n",
    "  - Get the data.\n",
    "\n",
    "  - Convert the data to a format you can easily manipulate (without changing the data itself).\n",
    "\n",
    "  - Ensure sensitive information is deleted or protected (e.g. anonymized).\n",
    "\n",
    "  - Check the size and type of data (time series, sample, geographical, etc.).\n",
    "\n",
    "  - Sample a test set, put it aside, and never look at it (no data snooping!)."
   ]
  },
  {
   "cell_type": "markdown",
   "metadata": {
    "hidden": true
   },
   "source": [
    "**Bob Marley corpus**"
   ]
  },
  {
   "cell_type": "code",
   "execution_count": 2,
   "metadata": {
    "hidden": true
   },
   "outputs": [],
   "source": [
    "# define work directory\n",
    "path_dir = '/home/florianriemann/data_science_portfolio/boot_camp/data/bob_marley/' \n",
    "\n",
    "# define list of files to access in a specific directory\n",
    "txt_file_list  =  glob.glob(path_dir + '//*.txt')\n",
    "\n",
    "# define list to hold all lines\n",
    "BOBMARLEY_CORPUS = []\n",
    "\n",
    "# read through all files and append content to the list of lists\n",
    "for file in txt_file_list:\n",
    "    with open (file, 'rb') as f:\n",
    "        s_text_list = f.read().decode('ISO-8859-1') \n",
    "        BOBMARLEY_CORPUS.append(s_text_list)"
   ]
  },
  {
   "cell_type": "markdown",
   "metadata": {
    "hidden": true
   },
   "source": [
    "**Elvis Presley corpus**"
   ]
  },
  {
   "cell_type": "code",
   "execution_count": 3,
   "metadata": {
    "hidden": true
   },
   "outputs": [],
   "source": [
    "# define work directory\n",
    "path_dir = '/home/florianriemann/data_science_portfolio/boot_camp/data/elvis_presley/'\n",
    "\n",
    "# define list of files to access in a specific directory\n",
    "txt_file_list  =  glob.glob(path_dir + '//*.txt')\n",
    "\n",
    "# define list to hold all lines\n",
    "ELVISPRESLEY_CORPUS = []\n",
    "\n",
    "# read through all files and append content to the list of lists\n",
    "for file in txt_file_list:\n",
    "    with open (file, 'r') as f:\n",
    "        # s_text_list = f.readlines()\n",
    "        s_text_list = f.read()\n",
    "        ELVISPRESLEY_CORPUS.append(s_text_list)"
   ]
  },
  {
   "cell_type": "code",
   "execution_count": 4,
   "metadata": {
    "hidden": true
   },
   "outputs": [],
   "source": [
    "# corpus\n",
    "CORPUS = BOBMARLEY_CORPUS + ELVISPRESLEY_CORPUS\n",
    "\n",
    "# labels\n",
    "l1,l2 = len(BOBMARLEY_CORPUS), len(ELVISPRESLEY_CORPUS)\n",
    "LABELS = [f\"bobmarley_{i}\" for i in range(l1)] + [f\"elvispresley_{i}\" for i in range(l2)] "
   ]
  },
  {
   "cell_type": "code",
   "execution_count": 5,
   "metadata": {
    "hidden": true
   },
   "outputs": [
    {
     "data": {
      "text/plain": [
       "[\"One good thing about music, when it hits ya \\r\\r\\n(You feel no pain)\\r\\r\\nWo-wo-wo, I say\\r\\r\\nOne good thing about music, when it hits ya\\r\\r\\n(you feel no pain)\\r\\r\\nHit me with music, yeah, hit me with music now!\\r\\r\\n\\r\\r\\nThis is (Trench Town Rock) don't watch that\\r\\r\\n(Trench Town Rock) big fish or sprat now\\r\\r\\n(Trench Town Rock) you reap what you sow\\r\\r\\n(Trench Town Rock) and only Jah-Jah know\\r\\r\\n(Trench Town Rock) I never turn my back\\r\\r\\n(Trench Town Rock) I give the slum a try\\r\\r\\n(Trench Town Rock) I never let the children cry\\r\\r\\n(Trench Town Rock) 'cause you got to tell Jah-Jah why\\r\\r\\n(Groovin') It's Kingston twelve\\r\\r\\n(Groovin') It's Kingston twelve\\r\\r\\n(Groovin') It's Kingston twelve, now\\r\\r\\n(Groovin') It's Kingston twelve\\r\\r\\n(No want you fe galang so) oh no!\\r\\r\\n(No want you fe galang so) scaba-dip, scaba\\r\\r\\n(You want come cold I up) scaba-diba-dip, scaba-dip, scaba-dip\\r\\r\\n(But you can't come cold I up)\\r\\r\\nWo-wo-wo, I'm a groover\\r\\r\\nAnd the world know by now, now, now, now, now, now, now, now, y'all\\r\\r\\nOh now, I say, you feel no pain now\\r\\r\\nOne good thing about music\\r\\r\\nWhen it hits ya (you feel no pain) feel no pain\\r\\r\\nHit me with music, now, wo now\\r\\r\\nHit me with music now\\r\\r\\nHit me with music, 'arder, brutalize me!\\r\\r\\n(Hit me with music!)\\r\\r\\n\\r\\r\\nThis is (Trench Town Rock) I say don't watch that\\r\\r\\n(Trench Town Rock) if you are big fish or sprat\\r\\r\\n(Trench Town Rock) you reap what you sow \\r\\r\\n(Trench Town Rock) I, everyone know now\\r\\r\\n(Trench Town Rock) don't turn your back!\\r\\r\\n(Trench Town Rock) I say, give a slum a try\\r\\r\\n(Trench Town Rock) never let the children cry\\r\\r\\n(Trench Town Rock) or you got to tell Jah-Jah why\\r\\r\\nIt's Kingston twelve\\r\\r\\n(Groovin') it's Kingston twelve\\r\\r\\n(Groovin') I said, it's Kingston twelve now\\r\\r\\n(Groovin') wo-wo-wo-wo, it's Kingston twelve\\r\\r\\n(No want you fe galang so) since I told you that\\r\\r\\n(No want you fe galang so) we should live with love\\r\\r\\n(You want come cold I up) and I don't do that \\r\\r\\n(But you can't come cold I up) I look da now\\r\\r\\nAnd then it's Kingston twelve, uh!\\r\\r\\nGood God, look a-here now (you feel no pain) uh!\\r\\r\\nHit me with music, yeah, come on (hit me with music)\\r\\r\\n(Hit me with music), oh my brother (hit me with music) brutalize me!\\r\\r\\n(Hit me with music) oh hurt me (hit me with music)\\r\\r\\nWe can trash this ourselves!\\r\\r\\n(Hit me with music)\\r\\r\\n(Trench Town Rock) don't call no cop\\r\\r\\n(Rock) we can trash things ourselves\\r\\r\\n(Trench Town Rock) got no stacks on no shelves\\r\\r\\nBut let me tell ya, behave yourselves!\\r\\r\\n(Trench Town Rock)\",\n",
       " \"(Ow-ow-ow-ow! Ow, ow-ow-ow-ow!)\\r\\r\\nYeah, yeah, yeah!\\r\\r\\nHow can you be sitting there\\r\\r\\nTelling me that you care\\r\\r\\nThat you care?\\r\\r\\nWhen every time I look around,\\r\\r\\nThe people suffer in the suffering\\r\\r\\nIn every way, in everywhere\\r\\r\\n\\r\\r\\nSay, na-na-na-na-na (na-na, na-na!)\\r\\r\\nWe're the survivors \\r\\r\\nYes, the Black survivors!\\r\\r\\nI tell you what some people got everything\\r\\r\\nSome people got nothing\\r\\r\\nSome people got hopes and dreams\\r\\r\\nSome people got ways and means\\r\\r\\n\\r\\r\\nNa-na-na-na-na (na-na, na-na!)\\r\\r\\nWe're the survivors \\r\\r\\nYes, the Black survivors!\\r\\r\\nYes, we're the survivors, like Daniel out of the lions' den\\r\\r\\n(Black survivors) Survivors, survivors!\\r\\r\\nSo I Idren, I sistren,\\r\\r\\nA-which way will we choose?\\r\\r\\nWe better hurry oh, hurry oh, hurry wo, now!\\r\\r\\n'Cause we got no time to lose\\r\\r\\nSome people got facts and claims\\r\\r\\nSome people got pride and shame\\r\\r\\nSome people got the plots and schemes\\r\\r\\nSome people got no aim it seems\\r\\r\\n\\r\\r\\nNa-na-na-na-na, (na-na, na-na!)\\r\\r\\nWe're the survivors, \\r\\r\\nYes, the Black survivors!\\r\\r\\nTell you what, we're the survivors \\r\\r\\nYeah! the Black survivors \\r\\r\\nYeah! we're the survivors, like Shadrach, Meshach and Abednego\\r\\r\\n(Black survivors), thrown in the fire, but never get burn\\r\\r\\nSo I Idren, I sistren,\\r\\r\\nThe preaching and talkin' is done\\r\\r\\nWe've gotta live up, wo now, wo now!\\r\\r\\n'Cause the Father's time has come\\r\\r\\nSome people put the best outside\\r\\r\\nSome people keep the best inside\\r\\r\\nSome people can't stand up strong\\r\\r\\nSome people won't wait for long\\r\\r\\n\\r\\r\\n(Na-na-na-na-na!) Na-na-na, na-na-na na!\\r\\r\\nWe're the survivors\\r\\r\\nIn this age of technological inhumanity (Black survival)\\r\\r\\nScientific atrocity (survivors)\\r\\r\\nAtomic misphilosophy (Black survival)\\r\\r\\nNuclear misenergy (survivors)\\r\\r\\nIt's a world that forces lifelong insecurity (Black survival)\\r\\r\\n\\r\\r\\nTogether now\\r\\r\\n(Na-na-na-na-na!) Na na-na na na! (Na na-na na na!)\\r\\r\\nWe're the survivors, yeah!\\r\\r\\nWe're the survivors!\\r\\r\\nYes, the Black survivors!\\r\\r\\nWe're the survivors\\r\\r\\nA good man is never honored (survivors)\\r\\r\\nin his own country (Black survival)\\r\\r\\nNothing change, nothing strange (survivors)\\r\\r\\nNothing change, nothing strange (Black survivors)\\r\\r\\nWe got to survive, y'all! (survivors)\",\n",
       " \"Huh, please don't you rock my boat\\r\\r\\n'Cause I don't want my boat to be rockin' anyhow\\r\\r\\nPlease don't you rock my boat, no\\r\\r\\n'Cause I don't want my boat to be rockin'\\r\\r\\n\\r\\r\\nI'm tellin' you that, oh, ooh-aah, I like it a-like a-this\\r\\r\\nCan you miss?\\r\\r\\nAnd you should know, ooh-aah, when I like it a-like a-this\\r\\r\\nAm I really it? Ooh yeah\\r\\r\\nYou satis- satis- satisfy my soul, morning time\\r\\r\\nEvening cold, -fy my soul\\r\\r\\nYes, I've been a-tellin' you, bake me the sweetest cakes\\r\\r\\nI'm happy inside all the time\\r\\r\\nOh, can't you see what you've done for me? Yeah\\r\\r\\n\\r\\r\\nYou make me feel like when we bend them new corners\\r\\r\\nWe feel like sweepstake winners, yeah\\r\\r\\nWhen we bend them new corners\\r\\r\\nWe feel like sweepstake winners\\r\\r\\n\\r\\r\\nAnd I said, oh, ooh-aah, I like it a-like a-this\\r\\r\\nYes, I do\\r\\r\\nAnd you should know, ooh-aah, when I like it a-like a-this\\r\\r\\nI've got it, just can't miss, ooh\\r\\r\\nSatis- satisfy my soul, darlin'\\r\\r\\nMake me love you in the morning time, yeah\\r\\r\\nIf ever I treated you bad, make it up to me one time\\r\\r\\n'Cause I'm happy inside all the time\\r\\r\\nI want you beside me, yeah, to be mine\\r\\r\\n\\r\\r\\nOne thing you've got to do, is when a-we holding hands together\\r\\r\\nYou've got to know that we love, a-love each other, yeah\\r\\r\\nAnd if every time you should walk away from me now\\r\\r\\nUh, you'll now I need your sympathy, yeah\\r\\r\\n\\r\\r\\nCan you see? Do you believe me?\\r\\r\\nOh, darlin', darlin', I'm callin', callin'\\r\\r\\nSatisfy my soul, satisfy my soul\\r\\r\\nNever, never, never give it up now\\r\\r\\n\\r\\r\\nAll in the same boat\\r\\r\\nRockin' on the same route\\r\\r\\nWe gotta get together, join each other\\r\\r\\nAnd can't you see what I've got for you? Yeah\\r\\r\\n\\r\\r\\nI'm happy, happy, happy, happy, happy, and not you can turn me blue now\\r\\r\\nCome a little closer, satisfy my\",\n",
       " 'One love, one heart\\r\\r\\nLet\\'s get together and feel all right\\r\\r\\nHear the children crying (One love)\\r\\r\\nHear the children crying (One heart)\\r\\r\\nSayin\\', \"Give thanks and praise to the Lord and I will feel all right\\r\\r\\nSayin\\', \"Let\\'s get together and feel all right\\r\\r\\nWhoa, whoa, whoa, whoa\\r\\r\\n\\r\\r\\nLet them all pass all their dirty remarks (one love)\\r\\r\\nThere is one question I\\'d really love to ask (one heart)\\r\\r\\nIs there a place for the hopeless sinner\\r\\r\\nWho has hurt all mankind just to save his own?\\r\\r\\nBelieve me\\r\\r\\n\\r\\r\\nOne love, one heart\\r\\r\\nLet\\'s get together and feel all right\\r\\r\\nAs it was in the beginning (one love)\\r\\r\\nSo shall it be in the end (one heart)\\r\\r\\nAlright, give thanks and praise to the Lord and I will feel all right\\r\\r\\nLet\\'s get together and feel all right\\r\\r\\nOne more thing\\r\\r\\n\\r\\r\\nLet\\'s get together to fight this Holy Armageddon (one love)\\r\\r\\nSo when the Man comes there will be no, no doom (one song)\\r\\r\\nHave pity on those whose chances grow thinner\\r\\r\\nThere ain\\'t no hiding place from the Father of Creation\\r\\r\\n\\r\\r\\nSayin\\', one love, one heart\\r\\r\\nLet\\'s get together and feel all right\\r\\r\\nI\\'m pleading to mankind (one love)\\r\\r\\nOh, Lord (one heart) whoa\\r\\r\\n\\r\\r\\nGive thanks and praise to the Lord and I will feel all right\\r\\r\\nLet\\'s get together and feel all right\\r\\r\\n\\r\\r\\nGive thanks and praise to the Lord and I will feel all right\\r\\r\\nLet\\'s get together and feel all right',\n",
       " \"One good thing about music, when it hits ya \\r\\r\\n(You feel no pain)\\r\\r\\nWo-wo-wo, I say\\r\\r\\nOne good thing about music, when it hits ya\\r\\r\\n(you feel no pain)\\r\\r\\nHit me with music, yeah, hit me with music now!\\r\\r\\n\\r\\r\\nThis is (Trench Town Rock) don't watch that\\r\\r\\n(Trench Town Rock) big fish or sprat now\\r\\r\\n(Trench Town Rock) you reap what you sow\\r\\r\\n(Trench Town Rock) and only Jah-Jah know\\r\\r\\n(Trench Town Rock) I never turn my back\\r\\r\\n(Trench Town Rock) I give the slum a try\\r\\r\\n(Trench Town Rock) I never let the children cry\\r\\r\\n(Trench Town Rock) 'cause you got to tell Jah-Jah why\\r\\r\\n(Groovin') It's Kingston twelve\\r\\r\\n(Groovin') It's Kingston twelve\\r\\r\\n(Groovin') It's Kingston twelve, now\\r\\r\\n(Groovin') It's Kingston twelve\\r\\r\\n(No want you fe galang so) oh no!\\r\\r\\n(No want you fe galang so) scaba-dip, scaba\\r\\r\\n(You want come cold I up) scaba-diba-dip, scaba-dip, scaba-dip\\r\\r\\n(But you can't come cold I up)\\r\\r\\nWo-wo-wo, I'm a groover\\r\\r\\nAnd the world know by now, now, now, now, now, now, now, now, y'all\\r\\r\\nOh now, I say, you feel no pain now\\r\\r\\nOne good thing about music\\r\\r\\nWhen it hits ya (you feel no pain) feel no pain\\r\\r\\nHit me with music, now, wo now\\r\\r\\nHit me with music now\\r\\r\\nHit me with music, 'arder, brutalize me!\\r\\r\\n(Hit me with music!)\\r\\r\\n\\r\\r\\nThis is (Trench Town Rock) I say don't watch that\\r\\r\\n(Trench Town Rock) if you are big fish or sprat\\r\\r\\n(Trench Town Rock) you reap what you sow \\r\\r\\n(Trench Town Rock) I, everyone know now\\r\\r\\n(Trench Town Rock) don't turn your back!\\r\\r\\n(Trench Town Rock) I say, give a slum a try\\r\\r\\n(Trench Town Rock) never let the children cry\\r\\r\\n(Trench Town Rock) or you got to tell Jah-Jah why\\r\\r\\nIt's Kingston twelve\\r\\r\\n(Groovin') it's Kingston twelve\\r\\r\\n(Groovin') I said, it's Kingston twelve now\\r\\r\\n(Groovin') wo-wo-wo-wo, it's Kingston twelve\\r\\r\\n(No want you fe galang so) since I told you that\\r\\r\\n(No want you fe galang so) we should live with love\\r\\r\\n(You want come cold I up) and I don't do that \\r\\r\\n(But you can't come cold I up) I look da now\\r\\r\\nAnd then it's Kingston twelve, uh!\\r\\r\\nGood God, look a-here now (you feel no pain) uh!\\r\\r\\nHit me with music, yeah, come on (hit me with music)\\r\\r\\n(Hit me with music), oh my brother (hit me with music) brutalize me!\\r\\r\\n(Hit me with music) oh hurt me (hit me with music)\\r\\r\\nWe can trash this ourselves!\\r\\r\\n(Hit me with music)\\r\\r\\n(Trench Town Rock) don't call no cop\\r\\r\\n(Rock) we can trash things ourselves\\r\\r\\n(Trench Town Rock) got no stacks on no shelves\\r\\r\\nBut let me tell ya, behave yourselves!\\r\\r\\n(Trench Town Rock)\",\n",
       " \"Lord, I've got to keep on moving\\r\\r\\nLord, I've got to get on down\\r\\r\\nLord, I've got to keep on moving\\r\\r\\nWhere I can't be found\\r\\r\\nLord, they're coming after me\\r\\r\\n\\r\\r\\nI've been accused for the killin'\\r\\r\\nLord knows I didn't do\\r\\r\\nFor hangin' me, they are willin', yeah, yeah\\r\\r\\nAnd that's why I've got to get on through\\r\\r\\nLord, they're coming after me (a-one more time)\\r\\r\\n\\r\\r\\nLord, I've got to keep on moving\\r\\r\\nLord, I've got to get on down\\r\\r\\nLord, I've got to keep on moving\\r\\r\\nWhere I can't be found\\r\\r\\nLord, they're coming after me\\r\\r\\n\\r\\r\\n(Now, listen) I've got two boys and a woman\\r\\r\\nThey're just gonna suffer now\\r\\r\\nLord, forgive me for not goin' back\\r\\r\\nBut I'll be there anyhow\\r\\r\\nI'll be there anyhow (one more time)\\r\\r\\n\\r\\r\\n(I say) Lord, I've got to keep on moving\\r\\r\\nLord, I've got to get on down\\r\\r\\nLord, I've got to keep on moving\\r\\r\\nWhere I can't be found\\r\\r\\nLord, they're coming after me\\r\\r\\n\\r\\r\\nNow, maybe someday I'll find a piece of land\\r\\r\\nSomewhere not by near anyone\\r\\r\\nThen I'll send for my love, love, love, love, sweet woman\\r\\r\\nAnd my two grown-up son\\r\\r\\nMy two grown up-son (yeah, yeah, yeah)\\r\\r\\n\\r\\r\\n(I say now) Lord I've got to keep on moving\",\n",
       " \"Ooh-ooh-oo-ooh. Oo-oo-ooh! Oo-oo-ooh.\\r\\r\\nSlave driver, the table is turn (catch your fire)\\r\\r\\nCatch your fire, so you can get burn, now (catch your fire)\\r\\r\\nSlave driver, the table is turn (catch your fire)\\r\\r\\nCatch your fire, you gonna get burn (catch your fire) wo, now!\\r\\r\\n\\r\\r\\nEvery time I hear the crack of a whip\\r\\r\\nMy blood runs cold\\r\\r\\nI remember on the slave ship\\r\\r\\nHow they brutalize the very souls\\r\\r\\nToday they say that we are free\\r\\r\\nOnly to be chained in poverty\\r\\r\\nGood God, I think it's illiteracy\\r\\r\\nIt's only a machine that makes money\\r\\r\\nSlave driver, the table is turn, you'll ooh-ooh-oo-ooh\\r\\r\\n\\r\\r\\nSlave driver, uh! The table is turn, baby, now (catch your fire)\\r\\r\\n(Catch your fire) so you can get burn, baby, now (catch your fire)\\r\\r\\nSlave driver, the table is turn, y'all (catch your fire)\\r\\r\\n(Catch your fire) so you can get burn, now (catch your fire)\\r\\r\\n\\r\\r\\nEvery time I hear the crack of a whip\\r\\r\\nMy blood runs cold\\r\\r\\nI remember on the slave ship\\r\\r\\nHow they brutalize your very soul\\r\\r\\n\\r\\r\\nOh God, have mercy on our souls!\\r\\r\\nOh, slave driver, the table is turn, y'all (catch your fire)\\r\\r\\nCatch your fire, so you can get burn (catch your fire)\\r\\r\\nSlave driver, the table is turn, y'all (catch your fire)\\r\\r\\nCatch your fire, so you can get burn\",\n",
       " \"I'm a rebel, soul rebel\\r\\r\\nI'm a capturer, soul adventurer\\r\\r\\nI'm a rebel, soul rebel\\r\\r\\nI'm a capturer, soul adventurer\\r\\r\\n\\r\\r\\nSee the morning sun (ah-ah-ah-ah-ah)\\r\\r\\nOn the hillside (ooh)\\r\\r\\nNot living good, yeah, travel wide\\r\\r\\nSaid, I'm a living man, said, I'm a living man\\r\\r\\nI've got work to do (oh)\\r\\r\\nIf you're not happy, children\\r\\r\\nThen you must be blue\\r\\r\\n(Must be blue, must be blue) people say\\r\\r\\n\\r\\r\\nI'm a rebel, let them talk\\r\\r\\nSoul rebel, talk won't bother me\\r\\r\\nI'm a capturer, that's what they say\\r\\r\\n(Soul adventurer) night and day\\r\\r\\n(I'm a rebel) I'm a rebel soul rebel\\r\\r\\nDo you hear them, Lippy?\\r\\r\\nI'm a capturer\\r\\r\\nSoul adventurer\\r\\r\\n\\r\\r\\nSee the morning sun (ah-ah-ah-ah-ah)\\r\\r\\nOn the hill side (oh)\\r\\r\\nIf you are not living good, travel wide\\r\\r\\nSaid, I'm a living man (ah-ah-ah-ah-ah)\\r\\r\\nI've got work to do\\r\\r\\nIf you're not happy\\r\\r\\nYou must be blue\\r\\r\\n\\r\\r\\nI'm a rebel (ooh-ooh)\\r\\r\\nSoul rebel\\r\\r\\nI'm a capturer (ooh-ooh)\",\n",
       " 'Na-na-na-na-na-na-na-na,\\r\\r\\nNa-na-na-na-na-na-na-na-na,\\r\\r\\nNa-na-na-na-na-na-na-na,\\r\\r\\nNa-na-na-na-na-na-na-na-na\\r\\r\\n\\r\\r\\nWe singin\\'\\r\\r\\nThem belly full but we hungry\\r\\r\\nA hungry mob is a angry mob\\r\\r\\nA rain a-fall but the dirt it tough,\\r\\r\\nA pot a-cook but the food na \\'nough\\r\\r\\n\\r\\r\\nWe\\'re going to dance to Jah music, dance\\r\\r\\nWe\\'re gonna dance to Jah music, dance\\r\\r\\nForget your sorrows and dance\\r\\r\\nForget your troubles and dance\\r\\r\\nForget your sickness and dance and dance and dance\\r\\r\\nForget your weakness and dance\\r\\r\\n\\r\\r\\nWe\\'re siggin\\'\\r\\r\\nCost of living get so high,\\r\\r\\nThe rich and poor, they start a cry\\r\\r\\nBut now the weak must get strong\\r\\r\\nThey singin\\' \"Oh, what a tribulation\"\\r\\r\\n\\r\\r\\nThem belly full but we hungry\\r\\r\\nA hungry mob is a angry mob\\r\\r\\nA rain a-fall, the dirt it tough,\\r\\r\\nA pot a-cook but the food na \\'nough\\r\\r\\nWe\\'re gonna chuck to Jah music, we\\'re chuckin\\'\\r\\r\\nMe say we\\'re chuckin\\' to Jah music, we\\'re chuckin\\'\\r\\r\\n\\r\\r\\nChuckin\\'\\r\\r\\nChuckin\\'\\r\\r\\nChuckin\\'\\r\\r\\nChuckin\\'\\r\\r\\n\\r\\r\\nThem belly full but them hungry\\r\\r\\nA angry mob is a angry mob\\r\\r\\nA rain a-fall but the dirt it tough\\r\\r\\nA pot a-cook but the food na \\'nough\\r\\r\\n\\r\\r\\nRain a-fall the dirt it tough\\r\\r\\nA pot a-cook food na \\'nough \\r\\r\\nAn angry mob is a angry mob\\r\\r\\nA hungry man is a angry man\\r\\r\\n\\r\\r\\nRain a-fall the dirt it tough\\r\\r\\nA pot a-cook food na \\'nough\\r\\r\\nRain a-fall the dirt it tough\\r\\r\\nA pot a-cook now food na \\'nough\\r\\r\\n\\r\\r\\nThey say a angry mob is a angry mob\\r\\r\\nA hungry mob is a angry mob\\r\\r\\nThen a hungry man is a angry man\\r\\r\\nA hungry man is a angry man',\n",
       " \"Feel them spirit\\r\\r\\nFeel them spirit\\r\\r\\nFeel them spirit\\r\\r\\nLord, I thank you\\r\\r\\nLord, I thank you\\r\\r\\n\\r\\r\\nFeel alright now\\r\\r\\nFeel alright now\\r\\r\\nFeel alright now\\r\\r\\nLord, I thank you\\r\\r\\nLord, I thank you\\r\\r\\n\\r\\r\\nI'm gonna put it on, I put it on already\\r\\r\\nI'm gonna put it on, and it was steady\\r\\r\\nI'm gonna put it on, put it on again\\r\\r\\nGood Lord, help me\\r\\r\\nGood Lord, help me\\r\\r\\n\\r\\r\\nI'm not boastin'\\r\\r\\nI'm not boastin'\\r\\r\\nI'm not boastin'\\r\\r\\nFeel like toastin'\\r\\r\\nFeel like toastin'\\r\\r\\n\\r\\r\\nI rule my destiny, yeah\\r\\r\\nI rule my destiny\\r\\r\\nI rule my destiny\\r\\r\\nLord, I thank you, yeah\\r\\r\\nLord, I thank you\\r\\r\\n\\r\\r\\nNo more cryin'\\r\\r\\nNo more cryin'\\r\\r\\nNo more cryin'\\r\\r\\nGood Lord, hear me\\r\\r\\nGood Lord\",\n",
       " \"You said you love me\\r\\r\\nI said I love you\\r\\r\\nWhy won't you stop your cryin'? (cryin', cryin')\\r\\r\\nDry your weeping eyes\\r\\r\\nYou know that I love - I love - I love - I love you so,\\r\\r\\nDa-da-dam da-da-damsel\\r\\r\\n\\r\\r\\nHere I am, me said,\\r\\r\\nCome rub it 'pon me belly\\r\\r\\nWid you guava jelly,\\r\\r\\nDa-da-dam da-da-damsel\\r\\r\\n\\r\\r\\n(Here I stand) Wo now!\\r\\r\\n(Come rub it 'pon me belly) Wo, now!\\r\\r\\n(Wid you guava jelly) Wo, now!\\r\\r\\n\\r\\r\\nI really, really - I really love you\\r\\r\\nYes, I really, really love you, child\\r\\r\\nI say you should stop, stop your cryin'\\r\\r\\nWipe - wipe your weeping eyes\\r\\r\\nTell you how I'm gonna love \\r\\r\\nLove you from the bottom of my heart\\r\\r\\n(Damsel) Oh, damsel!\\r\\r\\n\\r\\r\\n(Here I am) Wo, damsel!\\r\\r\\n(Come rub it 'pon me belly) Wo, damsel!\\r\\r\\n(Wid you guava jelly),\\r\\r\\nDa-da-dam da-da-damsel\\r\\r\\n\\r\\r\\n(Here I stand) I can't explain,\\r\\r\\n(Come rub it) Though the fact still remain ('pon me belly)\\r\\r\\nI need your love (wid you guava jelly) so much\\r\\r\\nCome-a, come-a, come-a, damsel, oh darlin'\\r\\r\\n\\r\\r\\n(Here I stand) Oh, damsel, baby\\r\\r\\nMe say (come rub it 'pon me) - me say (belly) \\r\\r\\nMe say (wid you guava jelly)\",\n",
       " \"Easy skanking, skanking it easy\\r\\r\\nEasy skanking, skanking it slow \\r\\r\\nEasy skanking, skanking it easy\\r\\r\\nEasy skanking, skanking it slow \\r\\r\\n\\r\\r\\nExcuse me while I light my spliff (spliff)\\r\\r\\nGood God I gotta' take a lift (lift)\\r\\r\\nFrom reality I just can't drift (drift)\\r\\r\\nThat's why I am staying with this riff\\r\\r\\n\\r\\r\\nTake it easy, takin' it easy\\r\\r\\nLord, I take it easy, takin' it slow \\r\\r\\nTake it easy, takin' it easy\\r\\r\\nLord, I take it easy, takin' it slow \\r\\r\\n\\r\\r\\nSee, takin' it easy\\r\\r\\nGot to take it slow\\r\\r\\nYeah, takin' it easy\\r\\r\\nGot to take it slow\\r\\r\\nTakes it easy, skanking it easy\\r\\r\\nEasy skanking, skanking it slow \\r\\r\\nEasy skanking, skanking it easy\\r\\r\\nEasy skanking, skanking it slow \\r\\r\\n\\r\\r\\nExcuse me while I light my spliff (spliff)\\r\\r\\nOh God I gotta take a lift (lift)\\r\\r\\nFrom reality I just can't drift (drift)\\r\\r\\nThat's why I'm staying with this riff\\r\\r\\n\\r\\r\\nTakes it easy, taking it easy\\r\\r\\nLord, I take it easy, skanking it slow \\r\\r\\nTake it easy, skanking it easy\\r\\r\\nLord, I take it easy, skanking it slow \\r\\r\\n\\r\\r\\nSee, herb for my wine\\r\\r\\nHoney for my strong drink\\r\\r\\nHerb for my wine, honey for my stong drink\\r\\r\\n\\r\\r\\nTakes it easy, taking it easy\\r\\r\\nOh gotta take it easy, taking it slow\\r\\r\\nTake it easy, taking it easy\\r\\r\\nLord, I take it easy, taking it slow\\r\\r\\n\\r\\r\\nTake it easy\\r\\r\\nTake it easy\\r\\r\\nTake it easy\\r\\r\\nTake it easy\\r\\r\\nTake it easy\\r\\r\\nTake it easy\\r\\r\\nTaking it slow\\r\\r\\n\\r\\r\\nTake it easy\\r\\r\\nTake it easy\\r\\r\\nTake it easy\\r\\r\\nTake it easy\\r\\r\\nTakes it easy\\r\\r\\nTakes it easy\\r\\r\\nTaking it easy\",\n",
       " \"Get up, stand up, stand up for your rights!\\r\\nGet up, stand up, stand up for your rights!\\r\\nGet up, stand up, stand up for your rights!\\r\\nGet up, stand up, don't give up the fight!\\r\\n\\r\\nPreacher man, don't tell me\\r\\nHeaven is under the earth\\r\\nI know you don't know\\r\\nWhat life is really worth\\r\\nIt's not all that glitters is gold\\r\\n'Alf the story has never been told\\r\\nSo now you see the light, eh!\\r\\nStand up for your rights. Come on!\\r\\n\\r\\nGet up, stand up, stand up for your rights!\\r\\nGet up, stand up, don't give up the fight!\\r\\nGet up, stand up, stand up for your rights!\\r\\nGet up, stand up, don't give up the fight!\\r\\n\\r\\nMost people think,\\r\\nGreat God will come from the skies\\r\\nTake away everything\\r\\nAnd make everybody feel high\\r\\nBut if you know what life is worth\\r\\nYou will look for yours on earth\\r\\nAnd now you see the light\\r\\nYou stand up for your rights. Jah!\\r\\n\\r\\nGet up, stand up! (Jah, Jah!)\\r\\nStand up for your rights! (Oh-hoo!)\\r\\nGet up, stand up! (Get up, stand up!)\\r\\nDon't give up the fight! (Life is your right!)\\r\\nGet up, stand up! (So we can't give up the fight!)\\r\\nStand up for your rights! (Lord, Lord!)\\r\\nGet up, stand up! (Keep on struggling on!)\\r\\nDon't give up the fight! (Yeah!)\\r\\n\\r\\nWe sick an' tired of-a your ism-skism game\\r\\nDyin' 'n' goin' to heaven in-a Jesus' name, Lord\\r\\nWe know when we understand\\r\\nAlmighty God is a living man\\r\\nYou can fool some people sometimes\\r\\nBut you can't fool all the people all the time\\r\\nSo now we see the light (What you gonna do?)\\r\\nWe gonna stand up for our rights! (Yeah, yeah, yeah!)\\r\\n\\r\\nSo you better\\r\\nGet up, stand up! (In the morning! Git it up!)\\r\\nStand up for your rights! (Stand up for our rights!)\\r\\nGet up, stand up!\\r\\nDon't give up the fight! (Don't give it up, don't give it up!)\\r\\nGet up, stand up! (Get up, stand up!)\\r\\nStand up for your rights! (Get up, stand up!)\\r\\nGet up, stand up!\\r\\nDon't give up the fight! (Get up, stand up!)\\r\\nGet up, stand up!\\r\\nStand up for your rights!\\r\\nGet up, stand up!\\r\\nDon't give up the fight!\",\n",
       " \"Sugar, oh honey honey, you are my candy girl (got me) and you got me wantin' you \\r\\r\\nOh, honey honey (honey) sugar (oh, sugar sugar) Tell you what \\r\\r\\n(You are my candy girl) And you got me (and you got me wantin' you) \\r\\r\\nI just can't believe the loveliness of loving you \\r\\r\\n(I just can't believe it's true, drip drop, drip drop)\\r\\r\\nI just can't believe the wonders of this feeling too \\r\\r\\n(I just can't believe it's true)\\r\\r\\n\\r\\r\\nLet me talk about my (my honey) Honey, I'm a sugar (oh, sugar sugar)\\r\\r\\nWhen I mix them together (you are my candy girl) That's what you are \\r\\r\\n(and you got me wanting you) Got me, got me, got me, got me \\r\\r\\n(Oh honey) Honey, I'm a sugar (oh, sugar sugar) \\r\\r\\nI describe you together (you are my candy girl) \\r\\r\\nThat's what you are (and you got me wanting you) \\r\\r\\n\\r\\r\\nLet me tell ya, when I kissed you girl, I knew how sweet a kiss could be \\r\\r\\n[knew how sweet a kiss could be, drip drop, drip drop] \\r\\r\\nLike a silver sunshine, pour your sweetness over me \\r\\r\\n[pour your sweetness over me] \\r\\r\\n\\r\\r\\nA let me be with (honey) Honey, sugar (oh, sugar sugar) \\r\\r\\nOh, please be both them together (you are my candy girl) And be \\r\\r\\nmy candy girl (and you got me wanting you) \\r\\r\\nAnd you got me, got me, got me (oh, honey) Honey, I'm a sugar \\r\\r\\n(oh, sugar sugar) \\r\\r\\n\\r\\r\\nI mix them together (you are my candy girl) \\r\\r\\nThat's what you are (and you got me wanting you) Got me, got me \\r\\r\\nYeah, pour your sugar (pour your sugar on me baby)\\r\\r\\nPour it down [pour a little sugar on me honey) \\r\\r\\nWhoa yeah, sugar (we could-a make a life so sweet) \\r\\r\\nYeah, yeah (hey, hey, hey) Yeah (pour out your sugar on me baby) \\r\\r\\nPour your sugar (pour your sugar on me baby) \\r\\r\\nOh yes, you got me honey (we could-a make a life so sweet) Yeah, yeah \\r\\r\\n(hey, hey, hey) \\r\\r\\n\\r\\r\\n(Pour out your sugar on me baby) Pour your sugar baby \\r\\r\\n(pour out your sugar on me baby) \\r\\r\\nI don't mind (yeah, yeah, pour out your sugar on me baby) You feel it\",\n",
       " \"We refuse to be\\r\\r\\nWhat you wanted us to be\\r\\r\\nWe are what we are\\r\\r\\nThat's the way it's going to be, if you don't know\\r\\r\\nYou can't educate I\\r\\r\\nFor no equal opportunity (talkin' 'bout my freedom) \\r\\r\\nTalkin' 'bout my freedom\\r\\r\\nPeople freedom and liberty!\\r\\r\\nYeah, we've been trodding on the winepress much too long\\r\\r\\nRebel, rebel!\\r\\r\\nYes, we've been trodding on the winepress much too long\\r\\r\\nRebel, rebel!\\r\\r\\n\\r\\r\\nBabylon system is the vampire, yea! (vampire)\\r\\r\\nSuckin' the children day by day, yeah!\\r\\r\\nMe say de Babylon system is the vampire, falling empire,\\r\\r\\nSuckin' the blood of the sufferers, yeah!\\r\\r\\nBuilding church and university, wooh, yeah! \\r\\r\\nDeceiving the people continually, yeah!\\r\\r\\nMe say them graduatin' thieves and murderers\\r\\r\\nLook out now they suckin' the blood of the sufferers (sufferers)\\r\\r\\nYea! (sufferers)\\r\\r\\n\\r\\r\\nTell the children the truth\\r\\r\\nTell the children the truth\\r\\r\\nTell the children the truth right now!\\r\\r\\nCome on and tell the children the truth\\r\\r\\nTell the children the truth\\r\\r\\nTell the children the truth\\r\\r\\nTell the children the truth\\r\\r\\nCome on and tell the children the truth\\r\\r\\n\\r\\r\\n'Cause, 'cause we've been trodding on ya winepress much too long\\r\\r\\nRebel, rebel!\\r\\r\\nAnd we've been takin' for granted much too long\\r\\r\\nRebel, rebel!\\r\\r\\n\\r\\r\\n(Trodding on the winepress) Trodding on the winepress (rebel)\\r\\r\\nGot to rebel, y'all (rebel)\\r\\r\\nWe've been trodding on the winepress much too long, yeah! (rebel)\\r\\r\\nYeah! (rebel) Yeah! Yeah!\\r\\r\\n\\r\\r\\nFrom the very day we left the shores (trodding on the winepress)\\r\\r\\nOf our Father's land (rebel)\\r\\r\\nWe've been trampled on (rebel)\\r\\r\\nOh now! (takin' for granted) Lord, Lord\",\n",
       " \"Ziya-po ya-ya, pa-pa-ya-pa!\\r\\r\\nTi-da-lee, na po-po pu-du-loo!\\r\\r\\nSte-na-peh na-na po po-ro po!\\r\\r\\n\\r\\r\\nAfrica unite\\r\\r\\n'Cause we're moving right out of Babylon\\r\\r\\nAnd we're going to our Father's land\\r\\r\\n\\r\\r\\nHow good and how pleasant it would be\\r\\r\\nBefore God and man, yeah\\r\\r\\nTo see the unification of all Africans, yeah\\r\\r\\nAs it's been said already\\r\\r\\nLet it be done, yeah\\r\\r\\nWe are the children of the Rastaman\\r\\r\\nWe are the children of the Iyaman\\r\\r\\n\\r\\r\\nSo, Africa unite\\r\\r\\n'Cause the children (Africa unite) wanna come home, yeah\\r\\r\\nAfrica unite\\r\\r\\n'Cause we're moving right out of Babylon\\r\\r\\nAnd we're grooving to our Father's land\\r\\r\\n\\r\\r\\nHow good and how pleasant it would be\\r\\r\\nBefore God and man\\r\\r\\nTo see the unification of all Rastaman, yeah\\r\\r\\nAs it's been said already, let it be done\\r\\r\\nI tell you who we are under the sun\\r\\r\\nWe are the children of the Rastaman\\r\\r\\nWe are the children of the Iyaman\\r\\r\\n\\r\\r\\nSo, Africa unite\\r\\r\\nAfri, Africa unite, yeah!\\r\\r\\nUnite for the benefit (Africa unite) of your people!\\r\\r\\nUnite for it's later (Africa unite) than you think!\\r\\r\\nUnite for the benefit (Africa unite) of my children!\\r\\r\\nUnite for it's later (Africa uniting) than you think!\\r\\r\\nAfrica awaits (Africa unite) its creators!\\r\\r\\nAfrica awaiting (Africa uniting) its creator!\\r\\r\\nAfrica, you're my (Africa unite) forefather cornerstone!\\r\\r\\nUnite for the Africans (Africa uniting) abroad!\\r\\r\\nUnite for the Africans (Africa unite) a yard!\",\n",
       " \"Huh, please don't you rock my boat\\r\\r\\n'Cause I don't want my boat to be rockin' anyhow\\r\\r\\nPlease don't you rock my boat, no\\r\\r\\n'Cause I don't want my boat to be rockin'\\r\\r\\n\\r\\r\\nI'm tellin' you that, oh, ooh-aah, I like it a-like a-this\\r\\r\\nCan you miss?\\r\\r\\nAnd you should know, ooh-aah, when I like it a-like a-this\\r\\r\\nAm I really it? Ooh yeah\\r\\r\\nYou satis- satis- satisfy my soul, morning time\\r\\r\\nEvening cold, -fy my soul\\r\\r\\nYes, I've been a-tellin' you, bake me the sweetest cakes\\r\\r\\nI'm happy inside all the time\\r\\r\\nOh, can't you see what you've done for me? Yeah\\r\\r\\n\\r\\r\\nYou make me feel like when we bend them new corners\\r\\r\\nWe feel like sweepstake winners, yeah\\r\\r\\nWhen we bend them new corners\\r\\r\\nWe feel like sweepstake winners\\r\\r\\n\\r\\r\\nAnd I said, oh, ooh-aah, I like it a-like a-this\\r\\r\\nYes, I do\\r\\r\\nAnd you should know, ooh-aah, when I like it a-like a-this\\r\\r\\nI've got it, just can't miss, ooh\\r\\r\\nSatis- satisfy my soul, darlin'\\r\\r\\nMake me love you in the morning time, yeah\\r\\r\\nIf ever I treated you bad, make it up to me one time\\r\\r\\n'Cause I'm happy inside all the time\\r\\r\\nI want you beside me, yeah, to be mine\\r\\r\\n\\r\\r\\nOne thing you've got to do, is when a-we holding hands together\\r\\r\\nYou've got to know that we love, a-love each other, yeah\\r\\r\\nAnd if every time you should walk away from me now\\r\\r\\nUh, you'll now I need your sympathy, yeah\\r\\r\\n\\r\\r\\nCan you see? Do you believe me?\\r\\r\\nOh, darlin', darlin', I'm callin', callin'\\r\\r\\nSatisfy my soul, satisfy my soul\\r\\r\\nNever, never, never give it up now\\r\\r\\n\\r\\r\\nAll in the same boat\\r\\r\\nRockin' on the same route\\r\\r\\nWe gotta get together, join each other\\r\\r\\nAnd can't you see what I've got for you? Yeah\\r\\r\\n\\r\\r\\nI'm happy, happy, happy, happy, happy, and not you can turn me blue now\\r\\r\\nCome a little closer, satisfy my\",\n",
       " \"Long time we no have no nice time:\\r\\r\\nYou-you doo-doo-doo, yeah: think about that!\\r\\r\\nLong time we no have no nice time:\\r\\r\\nYou-you doo-doo-doo, yeah: think about that!\\r\\r\\n\\r\\r\\nThis is my heart:\\r\\r\\nTo rock you steady;\\r\\r\\nI'll give you love\\r\\r\\nTime you're you ready.\\r\\r\\nThis little heart in me\\r\\r\\nJust won't let me be;\\r\\r\\nI'm rockin';\\r\\r\\nWon't you rock with me?\\r\\r\\n\\r\\r\\nLong time we no have no nice time:\\r\\r\\nYou-you doo-doo-doo, yeah: think about that!\\r\\r\\n\\r\\r\\nThis is my heart:\\r\\r\\nTo rock you steady;\\r\\r\\nI'll give you love\\r\\r\\nThe time you're you ready.\\r\\r\\nThis little heart in me\\r\\r\\nJust won't let me be;\\r\\r\\nI'm just-a rock this now;\\r\\r\\nWon't you rock wid me?\\r\\r\\n\\r\\r\\nA long - long - long - long time we no have no nice time:\\r\\r\\n\\r\\r\\nThank ya, thank ya, babe!\\r\\r\\n(You-you doo-doo-doo, yeah: think about that!)\",\n",
       " '(wo-o-o-o! wo-o-o-o! wooo!)\\r\\r\\nWoman hold her head and cry,\\r\\r\\nCause her son had been shot down in the street and died\\r\\r\\nFrom a stray bullet.\\r\\r\\n\\r\\r\\nWoman hold her head and cry;\\r\\r\\nExplaining to her was a passerby\\r\\r\\nWho saw the woman cry (cry)\\r\\r\\nWondering how can she work it out,\\r\\r\\nNow she knows that the wages of sin is death, yeah!\\r\\r\\nGift of jah is life. (life)\\r\\r\\nShe cried: ah-um, I - I know!\\r\\r\\n\"Johnny was a good man,\" I - I know! (never did a thing wrong)\\r\\r\\n\"Johnny was a good, good, good, good, good, good, good, good,\\r\\r\\nGood, good, good man\", (Johnny was good man)\\r\\r\\nShe cried - she crie-ie-ie-ie-ie-ie-ie-ied!\\r\\r\\n\\r\\r\\nWo-ooh! woman hold her head and cry,\\r\\r\\nAs her son had been shot down in the street and died\\r\\r\\nJust because of the system. (system)\\r\\r\\n\\r\\r\\nWoman hold her head and cry;\\r\\r\\nComforting her I was passing by.\\r\\r\\nShe complained, then she cry:\\r\\r\\nOh-ooh-wo-ah, cry (ah-ah), yeah, I know now (ah-ah),\\r\\r\\nNo I know, I know now: (Johnny was a good man)\\r\\r\\nSaid I know, mm-mm-mm-mm-mm. (never did a thing wrong)\\r\\r\\nAh! ah! (Johnny was a good man)\\r\\r\\nCan a woman tender care, she cried, (never did a thing wrong)\\r\\r\\nCease towards the child she bear? (Johnny was a good man)\\r\\r\\nWo-ho-ho-ooh! woman cry, woman - (never did a thing wrong)\\r\\r\\nShe cried, wo-oh! she cried, yeah! (Johnny was a good man)\\r\\r\\nCan a woman tender care\\r\\r\\nCease towards the child she bear? (never did a thing wrong)\\r\\r\\nWo-now, cry! (Johnny was a good man)',\n",
       " \"Are you ready?\\r\\r\\n\\r\\r\\nNew wave, new rave\\r\\r\\nNew wave, new wave, new rave\\r\\r\\nLet me tell you, we're going to a party\\r\\r\\nAnd I hope you are hardy\\r\\r\\nSo please don't be naughty\\r\\r\\nFor it's a punky reggae party\\r\\r\\nNew wave, new rave\\r\\r\\nNew wave, new rave\\r\\r\\n\\r\\r\\nTell you what, take a joyful sound\\r\\r\\nTo make the world go 'round\\r\\r\\nCome with your heart and soul\\r\\r\\nCome-a, come-a and rock your boat\\r\\r\\n'Cause it's a punky reggae party\\r\\r\\nAnd it's tonight\\r\\r\\nIt's a punky reggae party\\r\\r\\nAnd it's alright\\r\\r\\n\\r\\r\\nOh-oh-oh?\\r\\r\\n\\r\\r\\nRejected by society (do re mi fa)\\r\\r\\nTreated with impunity (so la te do)\\r\\r\\nProtected by their dignity (do re mi fa)\\r\\r\\nI face reality (so la te do)\\r\\r\\n\\r\\r\\nNew wave, new rave\\r\\r\\nNew wave, new wave, new rave\\r\\r\\n\\r\\r\\nWailers be there\\r\\r\\nThe Dammed, The Jam, The Clash\\r\\r\\nMaytals will be there\\r\\r\\nDoctor Feelgood too, ooh\\r\\r\\nNo boring old farts, no boring old farts, no boring old farts\\r\\r\\nWill be there\\r\\r\\nNo boring old farts, no boring old farts, no boring old farts\\r\\r\\nWill be there\\r\\r\\n\\r\\r\\nAnd it's a punky reggae party\\r\\r\\nAnd it's tonight\\r\\r\\nPunky reggae party\\r\\r\\nAnd it's alright\\r\\r\\n\\r\\r\\nOh-oh, ah\\r\\r\\n\\r\\r\\nA tip from a gypsy (do re mi fa)\\r\\r\\nShe said man, you got a tipsy (so la te do)\\r\\r\\nHidin' from reality (do re mi fa)\\r\\r\\nIn your world of hypocrisy (so la te do)\\r\\r\\n\\r\\r\\nIn your world of hypocrisy\\r\\r\\nIn your world of hypocrisy\\r\\r\\nIn your world of hypocrisy\\r\\r\\nIn your world of hypocrisy\\r\\r\\n\\r\\r\\nLet me tell you, a bubble, a bubble, a bubble, a bubble\\r\\r\\nA bubble, we a bubble\\r\\r\\nWe ain't lookin' for no trouble\\r\\r\\nSo if you trouble-trouble\\r\\r\\nWe'll give it to you double\\r\\r\\n\\r\\r\\nNew wave, new rave\\r\\r\\nNew wave, new wave, new rave\\r\\r\\n\\r\\r\\nSaid we gonna punk, punk, punk, punk, punk, punk\\r\\r\\nPunk, punk, punk, punk, punk, punk\\r\\r\\nPunk, ah aaah-aah-aah\\r\\r\\n(Punk, punk, punk, punk, punk, punk)\\r\\r\\n(Punk, punk, punk, punk, punk, punk)\\r\\r\\n(Punk, punk, punk)\\r\\r\\n\\r\\r\\nEh, it takes a joyful sound \\r\\r\\nTo make the world, make the world go 'round\\r\\r\\nIt takes a joyful sound\\r\\r\\nCome-a, come-a rock your boat\\r\\r\\n\\r\\r\\nIt's a punky reggae party\\r\\r\\nAnd it's tonight\\r\\r\\nPunky reggae party\\r\\r\\nAnd it's alright\\r\\r\\n\\r\\r\\nRoots, roots, roots!\\r\\r\\n\\r\\r\\n(Do re mi fa)\\r\\r\\n(So la te do)\\r\\r\\n(Do re mi fa)\\r\\r\\n(So la te do)\\r\\r\\n(New wave, new rave)\\r\\r\\n(New wave, new wave, new rave)\\r\\r\\n\\r\\r\\nSaid we gonna punk, punk, punk, punk, punk, punk\\r\\r\\nAh aaah-aah-aah\",\n",
       " \"I shot the sheriff\\r\\r\\nBut I didn't shoot no deputy\\r\\r\\nOh, no, no\\r\\r\\nI shot the sheriff\\r\\r\\nBut I didn't shoot no deputy\\r\\r\\nOoh\\r\\r\\n\\r\\r\\nAll around in my hometown\\r\\r\\nThey're tryin' to track me down\\r\\r\\nThey say they want to bring me in guilty\\r\\r\\nFor the life of a deputy\\r\\r\\nFor the life of a deputy\\r\\r\\nBut I say\\r\\r\\n\\r\\r\\nI shot the sheriff\\r\\r\\n(But I swear it was in self-defense) I swear it was in self-defense, yeah\\r\\r\\nIt was I shot the sheriff\\r\\r\\nAnd they say it is a capital offense\\r\\r\\n\\r\\r\\nSheriff John Brown always hated me\\r\\r\\nFor what, I don't know\\r\\r\\nEvery time I plant a seed\\r\\r\\nHe said kill them before it grow\\r\\r\\nHe said kill them before they grow\\r\\r\\nAnd so\\r\\r\\n\\r\\r\\nAnd so\\r\\r\\n\\r\\r\\nI shot the sheriff\\r\\r\\nBut I didn't shoot the deputy\\r\\r\\nIt was I shot the sheriff\\r\\r\\n(But I didn't shoot the deputy) I didn't shoot the deputy, no, no\\r\\r\\n\\r\\r\\nFreedom came my way one day\\r\\r\\nAnd I started out of town, yeah\\r\\r\\nThen all of a sudden I saw sheriff John Brown\\r\\r\\nHe was aiming to shoot I down\\r\\r\\nSo I shot, yes, I shot, shot him down\\r\\r\\nAnd I say\\r\\r\\n\\r\\r\\nI-I-I-I shot the sheriff\\r\\r\\nLord, I didn't shoot the deputy\\r\\r\\n(No, no, no)\\r\\r\\nIt was I who shot the sheriff\\r\\r\\nBut I didn't shoot the deputy\\r\\r\\n\\r\\r\\nReflexes had the better of me\\r\\r\\nAnd what is to be must be\\r\\r\\nEvery day the bucket goes to the well\\r\\r\\nI say, one day the bottom a-go drop out\\r\\r\\nOne day the bottom will drop out\\r\\r\\nAnd so\\r\\r\\nAnd so\\r\\r\\nReally sing\\r\\r\\n\\r\\r\\nI shot the sheriff\\r\\r\\nBut I didn't shoot the deputy\\r\\r\\n(No, no, no)\\r\\r\\nI shot the sheriff\\r\\r\\nBut I didn't shoot the deputy\",\n",
       " \"Back out, this is the rout!\\r\\r\\nBack out, and shut your mouth!\\r\\r\\nBack out, you ain't got no behaviour!\\r\\r\\nBack out, don't know who could be your saviour!\\r\\r\\nYahso, Mistress Martin\\r\\r\\nCouldn't speak like yahso!\\r\\r\\nYahso, Mistress Martin\\r\\r\\nCouldn't speak like yahso, yahso, yahso, yahso! Yeah!\\r\\r\\n\\r\\r\\nBack out, and shut your mouth!\\r\\r\\nBack out, ooh, yea-eah!\\r\\r\\nBack out, you're makin' things go slow!\\r\\r\\nBack out, on the go!\\r\\r\\nYahso, Mistress Martin:\\r\\r\\nCouldn't speak like yahso!\\r\\r\\nYahso, Mistress Martin\\r\\r\\nCould never speak like yahso, yahso, yahso (yahso)! Ooh, yeah!\\r\\r\\n ---\\r\\r\\n(Organ solo)\\r\\r\\n\\r\\r\\n(Sweet soul music)\\r\\r\\n(Sweet soul music)\\r\\r\\n(Sweet soul music)\\r\\r\\n(Sweet soul music)\\r\\r\\n(Sweet soul music)\\r\\r\\n(Sweet soul music)\\r\\r\\n ---\\r\\r\\nEh! Yahso, Mistress Martin\\r\\r\\nCouldn't speak like yahso!\\r\\r\\nYahso, Mistress Martin\\r\\r\\nCould never speak like yahso, yahso, yahso (yahso)!\\r\\r\\n\\r\\r\\nEh! Ooh! Back out now, and shut your mouth (Back out!)\\r\\r\\nShut your mouth! (Back out!)\\r\\r\\nMakin' things go slow! (Back out!)\\r\\r\\nNow you're on the go! (Back out!)\\r\\r\\nYou're back - back - back - now! (Back out!)\\r\\r\\nYou never, never knew (Back out!)\\r\\r\\nYou would be back - back - back now! (Back out!)\",\n",
       " \"You a-go tired fe see me face\\r\\r\\nCan't get me out of the race\\r\\r\\nOh, man, you said I'm in your place\\r\\r\\nAnd then you draw bad card\\r\\r\\nA-make you draw bad card\\r\\r\\nAnd then you draw bad card\\r\\r\\n\\r\\r\\nPropaganda spreading over my name\\r\\r\\nSay you want to bring another life to shame\\r\\r\\nOh, man, you just a-playing a game\\r\\r\\nAnd then you draw bad card (draw bad card)\\r\\r\\nA-make you draw bad card (draw bad card)\\r\\r\\nA-make you draw bad card\\r\\r\\n\\r\\r\\nI want to disturb my neighbour\\r\\r\\n'Cause I'm feelin' so right\\r\\r\\nI want to turn up my disco\\r\\r\\nBlow them to full watts tonight, eh\\r\\r\\nIn a rub-a-dub style, in a rub-a-dub style\\r\\r\\nIn a rub-a-dub style, in a rub-a-dub style\\r\\r\\n\\r\\r\\n'Cause we guarding the palace so majestic\\r\\r\\nGuarding the palace so realistic\\r\\r\\n\\r\\r\\nThem a-go tired to see we face (oh yeah)\\r\\r\\nMe say them can't get we out of the race\\r\\r\\nOh, man, it's just a big disgrace\\r\\r\\nThe way you draw bad card (draw bad card)\\r\\r\\nThe way you make wrong moves (make wrong moves)\\r\\r\\nThe way you draw bad card (draw bad card)\\r\\r\\nA-make you draw bad card (draw bad card)\\r\\r\\nA-make you draw bad card \\r\\r\\nIn a rub-a-dub style, rub-a-dub style\\r\\r\\nIn a rub-a-dub style\",\n",
       " 'Oh, please don\\'t you rock my boat (don\\'t rock my boat)\\r\\r\\nCause I don\\'t want my boat to be rockin\\' (don\\'t rock my boat)\\r\\r\\nOh, please don\\'t you rock my boat (don\\'t rock my boat)\\r\\r\\nCause I don\\'t want my boat to be rockin\\' (don\\'t rock my boat)\\r\\r\\n\\r\\r\\nI\\'m telling you that, oh, oh-oh,\\r\\r\\nI like it, like it this (I like it like this, I like it like this)\\r\\r\\nSo keep it steady, like this. (I like it like this)\\r\\r\\nAnd you should know, you should know by now,\\r\\r\\nI like it (I like it like this), I like it like this\\r\\r\\n(I like it like this, I like it like this),\\r\\r\\nI like it like this, ooh yeah! (I like it like this)\\r\\r\\n\\r\\r\\n(Satisfy my soul) You satisfy my soul (satisfy my soul)\\r\\r\\nYou satisfy my soul (satisfy my soul).\\r\\r\\nEvery little action (satisfy my soul),\\r\\r\\nThere\\'s a reaction (satisfy my soul).\\r\\r\\nOh, can\\'t you see what you\\'ve done for me, oh, yeah!\\r\\r\\nI am happy inside all - all of the time. \\r\\r\\n\\r\\r\\nWhen we (bend) bend a new corner,\\r\\r\\nI feel like a (sweep) sweepstake winner.\\r\\r\\nWhen I meet you around the corner (round the corner),\\r\\r\\nYou make me feel like a sweepstake winner (a sweep, a sweepstake winner).\\r\\r\\nWhoa, child! Can\\'t you see? You must believe me!\\r\\r\\nOh darling, darling, I\\'m calling, calling:\\r\\r\\nCan\\'t you see? Why won\\'t you believe me?\\r\\r\\nOh, darling, darling, I\\'m calling, calling\\r\\r\\n(calling, calling, calling, calling)\\r\\r\\n\\r\\r\\nWhen I meet you around the corner,\\r\\r\\nOh, I said, \"Baby, never let me be a loner\",\\r\\r\\nAnd then you hold me tight, you make me feel all right.\\r\\r\\nYes, when you hold me tight, you made me feel all right.\\r\\r\\n\\r\\r\\nWhoa, honey, can\\'t you see? Don\\'t you believe me?\\r\\r\\nOh, darling, darling, I\\'m callin\\', callin\\':\\r\\r\\nCan\\'t you see? Why won\\'t you believe me?\\r\\r\\nOh, darling, darling, I\\'m callin\\', callin\\'\\r\\r\\n(calling, calling, calling, calling).\\r\\r\\n\\r\\r\\nSatisfy my soul, satisfy my soul, satisfy my soul, satisfy my soul:\\r\\r\\nThat\\'s all I want you to do, that\\'s all I\\'ll take from you,\\r\\r\\nSatisfy my soul, satisfy my soul.',\n",
       " \"Stop that train, I'm leavin' today!\\r\\r\\nStop that train, I'm leavin' anyway!\\r\\r\\nStop that train, I'm leavin'\\r\\r\\nAnd I said, it won't be too long whether I'm right or wrong\\r\\r\\nI said, it won't be too long whether I'm right or wrong\\r\\r\\n\\r\\r\\nAll my good life I've been a lonely man\\r\\r\\nTeachin' my people who don't understand\\r\\r\\nAnd even though I tried my best\\r\\r\\nI still can't find no happiness\\r\\r\\n\\r\\r\\nSo I got to say\\r\\r\\nStop that train, I'm leavin' oh, baby now!\\r\\r\\nStop that train, I'm leavin', I don't care what you say!\\r\\r\\nStop that train, I'm leavin'\\r\\r\\nAnd I said, it won't be too long whether I'm right or wrong\\r\\r\\nI said, it won't be too long whether I'm right or wrong\\r\\r\\n\\r\\r\\nSome goin' east, and-a some goin' to west\\r\\r\\nSome stand aside to try their best\\r\\r\\nSome livin' big, but the most is livin' small\\r\\r\\nThey just can't even find no food at all\\r\\r\\n\\r\\r\\nI mean, stop it\\r\\r\\nStop that train, I'm leavin', believe me, mm-hmm\\r\\r\\nStop that train, I'm leavin', I don't mind!\\r\\r\\nStop that train, I'm leavin'\\r\\r\\nAnd I said, it won't be too long whether I'm right or wrong\\r\\r\\nI said, it won't be too long whether I'm right or wrong\\r\\r\\n\\r\\r\\nStop that train, I'm leavin', believe me\\r\\r\\nStop that train, I'm leavin', can't take it!\\r\\r\\nStop that train, I'm leavin', got to be better!\\r\\r\\nIt won't be too long whether I'm right or wrong\\r\\r\\nI said it won't be too long whether I'm right or wrong\",\n",
       " \"There she goes with the pieces from my heart\\r\\r\\nThere she goes and now my teardrops start\\r\\r\\nAnd ere I go once again\\r\\r\\nThrough these lonely heartaches and pain\\r\\r\\n\\r\\r\\nThat's all remain all remain\\r\\r\\nNow I know love is a guessin' game\\r\\r\\nShe goes with the pieces from my heart\\r\\r\\nThere she goes and now my teardrops start\\r\\r\\n\\r\\r\\nWho's gonna put back the pieces to my broken heart\\r\\r\\nOnce again, once again now I know this could be the end\\r\\r\\nAnd she gone with the pieces of my heart\\r\\r\\nThere she goes and now my teardrops start\\r\\r\\n\\r\\r\\nAnd here I go once again\\r\\r\\nThrough these lonely heartaches and pain\\r\\r\\nThat's all remain\\r\\r\\nNow I know this could be the end\\r\\r\\n\\r\\r\\nShe goes with de pieces from my heart\\r\\r\\nThere she goes and now my teardrops start\\r\\r\\nThere she goes with the pieces from my heart\",\n",
       " \"The sun shall not smite I by day, \\r\\r\\nNor the moon by night, \\r\\r\\nAnd everything that I do \\r\\r\\nShall be upfull and right. \\r\\r\\nAnd if it's all night,\\r\\r\\nIt got to be (alright!)\\r\\r\\nIf it's all night, \\r\\r\\nGot to be alright! \\r\\r\\n\\r\\r\\nI'm a not lose this one, \\r\\r\\nI'm the lucky one under the sun. \\r\\r\\nIf you make me move, \\r\\r\\nThen you know you got to groove: \\r\\r\\nA do ya like it, a do ya like it\\r\\r\\nDo ya do ya do ya do you?\\r\\r\\nIf it's (all night)\\r\\r\\nGot to be (all right)\\r\\r\\nI'm workin (all night)\\r\\r\\n\\r\\r\\nSee, I Work for my pay, night and day (all night, alright)\\r\\r\\nWork for my pay, night and day (all night, alright)\\r\\r\\nCan't you feel it (no no no no no no, ooh)\\r\\r\\nCan't you feel it (no no no no no no, ooh)\\r\\r\\nIf it's, if it's, if it's, it's got to be (alright!)\\r\\r\\nIf it's (all night), if it's (alright!)\\r\\r\\nDo you like it (all right, all right)\\r\\r\\nI talk old, square our fold (whoa whoa!)\\r\\r\\nBreak it back, tear a drop \\r\\r\\nWipe a tears a from your eyes, and don't ya cry\\r\\r\\nWipe them lonely tears, baby\\r\\r\\nI'll tell you why\\r\\r\\nIf it's all night, it got to be (alright!)\\r\\r\\nIf it's all night, got to be (alright!)\\r\\r\\n(all right) know that I'm a stranger \\r\\r\\nIn your town\",\n",
       " \"Oh, oh op-bo, bo, bo-bo-bo! \\r\\r\\nOh, oh op-bo, bo, bo-bo-bo! \\r\\r\\nYes, me friend, me friend, \\r\\r\\nThem set me free again \\r\\r\\nYes, me friend, me friend, \\r\\r\\nMe deh 'pon street again \\r\\r\\n\\r\\r\\nThe bars could not hold me \\r\\r\\nForce could not control me now \\r\\r\\nThey try to keep me down, \\r\\r\\nBut God put me around \\r\\r\\n\\r\\r\\nYes, I've been accused, \\r\\r\\nWrongly abused, now \\r\\r\\nBut through the powers of the Most-'Igh, \\r\\r\\nThey've got to turn me loose, mm! \\r\\r\\n\\r\\r\\n(Brr) Don't try (brr) \\r\\r\\nTo cold me up (brr) \\r\\r\\nOn this (brr) bridge now \\r\\r\\nI've got to reach Mount Zion \\r\\r\\nThe 'ighest region \\r\\r\\n(Brr) If you bull-bucka, \\r\\r\\nLet me tell you that \\r\\r\\nI'm a duppy conqueror, conqueror \\r\\r\\n\\r\\r\\nYes, me friend, me good friend, \\r\\r\\nThem set me free again, mm \\r\\r\\nYes, me friend, \\r\\r\\nThem turn me loose again \\r\\r\\n\\r\\r\\n(Brr) Don't try (brr) \\r\\r\\nTo cold me up on (brr) \\r\\r\\nThis (brr) bridge now \\r\\r\\nI've got to reach Mount Zion \\r\\r\\nThe 'ighest region \\r\\r\\n(Brr) If you bull-bucka, \\r\\r\\nLet me tell you \\r\\r\\nI'm a duppy conqueror, hit it! (conqueror) \\r\\r\\n\\r\\r\\n(Yes, me friend,) me friend, me friend, me friend, \\r\\r\\nWe deh a street again \\r\\r\\nYes, me friend, me friend, me friend, \\r\\r\\nDem set me free again \\r\\r\\nDem set me free again \\r\\r\\n\\r\\r\\nDon't try to show off \\r\\r\\nFi make you friend dem laugh, what a la-la! \\r\\r\\nFor I will cut you off \\r\\r\\nAnd I will have the last laugh\\r\\r\\nI'm cryin'! Yes, me friend, \\r\\r\\nWe deh a street again, yea-eah \\r\\r\\nYes, me friend, me friend, me friend, \\r\\r\\n(Dem set me free again.) \\r\\r\\nOh-oh-ooh, yeah mm-mm \\r\\r\\nBars could not hold me\",\n",
       " 'Tra la la la la, tra la la la la, soul captives are free\\r\\r\\nTra la la la la, tra la la la la, soul captives are free\\r\\r\\n\\r\\r\\nWhen you wake up early in the morning \\r\\r\\nAnd you work like devils in the sun\\r\\r\\nTime slips away without a warning\\r\\r\\nBut freedom day will come\\r\\r\\n\\r\\r\\nTra la la la la, tra la la la la, soul captives are free\\r\\r\\nTra la la la la, tra la la la la, soul captives are free\\r\\r\\n\\r\\r\\nWhen you wake up early in the morning \\r\\r\\nAnd you work like devils in the sun\\r\\r\\nTime slips away without a warning\\r\\r\\nBut freedom day will come\\r\\r\\n\\r\\r\\nTra la la la la, tra la la la la, soul captives are free\\r\\r\\nTra la la la la, tra la la la la',\n",
       " \"One, two, three, four!\\r\\r\\n\\r\\r\\nWake up and live, y'all\\r\\r\\nWake up and live!\\r\\r\\nWake up and live now!\\r\\r\\nWake up and live!\\r\\r\\n\\r\\r\\nLife is one big road with lots of signs\\r\\r\\nSo when you riding through the ruts \\r\\r\\nDon't you complicate your mind\\r\\r\\nFlee from hate, mischief and jealousy!\\r\\r\\nDon't bury your thoughts \\r\\r\\nPut your vision to reality, yeah!\\r\\r\\n\\r\\r\\nAll together now\\r\\r\\nWake up and live (wake up and live, y'all)\\r\\r\\nWake up and live (wake up and live)\\r\\r\\nWake up and wake up and live, yeah! (Wake up and live now)\\r\\r\\nWake up and (wake up and live), wake up and live!\\r\\r\\nRise ye mighty people, yeah!\\r\\r\\nThere's work to be done\\r\\r\\nSo let's do it a little by little\\r\\r\\nRise from your sleepless slumber! Yes, yeah! Yes, yeah!\\r\\r\\nWe're more than sand on the seashore\\r\\r\\nWe're more than numbers\\r\\r\\n\\r\\r\\nAll together now\\r\\r\\nWake up and live now, y'all!\\r\\r\\n(Wake up and live) Wake up and live! Wake up\\r\\r\\n(Wake up and live, y'all) Wake up and live now!\\r\\r\\nYou see, one, one cocoa full a basket\\r\\r\\nWhey they use you live big today, tomorrow you buried in a casket\\r\\r\\nOne, one cocoa full a basket, yeah, yes!\\r\\r\\nWhey they use you live big today, tomorrow you bury in a casket\\r\\r\\n\\r\\r\\nW'all together now (wake up and live now!) \\r\\r\\nWake up and live! Oh! Yeah! (Wake up and live!) Uh!\\r\\r\\n(Wake up and live now!) Wake up and live!\\r\\r\\n(Wake up and live) Keep on playin'!\\r\\r\\n(Wake up and live, y'all) Uh! Yeah! Yeah!\\r\\r\\n(Wake up and live!)\\r\\r\\n(Wake up and live now!)\\r\\r\\n(Wake up and live!) Break it down!\\r\\r\\n\\r\\r\\nCome on, man!\\r\\r\\nHow is it feelin' over there?\\r\\r\\n(Wake up and live now) All right!\\r\\r\\n(Wake up and live!) Yeah, yeah, yeah, yeah, yeah! Uh!\\r\\r\\nCome on, man!\\r\\r\\nYou gotta wake up and live!\\r\\r\\n\\r\\r\\nLife is one big road with lots of signs, yes!\\r\\r\\nSo when you riding through the ruts\\r\\r\\nDon't you complicate your mind\\r\\r\\nFlee from hate, mischief and jealousy!\\r\\r\\nDon't bury your thoughts \\r\\r\\nPut your dream to reality, yeah!\\r\\r\\n\\r\\r\\nW'all together now (wake up and live, y'all)\\r\\r\\n(Wake up and live!) Wake up and live, yeah!\\r\\r\\n(Wake up and live now!)\\r\\r\\n(Wake up and live!)\\r\\r\\n(Wake up and live now!)\\r\\r\\n(Wake up and live) Wooh!\\r\\r\\n(Wake up and live now!)\\r\\r\\n(Wake up and live!)\",\n",
       " 'Don\\'t worry about a thing\\r\\r\\n\\'Cause every little thing gonna be alright\\r\\r\\nSinging\\' don\\'t worry about a thing\\r\\r\\n\\'Cause every little thing gonna be alright\\r\\r\\n\\r\\r\\nRise up this mornin\\'\\r\\r\\nSmiled with the risin\\' sun\\r\\r\\nThree little birds\\r\\r\\nPitch by my doorstep\\r\\r\\nSingin\\' sweet songs\\r\\r\\nOf melodies pure and true\\r\\r\\nSaying\\', (this is my message to you)\\r\\r\\n\\r\\r\\nSinging\\' don\\'t worry \\'bout a thing\\r\\r\\n\\'Cause every little thing gonna be alright\\r\\r\\nSinging\\' don\\'t worry (don\\'t worry) \\'bout a thing\\r\\r\\n\\'Cause every little thing gonna be alright\\r\\r\\n\\r\\r\\nRise up this mornin\\'\\r\\r\\nSmiled with the risin\\' sun\\r\\r\\nThree little birds\\r\\r\\nPitch by my doorstep\\r\\r\\nSingin\\' sweet songs\\r\\r\\nOf melodies pure and true\\r\\r\\nSayin\\', this is my message to you\\r\\r\\n\\r\\r\\nSingin\\' don\\'t worry about a thing, worry about a thing, oh\\r\\r\\nEvery little thing gonna be alright, don\\'t worry\\r\\r\\nSingin\\' don\\'t worry about a thing, I won\\'t worry\\r\\r\\n\"\\'Cause every little thing gonna be alright\\r\\r\\n\\r\\r\\nSingin\\' don\\'t worry about a thing\\r\\r\\n\\'Cause every little thing gonna be alright, I won\\'t worry\\r\\r\\nSingin\\', don\\'t worry about a thing\\r\\r\\n\\'Cause every little thing gonna be alright\\r\\r\\nSingin\\' don\\'t worry about a thing, oh no\\r\\r\\n\\'Cause every little thing gonna be alright',\n",
       " \"No water can quench my thirst\\r\\r\\nI'm in bed send me a nurse, I'm thirsty thirsty Lord o' Mercy\\r\\r\\nOoh we \\r\\r\\nWhat other bottle, sweeter the victory \\r\\r\\nI've got your love, the power of your glory, ah\\r\\r\\nOoh yeah, trillin me\\r\\r\\nAll right\\r\\r\\nCan't judge a mother by the skin of the father\\r\\r\\nCan't judge a book by the skin on the cover yo \\r\\r\\nRead me read me baby\\r\\r\\nI'm goin'\\r\\r\\n\\r\\r\\nNo water can quench thirst\\r\\r\\nI'm in bed, need a nurse\\r\\r\\nCan you understand\\r\\r\\nDo you understand me baby\\r\\r\\n\\r\\r\\nI've got a bottle, sweet the victory \\r\\r\\nI've got your love, the power of your glory ah\\r\\r\\nOoh we\\r\\r\\nAll right\\r\\r\\nYou've got your love and I've got mine\\r\\r\\nWorkin together, they work fine, do you believe me, baby\\r\\r\\nGet it up baby\\r\\r\\nBreak it back, turn it loose\\r\\r\\nWhat in heaven baby it got to choose\",\n",
       " \"De heathen back dey 'pon de wall!\\r\\r\\nDe heathen back, yeah, 'pon de wall!\\r\\r\\nDe heathen back dey 'pon de wall!\\r\\r\\nDe heathen back, yeah, 'pon de wall!\\r\\r\\n\\r\\r\\nRise up fallen fighters\\r\\r\\nRise and take your stance again\\r\\r\\n'Tis he who fight and run away\\r\\r\\nLive to fight another day\\r\\r\\n\\r\\r\\nWith de heathen back dey 'pon de wall!\\r\\r\\nDe heathen back, yeah, 'pon de wall!\\r\\r\\nDe heathen back dey 'pon de wall!\\r\\r\\nDe heathen back, yeah, 'pon de wall!\\r\\r\\n\\r\\r\\nAs a man sow, shall he reap\\r\\r\\nAnd I know that talk is cheap\\r\\r\\nBut the hotter the battle\\r\\r\\nA the sweeter Jah victory\\r\\r\\n\\r\\r\\nWith the heathen back dey 'pon de wall!\\r\\r\\nDe heathen back, yeah, 'pon de wall!\\r\\r\\nDe heathen back dey 'pon de wall!\\r\\r\\nDe heathen back, yeah, 'pon de wall!\\r\\r\\n\\r\\r\\nDe heathen back yeah, 'pon de wall!\\r\\r\\nDe heathen back, yeah, 'pon de wall!\\r\\r\\nDe heathen back dey 'pon de wall!\\r\\r\\nDe heathen back, yeah, 'pon de wall!\\r\\r\\n\\r\\r\\nRise up, fallen fighters\\r\\r\\nRise and take your stance again\\r\\r\\n'Tis he who fight and run away\\r\\r\\nLive to fight another day\\r\\r\\n\\r\\r\\nDe heathen back dey 'pon de wall!\\r\\r\\nDe heathen back, yeah, 'pon de wall!\\r\\r\\nDe heathen back dey 'pon de wall!\\r\\r\\nDe heathen back, yeah, 'pon de wall!\\r\\r\\nDe heathen back dey 'pon de wall!\\r\\r\\nDe heathen back, yeah, 'pon de wall!\\r\\r\\nDe heathen back dey 'pon de wall!\\r\\r\\nDe heathen back, yeah, 'pon de wall!\\r\\r\\nDe heathen back dey 'pon de wall!\\r\\r\\nDe heathen back, yeah, 'pon de wall!\\r\\r\\nDe heathen back dey 'pon de wall!\\r\\r\\nDe heathen back, yeah, 'pon de wall!\\r\\r\\nDe heathen back, yeah\",\n",
       " \"Hey happy people\\r\\r\\nThis here is something new\\r\\r\\nI know you're gonna like it\\r\\r\\nSo let me tell you what we're gonna do\\r\\r\\n\\r\\r\\nSouls almighty (uh)\\r\\r\\nDon't you know we got the rhythm\\r\\r\\nSouls almighty (oh)\\r\\r\\nWe are willing\\r\\r\\n\\r\\r\\nFunky, funky cChicken (ooh)\\r\\r\\nAnd the mashed potato\\r\\r\\nDo the Alligator\\r\\r\\nLet's do it together\\r\\r\\nSouls almighty\\r\\r\\nDo you dig me ya'll\\r\\r\\n\\r\\r\\nSouls almighty\\r\\r\\nMy soul is raw\\r\\r\\nOoh yeah\\r\\r\\nGet yourself together\\r\\r\\nIn any kind of weather\\r\\r\\nThings will be mighty better\\r\\r\\nIf you get it together (witness)\\r\\r\\n\\r\\r\\nSouls almighty (ooh)\\r\\r\\nDon't you know we got the rhythm\\r\\r\\nSouls almighty \\r\\r\\nExactly when baby, you're not with him\\r\\r\\nGet yourself, yourself together\\r\\r\\n\\r\\r\\nIn any kind of weather (I'll come home baby)\\r\\r\\nThings will be mighty better\\r\\r\\nIf we, if we get it together\\r\\r\\nSouls, don't you know we got the rhythm\\r\\r\\nHit it brother!\\r\\r\\n\\r\\r\\nSouls Almighty\\r\\r\\nO' baby, when you're not with him\\r\\r\\nFunky, funky chicken\",\n",
       " \"Can't you see\\r\\r\\nWhat you're doing to me, girl\\r\\r\\nI am bound\\r\\r\\nWon't you set me free (set me free)\\r\\r\\n\\r\\r\\nTold me you loved me\\r\\r\\nTry to break my heart\\r\\r\\nYou do such a trick girl\\r\\r\\nYou gotta be smart\\r\\r\\nYou gotta a heart\\r\\r\\nThat be made of stone\\r\\r\\nA pity you don't know, while your fresh were grown\\r\\r\\n\\r\\r\\nCan't you see \\r\\r\\nWhat you're doing to me\\r\\r\\nI say girl\\r\\r\\nI am bound\\r\\r\\nWon't you set me free (set me free)\\r\\r\\n\\r\\r\\nLet you jerk on my heart\\r\\r\\nAnd you shatter my brain\\r\\r\\nIf you have conscience\\r\\r\\nAin't that a shame\\r\\r\\nTold me you loved me\\r\\r\\nTry to break my heart\\r\\r\\nYou do such a trick girl\\r\\r\\nYou gotta be smart\\r\\r\\n\\r\\r\\nCan't you see\\r\\r\\nWhat you're doing to me, girl\\r\\r\\nI say girl\\r\\r\\nI am bound\\r\\r\\nWon't you set me free\\r\\r\\nSet me free\\r\\r\\n\\r\\r\\nCan't you see\\r\\r\\nWhat you're doing to me, girl\\r\\r\\nI am bound\\r\\r\\nBaby won't you set me free (set me free)\\r\\r\\n\\r\\r\\nLet you dream on my heart\\r\\r\\nAnd you shatter my brain\\r\\r\\nIf you have conscience\\r\\r\\nAin't that a shame\\r\\r\\nTold me you loved me\\r\\r\\nTry to break my heart\\r\\r\\nYou do such a trick girl\\r\\r\\nYou gotta be smart\\r\\r\\n\\r\\r\\nCan't you see\\r\\r\\nWhat you're doing to me, girl\\r\\r\\nI am bound\\r\\r\\nWon't you set me free\",\n",
       " \"Touch me\\r\\r\\n\\r\\r\\nEvery minute, please touch me\\r\\r\\n\\r\\r\\nOh I see you pass my way again\\r\\r\\nAnd your call, call yourself my friend\\r\\r\\nWell let me tell you what's good to be\\r\\r\\nIt's no no more than your love cannot be\\r\\r\\nSo touch me said I ride on\\r\\r\\nJust a ride oh as I'm riding I'll be, oh yeah\\r\\r\\n\\r\\r\\nRiding\\r\\r\\n\\r\\r\\nThere you go you pass my way again\\r\\r\\nLet you know, oh you're still my friend\\r\\r\\nWell let me tell you what's good to be\\r\\r\\nWe two cannot walk unless we agree\\r\\r\\nSo touch me\\r\\r\\nI mean touch me, touch me\\r\\r\\nEvery minute, riding\\r\\r\\nTouch me, riding\",\n",
       " \"Lord, I've got to keep on moving\\r\\r\\nLord, I've got to get on down\\r\\r\\nLord, I've got to keep on moving\\r\\r\\nWhere I can't be found\\r\\r\\nLord, they're coming after me\\r\\r\\n\\r\\r\\nI've been accused for the killin'\\r\\r\\nLord knows I didn't do\\r\\r\\nFor hangin' me, they are willin', yeah, yeah\\r\\r\\nAnd that's why I've got to get on through\\r\\r\\nLord, they're coming after me (a-one more time)\\r\\r\\n\\r\\r\\nLord, I've got to keep on moving\\r\\r\\nLord, I've got to get on down\\r\\r\\nLord, I've got to keep on moving\\r\\r\\nWhere I can't be found\\r\\r\\nLord, they're coming after me\\r\\r\\n\\r\\r\\n(Now, listen) I've got two boys and a woman\\r\\r\\nThey're just gonna suffer now\\r\\r\\nLord, forgive me for not goin' back\\r\\r\\nBut I'll be there anyhow\\r\\r\\nI'll be there anyhow (one more time)\\r\\r\\n\\r\\r\\n(I say) Lord, I've got to keep on moving\\r\\r\\nLord, I've got to get on down\\r\\r\\nLord, I've got to keep on moving\\r\\r\\nWhere I can't be found\\r\\r\\nLord, they're coming after me\\r\\r\\n\\r\\r\\nNow, maybe someday I'll find a piece of land\\r\\r\\nSomewhere not by near anyone\\r\\r\\nThen I'll send for my love, love, love, love, sweet woman\\r\\r\\nAnd my two grown-up son\\r\\r\\nMy two grown up-son (yeah, yeah, yeah)\\r\\r\\n\\r\\r\\n(I say now) Lord I've got to keep on moving\",\n",
       " \"Why boasteth thyself\\r\\r\\nOh, evil men\\r\\r\\nPlaying smart\\r\\r\\nAnd not being clever? Oh no\\r\\r\\nI said, you're working iniquity\\r\\r\\nTo achieve vanity, yeah (if a-so a-so)\\r\\r\\nBut the goodness of Jah, Jah\\r\\r\\nI-dureth forever\\r\\r\\n\\r\\r\\nIf you are the big tree\\r\\r\\nWe are the small axe\\r\\r\\nSharpened to cut you down (well sharp)\\r\\r\\nReady to cut you down\\r\\r\\n\\r\\r\\nThese are the words\\r\\r\\nOf my master, keep on tellin' me\\r\\r\\nNo weak heart\\r\\r\\nShall prosper, oh no they can't!\\r\\r\\nAnd whosoever diggeth a pit, Lord\\r\\r\\nShall fall in it, shall fall in it\\r\\r\\nWhosoever diggeth a pit\\r\\r\\nShall bury in it, shall bury in it\\r\\r\\n\\r\\r\\nIf you are the big tree\\r\\r\\nWe are the small axe\\r\\r\\nSharpened to cut you down\\r\\r\\nReady to cut you down\\r\\r\\n\\r\\r\\nAnd whosoever diggeth a pit\\r\\r\\nShall fall in it, fall in it\\r\\r\\nAnd whosoever diggeth a pit\\r\\r\\nShall bury in it, shall bury in it\\r\\r\\n\\r\\r\\nIf you are the big, big tree\\r\\r\\nWe have a small axe\\r\\r\\nReady to cut you down (well sharp)\\r\\r\\nSharpened to cut you down\\r\\r\\nIf you are the big tree, let me tell you this\\r\\r\\nWe are the small axe\\r\\r\\nReady to cut you down (well sharp)\\r\\r\\nSharpened to cut you down\\r\\r\\n\\r\\r\\nIf you are the big tree\\r\\r\\nWe are the small axe\",\n",
       " \"What am I to do, my dear\\r\\r\\nSo that I may win your love?\\r\\r\\nWhat am I to do, my dear\\r\\r\\nSo that I may win your love?\\r\\r\\n\\r\\r\\nYou're jumping 'round like a lamb\\r\\r\\nJust because you put me in [unverified]\\r\\r\\nAnd I'll live my life the way that I want\\r\\r\\nBut I just got to hold you and it's a sin to talk so\\r\\r\\n\\r\\r\\nWhat am I to do, my dear\\r\\r\\nSo that I may win your love?\\r\\r\\nWhat am I to do, my dear\\r\\r\\nSo that I may win your love?\\r\\r\\n\\r\\r\\nI will send for you and you make me feel so blue\\r\\r\\nLittle dear, what do you want me to do?\\r\\r\\n[Unverified] just to see me through\\r\\r\\nBut I can't say that I'm keen and so blue so, yeah\\r\\r\\n\\r\\r\\nWhat am I to do, my dear\\r\\r\\nSo that I may win your love?\\r\\r\\nWhat am I to do, my dear\\r\\r\\nSo that I may win your love?\\r\\r\\n\\r\\r\\nNow you're jumping 'round like a lamb\\r\\r\\nJust because you take me in [unverified]\\r\\r\\nAnd I'll live my life the way that I want\\r\\r\\nBut I just gone through love and it is here to talk, so\\r\\r\\n\\r\\r\\nWhat am I to do, my dear\\r\\r\\nSo that I may win your love?\",\n",
       " \"Until the philosophy \\r\\r\\nWhich hold one race superior\\r\\r\\nAnd another\\r\\r\\nInferior\\r\\r\\nIs finally\\r\\r\\nAnd permanently\\r\\r\\nDiscredited\\r\\r\\nAnd abandoned\\r\\r\\nWell everywhere is war\\r\\r\\nMe say war.\\r\\r\\n\\r\\r\\nAnd until there is no longer\\r\\r\\nFirst class and second class citizens of any nation\\r\\r\\nUntil the color of a man's skin\\r\\r\\nIs of no more significance than the color of his eyes\\r\\r\\nI've got to say war.\\r\\r\\n\\r\\r\\nAnd until the basic human rights\\r\\r\\nAre equally guaranteed to all,\\r\\r\\nWithout regard to race\\r\\r\\nDis a war.\\r\\r\\n\\r\\r\\nUntil that day\\r\\r\\nThe dream of lasting peace,\\r\\r\\nThe world citizenship\\r\\r\\nThe rule of international morality\\r\\r\\nWill remain in but a fleeting illusion to be pursued,\\r\\r\\nBut never attained,\\r\\r\\nWell everywhere is war, war.\\r\\r\\n\\r\\r\\nWar\\r\\r\\nWar\\r\\r\\nWar\\r\\r\\nWar\\r\\r\\nWar\\r\\r\\n\\r\\r\\nAnd until the ignoble and unhappy regimes\\r\\r\\nThat hold our brothers in South Africa,\\r\\r\\nNamibia,\\r\\r\\nIn sub-human bondage\\r\\r\\nHave been toppled,\\r\\r\\nUtterly destroyed,\\r\\r\\nWell, everywhere is war\\r\\r\\n\\r\\r\\nWar\\r\\r\\nWar\\r\\r\\n\\r\\r\\nWar in the east,\\r\\r\\nWar in the west,\\r\\r\\nWar up north,\\r\\r\\nWar down south,\\r\\r\\nThis is a war\\r\\r\\nA war\\r\\r\\nA war\\r\\r\\nRumors of war.\\r\\r\\nYes them war, them war\\r\\r\\nA rumors of war\\r\\r\\n\\r\\r\\n'Cause until that day,\\r\\r\\nThe African continent\\r\\r\\nWill not know peace,\\r\\r\\nWe Africans will fight, we find it necessary\\r\\r\\nWe know we shall win\\r\\r\\nWe are confident\\r\\r\\nIn the victory\\r\\r\\n\\r\\r\\nOf good over evil\\r\\r\\nOf good over evil\\r\\r\\nOf good over evil\\r\\r\\n\\r\\r\\nWell, everywhere is war\\r\\r\\nMe say war\\r\\r\\n\\r\\r\\nWar in the east,\\r\\r\\nWar in the west,\\r\\r\\nWar up north,\\r\\r\\nWar down south,\\r\\r\\nYes them war\\r\\r\\nThem war\\r\\r\\nThem war\\r\\r\\nThem war\\r\\r\\nThem war\\r\\r\\nThem war\\r\\r\\nThem war\\r\\r\\nThem war\\r\\r\\nThem war\\r\\r\\nYes them war\\r\\r\\n\\r\\r\\nSome cryin'\\r\\r\\nSome dyin'\\r\\r\\nSome willin'\\r\\r\\nSome losin'\\r\\r\\nSingin\\r\\r\\n\\r\\r\\nWe don't need no no no no no \\r\\r\\nNo more trouble\\r\\r\\n\\r\\r\\nWe don't need \\r\\r\\nNo no no no no \\r\\r\\nNo more trouble\\r\\r\\n\\r\\r\\nNo more troubles children\\r\\r\\nNo more troubles\\r\\r\\nHey!\\r\\r\\n\\r\\r\\nWhat we need is love (love)\\r\\r\\nTo guide and protect us on (on)\\r\\r\\nSo if you up, look down from above, (love)\\r\\r\\nHelp the weak if you are strong now. (love)\\r\\r\\n\\r\\r\\nWe don't need no trouble,\\r\\r\\nWhat we need is love, \\r\\r\\n(What we need is love, sweet love)\\r\\r\\n\\r\\r\\nWe don't need \\r\\r\\nNo no no no no no\\r\\r\\nNo more troubles children\\r\\r\\nNo more troubles\\r\\r\\n\\r\\r\\nWe don't need \\r\\r\\nNo no no no no no\\r\\r\\nNo more trouble\\r\\r\\nNo more war\\r\\r\\nNo more war hey\\r\\n\\r\\nSpeak happiness! \\r\\r\\n(sad enough without your woes) \\r\\r\\nOh children\\r\\r\\nCome on, you all and speak of love\\r\\r\\n(sad enough without your fuss)\\r\\r\\nYou see\\r\\r\\n\\r\\r\\nWe don't need no trouble\\r\\r\\nWhat we need is love\\r\\r\\n(What we need is love sweet love)\\r\\r\\nWe don't need\",\n",
       " \"No, woman, no cry\\r\\r\\nNo, woman, no cry\\r\\r\\nNo, woman, no cry\\r\\r\\nNo, woman, no cry\\r\\r\\n\\r\\r\\n'Cause, 'cause, 'cause I remember when we used to sit\\r\\r\\nIn the government yard in Trenchtown\\r\\r\\nOba observing the 'ypocrites\\r\\r\\nMingle with the good people we meet\\r\\r\\nGood friends we have, oh, good friends we've lost\\r\\r\\nAlong the way\\r\\r\\nIn this great future, you can't forget your past\\r\\r\\nSo dry your tears, I seh\\r\\r\\n\\r\\r\\nNo, woman, no cry\\r\\r\\nNo, woman, no cry\\r\\r\\n'Ere, little darlin', don't shed no tears\\r\\r\\nNo, woman, no cry\\r\\r\\n\\r\\r\\nSaid, said, said, I remember when-a we used to sit\\r\\r\\nIn the government yard in Trenchtown\\r\\r\\nAnd then Georgie would make the fire lights, I seh\\r\\r\\nA log wood burnin' through the night\\r\\r\\nThen we would cook cornmeal porridge, I seh\\r\\r\\nOf which I'll share with you\\r\\r\\nMy feet is my only carriage\\r\\r\\nAnd so I've got to push on through\\r\\r\\nBut while I'm gone\\r\\r\\n\\r\\r\\nEverything's gonna be all right\\r\\r\\nEverything's gonna be all right\\r\\r\\nEverything's gonna be all right\\r\\r\\nEverything's gonna be all right\\r\\r\\nEverything's gonna be all right\\r\\r\\nEverything's gonna be all right\\r\\r\\nEverything's gonna be all right\\r\\r\\nEverything's gonna be all right\\r\\r\\n\\r\\r\\nSo no woman, no cry\\r\\r\\nNo woman, no cry\\r\\r\\nI say, oh little oh little darling, don't shed no tears\\r\\r\\nNo woman, no cry\\r\\r\\n\\r\\r\\nNo woman, no woman, no woman, no cry\\r\\r\\nNo woman, no cry, one more time I've got to say\\r\\r\\nOh little little darling, please don't shed no tears\\r\\r\\nNo woman, no cry\\r\\r\\n\\r\\r\\nNo woman, no woman no cry\",\n",
       " \"You can't blame the youths\\r\\nYou can't fool the youths\\r\\nYou can't blame the youths of today\\r\\nYou can't fool the youths\\r\\n\\r\\nYou're teaching youths to learn in the school\\r\\nAnd that the cow jumped over moon\\r\\nTeaching youths to learn in the school\\r\\nAnd that the dish ran away with spoon\\r\\n\\r\\nSo you can't blame the youths of today\\r\\nYou can't fool the youths\\r\\nYou can't blame the youths, not at all\\r\\nYou can't fool the youths\\r\\n\\r\\nYou teach the youths about Christopher Columbus\\r\\nAnd you said he was a very great man\\r\\nYou teach the youths about Marco Polo\\r\\nAnd you said he was a very great man\\r\\n\\r\\nYou teach the youths about the pirate Hawkins\\r\\nAnd you said he was a very great man\\r\\nYou teach the youths about the pirate Morgan\\r\\nAnd you said he was a very great man\\r\\n\\r\\nSo, you can't blame the youths, when they don't learn\\r\\nYou can't fool the youths\\r\\nYou can't blame the youths of today\\r\\nYou can't fool the youths\\r\\n\\r\\nWhen every Christmas come\\r\\nYou buy the youth a pretty toy gun\\r\\nWhen every Christmas comes around\\r\\nYou buy the youth a fancy toy gun\\r\\n\\r\\nSo, you can't blame the youths when they get bad\\r\\nYou can't fool the youths\\r\\nYou can't blame the youths of today\\r\\nYou can't fool the youths\\r\\n\\r\\nSaid he was a very great man\\r\\nSaid he was a very great man\\r\\n\\r\\nYou teach the youths about Christopher Columbus\\r\\nAnd you said he was a very great man\\r\\nYou teach the youths about Marco Polo\\r\\nAnd you said he was a very great man\\r\\n\\r\\nYou teach the youths about the pirate Hawkins\\r\\nAnd you said he was a very great man\\r\\nYou teach the youths about the pirate Morgan\\r\\nAnd you said he was a very great man\\r\\n\\r\\nSo, you can't blame the youths\\r\\nYou can't fool the youths\\r\\nYou can't blame the youths of today\\r\\nYou can't fool the youths, yeah\\r\\n\\r\\nAnd you said he was a very great man\\r\\n\",\n",
       " \"Dip for diplomatic;\\r\\r\\n'Yp for hypocratic;\\r\\r\\nDry for dry-land tourist;\\r\\r\\nTup for Topper Norris!\\r\\r\\n\\r\\r\\nSee de 'ypocrites, them a-galang deh!\\r\\r\\nSee de 'ypocrites, them a-galang deh!\\r\\r\\nSee de 'ypocrites, them a-galang deh!  Man, go!\\r\\r\\n\\r\\r\\nDem cut - cut - cut against 'em one another;\\r\\r\\nCut - cut - cut against 'em one another.\\r\\r\\nOh, them teach to love one another;\\r\\r\\nOh, them teach to love one another.  Man, go!\\r\\r\\n\\r\\r\\nDem a rum - come - come wid a gravalicious;\\r\\r\\nDem a rum - come - come wid a gravalicious;\\r\\r\\nDem a rum-a - come-a - come-a wid a gravalicious;\\r\\r\\nDem a rum-a - come - come-a wid a gravalicious.\\r\\r\\n\\r\\r\\nSee de 'ypocrites, them a-galang deh!\\r\\r\\nSee de 'ypocrites, them a-galang deh!\\r\\r\\nSee de 'ypocrites, them a-galang deh!\\r\\r\\nSee de 'ypocrites, them a-galang deh!  Man, go!\\r\\r\\n\\r\\r\\nDip-a (for diplomatic);\\r\\r\\nA 'yp-a (for hypocratic);\\r\\r\\nDry - dry - dry (for dry-land tourist);\\r\\r\\nA tup-pa - tup-pa - tup-pa (for Topper Norris)!\\r\\r\\n\\r\\r\\nSee de 'ypocrites, them a-galang deh!\\r\\r\\nSee de 'ypocrites, them a-galang deh!\\r\\r\\nSee de 'ypocrites, them a-galang deh!  Man, go!\",\n",
       " \"400 years (400 years, 400 years. Wo-o-o-o)\\r\\r\\nAnd it's the same -\\r\\r\\nThe same (wo-o-o-o) philosophy\\r\\r\\nI've said it's four hundred years;\\r\\r\\n(400 years, 400 years. Wo-o-o-o, wo-o-o-o)\\r\\r\\nLook, how long (wo-o-o-o)\\r\\r\\nAnd the people they (wo-o-o-o) still can't see.\\r\\r\\nWhy do they fight against the poor youth of today?\\r\\r\\nAnd without these youths, they would be gone -\\r\\r\\nAll gone astray\\r\\r\\n\\r\\r\\nCome on, let's make a move:\\r\\r\\n(make a move, make a move. Wo-o-o-o, wo-o-o-o)\\r\\r\\nI can (wo-o-o-o) see time (wo-o-o-o) - time has come,\\r\\r\\nAnd if-a fools don't see\\r\\r\\n(fools don't see, fools don't see. Wo-o-o-o)\\r\\r\\nI can't save the youth:\\r\\r\\nThe youth (wo-o-o-o) is gonna be strong.\\r\\r\\nSo, won't you come with me;\\r\\r\\nI'll take you to a land of liberty\\r\\r\\nWhere we can live - live a good, good life\\r\\r\\nAnd be free.\\r\\r\\n\\r\\r\\nLook how long: 400 years, (400 years, 400 years) -\\r\\r\\nWay too long! (wo-o-o-o)\\r\\r\\nThat's the reason my people (wo-o-o-o) - my people can't see.\\r\\r\\nSaid, it's four hundred long years - (400 years, 400 years. Wo-o-o-o)\\r\\r\\nGive me patience (wo-o-o-o) - same philosophy.\\r\\r\\n\\r\\r\\nIt's been 400 years, (400 years, 400 years)\\r\\r\\nWait so long! Wo-o-o-o, wo-o-o-o.\\r\\r\\nHow long? 400 long, long years. /fadeout/\",\n",
       " \"(I am going home)\\r\\r\\nAah-aah-aah-aah-aah-aah-aah-aah-aah-aah-aah-aah\\r\\r\\n(I am going home)\\r\\r\\n\\r\\r\\nWell, when I look over Jordan, what did I see\\r\\r\\n(Coming for to carry me home?)\\r\\r\\nWell there's a whole bunch of angels that're coming\\r\\r\\n(Coming for to carry me home) Well, everybody\\r\\r\\n\\r\\r\\n(I am going home)\\r\\r\\nAah-aah-aah-aah-aah-aah-aah-aah-aah-aah-aah-aah\\r\\r\\n(I am going home)\\r\\r\\n\\r\\r\\nAnd if you reach up-a there before I do\\r\\r\\n(Coming for to carry me home)\\r\\r\\nJust tell everyone that I'm a-coming up there too\\r\\r\\n(Coming for to carry me home) Everybody\\r\\r\\n\\r\\r\\n(I am going home)\\r\\r\\nAah-aah-aah-aah-aah-aah-aah-aah-aah-aah-aah-aah\\r\\r\\n(I am going home)\\r\\r\\n\\r\\r\\n(I am going home)\\r\\r\\nAah-aah-aah-aah-aah-aah-aah-aah-aah-aah-aah-aah\\r\\r\\n(I am going home)\\r\\r\\n\\r\\r\\nWell, when I look over Jordan, what did I see\\r\\r\\n(Coming for to carry me home?)\\r\\r\\nThere's a whole bunch of-a angels that're coming\\r\\r\\n(Coming for to carry me home) Well, everybody\\r\\r\\n\\r\\r\\n(I am going home)\\r\\r\\nAah-aah-aah-aah-aah-aah-aah-aah-aah-aah-aah-aah\\r\\r\\n(I am going home)\\r\\r\\nI wanna tell you that I'm going home\\r\\r\\n(I am going home)\\r\\r\\nAah-aah-aah-aah-aah-aah-aah-aah-aah-aah-aah-aah\\r\\r\\n(I am going home)\\r\\r\\nGirl, I'm a-going home\\r\\r\\n(I am going home)\\r\\r\\nAah-aah-aah-aah-aah-aah-aah-aah-aah-aah-aah-aah\\r\\r\\n(I am going home)\\r\\r\\nGirl, I'm a-going home\\r\\r\\n(I am going home)\\r\\r\\nAah-aah-aah-aah-aah-aah-aah-aah-aah-aah-aah-aah\\r\\r\\n(I am going home)\\r\\r\\nNo more will I ... \",\n",
       " \"Oh, yeah, well, alright\\r\\r\\nWe're jammin'\\r\\r\\nI want to jam it with you\\r\\r\\nWe're jammin', jammin'\\r\\r\\nAnd I hope you like jammin' too\\r\\r\\nAin't no rules, ain't no vow\\r\\r\\nWe can do it anyhow\\r\\r\\nI and I will see you through\\r\\r\\n'Cause every day we pay the price\\r\\r\\nWith a little sacrifice\\r\\r\\nJammin' till the jam is through\\r\\r\\n\\r\\r\\nWe're jammin'\\r\\r\\nTo think that jammin' was a thing of the past\\r\\r\\nWe're jammin'\\r\\r\\nAnd I hope this jam is gonna last\\r\\r\\nNo bullet can stop us now\\r\\r\\nWe neither beg nor we won't bow\\r\\r\\nNeither can be bought nor sold\\r\\r\\nWe all defend the right\\r\\r\\nJah Jah children must unite\\r\\r\\nFor life is worth much more than gold\\r\\r\\n\\r\\r\\nWe're jammin', jammin', jammin', jammin'\\r\\r\\nAnd we're jammin' in the name of the Lord\\r\\r\\nWe're jammin', jammin', jammin', jammin'\\r\\r\\nWe're jammin' right straight from yard\\r\\r\\nSinging Holy Mount Zion, Holy Mount Zion\\r\\r\\nJah sitteth in Mount Zion and rules all creation\\r\\r\\nYeah, we're jammin'\\r\\r\\nBop-chu-wa-wa-wa\\r\\r\\n\\r\\r\\nWe're jammin'\\r\\r\\nI want to jam it with you\\r\\r\\nWe're jammin', jammin', jammin', jammin'\\r\\r\\nAnd Jamdown hope you're jammin', too\\r\\r\\nJah knows how much I 'ave tried\\r\\r\\nThe truth cannot hide\\r\\r\\nTo keep you satisfied\\r\\r\\nTrue love that now exists\\r\\r\\nIs the love I can't resist\\r\\r\\nSo jam by my side\\r\\r\\n\\r\\r\\nWe're jammin', jammin', jammin', jammin'\\r\\r\\nI want to jam it with you\\r\\r\\nWe're jammin', we're jammin'\\r\\r\\nWe're jammin', we're jammin'\\r\\r\\nWe're jammin', we're jammin'\\r\\r\\nWe're jammin', we're jammin'\\r\\r\\nHope you like jammin', too\\r\\r\\n\\r\\r\\nWe're jammin', we're jammin'\\r\\r\\nWe're jammin', we're jammin'\\r\\r\\nI want, I want, I want to jam with you now\\r\\r\\nWe're jammin', we're jammin'\\r\\r\\nI hope you like jammin'\\r\\r\\nI hope you like jammin'\\r\\r\\n'Cause I want to jam it with you\\r\\r\\nI like I hope, I hope you like jammin' too\\r\\r\\nI wanna jam it, wanna jam it\",\n",
       " \"We gonna have a soul shakedown party tonight!\\r\\r\\nWe gonna have a soul shakedown party tonight!\\r\\r\\nThe way you love-a me, huh! It's all right!\\r\\r\\nWhen you put your loving arms around me, \\r\\r\\nAnd you hold me tight, holding me tight\\r\\r\\n\\r\\r\\nThis is my invitation\\r\\r\\nI got the special vacation\\r\\r\\nI need your concentration\\r\\r\\nJust to feel your vibration\\r\\r\\nAt that soul shakedown party tonight\\r\\r\\nWe gonna have a soul shakedown party tonight!\\r\\r\\n\\r\\r\\nJane is in the back yard\\r\\r\\nDoing the outside dance\\r\\r\\nI'm telling you the other day,\\r\\r\\nShe didn't even get a chance!\\r\\r\\n\\r\\r\\nBut this is my invitation\\r\\r\\nA just-a special vacation\\r\\r\\nI need your concentration\\r\\r\\nJust to, just to, just to (vibration) just to\\r\\r\\n(Soul shakedown party tonight) Baby, I need you tonight!\\r\\r\\nWe gonna have a soul shakedown party tonight!\\r\\r\\n\\r\\r\\nHit it, brother, y'all!\\r\\r\\n\\r\\r\\nThe way you love-a me, it's all right! (It's all right)\\r\\r\\nWhen you put your loving arms around me (arms around me),\\r\\r\\nAnd you hold me tight (holding me tight)\\r\\r\\n\\r\\r\\nThis is my invitation\\r\\r\\nI got the special vacation\\r\\r\\nI need your concentration\\r\\r\\nJust to feel your vibration\\r\\r\\n\\r\\r\\nAt that soul shakedown party tonight!\\r\\r\\nWe gonna have a soul shakedown party tonight!\\r\\r\\nSwing with me, baby!\\r\\r\\n(Soul shakedown party tonight)\\r\\r\\n\\r\\r\\nIt will be for two\",\n",
       " \"There's a natural mystic\\r\\r\\nBlowing through the air\\r\\r\\nIf you listen carefully now you will hear\\r\\r\\nThis could be the first trumpet\\r\\r\\nMight as well be the last\\r\\r\\nMany more will have to suffer\\r\\r\\nMany more will have to die\\r\\r\\nDon't ask me why\\r\\r\\nThings are not the way they used to be\\r\\r\\nI won't tell no lie\\r\\r\\nOne and all got to face reality now\\r\\r\\n\\r\\r\\nThough I try to find the answer\\r\\r\\nTo all the questions they ask\\r\\r\\nThough I know it's impossible\\r\\r\\nTo go living through the past\\r\\r\\nDon't tell no lie\\r\\r\\nThere's a natural mystic\\r\\r\\nBlowing through the air\\r\\r\\nCan't keep them down\\r\\r\\nIf you listen carefully now you will hear\\r\\r\\nSuch a natural mystic\\r\\r\\nBlowing through the air\\r\\r\\n\\r\\r\\nThis could be the first trumpet\\r\\r\\nMight as well be the last\\r\\r\\nMany more will have to suffer\\r\\r\\nMany more will have to die\\r\\r\\nDon't ask me why\\r\\r\\nThere's a natural mystic\\r\\r\\nBlowing through the air\\r\\r\\nI won't tell no lie\\r\\r\\nIf you listen carefully now, you will hear\\r\\r\\nThere's a natural mystic\\r\\r\\nBlowing through the air\",\n",
       " \"Bob Marley]\\r\\r\\nUh, uh, uh, uh\\r\\r\\nWoah now\\r\\r\\n[Red, red, red, redder than red]\\r\\r\\nSaid I'm redder than red\\r\\r\\n[Dread, dread, dread, dreader than dread]\\r\\r\\nI get dreader than dread now\\r\\r\\nI forward on the scene\\r\\r\\nI'll do it real keen\\r\\r\\n[Red, red, red, redder than red]\\r\\r\\nI won't do no wrong\\r\\r\\nI'll always be beside you\\r\\r\\nProtecting by you\\r\\r\\nI'll never let you down\\r\\r\\nYou can wear my crown\\r\\r\\nI'll be true to love you girl\\r\\r\\nI'll never tell no lie\\r\\r\\n'Cause I don't want to see those\\r\\r\\nTears from your eyes\\r\\r\\nI'm red, red, red, redder than red\\r\\r\\nCan you dig it? [dread, dread, dread, dreader than dread]\\r\\r\\nI'm dreader than dread now\\r\\r\\nI won't do no wrong\\r\\r\\nI'll be a free man\\r\\r\\n[Red, red, red, redder than red]\\r\\r\\nYes I am\\r\\r\\nI'll never hurt you\\r\\r\\nNever let you down\\r\\r\\nI'll stand always beside you\\r\\r\\nOh, oh\\r\\r\\nI'll be true to the people\\r\\r\\nWho I love\\r\\r\\nI'll never hurt them\\r\\r\\nWoah now, woah now\\r\\r\\n[Red, red, red, redder than red]\\r\\r\\nRedder than red\\r\\r\\n[Dread, dread, dread, dreader than dread]\\r\\r\\nThat's it, say I am red\\r\\r\\n[Red, red, red, redder than red]\\r\\r\\nRedder than red now\\r\\r\\n[Dread, dread, dread, dreader than dread]\\r\\r\\nCan I be dreader than dread\\r\\r\\nUh, every morning, every night\\r\\r\\nGroove, groove, out of sight, out, oh God\\r\\r\\n[Red, red, red, redder than red]\\r\\r\\n'Cause I'm, oooooh\\r\\r\\n[Dread, dread, dread, dreader than dread\",\n",
       " \"Dread, Natty Dread now (Natty Dread)\\r\\r\\nDreadlock Congo Bongo I (Natty Dread)\\r\\r\\nNatty Dreadlock in a Babylon (Natty Dread)\\r\\r\\nA dreadlock Congo Bongo I (Natty Dread)\\r\\r\\nEh! Children get your culture (Natty Dreadlock)\\r\\r\\nAnd don't stay there and gesture, a-ah (Natty Dreadlock)\\r\\r\\nOr the battle will be hotter (Natty Dreadlock)\\r\\r\\nAnd you won't get no supper (Natty Dreadlock)\\r\\r\\n\\r\\r\\nNatty Dread, Natty Dread, now (Natty Dread)\\r\\r\\nA dreadlock Congo Bongo I (Natty Dread)\\r\\r\\nNatty Dreadlock in a Babylon  (Natty Dread)\\r\\r\\nRoots Natty, Roots Natty! (Natty Dread)\\r\\r\\n\\r\\r\\nThen I walk up the first street (Natty Dreadlock)\\r\\r\\nAnd then I walk up the second street to see (Natty Dreadlock)\\r\\r\\nThen I trod on through third street (Natty Dreadlock)\\r\\r\\nAnd then I talk to some Dread on fourth street (Natty Dreadlock)\\r\\r\\nNatty Dreadlock in a fifth street (Natty Dreadlock)\\r\\r\\nAnd then I skip one fence to sixth street (Natty Dreadlock)\\r\\r\\nI've got to reach seventh street (Natty Dreadlock)\\r\\r\\nNatty Dreadlock Bingy Bongo I (Natty Dread)\\r\\r\\nNatty dread, Natty Dread, now (Natty Dread)\\r\\r\\nRoots Natty Congo I (Natty Dread)\\r\\r\\n\\r\\r\\nOh, Natty, Natty\\r\\r\\nNatty twenty one thousand miles away from home, yeah!\\r\\r\\nOh, Natty, Natty\\r\\r\\nAnd that's a long way\\r\\r\\nFor Natty to be from home\\r\\r\\n\\r\\r\\nDon't care what the world seh (Natty Dread)\\r\\r\\nI'n'I couldn't never go astray (Natty Dread)\\r\\r\\nJust like a bright and sunny day (Natty Dread)\\r\\r\\nOh, we're gonna have things our way (Natty Dread)\\r\\r\\nNatty Dread, Natty Dreadlock (Natty Dreadlock)\\r\\r\\nDreadlock Congo Bongo I (Natty Dreadlock)\\r\\r\\nDon't care what the world seh (Natty Dreadlock)\\r\\r\\nI'n'I gonna have things our way (Natty Dreadlock)\\r\\r\\nIf a egg Natty in a the red  (Natty Dreadlock)\\r\\r\\nIf a egg Natty in a the red (Natty Dreadlock)\\r\\r\\nNatty Dread, Natty Dreadlock\",\n",
       " \"No sun will shine in my day today; (no sun will shine)\\r\\r\\nThe high yellow moon won't come out to play:\\r\\r\\n(that high yellow moon won't come out to play)\\r\\r\\nI said (darkness) darkness has covered my light,\\r\\r\\n\\r\\r\\n(And the stage) and the stage my day into night, yeah.\\r\\r\\nWhere is the love to be found? (oo-ooh-ooh)\\r\\r\\nWon't someone tell me?\\r\\r\\n'Cause my (sweet life) life must be somewhere to be found -\\r\\r\\n\\r\\r\\n(Must be somewhere for me)\\r\\r\\nInstead of concrete jungle (la la-la!),\\r\\r\\nWhere the living is harder (la-la!).\\r\\r\\n\\r\\r\\nConcrete jungle (la la-la!):\\r\\r\\nMan you got to do your (la la-la!) best. wo-ooh, yeah.\\r\\r\\nNo chains around my feet,\\r\\r\\nBut I'm not free, oh-ooh!\\r\\r\\n\\r\\r\\nI know I am bound here in captivity;\\r\\r\\nG'yeah, now - (never, never) I've never known happiness;\\r\\r\\n(Never, never) I've never known what sweet caress is -\\r\\r\\nStill, I'll be always laughing like a clown;\\r\\r\\n\\r\\r\\nWon't someone help me? 'cause I (sweet life) -\\r\\r\\nI've got to pick myself from off the ground\\r\\r\\n(must be somewhere for me), he-yeah! -\\r\\r\\nIn this a concrete jungle (la la-la!):\\r\\r\\nI said, what do you cry for me (la-la!) now, o-oh!\\r\\r\\nConcrete jungle (la la-la!), ah, won't you let me be (la la-la!), now.\\r\\r\\nHey! oh, now!\\r\\r\\n\\r\\r\\nI said that life (sweet life) - it must be somewhere to be found\\r\\r\\n(must be somewhere for me)\\r\\r\\nOh, instead: concrete jungle (la-la!) - collusion (la-la!) -\\r\\r\\nConfusion (confusion). eh!\\r\\r\\n\\r\\r\\nConcrete jungle (la-la!): baby, you've got it in.\\r\\r\\nConcrete jungle (la la-la!), now. eh!\\r\\r\\nConcrete jungle (la la-la!).\\r\\r\\n\\r\\r\\nWhat do you stand(?) for me (la-la!), now?\",\n",
       " \"Lively up yourself and don't be no drag\\r\\r\\nLively up yourself, 'cause this is the other bag\\r\\r\\nHey, lively up yourself and don't be no drag\\r\\r\\nYou lively up yourself, dig it, the other bag\\r\\r\\n\\r\\r\\nHey, you rock so, you rock so, like you never did before\\r\\r\\nYou dip so, you dip so, and you can dip through my door\\r\\r\\nYou come so, you come so, oh yeah, like I do adore you\\r\\r\\nYou skank so, you skank so, and-a I can assure you\\r\\r\\n\\r\\r\\nYou can lively up yourself and don't be no drag\\r\\r\\nHey, you lively up yourself, can you dig it?\\r\\r\\n\\r\\r\\nHey (you rock so, you rock so), like you never did before\\r\\r\\nYou dip so, you dip so, can you dig it?\\r\\r\\n\\r\\r\\nYou lively up yourself and don't be no drag\\r\\r\\nYou lively up yourself, 'cause this is the other bag\\r\\r\\nHey, lively up yourself\\r\\r\\n\\r\\r\\nLively up yourself, other bag\\r\\r\\nCan you dig it? Can you dig it?\",\n",
       " \"Bado, scoobado, scoobado-bado-bado. Oh, wo-yo-yo-why!\\r\\n\\r\\nWhen the whole world lets you down\\r\\nAnd there's nowhere for you to turn,\\r\\n'Cause all of your best friends have let you down, do-o-own.\\r\\nThen you try to accumulate,\\r\\nBut the whole world is full of hate,\\r\\nSo all of your best starts just drift into space.\\r\\n\\r\\nI know a place where we can carry on.\\r\\nI know a place where we can carry on.\\r\\nWe can carry on, we can carry on,\\r\\nWe can carry on, we can carry on.\\r\\n\\r\\nAnd there is people like you, people like me\\r\\nPeople need to be free.\\r\\nAnd there's a place in the sun\\r\\nWhere there is love for everyone,\\r\\nWhere we can be, yeah.\\r\\n\\r\\nI know a place where we can carry on.\\r\\nI know a place where we can carry on.\\r\\nWe can carry on, we can carry on,\\r\\nWe can carry on, we can carry on.\\r\\n\\r\\nWhe-e-e!\\r\\nWhen the whole world let you down\\r\\nAnd there's nowhere for you to turn,\\r\\n'Cause all of your best friends, a-they have let you down, down-own-own.\\r\\nThen you try to accumulate,\\r\\nBut the whole world is full of hate,\\r\\nSo all of your best starts just drift into space.\\r\\n\\r\\nI know a place where we can carry on.\\r\\nI know a place where we can carry on.\\r\\nWe can carry on, we can carry on,\\r\\nWe can carry on, we can carry on,\\r\\nWe can carry on, we can carry on,\\r\\nWe can carry on, we can carry on.\\r\\n(fadeout)\\r\\n\\r\\n\",\n",
       " \"She love to party, have a good time\\r\\r\\nShe looks so hearty, feeling fine\\r\\r\\nShe loves to smoke, sometime shiftin' coke\\r\\r\\nShe'll be laughin' when there ain't no joke\\r\\r\\n\\r\\r\\nA pimper's paradise, that's all she was now\\r\\r\\nA pimper's paradise, that's all she was\\r\\r\\nA pimper's paradise, that's all she was now\\r\\r\\nPimper's paradise, that's all she was\\r\\r\\nEvery need got an ego to feed\\r\\r\\nEvery need got an ego to feed\\r\\r\\n\\r\\r\\nShe loves to model up in the latest fashion (oo-bee doo-be doo)\\r\\r\\nShe's in the scramble and she moves with passion (oo-bee doo-be doo)\\r\\r\\nShe's getting high (ooh), trying to fly the sky (oo-bee doo-be doo)\\r\\r\\nEh, now she is bluesing when there ain't no blues\\r\\r\\n\\r\\r\\nWooh, a pimper's paradise, that's all she was now\\r\\r\\nA pimper's paradise, that's all she was, oh-ho-ho-ho-ho\\r\\r\\nA pimper's paradise, that's all she was now\\r\\r\\nA pimper's paradise, that's all she was\\r\\r\\n\\r\\r\\nEvery need got an ego to feed\\r\\r\\nEvery need got an ego to feed\\r\\r\\n\\r\\r\\nWooh, a pimper's paradise, that's all she was now, wo-oo-o-oo, wo-oh\\r\\r\\nA pimper's paradise, that's all she was, well\\r\\r\\nA pimper's paradise, I'm sorry for the victim now\\r\\r\\nOh, now soon their (pimper's paradise) soon their heads, soon their \\r\\r\\nSoon their very heads will bow\\r\\r\\n(Pimper's paradise) don't lose track, don't lose track of yourself, oh no\\r\\r\\n(Pimper's paradise) don't be just a stock, a stock on the shelf \\r\\r\\nStock on the shelf, oh oh\\r\\r\\n(Pimper's paradise) that's all she was now, woo\",\n",
       " \"Chances are we're gonna leave now\\r\\r\\nSorry for the victim now\\r\\r\\nAlthough my days are filled with sorrow\\r\\r\\nI see here, a bright tomorrow\\r\\r\\nChances, chances are some might not hold out\\r\\r\\nChances are, hang on right now\\r\\r\\nDo do do do my days are filled with sorrow\\r\\r\\nIll stay here til bright tomorrow\\r\\r\\nChances, chances are some might not hold out\\r\\r\\nChances are, hang on right now\",\n",
       " \"They just keep holdin' me\\r\\r\\nWon't let go\\r\\r\\nHoldin' me\\r\\r\\nWon't let go\\r\\r\\n\\r\\r\\nI need a hammer, a hammer, a hammer, a hammer\\r\\r\\nTo hammer them down\\r\\r\\nI need a rammer, a rammer, a rammer, a rammer\\r\\r\\nTo ram them down\\r\\r\\n\\r\\r\\nThey just keep teasin' me\\r\\r\\nAnd, you know, they play like they don't know\\r\\r\\nProvokin' me\\r\\r\\nBut this is all I know\\r\\r\\n\\r\\r\\nI need a rammer, a rammer, a rammer, a rammer\\r\\r\\nTo ram them down\\r\\r\\nI need a hammer, a hammer, a hammer, a hammer\\r\\r\\nTo hammer them down\\r\\r\\n\\r\\r\\nWee, ooh, ooh, ooh, ooh, ooh\\r\\r\\nOoh, ooh, ooh, ooh, ooh, ooh\\r\\r\\n\\r\\r\\nOh, I need a rammer, a rammer, a rammer, a rammer\\r\\r\\nTo rama thema down\\r\\r\\nOh, I need a hammer, a hammer, a hammer, a hammer\\r\\r\\nTo hammer them down\\r\\r\\n\\r\\r\\nSaid, I need a rammer, a rammer, a rammer, a rammer\\r\\r\\nTo rama them down\\r\\r\\nI need a hammer, a hammer, a hammer, a hammer\\r\\r\\nTo hammer them down\\r\\r\\n\\r\\r\\nHoldin' me \\r\\r\\nWon't let go \\r\\r\\nHoldin' me \\r\\r\\nWon't let go\\r\\r\\n\\r\\r\\nI need a rammer, a rammer, a rammer, a rammer\\r\\r\\nTo rama them down\\r\\r\\nI need a hammer, a hammer, a hammer, a hammer\\r\\r\\nTo hammer them down (I need a rammer)\\r\\r\\n \\r\\r\\nI need a hammer, a hammer, a hammer, a hammer\\r\\r\\nTo hammer them down\\r\\r\\nI need a rammer, a rammer, a rammer, a rammer\\r\\r\\nTo ram them down\\r\\r\\n\\r\\r\\nI need a hammer, a hammer, a hammer, a hammer\\r\\r\\nTo hammer them down\\r\\r\\nI need a rammer, a rammer, a rammer, a rammer\\r\\r\\nTo ram them down\",\n",
       " \"They say the sun shines for all\\r\\r\\nBut-a yin some people world, it never shine at all\\r\\r\\nThey say love is a stream that will find its course\\r\\r\\nI mean, some-a people think life is a dream\\r\\r\\nSo they making matters worse\\r\\r\\n\\r\\r\\nBut no matter what the crisis is\\r\\r\\nNo matter what the crisis is\\r\\r\\nDoing it, doing it, doing your thing\\r\\r\\n(Give Jah all the thanks and praises)\\r\\r\\nGiving it, giving it, giving it, giving it\\r\\r\\n(Give Jah all the thanks and praises)\\r\\r\\n\\r\\r\\nSo, so, so much been said, and then so little (been done) little been done\\r\\r\\nThey still killing, killing the people\\r\\r\\nAnd they, and they having (havin' their fun) havin'-a, havin'-a lots of fun \\r\\r\\nKilling the people, oo-yoo, (having fun) having their fun\\r\\r\\nThey just want to be the leader\\r\\r\\nIn the house of the rising sun\\r\\r\\n\\r\\r\\nBut no matter what the crisis is\\r\\r\\nOh, no, oh, no no no what the crisis is\\r\\r\\nDo your\\r\\r\\nLive it up, live it up, live it up, live it up (give Jah all the thanks and praises!)\\r\\r\\nLive it up, live it up, live it up, live it up (give Jah all the thanks and praises)\\r\\r\\n\\r\\r\\nThey say the sun shines for all\\r\\r\\nBut-a yin some people world, it never shine at all\\r\\r\\nThey say love is a stream that will find its course\\r\\r\\nI mean, some-a people think life is a dream\\r\\r\\nSo they making matters worse\\r\\r\\n\\r\\r\\nNo matter what the crisis is\\r\\r\\nNo matter what the crisis is\\r\\r\\nDo it\\r\\r\\nLive it up, live it up, live it up, live it up (give Jah all the thanks and praises)\\r\\r\\nLive it up, live it up, live it up, live it up (give Jah all the thanks and praises)\\r\\r\\n(Give Jah all the thanks and praises)\\r\\r\\nHis mercies endureth for ever, yeah \\r\\r\\n(Give Jah all the thanks and praises)\\r\\r\\nOh, children, come on, and give Jah \\r\\r\\n(Give Jah all the thanks and praises)\\r\\r\\nChildren, come on, and give Jah \\r\\r\\n(Give Jah all the thanks and praises)\",\n",
       " 'So Jah seh\\r\\r\\n\"Not one of my seeds\\r\\r\\nShall sit in the sidewalk\\r\\r\\nAnd beg bread\"\\r\\r\\n(No, they can\\'t and you know that they won\\'t!)\\r\\r\\n\\r\\r\\nSo Jah seh\\r\\r\\n\"Not one of my seeds\\r\\r\\nShall sit in the sidewalk\\r\\r\\nAnd beg your bread\"\\r\\r\\n(No, they can\\'t and you know that they won\\'t!)\\r\\r\\n\"And verily, verily, I\\'m saying unto thee \\'I\\r\\r\\nInite oneself and love Imanity\\'\"\\r\\r\\nCause puss and dog they get together\\r\\r\\nWhat\\'s wrong with loving one another?\\r\\r\\nPuss and dog they get together\\r\\r\\nWhat\\'s wrong with you my brother?\\r\\r\\n\\r\\r\\nSo Jah seh\\r\\r\\n\"Ye are the sheep of my pasture\\r\\r\\nSo verily, thou shall be very well\"\\r\\r\\nSo Jah seh yeah! \\r\\r\\n\"Ye are the sheep of my pasture\\r\\r\\nSo verily, thou shall be very well,\" yeah!\\r\\r\\n\\r\\r\\nAnd down here in the ghetto\\r\\r\\nAnd down here we suffer\\r\\r\\nBut I\\'n\\'I a-hang on in there\\r\\r\\nAnd I\\'n\\'I, I naw leggo\\r\\r\\nI\\'n\\'I a-hang on in there\\r\\r\\nAnd I\\'n\\'I, I naw leggo\\r\\r\\n\\r\\r\\nFor so Jah seh, yeah!\\r\\r\\n\"I\\'m gone to prepare a place\\r\\r\\nThat where I am thou shall abide,\" yeah!\\r\\r\\nSo Jah seh\\r\\r\\n\"Fear not for mighty dread\\r\\r\\nCause I\\'ll be there at your side\"\\r\\r\\n\\r\\r\\nAnd, and down there down there in the ghetto\\r\\r\\nAnd down there we suffer\\r\\r\\nBut I\\'n\\'I a-hang on in there\\r\\r\\nAnd I\\'n\\'I, I naw leggo\\r\\r\\nBut I\\'n\\'I a-hang on in there\\r\\r\\nAnd I\\'n\\'I, I naw leggo\\r\\r\\nSo Jah seh',\n",
       " \"Ya running and ya running\\r\\r\\nAnd ya running away\\r\\r\\nYa running and ya running\\r\\r\\nAnd ya running away\\r\\r\\nYa running and ya running\\r\\r\\nAnd ya running away\\r\\r\\nYa running and ya running,\\r\\r\\nBut ya can't run away from yourself\\r\\r\\nCan't run away from yourself \\r\\r\\nCan't run away from yourself \\r\\r\\nCan't run away from yourself \\r\\r\\nCan't run away from yourself \\r\\r\\nCan't run away from yourself\\r\\r\\n\\r\\r\\nYa must have done (must have done),\\r\\r\\nSomet'in' wrong (something wrong)\\r\\r\\nSaid ya must have done (must have done),\\r\\r\\nWo! Somet'in' wrong (something wrong)\\r\\r\\nWhy you can't find the\\r\\r\\nPlace where you belong?\\r\\r\\nDo-do-do-do-do-do-do-do-do (running away)\\r\\r\\nDo-do-do-do-do-do-do-do-do (running away)\\r\\r\\nDo-do-do-do-do-do-do-do-do (running away)\\r\\r\\nDo-do-do-do-do-do-do-do-do (running away)\\r\\r\\nDo-do-do-do-do-do-do-do-do (running away)\\r\\r\\n\\r\\r\\nEvery man thinketh his\\r\\r\\nBurden is the heaviest (heaviest)\\r\\r\\nEvery man thinketh his\\r\\r\\nBurden is the heaviest (heaviest)\\r\\r\\nYa still mean it: Who feels it knows it, Lord\\r\\r\\nWho feels it knows it, Lord\\r\\r\\nWho feels it knows it, Lord\\r\\r\\nWho feels it knows it, Lord\\r\\r\\n\\r\\r\\nYa running and ya running\\r\\r\\nAnd ya running away\\r\\r\\nYa running and ya running\\r\\r\\nAnd ya running away\\r\\r\\nYa running and ya running\\r\\r\\nAnd ya running away\\r\\r\\nYa running and ya running\\r\\r\\nBut ya can't run away from yourself\\r\\r\\nCould ya run away from yourself?\\r\\r\\nCan you run away from yourself?\\r\\r\\nCan't run away from yourself\\r\\r\\nCan't run away from yourself\\r\\r\\nYeah-eah-eah-eah from yourself\\r\\r\\n\\r\\r\\nYou must have done somet'in' \\r\\r\\nSomet'in' somet'in' somet'in' \\r\\r\\nSomet'in' ya don't want nobody to know about\\r\\r\\nYa must have, Lord somet'in' wrong\\r\\r\\nWhat ya must have done ya must have done somet'in' wrong\\r\\r\\nWhy you can't find where you belong?\\r\\r\\n\\r\\r\\nWell, well, well, well, ya running away, heh, no \\r\\r\\nYa running away, ooh, no, no, no\\r\\r\\nI'm not (running away) no, don't say that don't say that,\\r\\r\\n'Cause (running away) I'm not running away, oh! (running away)\\r\\r\\nI've got to protect my life, (running away)\\r\\r\\nAnd I don't want to live with no strife (running away)\\r\\r\\nIt is better to live on the housetop (running away)\\r\\r\\nThan to live in a house full of confusion (running away)\\r\\r\\nSo, I made my decision and I left ya (running away)\\r\\r\\nNow you comin' to tell me (running away)\\r\\r\\nThat I'm runnin' away (running away)\\r\\r\\nBut it's not true, (running away)\\r\\r\\nI am not runnin' away (running away)\",\n",
       " \"Dready got a job to do\\r\\r\\nAnd he's got to fulfill that mission\\r\\r\\nTo see his hurt is their greatest ambition, yeah!\\r\\r\\nBut we will survive in this world of competition\\r\\r\\n'Cause no matter what they do\\r\\r\\nNatty keep on comin' through\\r\\r\\nAnd no matter what they say\\r\\r\\nNatty do them every day, yeah!\\r\\r\\nNatty dread rides again\\r\\r\\nThrough the mystics of tomorrow\\r\\r\\nNatty dread rides again\\r\\r\\nHave no fear, have no sorrow, yeah!\\r\\r\\n\\r\\r\\nAll and all you see a-gwan\\r\\r\\nIs to fight against Rastaman\\r\\r\\nSo they build their world in great confusion\\r\\r\\nTo force on us the devil's illusion\\r\\r\\nBut the stone that the builder refuse\\r\\r\\nShall be the head cornerstone\\r\\r\\nAnd no matter what game they play\\r\\r\\nWe got something they could never take away\\r\\r\\nWe got something they could never take away\\r\\r\\n\\r\\r\\nAnd it's the fire (fire), it's the fire (fire)\\r\\r\\nThat's burning down everything\\r\\r\\nFeel that fire (fire), the fire (fire)\\r\\r\\nOnly the birds have their wings, yeah!\\r\\r\\nNo time to be deceived\\r\\r\\nOh, brothers, you should know and not believe\\r\\r\\nJah say this judgement, it could never be with water\\r\\r\\nNo water could put out this fire (fire)\\r\\r\\nThis fire (fire), this fire (fire)\\r\\r\\nThis fire (fire), a yaga y'all! ride, natty, ride!\\r\\r\\nGo there, dready, go there,\\r\\r\\n'Cause now the fire is out of control\\r\\r\\nPanic in the city, wicked weeping for their gold!\\r\\r\\nEverywhere this fire is burning,\\r\\r\\nDestroying and melting their gold,\\r\\r\\nDestroying and wasting their souls\\r\\r\\n\\r\\r\\nGo ride, natty, ride!\\r\\r\\nGo there, dready, go there!\\r\\r\\n\\r\\r\\nTell you what now the people gather on the beach\\r\\r\\nAnd the leader try to make a speech\\r\\r\\nBut the dreadies understandin' that it's too late\\r\\r\\nFire is burning\\r\\r\\nMan, pull your own weight!\\r\\r\\nFire is burning\\r\\r\\nMan, pull your own weight!\\r\\r\\nNatty dread rides again (natty dread rides again)\\r\\r\\nAnd me say, go there, dready! Go there! (go there, go there)\\r\\r\\nOh ride, natty, ride! (dread rides again)\\r\\r\\nAnd go there, dready! (go there, go there)\\r\\r\\nRidin' through the storm,\\r\\r\\nRiding through the calm (go there, go there)\\r\\r\\nOh ride, natty, ride!\\r\\r\\nGo there, dready, go there!\\r\\r\\nRide, natty, ride!\\r\\r\\nGo there, dready, do there!\",\n",
       " \"My woman is gone (woman is gone)\\r\\r\\nMy woman is gone (woman is gone)\\r\\r\\n\\r\\r\\nShe had left me a note hanging on my door\\r\\r\\nShe say she couldn't take it, she couldn't take any more\\r\\r\\nThe pressure around me just couldn't see\\r\\r\\nShe felt like a prisoner who needs to be free\\r\\r\\nFools have tried, yeah wisemen have failed\\r\\r\\nOh, listen to me, honey, life could never be another jail\\r\\r\\nStill we know now we'll never see smoke without fire \\r\\r\\nAnd everyone you see has a heart desire\\r\\r\\n\\r\\r\\nShe's gone (she's gone), she's gone (she's gone)\\r\\r\\nShe's gone (she's gone), she's gone, yeah\\r\\r\\nOh, mocking bird, have you ever heard\\r\\r\\nWords that I never heard? \\r\\r\\nOh, mocking bird, have you ever heard\\r\\r\\nWords that I never heard? \\r\\r\\n\\r\\r\\nShe made it through the exit (she just couldn't take it)\\r\\r\\nShe made it through the exit (she just couldn't make it)\\r\\r\\nAnd, oh, my children, if you see me cryin'\\r\\r\\nMy woman is gone\\r\\r\\nIf you see me, if you see me, if you see me \\r\\r\\nIf you see me cryin' \\r\\r\\nIf you see me, if you see me, if you see me \\r\\r\\nIf you see me cryin'\\r\\r\\n\\r\\r\\nShe's gone (she's gone), she's gone (she's gone), she's gone, yeah\\r\\r\\nOh, mocking bird, have you ever heard\\r\\r\\nWords that I never heard? \\r\\r\\nOh, mocking bird, have you ever heard\\r\\r\\nWords that I never heard? \\r\\r\\nShe's gone (she's gone), she's gone (she's gone), she's gone\",\n",
       " \"If I had the wings of a dove\\r\\r\\nIf I had the wings of a dove\\r\\r\\nWell, I would fly, fly away, fly away\\r\\r\\nAnd be at rest\\r\\r\\n\\r\\r\\nIf I had the wings of a dove\\r\\r\\nIf I had the wings of a dove\\r\\r\\nWell, I would fly, fly away, fly away\\r\\r\\nAnd be at rest\\r\\r\\n\\r\\r\\nOh, since I have no wings, since \\r\\r\\nI have no wings, since I have no wings\\r\\r\\nI'm gonna sing, sing, sing,\\r\\r\\nSince I have no wings, since \\r\\r\\nI have no wings, since I have no wings\\r\\r\\nI'm gonna sing, sing, sing,\\r\\r\\n\\r\\r\\nIf I had the wings of a dove\\r\\r\\nIf I had the wings of a dove\\r\\r\\nI would fly, fly away, fly away\\r\\r\\nAnd be at rest\\r\\r\\n\\r\\r\\nSince I have no wings, since \\r\\r\\nI have no wings, since I have no wings\\r\\r\\nI'm gonna sing, sing, sing\\r\\r\\nSince I have no wings, since \\r\\r\\nI have no wings, since I have no wings\\r\\r\\nI'm gonna sing, sing, sing, sing\\r\\r\\n\\r\\r\\nIf I had the wings of a dove, imagine me\\r\\r\\nIf I had the wings of a dove\\r\\r\\nWell, I would fly, fly away, fly away\\r\\r\\nAnd I would be at rest\",\n",
       " 'Hear the words of the Rastaman say\\r\\r\\n\"Babylon, you throne gone down, gone down\\r\\r\\nBabylon, you throne gone down\"\\r\\r\\n\\r\\r\\nSaid I hear the words of the Iyaman say\\r\\r\\n\"Babylon, you throne gone down, gone down\\r\\r\\nBabylon, you throne gone down\"\\r\\r\\n\\r\\r\\nAnd I hear the angel with the seven seals say\\r\\r\\n\"Babylon throne gone down, gone down\\r\\r\\nBabylon throne gone down\"\\r\\r\\n\\r\\r\\nI say fly away home to Zion (fly away home)\\r\\r\\nI say fly away home to Zion (fly away home)\\r\\r\\nOne bright morning when my work is over\\r\\r\\nMan will fly away home\\r\\r\\n\\r\\r\\nOne bright morning when my work is over\\r\\r\\nMan will fly away home\\r\\r\\nOne bright morning when my work is over\\r\\r\\nMan will fly away home\\r\\r\\nSay one bright morning when my work is over\\r\\r\\nMan will fly away home',\n",
       " \"Who colt the game\\r\\r\\nWho colt the game\\r\\r\\nIt's not natty dready\\r\\r\\nIt must be bald heady\\r\\r\\nSomebody play the wrong domino\\r\\r\\nAnd want the world to follow\\r\\r\\nSomeone is fillin' their sack\\r\\r\\nIn a completry? Black\\r\\r\\nWho colt the game\\r\\r\\nA you colt the game\\r\\r\\nWhy you play the bad card\\r\\r\\nNow we catch you off guard\\r\\r\\nNatty dread want to shuffle\\r\\r\\nNot lookin' for nothin' to scuffle now\\r\\r\\n\\r\\r\\nNatty dread want to shuffle\\r\\r\\nNot lookin' for nothin' to scuffle now\\r\\r\\nWho colt the game\\r\\r\\nWho colt the game\\r\\r\\nOne way in, one way out\\r\\r\\nSome a holler some a shout\\r\\r\\nNatty dread want to shuffle\\r\\r\\nNot lookin' for nothin' to scuffle now\\r\\r\\nNatty dread want to shuffle\\r\\r\\nNot lookin' for no one to hassle now\\r\\r\\nYou colt the game divided in\\r\\r\\nWhy you play the bad card\\r\\r\\nNow we catch you off guard\\r\\r\\n\\r\\r\\nSomebody play the wrong domino\\r\\r\\nAnd cause the rest to follow\\r\\r\\nSomeone is fillin' ya sack\\r\\r\\nWell it's a completry? Black\\r\\r\\nWho colt the game\\r\\r\\nWho colt the game\\r\\r\\nNow 'bout to fill your sack\\r\\r\\nIt's a completry black\\r\\r\\nNatty dread want to shuffle\\r\\r\\nNatty dread want to shout\\r\\r\\nColt and colt\\r\\r\\nColt and colt\\r\\r\\nSpeak the truth and do it ever\\r\\r\\nWho colt the game\\r\\r\\n'Cause once you did it you'll do it again\\r\\r\\nWho colt the game\",\n",
       " \"Soon come\\r\\r\\nEverytime I call\\r\\r\\nThey tell me that you're soon come, soon come\\r\\r\\nI call you at your home\\r\\r\\nThey tell me that you're soon come, soon come\\r\\r\\nI don't like hanging around\\r\\r\\nOr to be pushed around\\r\\r\\nI've got feelings for you now\\r\\r\\nI don't like the soon come\\r\\r\\n\\r\\r\\nI call you on the phone\\r\\r\\nThey tell me that you're soon come, soon come\\r\\r\\nI even call you at your home\\r\\r\\nThey tell me that you're soon come, soon come\\r\\r\\nI don't like hanging around\\r\\r\\nOr to be pushed around\\r\\r\\nI've got feelings for you now\\r\\r\\nI don't like the soon come\\r\\r\\n\\r\\r\\nI call you on the phone\\r\\r\\nThey tell me that you're soon come, soon come\\r\\r\\nI even call you at your home\\r\\r\\nThey tell me that you're soon come, soon come\\r\\r\\nBut I don't like hanging around\\r\\r\\nOr to be pushed around\\r\\r\\nI've got feelings for you now\\r\\r\\nI don't like soon come\\r\\r\\n\\r\\r\\nStop your coming, soon come\",\n",
       " \"We, Jah people, can make it work\\r\\r\\nCome together and make it work, yeah\\r\\r\\nWe can make it work\\r\\r\\nWe can make it work\\r\\r\\n\\r\\r\\nFive days to go, working for the next day\\r\\r\\nFour days to go, working for the next day\\r\\r\\nSay we got, three days to go now, working for the next day\\r\\r\\nTwo days to go (ooh), working for the next day, yeah\\r\\r\\nSay we got, one day to go, working for the\\r\\r\\nEvery day is \\r\\r\\nWork\\r\\r\\nWork\\r\\r\\nWork\\r\\r\\nWork\\r\\r\\n\\r\\r\\nWe can make it work\\r\\r\\nWe can make it work\\r\\r\\n\\r\\r\\nWe, Jah people, can make it work\\r\\r\\nCome together and make it work\\r\\r\\nWe can make it work\\r\\r\\nWe can make it work\\r\\r\\n\\r\\r\\nWe got, five days to go work, oh, working for the next day, eh\\r\\r\\nFour days to go, working for the\\r\\r\\nThree days to go now, working for the next day, yeah\\r\\r\\nTwo days to go, working for the next day\\r\\r\\nSay we got, one day to go now, working for\\r\\r\\nEvery day is work, wotcha-wa\\r\\r\\n(Work) I work in the mid-day sun\\r\\r\\n(Work) I work 'til the evening come\\r\\r\\n(Work) if ya ain't got nothing to do\\r\\r\\n(Work) ooh-ooh-ooh-ooh\\r\\r\\n(Work)\",\n",
       " \"The sun shall not smite I by day\\r\\r\\nNor the moon by night, no\\r\\r\\nAnd everything that I do\\r\\r\\nShall be up full and right\\r\\r\\nAnd if it's all night\\r\\r\\nIt got to be all right!\\r\\r\\nIf it's all night\\r\\r\\nGot to be all right\\r\\r\\n\\r\\r\\nYour mamma won't lose this one\\r\\r\\nYou're the lucky one under the sun\\r\\r\\nIf you make me move\\r\\r\\nThen you know you got the groove\\r\\r\\nAll night\\r\\r\\nIt's all right!\\r\\r\\nAll night, yeah! \\r\\r\\nIt's all right!\\r\\r\\n\\r\\r\\nWorking on a forklift\\r\\r\\nIn the night shift\\r\\r\\nWorking on a night shift\\r\\r\\nWith the forklift\\r\\r\\nFrom A.M. (Did you say that? Why did you say that?)\\r\\r\\nTo P.M. (Working all night!)\\r\\r\\nWorking on a night shift, yeah! (Did you say that? Why did you say that? \\r\\r\\n(Upfull and right!) Well, if it's (all night!) \\r\\r\\nIf it's (all night!)\\r\\r\\nIf it's (all night!)\\r\\r\\nAll night \\r\\r\\n\\r\\r\\nWarehouse (all right!)\\r\\r\\nYou're empty, yeah!\\r\\r\\nGo around the corner\\r\\r\\nBring your goods!\\r\\r\\nGo around the other corner\\r\\r\\nBring your suitcases (All night!)\\r\\r\\nBy the sweat of my brow, (All right!)\\r\\r\\nEat your bread! (All night!)\\r\\r\\nBy the sweat of my brow (All right!)\\r\\r\\nEat your bread!\\r\\r\\n\\r\\r\\nAll night (all night)\\r\\r\\nAll right (all right)\\r\\r\\nAll night (all night)\\r\\r\\nAll right (all right)\\r\\r\\nOh, yeah! (Moon by night)\\r\\r\\nWhy did you say that? \\r\\r\\nOh, yeah! (Up full and right!)\\r\\r\\nWorking on a night shift\\r\\r\\nWith the forklift (Moon by night!)\\r\\r\\nWorking on the night shift yeah\\r\\r\\nForklift (Upfull and right!)\",\n",
       " \"Jah would never give the power to a bald head\\r\\r\\nRun come crucify the Dread\\r\\r\\n\\r\\r\\n[Chorus:]\\r\\r\\nTime alone, oh, time will tell\\r\\r\\nThink you're in heaven, but ya living in hell\\r\\r\\nThink you're in heaven, but ya living in hell\\r\\r\\nThink you're in heaven, but ya living in hell\\r\\r\\nTime alone, oh, time will tell\\r\\r\\nYa think you're in heaven, but ya living in hell\\r\\r\\n\\r\\r\\nBack them up; oh, not the brothers,\\r\\r\\nBut the ones who sets 'em up\\r\\r\\n\\r\\r\\n[Chorus]\\r\\r\\n\\r\\r\\nOh, ma, \\r\\r\\nOh, ma, \\r\\r\\nOh, ma children are cryin'\\r\\r\\nOh, children, weep no more!\\r\\r\\nOh, ma sycamore tree, saw the freedom tree\\r\\r\\nAll you, have spoke\\r\\r\\nOh, children, weep no more\\r\\r\\nWeep no more, children, weep no more!\\r\\r\\n\\r\\r\\nJah would never give the power to a bald head\\r\\r\\nRun come crucify the Dread\\r\\r\\n\\r\\r\\n[Chorus]\",\n",
       " \"I'll play your favorite song, darlin'\\r\\r\\nWe can rock it all night long, darlin'\\r\\r\\n'Cause I've got love, darlin'\\r\\r\\nLove, sweet love, darlin'\\r\\r\\nMellow mood has got me\\r\\r\\nSo let the music rock me\\r\\r\\n\\r\\r\\n'Cause I've got love, darlin'\\r\\r\\nLove, sweet love, darlin'\\r\\r\\nQuiet as the night\\r\\r\\nPlease turn off your light\\r\\r\\n\\r\\r\\nI'll play your favorite song, darlin'\\r\\r\\nWe can rock it all night long, darlin'\\r\\r\\n\\r\\r\\nStrike the hammer while iron is hot\\r\\r\\nStrike the hammer while iron is hot\\r\\r\\nStrike the hammer while iron is hot\\r\\r\\nOpen up your heart\\r\\r\\nOpen up your heart\\r\\r\\nLet love come running in, darlin'\\r\\r\\nLove, sweet love, darlin'\\r\\r\\nLove, sweet love, darlin'\\r\\r\\n\\r\\r\\nMellow mood has got me, darlin'\\r\\r\\nLet the music rock me, darlin'\\r\\r\\n'Cause I've got your love (darlin')\\r\\r\\nLove, sweet love, darlin'\\r\\r\\n\\r\\r\\n(Darlin')\",\n",
       " \"Bend down low\\r\\r\\nLet me tell you what I know now\\r\\r\\nBend down low\\r\\r\\nLet me tell you what I know, what I know, what I know\\r\\r\\n\\r\\r\\nLong time, we no have no nice time\\r\\r\\nDoo-yoo-doo-dun-doo, yeah, think about that\\r\\r\\nLong, long, long, long time, we no have no nice time\\r\\r\\nDoo-yoo-doo-dun-doo, yeah, think about that, mm\\r\\r\\n\\r\\r\\nOne love, one heart\\r\\r\\nLet's get together and feel alright\\r\\r\\nOne love, hear my plea, one heart\\r\\r\\nGive thanks and praise to the Lord, and I will feel alright\\r\\r\\n\\r\\r\\nSimmer down, you lickin' too hot, so\\r\\r\\nSimmer down, soon you'll get dropped, so\\r\\r\\nSimmer down, man, you hear what I say?\\r\\r\\n\\r\\r\\nAfter he\\r\\r\\nBreaks your heart\\r\\r\\nThen you'll be sad, so sad\\r\\r\\nAnd then your teardrops start\\r\\r\\nI tell you, then you'll know how\\r\\r\\nIt hurts to be alone\\r\\r\\n\\r\\r\\nOh, what a (... feeling ...), what a feeling (... be blue)\\r\\r\\nOh, what a feeling, oh, what a feeling\\r\\r\\n(Oh, what a feeling to be blue)\\r\\r\\nHave you ever had a lonesome feeling?\\r\\r\\n\\r\\r\\nThis was cause through love and affection\\r\\r\\nThis was cause through love and affection\\r\\r\\nThis was cause through love and affection\\r\\r\\n\\r\\r\\nMm, feel them spirit\\r\\r\\nI'm gonna put it on\\r\\r\\nFeel them spirit\\r\\r\\nI'm gonna put it on\\r\\r\\n\\r\\r\\nYes, my friend\\r\\r\\nWe're in the streets again\\r\\r\\nYes, my friend\\r\\r\\nDem set we free again ...\",\n",
       " \"I want to love you, and treat you right,\\r\\r\\nI want to love you, every day and every night,\\r\\r\\nWe'll be together, with a roof right over our heads,\\r\\r\\nWe'll share the shelter, of my single bed,\\r\\r\\nWe'll share the same room, yeah! For Jah provide the bread.\\r\\r\\nIs this love, is this love, is this love,\\r\\r\\nIs this love that I'm feelin'?\\r\\r\\nIs this love, is this love, is this love,\\r\\r\\nIs this love that I'm feelin'?\\r\\r\\nI want to know, want to know, want to know now!\\r\\r\\nI got to know, got to know, got to know now!\\r\\r\\n\\r\\r\\nI, I'm willing and able,\\r\\r\\nSo I throw my cards on your table!\\r\\r\\nI want to love you, I want to love and treat, love and treat you right,\\r\\r\\nI want to love you every day and every night,\\r\\r\\nWe'll be together, yeah! With a roof right over our heads,\\r\\r\\nWe'll share the shelter, yeah, oh now! of my single bed,\\r\\r\\nWe'll share the same room, yeah! For Jah provide the bread.\\r\\r\\n\\r\\r\\nIs this love, is this love, is this love,\\r\\r\\nIs this love that I'm feelin'\\r\\r\\nIs this love, is this love, is this love,\\r\\r\\nIs this love that I'm feelin'?\\r\\r\\nWhoa! Oh yes I know, yes I know, yes I know now!\\r\\r\\nOh yes I know, yes I know, yes I know now!\\r\\r\\n\\r\\r\\nI, I'm willing and able,\\r\\r\\nSo I throw my cards on your table!\\r\\r\\nSee: I want to love ya, I want to love and treat ya,\\r\\r\\nlove and treat ya right.\\r\\r\\n\\r\\r\\nI want to love you every day and every night,\\r\\r\\nWe'll be together, with a roof right over our heads!\\r\\r\\nWe'll share the shelter, of my single bed,\\r\\r\\nWe'll share the same room, yeah! Jah provide the bread.\\r\\r\\nWe'll share the shelter, of my single bed\",\n",
       " \"Play I some music, (dis a) reggae music\\r\\r\\nPlay I some music, (dis a) reggae music\\r\\r\\nRoots, rock, reggae, dis a reggae music\\r\\r\\nRoots, rock, reggae, dis a reggae music\\r\\r\\n\\r\\r\\nHey, mister music, you sure sounds good to me\\r\\r\\nI can't refuse it, what to be got to be\\r\\r\\nFeel like dancing, dance 'cause we are free\\r\\r\\nFeel like dancing, come dance with me\\r\\r\\n\\r\\r\\nRoots, rock, reggae, dis a reggae music\\r\\r\\nRoots, rock, reggae, yeah, dis a reggae music\\r\\r\\nPlay I some music, dis a reggae music\\r\\r\\nPlay I some music, dis a reggae music\\r\\r\\n\\r\\r\\nPlay I on the R and B, wo-oh, want all my people to see\\r\\r\\nWe're bubblin' on the top one hundred, just like a mighty dread\\r\\r\\nPlay I on the R and B, want all my people to see\\r\\r\\nWe bubblin' on the top one hundred, just like a mighty dread\\r\\r\\n\\r\\r\\nRoots, rock, reggae, dis a reggae music, uh-uh\\r\\r\\nRoots, rock, reggae, ee-mi duba, dis a reggae music\\r\\r\\nPlay I some music (dis a reggae music)\\r\\r\\nPlay I some music (dis a reggae music)\\r\\r\\n\\r\\r\\n(Dis a reggae music)\\r\\r\\n(Dis a reggae music)\\r\\r\\n\\r\\r\\nPlay I on the R and B\\r\\r\\nI want all my people to see \\r\\r\\nWe bubblin' on top one hundred just like a mighty dread\\r\\r\\nPlay I some music (dis a) reggae music\\r\\r\\nPlay I some music (dis a) reggae music\\r\\r\\n(Dis a reggae music)\\r\\r\\n(Dis a reggae music)\",\n",
       " \"There's a natural mystic\\r\\r\\nBlowing through the air\\r\\r\\nIf you listen carefully now you will hear\\r\\r\\nThis could be the first trumpet\\r\\r\\nMight as well be the last\\r\\r\\nMany more will have to suffer\\r\\r\\nMany more will have to die\\r\\r\\nDon't ask me why\\r\\r\\nThings are not the way they used to be\\r\\r\\nI won't tell no lie\\r\\r\\nOne and all got to face reality now\\r\\r\\n\\r\\r\\nThough I try to find the answer\\r\\r\\nTo all the questions they ask\\r\\r\\nThough I know it's impossible\\r\\r\\nTo go living through the past\\r\\r\\nDon't tell no lie\\r\\r\\nThere's a natural mystic\\r\\r\\nBlowing through the air\\r\\r\\nCan't keep them down\\r\\r\\nIf you listen carefully now you will hear\\r\\r\\nSuch a natural mystic\\r\\r\\nBlowing through the air\\r\\r\\n\\r\\r\\nThis could be the first trumpet\\r\\r\\nMight as well be the last\\r\\r\\nMany more will have to suffer\\r\\r\\nMany more will have to die\\r\\r\\nDon't ask me why\\r\\r\\nThere's a natural mystic\\r\\r\\nBlowing through the air\\r\\r\\nI won't tell no lie\\r\\r\\nIf you listen carefully now, you will hear\\r\\r\\nThere's a natural mystic\\r\\r\\nBlowing through the air\",\n",
       " \"I'll play your favorite song, darlin'\\r\\r\\nWe can rock it all night long, darlin'\\r\\r\\n'Cause I've got love, darlin'\\r\\r\\nLove, sweet love, darlin'\\r\\r\\nMellow mood has got me\\r\\r\\nSo let the music rock me\\r\\r\\n\\r\\r\\n'Cause I've got love, darlin'\\r\\r\\nLove, sweet love, darlin'\\r\\r\\nQuiet as the night\\r\\r\\nPlease turn off your light\\r\\r\\n\\r\\r\\nI'll play your favorite song, darlin'\\r\\r\\nWe can rock it all night long, darlin'\\r\\r\\n\\r\\r\\nStrike the hammer while iron is hot\\r\\r\\nStrike the hammer while iron is hot\\r\\r\\nStrike the hammer while iron is hot\\r\\r\\nOpen up your heart\\r\\r\\nOpen up your heart\\r\\r\\nLet love come running in, darlin'\\r\\r\\nLove, sweet love, darlin'\\r\\r\\nLove, sweet love, darlin'\\r\\r\\n\\r\\r\\nMellow mood has got me, darlin'\\r\\r\\nLet the music rock me, darlin'\\r\\r\\n'Cause I've got your love (darlin')\\r\\r\\nLove, sweet love, darlin'\\r\\r\\n\\r\\r\\n(Darlin')\",\n",
       " \"Talking 'bout reaction yeah yeah yeah\\r\\r\\nTalking 'bout attraction yeah yeah yea\\r\\r\\nSaid I'm gonna rock on you yeah yeah \\r\\r\\n\\r\\r\\nFrom shanti town yeah yeah yeah\\r\\r\\n\\r\\r\\nYeah yeah yeah\\r\\r\\nYeah yeah yeah\\r\\r\\nYeah yeah yeah\\r\\r\\nYeah yeah yeah\\r\\r\\nYeah yeah yeah\\r\\r\\n\\r\\r\\nTo have a little action yeah yeah yeah\\r\\r\\nThere's a reaction yeah yeah yeah\\r\\r\\nYou don't don't don't get that soul no no no\\r\\r\\nYou don't get that soul no no no\\r\\r\\n\\r\\r\\nTo every little action yeah yeah yeah\\r\\r\\nThere's a reaction yeah yeah yeah\",\n",
       " \"You know that I love you\\r\\r\\nBaby, but you just won't let me\\r\\r\\nYou know that I love you u uu uuu\\r\\r\\nBaby, but you just won't let me\\r\\r\\nEvery morning I get up, I sip my cup;\\r\\r\\nMy eyes get red, no-one to hear me\\r\\r\\nOne more thing I'd like to say right here\\r\\r\\nBaby, but you just won't let me\\r\\r\\nOne more thing I'd like to say right here\\r\\r\\nBaby, but you just won't let me\\r\\r\\nI'd like to say:baby, you so nice:\\r\\r\\nI'd like to do the same thing twice, yeah!\\r\\r\\nBaby, you so nice\\r\\r\\nI'd like to do the same thing twice\\r\\r\\nI love you so much, so-o-o-\\r\\r\\nLove you - love you, baby, so much\\r\\r\\nYeah, yeah, yeah, yeah, yeah, yeah\\r\\r\\nI live in the woods alone;\\r\\r\\nI need your (company) company\\r\\r\\nBaby! Woods alone!\\r\\r\\nI need your company, yeah!\\r\\r\\nEvery morning I get up, I sip my cup;\\r\\r\\nMy eyes get red, no-one to hear me\\r\\r\\nOne more thing I'd like to say right here\\r\\r\\nBaby, but you just won't let me, yeah!\\r\\r\\nOne more thing I'd like to say right here\\r\\r\\nBaby, but you just won't let me\\r\\r\\nI'd like to say: baby, you so nice:\\r\\r\\nDo the same thing twice, yeah!\\r\\r\\nBaby, you so nice;\\r\\r\\nI'd like to do the same thing twice;\\r\\r\\nI love you, baby, so much\",\n",
       " \"Old pirates, yes, they rob I,\\r\\r\\nSold I to the merchant ships,\\r\\r\\nMinutes after they took I\\r\\r\\nFrom the bottomless pit.\\r\\r\\nBut my hand was made strong\\r\\r\\nBy the hand of the Almighty.\\r\\r\\nWe forward in this generation\\r\\r\\nTriumphantly.\\r\\r\\nWon't you help to sing\\r\\r\\nThese songs of freedom?\\r\\r\\n'Cause all I ever have:\\r\\r\\nRedemption songs,\\r\\r\\nRedemption songs.\\r\\r\\n\\r\\r\\nEmancipate yourselves from mental slavery,\\r\\r\\nNone but ourselves can free our minds.\\r\\r\\nHave no fear for atomic energy,\\r\\r\\n'Cause none of them can stop the time.\\r\\r\\nHow long shall they kill our prophets,\\r\\r\\nWhile we stand aside and look? Ooh!\\r\\r\\nSome say it's just a part of it,\\r\\r\\nWe've got to fulfill the Book.\\r\\r\\n\\r\\r\\nWon't you help to sing\\r\\r\\nThese songs of freedom?\\r\\r\\n'Cause all I ever have:\\r\\r\\nRedemption songs,\\r\\r\\nRedemption songs,\\r\\r\\nRedemption songs.\\r\\r\\n\\r\\r\\nEmancipate yourselves from mental slavery,\\r\\r\\nNone but ourselves can free our minds.\\r\\r\\nWo! Have no fear for atomic energy,\\r\\r\\n'Cause none of them-a can-a stop-a the time.\\r\\r\\nHow long shall they kill our prophets,\\r\\r\\nWhile we stand aside and look?\\r\\r\\nYes, some say it's just a part of it,\\r\\r\\nWe've got to fulfill the book.\\r\\r\\nWon't you have to sing\\r\\r\\nThese songs of freedom?\\r\\r\\n'Cause all I ever had,\\r\\r\\nRedemption songs,\\r\\r\\nAll I ever had,\\r\\r\\nRedemption songs,\\r\\r\\nThese songs of freedom,\\r\\r\\nSongs of freedom.\",\n",
       " \"Stir it up, little darlin', stir it up. Come on, baby\\r\\r\\nCome on and stir it up, little darlin', stir it up. O-oh!\\r\\r\\n\\r\\r\\nIt's been a long, long time, yeah! (Stir it, stir it, stir it together)\\r\\r\\nSince I've got you on my mind (oh-oh-oh-oh) Oh-oh!\\r\\r\\nNow you are here (stir it, stir it, stir it together), I said\\r\\r\\nIt's so clear\\r\\r\\nTo see what we could do, baby, (oh-oh-oh-oh)\\r\\r\\nJust me and you\\r\\r\\n\\r\\r\\nCome on and stir it up, little darlin'!\\r\\r\\nStir it up, come on, baby!\\r\\r\\nCome on and stir it up, yeah!\\r\\r\\nLittle darlin', stir it up! O-oh!\\r\\r\\n\\r\\r\\nI'll push the wood (stir it, stir it, stir it together)\\r\\r\\nThen I blaze ya fire\\r\\r\\nThen I'll satisfy your heart's desire. (Oh-oh-oh-oh)\\r\\r\\nSaid, I stir it together (stir it, stir it, stir it together)\\r\\r\\nEvery minute\\r\\r\\nAll you got to do, baby, (oh-oh-oh-oh)\\r\\r\\nIs keep it in, and\\r\\r\\n\\r\\r\\n(Stir it up) oh, little darlin'\\r\\r\\nStir it up, baby!\\r\\r\\nCome on and stir it up, oh-oh-oh!\\r\\r\\nLittle darlin', stir it up! Wo-oh! Mm, now, now\\r\\r\\n\\r\\r\\nQuench me when I'm thirsty\\r\\r\\nCome on and cool me down, baby, when I'm hot (oh-oh-oh-oh)\\r\\r\\nYour recipe is, darlin' is so tasty\\r\\r\\nWhen you show and stir your pot\\r\\r\\n\\r\\r\\nSo, stir it up, oh!\\r\\r\\nLittle darlin', stir it up, wo, now!\\r\\r\\nCome on and stir it up, oh-ah!\\r\\r\\nLittle darlin', stir it up!\\r\\r\\n\\r\\r\\nOh, little darlin', stir it up. Come on, babe!\\r\\r\\nCome on and stir it up, wo-o-a!\\r\\r\\nLittle darlin', stir it up! Stick with me, baby!\\r\\r\\nCome on, come on and stir it up, oh-oh!\\r\\r\\nLittle darlin', stir it up, stir it, stir it, stir it, stir it,stir it\",\n",
       " \"One love, one heart\\r\\r\\nLet's get together and feel all right\\r\\r\\nHear the children cryin' (one love)\\r\\r\\nHear the children cryin' (one heart)\\r\\r\\nSayin' give thanks and praise to the Lord and I will feel all right\\r\\r\\nSayin' let's get together and feel all right\\r\\r\\n\\r\\r\\nLet them all pass all their dirty remarks (one love)\\r\\r\\nThere is one question I'd really love to ask (one heart)\\r\\r\\nIs there a place for the hopeless sinners\\r\\r\\nWho has hurt all mankind just to save his own beliefs?\\r\\r\\n\\r\\r\\nOne love, what about the one heart, one heart\\r\\r\\nWhat about, people, let's get together and feel all right\\r\\r\\nAs it was in the beginning (one love)\\r\\r\\nSo shall it be in the end (one heart)\\r\\r\\nAll right! Give thanks and praise to the Lord and I will feel all right\\r\\r\\nLet's get together and feel all right, one more thing\\r\\r\\n\\r\\r\\nLet's get together to fight this Holy Armagiddyon (one love)\\r\\r\\nSo when the Man comes there will be no, no doom (one song)\\r\\r\\nHave pity on those whose chances grows t'inner\\r\\r\\nThere ain't no hiding place from the Father of Creation\\r\\r\\n\\r\\r\\nSayin', one love, what about the one heart? (one heart)\\r\\r\\nWhat about the, let's get together and feel all right\\r\\r\\nI'm pleadin' to mankind (one love)\\r\\r\\nOh, Lord (one heart) whoa\\r\\r\\n\\r\\r\\nGive thanks and praise to the Lord and I will feel all right\\r\\r\\nLet's get together and feel all right\\r\\r\\nGive thanks and praise to the Lord and I will feel all right\\r\\r\\nLet's get together and feel all right\",\n",
       " \"Yes, me friend, me friend\\r\\r\\nDem set me free again\\r\\r\\nYes, me friend, me friend\\r\\r\\nMe deh 'pon street again \\r\\r\\n\\r\\r\\nThe bars could not hold me\\r\\r\\nForce could not control me now\\r\\r\\nThey try to keep me down\\r\\r\\nBut God put me around. Yeah! \\r\\r\\n\\r\\r\\nYes, I've been accused\\r\\r\\nWrongly abused now\\r\\r\\nBut through the powers of the Most High \\r\\r\\nThey've got to turn me loose \\r\\r\\n\\r\\r\\nDon't try to cold me up on this bridge, now\\r\\r\\nI've got to reach Mount Zion\\r\\r\\nThe highest region\\r\\r\\nIf you a bull-bucka\\r\\r\\nLet me tell you that\\r\\r\\nI'm a duppy conqueror, conqueror\\r\\r\\n\\r\\r\\nYes, me friend, me good friend\\r\\r\\nDem set me free again, mm\\r\\r\\nYes, me friend\\r\\r\\nDem turn me loose again \\r\\r\\n\\r\\r\\nDon't try to cold me up on this bridge, now\\r\\r\\nI've got to reach Mount Zion\\r\\r\\nThe highest region\\r\\r\\nIf you a bull-bucka\\r\\r\\nLet me tell you\\r\\r\\nI'm a duppy conqueror, conqueror\\r\\r\\n\\r\\r\\nYes, me friend, me friend, me friend, me friend\\r\\r\\nWe deh a street again\\r\\r\\nYes, me friend, me friend, me friend\\r\\r\\nDem set me free again\\r\\r\\n\\r\\r\\nDon't try to show off\\r\\r\\nFi make you friend dem laugh, what a la-la!\\r\\r\\nFor i will cut you off\\r\\r\\nAnd i will take the last straw\\r\\r\\n\\r\\r\\nI'm crying, yes me friend\\r\\r\\nWe deh a street again\\r\\r\\nYes me friend, me friend, me friend\\r\\r\\nDem set me free again\\r\\r\\n\\r\\r\\nThe bars could not hold me\\r\\r\\nForce could not control me now\",\n",
       " \"Please don't you rock my boat,\\r\\r\\nCause I don't want my boat to be rockin' anyhow\\r\\r\\nPlease don't you rock my boat, no!\\r\\r\\nCause I don't want my boat to be rockin'\\r\\r\\n\\r\\r\\nI'm tellin' you that, oh, oo-er!\\r\\r\\nI like it like-a this. Can you hear?\\r\\r\\nAnd you should know, ooh-oh! \\r\\r\\nWhen I like it-a like-a this\\r\\r\\nI'm-a really it, ooh-yeah!\\r\\r\\nYou satis - satis - satisfy my soul mornin' time,\\r\\r\\nEvenin', oh-oh! \\r\\r\\nFy my soul!\\r\\r\\n\\r\\r\\nYes, I been a-tellin' you,\\r\\r\\nMake me the sweetest case\\r\\r\\nHappy inside all the time\\r\\r\\nOh, can't you see what you've done for me? \\r\\r\\nYeah\\r\\r\\n\\r\\r\\nYou make me feel like, when we bend a new corner,\\r\\r\\nWe feel like sweepstake winner, yeah!\\r\\r\\nWhen we bend a new corner,\\r\\r\\nWe feel like sweepstake winner\\r\\r\\nAnd I said, oh! Ooh-oh! I like it-a like-a this\\r\\r\\nYes, I do!\\r\\r\\nAnd you should know, ooh-oh!\\r\\r\\nWhen I like it-a like-a this\\r\\r\\nI got it; just can't miss, ooh!\\r\\r\\n\\r\\r\\nSatis - satisfy my soul, darlin'\\r\\r\\nMake me love you in the mornin' time, yeah\\r\\r\\nIf ever I treated you bad, make it up to me one time\\r\\r\\nCause I'm happy inside all the time\\r\\r\\nI want you beside me, yeah! - to be mine\\r\\r\\nOne thing you got to do\\r\\r\\nIs when-a we holdin' 'ands together\\r\\r\\nYou've got to know that we love-a - love eachother, yeah!\\r\\r\\n\\r\\r\\nAnd if every time you should walk away from me now,\\r\\r\\nYou'll know I'll need your sympathy, yea-eah!\\r\\r\\nCan you see? Do you believe me?\\r\\r\\nOh, darlin', darlin', I'm callin', callin'!\\r\\r\\nSatisfy my soul - satisfy my soul!\\r\\r\\nNever, never, never give it up now\\r\\r\\nAll in the same boat \\r\\r\\nRockin on the same rock\\r\\r\\nGot to get together, lovin' eachother\\r\\r\\nAnd can't you see what I've got for you, yeah\\r\\r\\n\\r\\r\\nI'm happy - happy - happy - happy - happy\\r\\r\\nAnd not even time to be blue, yeah\\r\\r\\nCome a little closer\",\n",
       " \"Take a toke from the smoke,\\r\\r\\nNever standing by the door,\\r\\r\\nJust stretching out pan de floor,\\r\\r\\nThat way him don't fall over,\\r\\r\\nNo way him gwan fall out pan me,\\r\\r\\nThat way him won't fall over,\\r\\r\\nNo way him gwan fall out pan me.\\r\\r\\n\\r\\r\\n'Cause he's layed back, not laying back,\\r\\r\\nLayed back, not worried back,\\r\\r\\nLayed back, not thinking back,\\r\\r\\nLayed back, never holding back,\\r\\r\\nMy Jamaican guy, My Jamaican guy.\\r\\r\\n\\r\\r\\nWhen my dread start to sw..\\r\\r\\nHim no think if it hot nor cold,\\r\\r\\nWe just come in a de riva cold,\\r\\r\\nDat way him don't waste him wata,\\r\\r\\nNo way it gwan run out pan him,\\r\\r\\nDat way him don't waste him wata,\\r\\r\\nNo way it gwan run out pan him.\\r\\r\\n\\r\\r\\n'Cause he's layed back, not worried back,\\r\\r\\nLayed back, not thinking back,\\r\\r\\nLayed back, not laying back,\\r\\r\\nLayed back, never holding back,\\r\\r\\nMy Jamaican guy, My Jamaican guy.\\r\\r\\nMy J.A. guy.\\r\\r\\n\\r\\r\\nTake my life for a drive,\\r\\r\\nNever need to change his tools,\\r\\r\\nHim drive like a stubborn mule,\\r\\r\\nDat way him naw go plop plop,\\r\\r\\nNo way gas gwan bun out pan him,\\r\\r\\nDat way him naw go plop plop,\\r\\r\\nNo way gas gwan bun out pan him.\\r\\r\\n\\r\\r\\n'Cause he's layed back, not thinking back,\\r\\r\\nLayed back, not worried back,\\r\\r\\nLayed back, not laying back,\\r\\r\\nLayed back, never holding back,\\r\\r\\nMy Jamaican guy, \\r\\r\\nMy J.A. guy.\\r\\r\\n\",\n",
       " \"In high seas or in low seas\\r\\r\\nI'm gonna be your friend\\r\\r\\nI'm gonna be your friend\\r\\r\\nIn high tide or in low tide\\r\\r\\nI'll be by your side\\r\\r\\nI'll be by your side\\r\\r\\n\\r\\r\\nI heard her praying, praying, praying\\r\\r\\nI said I heard my mother\\r\\r\\nShe was praying in the night (praying, praying, praying)\\r\\r\\nAnd the words that she said (the words that she said)\\r\\r\\n\\r\\r\\nThey still-a linger in my head (lingers in my head)\\r\\r\\nShe said a child is born in this world\\r\\r\\nHe needs protection, ooh\\r\\r\\nGod, guide and protect us\\r\\r\\n\\r\\r\\nWhen we're wrong, please correct us\\r\\r\\n(when we're wrong, correct us)\\r\\r\\nAnd stand by me\\r\\r\\n\\r\\r\\nIn high seas or in low seas\\r\\r\\nI'm gonna be your friend\\r\\r\\nHe said I'm gonna be your friend\\r\\r\\nAnd, baby, in high tide or in low tide\\r\\r\\nI'll be by your side\\r\\r\\nI'll be by your side\\r\\r\\n\\r\\r\\nI said I heard my mother\\r\\r\\nShe was crying in the night (I heard her crying, crying, crying)\\r\\r\\nAnd the tears that she shed (the tears that she shed)\\r\\r\\nThey still lingers in my head (lingers in my head)\\r\\r\\n\\r\\r\\nShe said a child is born in this world\\r\\r\\nHe needs protection, ooh\\r\\r\\nGod, guide and protect us\\r\\r\\nWhen we're wrong, (when we're wrong) correct us\\r\\r\\n\\r\\r\\nAnd in high seas or in low seas\\r\\r\\nI'm gonna be your friend\\r\\r\\nI'm gonna be your friend\\r\\r\\nSaid, high tide or low tide\\r\\r\\nI'll be by your side\\r\\r\\nI'll be by your side\",\n",
       " \"Ooh-ooh\\r\\r\\nOld Mr. Joe, he build a house away\\r\\r\\nOn top of some hill\\r\\r\\nOld Mr. Joe knew he had to go, so \\r\\r\\nHe got right down and wrote bank will\\r\\r\\nHe say now, here's to mother hen\\r\\r\\nAnd her chicken, Lord have mercy now\\r\\r\\nMaster, will you take a roll in the mud\\r\\r\\nLike you know you should?\\r\\r\\n\\r\\r\\nThe old barnyard, the old barnyard\\r\\r\\nBirds and the chick, ooh-wee\\r\\r\\nWho's got to watch out for brother mongoose\\r\\r\\nWith his top hap and walking-stick?\\r\\r\\n\\r\\r\\nIt's just the poor's brain washing\\r\\r\\n(Poor's) They told me a long time ago\\r\\r\\nIt's just the poor's brain washing, ooh-wee\\r\\r\\n(Poor's brain washing) Now look at a thing like this\\r\\r\\n\\r\\r\\nCinderella and her long lost fellow\\r\\r\\nIn the midnight hour, she lost her silver slipper\\r\\r\\nHumpty Dumpty sat on a wall\\r\\r\\nWhile Jack and Jill had themselves a fall\\r\\r\\n\\r\\r\\nIt's just the poor's (brain washing)\\r\\r\\nAnd I don't need it no longer (washing)\\r\\r\\nIt's just the poor's brain washing\\r\\r\\nComing through to a poor man's child, ooh-wee, look at this\\r\\r\\n\\r\\r\\nLittle Miss Muffet she sat on a tuffet\\r\\r\\nWhile Little Red Riding Hood delivered her grandmom's food\\r\\r\\nOoh-wee ooh-wee\\r\\r\\nOoh-wee, look at one more thing like this\\r\\r\\nThe cow jumping over the moon\\r\\r\\nWhile the dish got jealous, he grabbed the handy spoon\\r\\r\\n\\r\\r\\nIt's just the poor's brain washing\\r\\r\\nAnd I don't need it no longer, I don't want it no longer\\r\\r\\nI don't need it no longer (washing)\\r\\r\\nAnd I don't care for no more brain washing (washing)\",\n",
       " \"(We don't need) no, we don't need (no more trouble) no more trouble!\\r\\r\\n(We don't need no more trouble)\\r\\r\\n\\r\\r\\nWo! Oh-oh-oh!\\r\\r\\n(We don't need) we don't need no, no more trouble!\\r\\r\\nWe don't need no trouble!\\r\\r\\n\\r\\r\\n(We don't need no more trouble)\\r\\r\\nMake love and not war! \\r\\r\\n'Cause we don't need no trouble\\r\\r\\nWhat we need is love (love)\\r\\r\\nTo guide and protect us on (on)\\r\\r\\nIf you hope good down from above (love)\\r\\r\\nHelp the weak if you are strong now (strong)\\r\\r\\n\\r\\r\\nWe don't need no trouble\\r\\r\\nWhat we need is love, oh, no!\\r\\r\\nWe don't need, we don't need, no more trouble!\\r\\r\\nLord knows, we don't need no trouble!\\r\\r\\n\\r\\r\\n(We don't need) we don't need trouble (no more trouble)\\r\\r\\nNo more trouble, no more trouble!\\r\\r\\nSpeak happiness! (Sad enough without your woes) \\r\\r\\nFortune, come on, you all and speak of love (sad enough without your woes) oh, yeah!\\r\\r\\n\\r\\r\\nWe don't need no trouble\\r\\r\\nWhat we need is love, now (what we need is love!)\\r\\r\\n(We don't need) oh, we don't need (no more trouble!)\\r\\r\\nWe don't need, no, we don't need no trouble!\\r\\r\\nWe don't (need), no, brothers and sisters (no more trouble!)\\r\\r\\n\\r\\r\\nWe don't need no trouble, we don't really need no trouble!\\r\\r\\nOh! We don't need no trouble!\\r\\r\\nWhat we need is love!\\r\\r\\n\\r\\r\\nWe don't need, we don't need no more, we don't need\\r\\r\\nNo more trouble, we don't need no more trouble!\\r\\r\\nTrouble we don't need, we don't need\\r\\r\\n(We don't need) Lord, knows\\r\\r\\nWe don't need no more war (no more trouble)\\r\\r\\nNo more trouble, we don't need no more, more trouble!\",\n",
       " \"Exodus\\r\\r\\nMovement of Jah people, oh oh oh, yeah\\r\\r\\n\\r\\r\\nMen and people will fight ya down (tell me why)\\r\\r\\nWhen ya see Jah light. (Ha-ha-ha-ha-ha-ha-ha)\\r\\r\\nLet me tell you if you're not wrong (then, why?)\\r\\r\\nEverything is all right\\r\\r\\nSo we gonna walk, all right, through de roads of creation\\r\\r\\nWe the generation (tell me why)\\r\\r\\n(Trod through great tribulation) trod through great tribulation\\r\\r\\n\\r\\r\\nExodus, all right, movement of Jah people\\r\\r\\nOh, yeah, oh, yeah, all right\\r\\r\\nExodus, movement of Jah people, oh, yeah\\r\\r\\n\\r\\r\\nYeah-yeah-yeah, well\\r\\r\\nUh, open your eyes and look within\\r\\r\\nAre you satisfied (with the life you're living) uh\\r\\r\\nWe know where we're going, uh\\r\\r\\nWe know where we're from\\r\\r\\nWe're leaving Babylon\\r\\r\\nWe're going to our Father lan\\r\\r\\n\\r\\r\\nTwo, three, four exodus, movement of Jah people, oh, yeah\\r\\r\\n(Movement of Jah people) send us another brother Moses\\r\\r\\n(Movement of Jah people) from across the Red Sea\\r\\r\\n(Movement of Jah people) send us another brother Moses\\r\\r\\n(Movement of Jah people) from across the Red Sea\\r\\r\\n(Movement of Jah people)\\r\\r\\n\\r\\r\\nExodus, all right, oh, oh, oh\\r\\r\\nMovement of Jah people, oh, yeah\\r\\r\\nExodus\\r\\r\\nExodus, all right\\r\\r\\nExodus, now, now, now, now\\r\\r\\nExodus\\r\\r\\nExodus, oh, yeah\\r\\r\\nExodus\\r\\r\\nExodus, all right\\r\\r\\nExodus\\r\\r\\n\\r\\r\\nMove, move, move, move, move, move\\r\\r\\n\\r\\r\\nOpen your eyes and look within\\r\\r\\nAre you satisfied with the life you're living?\\r\\r\\nWe know where we're going\\r\\r\\nWe know where we're from\\r\\r\\nWe're leaving Babylon, y'all\\r\\r\\nWe're going to our Father's land\\r\\r\\n\\r\\r\\nExodus, all right, movement of Jah people\\r\\r\\nExodus, movement of Jah people\\r\\r\\nMovement of Jah people\\r\\r\\nMovement of Jah people\\r\\r\\nMovement of Jah people\\r\\r\\nMovement of Jah people\\r\\r\\n\\r\\r\\nMove, move, move, move, move, move, move\\r\\r\\n\\r\\r\\nJah come to break down pression\\r\\r\\nRule equality\\r\\r\\nWipe away transgression\\r\\r\\nSet the captives free\\r\\r\\n\\r\\r\\nExodus, all right, all right\\r\\r\\nMovement of Jah people, oh, yeah\\r\\r\\nExodus, movement of Jah people, oh, now, now, now, now\\r\\r\\nMovement of Jah people\\r\\r\\nMovement of Jah people\\r\\r\\nMovement of Jah people\\r\\r\\nMovement of Jah people\\r\\r\\nMovement of Jah people\\r\\r\\nMovement of Jah people\\r\\r\\n\\r\\r\\nMove, move, move, move, move, move, uh-uh-uh-uh\\r\\r\\nMove(ment of Jah people)\\r\\r\\nMove(ment of Jah people)\\r\\r\\nMove(ment of Jah people)\\r\\r\\nMove(ment of Jah people)\\r\\r\\nMove(ment of Jah people)\\r\\r\\nMove(ment of Jah people)\\r\\r\\nMove(ment of Jah people)\\r\\r\\nMove(ment of Jah people)\\r\\r\\nMove(ment of Jah people)\\r\\r\\nMove(ment of Jah people)\",\n",
       " \"Doo, do-do-wop, choo-whop, choo-wop\\r\\r\\nDoo, do-do-wop, choo-whop, choo-wop\\r\\r\\nDoo, do-do-wop, choo-whop, choo-wop\\r\\r\\nDoo, do-do-wop, choo-whop, choo-wop\\r\\r\\n\\r\\r\\nHow many times I've told you I love you?\\r\\r\\nBut now you want to say that we are through\\r\\r\\nWhat more can I do?\\r\\r\\nWhat more can I say to you?\\r\\r\\nNow you're gone\\r\\r\\n\\r\\r\\nDo you remember that first night we met?\\r\\r\\nThat was a moment I never will forget\\r\\r\\nLove was at first sight\\r\\r\\nYou came walking through the pale,\\r\\r\\nPale moonlight\\r\\r\\nPale, pale moonlight\\r\\r\\n\\r\\r\\nDo you remember that first night we met?\\r\\r\\nThat was a moment I'll never will forget\\r\\r\\nLove was at your first sight\\r\\r\\nYou came walking through the p-p-pale, p-p-pale,\\r\\r\\nPale moonlight\\r\\r\\nPale, pale moonlight\\r\\r\\n\\r\\r\\nDoo, do-do-wop, choo-wop, choo-wop\\r\\r\\nDoo, do-do-wop, choo-wop, choo-wop\\r\\r\\nDoo, do-do-wop, choo-whop, choo-wop\\r\\r\\nDoo, do-do-wop, choo-whop, choo-wop\\r\\r\\nDoo, do-do-wop, choo-wop, choo-wop\\r\\r\\nDoo, do-do-wop, choo-wop, choo-wop\\r\\r\\nDoo, do-do-wop, choo-whop, choo-wop\\r\\r\\nDoo, do-do-wop, choo-whop, choo-wop\",\n",
       " \"In this life, in this life, in this life\\r\\r\\nIn this, oh sweet life\\r\\r\\nWe're (we're coming in from the cold)\\r\\r\\nWe're coming in, we're coming in (coming in)\\r\\r\\nWe're coming in, we're coming in (coming in)\\r\\r\\nWe're coming in, we're coming in (coming in)\\r\\r\\nWe're coming in, we're coming in (coming in)\\r\\r\\nWe're coming in from the cold\\r\\r\\n\\r\\r\\nIt's you, it's you, it's you I'm talkin' to\\r\\r\\nWell, you (it's you) you (it's you), you I'm talking to now\\r\\r\\nWhy do you look so sad and forsaken\\r\\r\\nWhen one door is closed, don't you know another is open\\r\\r\\n\\r\\r\\nWould you let the system make you kill your brotherman?\\r\\r\\nNo, no, no, no, no, no, no, dread, no\\r\\r\\nWould you make the system make you kill your brotherman?\\r\\r\\n(No, dread, no)\\r\\r\\nWould you make the system get on top of your head again?\\r\\r\\n(No, dread, no!)\\r\\r\\nWell, the biggest man you ever did see was was just a baby\\r\\r\\n\\r\\r\\nIn this life (in this life)\\r\\r\\nIn this (in this life, oh sweet life)\\r\\r\\nComing in from the cold\\r\\r\\nWe're coming in, we're coming (coming in), coming in-a (coming in)\\r\\r\\nComing in (coming in), ooh (coming in)\\r\\r\\nComing in from the cold\\r\\r\\n\\r\\r\\nIt's life (it's life), it's life (it's life), it's life (it's life)\\r\\r\\nIt's wa well, coming in from the cold\\r\\r\\nWe're coming in (coming in), coming in (coming in)\\r\\r\\nOoh (coming in), hey (coming in)\\r\\r\\nComing in from the cold\\r\\r\\n\\r\\r\\nIt's you, you, you I'm talking\\r\\r\\nWell, yes, you, bilyabong (it's you)\\r\\r\\nEw, you I'm talking to now\\r\\r\\nWell, why do you look so, look so, look so sad\\r\\r\\nLook so sad and forsaken?\\r\\r\\nDon't you know, when one door is closed, when one door is closed\\r\\r\\nMany more is open?\\r\\r\\n\\r\\r\\nWell, would you let the system get on top of your head again?\\r\\r\\nNo, no, no, no, no, no, no, no, no, dread, no\\r\\r\\nWould you let the system make you kill your brotherman?\\r\\r\\nNo, dread, no\\r\\r\\nWell, would you make the system get on top of your head again?\\r\\r\\n(No, dread, no) no, no, no, no, no, no, no, no, no, no\\r\\r\\nWell, the biggest, biggest man you ever, ever\\r\\r\\nDid-a see was-a was-a once a baby\\r\\r\\n\\r\\r\\nIn this life, in this life, in this life\\r\\r\\nIn this, oh, sweet life\\r\\r\\nWe're (coming in from the cold) from the cold\\r\\r\\nWe're coming in, we're coming in (coming in), coming in (coming in)\\r\\r\\nComing in (coming in), wooh, yeah\\r\\r\\nComing in from the cold\\r\\r\\n\\r\\r\\nWe're coming in-a, coming in-a, coming in-a, coming in-a\\r\\r\\nYeah, yeah, yeah, yeah, yeah\\r\\r\\nComing in from the cold\\r\\r\\nComing in (coming in), coming in (coming in)\\r\\r\\n(Coming in) (coming in)\\r\\r\\n(Coming in) from the from the cold\",\n",
       " \"Turn your lights down low\\r\\r\\nAnd pull your window curtain\\r\\r\\nOh let the moon come shining in\\r\\r\\nInto our life again\\r\\r\\nSaying ooh, it's been a long, long time\\r\\r\\n(Long, long time)\\r\\r\\nI got this message for you girl\\r\\r\\nBut it seems I was never on time\\r\\r\\nDid I wanna get through to you girl?\\r\\r\\nOn time, on time (word)\\r\\r\\nI want to give you some love\\r\\r\\nI want to give you some good, good loving\\r\\r\\n(Uh, uh, right, uh)\\r\\r\\nOh I, oh I, oh I\\r\\r\\nYeah I want to give you some good, good loving (uh)\\r\\r\\n\\r\\r\\nTurn your lights down low\\r\\r\\n(Word, word, uh, uh)\\r\\r\\nNever ever try to resist, oh no\\r\\r\\n(Na, na, na, na)\\r\\r\\nLet your love come shining in\\r\\r\\n(Na, na, na, na)\\r\\r\\nInto our lives again\\r\\r\\n(Na, na, na, na)\\r\\r\\nAnd ooh, I love you\\r\\r\\n(I love you, I love you)\\r\\r\\nAnd I want you to know right now\\r\\r\\n(Know right now)\\r\\r\\nOoh I love you\\r\\r\\n(Uh-uh, yeah, uh)\\r\\r\\nAnd I want you to know right now (uh)\\r\\r\\nThat I, that I\\r\\r\\nI wanna give you some love (uh, yeah)\\r\\r\\nI wanna give you some good, good loving\\r\\r\\nOh I, oh I, oh I\\r\\r\\nI wanna give you some good, good loving (yeah uh-uh)\\r\\r\\n\\r\\r\\nLoving you is a like a song I replay\\r\\r\\nEvery three minutes and thirty seconds of every day (uh, uh)\\r\\r\\nAnd every chorus was written for us to recite (right)\\r\\r\\nEvery beautiful melody of devotion every night\\r\\r\\nIt's potion like this ocean that might carry me\\r\\r\\nIn a wave of emotion to ask you to marry me\\r\\r\\nAnd every word, every second, and every third\\r\\r\\nExpresses the happiness more clearly than ever heard (uh)\\r\\r\\nAnd when I play them, every chord is a poem\\r\\r\\nTelling the lord how grateful I am cause I know him (what? word)\\r\\r\\nThe harmonies possess a sensation similar to your caress (uh)\\r\\r\\nIf you asking then I'm telling you it's yes\\r\\r\\nStand in love, take my hand in love, god bless (right)\\r\\r\\n\\r\\r\\nI want to give you some good, good loving\\r\\r\\nI want to give you some love\\r\\r\\nI want to give you some good, good loving\\r\\r\\nOh I, oh I, oh I\\r\\r\\nI wanna give you some good, good loving\\r\\r\\n\\r\\r\\nGood, good, good loving\\r\\r\\n(I wanna give you some good loving)\",\n",
       " \"(I'm still waiting;\\r\\r\\nI'm still waiting;\\r\\r\\nI'm still waiting;\\r\\r\\nI'm still waiting for you,\\r\\r\\nWhy, oh why? Why, oh why?)\\r\\r\\n\\r\\r\\nI said-a my feet won't keep me up anymore.\\r\\r\\nWell, ev'ry little beat my heart beats, girl,\\r\\r\\nIt's at-a your door.\\r\\r\\nI just want to love you\\r\\r\\nAnd I'm never gonna hurt you, girl.\\r\\r\\nSo why won't you come out to me now, girl?\\r\\r\\nOh, can't you see I'm under your spell?\\r\\r\\nBut I got to - got to go.\\r\\r\\nWhy, girl? Oh why, girl? Oh!\\r\\r\\n\\r\\r\\nWo, my gosh, the rain is fallin',\\r\\r\\nAnd I just can't stop callin'.\\r\\r\\nAnd I just can't tell the raindrops\\r\\r\\nFrom my teardrops\\r\\r\\nFalling down my face.\\r\\r\\nMm, look at it, yeah!\\r\\r\\nIt isn't really raindrops.\\r\\r\\n\\r\\r\\n(I'm still waiting) Teardrops falling down my face.\\r\\r\\n(I'm still waiting)\\r\\r\\n(I'm still waiting) I'm still waitin'.\\r\\r\\n(I'm still waiting) Yes, I will.\\r\\r\\n\\r\\r\\nI wait in the rain, I wait in the sun.\\r\\r\\nPlease, relieve me from these pains,\\r\\r\\nOh pains, just pains.\\r\\r\\nI love you, yes I do.\\r\\r\\nBut tell me, do you really love me, too? \\r\\r\\nMm-mm. Mm.\",\n",
       " \"Rudie come from jail 'cause rudie get bail\\r\\r\\nRudie come from jail 'cause rudie get bail\\r\\r\\n\\r\\r\\nYou frame him your cell, things he didn't do\\r\\r\\nYou rebuke and you scorn, and you make him feel blue\\r\\r\\n(Let him go) You got to let him go (let him go), I beg you let him, let him go\\r\\r\\n(Let him go) Let him, let him go, why, oh?\\r\\r\\nLet him go, and me seh why, oh?\\r\\r\\n(Let him go) You got to let him (let him go), I beg you let him, let him go\\r\\r\\n(Let him go) Let him, let him go, why, oh?\\r\\r\\nLet him go, and me seh why, oh?\\r\\r\\nRudie come from jail 'cause rudie get bail\\r\\r\\nRudie come from jail 'cause rudie get bail\\r\\r\\n\\r\\r\\nRemember he is smart, remember he is strong\\r\\r\\nRemember he is young and he will live long (so)\\r\\r\\n(Let him go) You got to let him go (let him go), I beg you let him, let him go\\r\\r\\n(Let him go) Let him, let him go, why, oh?\\r\\r\\nLet him go, and me seh why, oh?\\r\\r\\n(Let him go) You got to let him go (let him go), I beg you let him, let him go\\r\\r\\n(Let him go) Let him, let him go, why, oh?\\r\\r\\nLet him go, I beg you why, oh?\\r\\r\\n\\r\\r\\nRudie come from jail 'cause rudie get bail\\r\\r\\nRudie come from jail 'cause rudie get bail\\r\\r\\n\\r\\r\\nYou frame him your cell, things he didn't do\\r\\r\\nYou rebuke and you scorn, and you make him feel blue (oh)\\r\\r\\n(Let him go) You got to let him go (let him go), I beg you let him, let him go\\r\\r\\n(Let him go) Let him, let him go, why, oh? Hey\\r\\r\\nLet him go...\",\n",
       " \"Mr. Chatterbox how long will you live?\\r\\nAlways to receive but never to give\\r\\nAlways carry news all over the place\\r\\nMr. Chatterbox you are a big disgrace\\r\\n\\r\\nYou teeth and you tongue a go let you down\\r\\nAnd a when them let you down we a go batter you around\\r\\nBif, baf, boof, those are the blows you're gonna get\\r\\nMr. Talkative, I know you will regret\\r\\n\\r\\nMr. Chatterbox how long will you live?\\r\\nAlways to receive but never to give\\r\\nAlways carry news all over the place\\r\\nMr. Chatterbox you are a big disgrace\\r\\n\\r\\nYou teeth, teeth, teeth, and tongue, tongue, tongue a go let you down\\r\\nAnd a when them let you down we a go batter you around, hey\\r\\nBif-an, baf-an, boof, those are the blows you're gonna get, hey\\r\\nMr. Talkative I know you will regret\\r\\n\\r\\nMr. Chatterbox how long will you live?\\r\\nAlways to receive but a never to give\\r\\nAlways carry news all over the place\\r\\nMr. Chatterbox you are a big disgrace\\r\\n\\r\\nYou teeth and tongue a go let you down\\r\\nAnd a when them let you down we a go batter you around\\r\\nBif-an, baf-an, boof-an, that's the blows you gonna get\\r\\nMr. Chatterbox, I know you will regret\\r\\n\\r\\nOoh yeah, Mr. Chatterbox, ooh yeah\\r\\nMr. Chatterbox, ooh yeah\\r\\nWatch him, Mr. Chatterbox\\r\\n\",\n",
       " \"Live if you want to live \\r\\r\\n(Rastaman vibration, yeah, positive) \\r\\r\\nThat's what we got to give\\r\\r\\n(I'n'I vibration yeah, positive) \\r\\r\\nGot to have a good vibe \\r\\r\\n(Iyaman Iration, yeah, Irie ites) \\r\\r\\nWo-wo-ooh \\r\\r\\n(Positive vibration, yeah, positive) \\r\\r\\n\\r\\r\\nIf you get down and you quarrel everyday\\r\\r\\nYou're saying prayers to the devils, I say, wooh \\r\\r\\nWhy not help one another on the way? \\r\\r\\nMake it much easier (just a little bit easier) \\r\\r\\n\\r\\r\\nSay you just can't live that negative way\\r\\r\\nIf you know what I mean\\r\\r\\nMake way for the positive day\\r\\r\\n'Cause it's news (new day) news and days \\r\\r\\nNew time (new time), and if it's a new feelin' (new feelin'), yeah\\r\\r\\nSaid it's a new sign (new sign)\\r\\r\\nOh, what a new day\\r\\r\\n\\r\\r\\nPickin' up? \\r\\r\\nAre you pickin' up now? \\r\\r\\nJah love, Jah love (protect us)\\r\\r\\nJah love, Jah love (protect us)\\r\\r\\nJah love, Jah love (protect us)\\r\\r\\n\\r\\r\\nRastaman vibration, yeah (positive) \\r\\r\\nI'n'I vibration, yeah (positive) uh-huh-huh, ah yeah\\r\\r\\nIyaman Iration, yeah (irie ites) wooh \\r\\r\\nPositive vibration, yeah (positive) \\r\\r\\n\\r\\r\\nPickin' up? \\r\\r\\nAre you pickin' up now? \\r\\r\\nPickin' up? \\r\\r\\nAre you pickin' up now? \\r\\r\\nPickin' up? (Jah love, Jah love) \\r\\r\\nAre you pickin' (protect us) up now? \\r\\r\\nPickin' up? (Jah love, Jah love) \\r\\r\\nAre you pickin' (protect us) up now? \\r\\r\\nPickin' up? (Jah love, Jah love) \\r\\r\\nAre you pickin' (protect us) up now? \\r\\r\\nPickin' up? \\r\\r\\nAre you pickin' up now?\",\n",
       " \"Man to man is so unjust, children\\r\\r\\nYou don't know who to trust\\r\\r\\nYour worst enemy could be your best friend\\r\\r\\nAnd your best friend your worst enemy\\r\\r\\n\\r\\r\\nSome will eat and drink with you\\r\\r\\nThen behind them su-su 'pon you\\r\\r\\nOnly your friend know your secrets\\r\\r\\nSo only he could reveal it\\r\\r\\n\\r\\r\\nAnd who the cap fit\\r\\r\\nLet them wear it\\r\\r\\nAnd who the cap fit\\r\\r\\nLet them wear it\\r\\r\\nSaid I throw me corn (throw me corn)\\r\\r\\nMe no call no fowl (me no call no fowl)\\r\\r\\nI saying Cok-cok-cok (Cok-cok-cok)\\r\\r\\nCluck-cluck-cluck (Cluck-cluck-cluck)\\r\\r\\n\\r\\r\\nAy\\r\\r\\n\\r\\r\\nSome will hate you, pretend they love you now\\r\\r\\nThen behind they try to eliminate you\\r\\r\\nBut who Jah bless, no one curse\\r\\r\\nThank God \\r\\r\\nWe're past the worse\\r\\r\\n\\r\\r\\nHypocrites and parasites\\r\\r\\nWill come up and take a bite\\r\\r\\nAnd if your night should turn to day\\r\\r\\nA lot of people would run away\\r\\r\\n\\r\\r\\nAnd who the cap fit \\r\\r\\nLet them wear it \\r\\r\\nWho the cap fit \\r\\r\\nLet them wear it \\r\\r\\n\\r\\r\\nAnd then I'm gonna throw me corn (throw me corn)\\r\\r\\nAnd then I'm gonna call no fowl (call no fowl)\\r\\r\\nAnd then I'm gonna say Cok-cok-cok (Cok-cok-cok)\\r\\r\\nCluck-cluck-cluck (Cluck-cluck-cluck)\\r\\r\\n\\r\\r\\nSome will eat and drink with you\\r\\r\\nThen behind them su-su 'pon you (su-su 'pon you)\\r\\r\\nAnd if night should turn to day\\r\\r\\nA lot of people will run away\\r\\r\\n\\r\\r\\nAnd who the cap fit\\r\\r\\nLet them wear it \\r\\r\\nAnd who the cap fit\\r\\r\\nLet them wear it \\r\\r\\nThrow me corn (Throw me corn)\\r\\r\\nMe no call no fowl (me no call no fowl)\\r\\r\\nI saying cok-cok-cok (cok-cok-cok)\\r\\r\\nCluck-cluck-cluck (Cluck-cluck-cluck)\\r\\r\\nI gotta cok-cok-cok (cok-cok-cok)\\r\\r\\nCluck-cluck-cluck\",\n",
       " \"Oh, oh, oh, oh\\r\\r\\nIts Mr Brown Mr Brown is a clown who rides to town in a coffin.\\r\\r\\nWell, here he comes In the top is, three rows on top and two inside there.\\r\\r\\nOh what a confusion! Ooh yeah yeah!\\r\\r\\nWhat a botheration! Ooh now now!\\r\\r\\n\\r\\r\\nWho is Mr Brown? I wanna know now!\\r\\r\\nHe is nowhere to be found.\\r\\r\\nFrom Mandeville to slide-a-ville, coffin runnin' around,\\r\\r\\nUpsetting, upsetting, upsetting the town,\\r\\r\\nAsking for Mr Brown.\\r\\r\\nFrom Mandeville to slide-a-ville, coffin runnin' around,\\r\\r\\nUpsetting, upsetting, upsetting the town,\\r\\r\\nAsking for Mr Brown.\\r\\r\\nI wanna know who is Mr Brown?\\r\\r\\nIs Mr Brown controlled by remote?\\r\\r\\n\\r\\r\\nOh, calling duppy conqueror,\\r\\r\\nI'm the ghost-catcher!\\r\\r\\nThis is your chance, oh big, big Bill bull-bucka,\\r\\r\\nTake your chance! Prove yourself! Oh, yeah!\\r\\r\\n\\r\\r\\nDown in parade\\r\\r\\nPeople running like a masquerade.\\r\\r\\nThe police make a raid,\\r\\r\\nBut the people, oh, yeah, yeah, yeah, yeah, yeah, they think it\\r\\r\\nFade.\\r\\r\\n\\r\\r\\nWhat a thing in town\\r\\r\\nCrows chauffeur-driven around,\\r\\r\\nSkankin' as if they had never known\\r\\r\\nThe man they call Mr Brown\\r\\r\\n\\r\\r\\nI can tell you where he's from now,\\r\\r\\nFrom Mandeville to slide-a-ville, coffin running around,\\r\\r\\nUpsetting upsetting upsetting the town,\\r\\r\\nAsking for Mr Brown.\\r\\r\\nFrom Mandeville to slide-a-ville\",\n",
       " \"You've been riding\\r\\r\\nYou've been riding quite a while, child\\r\\r\\n(Keep on riding, keep on riding)\\r\\r\\nYou've been jiving\\r\\r\\nLike a peacock, that's your style\\r\\r\\n(Keep on jiving), oh (keep on jiving)\\r\\r\\n\\r\\r\\nNow I remember the days in school\\r\\r\\nThere wasn't a time when you didn't treat me cruel\\r\\r\\nOoh, wait till I get my hooks on you\\r\\r\\nI'll show you what a fisherman can do\\r\\r\\n\\r\\r\\nYou're riding\\r\\r\\nBeen riding quite a while, child\\r\\r\\n(keep on riding, keep on riding)\\r\\r\\nYou've been jiving\\r\\r\\nLike a peacock, that's your style\\r\\r\\n(Keep on jiving), ooh-wee (keep on jiving)\\r\\r\\n\\r\\r\\nI say now, you always try to hurt me in the end\\r\\r\\nIn the presence of all our good, good friends\\r\\r\\nBut the patient man always win\\r\\r\\nNow I'll just wait till you give in\\r\\r\\n\\r\\r\\nYou've been riding\\r\\r\\nYou've been riding quite a while\\r\\r\\n(keep on riding), keep on, ride (keep on riding)\\r\\r\\nYou've been jiving\\r\\r\\nLike a peacock, that's your style\\r\\r\\n(keep on jiving) oh-wee, alright (on jiving)\\r\\r\\n\\r\\r\\nAt Christmas, more like an Easter bunny\\r\\r\\nJust like a rabbit, you're always on the run\\r\\r\\nBut wait till I get my trap on you\\r\\r\\nI'll see where you gonna run to\\r\\r\\nWait till I get my trap on you\\r\\r\\nThen I'll see where you gonna run to\\r\\r\\n\\r\\r\\nYou've been riding\\r\\r\\nYou've been riding quite a while\\r\\r\\n(keep on riding), keep on, ride (keep on riding)\\r\\r\\nYou've been jiving\\r\\r\\nLike a peacock, that's your style\\r\\r\\n(keep on jiving), ooh-wee (keep on jiving)\\r\\r\\n\\r\\r\\n(So riding on my own) I need your love tonight\\r\\r\\n(Riding on my own) A-when you hold me right\",\n",
       " \"I'm a rebel, soul rebel. \\r\\r\\nI'm a capturer, soul adventurer. \\r\\r\\nI'm a rebel, soul rebel. \\r\\r\\nI'm a capturer, soul adventurer. \\r\\r\\n\\r\\r\\nSee the morning sun, the morning sun, \\r\\r\\nOn the hillside. \\r\\r\\nIf you're not living good, travel wide, \\r\\r\\nYou gotta travel wide. \\r\\r\\nSaid I'm a living man, \\r\\r\\nAnd I've got work to do. \\r\\r\\nIf you're not happy, children, \\r\\r\\nThen you must be blue, \\r\\r\\nMust be blue, people say. \\r\\r\\n\\r\\r\\nI'm a rebel, let them talk, \\r\\r\\nSoul rebel, talk won´t bother me. \\r\\r\\nI'm a capturer, that´w what they say, \\r\\r\\nSoul adventurer, night and day. \\r\\r\\nI'm a rebel, soul rebel. \\r\\r\\nDo you hear them lippy. \\r\\r\\nI'm a capturer, gossip around the corner, \\r\\r\\nSoul adventurer. How they adventure on me. \\r\\r\\n\\r\\r\\nBut, see the morning sun, the morning sun, \\r\\r\\nOn the hillside. \\r\\r\\nIf you're not living good, travel wide, \\r\\r\\nYou gotta travel wide. \\r\\r\\nSaid I'm a living man, \\r\\r\\nI've got work to do. \\r\\r\\nIf you're not happy, then you must be blue, \\r\\r\\nMust be blue, people say. \\r\\r\\n\\r\\r\\nI'm a rebel, soul rebel. \\r\\r\\nI'm a capturer, soul adventurer. \\r\\r\\nDo you hear me? \\r\\r\\nI'm a rebel, rebel in the morning. \\r\\r\\nSoul rebel, rebel at midday time.\",\n",
       " \"What's wrong girl\\r\\r\\nYou don't treat me like you used to do\\r\\r\\nEverything about you is brand new\\r\\r\\nYou've changed\\r\\r\\nIt's mighty strange\\r\\r\\n\\r\\r\\nYou've lost the greatest smile and you won't tell me why\\r\\r\\nIt's plain to see the love light's gone now in your eyes\\r\\r\\nThe world we built is dangling on a broken rope\\r\\r\\nBut I've got hope \\r\\r\\nOh, oh, oh, I've got hope\\r\\r\\nI hope and pray that one day girl, you'll see the light\\r\\r\\nAnd then you'll know that all I want is just to treat you right\\r\\r\\n\\r\\r\\nBaby, just to treat you right (treat you right)\\r\\r\\nBaby, just to treat you right (treat you right)\\r\\r\\nBaby, just to treat you right (treat you right)\\r\\r\\nTreat you right\\r\\r\\n\\r\\r\\nWhat's wrong girl \\r\\r\\nWe aren't as close as we used to be\\r\\r\\nIs my imagination playing tricks on me\\r\\r\\nYou've changed\\r\\r\\nYour actin' strange\\r\\r\\n\\r\\r\\nYou've lost the greatest smile and you won't tell me why\\r\\r\\nIt's plain to see the love light's gone now in your eyes\\r\\r\\nThe world we built is dangling on a broken rope\\r\\r\\nBut I've got hope oh, oh, oh, yeah\\r\\r\\nI hope and pray that one day girl, you're gonna see the light\\r\\r\\nAnd then you'll know that all I want is just to treat you right\\r\\r\\n\\r\\r\\nBaby, just to treat you right (treat you right)\\r\\r\\nBaby, just to treat you right (treat you right)\\r\\r\\nBaby, just to treat you right (treat you right)\\r\\r\\nBaby, just to treat you right\",\n",
       " \"Here I am, walking down the street (walk walk walk walk walk walk walk)\\r\\r\\nAnd the terrain, everything is so sweet (woah woah woah sweet, woah woah woah sweet)\\r\\r\\nI'm doing my thing and I'm doing it slow\\r\\r\\nBut there is just one thing I would like you to know, oh\\r\\r\\n\\r\\r\\nWhen it wet it slippery, yeah\\r\\r\\nWhen it dump it crumpy\\r\\r\\nIf it's likely you will tumble down\\r\\r\\nDon't want you on the ground\\r\\r\\nOh, oh, oh, caution, the road is wet\\r\\r\\nBlack soul is black as jet (do you hear me)\\r\\r\\nCaution the road is hot\\r\\r\\nYou got to do better than that ('cause ah)\\r\\r\\n\\r\\r\\nWhen it wet it slippery (when it wet it slippery, yeha)\\r\\r\\nWhen it damp it crampy (when it damp it crampy)\\r\\r\\nIf it's likely you were tumbling down\\r\\r\\nDon't want you on the ground, brother\\r\\r\\n\\r\\r\\nHit me from the top\\r\\r\\nYou crazy motherfunky\\r\\r\\nHit me from the top\\r\\r\\nYou crazy motherfunky\\r\\r\\nHit me from the top \\r\\r\\nCrazy motherfunky\\r\\r\\n\\r\\r\\nWhen it wet it slippery, yeah\\r\\r\\nWhen it dumpy crumpy\\r\\r\\nIf it's likely you were tumbling down\\r\\r\\nDon't want you on the ground (don't, don't)\\r\\r\\nCaution the road is wet\\r\\r\\nBlack soul is black as jet (black soul)\\r\\r\\nCaution the road is hot \\r\\r\\nYou got to do better than that\",\n",
       " \"No water can quench my thirst\\r\\r\\nI'm in bed send me a nurse\\r\\r\\nI'm thirsty thirsty Lord o' Mercy\\r\\r\\nOoh we, other? the bottle, sweeter the victory \\r\\r\\nI've got your love, the power of your glory\\r\\r\\nAah, Ooh yeah, trillin' me, alright\\r\\r\\nCan't judge a mother by the ? of the father\\r\\r\\nCan't judge a book by the ? on the cover Read me read me baby\\r\\r\\n\\r\\r\\nNo water can quench my thirst\\r\\r\\nI'm in bed, need a nurse\\r\\r\\nCan you understand\\r\\r\\nDo you understand me baby\\r\\r\\n\\r\\r\\nI've got a bottle, sweet the victory \\r\\r\\nI've got your love, the power of your glory\\r\\r\\nAah, Ooh we, alright\\r\\r\\nYou've got your love and I've got mine\\r\\r\\nCan't you ? they work fine Do you believe me, baby, get it up baby\\r\\r\\nBreak it back, turn it loose\\r\\r\\nWhat in heaven baby it got to choose\",\n",
       " \"Bend down low, let me tell you what I know now\\r\\r\\nBend down low, let me tell you what I know\\r\\r\\nOh! Fisherman row to reap what you sow now\\r\\r\\nOh, tell you all I know (Oo-oh!)\\r\\r\\nYou've got to let me go now (Oo-oh!)\\r\\r\\nAnd all you've got to do\\r\\r\\n(Bend down low) Oh yeah! Let me tell you what I know\\r\\r\\nBend down low, let me tell you what I know oh yeah!\\r\\r\\n\\r\\r\\nYou keep on knockin', but you can't come in\\r\\r\\nI get to understand you been livin' in sin\\r\\r\\nBut if you love me, woman, walk right in\\r\\r\\nI've got a notch for your safety-pin\\r\\r\\nBut bend down low\\r\\r\\n\\r\\r\\nKeep on knockin', but you can't come in\\r\\r\\nI get to understand you been livin' in sin\\r\\r\\nBut walk right in, woman, sit right down\\r\\r\\nI will keep on lovin' you I play the clown\\r\\r\\nBut bend down low, baby, let me tell you what I know\\r\\r\\nBend down low, let me tell you what I know, yeah!\\r\\r\\nLet me tell you, baby! Let me tell ya \\r\\r\\nKnock on, babe! Just won't let ya in!\\r\\r\\nYou been livin' in sin, knock on!\",\n",
       " \"Wake up and turn me loose\\r\\r\\nWake up and turn me loose\\r\\r\\nWake up and turn me loose\\r\\r\\nFor the rain is falling\\r\\r\\n\\r\\r\\nGot to have kaya now\\r\\r\\nGot to have kaya now\\r\\r\\nGot to have kaya now\\r\\r\\nFor the rain is falling\\r\\r\\n\\r\\r\\nI'm so high, I even touch the sky\\r\\r\\nAbove the falling rain\\r\\r\\nI feel so good in my neighborhood, so\\r\\r\\nHere I come again\\r\\r\\n\\r\\r\\nGot to have kaya now\\r\\r\\nGot to have kaya now\\r\\r\\nGot to have kaya now\\r\\r\\nFor the rain is falling\\r\\r\\n\\r\\r\\nFeelin' irie I\\r\\r\\nFeelin' irie I\\r\\r\\nFeelin' irie I\\r\\r\\n'Cause I have some kaya now\\r\\r\\n\\r\\r\\nI feel so high, I even touch the sky\\r\\r\\nAbove the falling rain\\r\\r\\nI feel so good in my neighborhood, so\\r\\r\\nHere I come again\\r\\r\\n\\r\\r\\nGot to have kaya now\\r\\r\\nGot to have kaya now\\r\\r\\nGot to have kaya now, Lord\\r\\r\\nFor the rain is falling\\r\\r\\n\\r\\r\\n(Kaya now, kaya, kaya) Huh\",\n",
       " \"Cheer up my brothers, cheer up my sisters\\r\\r\\nCheer up my momma too, lord\\r\\r\\nCheer up my father, let me say\\r\\r\\nI know it won't be long\\r\\r\\nThat change has got to come\\r\\r\\nThat change has got to come\\r\\r\\nAnd I know that it won't be long\\r\\r\\n\\r\\r\\nWe've been down in captivity (captivity) so long, so long\\r\\r\\nIf we unite then we will be free (we will be free)\\r\\r\\nSo strong, so strong, come I want you to\\r\\r\\nCheer up my (brothers) my sisters\\r\\r\\n(Cheer up my sisters) let me say\\r\\r\\nCheer up my my my momma too, lord\\r\\r\\nCheer up my father\\r\\r\\n\\r\\r\\nLet me say, we've been down in captivity (captivity)\\r\\r\\nSo long, so long\\r\\r\\nWe unite we will be free (we will be free)\\r\\r\\nSo strong, so strong\\r\\r\\nCheer up my my my my my my brother\\r\\r\\n(Cheer up my sister) cheer up my sisters\\r\\r\\n(Cheer up my momma) my momma too lord\\r\\r\\n(Cheer up my) my father\\r\\r\\nAnd I, I, I\",\n",
       " \"Don't you look at me so smug\\r\\nAnd say I'm going bad.\\r\\nWho are you to judge me\\r\\nAnd the life that I live?\\r\\nI know that I'm not perfect\\r\\nAnd that I don't claim to be.\\r\\nSo before you point your fingers,\\r\\nBe sure your hands are clean.\\r\\n\\r\\nJudge not\\r\\nBefore you judge yourself.\\r\\nJudge not\\r\\nIf you're not ready for judgement. Woah oh oh!\\r\\n\\r\\nThe road of life is rocking\\r\\nAnd you may stumble too.\\r\\nSo while you talk about me,\\r\\nSomeone else is judging you.\\r\\n\\r\\nJudge not\\r\\nBefore you judge yourself.\\r\\nJudge not\\r\\nIf you're not ready for judgement. Woah oh oh!\\r\\n\\r\\nThe road of life is rocky\\r\\nAnd you may stumble too.\\r\\nSo while you talk about me\\r\\nSomeone else is judging you,\\r\\nSomeone else is judging you,\\r\\nSomeone else is judging you,\\r\\nSomeone else is judging you,\\r\\nSomeone else is judging you.\",\n",
       " \"Stir it up little darling, stir it up\\r\\r\\nCome on baby come on and stir it up little darling, stir it up\\r\\r\\nIt's been a long long time since I've got you on my mind\\r\\r\\nAnd now you are here\\r\\r\\nI say it's so clear\\r\\r\\nTo see what we can do, honey, just me and you\\r\\r\\n\\r\\r\\nCome on and stir it up, little darling, stir it up\\r\\r\\nCome on baby come on and stir it up little darling, stir it up\\r\\r\\nI'll push the wood, I'll blaze your fire\\r\\r\\nThen I'll satisfy your heart's desire\\r\\r\\nSaid I'll stir it up, yeah, ev'ry minute, yeah\\r\\r\\nAll you got to do is keep it in, baby\\r\\r\\nAnd stir it up, little darling, stir it up\\r\\r\\nCome on and stir it up, oh, little darling, stir it up, yeah\\r\\r\\n\\r\\r\\nOh, will you quench me while I'm thirsty?\\r\\r\\nCome and cool me down when I'm hot?\\r\\r\\nYour recipe, darling, is so tasty\\r\\r\\nAnd you sure can stir your pot\\r\\r\\nSo stir it up, little darling, stir it up\\r\\r\\nCome on and stir it up, oh, little darling, stir it up\\r\\r\\nCome on and stir it up, oh, little darling, stir it up\",\n",
       " \"(Ooh-wee, ooh-wee, ooh-wa!)\\r\\r\\nSee them fighting for power (ooh-wee, ooh-wee, ooh-wa!)\\r\\r\\nBut they know not the hour (ooh-wee, ooh-wee, ooh-wa!)\\r\\r\\nSo they bribing with their guns, spare parts and money\\r\\r\\nTrying to belittle our integrity now\\r\\r\\nThey say what we know\\r\\r\\nIs just what they teach us\\r\\r\\nAnd we're so ignorant\\r\\r\\n'Cause every time they can reach us (shoobe, doowa)\\r\\r\\nThrough political strategy (shoobe, doowa)\\r\\r\\nThey keep us hungry (shoobe, doowa)\\r\\r\\nAnd when you gonna get some food (shoobe, doowa)\\r\\r\\nYour brother got to be your enemy, well\\r\\r\\n\\r\\r\\nAmbush in the night\\r\\r\\nAll guns aiming at me\\r\\r\\nAmbush in the night\\r\\r\\nThey opened fire on me now\\r\\r\\nAmbush in the night\\r\\r\\nProtected by his majesty\\r\\r\\nOoh-wee, ooh-wee. Ooh-wa-ooh!\\r\\r\\n(Ooh-wee) Ooh-wee, ooh-wee (ooh-wa), Ooh-wa!\\r\\r\\nOoh-wee, ooh-wee, ooh wa-oh!\\r\\r\\nOoh-wee, ooh-wee, ooh wa-ah!\\r\\r\\n\\r\\r\\nWell, what we know\\r\\r\\nIs not what they tell us\\r\\r\\nWe're not ignorant, I mean it\\r\\r\\nAnd they just cannot touch us\\r\\r\\nThrough the powers of the most I (shoobe, doowa)\\r\\r\\nWe keep on surfacin' (shoobe, doowa)\\r\\r\\nThrough the powers of the most I (shoobe, doowa)\\r\\r\\nWe keep on survivin', yeah\\r\\r\\n\\r\\r\\nThis ambush in the night\\r\\r\\nPlanned by society\\r\\r\\nAmbush in the night\\r\\r\\nThey tryin' to conquer me\\r\\r\\nAmbush in the night\\r\\r\\nAnything money can bring\\r\\r\\nAmbush in the night\\r\\r\\nPlanned by society\\r\\r\\nAmbush in the night\",\n",
       " \"Ey!\\r\\r\\nThis morning I woke up in a curfew\\r\\r\\nOh God, I was a prisoner, too\\r\\r\\nCould not recognize the faces standing over me\\r\\r\\nAll dressed in uniforms of brutality\\r\\r\\n\\r\\r\\nHow many rivers do we have to cross\\r\\r\\nBefore we can talk to the boss?\\r\\r\\nI'm saying, all we got, it seems we have lost\\r\\r\\nWe must have really paid the cost\\r\\r\\n\\r\\r\\nThat's why we gonna be burnin' and a-lootin' tonight\\r\\r\\nWe're burnin' and a-lootin' tonight\\r\\r\\nBurnin' all pollution tonight\\r\\r\\nOh, we're burnin' all illusion tonight\\r\\r\\n\\r\\r\\nEy!\\r\\r\\nOh, give me the food and let me grow\\r\\r\\nLet the Roots Man take the gold\\r\\r\\nI say, 'cause all them drugs gonna make you slow, now\\r\\r\\nIt's not the music from the ghetto\\r\\r\\n\\r\\r\\nEh!\\r\\r\\nWeeping and a-wailin' tonight\\r\\r\\nWeeping and a-wailin' tonight, lord, lord, lord, lord\\r\\r\\nEh! (weeping and a-wailin' tonight)\\r\\r\\nOh, (weeping and a-wailin' tonight) yeah!\\r\\r\\n\\r\\r\\nHow many rivers\\r\\r\\nHow many rivers\\r\\r\\nDo we have to cross?\\r\\r\\nTalk to the boss\\r\\r\\nAnd one more, if all we got, we have lost\\r\\r\\nWhat I mean yeah, we must have really paid the cost\\r\\r\\n\\r\\r\\nThat's why we gonna be (burnin' and a-lootin' tonight)\\r\\r\\nBurning and a-lootin'\\r\\r\\n(Burnin' and a-lootin' tonight) lord, oh, lord, oh, lord, oh, lord\\r\\r\\nBurnin' all pollution tonight\\r\\r\\n(Burnin' all illusion tonight) eh!\\r\\r\\n(Weeping and a-wailin' tonight)\\r\\r\\n(Weeping and a-wailin' tonight) lord, oh, lord, oh, lord, oh, lord\\r\\r\\n(Weeping and a-wailin' tonight) who can stop the tears tonight?\\r\\r\\n(Weeping and a-wailin' tonight) so, pretty no, no tears tonight, eh!\",\n",
       " \"Thank you, Lord, for what you've done for me, yeah!\\r\\r\\nThank you, Lord, for what you're doing now\\r\\r\\nThank you, Lord, for ev'ry little thing, yeah, yeah!\\r\\r\\nThank you, Lord, for you made me sing\\r\\r\\n\\r\\r\\nSay I'm in no competition,\\r\\r\\nBut I made my decision\\r\\r\\nYou can keep your opinion\\r\\r\\nI'm just calling on the wiseman communion\\r\\r\\n\\r\\r\\nThank you, Lord, for what you've done for me, yeah, yeah, yeah!\\r\\r\\nThank you, Lord, for what you're doing now\\r\\r\\nThank you, Lord, for ev'ry little thing, yeah, yeah!\\r\\r\\nThank you, Lord, for you made me sing\\r\\r\\nSing along, sing along\\r\\r\\n\\r\\r\\nI don't fear their aggression,\\r\\r\\nJust to prove my determination\\r\\r\\nI don't yield to temptation\\r\\r\\nI haven't learn't my lesson in Revelation\\r\\r\\n\\r\\r\\nThank you, Lord, for what you've done for me, yeah-eah-eah!\\r\\r\\nThank you, Lord, for what you're doing now\\r\\r\\nThank you, Lord, for ev'ry little thing, yeah, yeah!\\r\\r\\nThank you, Lord, for you made me sing\\r\\r\\nSing along, sing along\\r\\r\\n ---\\r\\r\\n(Trumpet solo)\\r\\r\\n ---\\r\\r\\nSaid, I'm in no competition,\\r\\r\\nBut I made my decision\\r\\r\\nLord, in my simple way,\\r\\r\\nComin', comin', comin', comin'\\r\\r\\nI love to pray\\r\\r\\n\\r\\r\\nThank you, Lord, for what you've done for me, yeah-eah-eah!\\r\\r\\nThank you, Lord, for what you're doing now\\r\\r\\nThank you, Lord, for ev'ry little thing, yeah, yeah!\\r\\r\\nThank you, Lord, for you made me sing\\r\\r\\nOh-oh-oh-oh!\",\n",
       " \"I can't find no love\\r\\r\\nNo sympathy\\r\\r\\nWhat kind of love\\r\\r\\nThey've got for me\\r\\r\\nI'm on my way \\r\\r\\nTo happiness\\r\\r\\nWhere I can find\\r\\r\\nSome peace and rest\\r\\r\\n\\r\\r\\nWhen I'm in my trouble here\\r\\r\\nOnly me feels the pain\\r\\r\\nNot one good word of advice \\r\\r\\nFrom any of my so called friends\\r\\r\\n\\r\\r\\nI can't find no love\\r\\r\\nNo sympathy\\r\\r\\nWhat kind of love\\r\\r\\nThey've got for me\\r\\r\\nI'm on my way \\r\\r\\nTo happiness\\r\\r\\nWhere I can find\\r\\r\\nSome peace and rest\\r\\r\\n\\r\\r\\nMight as well, might as well\\r\\r\\nI get out, I get out of hell\\r\\r\\nHell would never be made for me\\r\\r\\nSo I'm gonna search, search 'till I'm free\\r\\r\\n\\r\\r\\nI can't find no love\\r\\r\\nNo sympathy\\r\\r\\nWhat kind of love\\r\\r\\nThey've got for me\\r\\r\\nI'm on my way \\r\\r\\nTo happiness\\r\\r\\nWhere I can find\\r\\r\\nSome peace and rest\",\n",
       " 'The warden threw a party in the county jail\\n\\nThe prison band was there and they began to wail\\n\\nThe band was jumpin\\' and the joint began to swing\\n\\nYou should\\'ve heard them knocked-out jailbirds sing\\n\\n\\n\\nLet\\'s rock everybody, let\\'s rock\\n\\nEverybody in the whole cell block\\n\\nWas dancin\\' to the Jailhouse Rock\\n\\n\\n\\nSpider Murphy played the tenor saxophone\\n\\nLittle Joe was blowin\\' on the slide trombone\\n\\nThe drummer boy from Illinois went crash, boom, bang\\n\\nThe whole rhythm section was the Purple Gang\\n\\n\\n\\nLet\\'s rock everybody, let\\'s rock\\n\\nEverybody in the whole cell block\\n\\nWas dancin\\' to the Jailhouse Rock\\n\\n\\n\\nNumber forty-seven said to number three\\n\\n\"You\\'re the cutest jailbird I ever did see\\n\\nI sure would be delighted with your company\\n\\nCome on and do the Jailhouse Rock with me\"\\n\\n\\n\\nLet\\'s rock everybody, let\\'s rock\\n\\nEverybody in the whole cell block \\n\\nWas dancin\\' to the Jailhouse Rock\\n\\n\\n\\nSad sack was sittin\\' on a block of stone\\n\\nWay over in the corner weepin\\' all alone\\n\\nThe warden said, \"hey, buddy, don\\'t you be no square\\n\\nIf you can\\'t find a partner, use a wooden chair\"\\n\\n\\n\\nLet\\'s rock everybody, let\\'s rock\\n\\nEverybody in the whole cell block\\n\\nWas dancin\\' to the Jailhouse Rock\\n\\n\\n\\nShifty Henry said to Bugs, \"For Heaven\\'s sake\\n\\nNo one\\'s lookin\\' now\\'s our chance to make a break\"\\n\\nBugsy turned to Shifty and he said, \"Nix, Nix\\n\\nI want to stick around a while and get my kicks\"\\n\\n\\n\\nLet\\'s rock everybody, let\\'s rock\\n\\nEverybody in the whole cell block\\n\\nWas dancin\\' to the Jailhouse Rock\\n\\n\\n\\nDancin\\' to the Jailhouse Rock\\n\\nDancin\\' to the Jailhouse Rock\\n\\nDancin\\' to the Jailhouse Rock\\n\\nDancin\\' to the Jailhouse Rock\\n\\nDancin\\' to the Jailhouse Rock',\n",
       " 'Memories, pressed between the pages of my mind\\n\\nMemories, sweetened through the ages just like wine\\n\\nQuiet thought come floating down\\n\\nAnd settle softly to the ground\\n\\n\\n\\nLike golden autumn leaves around my feet\\n\\nI touched them and they burst apart with sweet memories,\\n\\nSweet memories\\n\\nOf holding hands and red bouquets\\n\\n\\n\\nAnd twilight trimmed in purple haze\\n\\nAnd laughing eyes and simple ways\\n\\nAnd quiet nights and gentle days with you\\n\\n\\n\\nMemories, pressed between the pages of my mind\\n\\nMemories, sweetened through the ages just like wine,\\n\\nMemories, memories, sweet memories',\n",
       " \"You may ask me how I know my Lord is real (my Lord is real)\\n\\nYou may doubt the things I say and doubt the way I feel (the way I feel)\\n\\nBut I know He's real today, He'll always be (He'll always be)\\n\\nI can feel His hand in mine and that's enough for me\\n\\n\\n\\nI will never walk alone, He holds my hand (He holds my hand)\\n\\nHe will guide each step I take\\n\\nAnd if I fall I know He'll understand\\n\\nTill the day He tells me why He loves me so (He loves me so)\\n\\nI can feel His hand in mine\\n\\nThat's all I need to know\\n\\n\\n\\nI will never walk alone, He holds my hand (He holds my hand)\\n\\nHe will guide each step I take\\n\\nAnd if I fall I know He'll understand\\n\\nTill the day He tells me why He loves me so (He loves me so)\\n\\nI can feel His hand in mine\\n\\nThat's all I need to know\\n\\n\\n\\nI can feel His hand in mine\\n\\nThat's all I need to know\\n\\n\\n\\nI can feel His hand in mine\\n\\nThat's all I need to know\",\n",
       " \"Love me tender\\n\\nLove me sweet\\n\\nNever let me go\\n\\nYou have made my life complete\\n\\nAnd I love you so\\n\\n\\n\\nLove me tender\\n\\nLove me true\\n\\nAll my dreams fulfilled\\n\\nFor my darlin' I love you\\n\\nAnd I always will\\n\\n\\n\\nLove me tender\\n\\nLove me long\\n\\nTake me to your heart\\n\\nFor it's there that I belong\\n\\nAnd we'll never part\\n\\n\\n\\nLove me tender\\n\\nLove me true\\n\\nAll my dreams fulfilled\\n\\nFor my darlin' I love you\\n\\nAnd I always will\\n\\n\\n\\nLove me tender\\n\\nLove me dear\\n\\nTell me you are mine\\n\\nI'll be yours through all the years\\n\\nTill the end of time\\n\\n\\n\\nLove me tender\\n\\nLove me true\\n\\nAll my dreams fulfilled\\n\\nFor my darlin' I love you\\n\\nAnd I always will\",\n",
       " \"Feel so bad\\n\\nLike a ball game on a rainy day\\n\\nFeel so bad\\n\\nLike a ball game on a rainy day\\n\\n\\n\\nYes, I got my rain check\\n\\nShake my head and walk away\\n\\nOoo, people, that's the way I feel\\n\\nOoo, people, that's the way I feel\\n\\n\\n\\nSometimes I think I want\\n\\nThen again I think I don't\\n\\nSometimes I want to stay here\\n\\nThen again I want to leave \\n\\nSometimes I want to leave here\\n\\nThen again I want to stay\\n\\n\\n\\nYes, I got my train fare\\n\\nPack my grip and ride away\\n\\nOoo, people, that's the way I feel\\n\\nOoo, people, that's the way I feel\\n\\n\\n\\nSometimes I think I want\\n\\nThen again I think I don't\",\n",
       " \"It was a night oh oh what a night\\n\\nIt was it really was such a night\\n\\nThe moon was bright oh how so bright\\n\\nIt was it really was such a night\\n\\nThe night was alight with stars above\\n\\nOh oh when she kissed me\\n\\nI had to fall in love\\n\\nOh it was a kiss oh oh what a kiss\\n\\nIt was it really was such a kiss\\n\\nOh how she could kiss oh what a kiss\\n\\nIt was it really was such a kiss\\n\\nJust the thought of her lips\\n\\nSets me afire\\n\\nI reminisce and I'm filled with desire\\n\\nBut I'd gave my heart to her in sweet surrender\\n\\nHow well I remember, I'll always remember\\n\\nOh, what a night oh oh what a night\\n\\nIt was it really was such a night\\n\\nCame the dawn and my heart and her love\\n\\nAnd the night was gone\\n\\nBut I'll never forget the kiss\\n\\nThe kiss in the moonlight\\n\\nOh oh such a kiss, such a night\\n\\nIt was a night oh oh what a night\\n\\nIt was it really was such a night\\n\\nCame the dawn and my heart and her love\\n\\nAnd the night was gone\\n\\nBut I'll never forget the kiss\\n\\nThe kiss in the moonlight\\n\\nHow well I remember, I'll always remember\\n\\nThat night oh oh what a night\\n\\nIt was it really was such a night\\n\\nWhen we kissed I had to fall in love\\n\\nBut I'd gave my heart to her in sweet surrender\\n\\nHow well I remember, I'll always remember\\n\\nOh that night oh oh what a night\\n\\nIt was it really was such a night\\n\\nWhen we kissed I had to fall in love\\n\\nWell she's gone, gone, gone\\n\\nYes she's gone, gone, gone\\n\\nCame the dawn, dawn, dawn\\n\\nAnd my love was gone\\n\\nBut before that dawn\\n\\nYes before that dawn and before that dawn\\n\\nOh oh, oh oh, oh oh, oh oh, oh oh\\n\\nSuch a night\",\n",
       " \"I was the one who taught her to kiss\\nThe way that she kisses you now\\nAnd you know the way she touches your cheek\\nWell, I taught her how\\n\\nI was the one who taught her to cry\\nWhen she wants you under her spell\\nThe sight of her tears drives you out of your mind\\nI taught her so well\\n\\nAnd then one day\\nI had my love as perfect as could be\\nShe lived, she loved, she laughed, she cried\\nAnd it was all for me\\n\\nI'll never know who taught her to lie\\nNow that it's over and done\\nWho learned the lesson when she broke my heart?\\nI was the one\\n\\nAnd then one day\\nI had my love as perfect as could be\\nShe lived, she loved, she laughed, she cried\\nAnd it was all for me\\n\\nI'll never know who taught her to lie\\nNow that it's over and done\\nWho learned the lesson when she broke my heart?\\nI was the one\",\n",
       " \"Away in a manger\\n\\nNo crib for a bed\\n\\nThe little Lord Jesus\\n\\nLay down his sweet head\\n\\nThe stars in the sky\\n\\nLook down where lay\\n\\nThe little Lord Jesus\\n\\nAsleep in the hay\\n\\n\\n\\nThe cattle are lowing\\n\\nThe poor baby wakes\\n\\nBut little Lord Jesus\\n\\nNo crying he makes\\n\\nI love thee Lord Jesus\\n\\nLook down from the sky\\n\\nAnd stay by my cradle\\n\\n'Til morning is nigh\\n\\n\\n\\nAway in a manger\\n\\nNo crib for a bed\\n\\nThe little Lord Jesus\\n\\nLay down his sweet head\\n\\nThe stars in the heavens\\n\\nLook down where he lay\\n\\nThe little Lord Jesus\\n\\nAsleep on the hay\\n\\n\\n\\nAway in a manger\\n\\nNo crib for a bed\\n\\nThe little Lord Jesus\\n\\nLay down his sweet head\\n\\nI love thee Lord Jesus\\n\\nLook down from the sky\\n\\nAnd stay by my cradle\\n\\n'Til morning is nigh\\n\\nStay by my cradle\\n\\n'Til morning is nigh\",\n",
       " \"Well, since my baby left me\\n\\nWell, I found a new place to dwell\\n\\nWell, it's down at the end of Lonely Street\\n\\nAt Heartbreak Hotel\\n\\n\\n\\nWell, I'll be\\n\\nI'll be so lonely baby\\n\\nWell, I'm so lonely\\n\\nI'll be so lonely, I could die\\n\\n\\n\\nOh, although it's always crowded\\n\\nYou still can find some room\\n\\nFor broken hearted lovers\\n\\nTo cry there in their gloom\\n\\n\\n\\nThey'll be so\\n\\nThey'll be so lonely, baby\\n\\nWell, they're so lonely\\n\\nThey're so lonely, they could die\\n\\n\\n\\nNow, the bell hop's tears keep flowin'\\n\\nAnd the desk clerk's dressed in black\\n\\nWell, they been so long on Lonely Street\\n\\nThey'll never ever look back\\n\\n\\n\\nAnd it's so\\n\\nWell, it's so lonely baby\\n\\nWell, they're so lonely\\n\\nWell, they're so lonely, they could've die\\n\\n\\n\\nWell, if your baby leaves you\\n\\nYou got a tale to tell\\n\\nWell, just take a walk down Lonely Street\\n\\nTo Heartbreak Hotel\\n\\n\\n\\nWhere you will be\\n\\nYou'll be so lonely, baby\\n\\nWell you'll be lonely\\n\\nYou'll be so lonely you could die\\n\\n\\n\\nOh, although it's always crowded\\n\\nYou still can find some room\\n\\nFor broken hearted lovers\\n\\nTo cry there in their gloom\\n\\n\\n\\nThey've been so\\n\\nThey're be so lonely, baby\\n\\nWell, they're so lonely\\n\\nThey'll be so lonely, they could die\",\n",
       " \"You know what it takes, \\n\\nYou've got it, baby. \\n\\nYou are the only one I chose. \\n\\nDon't leave me here with all these heartaches, \\n\\n \\n\\nOnly you and heaven knows \\n\\nAbout my troubles troubles troubles. \\n\\nWhen it rains, it really pours... \\n\\nYou shouldn't have took away my loving \\n\\n \\n\\nYou know you thrill me from head to toe. \\n\\nI got a feeling for you baby \\n\\nAnd you're the only one who knows \\n\\nAbout my troubles, troubles, troubles. \\n\\n \\n\\nWhen it rains, it really pours... \\n\\nYou know what you did to make me love you \\n\\nYou really opened up my nose. \\n\\nYou got what you wanted, now you left me. \\n\\n \\n\\nThat's the way the story goes. \\n\\nWell, I got troubles, troubles, troubles. \\n\\nWhen it rains, it really pours\",\n",
       " \"Oh, well, He's so high (so high you can't get over Him)\\n\\nSo wide (so wide you can't get around Him)\\n\\nSo low (so low you can't get under him)\\n\\nGreat God Almighty (you must come in at the door)\\n\\n\\n\\nLord, He is high (so high you can't get over Him)\\n\\nHe is wide (so wide you can't get around Him)\\n\\nI know he's so low (so low you can't get under him)\\n\\nA mighty lamb (you must come in at the door)\\n\\n\\n\\nWell I went down in the valley\\n\\nYou know I did over there stay\\n\\nMy soul got happy in the valley\\n\\nYou know I stayed right there all day\\n\\n\\n\\nHe is high (so high you can't get over Him)\\n\\nHe is wide (so wide you can't get around Him)\\n\\nI know he's so low (so low you can't get under him)\\n\\nA mighty lamb (you must come in at the door)\\n\\n\\n\\nWell I ain't been to heaven\\n\\nBut I, I am told\\n\\nThe streets, the streets are pearl\\n\\nYou know the mighty-mighty-mighty gates are gold\\n\\n\\n\\nHe is high (so high you can't get over Him)\\n\\nSo wide (so wide you can't get around Him)\\n\\nSo low (so low you can't get under him)\\n\\nGreat God Almighty (you must come in at the door)\\n\\n\\n\\nHe is high (so high you can't get over Him)\\n\\nHe is wide (so wide you can't get around Him)\\n\\nI know he's so low (so low you can't get under him)\\n\\nA mighty lamb (you must come in at the door)\\n\\n\\n\\nAnd He is high (so high you can't get over Him)\\n\\nSo wide (so wide you can't get around Him)\\n\\nI know He's so low (so low you can't get under him)\\n\\nA mighty lamb (you must come in at the door)\",\n",
       " \"Well, so long\\n\\nOh, how I hate to see you go\\n\\nYes, so long\\n\\nOh, how I hate to see you go\\n\\nWell, the way that I will miss you\\n\\nI guess you'll never know\\n\\n\\n\\nWe've been together so long\\n\\nTo have to separate this way\\n\\nWe've been together so long\\n\\nTo have to separate this way\\n\\nWell, I'm gonna let you go ahead on baby\\n\\nBut let you come back home some day\\n\\n\\n\\nPlay the blues boys, play the blues\\n\\nOne more time\\n\\n\\n\\nYou said you once had loved me\\n\\nBut now I guess you've changed your mind\\n\\nYou said you once had loved me\\n\\nBut now I guess you've changed your mind\\n\\nWhy don't you reconsider baby\\n\\nGive yourself just a little more time\",\n",
       " \"There's no joy in my heart, only sorrow\\n\\nAnd I'm sad as a man can be\\n\\nI sit alone in the darkness of my lonely room\\n\\nAnd this room is a prison to me\\n\\n\\n\\nI look at my window and what do I see?\\n\\n(I want to be free, I want to be free)\\n\\nI see a bird way up in a tree\\n\\n(I want to be free, I want to be free)\\n\\n\\n\\nI want to be free, free, free\\n\\n(Oh yes, oh yes)\\n\\nI want to be free like the bird in the tree\\n\\n(Want to be free)\\n\\n\\n\\nOh, what good are my eyes? They can't see you\\n\\nAnd my arms they can't hold you so tight\\n\\nI have two lips that are yearning, but they're no good to me\\n\\n'Cause I know I can't kiss you tonight\\n\\n\\n\\nI look at my window and what do I see?\\n\\n(I want to be free, I want to be free)\\n\\nI see a bird way up in a tree\\n\\n(I want to be free, I want to be free)\\n\\n\\n\\nI want to be free, free, free\\n\\n(Oh yes, oh yes)\\n\\nI want to be free like a bird in a tree\\n\\n(Want to be free)\\n\\nI want to be free like a bird in a tree\\n\\n(Want to be free)\",\n",
       " \"We call on Him whenever storm clouds gather\\n\\nWe call on Him to light our darkest day\\n\\nWhy must it be that only when we're lonely\\n\\nAnd hopes are dim, we call on Him\\n\\n\\n\\nWhy don't we call on Him before we lose our way\\n\\nTo count our blessings and thank Him while we may\\n\\n\\n\\nWe call on Him when no one else will answer\\n\\nWe ask of Him a reason to go on\\n\\nWhen our cup of joy becomes a cup of sorrow\\n\\nFilled to the brim, we call on Him\\n\\n\\n\\nWhy don't we call on Him before we lose our way\\n\\nTo count our blessings and thank Him while we may\",\n",
       " \"Well, I dated your big sister\\n\\nAnd took her to a show\\n\\nI went for some candy\\n\\nAlong came Jim Dandy\\n\\nAnd they snuck right out of the door\\n\\n\\n\\nEvery time I see your sister\\n\\nWell, she's got somebody new\\n\\nShe's mean and she's evil\\n\\nLike that old Boll Weevil\\n\\nGuess I'll try my luck with you\\n\\n\\n\\nWell, I used to pull your pigtails\\n\\nAnd pinch your turned-up nose\\n\\nBut you been a growin'\\n\\nAnd, baby, it's been showin'\\n\\nFrom your head down to your toes\\n\\n\\n\\nLittle sister, don't you...\\n\\nLittle sister, don't you...\\n\\nLittle sister, don't you kiss me once or twice\\n\\nThen say it's very nice\\n\\nAnd then you run\\n\\nLittle sister, don't you\\n\\nDo what your big sister done\",\n",
       " \"When the storms of life are raging\\n\\nStand by me\\n\\nWhen the storms of life are raging\\n\\nStand by me\\n\\nWhen the world is tossing me\\n\\nLike a ship out on the sea\\n\\nThou who rulest wind and water\\n\\nStand by me\\n\\n\\n\\nWhen I'm growing old and feeble\\n\\nStand by me\\n\\nWhen I'm growing old and feeble\\n\\nStand by me\\n\\nWhen I do the best I can\\n\\nAnd my friends misunderstand\\n\\nThou who never\\n\\nLost a battle\\n\\nStand by me\\n\\nThou who never lost a battle\\n\\nStand by me\",\n",
       " \"Are you lonesome tonight\\n\\nDo you miss me tonight?\\n\\nAre you sorry we drifted apart?\\n\\nDoes your memory stray to a brighter sunny day\\n\\nWhen I kissed you and called you sweetheart?\\n\\nDo the chairs in your parlor seem empty and bare?\\n\\nDo you gaze at your doorstep and picture me there?\\n\\nIs your heart filled with pain, shall I come back again?\\n\\nTell me dear, are you lonesome tonight?\\n\\n\\n\\nI wonder if you're lonesome tonight\\n\\nYou know someone said that the world's a stage\\n\\nAnd each must play a part\\n\\nFate had me playing in love you as my sweet heart\\n\\nAct one was when we met, I loved you at first glance\\n\\nYou read your line so cleverly and never missed a cue\\n\\nThen came act two, you seemed to change and you acted strange\\n\\nAnd why I'll never know\\n\\nHoney, you lied when you said you loved me\\n\\nAnd I had no cause to doubt you\\n\\nBut I'd rather go on hearing your lies\\n\\nThan go on living without you\\n\\nNow the stage is bare and I'm standing there\\n\\nWith emptiness all around\\n\\nAnd if you won't come back to me\\n\\nThen make them bring the curtain down\\n\\n\\n\\nIs your heart filled with pain, shall I come back again?\\n\\nTell me dear, are you lonesome tonight?\",\n",
       " \"Let the stars fade and fall\\n\\nAnd I won't care at all\\n\\nAs long as I have you\\n\\n\\n\\nEvery kiss brings a thrill\\n\\nAnd I know that it will\\n\\nAs long as I have you\\n\\n\\n\\nLet's think of the future\\n\\nForget the past\\n\\nYou're not my first love\\n\\nBut you're my last\\n\\n\\n\\nTake the love that I bring\\n\\nThen I'll have everything\\n\\nAs long as I have you\\n\\n\\n\\nLet's think of the future\\n\\nForget the past\\n\\nYou're not my first love\\n\\nBut you're my last\\n\\n\\n\\nTake the love that I bring\\n\\nThen I'll have everything\\n\\nAs long as I have you\\n\\nAs long, as long as I have you\",\n",
       " \"Back porch preacher preaching at me\\n\\nActing like he wrote the golden rules\\n\\nShaking his fist and speeching at me\\n\\nShouting from his soap box like a fool\\n\\nCome Sunday morning he's lying in bed\\n\\nWith his eye all red, with the wine in his head\\n\\nWishing he was dead when he oughta be \\n\\nHeading for Sunday school\\n\\nClean up your own backyard\\n\\nOh don't you hand me none of your lines\\n\\nClean up your own backyard\\n\\nYou tend to your business, I'll tend to mine\\n\\nDrugstore cowboy criticizing\\n\\nActing like he's better than you and me\\n\\nStanding on the sidewalk supervising\\n\\nTelling everybody how they ought to be\\n\\nCome closing time 'most every night\\n\\nHe locks up tight and out go the lights\\n\\nAnd he ducks out of sight and he cheats on his wife\\n\\nWith his employee\\n\\nClean up your own backyard\\n\\nOh don't you hand me none of your lines\\n\\nClean up your own backyard\\n\\nYou tend to your business, I'll tend to mine\\n\\nArmchair quarterback's always moanin'\\n\\nSecond guessing people all day long\\n\\nPushing, fooling and hanging on in\\n\\nAlways messing where they don't belong\\n\\nWhen you get right down to the nitty-gritty\\n\\nIsn't it a pity that in this big city \\n\\nNot a one a'little bitty man'll admit\\n\\nHe could have been a little bit wrong\\n\\nClean up your own backyard\\n\\nOh don't you hand me, don't you hand me none of your lines\\n\\nClean up your own backyard\\n\\nYou tend to your business, I'll tend to mine\\n\\nClean up your own backyard\\n\\nYou tend to your business, I'll tend to mine\\n\\n\",\n",
       " \"Wise men say only fools rush in\\n\\nBut I can't help falling in love with you\\n\\nShall I stay?\\n\\nWould it be a sin\\n\\nIf I can't help falling in love with you?\\n\\n\\n\\nLike a river flows surely to the sea\\n\\nDarling so it goes\\n\\nSome things are meant to be\\n\\nTake my hand, take my whole life too\\n\\nFor I can't help falling in love with you\\n\\n\\n\\nLike a river flows surely to the sea\\n\\nDarling so it goes\\n\\nSome things are meant to be\\n\\nTake my hand, take my whole life too\\n\\nFor I can't help falling in love with you\\n\\nFor I can't help falling in love with you\",\n",
       " \"You saw me crying in the chapel\\n\\nThe tears I shed were tears of joy\\n\\nI know the meaning of contentment\\n\\nI am happy with the Lord\\n\\n\\n\\nJust a plain and simple chapel\\n\\nWhere all good people go to pray\\n\\nI prayed the Lord that I'll grow stronger\\n\\nAs I live from day to day\\n\\n\\n\\nI searched and I searched but I couldn't find\\n\\nNo way on earth to find peace of mind\\n\\n\\n\\nNow I'm happy in the chapel\\n\\nWhere people are of one accord\\n\\nYes, we gather in the chapel\\n\\nJust to sing and praise the Lord\\n\\n\\n\\nYou'll search and you'll search but you'll never find\\n\\nNo way on earth to find peace of mind\\n\\n\\n\\nTake your troubles to the chapel\\n\\nGet down on your knees and pray\\n\\nThen your burdens will be lighter\\n\\nAnd you'll surely find a way\",\n",
       " \"Ready, set, go man go,\\n\\nI got a girl that I love so,\\n\\n\\n\\nI'm ready, ready, ready teddy,\\n\\nI'm ready, ready, ready teddy,\\n\\nI'm ready, ready, ready teddy,\\n\\nI'm ready, ready, ready to a rock 'n' roll.\\n\\n\\n\\nGoing to the corner, pick up my sweetie pie,\\n\\nShe's my rock 'n' roll baby, she's the apple of my eye,\\n\\n\\n\\nI'm ready, ready, ready teddy,\\n\\nI'm ready, ready, ready teddy,\\n\\nI'm ready, ready, ready teddy,\\n\\nI'm ready, ready, ready to a rock 'n' roll.\\n\\n\\n\\nAll the flat top cats and the dungaree dolls,\\n\\nAre headed for the gym to the sock hop ball,\\n\\nThe joint is really jumpin', the cats are going wild,\\n\\nThe music really sends me, I dig that crazy style,\\n\\n\\n\\nI'm ready, ready, ready teddy,\\n\\nI'm ready, ready, ready teddy,\\n\\nI'm ready, ready, ready teddy,\\n\\nI'm ready, ready, ready to a rock 'n' roll.\\n\\n\\n\\nGoing to the corner, pick up my sweetie pie,\\n\\nShe's my rock 'n' roll baby, she's the apple of my eye,\\n\\n\\n\\nI'm ready, ready, ready teddy,\\n\\nI'm ready, ready, ready teddy,\\n\\nI'm ready, ready, ready teddy,\\n\\nI'm ready, ready, ready to a rock 'n' roll.\\n\\n\\n\\nAll the flat top cats and the dungaree dolls,\\n\\nAre headed for the gym to the sock hop ball,\\n\\nThe joint is really jumpin', the cats are going wild,\\n\\nThe music really sends me, I dig that crazy style,\\n\\n\\n\\nI'm ready, ready, ready teddy,\\n\\nI'm ready, ready, ready teddy,\\n\\nI'm ready, ready, ready teddy,\\n\\nI'm ready, ready, ready to a rock 'n' roll.\\n\\n\\n\\nGonna kick off my shoes, roll up my faded jeans,\\n\\nGrab my rock 'n' roll baby, pour on the steam,\\n\\nI shuffle to the left, I shuffle to the right,\\n\\nGonna rock 'n' roll to the early, early night,\\n\\n\\n\\nI'm ready, ready, ready teddy,\\n\\nI'm ready, ready, ready teddy,\\n\\nI'm ready, ready, ready teddy,\\n\\nI'm ready, ready, ready to a rock 'n' roll.\",\n",
       " \"We're caught in a trap\\n\\nI can't walk out\\n\\nBecause I love you too much baby\\n\\n\\n\\nWhy can't you see\\n\\nWhat you're doing to me\\n\\nWhen you don't believe a word I say?\\n\\n\\n\\nWe can't go on together\\n\\nWith suspicious minds (suspicious minds)\\n\\nAnd we can't build our dreams\\n\\nOn suspicious minds\\n\\n\\n\\nSo, if an old friend I know\\n\\nStops by to say hello\\n\\nWould I still see suspicion in your eyes?\\n\\n\\n\\nHere we go again\\n\\nAsking where I've been\\n\\nYou can't see the tears are real\\n\\nI'm crying (Yes I'm crying)\\n\\n\\n\\nWe can't go on together\\n\\nWith suspicious minds (suspicious minds)\\n\\nAnd be can't build our dreams\\n\\nOn suspicious minds\\n\\n\\n\\nOh let our love survive\\n\\nOr dry the tears from your eyes\\n\\nLet's don't let a good thing die\\n\\nWhen honey, you know\\n\\nI've never lied to you\\n\\nMmm yeah, yeah\\n\\n\\n\\nWe're caught in a trap\\n\\nI can't walk out\\n\\nBecause I love you too much baby\\n\\n\\n\\nWhy can't you see\\n\\nWhat you're doing to me\\n\\nWhen you don't believe a word I say?\\n\\n\\n\\nDon't you know I'm caught in a trap\\n\\nI can't walk out\\n\\nBecause I love you too much baby\\n\\n\\n\\nDon't you know I'm caught in a trap\\n\\nI can't walk out\\n\\nBecause I love you too much baby\",\n",
       " \"You don't like crazy music\\nYou don't like rockin' bands\\nYou just wanna go to a movie show\\nAnd sit there holdin' hands\\n\\nYou're so square, baby, I don't care\\n\\nYou don't like hotrod racin'\\nOr drivin' late at night\\nYou just wanna park where it's nice and dark\\nYou just wanna hold me tight\\n\\nYou're so square, baby, I don't care\\n\\nYou don't know any dance steps that are new\\nNo one else could love me like you do, do, do, do\\n\\nI don't know why my heart flips\\nI only know it does\\nI wonder why I love you, baby\\nI guess it's just because\\n\\nYou're so square, baby, I don't care\\nBaby, I don't care, baby, I don't care\\nBaby, I don't care\\n\\nI don't know why my heart flips\\nI only know it does\\nI wonder why I love you, baby\\nI guess it's just because\\n\\nYou're so square, baby, I don't care\\nBaby, I don't care, baby, I don't care\\nCare, care, I don't care, care, care\\n\",\n",
       " \"Oh, rock of ages, hide thou me\\n\\nThere is no other refuge\\n\\nCan save but thee\\n\\nThrough this old world\\n\\nI've wandered so far, far from thee\\n\\n\\n\\nThen I cry\\n\\nOoh, rock of ages\\n\\nHide thou me\\n\\nHide thou me\",\n",
       " \"Return to sender, return to sender\\n\\n\\n\\nI gave a letter to the postman, he put it his sack\\n\\nBright in early next morning, he brought my letter back\\n\\n\\n\\nShe wrote upon it\\n\\nReturn to sender, address unknown\\n\\nNo such number, no such zone\\n\\n\\n\\nWe had a quarrel, a lover's spat\\n\\nI write I'm sorry but my letter keeps coming back\\n\\n\\n\\nSo then I dropped it in the mailbox and sent it special D\\n\\nBright in early next morning it came right back to me\\n\\n\\n\\nShe wrote upon it\\n\\nReturn to sender, address unknown\\n\\nNo such person, no such zone\\n\\n\\n\\nThis time I'm gonna take it myself and put it right in her hand\\n\\nAnd if it comes back the very next day then I'll understand\\n\\n\\n\\nThe writing on it\\n\\nReturn to sender, address unknown\\n\\nNo such number, no such zone\\n\\n\\n\\nReturn to sender, return to sender\\n\\nReturn to sender, return to sender\",\n",
       " \"\\n\\nEv'ry time I faced the world, \\n\\nI just had to cry.\\n\\nI stood alone with no love of my own,\\n\\nBut then you happened by,\\n\\nOh darlin', Bless You,\\n\\nBless ev'ry breath that you take,\\n\\nBless ev'ry move that you make so perfectly,\\n\\nAnd bless your little heart for lovin' me,\\n\\nUuh, Bless You, Bless you, child!\\n\\nTill you smiled and took my hand,\\n\\nI felt kinda small,\\n\\nBut you stood by me for the whole world to see,\\n\\nAnd then I was ten feet tall,\\n\\nOh darlin', Bless You, Bless ev'ry breath that you take, \\n\\nBless ev'ry move that you make so perfectly, \\n\\nAnd bless your little heart for lovin' me.\\n\\n \\n\\nEv'ry time I faced the world, \\n\\nI just had to cry.\\n\\nI stood alone with no love of my own,\\n\\nBut then you happened by,\\n\\nOh darlin', Bless You,\\n\\nBless ev'ry breath that you take,\\n\\nBless ev'ry move that you make so perfectly,\\n\\nAnd bless your little heart for lovin' me,\\n\\nUuh, Bless You, Bless you, child!\\n\\nTill you smiled and took my hand,\\n\\nI felt kinda small,\\n\\nBut you stood by me for the whole world to see,\\n\\nAnd then I was ten feet tall,\\n\\nOh darlin', Bless You, Bless ev'ry breath that you take, \\n\\nBless ev'ry move that you make so perfectly, \\n\\n \\n\\n\\n\\n\",\n",
       " 'Oh Lord my God\\n\\nWhen I in awesome wonder\\n\\nConsider all\\n\\nThe worlds thy hands have made\\n\\nI see the stars\\n\\nI hear the rolling thunder\\n\\nThy power throughout\\n\\nThe universe displayed\\n\\n\\n\\nWhen Christ shall come\\n\\nWith a shout of acclamation\\n\\nAnd take me home\\n\\nWhat joy shall fill my heart\\n\\nThen I shall bow\\n\\nIn humble adoration\\n\\nAnd there proclaim\\n\\nMy God, how great thou art\\n\\n\\n\\nThen sings my soul\\n\\nMy savior God to thee (my God to thee)\\n\\nHow great thou art (how great thou art)\\n\\nHow great thou art (how great thou art)\\n\\nThen sings my soul\\n\\nMy savior God to thee (my God to thee)\\n\\nHow great thou art\\n\\n(How great thou art)\\n\\n\\n\\nHow great thou art\\n\\n(How great thou art)\\n\\nHow great thou art (how great thou art)',\n",
       " \"I'll go on loving you (loving you)\\n\\nDon't ask me why (don't ask me why)\\n\\nDon't know what else to do \\n\\nDon't ask me why\\n\\n\\n\\nHow sad my heart would be (heart would be)\\n\\nIf you should go (if you should go)\\n\\nThough you're not good for me \\n\\nI want you so\\n\\n\\n\\nIt's not the kind\\n\\nOf love I dream about\\n\\nBut it's the kind\\n\\nThat I can't live without\\n\\n\\n\\nYou're all I'm longing for (longing for)\\n\\nDon't say goodbye (don't say goodbye)\\n\\nI need you more and more \\n\\nDon't ask me why\\n\\nI need you more and more\\n\\nDon't ask me why (don't ask me why)\",\n",
       " \"Young as a circus parade, it's a wonderful world\\nPretty as pink lemonade, it's a wonderful world\\nLife is a carnival, live it for all your worth\\nYou are the star of the greatest show on earth\\n\\nThis big wide world is a clown with his nose painted red\\nA rainbow colored balloon's dancing high overhead\\nIt's everyone's oyster, step up get your pearl\\nIt's a wonderful, wonderful, wonderful, wonderful world\\n\\nThis big wide world is a clown with his nose painted red\\nA rainbow colored balloon's dancing high overhead\\nIt's everyone's oyster, step up get your pearl\\nIt's a wonderful, wonderful, wonderful, wonderful world\\nIt's a wonderful, wonderful, wonderful, wonderful world\\n\\n\",\n",
       " \"Please don't stop loving me\\n\\nYou were born just to be in my arms\\n\\nIn my arms\\n\\nPlease don't stop loving me\\n\\nYour lips were made just to be kissed by me\\n\\nKissed by me\\n\\n\\n\\nWhen I'm with you\\n\\nI don't know day from night, wrong from right\\n\\nYou are my world, that's all I know\\n\\nI love you so, I won't let go\\n\\n\\n\\nPlease don't stop loving me\\n\\nDarling you'll always be mine alone\\n\\nMine alone\",\n",
       " \"Well, it's one for the money\\n\\nTwo for the show\\n\\nThree to get ready\\n\\nNow go, cat, go\\n\\n\\n\\nBut don't you\\n\\nStep on my blue suede shoes\\n\\nWell you can do anything\\n\\nBut stay off of my blue suede shoes\\n\\n\\n\\nWell, you can knock me down\\n\\nStep in my face\\n\\nSlander my name all over the place\\n\\nWell do anything that you want to do\\n\\nBut uh-uh, honey lay off of them shoes\\n\\n\\n\\nAnd don't you step on my blue suede shoes\\n\\nWell, you can do anything\\n\\nBut stay off of my blue suede shoes\\n\\n\\n\\nLet's go, cat!\\n\\nAh, walk the dog\\n\\n\\n\\nYou can burn my house\\n\\nSteal my car\\n\\nDrink my liquor\\n\\nFrom an old fruit jar\\n\\nWell do anything that you want to do\\n\\nBut uh-uh, honey lay off of my shoes\\n\\n\\n\\nAnd don't you\\n\\nStep on my blue suede shoes\\n\\nWell, you can do anything\\n\\nBut stay off of my blue suede shoes\\n\\n\\n\\nRock it\\n\\nYeah\\n\\n\\n\\nWell, it's one for the money\\n\\nTwo for the show\\n\\nThree to get ready\\n\\nNow go, go, go!\\n\\n\\n\\nBut don't you\\n\\nStep on my blue suede shoes\\n\\nWell, you can do anything\\n\\nBut stay off of my blue suede shoes\\n\\n\\n\\nWell, it's\\n\\nBlue, blue\\n\\nBlue suede shoes\\n\\nBlue, blue\\n\\nBlue suede shoes, yeah!\\n\\nBlue, blue\\n\\nBlue, suede shoes, baby\\n\\nBlue, blue\\n\\nBlue suede shoes\\n\\nWell, you can do anything\\n\\nBut stay off of my blue suede shoes\",\n",
       " \"Shackled by a heavy burden\\n\\nNeed the Lord of gift and shame\\n\\nThen the hand of Jesus touched me\\n\\nAnd now I am no longer the same\\n\\n\\n\\nFor He touched me\\n\\nOh, He touched me\\n\\nAnd oh, what joy\\n\\nThat floods my soul\\n\\nSomething happened\\n\\nAnd now I know\\n\\nHe touched me and made me whole\\n\\n\\n\\nOh, since I met this blessed Savior\\n\\nAnd since he cleaned and me me whole\\n\\nOh, I will never cease\\n\\nNever cease to prise Him\\n\\nI'll shout it while eternity rolls\\n\\n\\n\\nFor He touched me\\n\\nOh, He touched me (He touched me)\\n\\nAnd oh, what a joy that floods my soul\\n\\nSomething happened\\n\\nAnd now I know\\n\\nHe touched me \\n\\nAnd made me, oh\\n\\nHe touched me and made me whole\",\n",
       " 'You know, the landlord rang my front door bell\\n\\nI let it ring for a long, long spell\\n\\nI looked through the window, I peeked through the blind,\\n\\nAnd asked him to tell me what was on his mind.\\n\\nHe said, \"Money, honey!\\n\\nMoney, honey!\\n\\nMoney, honey,\\n\\nIf you want to get along with me.\"\\n\\n\\n\\nI was cleaned and skinned and so hard-pressed\\n\\nI called the woman that I love the best\\n\\nI finally reached my baby \\'bout a half past three\\n\\nShe said, \"I\\'d like to know what you want with me.\"\\n\\nI said, \"Money, honey!\\n\\nMoney, honey!\\n\\nMoney, honey,\\n\\nIf you want to get along with me.\"\\n\\n\\n\\nShe screamed and said, \"What\\'s wrong with you?\\n\\nFrom this day on, our romance is through.\"\\n\\nI said, \"Tell me, baby, face to face\\n\\nA-how could another man take my place?\"\\n\\nShe said, \"Money, honey!\\n\\nMoney, honey!\\n\\nMoney, honey,\\n\\nIf you want to get along with me.\"\\n\\n\\n\\nWell, I learned my lesson and now I know\\n\\nThe sun may shine and the wind may blow\\n\\nWomen may come, and the women may go,\\n\\nBut before I say I love \\'em so,\\n\\nI want-- money, honey!\\n\\nMoney, honey!\\n\\nMoney, honey,\\n\\nIf you want to get along with me.\\n\\n(If you want to get along) Well, make some money\\n\\n(If you want to get along) Well, I ain\\'t jivin\\' you, honey\\n\\n(If you want to get along) You better give up some money\\n\\nIf you want to get along with me.',\n",
       " \"Yes my baby left me, \\n\\nNever said a word.\\n\\nWas it something I done, \\n\\nSomething that she heard?\\n\\nMy baby left me,\\n\\nMy baby left me.\\n\\nMy baby even left me,\\n\\nNever said a word.\\n\\nNow I stand at my window,\\n\\nWring my hands and cry.\\n\\nI hate to lose that woman,\\n\\nHate to say goodbye.\\n\\nYou know she left me,\\n\\nYes, she left me.\\n\\nMy baby even left me,\\n\\nNever said a word.\\n\\nBaby, one of these mornings,\\n\\nLord, it won't be long,\\n\\nYou'll look for me and,\\n\\nBaby, and daddy he'll be gone.\\n\\nYou know you left me,\\n\\nYou know you left me.\\n\\nMy baby even left me,\\n\\nNever said a word.\\n\\nNow, I stand at my window,\\n\\nWring my hands and moan.\\n\\nAll I know is that \\n\\nThe one I love is gone.\\n\\nMy baby left me, \\n\\nYou know she left me.\\n\\nMy baby even left me,\\n\\nNever said a word.\",\n",
       " \"King Creole\\n\\nThere's a man in New Orleans\\n\\nWho plays rock and roll\\n\\nHe's a guitar man\\n\\nWith a great big soul\\n\\nHe lays down a beat\\n\\nLike a ton of coal\\n\\nHe goes by the name of King Creole\\n\\n\\n\\nYou know he's gone, gone, gone\\n\\nJumpin' like a catfish on a pole\\n\\nYou know he's gone, gone, gone\\n\\nHip-shaking King Creole\\n\\n\\n\\nWhen the king starts to do it\\n\\nIt's as good as done\\n\\nHe holds his guitar\\n\\nlike a Tommy gun\\n\\nHe starts to growl\\n\\nFrom way down his throat\\n\\nHe bends a string\\n\\nAnd that's all she wrote\\n\\n\\n\\nYou know he's gone, gone, gone\\n\\nJumpin' like a catfish on a pole\\n\\nYou know he's gone, gone, gone\\n\\nHip-shaking King Creole\\n\\n\\n\\nWell, he sings a song about a crawdad hole\\n\\nHe sings a song about a jelly roll\\n\\nHe sings a song about meat and greens\\n\\nHe sings some blues about New Orleans\\n\\n\\n\\nYou know he's gone, gone, gone\\n\\nJumpin' like a catfish on a pole\\n\\nYou know he's gone, gone, gone\\n\\nHip-shaking King Creole\\n\\n\\n\\nWell, he plays something evil\\n\\nThen he plays something sweet\\n\\nNo matter what he plays\\n\\nYou got to get up on your feet\\n\\n\\n\\nWhen he gets the rockin' fever\\n\\nBaby, heaven sakes\\n\\nHe don't stop playin'\\n\\n'Till his guitar breaks\\n\\n\\n\\nYou know he's gone, gone, gone\\n\\nJumpin' like a catfish on a pole\\n\\nYou know he's gone, gone, gone\\n\\nHip-shaking King Creole\\n\\n\\n\\nYou know he's gone, gone, gone\\n\\nHip-shaking King Creole\",\n",
       " \"If you find your sweetheart in the arms of a friend\\n\\nThat's when your heartaches begin\\n\\nWhen dreams of a lifetime must come to an end\\n\\nThat's when your heartaches begin\\n\\n\\n\\nLove is a thing you'd never can share\\n\\nWhen you bring a friend into your love affair\\n\\nThat's the end of your sweetheart\\n\\nThat's the end of your friend\\n\\nThat's when your heartaches begin\\n\\n\\n\\nIf you find your sweetheart\\n\\nIn the arms of your best friend, your brother\\n\\nThat's, that's when your heartaches begin\\n\\n\\n\\nAnd you know when all your dreams\\n\\nWhen all your dreams of a lifetime\\n\\nMust, must all come to an end\\n\\nYeah, that's, that's when your heartaches begin\\n\\n\\n\\nOh, you see love is a thing \\n\\nThat you never can share\\n\\nAnd you know when you bring a friend\\n\\nInto your love affair\\n\\n\\n\\nThat's the end of your sweetheart\\n\\nThat's the end of your friend\\n\\nWell, that's when your heartaches begin\",\n",
       " \"Lover doll, oh lover doll\\n\\nLover doll, lover doll\\n\\nYou're the cutest lover doll\\n\\nThat I ever did ever see\\n\\nLet me tell you lover doll\\n\\nYou were meant, just meant for me\\n\\n\\n\\nOn the first time that I saw you\\n\\nHow I fell for your cuddly charms\\n\\nLover doll I'm crazy for you\\n\\nLet me rock you in my arms\\n\\n\\n\\nI'm so glad I found you\\n\\nNever thought dollies came full grown\\n\\nI'm gonna tie a ribbon around you\\n\\nWrap you up and take you home\\n\\n\\n\\nI would never treat you badly\\n\\nLike a cast away broken toy\\n\\nLover doll I love you madly\\n\\nLet me be your lover boy\\n\\n\\n\\nI'm so glad I found you\\n\\nNever thought dollies came full grown\\n\\nI'm gonna tie a ribbon around you\\n\\nWrap you up and take you home\\n\\n\\n\\nI would never treat you badly\\n\\nLike a cast away broken toy\\n\\nLover doll I love you madly\\n\\nLet me be your lover boy\\n\\n\\n\\nLover doll, lover doll\\n\\nLover doll, lover doll\\n\\nLover doll, lover doll\\n\\nLet me be your lover boy\\n\\n\\n\\nLover doll, lover doll\\n\\nLover doll, lover doll\\n\\nLover doll, lover doll\\n\\nLet me be your lover boy\\n\\nLet me be your lover boy\\n\\nLet me be your lover boy\",\n",
       " \"When her motor's warm, and she's purrin' sweet\\n\\nBuddy let me warn ya', you're on a one-way street\\n\\nShe'll crowd ya' close, spin your wheels\\n\\nThen you're gonna know how it feels\\n\\n\\n\\nTo spinout..spinout\\n\\nBetter watch those curves, never let her steer\\n\\nIf she can shake your nerves..boy\\n\\nShe can strip your gears\\n\\n\\n\\nShe'll get your heart, goin' fast\\n\\nThen she'll let you run out of gas\\n\\nSo spinout...spinout\\n\\nThe road to love is full of, danger signs\\n\\n\\n\\nToo many guys were lost\\n\\nWho crossed those double lines\\n\\nDoncha know she's out to prove, she can really score\\n\\nNever saw parts move, boy\\n\\n\\n\\nLike that before\\n\\nTo flag you down, that's her goal\\n\\nScoot before you lose control\\n\\nAnd spinout... spinout!!\",\n",
       " \"From the sun years of the Fifties and the birth of rock and roll\\n\\nMillions screamed to see him do his thing\\n\\nElvis touched the life of every ear that heard him\\n\\nAnd they couldn't help but listen when he sang\\n\\n\\n\\nIt's a long way from Memphis to that mansion in the sky\\n\\nBut he kept his faith in Jesus all along\\n\\nIt's a long way from Graceland across Jordan to the Promised Land\\n\\nBut Jesus finally came to lead him home\",\n",
       " \"When no one else can understand me\\n\\nWhen everything I do is wrong\\n\\nYou give me hope and consolation\\n\\nYou give me strength to carry on\\n\\n\\n\\nAnd you're always there\\n\\nTo lend a hand in everything I do\\n\\nThat's the wonder, the wonder of you\\n\\n(Wonder of you)\\n\\n\\n\\nAnd when you smile, the world is brighter\\n\\nYou touch my hand and I'm a king\\n\\nYour kiss to me is worth a fortune\\n\\nYour love for me is everything\\n\\n\\n\\nI guess I'll never know\\n\\nThe reason why you love me like you do\\n\\nThat's the wonder, the wonder of you\\n\\n\\n\\nI guess I'll never know\\n\\nThe reason why you love me as you do\\n\\nThat's the wonder, the wonder of you\",\n",
       " \"Holy smoke\\n\\nA land sakes alive\\n\\nI never thought this could happen to me\\n\\n\\n\\nMm, yeah\\n\\nMm, yeah\\n\\n\\n\\nI got stung by a sweet honey bee\\n\\nOh, what a feeling come over me\\n\\nIt started in my eyes\\n\\nCrept up to my head\\n\\nFlew to my heart\\n\\nTill I was stung dead\\n\\nI'm done, uh-uh\\n\\nI got stung!\\n\\n\\n\\nMm, yeah\\n\\nMm, yeah\\n\\n\\n\\nShe had all that I wanted and more\\n\\nAnd I've seen honey bees before\\n\\nShe started buzzin' in my ear\\n\\nBuzzin' in my brain\\n\\nGot stung all over\\n\\nBut I feel no pain\\n\\nI'm done, uh-uh\\n\\nI got stung!\\n\\n\\n\\nNow, don't think I'm complainin'\\n\\nI'm might be pleased we met\\n\\n'Cause you give me \\n\\nOne little peck on the back of my neck\\n\\nAnd I break out in a cold cold sweat\\n\\nBut if I live to a hundred and two\\n\\nI won't let nobody sting me but you\\n\\nI'll be buzzin' 'round your hive, ev'ry day at five\\n\\nAnd I'm never gonna leave once I arrive\\n\\n'Cause I'm done\\n\\nUh-uh, I got stung!\\n\\n\\n\\nMm, yeah\\n\\nMm, yeah\\n\\n\\n\\nAnd I don't think I'm complainin'\\n\\nI'm might be pleased we met\\n\\n'Cause you give me \\n\\nOne little peck on the back of my neck\\n\\nAnd I break out in a cold cold sweat\\n\\nBut if I live to a hundred and two\\n\\nI won't let nobody sting me but you\\n\\nI'll be buzzin' 'round your hive, ev'ry day at five\\n\\nAnd I'm never gonna leave once I arrive\\n\\n'Cause I'm done\\n\\nUh-uh, I got stung!\\n\\n\\n\\nMm, yeah\\n\\nMm, yeah\\n\\nMm, yeah\\n\\nMm, yeah\",\n",
       " 'When I was a lad\\n\\nAnd old Shep was a pup\\n\\nOver hills and meadows we\\'d stray\\n\\nJust a boy and his dog\\n\\nWe were both full of fun\\n\\nWe grew up together that way\\n\\n\\n\\nI remember the time at the old swimmin\\' hole\\n\\nWhen I would have drowned beyond doubt\\n\\nBut old Shep was right there\\n\\nTo the rescue he came\\n\\nHe jumped in and then pulled me out\\n\\n\\n\\nAs the years fast did roll\\n\\nOld Shep, he grew old\\n\\nHis eyes were fast growing dim\\n\\nAnd one day the doctor looked at me and said\\n\\n\"I can do no more for him, Jim\"\\n\\n\\n\\nWith hands that were trembling\\n\\nI picked up my gun\\n\\nAnd aimed it at Shep\\'s faithful head\\n\\nI just couldn\\'t do it, I wanted to run\\n\\nI wish they would shoot me instead\\n\\n\\n\\nHe came to my side and looked up at me\\n\\nAnd laid his old head on my knee\\n\\nI had struck the best friend a man ever had\\n\\nI cried so I scarcely could see\\n\\n\\n\\nOld Shep, he has gone where the good doggies go\\n\\nAnd no more with old Shep will I roam\\n\\nBut if dogs have a heaven there\\'s one thing I know\\n\\nOld Shep has a wonderful home',\n",
       " \"Look out now--I'm runnin' wild\\n\\nThere ain't no holding back this child\\n\\nI guess you'd say I'm a son of a gun\\n\\nLivin' just for a life of fun\\n\\n\\n\\nHere's the secret of my success\\n\\nNever say yes, no; no, never say yes\\n\\n\\n\\nLife has taught me one big lesson\\n\\nAlways keep the girls guessin'\\n\\nTell 'em that you love them so\\n\\nYou hate to leave, but you gotta go\\n\\n\\n\\nThat's the secret of my success\\n\\nNever say yes, no; no, never say yes\\n\\n\\n\\nIt's the oldest game in the world\\n\\nAnd you gotta know how to play it\\n\\nTell her yes in so many ways\\n\\nBut never ever say it\\n\\n\\n\\nAnd that's how I keep goin' on\\n\\nHere today, tomorrow gone\\n\\nThat's the kind of life for me\\n\\nBeing free like I wanna to be\\n\\n\\n\\nHere's the secret of my success\\n\\nNever say yes, no; no, never say yes\\n\\n\\n\\nIt's the oldest game in the world\\n\\nAnd you gotta know how to play it\\n\\nTell her yes in so many ways\\n\\nBut never ever say it\\n\\n\\n\\nNow that's how I keep goin' on\\n\\nHere today, tomorrow gone\\n\\nAnd that's the kind of life for me\\n\\nBeing free like I wanna to be\\n\\n\\n\\nHere's the secret of my success\\n\\nNever say yes, no; no, never say yes\\n\\nNo, no, never say yes\",\n",
       " \"Honey, I love you too much\\n\\nNeed your lovin' too much\\n\\nWant the thrill of your touch\\n\\nGee, I can't hold you too much\\n\\nYou do all the livin'\\n\\nWhile I do all the givin'\\n\\nCause I love you too much\\n\\n\\n\\nYou spend all my money too much\\n\\nHave to share you honey, too much\\n\\nWhen I want some lovin', you're gone\\n\\nDon't you know you're treatin' me wrong\\n\\nNow you got me started\\n\\nDon't you leave me broken hearted\\n\\nCause I love you too much\\n\\n\\n\\nEv'ry time I kiss your sweet lips\\n\\nI can feel my heart go flip flip\\n\\nI'm such a fool for your charms\\n\\nLike to hear you sighin'\\n\\nEven though I know you're lyin'\\n\\nCause I love you too much\\n\\n\\n\\nNeed your lovin' all the time\\n\\nNeed you huggin', please be mine\\n\\nNeed you near me, stay real close\\n\\nPlease, please, hear me, you're the most\\n\\nNow you got me started\\n\\nDon't you leave me broken hearted\\n\\nCause I love you too much\",\n",
       " \"Ho, jump down, spin around; let's have a party\\n\\nLook who's back: Stay Away Joe\\n\\nChoctaw, Chickasaw, gonna drink me hearty\\n\\nWelcome back, Stay Away Joe\\n\\n\\n\\nStay Away Joe they call me\\n\\nStay Away Joe, oh yeah\\n\\nBut if you need me, call me\\n\\nHoot and a holler and I'll be there\\n\\nHo\\n\\n\\n\\nWho keeps turnin' up like a bad penny?\\n\\nTake one guess: Stay Away Joe\\n\\nAlways findin' trouble a-plenty\\n\\nOh my, yes, I reckon you know\\n\\n\\n\\nStay Away Joe they call me\\n\\nStay Away Joe, oh yeah\\n\\nBut if you need me, call me\\n\\nHoot and a holler and I'll be there\\n\\nHo\\n\\n\\n\\nWhen two lips are right for the pickin'\\n\\nWho crops up? Stay Away Joe\\n\\nI love them and leave them screamin' and kickin'\\n\\nGiddy up, look at him, look at him go\\n\\n\\n\\nStay Away Joe they call me\\n\\nStay Away Joe, oh yeah\\n\\nBut if you need me, call me\\n\\nHoot and a holler and I'll be there\\n\\nHey\",\n",
       " \"Follow that dream, I gotta follow that dream\\n\\nKeep a-movin, move along, keep a moving\\n\\nI've gotta follow that dream wherever that dream may lead\\n\\nI gotta follow that dream to find the love I need\\n\\n\\n\\nWhen your heart gets restless, time to move along\\n\\nWhen your heart gets weary, time to sing a song\\n\\nBut when a dream is calling you\\n\\nThere's just one thing that you can do\\n\\n\\n\\nWell, you gotta follow that dream wherever that dream may lead\\n\\nYou gotta follow that dream to find the love you need\\n\\n\\n\\nKeep a-movin, move along, keep a moving\\n\\nGotta find me someone whose heart is free\\n\\nSomeone to look for my dream with me\\n\\nAnd when I find her I may find out\\n\\nJust what my dreams are all about\\n\\n\\n\\nI've gotta follow that dream wherever that dream may lead\\n\\nI gotta follow that dream to find the love I need\\n\\nI've gotta follow that dream wherever that dream may lead\\n\\nI gotta follow that dream to find the love I need\\n\\n\\n\\nKeep a-movin, move along\\n\\nKeep a-movin, move along\\n\\nKeep a-movin, move along\",\n",
       " \"Some guys fall in love with one girl, I gotta fall for two\\n\\nThere's just so much loving that one heart's supposed to do\\n\\nSo I go around with my heart dragging on the ground\\n\\nDogging me around, I'm the sorriest sight in town\\n\\n\\n\\n[Chorus]\\n\\nI got double trouble, I got double trouble\\n\\nI got double trouble twice as much as anybody else oh yeah!\\n\\n\\n\\nI guess there's gotta be two dark clouds hanging over me\\n\\nMy future looks a bumpy as a matchbox on the sea\\n\\nEvery time I think that I have finally got it made\\n\\nSome losing cards are played, I just can't make the grade\\n\\n\\n\\n[Chorus: x2]\",\n",
       " \"One night with you\\n\\nIs what I'm now praying for\\n\\nThe things that we two could plan\\n\\nWould make my dreams come true\\n\\n\\n\\nJust call my name\\n\\nAnd I'll be right by your side\\n\\nI want your sweet helping hand\\n\\nMy loves too strong to hide\\n\\n\\n\\nAlways lived, very quiet life\\n\\nI ain't never did no wrong\\n\\nNow I know that life without you\\n\\nHas been too lonely too long\\n\\n\\n\\nOne night with you\\n\\nIs what I'm now praying for\\n\\nThe things that we two could plan\\n\\nWould make my dreams come true\\n\\n\\n\\nAlways lived, very quiet life\\n\\nI ain't never did no wrong\\n\\nNow I know that life without you\\n\\nHas been too lonely too long\\n\\n\\n\\nOne night with you\\n\\nIs what I'm now praying for\\n\\nThe things that we two could plan\\n\\nWould make my dreams come true\",\n",
       " \"Mona lisa, mona lisa, man have named you\\n\\nYou're so like the lady with the mystic smile\\n\\nIs it only 'cause you're lonely man have blamed you\\n\\nFor that mona lisa strangeness in your smile\\n\\nDo you smile to tempt a lover mona lisa\\n\\nOr is it your way to hide a broken heart\\n\\n\\n\\nMany dreams have been brought to your doorstep\\n\\nThey just lie there and they die there\\n\\nAre you warm, are you real mona lisa\\n\\nOr just a cold and lonely lovely work of art\\n\\n\\n\\nLa la la la......\\n\\nFor that mona lisa strangeness in your smile\\n\\nDo you smile to tempt a lover mona lisa\\n\\nOr is it your way to hide a broken heart\\n\\n\\n\\nMany dreams have been brought to your doorstep\\n\\nThey just lie there and they die there\\n\\nAre you warm, are you real mona lisa\\n\\nOr just a cold and lonely lovely work of art\",\n",
       " \"Little less conversation, a little more action please\\n\\nAll this aggravation ain't satisfactioning me\\n\\nA little more bite and a little less bark\\n\\nA little less fight and a little more spark\\n\\nClose your mouth and open up your heart and baby satisfy me\\n\\nSatisfy me baby\\n\\n\\n\\nBaby close your eyes and listen to the music\\n\\nDrifting through a summer breeze\\n\\nIt's a groovy night and I can show you how to use it\\n\\nCome along with me and put your mind at ease, hey\\n\\n\\n\\nLittle less conversation, a little more action please\\n\\nAll this aggravation ain't satisfactioning me\\n\\nA little more bite and a little less bark\\n\\nA little less fight and a little more spark\\n\\nClose your mouth and open up your heart and baby satisfy me (satisfy me)\\n\\nSatisfy me baby (satisfy me)\\n\\n\\n\\nCome on baby I'm tired of talking\\n\\nGrab your coat and let's start walking\\n\\nCome on, come on (come on, come on)\\n\\nCome on, come on (come on, come on)\\n\\nCome on, come on (come on, come on)\\n\\nDon't procrastinate, don't articulate\\n\\nGirl it's getting late, gettin' upset waitin' around, hey\\n\\n\\n\\nA little less conversation, a little more action please\\n\\nAll this aggravation ain't satisfactioning me\\n\\nA little more bite and a little less bark\\n\\nA little less fight and a little more spark\\n\\nClose your mouth and open up your heart and baby satisfy me (satisfy me)\\n\\nSatisfy me (satisfy me)\\n\\n\\n\\nSatisfy me\\n\\nSatisfy me\\n\\n\\n\\nCome on baby I'm tired of talking\\n\\nGrab your coat and let's start walking\\n\\nCome on, come on (come on, come on)\\n\\nCome on, come on (come on, come on)\\n\\nCome on, come on (come on, come on)\\n\\nDon't procrastinate, don't articulate\\n\\nGirl it's getting late, gettin' upset waitin' around, hey\\n\\n\\n\\nA little less conversation, a little more action please\\n\\nAll this aggravation ain't satisfactioning me\\n\\nA little more bite and a little less bark\\n\\nA little less fight and a little more spark\\n\\nClose your mouth and open up your heart and baby satisfy me (satisfy me)\\n\\nSatisfy me\\n\\n\\n\\nSatisfy me\",\n",
       " \"Hey, hey, good lookin', whatcha got cookin'\\nHow's about cookin' somethin' up with me?\\nHey, hey, sweet baby, don't you think maybe\\nWe could find us a brand new recipe?\\n\\nI got a hot rod Ford and a two dollar bill\\nAnd I know a spot right over the hill\\nThere's soda pop and the dancin's free\\nIf you wanna have fun come along with me\\n\\nHey, hey, good lookin', whatcha got cookin'\\nHow's about cookin' somethin' up with me?\\n\\nI'm free and ready so we can go steady\\nHow's about savin' all your time for me?\\nNo more lookin', I know, I've been tooken\\nHow's about keepin' steady company?\\n\\nI'm gonna throw my date book over the fence\\nFind me one for five or ten cents\\nKeep it till it's covered with age\\n'Cause I'm writin' your name down on every page\\n\\nSay hey, good lookin', whatcha got cookin'\\nHow's about cookin' somethin' up with me?\\n\\n\",\n",
       " \"Well, I've never been to Spain\\n\\nBut I kind of like the music\\n\\nSay the ladies are insane there\\n\\nAnd they sure know how to use it\\n\\nThe don't abuse it\\n\\nNever gonna lose it\\n\\nI can't refuse it\\n\\n\\n\\nWell, I've never been to England\\n\\nBut I kind of like the Beatles\\n\\nSo I headed for Las Vegas\\n\\nOnly made it out to Lido's\\n\\nCan you feel it?\\n\\nMust be weary\\n\\nOh, so good; oh, feel so good\\n\\n\\n\\nWell, I've never been to heaven\\n\\nBut I've been in Oklahoma\\n\\nWell, they tell me I was born there\\n\\nBut I really don't remember\\n\\nIn Oklahoma or Arizona\\n\\nWhat does it matter?\\n\\nWhat does it matter?\",\n",
       " 'Well, a hard-headed woman\\n\\nA soft-hearted man\\n\\nBeen the cause of trouble\\n\\nEver since the world began\\n\\nOh, yeah, ever since the world began\\n\\nA hard-headed woman been \\n\\nA thorn in the side of man\\n\\n\\n\\nNow Adam told to Eve\\n\\n\"Listen here to me\\n\\nDon\\'t you let me catch you \\n\\nMessin\\' \\'round that apple tree\"\\n\\nOh, yeah, ever since the world began\\n\\nA hard-headed woman been \\n\\nA thorn in the side of man\\n\\n\\n\\nNow Samson told Delilah \\n\\nLoud and clear\\n\\n\"Keep your cotton pickin\\' fingers \\n\\nOut my curly hair\"\\n\\nOh, yeah, ever since the world began\\n\\nA hard-headed woman been \\n\\nA thorn in the side of man\\n\\n\\n\\nI heard about a king \\n\\nWho was doin\\' swell\\n\\nTill he started playing \\n\\nWith that evil Jezebel\\n\\nOh, yeah, ever since the world began\\n\\nA hard-headed woman been a thorn in the side of man\\n\\n\\n\\nI got a woman\\n\\nA head like a rock\\n\\nIf she ever went away \\n\\nI\\'d cry around the clock\\n\\nOh, yeah, ever since the world began\\n\\nA hard-headed woman been \\n\\nA thorn in the side of man',\n",
       " \"Train I ride, sixteen coaches long\\n\\nTrain I ride, sixteen coaches long\\n\\nWell that long black train got my baby and gone\\n\\n\\n\\nTrain train, comin' 'round, 'round the bend\\n\\nTrain train, comin' 'round the bend\\n\\nWell it took my baby, but it never will again (no, not again)\\n\\n\\n\\nTrain train, comin' down, down the line\\n\\nTrain train, comin' down the line\\n\\nWell it's bringin' my baby, 'cause she's mine all, all mine\\n\\n(She's mine, all, all mine)\",\n",
       " 'They give us a room \\n\\nWith a view of the beautiful Rhine\\n\\nThey give us a room \\n\\nWith a view of the beautiful Rhine\\n\\nGimme a muddy old creek \\n\\nIn Texas any old time\\n\\n\\n\\nI\\'ve got those hup, two, three, four \\n\\nOccupation G.I. Blues\\n\\nFrom my G.I. hair to the heels of my G.I. shoes\\n\\nAnd if I don\\'t go stateside soon\\n\\nI\\'m gonna blow my fuse\\n\\n\\n\\nWe get hasenpfeffer \\n\\nAnd black pumpernickel for chow\\n\\nWe get hasenpfeffer \\n\\nAnd black pumpernickel for chow\\n\\nI\\'d blow my next month\\'s pay \\n\\nFor a slice of Texas cow\\n\\n\\n\\nWe\\'d like to be heroes, \\n\\nBut all we do here is march\\n\\nWe\\'d like to be heroes, \\n\\nBut all we do here is march\\n\\nAnd they don\\'t give the Purple Heart \\n\\nFor a fallen arch\\n\\n\\n\\nI\\'ve got those hup, two, three, four \\n\\nOccupation G.I. Blues\\n\\nFrom my G.I. hair to the heels of my G.I. shoes\\n\\nAnd if I don\\'t go stateside soon\\n\\nI\\'m gonna blow my fuse\\n\\n\\n\\nThe frauleins are pretty as flowers\\n\\nBut we can\\'t make a pass\\n\\nThe frauleins are pretty as flowers\\n\\nBut we can\\'t make a pass\\n\\nCause they\\'re all wearin\\' signs saying:\\n\\n\"Keepen sie off the grass\"\\n\\n\\n\\nI\\'ve got those hup, two, three, four \\n\\nOccupation G.I. Blues\\n\\nFrom my G.I. hair to the heels of my G.I. shoes\\n\\nAnd if I don\\'t go stateside soon\\n\\nI\\'m gonna blow my fuse',\n",
       " \"I'm so hurt to think that you lied to me\\nI'm hurt way down deep inside of me\\nYou said our love was true and we'll never, never part\\nNow you've got someone new and it breaks my heart\\n\\nI'm hurt, much more than you'll ever know\\nYes darling, I'm so hurt because I still love you so\\nBut even though you hurt me like nobody else could ever do\\nI would never ever hurt you, oh you, no you\",\n",
       " \"Well you may run on for a long time\\n\\nRun on for a long time\\n\\nRun on for a long time\\n\\nLet me tell you god almighty gonna cut you down\\n\\n\\n\\nGo tell that long tongued liar, oh well well\\n\\nGo tell that midnight rider, oh well well\\n\\nTell the gambler, rambler, back-biter\\n\\nTell them God almighty gonna cut them down\\n\\n\\n\\nStop god almighty let me tell you the news\\n\\nMy head's been wet with the midnight dews\\n\\nComing down on my bended knees\\n\\nTalking to the man from Galilee\\n\\nMy God spoke and He spoke so sweet\\n\\nI thought I heard the shuffle of angel's feet\\n\\nHe put one hand upon my head\\n\\nGreat God almighty let me tell you what He said\\n\\n\\n\\nGo tell that long tongued liar, oh well well\\n\\nGo tell that midnight rider, oh well well\\n\\nTell the gambler, rambler, back-biter\\n\\nTell them God almighty gonna cut them down\\n\\n\\n\\nRun on for a long time\\n\\nRun on for a long time\\n\\nLet me tell you God almighty gonna cut you down\\n\\n\\n\\nYou may throw your rock and hide your hand\\n\\nWorking in the dark against your fellow man\\n\\nAs sure as God made the day and the night\\n\\nWhat you do in the dark will be brought to the light\\n\\nYou may run and hide, slip and slide\\n\\nTrying to take the mote from your neighbor's eyes\\n\\nAs sure as God made the rich and poor\\n\\nYou gonna reap just what you sow\\n\\n\\n\\nRun on for a long time\\n\\nRun on for a long time\\n\\nLet me tell you God almighty gonna cut you down\\n\\nGo tell that long tongued liar, oh well well\\n\\nGo tell that midnight rider, oh well well\\n\\nTell the gambler, rambler, back-biter\\n\\nTell them God almighty gonna cut them down\\n\\n\\n\\nSome people go to church just to sit in the fire\\n\\nTrying to make a date with the neighbor's wife\\n\\nBrother let me tell you as sure as you're born\\n\\nYou better leave that woman alone\\n\\nBecause one of these days mark my word\\n\\nYou think that brother is going to work\\n\\nAnd you'll sneak up and knock on that door\\n\\nThat's all brother you'll knock no more\\n\\n\\n\\nRun on for a long time\\n\\nRun on for a long time\\n\\nLet me tell you God almighty gonna cut you down\\n\\nGo tell that long tongued liar, oh well well\\n\\nGo tell that midnight rider, oh well well\\n\\nTell the gambler, rambler, back-biter\\n\\nTell them God almighty gonna cut them down\",\n",
       " \"All right, hmm\\n\\nMamma's little baby loves clambake, clambake\\n\\nMamma's little baby loves clambake too\\n\\nMamma's little baby loves clambake, clambake\\n\\nMamma's little baby loves clambake too\\n\\n\\n\\nHey, listen, world, you've gotta know\\n\\nI'm cuttin' loose and lettin' go\\n\\nWho needs the worry and the strife?\\n\\nLife can be a ball; now just followin' my life\\n\\nClambake, gonna have a clambake\\n\\nClambake, gonna have a clambake\\n\\n\\n\\nLook for the brightest lights in town\\n\\nThat's where you'll find me hanging 'round\\n\\nI've got this feeling to be free\\n\\nI pick and choose the life I want\\n\\nAnd that's the life for me\\n\\nClambake, gonna have a clambake\\n\\nClambake, gonna have a clambake\\n\\n\\n\\nMamma's little baby loves clambake, clambake\\n\\nMamma's little baby loves clambake too\\n\\nMamma's little baby loves clambake, clambake\\n\\nMamma's little baby loves clambake too\\n\\n\\n\\nAll right\\n\\n\\n\\nLook for the brightest lights in town\\n\\nThat's where you'll find me hanging 'round\\n\\nI've got this feeling to be free\\n\\nI pick and choose the life I want\\n\\nAnd that's the life for me\\n\\nClambake, gonna have a clambake\\n\\nClambake, gonna have a clambake\\n\\n\\n\\nMamma's little baby loves clambake, clambake\\n\\nMamma's little baby loves clambake too\\n\\nMamma's little baby loves clambake, clambake\\n\\nMamma's little baby loves clambake too\\n\\nHey\\n\\n\\n\\nMamma's little baby loves clambake, clambake\\n\\nMamma's little baby loves clambake too\\n\\nMamma's little baby loves clambake, clambake\\n\\nMamma's little baby loves clambake too\\n\\nMamma's little baby loves clambake, clambake\\n\\nMamma's little baby loves clambake too\",\n",
       " \"Born in the heat of the desert\\n\\nMy mother died givin' me life\\n\\nDeprived of the love of a father\\n\\nBlamed for the loss of his wife\\n\\nYou know Lord I've been in a prison\\n\\nFor something that I've never done\\n\\nIt's been one hill after another\\n\\nAnd I've climbed them all one by one\\n\\n\\n\\nOh but this time Lord you gave me a mountain,\\n\\nA mountain you know I may never climb\\n\\nIt isn't just a hill any longer\\n\\nYou gave me a mountain this time\\n\\n\\n\\nMy woman got tired of the heartaches\\n\\nTired of the grief and the strife,\\n\\nSo tired of working for nothing\\n\\nJust tired of being my wife\\n\\nShe took my one ray of sunshine\\n\\nShe took my pride and my joy\\n\\nShe took my reason for living\\n\\nShe took my small baby boy\\n\\n\\n\\nYeah but this time Lord you gave me a mountain, \\n\\nA mountain I may never climb\\n\\nIt isn't a hill any longer\\n\\nYou gave me a mountain this time\\n\\nYeah Lord, You gave me a mountain\\n\\nDon't you know \\n\\nYou gave me a mountain this time\",\n",
       " \"You got the huggin'est arms\\n\\nThe thrillin'est eyes\\n\\nYou're just my style\\n\\nAnd you're just the right size\\n\\n\\n\\nGonna stop\\n\\nUh, shoppin' around\\n\\nI'm gonna stop\\n\\nShoppin' around 'cause I found the girlie I'm lookin' for\\n\\n\\n\\nOh, the very first time\\n\\nYou touched my lips\\n\\nTook my little red book\\n\\nAnd tore it to bits\\n\\n\\n\\nAin't gonna be\\n\\nSearchin' no more\\n\\nI'm gonna stop\\n\\nShoppin' around 'cause I found the girlie I'm lookin' for\\n\\nAin't no other dolly I'm wantin' to hold\\n\\n\\n\\nHey, hey, baby\\n\\nI really am sold on you\\n\\nOh, oh, such a pretty little package\\n\\nI never did see\\n\\nGonna wrap you up and take you home with me\\n\\n\\n\\nI'm thrilled like never before\\n\\nI'm gonna stop\\n\\nShoppin' around 'cause I found the girlie I'm lookin' for\\n\\nAin't no other dolly I'm wantin' to hold\\n\\n\\n\\nHey, hey, baby\\n\\nI really am sold on you\\n\\nOh, oh, such a pretty little package\\n\\nI never did see\\n\\nGonna wrap you up and take you home with me\\n\\n\\n\\nI'm thrilled like never before\\n\\nI'm gonna stop\\n\\nShoppin' around 'cause I found the girlie I'm lookin' for\\n\\n\\n\\nI'm gonna stop\\n\\nUh, shoppin' around\\n\\nI'm gonna stop\\n\\nUh, shoppin' around\\n\\nI'm gonna stop\\n\\nShoppin' around\",\n",
       " \"When we kiss my heart's on fire\\n\\nBurning with a strange desire\\n\\nAnd I know, each time I kiss you\\n\\nThat your heart's on fire too\\n\\n\\n\\nSo, my darling, please surrender\\n\\nAll your love so warm and tender\\n\\nLet me hold you in my arms, dear\\n\\nWhile the moon shines bright above\\n\\n\\n\\nAll the stars will tell the story\\n\\nOf our love and all its glory\\n\\nLet us take this night of magic\\n\\nAnd make it a night of love\\n\\n\\n\\nWon't you please surrender to me\\n\\nYour lips, your arms, your heart, dear\\n\\nBe mine forever\\n\\nBe mine tonight\",\n",
       " \"Oh yes I've got a lot o' living to do\\n\\nA whole lot o' loving to do\\n\\nCome on baby, to make a party takes two\\n\\nOh yes I've got a lot o' living to do\\n\\nA whole lot o' loving to do\\n\\nAnd there's no one who I'd rather do it with-a than you\\n\\n\\n\\nThere's a moon that's big and bright in the milky way tonight\\n\\nBut the way you act you never would know it's there\\n\\nSo baby, time's a wasting\\n\\nA lot of kisses I ain't been tasting\\n\\nI don't know about you but I'm gonna get my share\\n\\n\\n\\nOh got a lot o' living to do\\n\\nA whole lot o' loving to do\\n\\nCome on baby, to make a party takes two\\n\\nOh yes I've got a lot o' living to do\\n\\nA whole lot o' loving to do\\n\\nAnd there's no one who I'd rather do it with-a than you\\n\\n\\n\\nThere's a balmy little breeze\\n\\nThat's whistling through the trees\\n\\nAnd it's telling you to pitch a little woo with me\\n\\nWhy don't you take a listen\\n\\nYou'll never know what you've been missing\\n\\nCuddle up a little closer and be my little honey bee\\n\\n\\n\\nOh got a lot o' living to do\\n\\nA whole lot o' loving to do\\n\\nCome on baby, to make a party takes two\\n\\nOh yes I've got a lot o' living to do\\n\\nA whole lot o' loving to do\\n\\nAnd there's no one who I'd rather do it with-a than you\\n\\n\\n\\nYou're the prettiest thing I've seen\\n\\nBut you treat me so doggone mean\\n\\nAin't you got no heart, I'm dying to hold you near\\n\\nWhy do you keep me waiting\\n\\nWhy don't you start co-operating\\n\\nAnd the things I say are things you want to hear\\n\\n\\n\\nOh got a lot o' living to do\\n\\nA whole lot o' loving to do\\n\\nCome on baby, to make a party takes two\\n\\nOh yes I've got a lot o' living to do\\n\\nA whole lot o' loving to do\\n\\nAnd there's no one who I'd rather do it with-a than you.\",\n",
       " \"Some people like to rock\\n\\nSome people like to roll\\n\\nBut movin' and a groovin'\\n\\nGonna satisfy my soul\\n\\n\\n\\nLet's have a party (let's have a party), ooh\\n\\nLet's have a party (let's have a party)\\n\\nSend him  to the store\\n\\nLet's buy some more\\n\\nAnd let's have a party tonight\\n\\n\\n\\nI've never kissed a bear\\n\\nI've never kissed a goon\\n\\nBut I can shake a chicken\\n\\nIn the middle of the room\\n\\n\\n\\nLet's have a party (let's have a party), ooh\\n\\nLet's have a party (let's have a party)\\n\\nSend him to the store\\n\\nLet's buy some more\\n\\nAnd let's have a party tonight\\n\\n\\n\\nNow Honky Tonky Joe\\n\\nIs knockin' at the door\\n\\nBring him in and fill him up\\n\\nAnd set him on the floor\\n\\n\\n\\nLet's have a party (let's have a party), ooh\\n\\nLet's have a party (let's have a party)\\n\\nSend him to the store\\n\\nLet's buy some more\\n\\nAnd let's have a party tonight\\n\\n\\n\\nThe meat is on the stove\\n\\nThe bread is getting hot\\n\\nTell me pretty baby\\n\\n\\n\\nLet's have a party (let's have a party), ooh\\n\\nLet's have a party (let's have a party)\\n\\nSend him to the store\\n\\nLet's buy some more\\n\\nAnd let's have a party tonight\\n\\nWe're going to have a party tonight!\",\n",
       " \"I just got your letter baby\\n\\nToo bad you can't come home\\n\\nI swear I'm goin' crazy\\n\\nSittin' here all alone\\n\\nSince you're gone\\n\\nI got a mess of blues\\n\\n\\n\\nI ain't slept a wink since Sunday\\n\\nI can't eat a thing all day\\n\\nEvery day is just blue Monday\\n\\nSince you've been away\\n\\nSince you're gone\\n\\nI got a mess of blues\\n\\n\\n\\nWhoops there goes a teardrop\\n\\nRollin' down my face\\n\\nIf you cry when you're in love\\n\\nIt sure ain't no disgrace\\n\\n\\n\\nI gotta get myself together\\n\\nBefore I lose my mind\\n\\nI'm gonna catch the next train goin'\\n\\nAnd leave my blues behind\\n\\nSince you're gone\\n\\nI got a mess of blues\\n\\n\\n\\nWhoops there goes a teardrop\\n\\nRollin' down my face\\n\\nIf you cry when you're in love\\n\\nIt sure ain't no disgrace\\n\\n\\n\\nI gotta get myself together\\n\\nBefore I lose my mind\\n\\nI'm gonna catch the next train goin'\\n\\nAnd leave my blues behind\\n\\nSince you're gone\\n\\nI got a mess of blues\\n\\n\\n\\nSince you're gone I got a mess of blues\\n\\nSince you're gone I got a mess of blues\",\n",
       " 'A rose grows wild in the country\\n\\nA tree grows tall as the sky\\n\\nThe wind blows wild in the country\\n\\nAnd part of the wild, wild country, am I\\n\\n\\n\\nWild, wild, like the deer and the dove\\n\\nWild and free is this land that I love\\n\\nA dream grows wild in the country\\n\\nA love grows tall as the sky\\n\\n\\n\\nA heart beats wild in the country\\n\\nAnd here with a dream in my heart\\n\\nPart of the wild, wild country, am I',\n",
       " \"You're so young and beautiful and I love you so\\n\\nYour lips so red, your eyes that shine\\n\\nShame the stars that glow\\n\\n\\n\\nSo fill these lonely arms of mine\\n\\nAnd kiss me tenderly\\n\\nThen you'll be forever young\\n\\nAnd beautiful to me\\n\\n\\n\\nYou're so young and beautiful, you're everything I love\\n\\nYour angel smile, your gentle touch\\n\\nAre all I'm dreaming of\\n\\n\\n\\nOh take this heart I offer you\\n\\nAnd never set me free\\n\\nThen you'll be forever young\\n\\nAnd beautiful to me\",\n",
       " \"You'll never know what heaven means\\n\\nUntil you've been down to New Orleans\\n\\nYou ain't been livin' till you cuddle and coo\\n\\nWith some black-eyed baby by the old bayou\\n\\n\\n\\nYou've never seen\\n\\nYou've never seen those Cupid doll queens\\n\\nLike they got 'em in New Orleans\\n\\nAnd, oh, they love you like no one can\\n\\nIt makes you awful glad that you were born a man\\n\\n\\n\\nIf-if-if you ain't been there\\n\\nThen you ain't been nowhere\\n\\nThe livin's lazy and the lovin's fine\\n\\nIf you feel low down, so help me Hannah\\n\\nYou should lose the blues in Louisiana\\n\\n\\n\\nGet the lead\\n\\nGet the lead out of your jeans\\n\\nAnd hot foot it down--hot foot down to where?\\n\\nNew Orleans\\n\\nLouisiana, baby, tells you stay awhile\\n\\nLive it up, love it up, southern style\\n\\nWay down in New, New Orleans\",\n",
       " \"Well there's a leak in this old building\\n\\nYes, there's a leak in this old building\\n\\nWell there's a leak in this old building\\n\\nWe're gonna move to a better home\\n\\n\\n\\nWe got no pane in this old window'\\n\\nWe got no pane in this old window'\\n\\nWe got no pane in this old window'\\n\\nWe're gonna move to a better home\\n\\n\\n\\nWell there's a hole in the roof where the rain pours in\\n\\nA hole in the floor where it drops right out again\\n\\nWell there's a leak in this old building\\n\\nWell there's a leak in this old building\\n\\nWell there's a leak in this old building\\n\\nWe're gonna move to a better home\\n\\n\\n\\nWell there's a crack across the ceiling\\n\\nYes there's a crack across the ceiling\\n\\nWell there's a crack across the ceiling\\n\\nWe're gonna find us a better home\\n\\n\\n\\nWe've gotta stove without a chimney\\n\\nWe've gotta stove without a chimney\\n\\nWhat good's a stove without a chimney\\n\\nWe're gonna move to a better home\\n\\n\\n\\nPulling down window shades is no use at all\\n\\nThe kids and the neighbor can peep right through the wall\\n\\nWell there's a leak in this old building\\n\\nWell there's a leak in this old building\\n\\nWell there's a leak in this old building\\n\\nWe're gonna move to a better, move to a better\\n\\nMove to a better home.\",\n",
       " \"This is my heaven\\n\\nBeing here with you\\n\\nMake it last forever\\n\\nThis is my heaven\\n\\nIt's a dream come true\\n\\nMake it last forever\\n\\nCome to me now\\n\\nAnd take my hand\\n\\nThis is the paradise I plan\\n\\nYou're like an angel\\n\\nSent from up above\\n\\nLet's stay close together\\n\\nYou brought me heaven\\n\\nWhen I shared your love\\n\\nMake it last forever\\n\\nHere 'neath the sky beside the sea\\n\\nThis is my heaven\\n\\nWhen you come to me\\n\\nLa,la,la,la,la\\n\\nLa,la,la,la,la\",\n",
       " \"Ev'ry man, has a flaming star\\n\\nA flaming star, over his shoulder\\n\\nAnd when a man, sees his flaming star\\n\\nHe knows his time, his time has come\\n\\n\\n\\nFlaming star, don't shine on me, flaming star\\n\\nFlaming star, keep behind me, flaming star\\n\\nThere's a lot of livin' I've got to do\\n\\nGive me time to make a few dreams come true\\n\\nFlaming star\\n\\n(Flaming star)\\n\\n\\n\\nWhen I ride, I feel that flaming star\\n\\nThat flaming star, over my shoulder\\n\\nAnd so I ride, front of that flaming star\\n\\nNever lookin' around, never lookin' around\\n\\n\\n\\nFlaming star, don't shine on me, flaming star\\n\\nFlaming star, keep behind me, flaming star\\n\\nThere's a lot of livin' I've got to do\\n\\nGive me time to make a few dreams come true\\n\\nFlaming star\\n\\n(Flaming star)\\n\\n\\n\\nOne fine day, I'll see that flaming star\\n\\nThat flaming star, over my shoulder\\n\\nAnd when I see, that old flaming star\\n\\nI'll know my time, my time has come\\n\\n\\n\\nFlaming star, don't shine on me, flaming star\\n\\nFlaming star, keep behind me, flaming star\\n\\nThere's a lot of livin' I've got to do\\n\\nGive me time to make a few dreams come true\\n\\nFlaming star\",\n",
       " \"I can explain about last night\\n\\nThough things didn't look just right\\n\\nPlease believe me there was nothing wrong\\n\\nI thought about you baby all night long\\n\\nCross my heart, I hope to die\\n\\nWell I wouldn't tell you no lie, mmm\\n\\n\\n\\nTalk about a piece of rotten luck\\n\\nYou do a friend a favor and you wind up stuck\\n\\nShe couldn't hold a candle to you, no siree\\n\\nVery hard to handle like a Model T\\n\\nCross my heart, I hope to die\\n\\nWell I wouldn't tell you no lie\\n\\n\\n\\nPlease believe me when I say\\n\\nWild horses couldn't drag me away\\n\\nFrom you 'cause I don't have to look too hard\\n\\nTo see what I've got in my own back yard\\n\\nSo please forgive me and forget\\n\\nDon't say my alloy's all wet (?)\\n\\nI miss those kisses from your honeycomb\\n\\nThis humble bumble bee just wants to fly back home\\n\\nCross my heart, I hope to die\\n\\nWell I wouldn't tell you no lie\\n\\n\\n\\nI wouldn't tell you no lie\\n\\nNo no no no no no\\n\\nI wouldn't tell you no lie\",\n",
       " \"Bright light city\\n\\ngonna set my\\n\\nsoul\\n\\ngonna set my\\n\\nsoul on fire\\n\\nThere's a whole\\n\\nlot a money just\\n\\nready to burn so\\n\\nget those stakes\\n\\nup higher\\n\\nThere's a\\n\\nthousand pretty\\n\\nwomen just\\n\\nwaitin' out there\\n\\nThey're all livin\\n\\nDevil may care\\n\\nand I'm just the\\n\\nDevil with love to\\n\\nspare\\n\\nViva Las Vegas\\n\\nViva Las Vegas\\n\\n\\n\\nHow I wish that\\n\\nthere were more\\n\\nthan 24 hours in\\n\\na day\\n\\nBut even if there\\n\\nwere 40 more I\\n\\nwouldn't sleep a\\n\\nminute away\\n\\nThere's Blackjack,\\n\\nPoker and the\\n\\nRoulette Wheel\\n\\nA fortune won\\n\\nand lost on\\n\\nevery deal\\n\\nAll you need is\\n\\nmoney and\\n\\nnerves of steel\\n\\nViva Las Vegas\\n\\nViva Las Vegas\\n\\n\\n\\nViva Las Vegas\\n\\nwith your neon\\n\\nflashing\\n\\nAnd your\\n\\none-armed\\n\\nbandits crashing\\n\\nAll your\\n\\nhopes down the\\n\\ndrain\\n\\nViva Las Vegas\\n\\nturning day into\\n\\nnight time turnin\\n\\n'night into day\\n\\ntime if you've seen it once you'll\\n\\nnever be the\\n\\nsame again\\n\\n\\n\\nSOLO\\n\\n\\n\\nGonna keep on\\n\\nthe run\\n\\nI'm gonna have\\n\\nme some fun\\n\\nIf it costs me\\n\\nmy very last\\n\\ndime\\n\\nIf I wind up\\n\\nbroke well I'll\\n\\nalways remember\\n\\nthat I had a\\n\\nswinging time\\n\\nI'm gonna give it\\n\\nevery thing I got\\n\\nLady Luck won't\\n\\nyou let the dice\\n\\nstay hot\\n\\nLet me shoot a\\n\\nseven with every\\n\\nshot\\n\\nViva Las Vegas\\n\\nViva Las Vegas\\n\\nViva Las Vegas\\n\\nViva Viva\\n\\nLas Vegas\\n\\nBUSTED................\\n\\nSOLO OUT\",\n",
       " \"It's a lonely man\\n\\nWho wanders all around\\n\\nIt's a lonely man\\n\\nWho roams from town to town\\n\\n\\n\\nSearchin', always searchin'\\n\\nFor something he can't find\\n\\nHopin', always hopin'\\n\\nThat some day fate will be kind\\n\\n\\n\\nIt's a lonely man\\n\\nWho travels all alone\\n\\nWhen he has no one\\n\\nThat he can call his own\\n\\n\\n\\nAlways so unhappy\\n\\nTaking shelter where he can\\n\\nHere I am\\n\\nCome meet a lonely, lonely man\\n\\n\\n\\nAlways so unhappy\\n\\nTaking shelter where he can\\n\\nHere I am\\n\\nCome meet a lonely, lonely man\\n\\nHere I am\\n\\nCome meet a lonely, lonely man\",\n",
       " \"Why don't you swing down sweet chariot\\n\\nStop and let me ride\\n\\nSwing down chariot\\n\\nStop and let me ride\\n\\nRock me lord, rock me lord\\n\\nCalm and easy\\n\\nWell I've got a home on the other side\\n\\n\\n\\nWhy don't you swing down sweet chariot\\n\\nStop and let me ride\\n\\nSwing down chariot\\n\\nStop and let me ride\\n\\nRock me lord, rock me lord\\n\\nCalm and easy\\n\\nWell I've got a home on the other side\\n\\n\\n\\nWell, well, well, well, well, well\\n\\n\\n\\nEzekiel went down in the middle of a field\\n\\nHe saw an angel workin' on a chariot wheel\\n\\nWasn't so particular 'bout the chariot wheel\\n\\nJust wanted to see how a chariot feel\\n\\n\\n\\nWhy don't you swing down sweet chariot\\n\\nStop and let me ride\\n\\nSwing down chariot\\n\\nStop and let me ride\\n\\nRock me lord, rock me lord\\n\\nCalm and easy\\n\\nWell I've got a home on the other side\\n\\n\\n\\nWell, well, well Ezekiel went down and he got on board\\n\\nChariot went a bumpin' on down the road\\n\\nZeke wasn't so particular 'bout the bumpin' of the road\\n\\nJust wanted to lay down his heavy load\\n\\n\\n\\nWhy don't you swing down sweet chariot\\n\\nStop and let me ride\\n\\nSwing down chariot\\n\\nStop and let me ride\\n\\nRock me lord, rock me lord\\n\\nCalm and easy\\n\\nWell I've got a home on the other side\\n\\n\\n\\nWell I got a father in the promised land\\n\\nAin't no more stoppin' till I shake his hand\\n\\nRock me lord, rock me lord\\n\\nCalm and easy\\n\\nI've got a home on the other side\\n\\n\\n\\nWhy don't you swing down sweet chariot\\n\\nStop and let me ride\\n\\nSwing down chariot\\n\\nStop and let me ride\\n\\nRock me lord, rock me lord\\n\\nCalm and easy\\n\\nWell I've got a home on the other side\",\n",
       " \"I will spend my whole life through\\n\\nLoving you, just loving you\\n\\nWinter, summer, springtime too\\n\\nLoving you, loving you\\n\\n\\n\\nMakes no difference where I go or what I may do\\n\\nYou know that I'll always be loving you, just you\\n\\n\\n\\nAnd if I'm seen with someone new\\n\\nDon't be blue, don't you be blue\\n\\nI'll be faithful, I'll be true\\n\\nAlways true, true to you\\n\\n\\n\\nThere is only one for me and you know who\\n\\nYou know that I'll always be loving you\",\n",
       " \"It's now or never,\\n\\nCome hold me tight\\n\\nKiss me my darling,\\n\\nBe mine tonight\\n\\nTomorrow will be too late,\\n\\nIt's now or never\\n\\nMy love won't wait.\\n\\n\\n\\nWhen I first saw you\\n\\nWith your smile so tender\\n\\nMy heart was captured,\\n\\nMy soul surrendered\\n\\nI'd spend a lifetime\\n\\nWaiting for the right time\\n\\nNow that your near\\n\\nThe time is here at last.\\n\\n\\n\\nIt's now or never,\\n\\nCome hold me tight\\n\\nKiss me my darling,\\n\\nBe mine tonight\\n\\nTomorrow will be too late,\\n\\nIt's now or never\\n\\nMy love won't wait.\\n\\n\\n\\nJust like a willow,\\n\\nWe would cry an ocean\\n\\nIf we lost true love\\n\\nAnd sweet devotion\\n\\nYour lips excite me,\\n\\nLet your arms invite me\\n\\nFor who knows when\\n\\nWe'll meet again this way\\n\\n\\n\\nIt's now or never,\\n\\nCome hold me tight\\n\\nKiss me my darling,\\n\\nBe mine tonight\\n\\nTomorrow will be too late,\\n\\nIt's now or never\\n\\nMy love won't wait.\",\n",
       " \"Oh I wish I was in the land of cotton\\n\\nOld things they are not forgotten\\n\\nLook away, look away, look away Dixieland\\n\\nOh I wish I was in Dixie, away, away\\n\\nIn Dixieland I take my stand to live and die in Dixie\\n\\nCause Dixieland, that's where I was born\\n\\nEarly Lord one frosty morning\\n\\nLook away, look away, look away Dixieland\\n\\nGlory, glory hallelujah\\n\\nGlory, glory hallelujah\\n\\nGlory, glory hallelujah\\n\\nHis truth is marching on\\n\\nSo hush little baby\\n\\nDon't you cry\\n\\nYou know your daddy's bound to die\\n\\nBut all my trials, Lord will soon be over\",\n",
       " \"Hold me close, hold me tight\\n\\nMake me thrill with delight\\n\\nLet me know where I stand from the start\\n\\nI want you, I need you, I love you\\n\\nWith all my heart\\n\\n\\n\\nEvery time that you're near\\n\\nAll my cares disappear\\n\\nDarling, you're all that I'm living for\\n\\nI want you, I need you, I love you\\n\\nMore and more\\n\\n\\n\\nI thought I could live without romance\\n\\nUntil you came to me\\n\\nBut now I know that\\n\\nI will go on loving you eternally\\n\\n\\n\\nWon't you please be my own?\\n\\nNever leave me alone\\n\\n'Cause I die Every time we're apart\\n\\nI want you, I need you, I love you\\n\\nWith all my heart\\n\\n\\n\\nI thought I could live without romance\\n\\nUntil you came to me\\n\\nBut now I know that\\n\\nI will go on loving you eternally\\n\\n\\n\\nYou please be my own?\\n\\nNever leave me alone\\n\\n'Cause I die Every time we're apart\\n\\nI want you, I need you, I love you\\n\\nWith all my heart\",\n",
       " \"Treat me like a fool\\n\\nTreat me mean and cruel\\n\\nBut love me\\n\\n\\n\\nWring my faithful heart\\n\\nTear it all apart\\n\\nBut love me\\n\\n\\n\\nIf you ever go\\n\\nDarling, I'll be oh-so lonely\\n\\nI'll be sad and blue\\n\\nCrying over you, dear, only\\n\\n\\n\\nI would beg and steal\\n\\nJust to feel your heart \\n\\nBeating close to mine\\n\\n\\n\\nWell, if you ever go\\n\\nDarling, I'll be oh-so lonely\\n\\nI'll be sad and blue\\n\\nCrying over you, dear, only\\n\\n\\n\\nI would beg and steal\\n\\nJust to feel your heart \\n\\nBeating close to mine\\n\\n\\n\\nWell, if you ever go\\n\\nDarling, I'll be oh-so lonely\\n\\nBegging on knee\\n\\nAll I ask is, please, please, love me\\n\\nOh yeah\",\n",
       " \"Don't want a four leaf clover\\n\\nDon't want an old horse shoe\\n\\nWant your kiss 'cause I just can't miss\\n\\nWith a good luck charm like you\\n\\n\\n\\nCome on and be my little good luck charm\\n\\nUh-huh huh, you sweet delight\\n\\nI want a good luck charm\\n\\nA-hanging on my arm\\n\\nTo have, to have, to hold, to hold tonight\\n\\n\\n\\nDon't want a silver dollar\\n\\nRabbit's foot on a string\\n\\nThe happiness in your warm caress\\n\\nNo rabbit's foot can bring\\n\\n\\n\\nCome on and be my little good luck charm\\n\\nUh-huh huh, you sweet delight\\n\\nI want a good luck charm\\n\\nA-hanging on my arm\\n\\nTo have, to have, to hold, to hold tonight\\n\\n\\n\\nI found a lucky penny\\n\\nI'd toss it across the bay\\n\\nYour love is worth all the gold on earth\\n\\nNo wonder that I say\\n\\n\\n\\nCome on and be my little good luck charm\\n\\nUh-huh huh, you sweet delight\\n\\nI want a good luck charm\\n\\nA-hanging on my arm\\n\\nTo have, to have, to hold, to hold tonight.\",\n",
       " \"Gonna travel, gonna travel wild and free\\nI'm gonna pack my bags because this great big world is calling me\\nEvery pretty girl's gonna know I'm around\\nThey're gonna know I'm in town on a harem holiday\\n\\nTwenty women, twenty women by my side\\nI'm gonna kiss them all, because I've gotta keep 'em satisfied\\nGonna have the best time money can buy\\nI'm gonna be flying high on a harem holiday\\n\\nIf Romeo had a harem holiday\\nYou can bet that Juliet would have never been his girl forever\\n\\nGonna go back, gonna catch that midnight plane\\nTwenty dancing girls are waiting just to call my name\\nGonna have a ball, I ain't gonna waste no time\\nI'm gonna make 'em all mine on a harem holiday\\n\\nIf Romeo had a harem holiday\\nYou can bet that Juliet would have never been his girl forever\\n\\nGonna travel, gonna travel wild and free\\nI'm gonna pack my bags because this great big world is calling me\\nEvery pretty girl's gonna know I'm around\\nThey're gonna know I'm in town on a harem holiday\\n\\n\",\n",
       " \"Home is where the heart is\\nAnd my heart is anywhere you are\\nAnywhere you are is home\\nI don't need a mansion on a hill\\nThat overlooks the sea\\nAnywhere you're with me is home\\n\\nMaybe I'm a rolling stone\\nWho won't amount to much\\nBut everything that I hold dear\\nIs close enough to touch\\n\\nFor home is where the heart is\\nAnd my heart is anywhere you are\\nAnywhere you are is home\\n\\nMaybe I'm a rolling stone\\nWho won't amount to much\\nBut everything that I hold dear\\nIs close enough to touch\\n\\nFor home is where the heart is\\nAnd my heart is anywhere you are\\nAnywhere you are is home\\n\",\n",
       " \"There must be lights burning brighter somewhere\\n\\nGot to be birds flying higher in a sky more blue\\n\\nIf I can dream of a better land\\n\\nWhere all my brothers walk hand in hand\\n\\nTell me why, oh why, oh why can?t my dream come true\\n\\n\\n\\nThere must be peace and understanding sometime\\n\\nStrong winds of promise that will blow away\\n\\nAll the doubt and fear\\n\\nIf I can dream of a warmer sun\\n\\nWhere hope keeps shining on everyone\\n\\nTell me why, oh why, oh why won't that sun appear\\n\\n\\n\\nWe're lost in a cloud\\n\\nWith too much rain\\n\\nWe're trapped in a world\\n\\nThat's troubled with pain\\n\\nBut as long as a man\\n\\nHas the strength to dream\\n\\nHe can redeem his soul and fly\\n\\n\\n\\nDeep in my heart there's a trembling question\\n\\nStill I am sure that the answer gonna come somehow\\n\\nOut there in the dark, there's a beckoning candle\\n\\nAnd while I can think, while I can talk\\n\\nWhile I can stand, while I can walk\\n\\nWhile I can dream, please let my dream\\n\\nCome true, right now\\n\\nLet it come true right now\\n\\nOh yeah\",\n",
       " \"When it comes twistin' I just got to keep insistin'\\n\\nOh baby, you sure do swing\\n\\n\\n\\nWhen it comes twistin' I just got to keep insistin'\\n\\nOh daddy hey, you are the king\\n\\n\\n\\nBaby you got me beat up and down inside out and across\\n\\nOh yeah!\\n\\n\\n\\nBut in the middle of the night when the moon is shining bright\\n\\nAh, you're the boss\\n\\n\\n\\nHey talkin 'bout the days when we ended down the hall romancin'\\n\\nBig daddy Hey! You make the scene\\n\\n\\n\\nHey talkin' 'bout dancin' and down on romancin'\\n\\nOh now baby, you are the queen\\n\\n\\n\\nOh when push comes to shove, when it comes down to love\\n\\nYou're a horse\\n\\n\\n\\nOh yeah! but in the middle of the night when the moon is shining bright\\n\\nBaby, you're the boss\\n\\n\\n\\nYou're the best of everything\\n\\nYou're a peach, you're a plum\\n\\nYou're a diamond, you're a pearl\\n\\nYou're the best of everything\\n\\nAhh daddy you're my man\\n\\nBaby you're my girl\\n\\n\\n\\nNow when it comes to knowin' which way the wind is blowin'\\n\\nNow baby, you sure are wise\\n\\n\\n\\nYeah, when it comes to knowin' which way the wind is blowin'\\n\\nOh daddy, you take the prize\\n\\n\\n\\nBaby you're a genius when it comes to cooking up some chili sauce\\n\\nOh yeah!\\n\\n\\n\\nOh but in the middle of the night when the moon is shining bright\\n\\nAhh, you're the boss\\n\\n\\n\\nYou're the boss\\n\\nYou're the boss\\n\\nYou're the boss\\n\\n\\n\\nBut in the middle of the night when the moon is shining bright\\n\\nAhh, you're the boss\\n\\nYou're the boss\\n\\nYou're the boss\\n\\nBaby, you're the boss\\n\\nTell me 'bout it baby\",\n",
       " \"Never know how much I love you\\n\\nNever know how much I care\\n\\nWhen you put your arms around me\\n\\nI get a fever that's so hard to bear\\n\\n\\n\\nYou give me fever when you kiss me\\n\\nFever when you hold me tight\\n\\nFever in the morning\\n\\nFever all through the night\\n\\n\\n\\nSun lights up the daytime\\n\\nMoon lights up the night\\n\\nI light up when you call my name\\n\\nAnd you know I'm gonna treat you right\\n\\n\\n\\nYou give me fever when you kiss me\\n\\nFever when you hold me tight\\n\\nFever in the morning\\n\\nFever all through the night\\n\\n\\n\\nEverybody's got the fever\\n\\nThat is something you all know\\n\\nFever isn't such a new thing\\n\\nFever started long ago\\n\\n\\n\\nRomeo loved Juliet\\n\\nJuliet she felt the same\\n\\nWhen he put his arms around her\\n\\nHe said Julie, baby, you're my flame\\n\\nThou give us fever when we kisseth\\n\\nFever with thy flaming youth\\n\\nFever I'm on fire\\n\\nFever yea I burn for sooth\\n\\n\\n\\nCaptain Smith and Pocahontas\\n\\nHad a very mad affair\\n\\nWhen her daddy tried to kill him\\n\\nShe said daddy, o, don't you dare\\n\\nHe gives me fever with his kisses\\n\\nFever when he holds me tight\\n\\nFever, I'm his misses,\\n\\nOh daddy, won't you treat him right\\n\\n\\n\\nNow you've listened to my story\\n\\nHere's the point that I have made\\n\\nCats were born to give chicks fever\\n\\nBe it Fahrenheit or Centigrade\\n\\nThey give you fever when they kiss you\\n\\nFever if you live and learn\\n\\nFever till you sizzle\\n\\nWhat a lovely way to burn\\n\\nWhat a lovely way to burn\\n\\nWhat a lovely way to burn\",\n",
       " \"Baby, let me be\\n\\nYour lovin' teddy bear\\n\\nPut a chain around my neck\\n\\nAnd lead me anywhere\\n\\nOh, let me be\\n\\nYour teddy bear\\n\\n\\n\\nI don't wanna be a tiger\\n\\n'Cause tigers play too rough\\n\\nI don't wanna be a lion\\n\\n'Cause lions ain't the kind\\n\\nYou love enough\\n\\nJust wanna be your teddy bear\\n\\nPut a chain around my neck\\n\\nAnd lead me anywhere\\n\\nOh, let me be\\n\\nYour teddy bear\\n\\n\\n\\nBaby, let me be around you every night\\n\\nRun your fingers through my hair\\n\\nAnd cuddle me real tight\",\n",
       " \"Take a ton of bolt and steel\\n\\nA whole lotta sweat, a set of wheels\\n\\nOn the Speedway\\n\\nThe flag is down, pistons pound\\n\\nPlenty of engines ripping around .. on the Speedway\\n\\n\\n\\nGo for the money and lead the pack\\n\\nPush the throttle and burn the track\\n\\nCurl and swirl like you doin' a dance\\n\\nSpeedway's comin' and now's your chance\\n\\nOn the Speedway, on the Speedway, on the Speedway\\n\\n\\n\\nStoke that pedal down to the floor\\n\\nAs much as you give, crowd wants more\\n\\nMore, more, more, more, more on the Speedway\\n\\nOn the Speedway\\n\\n\\n\\nTake a spin, hit the brakes\\n\\nA young little girl .. shivers and shakes\\n\\nOn the Speedway\\n\\nClear the way, comin' through\\n\\nKiss from your baby just pushin' you\\n\\nOn the Speedway\\n\\n\\n\\nGo for the money and lead the pack\\n\\nPush the throttle and burn the track\\n\\nCurl and swirl like you doin' a dance\\n\\nSpeedway's comin' and now's your chance\\n\\nOn the Speedway, on the Speedway, on the Speedway\\n\\n\\n\\nStoke that pedal down to the floor\\n\\nAs much as you give, crowd wants more\\n\\nMore, more, more, more, more on the Speedway\\n\\nOn the Speedway\\n\\nOn the Speedway, on the Speedway, on the Speedway\\n\\nOn the Speedway, on the Speedway, on the Speedway\\n\\nOn the Speedway, on the Speedway\",\n",
       " \"Who wants to buy a heart\\n\\nOne broken lover's heart\\n\\nOne broken heart for sale\\n\\nWell, excuse me if you see me crying like a baby\\n\\nSince she rejected me\\n\\nThere's nothing left to save me\\n\\nHey Cupid, where are you?\\n\\nMy heart is growing sadder\\n\\nThat girl rejected me\\n\\nJust when I thought I had her\\n\\nShe would not listen to the things my heart was saying\\n\\nShe turned and walked away\\n\\nAnd told me I was playing\\n\\nSome guys have all the luck\\n\\nAnd my heart hasn't any\\n\\nI think I'll paint a sign\\n\\nFor sale for a penny\",\n",
       " \"You know I can be found\\n\\nSitting home all alone\\n\\nIf you can't come around\\n\\nAt least please telephone\\n\\nDon't be cruel to who a heart that's true\\n\\n\\n\\nBaby, if I made you mad\\n\\nFor something I might have said\\n\\nPlease, let's forget the past\\n\\nThe future looks bright ahead\\n\\nDon't be cruel to who a heart that's true\\n\\nI don't want no other love\\n\\nBaby it's just you I'm thinking of\\n\\n\\n\\nDon't stop thinking of me\\n\\nDon't make me feel this way\\n\\nCome on over here and love me\\n\\nYou know what I want you to say\\n\\nDon't be cruel to who a heart that's true\\n\\nWhy should we be apart?\\n\\nI really love you baby, cross my heart\\n\\n\\n\\nLet's walk up to the preacher\\n\\nAnd let us say I do\\n\\nThen you'll know you'll have me\\n\\nAnd I'll know that I'll have you\\n\\nDon't be cruel to who a heart that's true\\n\\nI don't want no other love\\n\\nBaby it's just you I'm thinking of\\n\\n\\n\\nDon't be cruel to who a heart that's true\\n\\nDon't be cruel to who a heart that's true\\n\\nI don't want no other love\\n\\nBaby it's just you I'm thinking of\",\n",
       " \"It's now or never,\\n\\nCome hold me tight\\n\\nKiss me my darling,\\n\\nBe mine tonight\\n\\nTomorrow will be too late,\\n\\nIt's now or never\\n\\nMy love won't wait.\\n\\n\\n\\nWhen I first saw you\\n\\nWith your smile so tender\\n\\nMy heart was captured,\\n\\nMy soul surrendered\\n\\nI'd spend a lifetime\\n\\nWaiting for the right time\\n\\nNow that your near\\n\\nThe time is here at last.\\n\\n\\n\\nIt's now or never,\\n\\nCome hold me tight\\n\\nKiss me my darling,\\n\\nBe mine tonight\\n\\nTomorrow will be too late,\\n\\nIt's now or never\\n\\nMy love won't wait.\\n\\n\\n\\nJust like a willow,\\n\\nWe would cry an ocean\\n\\nIf we lost true love\\n\\nAnd sweet devotion\\n\\nYour lips excite me,\\n\\nLet your arms invite me\\n\\nFor who knows when\\n\\nWe'll meet again this way\\n\\n\\n\\nIt's now or never,\\n\\nCome hold me tight\\n\\nKiss me my darling,\\n\\nBe mine tonight\\n\\nTomorrow will be too late,\\n\\nIt's now or never\\n\\nMy love won't wait.\",\n",
       " \"Oh well, I'm tired and so weary\\n\\nBut I must go alone\\n\\nTill the lord comes and calls, calls me away, oh yes\\n\\nWell the morning's so bright\\n\\nAnd the lamp is alight\\n\\nAnd the night, night is as black as the sea, oh yes\\n\\n\\n\\nThere will be peace in the valley for me, some day\\n\\nThere will be peace in the valley for me, oh Lord I pray\\n\\nThere'll be no sadness, no sorrow\\n\\nNo trouble, trouble I see\\n\\nThere will be peace in the valley for me, for me\\n\\n\\n\\nWell the bear will be gentle\\n\\nAnd the wolves will be tame\\n\\nAnd the lion shall lay down by the lamb, oh yes\\n\\nAnd the beasts from the wild\\n\\nShall be lit by a child\\n\\nAnd I'll be changed, changed from this creature that I am, oh yes\\n\\n\\n\\nThere will be peace in the valley for me, some day\\n\\nThere will be peace in the valley for me, oh Lord I pray\\n\\nThere'll be no sadness, no sorrow\\n\\nNo trouble, trouble I see\\n\\nThere will be peace in the valley for me, for me\",\n",
       " \"Oh, baby, baby, baby, baby baby.\\n\\nBaby, baby baby, b-b-b-b-b-b baby baby, baby.\\n\\nBaby baby baby\\n\\nCome back, baby, I wanna play house with you.\\n\\n\\n\\nWell, you may go to college,\\n\\nYou may go to school.\\n\\nYou may have a pink cadillac,\\n\\nBut don't you be nobody's fool.\\n\\n\\n\\nNow baby,\\n\\nCome back, baby gone.\\n\\nCome back, baby gone.\\n\\nCome back, baby,\\n\\nI wanna play house with you.\\n\\n\\n\\nNow listen and I'll tell you baby\\n\\nWhat I'm talking about.\\n\\nCome on back to me, little girl,\\n\\nSo we can play some house.\\n\\n\\n\\nNow baby,\\n\\nCome back, baby gone.\\n\\nCome back, baby gone.\\n\\nCome back, baby,\\n\\nI wanna play house with you.\\n\\nOh let's play house, baby.\\n\\n\\n\\nNow this is one thing, baby\\n\\nThat I want you to know.\\n\\nCome on back and let's play a little house,\\n\\nAnd we can act like we did before.\\n\\nWell, baby,\\n\\nCome back, baby gone.\\n\\nCome back, baby gone.\\n\\nCome back, baby,\\n\\nI wanna play house with you.\\n\\n\\n\\nYeah.\\n\\n\\n\\nNow listen to me, baby\\n\\nTry to understand.\\n\\nI'd rather see you dead, little girl,\\n\\nThan to be with another man.\\n\\nNow baby,\\n\\nCome back, baby gone.\\n\\nCome back, baby gone.\\n\\nCome back, baby, I wanna play house with you.\\n\\n\\n\\nOh, baby baby baby.\\n\\nBaby baby baby b-b-b-b-b-b baby baby baby.\\n\\nBaby baby baby.\\n\\nCome back, baby, I wanna play house with you.\",\n",
       " \"Follow that dream, I gotta follow that dream\\n\\nKeep a-movin', move along, keep a moving\\n\\nI've got to follow that dream wherever that dream may lead\\n\\nI've got to follow that dream to find the love I need\\n\\n\\n\\nWhen your heart gets restless, time to move along\\n\\nWhen your heart gets weary, time to sing a song\\n\\nBut when a dream is calling you,\\n\\nThere's just one thing that you can do\\n\\n\\n\\nWell, you gotta follow that dream wherever that dream may lead\\n\\nYou gotta follow that dream to find the love you need\\n\\n\\n\\nKeep a-movin', move along, keep a moving\\n\\nGot to find me someone whose heart is free\\n\\nSomeone to look for my dream with me\\n\\nAnd when I find her I may find out\\n\\nJust what my dreams are all about\\n\\n\\n\\nI've got to follow that dream wherever that dream may lead\\n\\nI've got to follow that dream to find the love I need\\n\\n\\n\\nI've got to follow that dream wherever that dream may lead\\n\\nI've got to follow that dream to find the love I need\\n\\n\\n\\nKeep a-movin', move along\\n\\nKeep a-movin', move along\\n\\nKeep a-movin', move along\\n\\n\\n\\nThe tittle of this song is FOLLOW THAT DREAM\",\n",
       " \"You gave me love to enjoy\\n\\nLike a bright shiny toy to a baby\\n\\nNo matter what you would do\\n\\nI depended on you like a baby\\n\\n\\n\\nOne thing I know, I love you\\n\\nYes, I loved you like a baby\\n\\nIt was a fool what you took\\n\\nAnd I fell 'cause you look like a baby\\n\\n\\n\\nTo lovers' ways I was blind\\n\\n'Cause I just had a mind like a baby\\n\\nYou're just a flirt\\n\\nAnd I had to be her guide like a baby\\n\\n\\n\\nI need you so, I need you so\\n\\n\\n\\nThe day I found I am alive\\n\\nThen, I broke down and cried like a baby\\n\\nWell, it was then I could see\\n\\nYou were playing with me like a baby\\n\\nWell, you can bet that some day\\n\\nI'll forget just like a baby\",\n",
       " \"Well, I went to the bayou just last night\\n\\nThere was no moon, but the stars were bright\\n\\nPut a big long hook on a big long pole\\n\\nAnd I pulled Mr. Crawfish out of his hole\\n\\nCrawfish\\n\\n\\n\\nSee I got him; see the size\\n\\nStripped and cleaned before your eyes\\n\\nSweet meat, look, fresh and ready to cook\\n\\nCrawfish\\n\\n\\n\\nNow take Mr. Crawfish in your hand\\n\\nHe's gonna look good in your frying pan\\n\\nIf you fry him crisp or you boil him right\\n\\nHe'll be sweeter than sugar when you take a bite\\n\\nCrawfish\",\n",
       " \"When my blue moon turns to gold again\\n\\nWhen the rainbow turns the clouds away\\n\\nWhen my blue moon turns to gold again\\n\\nYou'll be back in my arms to stay\\n\\n\\n\\nMemories that linger in my heart\\n\\nMemories that make my heart grow cold\\n\\nBut someday they'll live again sweetheart\\n\\nAnd my blue moon again will turn to gold\\n\\n\\n\\nThe lips that used to thrill me so\\n\\nYour kisses were meant for only me\\n\\nIn my dreams they live again sweetheart\\n\\nBut my blue moon is just a memory\\n\\n\\n\\nThe castles we used to build together\\n\\nWere the sweetest stories ever told\\n\\nMaybe we will live them all again\\n\\nAnd my blue moon again will turn to gold\",\n",
       " \"I want to soothe my my heart, I want to ease my mind\\n\\nI want to move my shoes and see what I can find\\n\\nI want to stand up tall and open up my eyes\\n\\nI want to reach out my hand until I'm touchin' the skies\\n\\nI was a poor lost lamb in a deep dark hole\\n\\nBut now I've found that light that's gonna save my soul\\n\\nI used to drink, I used to smoke\\n\\nI used to smoke, drink and dance the hoochy-coo\\n\\nI used to smoke and drink\\n\\nSmoke and drink and dance the hoochy-coo\\n\\nOh, oh, yeah\\n\\nBut now I'm standing on this corner praying for me and you\\n\\n\\n\\nThat's why I'm saved (I'm saved)\\n\\nI'm saved (I'm saved)\\n\\nPeople let me tell you 'bout kingdom come\\n\\nYou know I'm saved (I'm saved)\\n\\nI'm saved (I'm saved)\\n\\nWell, I can preach until you're deaf and dumb\\n\\nI'm in that soul-saving army\\n\\nBeating on that big bass drum (bass drum, hey, hey, hey)\\n\\n\\n\\nI used to cuss, I used to fuss\\n\\nI used to fuss, cuss, boogie all night long\\n\\nI used to cuss and fuss and cuss and fuss\\n\\nAnd cuss and fuss and boogie all night long\\n\\nWell now I'm standing on this corner\\n\\nI know right from wrong\\n\\n\\n\\nThat's why I'm saved (I'm saved)\\n\\nI'm saved (yes, I'm saved)\\n\\nPeople let me tell you 'bout kingdom come\\n\\nYou know I'm saved (I'm saved)\\n\\nI'm saved (yes, I'm saved)\\n\\nWell, now I can preach until you're deaf and dumb\\n\\nI'm in that soul-saving army\\n\\nBeating on that big bass drum (ooh yeah)\\n\\n\\n\\nOh yeah!\\n\\n\\n\\nI used to lie (lie!) I used to cheat (cheat!)\\n\\nI used to lie, cheat, step on people's feet\\n\\nI used to lie and cheat (lie and cheat)\\n\\nLie and cheat and step on people's feet (lie and cheat)\\n\\nWell now I'm steppin' on to glory salvation in my beat\\n\\n\\n\\nBecause I'm saved (I'm saved)\\n\\nI'm saved (I'm saved)\\n\\nPeople let me tell you 'bout kingdom come\\n\\nI am saved (I'm saved)\\n\\nI am saved (I'm saved)\\n\\nWell, now I can preach until you're deaf and dumb\\n\\nI'm in that soul-saving army\\n\\nBeating on that big bass drum \\n\\nOh, oh, yeah\\n\\nBecause I'm saved (I'm saved)\\n\\nI'm saved (I'm saved)\\n\\nPeople let me tell you 'bout kingdom come\\n\\nYou know I'm saved (Lord I'm saved)\\n\\nI'm saved (yes I'm saved)\\n\\nWell, now I can preach until you're deaf and dumb\\n\\nI'm saved (I'm saved)\\n\\nI'm saved (I'm saved)\\n\\nI'm saved\\n\\n\\n\\nHow can I say? (I'm saved)\\n\\nI am saved (I am saved)\\n\\nYeah, I'm saved\\n\\nOh yeah, saved!\",\n",
       " \"You say that you love me\\n\\nAnd swear it to be true\\n\\nBut if you care to come over here\\n\\nAnd make me know it do\\n\\nCome on now, make me know it\\n\\nThen go ahead and show it\\n\\nBut if you care to come over here\\n\\nAnd make me know it do\\n\\n\\n\\nYou say you've got kisses\\n\\nAnd swear that they're brand new\\n\\nI think that's fine if you ain't lyin'\\n\\nBut make me know it do\\n\\nCome on now, make me know it\\n\\nThen go ahead and show it\\n\\nI think that's fine if you ain't lyin'\\n\\nBut make me know it do\\n\\n\\n\\nYou won't have no trouble proving it to me\\n\\nCome right along you'll find me\\n\\nHelpful as can be\\n\\n\\n\\nYou say you wanna hold me\\n\\nAnd stick to me like glue\\n\\nWell hearing's deceiving\\n\\nAnd seeing's believing\\n\\nMake me know it do\\n\\nCome on now, make me know it\\n\\nWell go ahead and show it\\n\\nI say hearing's deceiving\\n\\nSeeing's believing\\n\\nMake me know it do\\n\\n\\n\\nYou won't have no trouble proving it to me\\n\\nCome right along you'll find me\\n\\nHelpful as can be\\n\\n\\n\\nYou say you wanna hold me\\n\\nAnd stick to me like glue\\n\\nWell hearing's deceiving\\n\\nAnd seeing's believing\\n\\nMake me know it do\\n\\nCome on now, make me know it\\n\\nWell go ahead and show it\\n\\nI say hearing's deceiving\\n\\nSeeing's believing\\n\\nMake me know it do\\n\\n\\n\\nOh make me know it\\n\\nThen go ahead and show it\\n\\nMake me know it\\n\\nThen go ahead and show it.\",\n",
       " \"Yes, I'm gonna walk on that milky white way\\n\\nOh Lord, some of these days\\n\\nWell, I'm gonna walk that milky white way\\n\\nSome of these days, well, well, well, well\\n\\nI'm gonna walk up and take my stand\\n\\nGonna join that Christian band\\n\\nI'm gonna walk on that milky white way\\n\\nOh Lord, some of these days\\n\\n\\n\\nI'm gonna tell my mother howdy, howdy\\n\\nHowdy when I get home\\n\\nYes, I'm gonna tell my mother howdy\\n\\nWhen I get home, well, well, well, well\\n\\nI'm gonna shake my mother's hand\\n\\nI will shake her hands that day\\n\\nThat's when we walk on that milky white way\\n\\nOh Lord, one of these days\\n\\n(On some of these days)\\n\\n\\n\\nI'm gonna meet God the Father and God the Son\\n\\nYes, I'm gonna meet God the Father and God the Son\\n\\nWell, well, well, well\\n\\nI'm gonna sit down and tell Him my troubles\\n\\nAbout the world that I just came from\\n\\nThat's when we walk on that milky white way\\n\\nOh Lord, one of these days\",\n",
       " \"Big boss man, can't you hear me when I call?\\nBig boss man, can't you hear me when I call?\\nCan't you hear me when I call?\\nWell you ain't so big, you know you're just tall that's all, All right\\nWell you got me workin' boss man\\nWorkin' round the clock\\nI want to little drink of water\\nBut you won't let big Al stop\\nBig boss man now can't you hear me when I call? All right\\nI said you ain't so big, you know you're just tall that's all\\n\\nBig boss man, why can't you hear me when I call? All right\\nYou know you ain't so big, I said you're just tall that's all, All right\\n\\nI'm gonna get me a boss man\\nOne who's gonna treat me right\\nI work hard in the day time\\nRest easy at night\\nBig boss man, can't you hear me when I call?\\nCan't you hear me when I call?\\n\\nI said you ain't so big, you're just tall that's all\\nI'm gonna get me a boss man\\nOne that's gonna treat me right\\nI work hard in the evenin'\\nRest easy at night\\nBig boss man, big boss man, can't you hear me when I call?\\nI said you ain't so big, you're just tall that's all\\nAll right, big boss man\\nBig boss man\",\n",
       " \"If you're looking for trouble\\n\\nYou came to the right place\\n\\nIf you're looking for trouble\\n\\nJust look right in my face\\n\\n\\n\\nI was born standing up\\n\\nAnd talking back\\n\\nMy daddy was a green-eyed mountain jack\\n\\nBecause I'm evil, my middle name is misery\\n\\n\\n\\nWell I'm evil, so don't you mess around with me\\n\\nI've never looked for trouble\\n\\nBut I've never ran\\n\\nI don't take no orders\\n\\n\\n\\nFrom no kind of man\\n\\nI'm only made out\\n\\nOf flesh, blood and bone\\n\\nBut if you're gonna start a rumble\\n\\n\\n\\nDon't you try it on alone\\n\\nBecause I'm evil, my middle name is misery\\n\\nWell I'm evil, so don't you mess around with me\\n\\nI'm evil, evil, evil, as can be\\n\\nI'm evil, evil, evil, as can be\\n\\n\\n\\nSo don't mess around, don't mess around\\n\\nDon't mess around with me\\n\\nI'm evil, I'm evil, evil, evil\\n\\nSo don't mess around, don't mess around with me\\n\\n\\n\\nI'm evil, I tell you I'm evil\\n\\nSo don't mess around with me\\n\\nYeah!\",\n",
       " \"I am just a lonesome cowboy\\n\\nAnd I'm travelling all alone\\n\\nI ain't even got a nickel\\n\\nTo call my baby on the phone\\n\\n\\n\\nJust beyond the mountain lies a city\\n\\nAnd I hear it calling me\\n\\nSaddle up and ride you lonesome cowboy\\n\\nHere is where you'll find your destiny\\n\\nIn my dreams the lights shine bright and pretty\\n\\nNear to me and yet so far\\n\\nWill I always be a lonesome cowboy\\n\\nAm I only reaching for a star\\n\\n\\n\\nRide. Ride, ride, ride along cowboy\\n\\nSing, sing, sing, sing a song cowboy\\n\\n\\n\\nWill I ever leave this lonesome valley\\n\\nReally see the lights that shine\\n\\nGotta find what lies beyond the mountain\\n\\nGotta rope and tie that dream of mine\\n\\n\\n\\nI am just a lonesome cowboy\\n\\nAnd I'm travelling all alone\\n\\nIf you don't call me baby\\n\\nThen I'm never coming home.\",\n",
       " \"[Chorus:]\\n\\nGirl happy, yes I'm girl happy\\n\\nGirl happy, can't you see\\n\\n\\n\\nEvery girl I see looks good to me\\n\\nWhat crazy way I were to be\\n\\nI love a life of nothing but beautiful women\\n\\nWell...\\n\\n\\n\\n[Chorus]\\n\\n\\n\\nEvery time I see a pretty face\\n\\nMy heart just heads for outer space\\n\\nI need a girl to make my life worth of living\\n\\nYes...\\n\\n\\n\\n[Chorus]\\n\\n\\n\\nI've been like this since I was just a baby boy\\n\\nFirst nurse that rocked my cradle made me jump to joy\\n\\nMama keep your daughter out of sight\\n\\nI'm in a loving mood tonight\\n\\nI love a life of nothing but beautiful women\\n\\nWell...\\n\\n\\n\\n[Chorus]\\n\\n\\n\\nI've been like this since I was just a baby boy\\n\\nFirst nurse that rocked my cradle made me jump to joy\\n\\n\\n\\n[Chorus] [x 2]\",\n",
       " \"Amazing Grace!\\n\\nOh, how sweet the sound\\n\\nThat saved a wretch like me\\n\\nI once was lost\\n\\nOh, but now, now I'm found\\n\\nWas blind, oh, but now I see\\n\\n\\n\\nWhen we've been there\\n\\nTen thousand years\\n\\nBright shining as the sun\\n\\nWe've no less days\\n\\nTo sing God's praise\\n\\nThan when, when we've first begun\\n\\n\\n\\nThrough many dangers, toils and snares\\n\\nI have already come\\n\\n'Tis Grace has brought me safe thus far\\n\\nAnd Grace will lead me home\\n\\n\\n\\nAmazing Grace!\\n\\nOh, how sweet the sound (how sweet the sound)\\n\\nThat saved a wretch like me (like me)\\n\\nOh, I once was lost\\n\\nOh, but now, now I'm found\\n\\nWas blind, oh, but now I see\\n\\nWas blind but now I see\",\n",
       " 'When trouble is in my way\\n\\nI can\\'t tell my night from day\\n\\nI\\'m tossed from side to side\\n\\nLike a ship on a raging tide\\n\\nI don\\'t worry and I don\\'t fret\\n\\nGod has never failed me yet\\n\\nTrouble\\'s comin\\' from time to time\\n\\nBut that\\'s all right, I\\'m not the worrying kind\\n\\n\\n\\nBecause I got confidence\\n\\nGod is gonna see me through\\n\\nNo matter what the case may be\\n\\nI know He\\'s gonna fix it for me\\n\\nI got confidence\\n\\nGod is gonna see me through\\n\\nNo matter what the case may be\\n\\nI know He\\'s gonna fix it for me\\n\\n\\n\\nJob was so sick, oh-so long\\n\\nTill the flesh fell from his bones\\n\\nHis wife, his cattle and children\\n\\nEverything that he had was gone\\n\\nBut Job he never dispaired\\n\\nHe knew that God still cared\\n\\nSleepless days and sleepless nights\\n\\nJob said \"honey that\\'s all right,\" because\\n\\n\\n\\nI got confidence\\n\\nGod is gonna see me through\\n\\nNo matter what the case may be\\n\\nI know He\\'s gonna fix it for me\\n\\nI got confidence\\n\\nGod is gonna see me through\\n\\nNo matter what the case may be\\n\\nI know He\\'s gonna fix it for me\\n\\n\\n\\nSome folks wonder how I smile\\n\\nEven though I\\'m going through trials\\n\\nHow can I have a song\\n\\nWhen everything is going wrong\\n\\nI don\\'t worry and I don\\'t fret\\n\\nGod has never failed me yet\\n\\nTrouble\\'s coming from time to time\\n\\nThat\\'s all right, I\\'m not the worrying kind\\n\\n\\n\\nBecause I got confidence\\n\\nGod is gonna see me through\\n\\nNo matter what the case may be\\n\\nI know He\\'s gonna fix it for me\\n\\nI got confidence\\n\\nGod is gonna see me through\\n\\nNo matter what the case may be, Lord\\n\\nI know He\\'s gonna fix it for me, Lord\\n\\n\\n\\nI got confidence\\n\\nI got confidence\\n\\nI know He\\'s gonna fix it for me\\n\\nBecause I got confidence\\n\\nGod is gonna see me through\\n\\nNo matter what the case may be\\n\\nI know He\\'s gonna fix it for me\\n\\nI got confidence\\n\\nGod is gonna see me through\\n\\nNo matter what the case may be\\n\\nI know He\\'s gonna fix it for me\\n\\n\\n\\nI got confidence\\n\\nGod is gonna see me through\\n\\nNo matter what the case may be (no matter)\\n\\nI know He\\'s gonna fix it for me\\n\\nI got confidence\\n\\nGod is gonna see me through (he\\'s gonna see me through)\\n\\nNo matter what the case may be\\n\\nI know He\\'s gonna fix it for me\\n\\n\\n\\nOoh yeah!',\n",
       " \"Can't you see\\n\\nI love you\\n\\nPlease don't break my heart in two\\n\\nThat's not hard to do\\n\\n'Cause I don't have a wooden heart\\n\\nAnd if you say goodbye\\n\\nThen I know that I would cry\\n\\nMaybe I would die\\n\\n'Cause I don't have a wooden heart\\n\\n\\n\\nThere's no strings upon \\n\\nThis love of mine\\n\\nIt was always you from the start\\n\\nTreat me nice, treat me good\\n\\nTreat me like you really should\\n\\n'Cause I'm not made of wood\\n\\nAnd I don't have a wooden heart\\n\\n\\n\\nMuss I denn, muss I denn\\n\\nZum stadtele hinaus\\n\\nStadtele hinaus\\n\\nUnd du, mein Schatz, bleibst hier?\\n\\n\\n\\nMuss I denn, muss I denn\\n\\nZum stadtele hinaus\\n\\nStadtele hinaus\\n\\nUnd du, mein Schatz, bleibst hier?\\n\\n\\n\\nThere's no strings upon this love of mine\\n\\nIt was always you from the start\\n\\nSei mir gut, sei mir gut\\n\\nSei mir wie du wirklich sollst\\n\\nWie du wirklich sollst\\n\\n'Cause I don't have a wooden heart\",\n",
       " \"Smile an everlasting smile\\n\\nA smile can bring you near to me\\n\\nDon't ever let me find you gone\\n\\n'Cause that would bring a tear to me\\n\\nThis world has lost his glory\\n\\nLet's start a brand new story\\n\\nnow , my love\\n\\nRight now , there'll be no other time\\n\\nAnd I can show you how\\n\\nMy love\\n\\n\\n\\nTalk in everlasting words\\n\\nAnd dedicate them all to me\\n\\nAnd I will give you all my life\\n\\nI'm here if you should call to me\\n\\nYou think that I don't even mean\\n\\nA single word I say\\n\\n\\n\\nIt's only words \\n\\nAnd words are all I have \\n\\nTo take your heart away\\n\\n\\n\\nNa \\n\\nna na na na na na\\n\\nna na na na na na na na\\n\\nna na \\n\\nna na na na na na \\n\\nna na na na na na na na \\n\\nYou think that I don't even mean\\n\\nA single word I say\\n\\n\\n\\nIt's only words          \\n\\nAnd words are all I have \\n\\nTo take your heart away  \\n\\nTo take your heart away\\n\\nTo take your heart away\\n\\nTo take your heart away\",\n",
       " \"Oh break it, burn it, drag it all around\\n\\nTwist it, turn it, you can't tear it down\\n\\nCause every minute, every hour you'll be shaken\\n\\nBy the strength and mighty power of my love\\n\\n\\n\\nCrush it, kick it, you can never win\\n\\nI know baby you can't lick it\\n\\nI'll make you give in\\n\\nEvery minute, every hour you'll be shaken\\n\\nBy the strength and mighty power of my love\\n\\n\\n\\nBaby I want you, you'll never get away\\n\\nMy love will haunt you yes haunt you night and day\\n\\nTouch it, pound it, what good does it do\\n\\nThere's just no stoppin' the way I feel for you\\n\\nCause' every minute, every hour you'll be shaken\\n\\nBy the strength and mighty power of my love\\n\\n\\n\\nYeh, yeh, baby I want you, you'll never get away\\n\\nMy love will haunt you yes haunt you night and day\\n\\nTouch it, pound it, what good does it do\\n\\nThere's just no stoppin' the way I feel for you\\n\\nCause every minute, every hour you'll be shaken\\n\\nBy the strength and mighty power of my love\\n\\n\\n\\nI said every minute, every hour you'll be shaken\\n\\nBy the strength and mighty power of my love\\n\\n\\n\\nEvery minute, every hour you'll be shaken\\n\\nBy the strength and mighty power of my love\",\n",
       " \"Back porch preacher preaching at me\\n\\nActing like he wrote the golden rules\\n\\nShaking his fist and speeching at me\\n\\nShouting from his soap box like a fool\\n\\nCome Sunday morning he's lying in bed\\n\\nWith his eye all red, with the wine in his head\\n\\nWishing he was dead when he oughta be \\n\\nHeading for Sunday school\\n\\nClean up your own backyard\\n\\nOh don't you hand me none of your lines\\n\\nClean up your own backyard\\n\\nYou tend to your business, I'll tend to mine\\n\\nDrugstore cowboy criticizing\\n\\nActing like he's better than you and me\\n\\nStanding on the sidewalk supervising\\n\\nTelling everybody how they ought to be\\n\\nCome closing time 'most every night\\n\\nHe locks up tight and out go the lights\\n\\nAnd he ducks out of sight and he cheats on his wife\\n\\nWith his employee\\n\\nClean up your own backyard\\n\\nOh don't you hand me none of your lines\\n\\nClean up your own backyard\\n\\nYou tend to your business, I'll tend to mine\\n\\nArmchair quarterback's always moanin'\\n\\nSecond guessing people all day long\\n\\nPushing, fooling and hanging on in\\n\\nAlways messing where they don't belong\\n\\nWhen you get right down to the nitty-gritty\\n\\nIsn't it a pity that in this big city \\n\\nNot a one a'little bitty man'll admit\\n\\nHe could have been a little bit wrong\\n\\nClean up your own backyard\\n\\nOh don't you hand me, don't you hand me none of your lines\\n\\nClean up your own backyard\\n\\nYou tend to your business, I'll tend to mine\\n\\nClean up your own backyard\\n\\nYou tend to your business, I'll tend to mine\\n\\n\",\n",
       " \"Listen easy, you can hear God calling\\n\\nWalking barefoot by the stream\\n\\nCome on to me, Your hair's softly falling\\n\\nOn my face as in a dream\\n\\nAnd the time will be our time\\n\\nAnd the grass won't pay no mind\\n\\n\\n\\nSaying nothing, lying where the sun is\\n\\nBaking down upon our sides\\n\\nMy lips touch you, with their soft wet kisses\\n\\nYour hands gentle in reply\\n\\nAnd the time will be our time\\n\\nAnd the grass won't pay no mind\\n\\n\\n\\nChild, touch my soul with your cries\\n\\nAnd the music will know what we've found\\n\\nI, hear a hundred good-byes\\n\\nBut today I hear only one sound\\n\\nThe moment we're living is now\\n\\nNow now now now now now now\\n\\n\\n\\nYoung bird flying, and a soft wind blowing\\n\\nCools the sweat inside my palms\\n\\nClose my eyes, hear the flowers growing\\n\\nAs you lay sleeping in my arms\\n\\nAnd the time will be our time\\n\\nAnd the grass won't pay no mind\\n\\nNo the grass won't pay no mind\",\n",
       " 'I said, \"Take it easy, baby\\n\\nI worked all day and my feet feel just like lead\\n\\nYou got my shirt tails\\n\\nFlyin\\' all over the place\\n\\nAnd the sweat poppin\\' out of my head\"\\n\\n\\n\\nShe said, \"Hey, Bossa Nova Baby\\n\\nKeep on a workin\\', child\\n\\nThis ain\\'t no time to quit\"\\n\\nShe said, \"Go, Bossa Nova Baby\\n\\nKeep on dancin\\'\\n\\nI\\'m about to have myself a fit\"\\n\\nBossa Nova, Bossa Nova\\n\\n\\n\\nI said, \"Hey, little mama\\n\\nLet\\'s sit down\\n\\nHave a drink and dig the band\"\\n\\n\\n\\nShe said, \"Drink, drink, drink\\n\\nOh, fiddle-de-dink\\n\\nI can dance with a drink in my hand\"\\n\\nShe said, \"Hey, Bossa Nova Baby\\n\\nKeep on workin\\', child\\n\\nThis ain\\'t no time to drink\"\\n\\nShe said, \"Go, Bossa Nova Baby\\n\\nKeep on dancin\\'\\n\\n\\'Cause I ain\\'t got time to think\"\\n\\n\\n\\nI said, \"Come on, baby\\n\\nIt\\'s hot in here\\n\\nAnd it\\'s oh-so cool outside\\n\\nIf you lend me a dollar\\n\\nI can buy some gas\\n\\nAnd we can go for a little ride\"\\n\\n\\n\\nShe said, \"Hey Bossa Nova Baby\\n\\nKeep on workin\\', child\\n\\nI ain\\'t got time for that\"\\n\\nShe said, \"Go, Bossa Nova Baby\\n\\nKeep on dancin\\'\\n\\nOr I\\'ll find myself another cat\"',\n",
       " \"Precious Lord, take my hand\\n\\nLead me on, let me stand\\n\\nI'm tired, I'm weak, I'm lone\\n\\nThrough the storm, through the night\\n\\nLead me on to the light\\n\\nTake my hand precious Lord, lead me home\\n\\n\\n\\nWhen my way grows drear, precious Lord linger near\\n\\nWhen my light is almost gone\\n\\nHear my cry, hear my call\\n\\nHold my hand lest I fall\\n\\nTake my hand precious Lord, lead me home\\n\\n\\n\\nWhen the darkness appears and the night draws near\\n\\nAnd the day is past and gone\\n\\nAt the river I stand\\n\\nGuide my feet, hold my hand\\n\\nTake my hand precious Lord, lead me home\\n\\n\\n\\nPrecious Lord, take my hand\\n\\nLead me on, let me stand\\n\\nI'm tired, I'm weak, I'm lone\\n\\nThrough the storm, through the night\\n\\nLead me on to the light\\n\\nTake my hand precious Lord, lead me home (lead me home)\",\n",
       " \"Once I stood in the night\\n\\nWith my head bowed low\\n\\nIn the darkness\\n\\nAs black as could be\\n\\nAnd my heart felt alone\\n\\nAnd I cried, oh Lord\\n\\nDon't hide your face from me\\n\\n\\n\\nHold my hand all the way\\n\\nEvery hour, every day\\n\\nCome here to the great unknown\\n\\n\\n\\nTake my hand\\n\\nLet me stand\\n\\nWhere no one stands alone\\n\\n\\n\\nLike a king I may live\\n\\nIn a palace so tall\\n\\nWith great riches to call my own\\n\\nBut I don't know a thing\\n\\nIn this whole wide world\\n\\nThat's worse than being alone\\n\\n\\n\\nHold my hand all the way\\n\\nEvery hour, every day\\n\\nCome here to the great unknown\\n\\n\\n\\nTake my hand\\n\\nLet me stand\\n\\nWhere no one stands alone\\n\\n\\n\\nTake my hand\\n\\nLet me stand\\n\\nWhere no one stands alone\",\n",
       " \"\\nFred Wise, Randy Starr, Bernie Baum, Bill Giant, Florence Kaye\\n\\nCousins, kissin' cousins\\nKissin's allowed 'cause we're proud to be cousins\\nWhat's a little teasin', huggin' and a-squeezin'\\nBetween us cousins.\\nOh it's so great to be one big family\\nAnd we show it, yes we show it\\nYou see, we never feud, we're a happy brood\\nFolks all know it, yes they know it\\nCousins, kissin' cousins\\nHoney we dress and we mess\\nWe're just cousins,\\nCousins, kissin' cousins\\nCousins, kissin' cousins\\n\\n\"]"
      ]
     },
     "execution_count": 5,
     "metadata": {},
     "output_type": "execute_result"
    }
   ],
   "source": [
    "CORPUS"
   ]
  },
  {
   "cell_type": "code",
   "execution_count": 6,
   "metadata": {
    "hidden": true
   },
   "outputs": [
    {
     "data": {
      "text/plain": [
       "['bobmarley_0',\n",
       " 'bobmarley_1',\n",
       " 'bobmarley_2',\n",
       " 'bobmarley_3',\n",
       " 'bobmarley_4',\n",
       " 'bobmarley_5',\n",
       " 'bobmarley_6',\n",
       " 'bobmarley_7',\n",
       " 'bobmarley_8',\n",
       " 'bobmarley_9',\n",
       " 'bobmarley_10',\n",
       " 'bobmarley_11',\n",
       " 'bobmarley_12',\n",
       " 'bobmarley_13',\n",
       " 'bobmarley_14',\n",
       " 'bobmarley_15',\n",
       " 'bobmarley_16',\n",
       " 'bobmarley_17',\n",
       " 'bobmarley_18',\n",
       " 'bobmarley_19',\n",
       " 'bobmarley_20',\n",
       " 'bobmarley_21',\n",
       " 'bobmarley_22',\n",
       " 'bobmarley_23',\n",
       " 'bobmarley_24',\n",
       " 'bobmarley_25',\n",
       " 'bobmarley_26',\n",
       " 'bobmarley_27',\n",
       " 'bobmarley_28',\n",
       " 'bobmarley_29',\n",
       " 'bobmarley_30',\n",
       " 'bobmarley_31',\n",
       " 'bobmarley_32',\n",
       " 'bobmarley_33',\n",
       " 'bobmarley_34',\n",
       " 'bobmarley_35',\n",
       " 'bobmarley_36',\n",
       " 'bobmarley_37',\n",
       " 'bobmarley_38',\n",
       " 'bobmarley_39',\n",
       " 'bobmarley_40',\n",
       " 'bobmarley_41',\n",
       " 'bobmarley_42',\n",
       " 'bobmarley_43',\n",
       " 'bobmarley_44',\n",
       " 'bobmarley_45',\n",
       " 'bobmarley_46',\n",
       " 'bobmarley_47',\n",
       " 'bobmarley_48',\n",
       " 'bobmarley_49',\n",
       " 'bobmarley_50',\n",
       " 'bobmarley_51',\n",
       " 'bobmarley_52',\n",
       " 'bobmarley_53',\n",
       " 'bobmarley_54',\n",
       " 'bobmarley_55',\n",
       " 'bobmarley_56',\n",
       " 'bobmarley_57',\n",
       " 'bobmarley_58',\n",
       " 'bobmarley_59',\n",
       " 'bobmarley_60',\n",
       " 'bobmarley_61',\n",
       " 'bobmarley_62',\n",
       " 'bobmarley_63',\n",
       " 'bobmarley_64',\n",
       " 'bobmarley_65',\n",
       " 'bobmarley_66',\n",
       " 'bobmarley_67',\n",
       " 'bobmarley_68',\n",
       " 'bobmarley_69',\n",
       " 'bobmarley_70',\n",
       " 'bobmarley_71',\n",
       " 'bobmarley_72',\n",
       " 'bobmarley_73',\n",
       " 'bobmarley_74',\n",
       " 'bobmarley_75',\n",
       " 'bobmarley_76',\n",
       " 'bobmarley_77',\n",
       " 'bobmarley_78',\n",
       " 'bobmarley_79',\n",
       " 'bobmarley_80',\n",
       " 'bobmarley_81',\n",
       " 'bobmarley_82',\n",
       " 'bobmarley_83',\n",
       " 'bobmarley_84',\n",
       " 'bobmarley_85',\n",
       " 'bobmarley_86',\n",
       " 'bobmarley_87',\n",
       " 'bobmarley_88',\n",
       " 'bobmarley_89',\n",
       " 'bobmarley_90',\n",
       " 'bobmarley_91',\n",
       " 'bobmarley_92',\n",
       " 'bobmarley_93',\n",
       " 'bobmarley_94',\n",
       " 'bobmarley_95',\n",
       " 'bobmarley_96',\n",
       " 'bobmarley_97',\n",
       " 'bobmarley_98',\n",
       " 'bobmarley_99',\n",
       " 'bobmarley_100',\n",
       " 'bobmarley_101',\n",
       " 'bobmarley_102',\n",
       " 'bobmarley_103',\n",
       " 'bobmarley_104',\n",
       " 'bobmarley_105',\n",
       " 'bobmarley_106',\n",
       " 'bobmarley_107',\n",
       " 'bobmarley_108',\n",
       " 'elvispresley_0',\n",
       " 'elvispresley_1',\n",
       " 'elvispresley_2',\n",
       " 'elvispresley_3',\n",
       " 'elvispresley_4',\n",
       " 'elvispresley_5',\n",
       " 'elvispresley_6',\n",
       " 'elvispresley_7',\n",
       " 'elvispresley_8',\n",
       " 'elvispresley_9',\n",
       " 'elvispresley_10',\n",
       " 'elvispresley_11',\n",
       " 'elvispresley_12',\n",
       " 'elvispresley_13',\n",
       " 'elvispresley_14',\n",
       " 'elvispresley_15',\n",
       " 'elvispresley_16',\n",
       " 'elvispresley_17',\n",
       " 'elvispresley_18',\n",
       " 'elvispresley_19',\n",
       " 'elvispresley_20',\n",
       " 'elvispresley_21',\n",
       " 'elvispresley_22',\n",
       " 'elvispresley_23',\n",
       " 'elvispresley_24',\n",
       " 'elvispresley_25',\n",
       " 'elvispresley_26',\n",
       " 'elvispresley_27',\n",
       " 'elvispresley_28',\n",
       " 'elvispresley_29',\n",
       " 'elvispresley_30',\n",
       " 'elvispresley_31',\n",
       " 'elvispresley_32',\n",
       " 'elvispresley_33',\n",
       " 'elvispresley_34',\n",
       " 'elvispresley_35',\n",
       " 'elvispresley_36',\n",
       " 'elvispresley_37',\n",
       " 'elvispresley_38',\n",
       " 'elvispresley_39',\n",
       " 'elvispresley_40',\n",
       " 'elvispresley_41',\n",
       " 'elvispresley_42',\n",
       " 'elvispresley_43',\n",
       " 'elvispresley_44',\n",
       " 'elvispresley_45',\n",
       " 'elvispresley_46',\n",
       " 'elvispresley_47',\n",
       " 'elvispresley_48',\n",
       " 'elvispresley_49',\n",
       " 'elvispresley_50',\n",
       " 'elvispresley_51',\n",
       " 'elvispresley_52',\n",
       " 'elvispresley_53',\n",
       " 'elvispresley_54',\n",
       " 'elvispresley_55',\n",
       " 'elvispresley_56',\n",
       " 'elvispresley_57',\n",
       " 'elvispresley_58',\n",
       " 'elvispresley_59',\n",
       " 'elvispresley_60',\n",
       " 'elvispresley_61',\n",
       " 'elvispresley_62',\n",
       " 'elvispresley_63',\n",
       " 'elvispresley_64',\n",
       " 'elvispresley_65',\n",
       " 'elvispresley_66',\n",
       " 'elvispresley_67',\n",
       " 'elvispresley_68',\n",
       " 'elvispresley_69',\n",
       " 'elvispresley_70',\n",
       " 'elvispresley_71',\n",
       " 'elvispresley_72',\n",
       " 'elvispresley_73',\n",
       " 'elvispresley_74',\n",
       " 'elvispresley_75',\n",
       " 'elvispresley_76',\n",
       " 'elvispresley_77',\n",
       " 'elvispresley_78',\n",
       " 'elvispresley_79',\n",
       " 'elvispresley_80',\n",
       " 'elvispresley_81',\n",
       " 'elvispresley_82',\n",
       " 'elvispresley_83',\n",
       " 'elvispresley_84',\n",
       " 'elvispresley_85',\n",
       " 'elvispresley_86',\n",
       " 'elvispresley_87',\n",
       " 'elvispresley_88',\n",
       " 'elvispresley_89',\n",
       " 'elvispresley_90',\n",
       " 'elvispresley_91',\n",
       " 'elvispresley_92',\n",
       " 'elvispresley_93',\n",
       " 'elvispresley_94',\n",
       " 'elvispresley_95',\n",
       " 'elvispresley_96',\n",
       " 'elvispresley_97',\n",
       " 'elvispresley_98',\n",
       " 'elvispresley_99',\n",
       " 'elvispresley_100',\n",
       " 'elvispresley_101',\n",
       " 'elvispresley_102',\n",
       " 'elvispresley_103',\n",
       " 'elvispresley_104',\n",
       " 'elvispresley_105',\n",
       " 'elvispresley_106',\n",
       " 'elvispresley_107',\n",
       " 'elvispresley_108',\n",
       " 'elvispresley_109',\n",
       " 'elvispresley_110',\n",
       " 'elvispresley_111',\n",
       " 'elvispresley_112',\n",
       " 'elvispresley_113',\n",
       " 'elvispresley_114']"
      ]
     },
     "execution_count": 6,
     "metadata": {},
     "output_type": "execute_result"
    }
   ],
   "source": [
    "LABELS"
   ]
  },
  {
   "cell_type": "code",
   "execution_count": 7,
   "metadata": {
    "hidden": true
   },
   "outputs": [],
   "source": [
    "df = pd.DataFrame(CORPUS, index=LABELS)"
   ]
  },
  {
   "cell_type": "code",
   "execution_count": 8,
   "metadata": {
    "hidden": true
   },
   "outputs": [],
   "source": [
    "df.rename(columns={0:'lyrics'}, inplace=True)"
   ]
  },
  {
   "cell_type": "code",
   "execution_count": 9,
   "metadata": {
    "hidden": true
   },
   "outputs": [],
   "source": [
    "df['artist'] = df.index"
   ]
  },
  {
   "cell_type": "code",
   "execution_count": 10,
   "metadata": {
    "hidden": true
   },
   "outputs": [],
   "source": [
    "df['artist'] = df['artist'].fillna('').astype(str).str.replace(r'[^A-Za-z ]', '', regex=True).replace('', np.nan, regex=False)"
   ]
  },
  {
   "cell_type": "code",
   "execution_count": 11,
   "metadata": {
    "hidden": true
   },
   "outputs": [],
   "source": [
    "X = df.drop('artist', axis=1)\n",
    "y = df['artist']"
   ]
  },
  {
   "cell_type": "code",
   "execution_count": 12,
   "metadata": {
    "hidden": true
   },
   "outputs": [
    {
     "data": {
      "text/plain": [
       "elvispresley    115\n",
       "bobmarley       109\n",
       "Name: artist, dtype: int64"
      ]
     },
     "execution_count": 12,
     "metadata": {},
     "output_type": "execute_result"
    }
   ],
   "source": [
    "y.value_counts()"
   ]
  },
  {
   "cell_type": "markdown",
   "metadata": {
    "heading_collapsed": true
   },
   "source": [
    "### Step 2 - train-test-split"
   ]
  },
  {
   "cell_type": "markdown",
   "metadata": {
    "hidden": true
   },
   "source": [
    "<hr style=\"border:2px solid black\">\n",
    "\n",
    "*Don't get biased by any stretch of the imagination. Do the train-test-split as early as possible!*\n",
    "\n",
    "<hr style=\"border:2px solid black\">"
   ]
  },
  {
   "cell_type": "code",
   "execution_count": 13,
   "metadata": {
    "hidden": true
   },
   "outputs": [],
   "source": [
    "X_train, X_test, y_train, y_test = train_test_split(X, y, test_size=0.2, random_state=42)"
   ]
  },
  {
   "cell_type": "code",
   "execution_count": 14,
   "metadata": {
    "hidden": true
   },
   "outputs": [],
   "source": [
    "X_train_corpus = list(X_train['lyrics'])\n",
    "y_train_labels = list(y_train)\n",
    "\n",
    "X_test_corpus  = list(X_test['lyrics'])\n",
    "y_test_labels  = list(y_test)\n",
    "\n",
    "X_corpus       = list(X['lyrics'])\n",
    "y_labels       = list(y)"
   ]
  },
  {
   "cell_type": "markdown",
   "metadata": {
    "heading_collapsed": true
   },
   "source": [
    "### Step 3 - exploratory data analysis"
   ]
  },
  {
   "cell_type": "markdown",
   "metadata": {
    "heading_collapsed": true,
    "hidden": true
   },
   "source": [
    "#### Step 3.0 - workflow"
   ]
  },
  {
   "cell_type": "markdown",
   "metadata": {
    "hidden": true
   },
   "source": [
    "  - Create a copy of the data exploration (sampling it down to a manageble size if necessary).\n",
    "\n",
    "  - Create a notebook to keep a record of your data exploration.\n",
    "\n",
    "  - Study each attribute and its characteristics:\n",
    "\n",
    "    - Name\n",
    "    - Type (categorical, int/float, bounded/unbounded, text, structured, etc.)\n",
    "    - % of missing values\n",
    "    - Noisiness and type of noise (stoxastoc, outliers, rounding errors, etc.)\n",
    "    - Possibly useful for the task?\n",
    "    - Type of distribution (Gaussian, uniform, logarithmic, etc.)\n",
    "  - For supervised learning tasks, identify target attribute(s).\n",
    "\n",
    "  - Visualize the data.\n",
    "\n",
    "  - Study the correlation between attributes.\n",
    "\n",
    "  - Study how you would solve the problem manually.\n",
    "\n",
    "  - Identify the promising transformations you may want to apply.\n",
    "\n",
    "  - Identify extra data that would be useful.\n",
    "\n",
    "  - Document what you have learned."
   ]
  },
  {
   "cell_type": "markdown",
   "metadata": {
    "hidden": true
   },
   "source": [
    "#### Step 3.1 - general overview"
   ]
  },
  {
   "cell_type": "markdown",
   "metadata": {
    "hidden": true
   },
   "source": [
    "#### Step 3.2 - descriptive statistics"
   ]
  },
  {
   "cell_type": "markdown",
   "metadata": {
    "hidden": true
   },
   "source": [
    "#### Step 3.3 - observe some features in more detail"
   ]
  },
  {
   "cell_type": "markdown",
   "metadata": {
    "heading_collapsed": true
   },
   "source": [
    "### **Conclusion from the EDA**\n",
    "\n",
    "<hr style=\"border:2px solid black\">\n",
    "\n",
    "    - ....\n",
    "<hr style=\"border:2px solid black\">"
   ]
  },
  {
   "cell_type": "markdown",
   "metadata": {
    "heading_collapsed": true
   },
   "source": [
    "### Step 4 - cleaning & scaling"
   ]
  },
  {
   "cell_type": "markdown",
   "metadata": {
    "hidden": true
   },
   "source": [
    "   - *Fix or remove outliers (otional).*\n",
    "   - *Fill in missing values (e.g. with zero, mean, median ...) or drop their rows (or columns).*\n",
    "   - *Standadize or nomalize features*"
   ]
  },
  {
   "cell_type": "markdown",
   "metadata": {
    "hidden": true
   },
   "source": [
    "#### Step 4.1 - impute missing values"
   ]
  },
  {
   "cell_type": "markdown",
   "metadata": {
    "heading_collapsed": true,
    "hidden": true
   },
   "source": [
    "#### Step 4.2 - scaling"
   ]
  },
  {
   "cell_type": "markdown",
   "metadata": {
    "heading_collapsed": true,
    "hidden": true
   },
   "source": [
    "#### Step 4.3 - interpolation"
   ]
  },
  {
   "cell_type": "markdown",
   "metadata": {
    "heading_collapsed": true,
    "hidden": true
   },
   "source": [
    "#### Step 4.4 - remove duplicates and outliers"
   ]
  },
  {
   "cell_type": "markdown",
   "metadata": {
    "heading_collapsed": true
   },
   "source": [
    "### Step 5 - feature engineering"
   ]
  },
  {
   "cell_type": "markdown",
   "metadata": {
    "hidden": true
   },
   "source": [
    "   - *Discretize continious features.*\n",
    "   - *Decompose features (e.g. categorical, date/time, etc.).*\n",
    "   - *Add promising transformations of features (e.g. log(x), sqrt(x), x^2, etc.).*\n",
    "   - *Aggregate features into promising new features.*"
   ]
  },
  {
   "cell_type": "markdown",
   "metadata": {
    "heading_collapsed": true,
    "hidden": true
   },
   "source": [
    "#### Step 5.1 - feature extraction, decomposition and transformation"
   ]
  },
  {
   "cell_type": "code",
   "execution_count": 15,
   "metadata": {
    "hidden": true
   },
   "outputs": [],
   "source": [
    "# lower case all words in lyrics\n",
    "def lower_casetor(CORPUS):\n",
    "\n",
    "    CORPUS = [s.lower() for s in CORPUS]\n",
    "    \n",
    "    return CORPUS"
   ]
  },
  {
   "cell_type": "markdown",
   "metadata": {
    "heading_collapsed": true,
    "hidden": true
   },
   "source": [
    "#### Step 5.2 - encoding of categorical features"
   ]
  },
  {
   "cell_type": "code",
   "execution_count": 16,
   "metadata": {
    "hidden": true
   },
   "outputs": [],
   "source": [
    "# tokenize and lemmatize\n",
    "def token_and_lemmatiziator(CORPUS):\n",
    "    tokenizer  = TreebankWordTokenizer()\n",
    "    lemmatizer = WordNetLemmatizer()\n",
    "\n",
    "    CLEAN_CORPUS = [] # this is where my clean corpus will end \n",
    "\n",
    "    for lyr in CORPUS:\n",
    "        tokens    = tokenizer.tokenize(text = lyr)\n",
    "        clean_doc = \" \".join(lemmatizer.lemmatize(token) for token in tokens)\n",
    "        CLEAN_CORPUS.append(clean_doc)\n",
    "    \n",
    "    CORPUS = CLEAN_CORPUS\n",
    "    \n",
    "    return CORPUS"
   ]
  },
  {
   "cell_type": "markdown",
   "metadata": {
    "heading_collapsed": true,
    "hidden": true
   },
   "source": [
    "#### Step 5.3 - discretizing of continious features"
   ]
  },
  {
   "cell_type": "markdown",
   "metadata": {
    "hidden": true
   },
   "source": [
    "#### Step 5.4 - drop features"
   ]
  },
  {
   "cell_type": "markdown",
   "metadata": {
    "heading_collapsed": true,
    "hidden": true
   },
   "source": [
    "#### Step 5.5 - sampling strategy in case of imbalanced data"
   ]
  },
  {
   "cell_type": "markdown",
   "metadata": {
    "heading_collapsed": true,
    "hidden": true
   },
   "source": [
    "#### Step 5.6 - implement polynomials"
   ]
  },
  {
   "cell_type": "markdown",
   "metadata": {},
   "source": [
    "### Step 6 - baseline model"
   ]
  },
  {
   "cell_type": "markdown",
   "metadata": {},
   "source": [
    "#### Step 6.1 - create pipeline for the baseline model "
   ]
  },
  {
   "cell_type": "markdown",
   "metadata": {
    "heading_collapsed": true
   },
   "source": [
    "##### Step 6.1.1 - function and column transformer"
   ]
  },
  {
   "cell_type": "code",
   "execution_count": 17,
   "metadata": {
    "hidden": true
   },
   "outputs": [],
   "source": [
    "lower_case_transformer           = FunctionTransformer(lower_casetor)\n",
    "token_and_lemmatizer_transformer = FunctionTransformer(token_and_lemmatiziator)\n",
    "vectorizer                       = TfidfVectorizer(stop_words = STOPWORDS)"
   ]
  },
  {
   "cell_type": "markdown",
   "metadata": {},
   "source": [
    "##### Step 6.1.2 - set up pipeline with estimators"
   ]
  },
  {
   "cell_type": "code",
   "execution_count": 18,
   "metadata": {},
   "outputs": [],
   "source": [
    "class DummyEstimator(BaseEstimator):\n",
    "    def fit(self):   pass\n",
    "    def score(self): pass"
   ]
  },
  {
   "cell_type": "code",
   "execution_count": 19,
   "metadata": {},
   "outputs": [],
   "source": [
    "pipeline = Pipeline([\n",
    "                    # my function transformers\n",
    "                     ( 'lower_casor'           , lower_case_transformer                     ),\n",
    "                     ( 'tok_and_lemma'         , token_and_lemmatizer_transformer           ),\n",
    "                    # my column transformers\n",
    "                     ( 'vector'                , vectorizer                                 ),\n",
    "                    #( 'princoman'             , PCA(n_components=0.99, svd_solver = 'full')),\n",
    "                    # my estimator ...\n",
    "                     ( 'classifier'            , DummyEstimator()                 )\n",
    "])"
   ]
  },
  {
   "cell_type": "code",
   "execution_count": 20,
   "metadata": {},
   "outputs": [
    {
     "data": {
      "text/plain": [
       "{'lower_casor': FunctionTransformer(func=<function lower_casetor at 0x7faac2610a60>),\n",
       " 'tok_and_lemma': FunctionTransformer(func=<function token_and_lemmatiziator at 0x7faac2610790>),\n",
       " 'vector': TfidfVectorizer(stop_words=['i', 'me', 'my', 'myself', 'we', 'our', 'ours',\n",
       "                             'ourselves', 'you', \"you're\", \"you've\", \"you'll\",\n",
       "                             \"you'd\", 'your', 'yours', 'yourself', 'yourselves',\n",
       "                             'he', 'him', 'his', 'himself', 'she', \"she's\",\n",
       "                             'her', 'hers', 'herself', 'it', \"it's\", 'its',\n",
       "                             'itself', ...]),\n",
       " 'classifier': DummyEstimator()}"
      ]
     },
     "execution_count": 20,
     "metadata": {},
     "output_type": "execute_result"
    }
   ],
   "source": [
    "pipeline.named_steps"
   ]
  },
  {
   "cell_type": "code",
   "execution_count": 21,
   "metadata": {},
   "outputs": [
    {
     "data": {
      "text/plain": [
       "dict_keys(['memory', 'steps', 'verbose', 'lower_casor', 'tok_and_lemma', 'vector', 'classifier', 'lower_casor__accept_sparse', 'lower_casor__check_inverse', 'lower_casor__feature_names_out', 'lower_casor__func', 'lower_casor__inv_kw_args', 'lower_casor__inverse_func', 'lower_casor__kw_args', 'lower_casor__validate', 'tok_and_lemma__accept_sparse', 'tok_and_lemma__check_inverse', 'tok_and_lemma__feature_names_out', 'tok_and_lemma__func', 'tok_and_lemma__inv_kw_args', 'tok_and_lemma__inverse_func', 'tok_and_lemma__kw_args', 'tok_and_lemma__validate', 'vector__analyzer', 'vector__binary', 'vector__decode_error', 'vector__dtype', 'vector__encoding', 'vector__input', 'vector__lowercase', 'vector__max_df', 'vector__max_features', 'vector__min_df', 'vector__ngram_range', 'vector__norm', 'vector__preprocessor', 'vector__smooth_idf', 'vector__stop_words', 'vector__strip_accents', 'vector__sublinear_tf', 'vector__token_pattern', 'vector__tokenizer', 'vector__use_idf', 'vector__vocabulary'])"
      ]
     },
     "execution_count": 21,
     "metadata": {},
     "output_type": "execute_result"
    }
   ],
   "source": [
    "pipeline.get_params().keys()"
   ]
  },
  {
   "cell_type": "markdown",
   "metadata": {},
   "source": [
    "##### Step 6.1.3 - define the hyperparameter grid"
   ]
  },
  {
   "cell_type": "code",
   "execution_count": 22,
   "metadata": {},
   "outputs": [],
   "source": [
    "hyperparam_grid = [\n",
    "                  {\n",
    "                    'classifier'                  : [LogisticRegression()],\n",
    "                    'classifier__penalty'         : ['l1', 'l2','elasticnet']\n",
    "                \n",
    "                  },\n",
    "                  {\n",
    "                    'classifier'                  : [MultinomialNB()],\n",
    "                    'classifier__alpha'           : [1.0]\n",
    "                  },\n",
    "                  {\n",
    "                    'classifier'                  : [svm.SVC()],\n",
    "                    'classifier__kernel'          : ['linear']\n",
    "                  },\n",
    "                  {\n",
    "                    'classifier'                  : [XGBClassifier()],\n",
    "                    'classifier__n_estimators'    : [50, 100, 200],\n",
    "                    'classifier__learning_rate'   : [0.05, 0.1, 0.2]\n",
    "                      \n",
    "                      \n",
    "                  }\n",
    "]"
   ]
  },
  {
   "cell_type": "markdown",
   "metadata": {},
   "source": [
    "##### Step 6.1.4 - set up the grid search CV"
   ]
  },
  {
   "cell_type": "code",
   "execution_count": 23,
   "metadata": {},
   "outputs": [],
   "source": [
    "gs = GridSearchCV(\n",
    "                    estimator  = pipeline        , \n",
    "                    param_grid = hyperparam_grid ,\n",
    "                    cv         = 5               ,                                         \n",
    "                    scoring    = 'accuracy'\n",
    "                )"
   ]
  },
  {
   "cell_type": "markdown",
   "metadata": {},
   "source": [
    "#### Step 6.2 - run the baseline model"
   ]
  },
  {
   "cell_type": "code",
   "execution_count": 24,
   "metadata": {},
   "outputs": [
    {
     "name": "stderr",
     "output_type": "stream",
     "text": [
      "/home/florianriemann/anaconda3/lib/python3.9/site-packages/sklearn/model_selection/_validation.py:378: FitFailedWarning: \n",
      "55 fits failed out of a total of 70.\n",
      "The score on these train-test partitions for these parameters will be set to nan.\n",
      "If these failures are not expected, you can try to debug them by setting error_score='raise'.\n",
      "\n",
      "Below are more details about the failures:\n",
      "--------------------------------------------------------------------------------\n",
      "5 fits failed with the following error:\n",
      "Traceback (most recent call last):\n",
      "  File \"/home/florianriemann/anaconda3/lib/python3.9/site-packages/sklearn/model_selection/_validation.py\", line 686, in _fit_and_score\n",
      "    estimator.fit(X_train, y_train, **fit_params)\n",
      "  File \"/home/florianriemann/anaconda3/lib/python3.9/site-packages/sklearn/pipeline.py\", line 382, in fit\n",
      "    self._final_estimator.fit(Xt, y, **fit_params_last_step)\n",
      "  File \"/home/florianriemann/anaconda3/lib/python3.9/site-packages/sklearn/linear_model/_logistic.py\", line 1091, in fit\n",
      "    solver = _check_solver(self.solver, self.penalty, self.dual)\n",
      "  File \"/home/florianriemann/anaconda3/lib/python3.9/site-packages/sklearn/linear_model/_logistic.py\", line 61, in _check_solver\n",
      "    raise ValueError(\n",
      "ValueError: Solver lbfgs supports only 'l2' or 'none' penalties, got l1 penalty.\n",
      "\n",
      "--------------------------------------------------------------------------------\n",
      "5 fits failed with the following error:\n",
      "Traceback (most recent call last):\n",
      "  File \"/home/florianriemann/anaconda3/lib/python3.9/site-packages/sklearn/model_selection/_validation.py\", line 686, in _fit_and_score\n",
      "    estimator.fit(X_train, y_train, **fit_params)\n",
      "  File \"/home/florianriemann/anaconda3/lib/python3.9/site-packages/sklearn/pipeline.py\", line 382, in fit\n",
      "    self._final_estimator.fit(Xt, y, **fit_params_last_step)\n",
      "  File \"/home/florianriemann/anaconda3/lib/python3.9/site-packages/sklearn/linear_model/_logistic.py\", line 1091, in fit\n",
      "    solver = _check_solver(self.solver, self.penalty, self.dual)\n",
      "  File \"/home/florianriemann/anaconda3/lib/python3.9/site-packages/sklearn/linear_model/_logistic.py\", line 61, in _check_solver\n",
      "    raise ValueError(\n",
      "ValueError: Solver lbfgs supports only 'l2' or 'none' penalties, got elasticnet penalty.\n",
      "\n",
      "--------------------------------------------------------------------------------\n",
      "45 fits failed with the following error:\n",
      "Traceback (most recent call last):\n",
      "  File \"/home/florianriemann/anaconda3/lib/python3.9/site-packages/sklearn/model_selection/_validation.py\", line 686, in _fit_and_score\n",
      "    estimator.fit(X_train, y_train, **fit_params)\n",
      "  File \"/home/florianriemann/anaconda3/lib/python3.9/site-packages/sklearn/pipeline.py\", line 382, in fit\n",
      "    self._final_estimator.fit(Xt, y, **fit_params_last_step)\n",
      "  File \"/home/florianriemann/anaconda3/lib/python3.9/site-packages/xgboost/core.py\", line 575, in inner_f\n",
      "    return f(**kwargs)\n",
      "  File \"/home/florianriemann/anaconda3/lib/python3.9/site-packages/xgboost/sklearn.py\", line 1355, in fit\n",
      "    or not (self.classes_ == expected_classes).all()\n",
      "AttributeError: 'bool' object has no attribute 'all'\n",
      "\n",
      "  warnings.warn(some_fits_failed_message, FitFailedWarning)\n",
      "/home/florianriemann/anaconda3/lib/python3.9/site-packages/sklearn/model_selection/_search.py:953: UserWarning: One or more of the test scores are non-finite: [       nan 0.79904762        nan 0.79365079 0.79365079        nan\n",
      "        nan        nan        nan        nan        nan        nan\n",
      "        nan        nan]\n",
      "  warnings.warn(\n"
     ]
    }
   ],
   "source": [
    "grid_search = gs.fit(X_train_corpus, y_train_labels)"
   ]
  },
  {
   "cell_type": "markdown",
   "metadata": {},
   "source": [
    "#### Step 6.3 - evaluate the model"
   ]
  },
  {
   "cell_type": "code",
   "execution_count": 25,
   "metadata": {},
   "outputs": [
    {
     "data": {
      "text/html": [
       "<div>\n",
       "<style scoped>\n",
       "    .dataframe tbody tr th:only-of-type {\n",
       "        vertical-align: middle;\n",
       "    }\n",
       "\n",
       "    .dataframe tbody tr th {\n",
       "        vertical-align: top;\n",
       "    }\n",
       "\n",
       "    .dataframe thead th {\n",
       "        text-align: right;\n",
       "    }\n",
       "</style>\n",
       "<table border=\"1\" class=\"dataframe\">\n",
       "  <thead>\n",
       "    <tr style=\"text-align: right;\">\n",
       "      <th></th>\n",
       "      <th>mean_fit_time</th>\n",
       "      <th>std_fit_time</th>\n",
       "      <th>mean_score_time</th>\n",
       "      <th>std_score_time</th>\n",
       "      <th>param_classifier</th>\n",
       "      <th>param_classifier__penalty</th>\n",
       "      <th>param_classifier__alpha</th>\n",
       "      <th>param_classifier__kernel</th>\n",
       "      <th>param_classifier__learning_rate</th>\n",
       "      <th>param_classifier__n_estimators</th>\n",
       "      <th>params</th>\n",
       "      <th>split0_test_score</th>\n",
       "      <th>split1_test_score</th>\n",
       "      <th>split2_test_score</th>\n",
       "      <th>split3_test_score</th>\n",
       "      <th>split4_test_score</th>\n",
       "      <th>mean_test_score</th>\n",
       "      <th>std_test_score</th>\n",
       "      <th>rank_test_score</th>\n",
       "    </tr>\n",
       "  </thead>\n",
       "  <tbody>\n",
       "    <tr>\n",
       "      <th>1</th>\n",
       "      <td>0.148073</td>\n",
       "      <td>0.001373</td>\n",
       "      <td>0.036020</td>\n",
       "      <td>0.001013</td>\n",
       "      <td>LogisticRegression()</td>\n",
       "      <td>l2</td>\n",
       "      <td>NaN</td>\n",
       "      <td>NaN</td>\n",
       "      <td>NaN</td>\n",
       "      <td>NaN</td>\n",
       "      <td>{'classifier': LogisticRegression(), 'classifi...</td>\n",
       "      <td>0.833333</td>\n",
       "      <td>0.777778</td>\n",
       "      <td>0.722222</td>\n",
       "      <td>0.833333</td>\n",
       "      <td>0.828571</td>\n",
       "      <td>0.799048</td>\n",
       "      <td>0.043766</td>\n",
       "      <td>1</td>\n",
       "    </tr>\n",
       "    <tr>\n",
       "      <th>3</th>\n",
       "      <td>0.144596</td>\n",
       "      <td>0.000999</td>\n",
       "      <td>0.035973</td>\n",
       "      <td>0.001109</td>\n",
       "      <td>MultinomialNB()</td>\n",
       "      <td>NaN</td>\n",
       "      <td>1.0</td>\n",
       "      <td>NaN</td>\n",
       "      <td>NaN</td>\n",
       "      <td>NaN</td>\n",
       "      <td>{'classifier': MultinomialNB(), 'classifier__a...</td>\n",
       "      <td>0.805556</td>\n",
       "      <td>0.777778</td>\n",
       "      <td>0.722222</td>\n",
       "      <td>0.805556</td>\n",
       "      <td>0.857143</td>\n",
       "      <td>0.793651</td>\n",
       "      <td>0.043974</td>\n",
       "      <td>2</td>\n",
       "    </tr>\n",
       "    <tr>\n",
       "      <th>4</th>\n",
       "      <td>0.150348</td>\n",
       "      <td>0.000666</td>\n",
       "      <td>0.037314</td>\n",
       "      <td>0.001063</td>\n",
       "      <td>SVC()</td>\n",
       "      <td>NaN</td>\n",
       "      <td>NaN</td>\n",
       "      <td>linear</td>\n",
       "      <td>NaN</td>\n",
       "      <td>NaN</td>\n",
       "      <td>{'classifier': SVC(), 'classifier__kernel': 'l...</td>\n",
       "      <td>0.777778</td>\n",
       "      <td>0.777778</td>\n",
       "      <td>0.750000</td>\n",
       "      <td>0.805556</td>\n",
       "      <td>0.857143</td>\n",
       "      <td>0.793651</td>\n",
       "      <td>0.036283</td>\n",
       "      <td>3</td>\n",
       "    </tr>\n",
       "    <tr>\n",
       "      <th>0</th>\n",
       "      <td>0.336051</td>\n",
       "      <td>0.382116</td>\n",
       "      <td>0.000000</td>\n",
       "      <td>0.000000</td>\n",
       "      <td>LogisticRegression()</td>\n",
       "      <td>l1</td>\n",
       "      <td>NaN</td>\n",
       "      <td>NaN</td>\n",
       "      <td>NaN</td>\n",
       "      <td>NaN</td>\n",
       "      <td>{'classifier': LogisticRegression(), 'classifi...</td>\n",
       "      <td>NaN</td>\n",
       "      <td>NaN</td>\n",
       "      <td>NaN</td>\n",
       "      <td>NaN</td>\n",
       "      <td>NaN</td>\n",
       "      <td>NaN</td>\n",
       "      <td>NaN</td>\n",
       "      <td>4</td>\n",
       "    </tr>\n",
       "    <tr>\n",
       "      <th>2</th>\n",
       "      <td>0.141911</td>\n",
       "      <td>0.001568</td>\n",
       "      <td>0.000000</td>\n",
       "      <td>0.000000</td>\n",
       "      <td>LogisticRegression()</td>\n",
       "      <td>elasticnet</td>\n",
       "      <td>NaN</td>\n",
       "      <td>NaN</td>\n",
       "      <td>NaN</td>\n",
       "      <td>NaN</td>\n",
       "      <td>{'classifier': LogisticRegression(), 'classifi...</td>\n",
       "      <td>NaN</td>\n",
       "      <td>NaN</td>\n",
       "      <td>NaN</td>\n",
       "      <td>NaN</td>\n",
       "      <td>NaN</td>\n",
       "      <td>NaN</td>\n",
       "      <td>NaN</td>\n",
       "      <td>5</td>\n",
       "    </tr>\n",
       "  </tbody>\n",
       "</table>\n",
       "</div>"
      ],
      "text/plain": [
       "   mean_fit_time  std_fit_time  mean_score_time  std_score_time  \\\n",
       "1       0.148073      0.001373         0.036020        0.001013   \n",
       "3       0.144596      0.000999         0.035973        0.001109   \n",
       "4       0.150348      0.000666         0.037314        0.001063   \n",
       "0       0.336051      0.382116         0.000000        0.000000   \n",
       "2       0.141911      0.001568         0.000000        0.000000   \n",
       "\n",
       "       param_classifier param_classifier__penalty param_classifier__alpha  \\\n",
       "1  LogisticRegression()                        l2                     NaN   \n",
       "3       MultinomialNB()                       NaN                     1.0   \n",
       "4                 SVC()                       NaN                     NaN   \n",
       "0  LogisticRegression()                        l1                     NaN   \n",
       "2  LogisticRegression()                elasticnet                     NaN   \n",
       "\n",
       "  param_classifier__kernel param_classifier__learning_rate  \\\n",
       "1                      NaN                             NaN   \n",
       "3                      NaN                             NaN   \n",
       "4                   linear                             NaN   \n",
       "0                      NaN                             NaN   \n",
       "2                      NaN                             NaN   \n",
       "\n",
       "  param_classifier__n_estimators  \\\n",
       "1                            NaN   \n",
       "3                            NaN   \n",
       "4                            NaN   \n",
       "0                            NaN   \n",
       "2                            NaN   \n",
       "\n",
       "                                              params  split0_test_score  \\\n",
       "1  {'classifier': LogisticRegression(), 'classifi...           0.833333   \n",
       "3  {'classifier': MultinomialNB(), 'classifier__a...           0.805556   \n",
       "4  {'classifier': SVC(), 'classifier__kernel': 'l...           0.777778   \n",
       "0  {'classifier': LogisticRegression(), 'classifi...                NaN   \n",
       "2  {'classifier': LogisticRegression(), 'classifi...                NaN   \n",
       "\n",
       "   split1_test_score  split2_test_score  split3_test_score  split4_test_score  \\\n",
       "1           0.777778           0.722222           0.833333           0.828571   \n",
       "3           0.777778           0.722222           0.805556           0.857143   \n",
       "4           0.777778           0.750000           0.805556           0.857143   \n",
       "0                NaN                NaN                NaN                NaN   \n",
       "2                NaN                NaN                NaN                NaN   \n",
       "\n",
       "   mean_test_score  std_test_score  rank_test_score  \n",
       "1         0.799048        0.043766                1  \n",
       "3         0.793651        0.043974                2  \n",
       "4         0.793651        0.036283                3  \n",
       "0              NaN             NaN                4  \n",
       "2              NaN             NaN                5  "
      ]
     },
     "execution_count": 25,
     "metadata": {},
     "output_type": "execute_result"
    }
   ],
   "source": [
    "pd.DataFrame(grid_search.cv_results_).sort_values('rank_test_score').head(5)"
   ]
  },
  {
   "cell_type": "code",
   "execution_count": 26,
   "metadata": {},
   "outputs": [],
   "source": [
    "best_pipe = gs.best_estimator_"
   ]
  },
  {
   "cell_type": "code",
   "execution_count": 27,
   "metadata": {},
   "outputs": [
    {
     "data": {
      "text/html": [
       "<style>#sk-container-id-1 {color: black;background-color: white;}#sk-container-id-1 pre{padding: 0;}#sk-container-id-1 div.sk-toggleable {background-color: white;}#sk-container-id-1 label.sk-toggleable__label {cursor: pointer;display: block;width: 100%;margin-bottom: 0;padding: 0.3em;box-sizing: border-box;text-align: center;}#sk-container-id-1 label.sk-toggleable__label-arrow:before {content: \"▸\";float: left;margin-right: 0.25em;color: #696969;}#sk-container-id-1 label.sk-toggleable__label-arrow:hover:before {color: black;}#sk-container-id-1 div.sk-estimator:hover label.sk-toggleable__label-arrow:before {color: black;}#sk-container-id-1 div.sk-toggleable__content {max-height: 0;max-width: 0;overflow: hidden;text-align: left;background-color: #f0f8ff;}#sk-container-id-1 div.sk-toggleable__content pre {margin: 0.2em;color: black;border-radius: 0.25em;background-color: #f0f8ff;}#sk-container-id-1 input.sk-toggleable__control:checked~div.sk-toggleable__content {max-height: 200px;max-width: 100%;overflow: auto;}#sk-container-id-1 input.sk-toggleable__control:checked~label.sk-toggleable__label-arrow:before {content: \"▾\";}#sk-container-id-1 div.sk-estimator input.sk-toggleable__control:checked~label.sk-toggleable__label {background-color: #d4ebff;}#sk-container-id-1 div.sk-label input.sk-toggleable__control:checked~label.sk-toggleable__label {background-color: #d4ebff;}#sk-container-id-1 input.sk-hidden--visually {border: 0;clip: rect(1px 1px 1px 1px);clip: rect(1px, 1px, 1px, 1px);height: 1px;margin: -1px;overflow: hidden;padding: 0;position: absolute;width: 1px;}#sk-container-id-1 div.sk-estimator {font-family: monospace;background-color: #f0f8ff;border: 1px dotted black;border-radius: 0.25em;box-sizing: border-box;margin-bottom: 0.5em;}#sk-container-id-1 div.sk-estimator:hover {background-color: #d4ebff;}#sk-container-id-1 div.sk-parallel-item::after {content: \"\";width: 100%;border-bottom: 1px solid gray;flex-grow: 1;}#sk-container-id-1 div.sk-label:hover label.sk-toggleable__label {background-color: #d4ebff;}#sk-container-id-1 div.sk-serial::before {content: \"\";position: absolute;border-left: 1px solid gray;box-sizing: border-box;top: 0;bottom: 0;left: 50%;z-index: 0;}#sk-container-id-1 div.sk-serial {display: flex;flex-direction: column;align-items: center;background-color: white;padding-right: 0.2em;padding-left: 0.2em;position: relative;}#sk-container-id-1 div.sk-item {position: relative;z-index: 1;}#sk-container-id-1 div.sk-parallel {display: flex;align-items: stretch;justify-content: center;background-color: white;position: relative;}#sk-container-id-1 div.sk-item::before, #sk-container-id-1 div.sk-parallel-item::before {content: \"\";position: absolute;border-left: 1px solid gray;box-sizing: border-box;top: 0;bottom: 0;left: 50%;z-index: -1;}#sk-container-id-1 div.sk-parallel-item {display: flex;flex-direction: column;z-index: 1;position: relative;background-color: white;}#sk-container-id-1 div.sk-parallel-item:first-child::after {align-self: flex-end;width: 50%;}#sk-container-id-1 div.sk-parallel-item:last-child::after {align-self: flex-start;width: 50%;}#sk-container-id-1 div.sk-parallel-item:only-child::after {width: 0;}#sk-container-id-1 div.sk-dashed-wrapped {border: 1px dashed gray;margin: 0 0.4em 0.5em 0.4em;box-sizing: border-box;padding-bottom: 0.4em;background-color: white;}#sk-container-id-1 div.sk-label label {font-family: monospace;font-weight: bold;display: inline-block;line-height: 1.2em;}#sk-container-id-1 div.sk-label-container {text-align: center;}#sk-container-id-1 div.sk-container {/* jupyter's `normalize.less` sets `[hidden] { display: none; }` but bootstrap.min.css set `[hidden] { display: none !important; }` so we also need the `!important` here to be able to override the default hidden behavior on the sphinx rendered scikit-learn.org. See: https://github.com/scikit-learn/scikit-learn/issues/21755 */display: inline-block !important;position: relative;}#sk-container-id-1 div.sk-text-repr-fallback {display: none;}</style><div id=\"sk-container-id-1\" class=\"sk-top-container\"><div class=\"sk-text-repr-fallback\"><pre>Pipeline(steps=[(&#x27;lower_casor&#x27;,\n",
       "                 FunctionTransformer(func=&lt;function lower_casetor at 0x7faac2610a60&gt;)),\n",
       "                (&#x27;tok_and_lemma&#x27;,\n",
       "                 FunctionTransformer(func=&lt;function token_and_lemmatiziator at 0x7faac2610790&gt;)),\n",
       "                (&#x27;vector&#x27;,\n",
       "                 TfidfVectorizer(stop_words=[&#x27;i&#x27;, &#x27;me&#x27;, &#x27;my&#x27;, &#x27;myself&#x27;, &#x27;we&#x27;,\n",
       "                                             &#x27;our&#x27;, &#x27;ours&#x27;, &#x27;ourselves&#x27;, &#x27;you&#x27;,\n",
       "                                             &quot;you&#x27;re&quot;, &quot;you&#x27;ve&quot;, &quot;you&#x27;ll&quot;,\n",
       "                                             &quot;you&#x27;d&quot;, &#x27;your&#x27;, &#x27;yours&#x27;,\n",
       "                                             &#x27;yourself&#x27;, &#x27;yourselves&#x27;, &#x27;he&#x27;,\n",
       "                                             &#x27;him&#x27;, &#x27;his&#x27;, &#x27;himself&#x27;, &#x27;she&#x27;,\n",
       "                                             &quot;she&#x27;s&quot;, &#x27;her&#x27;, &#x27;hers&#x27;, &#x27;herself&#x27;,\n",
       "                                             &#x27;it&#x27;, &quot;it&#x27;s&quot;, &#x27;its&#x27;, &#x27;itself&#x27;, ...])),\n",
       "                (&#x27;classifier&#x27;, LogisticRegression())])</pre><b>In a Jupyter environment, please rerun this cell to show the HTML representation or trust the notebook. <br />On GitHub, the HTML representation is unable to render, please try loading this page with nbviewer.org.</b></div><div class=\"sk-container\" hidden><div class=\"sk-item sk-dashed-wrapped\"><div class=\"sk-label-container\"><div class=\"sk-label sk-toggleable\"><input class=\"sk-toggleable__control sk-hidden--visually\" id=\"sk-estimator-id-1\" type=\"checkbox\" ><label for=\"sk-estimator-id-1\" class=\"sk-toggleable__label sk-toggleable__label-arrow\">Pipeline</label><div class=\"sk-toggleable__content\"><pre>Pipeline(steps=[(&#x27;lower_casor&#x27;,\n",
       "                 FunctionTransformer(func=&lt;function lower_casetor at 0x7faac2610a60&gt;)),\n",
       "                (&#x27;tok_and_lemma&#x27;,\n",
       "                 FunctionTransformer(func=&lt;function token_and_lemmatiziator at 0x7faac2610790&gt;)),\n",
       "                (&#x27;vector&#x27;,\n",
       "                 TfidfVectorizer(stop_words=[&#x27;i&#x27;, &#x27;me&#x27;, &#x27;my&#x27;, &#x27;myself&#x27;, &#x27;we&#x27;,\n",
       "                                             &#x27;our&#x27;, &#x27;ours&#x27;, &#x27;ourselves&#x27;, &#x27;you&#x27;,\n",
       "                                             &quot;you&#x27;re&quot;, &quot;you&#x27;ve&quot;, &quot;you&#x27;ll&quot;,\n",
       "                                             &quot;you&#x27;d&quot;, &#x27;your&#x27;, &#x27;yours&#x27;,\n",
       "                                             &#x27;yourself&#x27;, &#x27;yourselves&#x27;, &#x27;he&#x27;,\n",
       "                                             &#x27;him&#x27;, &#x27;his&#x27;, &#x27;himself&#x27;, &#x27;she&#x27;,\n",
       "                                             &quot;she&#x27;s&quot;, &#x27;her&#x27;, &#x27;hers&#x27;, &#x27;herself&#x27;,\n",
       "                                             &#x27;it&#x27;, &quot;it&#x27;s&quot;, &#x27;its&#x27;, &#x27;itself&#x27;, ...])),\n",
       "                (&#x27;classifier&#x27;, LogisticRegression())])</pre></div></div></div><div class=\"sk-serial\"><div class=\"sk-item\"><div class=\"sk-estimator sk-toggleable\"><input class=\"sk-toggleable__control sk-hidden--visually\" id=\"sk-estimator-id-2\" type=\"checkbox\" ><label for=\"sk-estimator-id-2\" class=\"sk-toggleable__label sk-toggleable__label-arrow\">FunctionTransformer</label><div class=\"sk-toggleable__content\"><pre>FunctionTransformer(func=&lt;function lower_casetor at 0x7faac2610a60&gt;)</pre></div></div></div><div class=\"sk-item\"><div class=\"sk-estimator sk-toggleable\"><input class=\"sk-toggleable__control sk-hidden--visually\" id=\"sk-estimator-id-3\" type=\"checkbox\" ><label for=\"sk-estimator-id-3\" class=\"sk-toggleable__label sk-toggleable__label-arrow\">FunctionTransformer</label><div class=\"sk-toggleable__content\"><pre>FunctionTransformer(func=&lt;function token_and_lemmatiziator at 0x7faac2610790&gt;)</pre></div></div></div><div class=\"sk-item\"><div class=\"sk-estimator sk-toggleable\"><input class=\"sk-toggleable__control sk-hidden--visually\" id=\"sk-estimator-id-4\" type=\"checkbox\" ><label for=\"sk-estimator-id-4\" class=\"sk-toggleable__label sk-toggleable__label-arrow\">TfidfVectorizer</label><div class=\"sk-toggleable__content\"><pre>TfidfVectorizer(stop_words=[&#x27;i&#x27;, &#x27;me&#x27;, &#x27;my&#x27;, &#x27;myself&#x27;, &#x27;we&#x27;, &#x27;our&#x27;, &#x27;ours&#x27;,\n",
       "                            &#x27;ourselves&#x27;, &#x27;you&#x27;, &quot;you&#x27;re&quot;, &quot;you&#x27;ve&quot;, &quot;you&#x27;ll&quot;,\n",
       "                            &quot;you&#x27;d&quot;, &#x27;your&#x27;, &#x27;yours&#x27;, &#x27;yourself&#x27;, &#x27;yourselves&#x27;,\n",
       "                            &#x27;he&#x27;, &#x27;him&#x27;, &#x27;his&#x27;, &#x27;himself&#x27;, &#x27;she&#x27;, &quot;she&#x27;s&quot;,\n",
       "                            &#x27;her&#x27;, &#x27;hers&#x27;, &#x27;herself&#x27;, &#x27;it&#x27;, &quot;it&#x27;s&quot;, &#x27;its&#x27;,\n",
       "                            &#x27;itself&#x27;, ...])</pre></div></div></div><div class=\"sk-item\"><div class=\"sk-estimator sk-toggleable\"><input class=\"sk-toggleable__control sk-hidden--visually\" id=\"sk-estimator-id-5\" type=\"checkbox\" ><label for=\"sk-estimator-id-5\" class=\"sk-toggleable__label sk-toggleable__label-arrow\">LogisticRegression</label><div class=\"sk-toggleable__content\"><pre>LogisticRegression()</pre></div></div></div></div></div></div></div>"
      ],
      "text/plain": [
       "Pipeline(steps=[('lower_casor',\n",
       "                 FunctionTransformer(func=<function lower_casetor at 0x7faac2610a60>)),\n",
       "                ('tok_and_lemma',\n",
       "                 FunctionTransformer(func=<function token_and_lemmatiziator at 0x7faac2610790>)),\n",
       "                ('vector',\n",
       "                 TfidfVectorizer(stop_words=['i', 'me', 'my', 'myself', 'we',\n",
       "                                             'our', 'ours', 'ourselves', 'you',\n",
       "                                             \"you're\", \"you've\", \"you'll\",\n",
       "                                             \"you'd\", 'your', 'yours',\n",
       "                                             'yourself', 'yourselves', 'he',\n",
       "                                             'him', 'his', 'himself', 'she',\n",
       "                                             \"she's\", 'her', 'hers', 'herself',\n",
       "                                             'it', \"it's\", 'its', 'itself', ...])),\n",
       "                ('classifier', LogisticRegression())])"
      ]
     },
     "execution_count": 27,
     "metadata": {},
     "output_type": "execute_result"
    }
   ],
   "source": [
    "best_pipe"
   ]
  },
  {
   "cell_type": "code",
   "execution_count": 28,
   "metadata": {},
   "outputs": [],
   "source": [
    "predictions_test = best_pipe.predict(X_test_corpus)"
   ]
  },
  {
   "cell_type": "code",
   "execution_count": 29,
   "metadata": {},
   "outputs": [
    {
     "data": {
      "text/plain": [
       "0.8222222222222222"
      ]
     },
     "execution_count": 29,
     "metadata": {},
     "output_type": "execute_result"
    }
   ],
   "source": [
    "best_pipe.score(X_test_corpus, y_test_labels)"
   ]
  },
  {
   "cell_type": "code",
   "execution_count": 30,
   "metadata": {},
   "outputs": [],
   "source": [
    "def metrics(yt,yp):\n",
    "    \"\"\"\n",
    "    This function returns a dataframe with the model evaluation metrics,\n",
    "    and a heatmap of the confusion matrix\n",
    "    \"\"\"\n",
    "    sns.heatmap(data = confusion_matrix(yt,yp), cmap='crest', annot=True)\n",
    "    \n",
    "    accuracy          = round(accuracy_score(          yt, yp),6)\n",
    "    precision         = round(precision_score(         yt, yp),6)\n",
    "    recall            = round(recall_score(            yt, yp),6)\n",
    "    balanced_accuracy = round(balanced_accuracy_score( yt, yp),6)\n",
    "    \n",
    "    df_metric = pd.DataFrame({'score': [accuracy,precision,recall,balanced_accuracy]},\n",
    "                            index = ['accuracy','precision','recall','balanced_accuracy'])\n",
    "    return df_metric"
   ]
  },
  {
   "cell_type": "code",
   "execution_count": 31,
   "metadata": {},
   "outputs": [
    {
     "ename": "ValueError",
     "evalue": "pos_label=1 is not a valid label. It should be one of ['bobmarley', 'elvispresley']",
     "output_type": "error",
     "traceback": [
      "\u001b[0;31m---------------------------------------------------------------------------\u001b[0m",
      "\u001b[0;31mValueError\u001b[0m                                Traceback (most recent call last)",
      "Input \u001b[0;32mIn [31]\u001b[0m, in \u001b[0;36m<cell line: 1>\u001b[0;34m()\u001b[0m\n\u001b[0;32m----> 1\u001b[0m metrics(y_test_labels, predictions_test)\n",
      "Input \u001b[0;32mIn [30]\u001b[0m, in \u001b[0;36mmetrics\u001b[0;34m(yt, yp)\u001b[0m\n\u001b[1;32m      6\u001b[0m sns\u001b[38;5;241m.\u001b[39mheatmap(data \u001b[38;5;241m=\u001b[39m confusion_matrix(yt,yp), cmap\u001b[38;5;241m=\u001b[39m\u001b[38;5;124m'\u001b[39m\u001b[38;5;124mcrest\u001b[39m\u001b[38;5;124m'\u001b[39m, annot\u001b[38;5;241m=\u001b[39m\u001b[38;5;28;01mTrue\u001b[39;00m)\n\u001b[1;32m      8\u001b[0m accuracy          \u001b[38;5;241m=\u001b[39m \u001b[38;5;28mround\u001b[39m(accuracy_score(          yt, yp),\u001b[38;5;241m6\u001b[39m)\n\u001b[0;32m----> 9\u001b[0m precision         \u001b[38;5;241m=\u001b[39m \u001b[38;5;28mround\u001b[39m(\u001b[43mprecision_score\u001b[49m\u001b[43m(\u001b[49m\u001b[43m         \u001b[49m\u001b[43myt\u001b[49m\u001b[43m,\u001b[49m\u001b[43m \u001b[49m\u001b[43myp\u001b[49m\u001b[43m)\u001b[49m,\u001b[38;5;241m6\u001b[39m)\n\u001b[1;32m     10\u001b[0m recall            \u001b[38;5;241m=\u001b[39m \u001b[38;5;28mround\u001b[39m(recall_score(            yt, yp),\u001b[38;5;241m6\u001b[39m)\n\u001b[1;32m     11\u001b[0m balanced_accuracy \u001b[38;5;241m=\u001b[39m \u001b[38;5;28mround\u001b[39m(balanced_accuracy_score( yt, yp),\u001b[38;5;241m6\u001b[39m)\n",
      "File \u001b[0;32m~/anaconda3/lib/python3.9/site-packages/sklearn/metrics/_classification.py:1776\u001b[0m, in \u001b[0;36mprecision_score\u001b[0;34m(y_true, y_pred, labels, pos_label, average, sample_weight, zero_division)\u001b[0m\n\u001b[1;32m   1647\u001b[0m \u001b[38;5;28;01mdef\u001b[39;00m \u001b[38;5;21mprecision_score\u001b[39m(\n\u001b[1;32m   1648\u001b[0m     y_true,\n\u001b[1;32m   1649\u001b[0m     y_pred,\n\u001b[0;32m   (...)\u001b[0m\n\u001b[1;32m   1655\u001b[0m     zero_division\u001b[38;5;241m=\u001b[39m\u001b[38;5;124m\"\u001b[39m\u001b[38;5;124mwarn\u001b[39m\u001b[38;5;124m\"\u001b[39m,\n\u001b[1;32m   1656\u001b[0m ):\n\u001b[1;32m   1657\u001b[0m     \u001b[38;5;124;03m\"\"\"Compute the precision.\u001b[39;00m\n\u001b[1;32m   1658\u001b[0m \n\u001b[1;32m   1659\u001b[0m \u001b[38;5;124;03m    The precision is the ratio ``tp / (tp + fp)`` where ``tp`` is the number of\u001b[39;00m\n\u001b[0;32m   (...)\u001b[0m\n\u001b[1;32m   1774\u001b[0m \u001b[38;5;124;03m    array([0.5, 1. , 1. ])\u001b[39;00m\n\u001b[1;32m   1775\u001b[0m \u001b[38;5;124;03m    \"\"\"\u001b[39;00m\n\u001b[0;32m-> 1776\u001b[0m     p, _, _, _ \u001b[38;5;241m=\u001b[39m \u001b[43mprecision_recall_fscore_support\u001b[49m\u001b[43m(\u001b[49m\n\u001b[1;32m   1777\u001b[0m \u001b[43m        \u001b[49m\u001b[43my_true\u001b[49m\u001b[43m,\u001b[49m\n\u001b[1;32m   1778\u001b[0m \u001b[43m        \u001b[49m\u001b[43my_pred\u001b[49m\u001b[43m,\u001b[49m\n\u001b[1;32m   1779\u001b[0m \u001b[43m        \u001b[49m\u001b[43mlabels\u001b[49m\u001b[38;5;241;43m=\u001b[39;49m\u001b[43mlabels\u001b[49m\u001b[43m,\u001b[49m\n\u001b[1;32m   1780\u001b[0m \u001b[43m        \u001b[49m\u001b[43mpos_label\u001b[49m\u001b[38;5;241;43m=\u001b[39;49m\u001b[43mpos_label\u001b[49m\u001b[43m,\u001b[49m\n\u001b[1;32m   1781\u001b[0m \u001b[43m        \u001b[49m\u001b[43maverage\u001b[49m\u001b[38;5;241;43m=\u001b[39;49m\u001b[43maverage\u001b[49m\u001b[43m,\u001b[49m\n\u001b[1;32m   1782\u001b[0m \u001b[43m        \u001b[49m\u001b[43mwarn_for\u001b[49m\u001b[38;5;241;43m=\u001b[39;49m\u001b[43m(\u001b[49m\u001b[38;5;124;43m\"\u001b[39;49m\u001b[38;5;124;43mprecision\u001b[39;49m\u001b[38;5;124;43m\"\u001b[39;49m\u001b[43m,\u001b[49m\u001b[43m)\u001b[49m\u001b[43m,\u001b[49m\n\u001b[1;32m   1783\u001b[0m \u001b[43m        \u001b[49m\u001b[43msample_weight\u001b[49m\u001b[38;5;241;43m=\u001b[39;49m\u001b[43msample_weight\u001b[49m\u001b[43m,\u001b[49m\n\u001b[1;32m   1784\u001b[0m \u001b[43m        \u001b[49m\u001b[43mzero_division\u001b[49m\u001b[38;5;241;43m=\u001b[39;49m\u001b[43mzero_division\u001b[49m\u001b[43m,\u001b[49m\n\u001b[1;32m   1785\u001b[0m \u001b[43m    \u001b[49m\u001b[43m)\u001b[49m\n\u001b[1;32m   1786\u001b[0m     \u001b[38;5;28;01mreturn\u001b[39;00m p\n",
      "File \u001b[0;32m~/anaconda3/lib/python3.9/site-packages/sklearn/metrics/_classification.py:1563\u001b[0m, in \u001b[0;36mprecision_recall_fscore_support\u001b[0;34m(y_true, y_pred, beta, labels, pos_label, average, warn_for, sample_weight, zero_division)\u001b[0m\n\u001b[1;32m   1561\u001b[0m \u001b[38;5;28;01mif\u001b[39;00m beta \u001b[38;5;241m<\u001b[39m \u001b[38;5;241m0\u001b[39m:\n\u001b[1;32m   1562\u001b[0m     \u001b[38;5;28;01mraise\u001b[39;00m \u001b[38;5;167;01mValueError\u001b[39;00m(\u001b[38;5;124m\"\u001b[39m\u001b[38;5;124mbeta should be >=0 in the F-beta score\u001b[39m\u001b[38;5;124m\"\u001b[39m)\n\u001b[0;32m-> 1563\u001b[0m labels \u001b[38;5;241m=\u001b[39m \u001b[43m_check_set_wise_labels\u001b[49m\u001b[43m(\u001b[49m\u001b[43my_true\u001b[49m\u001b[43m,\u001b[49m\u001b[43m \u001b[49m\u001b[43my_pred\u001b[49m\u001b[43m,\u001b[49m\u001b[43m \u001b[49m\u001b[43maverage\u001b[49m\u001b[43m,\u001b[49m\u001b[43m \u001b[49m\u001b[43mlabels\u001b[49m\u001b[43m,\u001b[49m\u001b[43m \u001b[49m\u001b[43mpos_label\u001b[49m\u001b[43m)\u001b[49m\n\u001b[1;32m   1565\u001b[0m \u001b[38;5;66;03m# Calculate tp_sum, pred_sum, true_sum ###\u001b[39;00m\n\u001b[1;32m   1566\u001b[0m samplewise \u001b[38;5;241m=\u001b[39m average \u001b[38;5;241m==\u001b[39m \u001b[38;5;124m\"\u001b[39m\u001b[38;5;124msamples\u001b[39m\u001b[38;5;124m\"\u001b[39m\n",
      "File \u001b[0;32m~/anaconda3/lib/python3.9/site-packages/sklearn/metrics/_classification.py:1372\u001b[0m, in \u001b[0;36m_check_set_wise_labels\u001b[0;34m(y_true, y_pred, average, labels, pos_label)\u001b[0m\n\u001b[1;32m   1370\u001b[0m     \u001b[38;5;28;01mif\u001b[39;00m pos_label \u001b[38;5;129;01mnot\u001b[39;00m \u001b[38;5;129;01min\u001b[39;00m present_labels:\n\u001b[1;32m   1371\u001b[0m         \u001b[38;5;28;01mif\u001b[39;00m \u001b[38;5;28mlen\u001b[39m(present_labels) \u001b[38;5;241m>\u001b[39m\u001b[38;5;241m=\u001b[39m \u001b[38;5;241m2\u001b[39m:\n\u001b[0;32m-> 1372\u001b[0m             \u001b[38;5;28;01mraise\u001b[39;00m \u001b[38;5;167;01mValueError\u001b[39;00m(\n\u001b[1;32m   1373\u001b[0m                 \u001b[38;5;124mf\u001b[39m\u001b[38;5;124m\"\u001b[39m\u001b[38;5;124mpos_label=\u001b[39m\u001b[38;5;132;01m{\u001b[39;00mpos_label\u001b[38;5;132;01m}\u001b[39;00m\u001b[38;5;124m is not a valid label. It \u001b[39m\u001b[38;5;124m\"\u001b[39m\n\u001b[1;32m   1374\u001b[0m                 \u001b[38;5;124mf\u001b[39m\u001b[38;5;124m\"\u001b[39m\u001b[38;5;124mshould be one of \u001b[39m\u001b[38;5;132;01m{\u001b[39;00mpresent_labels\u001b[38;5;132;01m}\u001b[39;00m\u001b[38;5;124m\"\u001b[39m\n\u001b[1;32m   1375\u001b[0m             )\n\u001b[1;32m   1376\u001b[0m     labels \u001b[38;5;241m=\u001b[39m [pos_label]\n\u001b[1;32m   1377\u001b[0m \u001b[38;5;28;01melse\u001b[39;00m:\n",
      "\u001b[0;31mValueError\u001b[0m: pos_label=1 is not a valid label. It should be one of ['bobmarley', 'elvispresley']"
     ]
    },
    {
     "data": {
      "image/png": "[encoded data removed]",
      "text/plain": [
       "<Figure size 432x288 with 2 Axes>"
      ]
     },
     "metadata": {
      "needs_background": "light"
     },
     "output_type": "display_data"
    }
   ],
   "source": [
    "metrics(y_test_labels, predictions_test)"
   ]
  },
  {
   "cell_type": "markdown",
   "metadata": {},
   "source": [
    "#### Step 6.4 - evaluate the feature importance"
   ]
  },
  {
   "cell_type": "markdown",
   "metadata": {},
   "source": [
    "#### Step 6.5 - feature selection"
   ]
  },
  {
   "cell_type": "markdown",
   "metadata": {
    "heading_collapsed": true
   },
   "source": [
    "### Step 7 - model tuning"
   ]
  },
  {
   "cell_type": "markdown",
   "metadata": {
    "hidden": true
   },
   "source": [
    "#### Step 7.1 - create a pipeline for model tuning"
   ]
  },
  {
   "cell_type": "markdown",
   "metadata": {
    "hidden": true
   },
   "source": [
    "##### Step 7.1.1 - function transformer"
   ]
  },
  {
   "cell_type": "markdown",
   "metadata": {
    "hidden": true
   },
   "source": [
    "##### Step 7.1.2 - column transformer"
   ]
  },
  {
   "cell_type": "markdown",
   "metadata": {
    "hidden": true
   },
   "source": [
    "##### Step 7.1.3 - set up pipeline with estimators"
   ]
  },
  {
   "cell_type": "markdown",
   "metadata": {
    "hidden": true
   },
   "source": [
    "##### Step 7.1.4 - define the hyperparameter grid"
   ]
  },
  {
   "cell_type": "markdown",
   "metadata": {
    "hidden": true
   },
   "source": [
    "##### Step 7.1.5 - set up the grid search CV"
   ]
  },
  {
   "cell_type": "markdown",
   "metadata": {
    "hidden": true
   },
   "source": [
    "#### Step 7.2 - run the tuner model"
   ]
  },
  {
   "cell_type": "markdown",
   "metadata": {
    "hidden": true
   },
   "source": [
    "#### Step 7.3 - evaluate the tuner model"
   ]
  },
  {
   "cell_type": "markdown",
   "metadata": {
    "hidden": true
   },
   "source": [
    "#### Step 7.4 - handle over-/underfitting (e.g. regularization) - if necessary"
   ]
  },
  {
   "cell_type": "markdown",
   "metadata": {
    "hidden": true
   },
   "source": [
    "#### Step 7.5 - optimize the model"
   ]
  },
  {
   "cell_type": "markdown",
   "metadata": {},
   "source": [
    "### Step 8 - retraining the best model with the whole data set"
   ]
  },
  {
   "cell_type": "markdown",
   "metadata": {
    "heading_collapsed": true
   },
   "source": [
    "### Step 9 - pickle the best model"
   ]
  }
 ],
 "metadata": {
  "kernelspec": {
   "display_name": "Python 3 (ipykernel)",
   "language": "python",
   "name": "python3"
  },
  "language_info": {
   "codemirror_mode": {
    "name": "ipython",
    "version": 3
   },
   "file_extension": ".py",
   "mimetype": "text/x-python",
   "name": "python",
   "nbconvert_exporter": "python",
   "pygments_lexer": "ipython3",
   "version": "3.9.12"
  }
 },
 "nbformat": 4,
 "nbformat_minor": 4
}
