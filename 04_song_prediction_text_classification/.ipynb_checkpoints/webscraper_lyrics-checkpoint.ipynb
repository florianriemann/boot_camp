{
 "cells": [
  {
   "cell_type": "markdown",
   "metadata": {},
   "source": [
    "# Import libraries"
   ]
  },
  {
   "cell_type": "markdown",
   "metadata": {},
   "source": [
    "This code was developed by Christoph Frost: https://www.linkedin.com/in/christophfrost/"
   ]
  },
  {
   "cell_type": "code",
   "execution_count": 1,
   "metadata": {},
   "outputs": [],
   "source": [
    "import requests\n",
    "import bs4\n",
    "import os\n",
    "import time\n",
    "import re"
   ]
  },
  {
   "cell_type": "markdown",
   "metadata": {},
   "source": [
    "# Define necessary functions"
   ]
  },
  {
   "cell_type": "markdown",
   "metadata": {},
   "source": [
    "## Does Website exists?"
   ]
  },
  {
   "cell_type": "code",
   "execution_count": 2,
   "metadata": {},
   "outputs": [],
   "source": [
    "def existing_url(res):\n",
    "\n",
    "    if res.status_code != 200: #if not 200, there is any error (server, host,...)\n",
    "        return 'No lyrics'\n",
    "    else:\n",
    "        # if response is 200, do the soup\n",
    "        soup = bs4.BeautifulSoup(res.text, 'lxml')\n",
    "        soup_text = soup.select_one('div>hgroup>h2').text\n",
    "        # already examined error text\n",
    "        error_text = \"We couldn't find any artists matching your query.\"\n",
    "        print(soup_text)\n",
    "        if soup_text.lower() == error_text.lower():\n",
    "            return 'Page not exists'       \n",
    "    \n",
    "    return 'exists'"
   ]
  },
  {
   "cell_type": "markdown",
   "metadata": {},
   "source": [
    "## Duplicate handling"
   ]
  },
  {
   "cell_type": "code",
   "execution_count": 3,
   "metadata": {},
   "outputs": [],
   "source": [
    "def duplicate_handling(res,title_links):\n",
    "    soup = bs4.BeautifulSoup(res.text, 'lxml')\n",
    "    song_select = soup.select('td.tal.qx>strong>a')\n",
    "    print(len(song_select))\n",
    "    \n",
    "    for song in song_select:\n",
    "        #1. Check ( and [ and split it:\n",
    "        title = re.split('\\s\\(|\\s\\[|(\\s|)[\\?!]',song.text)[0].lower()\n",
    "        #2. avoid duplicates by \n",
    "        if any(title in inner_list for inner_list in title_links) == False:\n",
    "            link = song['href'].replace('/','',1)\n",
    "            add_pair = [title,link]\n",
    "            title_links.append(add_pair)\n",
    "    \n",
    "    return title_links"
   ]
  },
  {
   "cell_type": "markdown",
   "metadata": {},
   "source": [
    "## Download lyrics and save in folder"
   ]
  },
  {
   "cell_type": "code",
   "execution_count": 4,
   "metadata": {},
   "outputs": [],
   "source": [
    "def download_save(newpath,url,title_links):\n",
    "    mislead = 0\n",
    "    download = 0\n",
    "    for song in title_links[0:150]:\n",
    "        time.sleep(1)\n",
    "        lyric_url = url + song[1] # fragment of url\n",
    "        response = requests.get(lyric_url)\n",
    "        # do the soup\n",
    "        soup = bs4.BeautifulSoup(response.text, 'lxml')\n",
    "        try: # some songs that are not linked with lyrics\n",
    "            lyric_text=soup.find('pre', {'id': 'lyric-body-text'}).text\n",
    "        except AttributeError: # if the link actually doesn't contain lyrics\n",
    "            print(f'Link of song {song[0]} does not lead to any lyrics!')\n",
    "            mislead += 1\n",
    "        else: \n",
    "            print(song[0])\n",
    "            title = re.sub('[\\W]','_',song[0]) # song[0] is title of the song\n",
    "            print(title)\n",
    "\n",
    "            if not os.path.exists(newpath):  # creates folder if necessary\n",
    "                os.makedirs(newpath)\n",
    "            with open(newpath +'/'+title + '.txt', 'w') as response_file:  # saves the lyric-files\n",
    "                response_file.write(lyric_text)\n",
    "            print(title_links.index(song))\n",
    "            download+=1\n",
    "    \n",
    "    print(f'The number of misleading links: {mislead}')\n",
    "    print(f'The number of downloaded files: {download}')\n",
    "    print(f'The number of all tried songs: {len(title_links)}')"
   ]
  },
  {
   "cell_type": "markdown",
   "metadata": {},
   "source": [
    "# Run the Scraping Program"
   ]
  },
  {
   "cell_type": "code",
   "execution_count": 5,
   "metadata": {},
   "outputs": [
    {
     "ename": "KeyboardInterrupt",
     "evalue": "Interrupted by user",
     "output_type": "error",
     "traceback": [
      "\u001b[0;31m---------------------------------------------------------------------------\u001b[0m",
      "\u001b[0;31mKeyboardInterrupt\u001b[0m                         Traceback (most recent call last)",
      "Input \u001b[0;32mIn [5]\u001b[0m, in \u001b[0;36m<cell line: 4>\u001b[0;34m()\u001b[0m\n\u001b[1;32m      5\u001b[0m title_links \u001b[38;5;241m=\u001b[39m []\n\u001b[1;32m      7\u001b[0m \u001b[38;5;66;03m#0. Input-Assignemt for which Interpret\u001b[39;00m\n\u001b[0;32m----> 8\u001b[0m artist \u001b[38;5;241m=\u001b[39m \u001b[38;5;28minput\u001b[39m(\u001b[38;5;124m'\u001b[39m\u001b[38;5;124mThe lyrics of which artist you would like to scrape?\u001b[39m\u001b[38;5;124m'\u001b[39m)\n\u001b[1;32m      9\u001b[0m artist \u001b[38;5;241m=\u001b[39m artist\u001b[38;5;241m.\u001b[39mlower()\n\u001b[1;32m     10\u001b[0m artist_url \u001b[38;5;241m=\u001b[39m url \u001b[38;5;241m+\u001b[39m \u001b[38;5;124m'\u001b[39m\u001b[38;5;124martist/\u001b[39m\u001b[38;5;124m'\u001b[39m \u001b[38;5;241m+\u001b[39m artist\n",
      "File \u001b[0;32m~/anaconda3/lib/python3.9/site-packages/ipykernel/kernelbase.py:1075\u001b[0m, in \u001b[0;36mKernel.raw_input\u001b[0;34m(self, prompt)\u001b[0m\n\u001b[1;32m   1071\u001b[0m \u001b[38;5;28;01mif\u001b[39;00m \u001b[38;5;129;01mnot\u001b[39;00m \u001b[38;5;28mself\u001b[39m\u001b[38;5;241m.\u001b[39m_allow_stdin:\n\u001b[1;32m   1072\u001b[0m     \u001b[38;5;28;01mraise\u001b[39;00m StdinNotImplementedError(\n\u001b[1;32m   1073\u001b[0m         \u001b[38;5;124m\"\u001b[39m\u001b[38;5;124mraw_input was called, but this frontend does not support input requests.\u001b[39m\u001b[38;5;124m\"\u001b[39m\n\u001b[1;32m   1074\u001b[0m     )\n\u001b[0;32m-> 1075\u001b[0m \u001b[38;5;28;01mreturn\u001b[39;00m \u001b[38;5;28;43mself\u001b[39;49m\u001b[38;5;241;43m.\u001b[39;49m\u001b[43m_input_request\u001b[49m\u001b[43m(\u001b[49m\n\u001b[1;32m   1076\u001b[0m \u001b[43m    \u001b[49m\u001b[38;5;28;43mstr\u001b[39;49m\u001b[43m(\u001b[49m\u001b[43mprompt\u001b[49m\u001b[43m)\u001b[49m\u001b[43m,\u001b[49m\n\u001b[1;32m   1077\u001b[0m \u001b[43m    \u001b[49m\u001b[38;5;28;43mself\u001b[39;49m\u001b[38;5;241;43m.\u001b[39;49m\u001b[43m_parent_ident\u001b[49m\u001b[43m[\u001b[49m\u001b[38;5;124;43m\"\u001b[39;49m\u001b[38;5;124;43mshell\u001b[39;49m\u001b[38;5;124;43m\"\u001b[39;49m\u001b[43m]\u001b[49m\u001b[43m,\u001b[49m\n\u001b[1;32m   1078\u001b[0m \u001b[43m    \u001b[49m\u001b[38;5;28;43mself\u001b[39;49m\u001b[38;5;241;43m.\u001b[39;49m\u001b[43mget_parent\u001b[49m\u001b[43m(\u001b[49m\u001b[38;5;124;43m\"\u001b[39;49m\u001b[38;5;124;43mshell\u001b[39;49m\u001b[38;5;124;43m\"\u001b[39;49m\u001b[43m)\u001b[49m\u001b[43m,\u001b[49m\n\u001b[1;32m   1079\u001b[0m \u001b[43m    \u001b[49m\u001b[43mpassword\u001b[49m\u001b[38;5;241;43m=\u001b[39;49m\u001b[38;5;28;43;01mFalse\u001b[39;49;00m\u001b[43m,\u001b[49m\n\u001b[1;32m   1080\u001b[0m \u001b[43m\u001b[49m\u001b[43m)\u001b[49m\n",
      "File \u001b[0;32m~/anaconda3/lib/python3.9/site-packages/ipykernel/kernelbase.py:1120\u001b[0m, in \u001b[0;36mKernel._input_request\u001b[0;34m(self, prompt, ident, parent, password)\u001b[0m\n\u001b[1;32m   1117\u001b[0m             \u001b[38;5;28;01mbreak\u001b[39;00m\n\u001b[1;32m   1118\u001b[0m \u001b[38;5;28;01mexcept\u001b[39;00m \u001b[38;5;167;01mKeyboardInterrupt\u001b[39;00m:\n\u001b[1;32m   1119\u001b[0m     \u001b[38;5;66;03m# re-raise KeyboardInterrupt, to truncate traceback\u001b[39;00m\n\u001b[0;32m-> 1120\u001b[0m     \u001b[38;5;28;01mraise\u001b[39;00m \u001b[38;5;167;01mKeyboardInterrupt\u001b[39;00m(\u001b[38;5;124m\"\u001b[39m\u001b[38;5;124mInterrupted by user\u001b[39m\u001b[38;5;124m\"\u001b[39m) \u001b[38;5;28;01mfrom\u001b[39;00m \u001b[38;5;28mNone\u001b[39m\n\u001b[1;32m   1121\u001b[0m \u001b[38;5;28;01mexcept\u001b[39;00m \u001b[38;5;167;01mException\u001b[39;00m:\n\u001b[1;32m   1122\u001b[0m     \u001b[38;5;28mself\u001b[39m\u001b[38;5;241m.\u001b[39mlog\u001b[38;5;241m.\u001b[39mwarning(\u001b[38;5;124m\"\u001b[39m\u001b[38;5;124mInvalid Message:\u001b[39m\u001b[38;5;124m\"\u001b[39m, exc_info\u001b[38;5;241m=\u001b[39m\u001b[38;5;28;01mTrue\u001b[39;00m)\n",
      "\u001b[0;31mKeyboardInterrupt\u001b[0m: Interrupted by user"
     ]
    }
   ],
   "source": [
    "url = 'https://www.lyrics.com/'\n",
    "path = os.getcwd()\n",
    "artist_sum = 0\n",
    "while artist_sum < 2:\n",
    "    title_links = []\n",
    "    \n",
    "    #0. Input-Assignemt for which Interpret\n",
    "    artist = input('The lyrics of which artist you would like to scrape?')\n",
    "    artist = artist.lower()\n",
    "    artist_url = url + 'artist/' + artist\n",
    "    print(artist_url)\n",
    "    \n",
    "    #request the URL\n",
    "    res = requests.get(artist_url)\n",
    "    print(res.status_code)\n",
    "    #1.existing URL?\n",
    "    exist = existing_url(res)\n",
    "    print(exist)\n",
    "    #Repeat-Condition\n",
    "    if (exist == 'No lyrics') or exist == 'Page not exists':\n",
    "        print(f'{artist} is not available. Please enter another artist.')\n",
    "        continue    \n",
    "    \n",
    "    #2.duplicate handling: avoid '()' and '[]' and ignore doubles\n",
    "    title_links = duplicate_handling(res,title_links) # creates a nested list (list of list [[a1,a2],[b1,b2],...])\n",
    "    \n",
    "    #3. check if more than 100 different songs\n",
    "    if len(title_links) < 100:\n",
    "        print(f'{artist} has just {len(title_links)} different songs instead 100. Please enter another artist.')\n",
    "        continue\n",
    "    else:\n",
    "        print(f'{artist} has {len(title_links)} different songs. Congrats!')\n",
    "    \n",
    "    #4. download lyrics and save to an individual folder\n",
    "    print(f'The lyrics of the {len(title_links)} songs of {artist} are going to be saved now.')\n",
    "    newpath = path +'/'+ artist #for new folder\n",
    "    download_save(newpath,url,title_links)\n",
    "    \n",
    "    artist_sum += 1"
   ]
  },
  {
   "cell_type": "code",
   "execution_count": null,
   "metadata": {},
   "outputs": [],
   "source": [
    "output = set()\n",
    "for x in title_links:\n",
    "    output.add(x[0])\n",
    "print(output)\n",
    "len(output)"
   ]
  }
 ],
 "metadata": {
  "kernelspec": {
   "display_name": "Python 3 (ipykernel)",
   "language": "python",
   "name": "python3"
  },
  "language_info": {
   "codemirror_mode": {
    "name": "ipython",
    "version": 3
   },
   "file_extension": ".py",
   "mimetype": "text/x-python",
   "name": "python",
   "nbconvert_exporter": "python",
   "pygments_lexer": "ipython3",
   "version": "3.9.12"
  }
 },
 "nbformat": 4,
 "nbformat_minor": 4
}
