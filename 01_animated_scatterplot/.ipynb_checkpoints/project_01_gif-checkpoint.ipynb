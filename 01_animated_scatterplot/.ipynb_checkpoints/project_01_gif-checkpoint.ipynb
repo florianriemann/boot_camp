{
 "cells": [
  {
   "cell_type": "markdown",
   "id": "c282bf4a",
   "metadata": {},
   "source": [
    "In this project, you will visually analyze the Gapminder Dataset and \n",
    "create an animated scatterplot\n",
    "\n",
    "#### 01: Gapminder GIF**\n",
    "\n",
    "\n",
    "#### Gapminder - Visual Data Analysis \n",
    "* Data: [Gapminder](https://www.gapminder.org/data/)\n",
    "* Goal: creating an animated scatterplot\n",
    "* Descriptive statistics, plotting with Matplotlib and Seaborn\n",
    "\n",
    "![Alt Text](https://github.com/madinamarat/machine_learning_projects/blob/master/01_animated_scatterplot/data/output.gif)\n",
    "\n",
    "\n",
    "Gapminder - Visual Data Analysis\n",
    "Data: Gapminder\n",
    "Goal: creating an animated scatterplot\n",
    "Descriptive statistics, plotting with Matplotlib and Seaborn"
   ]
  },
  {
   "cell_type": "markdown",
   "id": "5ab6eab2",
   "metadata": {
    "heading_collapsed": true
   },
   "source": [
    "### Step 0 - Import libraries"
   ]
  },
  {
   "cell_type": "code",
   "execution_count": 50,
   "id": "32020756",
   "metadata": {
    "hidden": true
   },
   "outputs": [],
   "source": [
    "import pandas            as pd\n",
    "import numpy             as np\n",
    "import matplotlib.pyplot as plt\n",
    "import seaborn           as sns\n",
    "\n",
    "import warnings\n",
    "warnings.filterwarnings('ignore')"
   ]
  },
  {
   "cell_type": "markdown",
   "id": "79f537b9",
   "metadata": {
    "heading_collapsed": true
   },
   "source": [
    "###  Step 1 - Load and inspect the data "
   ]
  },
  {
   "cell_type": "code",
   "execution_count": 51,
   "id": "78add800",
   "metadata": {
    "hidden": true
   },
   "outputs": [],
   "source": [
    "file_path_read = '/home/florianriemann/data_science_portfolio/data/'"
   ]
  },
  {
   "cell_type": "code",
   "execution_count": 52,
   "id": "b1c6f514",
   "metadata": {
    "hidden": true
   },
   "outputs": [],
   "source": [
    "df_fertility       = pd.read_csv(file_path_read+'gapminder_total_fertility.csv')\n",
    "df_life_expectancy = pd.read_excel(f'{file_path_read}gapminder_lifeexpectancy.xlsx')\n",
    "df_population      = pd.read_excel('{0}gapminder_population.xlsx'.format(file_path_read))\n",
    "df_continents      = pd.read_csv(file_path_read+'continents.csv', sep=';')"
   ]
  },
  {
   "cell_type": "code",
   "execution_count": 53,
   "id": "245353ea",
   "metadata": {
    "hidden": true
   },
   "outputs": [
    {
     "data": {
      "text/html": [
       "<div>\n",
       "<style scoped>\n",
       "    .dataframe tbody tr th:only-of-type {\n",
       "        vertical-align: middle;\n",
       "    }\n",
       "\n",
       "    .dataframe tbody tr th {\n",
       "        vertical-align: top;\n",
       "    }\n",
       "\n",
       "    .dataframe thead th {\n",
       "        text-align: right;\n",
       "    }\n",
       "</style>\n",
       "<table border=\"1\" class=\"dataframe\">\n",
       "  <thead>\n",
       "    <tr style=\"text-align: right;\">\n",
       "      <th></th>\n",
       "      <th>Total fertility rate</th>\n",
       "      <th>1800</th>\n",
       "      <th>1801</th>\n",
       "      <th>1802</th>\n",
       "      <th>1803</th>\n",
       "      <th>1804</th>\n",
       "      <th>1805</th>\n",
       "      <th>1806</th>\n",
       "      <th>1807</th>\n",
       "      <th>1808</th>\n",
       "      <th>...</th>\n",
       "      <th>2006</th>\n",
       "      <th>2007</th>\n",
       "      <th>2008</th>\n",
       "      <th>2009</th>\n",
       "      <th>2010</th>\n",
       "      <th>2011</th>\n",
       "      <th>2012</th>\n",
       "      <th>2013</th>\n",
       "      <th>2014</th>\n",
       "      <th>2015</th>\n",
       "    </tr>\n",
       "  </thead>\n",
       "  <tbody>\n",
       "    <tr>\n",
       "      <th>0</th>\n",
       "      <td>Abkhazia</td>\n",
       "      <td>NaN</td>\n",
       "      <td>NaN</td>\n",
       "      <td>NaN</td>\n",
       "      <td>NaN</td>\n",
       "      <td>NaN</td>\n",
       "      <td>NaN</td>\n",
       "      <td>NaN</td>\n",
       "      <td>NaN</td>\n",
       "      <td>NaN</td>\n",
       "      <td>...</td>\n",
       "      <td>NaN</td>\n",
       "      <td>NaN</td>\n",
       "      <td>NaN</td>\n",
       "      <td>NaN</td>\n",
       "      <td>NaN</td>\n",
       "      <td>NaN</td>\n",
       "      <td>NaN</td>\n",
       "      <td>NaN</td>\n",
       "      <td>NaN</td>\n",
       "      <td>NaN</td>\n",
       "    </tr>\n",
       "    <tr>\n",
       "      <th>1</th>\n",
       "      <td>Afghanistan</td>\n",
       "      <td>7.0</td>\n",
       "      <td>7.0</td>\n",
       "      <td>7.0</td>\n",
       "      <td>7.0</td>\n",
       "      <td>7.0</td>\n",
       "      <td>7.0</td>\n",
       "      <td>7.0</td>\n",
       "      <td>7.0</td>\n",
       "      <td>7.0</td>\n",
       "      <td>...</td>\n",
       "      <td>6.7</td>\n",
       "      <td>6.46</td>\n",
       "      <td>6.2</td>\n",
       "      <td>5.93</td>\n",
       "      <td>5.66</td>\n",
       "      <td>5.4</td>\n",
       "      <td>5.14</td>\n",
       "      <td>4.9</td>\n",
       "      <td>4.68</td>\n",
       "      <td>4.47</td>\n",
       "    </tr>\n",
       "  </tbody>\n",
       "</table>\n",
       "<p>2 rows × 217 columns</p>\n",
       "</div>"
      ],
      "text/plain": [
       "  Total fertility rate  1800  1801  1802  1803  1804  1805  1806  1807  1808  \\\n",
       "0             Abkhazia   NaN   NaN   NaN   NaN   NaN   NaN   NaN   NaN   NaN   \n",
       "1          Afghanistan   7.0   7.0   7.0   7.0   7.0   7.0   7.0   7.0   7.0   \n",
       "\n",
       "   ...  2006  2007  2008  2009  2010  2011  2012  2013  2014  2015  \n",
       "0  ...   NaN   NaN   NaN   NaN   NaN   NaN   NaN   NaN   NaN   NaN  \n",
       "1  ...   6.7  6.46   6.2  5.93  5.66   5.4  5.14   4.9  4.68  4.47  \n",
       "\n",
       "[2 rows x 217 columns]"
      ]
     },
     "execution_count": 53,
     "metadata": {},
     "output_type": "execute_result"
    }
   ],
   "source": [
    "df_fertility.head(2)"
   ]
  },
  {
   "cell_type": "code",
   "execution_count": 54,
   "id": "1e86e699",
   "metadata": {
    "hidden": true
   },
   "outputs": [
    {
     "data": {
      "text/html": [
       "<div>\n",
       "<style scoped>\n",
       "    .dataframe tbody tr th:only-of-type {\n",
       "        vertical-align: middle;\n",
       "    }\n",
       "\n",
       "    .dataframe tbody tr th {\n",
       "        vertical-align: top;\n",
       "    }\n",
       "\n",
       "    .dataframe thead th {\n",
       "        text-align: right;\n",
       "    }\n",
       "</style>\n",
       "<table border=\"1\" class=\"dataframe\">\n",
       "  <thead>\n",
       "    <tr style=\"text-align: right;\">\n",
       "      <th></th>\n",
       "      <th>Life expectancy</th>\n",
       "      <th>1800.0</th>\n",
       "      <th>1801.0</th>\n",
       "      <th>1802.0</th>\n",
       "      <th>1803.0</th>\n",
       "      <th>1804.0</th>\n",
       "      <th>1805.0</th>\n",
       "      <th>1806.0</th>\n",
       "      <th>1807.0</th>\n",
       "      <th>1808.0</th>\n",
       "      <th>...</th>\n",
       "      <th>2007.0</th>\n",
       "      <th>2008.0</th>\n",
       "      <th>2009.0</th>\n",
       "      <th>2010.0</th>\n",
       "      <th>2011.0</th>\n",
       "      <th>2012.0</th>\n",
       "      <th>2013.0</th>\n",
       "      <th>2014.0</th>\n",
       "      <th>2015.0</th>\n",
       "      <th>2016.0</th>\n",
       "    </tr>\n",
       "  </thead>\n",
       "  <tbody>\n",
       "    <tr>\n",
       "      <th>0</th>\n",
       "      <td>Abkhazia</td>\n",
       "      <td>NaN</td>\n",
       "      <td>NaN</td>\n",
       "      <td>NaN</td>\n",
       "      <td>NaN</td>\n",
       "      <td>NaN</td>\n",
       "      <td>NaN</td>\n",
       "      <td>NaN</td>\n",
       "      <td>NaN</td>\n",
       "      <td>NaN</td>\n",
       "      <td>...</td>\n",
       "      <td>NaN</td>\n",
       "      <td>NaN</td>\n",
       "      <td>NaN</td>\n",
       "      <td>NaN</td>\n",
       "      <td>NaN</td>\n",
       "      <td>NaN</td>\n",
       "      <td>NaN</td>\n",
       "      <td>NaN</td>\n",
       "      <td>NaN</td>\n",
       "      <td>NaN</td>\n",
       "    </tr>\n",
       "    <tr>\n",
       "      <th>1</th>\n",
       "      <td>Afghanistan</td>\n",
       "      <td>28.21</td>\n",
       "      <td>28.2</td>\n",
       "      <td>28.19</td>\n",
       "      <td>28.18</td>\n",
       "      <td>28.17</td>\n",
       "      <td>28.16</td>\n",
       "      <td>28.15</td>\n",
       "      <td>28.14</td>\n",
       "      <td>28.13</td>\n",
       "      <td>...</td>\n",
       "      <td>52.4</td>\n",
       "      <td>52.8</td>\n",
       "      <td>53.3</td>\n",
       "      <td>53.6</td>\n",
       "      <td>54.0</td>\n",
       "      <td>54.4</td>\n",
       "      <td>54.8</td>\n",
       "      <td>54.9</td>\n",
       "      <td>53.8</td>\n",
       "      <td>52.72</td>\n",
       "    </tr>\n",
       "  </tbody>\n",
       "</table>\n",
       "<p>2 rows × 218 columns</p>\n",
       "</div>"
      ],
      "text/plain": [
       "  Life expectancy  1800.0  1801.0  1802.0  1803.0  1804.0  1805.0  1806.0  \\\n",
       "0        Abkhazia     NaN     NaN     NaN     NaN     NaN     NaN     NaN   \n",
       "1     Afghanistan   28.21    28.2   28.19   28.18   28.17   28.16   28.15   \n",
       "\n",
       "   1807.0  1808.0  ...  2007.0  2008.0  2009.0  2010.0  2011.0  2012.0  \\\n",
       "0     NaN     NaN  ...     NaN     NaN     NaN     NaN     NaN     NaN   \n",
       "1   28.14   28.13  ...    52.4    52.8    53.3    53.6    54.0    54.4   \n",
       "\n",
       "   2013.0  2014.0  2015.0  2016.0  \n",
       "0     NaN     NaN     NaN     NaN  \n",
       "1    54.8    54.9    53.8   52.72  \n",
       "\n",
       "[2 rows x 218 columns]"
      ]
     },
     "execution_count": 54,
     "metadata": {},
     "output_type": "execute_result"
    }
   ],
   "source": [
    "df_life_expectancy.head(2)"
   ]
  },
  {
   "cell_type": "code",
   "execution_count": 55,
   "id": "571c22e5",
   "metadata": {
    "hidden": true
   },
   "outputs": [
    {
     "data": {
      "text/html": [
       "<div>\n",
       "<style scoped>\n",
       "    .dataframe tbody tr th:only-of-type {\n",
       "        vertical-align: middle;\n",
       "    }\n",
       "\n",
       "    .dataframe tbody tr th {\n",
       "        vertical-align: top;\n",
       "    }\n",
       "\n",
       "    .dataframe thead th {\n",
       "        text-align: right;\n",
       "    }\n",
       "</style>\n",
       "<table border=\"1\" class=\"dataframe\">\n",
       "  <thead>\n",
       "    <tr style=\"text-align: right;\">\n",
       "      <th></th>\n",
       "      <th>Total population</th>\n",
       "      <th>1800.0</th>\n",
       "      <th>1810.0</th>\n",
       "      <th>1820.0</th>\n",
       "      <th>1830.0</th>\n",
       "      <th>1840.0</th>\n",
       "      <th>1850.0</th>\n",
       "      <th>1860.0</th>\n",
       "      <th>1870.0</th>\n",
       "      <th>1880.0</th>\n",
       "      <th>...</th>\n",
       "      <th>2006.0</th>\n",
       "      <th>2007.0</th>\n",
       "      <th>2008.0</th>\n",
       "      <th>2009.0</th>\n",
       "      <th>2010.0</th>\n",
       "      <th>2011.0</th>\n",
       "      <th>2012.0</th>\n",
       "      <th>2013.0</th>\n",
       "      <th>2014.0</th>\n",
       "      <th>2015.0</th>\n",
       "    </tr>\n",
       "  </thead>\n",
       "  <tbody>\n",
       "    <tr>\n",
       "      <th>0</th>\n",
       "      <td>Abkhazia</td>\n",
       "      <td>NaN</td>\n",
       "      <td>NaN</td>\n",
       "      <td>NaN</td>\n",
       "      <td>NaN</td>\n",
       "      <td>NaN</td>\n",
       "      <td>NaN</td>\n",
       "      <td>NaN</td>\n",
       "      <td>NaN</td>\n",
       "      <td>NaN</td>\n",
       "      <td>...</td>\n",
       "      <td>NaN</td>\n",
       "      <td>NaN</td>\n",
       "      <td>NaN</td>\n",
       "      <td>NaN</td>\n",
       "      <td>NaN</td>\n",
       "      <td>NaN</td>\n",
       "      <td>NaN</td>\n",
       "      <td>NaN</td>\n",
       "      <td>NaN</td>\n",
       "      <td>NaN</td>\n",
       "    </tr>\n",
       "    <tr>\n",
       "      <th>1</th>\n",
       "      <td>Afghanistan</td>\n",
       "      <td>3280000.0</td>\n",
       "      <td>3280000.0</td>\n",
       "      <td>3323519.0</td>\n",
       "      <td>3448982.0</td>\n",
       "      <td>3625022.0</td>\n",
       "      <td>3810047.0</td>\n",
       "      <td>3973968.0</td>\n",
       "      <td>4169690.0</td>\n",
       "      <td>4419695.0</td>\n",
       "      <td>...</td>\n",
       "      <td>25183615.0</td>\n",
       "      <td>25877544.0</td>\n",
       "      <td>26528741.0</td>\n",
       "      <td>27207291.0</td>\n",
       "      <td>27962207.0</td>\n",
       "      <td>28809167.0</td>\n",
       "      <td>29726803.0</td>\n",
       "      <td>30682500.0</td>\n",
       "      <td>31627506.0</td>\n",
       "      <td>32526562.0</td>\n",
       "    </tr>\n",
       "  </tbody>\n",
       "</table>\n",
       "<p>2 rows × 82 columns</p>\n",
       "</div>"
      ],
      "text/plain": [
       "  Total population     1800.0     1810.0     1820.0     1830.0     1840.0  \\\n",
       "0         Abkhazia        NaN        NaN        NaN        NaN        NaN   \n",
       "1      Afghanistan  3280000.0  3280000.0  3323519.0  3448982.0  3625022.0   \n",
       "\n",
       "      1850.0     1860.0     1870.0     1880.0  ...      2006.0      2007.0  \\\n",
       "0        NaN        NaN        NaN        NaN  ...         NaN         NaN   \n",
       "1  3810047.0  3973968.0  4169690.0  4419695.0  ...  25183615.0  25877544.0   \n",
       "\n",
       "       2008.0      2009.0      2010.0      2011.0      2012.0      2013.0  \\\n",
       "0         NaN         NaN         NaN         NaN         NaN         NaN   \n",
       "1  26528741.0  27207291.0  27962207.0  28809167.0  29726803.0  30682500.0   \n",
       "\n",
       "       2014.0      2015.0  \n",
       "0         NaN         NaN  \n",
       "1  31627506.0  32526562.0  \n",
       "\n",
       "[2 rows x 82 columns]"
      ]
     },
     "execution_count": 55,
     "metadata": {},
     "output_type": "execute_result"
    }
   ],
   "source": [
    "df_population.head(2)"
   ]
  },
  {
   "cell_type": "code",
   "execution_count": 56,
   "id": "5990ac8e",
   "metadata": {
    "hidden": true
   },
   "outputs": [
    {
     "data": {
      "text/html": [
       "<div>\n",
       "<style scoped>\n",
       "    .dataframe tbody tr th:only-of-type {\n",
       "        vertical-align: middle;\n",
       "    }\n",
       "\n",
       "    .dataframe tbody tr th {\n",
       "        vertical-align: top;\n",
       "    }\n",
       "\n",
       "    .dataframe thead th {\n",
       "        text-align: right;\n",
       "    }\n",
       "</style>\n",
       "<table border=\"1\" class=\"dataframe\">\n",
       "  <thead>\n",
       "    <tr style=\"text-align: right;\">\n",
       "      <th></th>\n",
       "      <th>continent</th>\n",
       "      <th>country</th>\n",
       "    </tr>\n",
       "  </thead>\n",
       "  <tbody>\n",
       "    <tr>\n",
       "      <th>0</th>\n",
       "      <td>Africa</td>\n",
       "      <td>Algeria</td>\n",
       "    </tr>\n",
       "    <tr>\n",
       "      <th>1</th>\n",
       "      <td>Africa</td>\n",
       "      <td>Angola</td>\n",
       "    </tr>\n",
       "  </tbody>\n",
       "</table>\n",
       "</div>"
      ],
      "text/plain": [
       "  continent  country\n",
       "0    Africa  Algeria\n",
       "1    Africa   Angola"
      ]
     },
     "execution_count": 56,
     "metadata": {},
     "output_type": "execute_result"
    }
   ],
   "source": [
    "df_continents.head(2)"
   ]
  },
  {
   "cell_type": "markdown",
   "id": "c3522116",
   "metadata": {
    "heading_collapsed": true
   },
   "source": [
    "### Step 2 - Check the shape "
   ]
  },
  {
   "cell_type": "code",
   "execution_count": 57,
   "id": "389a6d0c",
   "metadata": {
    "hidden": true
   },
   "outputs": [
    {
     "name": "stdout",
     "output_type": "stream",
     "text": [
      "(260, 217)\n"
     ]
    }
   ],
   "source": [
    "print(df_fertility.shape)"
   ]
  },
  {
   "cell_type": "code",
   "execution_count": 58,
   "id": "fe4c08a8",
   "metadata": {
    "hidden": true
   },
   "outputs": [
    {
     "name": "stdout",
     "output_type": "stream",
     "text": [
      "(260, 218)\n"
     ]
    }
   ],
   "source": [
    "print(df_life_expectancy.shape)"
   ]
  },
  {
   "cell_type": "code",
   "execution_count": 59,
   "id": "8a0baf92",
   "metadata": {
    "hidden": true
   },
   "outputs": [
    {
     "name": "stdout",
     "output_type": "stream",
     "text": [
      "(275, 82)\n"
     ]
    }
   ],
   "source": [
    "print(df_population.shape)"
   ]
  },
  {
   "cell_type": "code",
   "execution_count": 60,
   "id": "1ba12e0c",
   "metadata": {
    "hidden": true
   },
   "outputs": [
    {
     "name": "stdout",
     "output_type": "stream",
     "text": [
      "(194, 2)\n"
     ]
    }
   ],
   "source": [
    "print(df_continents.shape)"
   ]
  },
  {
   "cell_type": "markdown",
   "id": "fa5456fb",
   "metadata": {
    "heading_collapsed": true
   },
   "source": [
    "### Step 3 - Check the column names "
   ]
  },
  {
   "cell_type": "code",
   "execution_count": 61,
   "id": "933a17f5",
   "metadata": {
    "hidden": true
   },
   "outputs": [
    {
     "data": {
      "text/plain": [
       "Index(['Total fertility rate', '1800', '1801', '1802', '1803', '1804', '1805',\n",
       "       '1806', '1807', '1808',\n",
       "       ...\n",
       "       '2006', '2007', '2008', '2009', '2010', '2011', '2012', '2013', '2014',\n",
       "       '2015'],\n",
       "      dtype='object', length=217)"
      ]
     },
     "execution_count": 61,
     "metadata": {},
     "output_type": "execute_result"
    }
   ],
   "source": [
    "df_fertility.columns"
   ]
  },
  {
   "cell_type": "code",
   "execution_count": 62,
   "id": "8e5f3d66",
   "metadata": {
    "hidden": true
   },
   "outputs": [
    {
     "data": {
      "text/plain": [
       "Index(['Life expectancy',            1800.0,            1801.0,\n",
       "                  1802.0,            1803.0,            1804.0,\n",
       "                  1805.0,            1806.0,            1807.0,\n",
       "                  1808.0,\n",
       "       ...\n",
       "                  2007.0,            2008.0,            2009.0,\n",
       "                  2010.0,            2011.0,            2012.0,\n",
       "                  2013.0,            2014.0,            2015.0,\n",
       "                  2016.0],\n",
       "      dtype='object', length=218)"
      ]
     },
     "execution_count": 62,
     "metadata": {},
     "output_type": "execute_result"
    }
   ],
   "source": [
    "df_life_expectancy.columns"
   ]
  },
  {
   "cell_type": "code",
   "execution_count": 63,
   "id": "7aab472c",
   "metadata": {
    "hidden": true
   },
   "outputs": [
    {
     "data": {
      "text/plain": [
       "Index(['Total population',             1800.0,             1810.0,\n",
       "                   1820.0,             1830.0,             1840.0,\n",
       "                   1850.0,             1860.0,             1870.0,\n",
       "                   1880.0,             1890.0,             1900.0,\n",
       "                   1910.0,             1920.0,             1930.0,\n",
       "                   1940.0,             1950.0,             1951.0,\n",
       "                   1952.0,             1953.0,             1954.0,\n",
       "                   1955.0,             1956.0,             1957.0,\n",
       "                   1958.0,             1959.0,             1960.0,\n",
       "                   1961.0,             1962.0,             1963.0,\n",
       "                   1964.0,             1965.0,             1966.0,\n",
       "                   1967.0,             1968.0,             1969.0,\n",
       "                   1970.0,             1971.0,             1972.0,\n",
       "                   1973.0,             1974.0,             1975.0,\n",
       "                   1976.0,             1977.0,             1978.0,\n",
       "                   1979.0,             1980.0,             1981.0,\n",
       "                   1982.0,             1983.0,             1984.0,\n",
       "                   1985.0,             1986.0,             1987.0,\n",
       "                   1988.0,             1989.0,             1990.0,\n",
       "                   1991.0,             1992.0,             1993.0,\n",
       "                   1994.0,             1995.0,             1996.0,\n",
       "                   1997.0,             1998.0,             1999.0,\n",
       "                   2000.0,             2001.0,             2002.0,\n",
       "                   2003.0,             2004.0,             2005.0,\n",
       "                   2006.0,             2007.0,             2008.0,\n",
       "                   2009.0,             2010.0,             2011.0,\n",
       "                   2012.0,             2013.0,             2014.0,\n",
       "                   2015.0],\n",
       "      dtype='object')"
      ]
     },
     "execution_count": 63,
     "metadata": {},
     "output_type": "execute_result"
    }
   ],
   "source": [
    "df_population.columns"
   ]
  },
  {
   "cell_type": "code",
   "execution_count": 64,
   "id": "73934b7d",
   "metadata": {
    "hidden": true
   },
   "outputs": [
    {
     "data": {
      "text/plain": [
       "Index(['Total population',             1800.0,             1810.0,\n",
       "                   1820.0,             1830.0,             1840.0,\n",
       "                   1850.0,             1860.0,             1870.0,\n",
       "                   1880.0,             1890.0,             1900.0,\n",
       "                   1910.0,             1920.0,             1930.0,\n",
       "                   1940.0,             1950.0,             1951.0,\n",
       "                   1952.0,             1953.0,             1954.0,\n",
       "                   1955.0,             1956.0,             1957.0,\n",
       "                   1958.0,             1959.0,             1960.0,\n",
       "                   1961.0,             1962.0,             1963.0,\n",
       "                   1964.0,             1965.0,             1966.0,\n",
       "                   1967.0,             1968.0,             1969.0,\n",
       "                   1970.0,             1971.0,             1972.0,\n",
       "                   1973.0,             1974.0,             1975.0,\n",
       "                   1976.0,             1977.0,             1978.0,\n",
       "                   1979.0,             1980.0,             1981.0,\n",
       "                   1982.0,             1983.0,             1984.0,\n",
       "                   1985.0,             1986.0,             1987.0,\n",
       "                   1988.0,             1989.0,             1990.0,\n",
       "                   1991.0,             1992.0,             1993.0,\n",
       "                   1994.0,             1995.0,             1996.0,\n",
       "                   1997.0,             1998.0,             1999.0,\n",
       "                   2000.0,             2001.0,             2002.0,\n",
       "                   2003.0,             2004.0,             2005.0,\n",
       "                   2006.0,             2007.0,             2008.0,\n",
       "                   2009.0,             2010.0,             2011.0,\n",
       "                   2012.0,             2013.0,             2014.0,\n",
       "                   2015.0],\n",
       "      dtype='object')"
      ]
     },
     "execution_count": 64,
     "metadata": {},
     "output_type": "execute_result"
    }
   ],
   "source": [
    "df_population.columns"
   ]
  },
  {
   "cell_type": "code",
   "execution_count": 65,
   "id": "5dc42aba",
   "metadata": {
    "hidden": true
   },
   "outputs": [
    {
     "data": {
      "text/plain": [
       "Index(['continent', 'country'], dtype='object')"
      ]
     },
     "execution_count": 65,
     "metadata": {},
     "output_type": "execute_result"
    }
   ],
   "source": [
    "df_continents.columns"
   ]
  },
  {
   "cell_type": "markdown",
   "id": "8a09f8cf",
   "metadata": {
    "heading_collapsed": true
   },
   "source": [
    "### Step 4 - Set indices of DataFrames "
   ]
  },
  {
   "cell_type": "code",
   "execution_count": 66,
   "id": "294d0aaf",
   "metadata": {
    "hidden": true
   },
   "outputs": [],
   "source": [
    "df_fertility.set_index('Total fertility rate', inplace=True)"
   ]
  },
  {
   "cell_type": "code",
   "execution_count": 67,
   "id": "8b2410ca",
   "metadata": {
    "hidden": true
   },
   "outputs": [],
   "source": [
    "df_fertility.index.name = 'countries'"
   ]
  },
  {
   "cell_type": "code",
   "execution_count": 68,
   "id": "d20bd6e6",
   "metadata": {
    "hidden": true
   },
   "outputs": [],
   "source": [
    "df_fertility.columns = df_fertility.columns.astype(int)"
   ]
  },
  {
   "cell_type": "code",
   "execution_count": 69,
   "id": "8b37ffdf",
   "metadata": {
    "hidden": true
   },
   "outputs": [
    {
     "data": {
      "text/html": [
       "<div>\n",
       "<style scoped>\n",
       "    .dataframe tbody tr th:only-of-type {\n",
       "        vertical-align: middle;\n",
       "    }\n",
       "\n",
       "    .dataframe tbody tr th {\n",
       "        vertical-align: top;\n",
       "    }\n",
       "\n",
       "    .dataframe thead th {\n",
       "        text-align: right;\n",
       "    }\n",
       "</style>\n",
       "<table border=\"1\" class=\"dataframe\">\n",
       "  <thead>\n",
       "    <tr style=\"text-align: right;\">\n",
       "      <th></th>\n",
       "      <th>1800</th>\n",
       "      <th>1801</th>\n",
       "      <th>1802</th>\n",
       "      <th>1803</th>\n",
       "      <th>1804</th>\n",
       "      <th>1805</th>\n",
       "      <th>1806</th>\n",
       "      <th>1807</th>\n",
       "      <th>1808</th>\n",
       "      <th>1809</th>\n",
       "      <th>...</th>\n",
       "      <th>2006</th>\n",
       "      <th>2007</th>\n",
       "      <th>2008</th>\n",
       "      <th>2009</th>\n",
       "      <th>2010</th>\n",
       "      <th>2011</th>\n",
       "      <th>2012</th>\n",
       "      <th>2013</th>\n",
       "      <th>2014</th>\n",
       "      <th>2015</th>\n",
       "    </tr>\n",
       "    <tr>\n",
       "      <th>countries</th>\n",
       "      <th></th>\n",
       "      <th></th>\n",
       "      <th></th>\n",
       "      <th></th>\n",
       "      <th></th>\n",
       "      <th></th>\n",
       "      <th></th>\n",
       "      <th></th>\n",
       "      <th></th>\n",
       "      <th></th>\n",
       "      <th></th>\n",
       "      <th></th>\n",
       "      <th></th>\n",
       "      <th></th>\n",
       "      <th></th>\n",
       "      <th></th>\n",
       "      <th></th>\n",
       "      <th></th>\n",
       "      <th></th>\n",
       "      <th></th>\n",
       "      <th></th>\n",
       "    </tr>\n",
       "  </thead>\n",
       "  <tbody>\n",
       "    <tr>\n",
       "      <th>Abkhazia</th>\n",
       "      <td>NaN</td>\n",
       "      <td>NaN</td>\n",
       "      <td>NaN</td>\n",
       "      <td>NaN</td>\n",
       "      <td>NaN</td>\n",
       "      <td>NaN</td>\n",
       "      <td>NaN</td>\n",
       "      <td>NaN</td>\n",
       "      <td>NaN</td>\n",
       "      <td>NaN</td>\n",
       "      <td>...</td>\n",
       "      <td>NaN</td>\n",
       "      <td>NaN</td>\n",
       "      <td>NaN</td>\n",
       "      <td>NaN</td>\n",
       "      <td>NaN</td>\n",
       "      <td>NaN</td>\n",
       "      <td>NaN</td>\n",
       "      <td>NaN</td>\n",
       "      <td>NaN</td>\n",
       "      <td>NaN</td>\n",
       "    </tr>\n",
       "    <tr>\n",
       "      <th>Afghanistan</th>\n",
       "      <td>7.0</td>\n",
       "      <td>7.0</td>\n",
       "      <td>7.0</td>\n",
       "      <td>7.0</td>\n",
       "      <td>7.0</td>\n",
       "      <td>7.0</td>\n",
       "      <td>7.0</td>\n",
       "      <td>7.0</td>\n",
       "      <td>7.0</td>\n",
       "      <td>7.0</td>\n",
       "      <td>...</td>\n",
       "      <td>6.7</td>\n",
       "      <td>6.46</td>\n",
       "      <td>6.2</td>\n",
       "      <td>5.93</td>\n",
       "      <td>5.66</td>\n",
       "      <td>5.4</td>\n",
       "      <td>5.14</td>\n",
       "      <td>4.9</td>\n",
       "      <td>4.68</td>\n",
       "      <td>4.47</td>\n",
       "    </tr>\n",
       "  </tbody>\n",
       "</table>\n",
       "<p>2 rows × 216 columns</p>\n",
       "</div>"
      ],
      "text/plain": [
       "             1800  1801  1802  1803  1804  1805  1806  1807  1808  1809  ...  \\\n",
       "countries                                                                ...   \n",
       "Abkhazia      NaN   NaN   NaN   NaN   NaN   NaN   NaN   NaN   NaN   NaN  ...   \n",
       "Afghanistan   7.0   7.0   7.0   7.0   7.0   7.0   7.0   7.0   7.0   7.0  ...   \n",
       "\n",
       "             2006  2007  2008  2009  2010  2011  2012  2013  2014  2015  \n",
       "countries                                                                \n",
       "Abkhazia      NaN   NaN   NaN   NaN   NaN   NaN   NaN   NaN   NaN   NaN  \n",
       "Afghanistan   6.7  6.46   6.2  5.93  5.66   5.4  5.14   4.9  4.68  4.47  \n",
       "\n",
       "[2 rows x 216 columns]"
      ]
     },
     "execution_count": 69,
     "metadata": {},
     "output_type": "execute_result"
    }
   ],
   "source": [
    "df_fertility.head(2)"
   ]
  },
  {
   "cell_type": "code",
   "execution_count": 70,
   "id": "5066e102",
   "metadata": {
    "hidden": true
   },
   "outputs": [],
   "source": [
    "df_population.set_index('Total population', inplace=True)"
   ]
  },
  {
   "cell_type": "code",
   "execution_count": 71,
   "id": "72fd0a5a",
   "metadata": {
    "hidden": true
   },
   "outputs": [],
   "source": [
    "df_population.index.name = 'countries'"
   ]
  },
  {
   "cell_type": "code",
   "execution_count": 72,
   "id": "e141c255",
   "metadata": {
    "hidden": true
   },
   "outputs": [],
   "source": [
    "df_population.columns = df_population.columns.astype(int)"
   ]
  },
  {
   "cell_type": "code",
   "execution_count": 73,
   "id": "c74b102b",
   "metadata": {
    "hidden": true
   },
   "outputs": [
    {
     "data": {
      "text/html": [
       "<div>\n",
       "<style scoped>\n",
       "    .dataframe tbody tr th:only-of-type {\n",
       "        vertical-align: middle;\n",
       "    }\n",
       "\n",
       "    .dataframe tbody tr th {\n",
       "        vertical-align: top;\n",
       "    }\n",
       "\n",
       "    .dataframe thead th {\n",
       "        text-align: right;\n",
       "    }\n",
       "</style>\n",
       "<table border=\"1\" class=\"dataframe\">\n",
       "  <thead>\n",
       "    <tr style=\"text-align: right;\">\n",
       "      <th></th>\n",
       "      <th>1800</th>\n",
       "      <th>1810</th>\n",
       "      <th>1820</th>\n",
       "      <th>1830</th>\n",
       "      <th>1840</th>\n",
       "      <th>1850</th>\n",
       "      <th>1860</th>\n",
       "      <th>1870</th>\n",
       "      <th>1880</th>\n",
       "      <th>1890</th>\n",
       "      <th>...</th>\n",
       "      <th>2006</th>\n",
       "      <th>2007</th>\n",
       "      <th>2008</th>\n",
       "      <th>2009</th>\n",
       "      <th>2010</th>\n",
       "      <th>2011</th>\n",
       "      <th>2012</th>\n",
       "      <th>2013</th>\n",
       "      <th>2014</th>\n",
       "      <th>2015</th>\n",
       "    </tr>\n",
       "    <tr>\n",
       "      <th>countries</th>\n",
       "      <th></th>\n",
       "      <th></th>\n",
       "      <th></th>\n",
       "      <th></th>\n",
       "      <th></th>\n",
       "      <th></th>\n",
       "      <th></th>\n",
       "      <th></th>\n",
       "      <th></th>\n",
       "      <th></th>\n",
       "      <th></th>\n",
       "      <th></th>\n",
       "      <th></th>\n",
       "      <th></th>\n",
       "      <th></th>\n",
       "      <th></th>\n",
       "      <th></th>\n",
       "      <th></th>\n",
       "      <th></th>\n",
       "      <th></th>\n",
       "      <th></th>\n",
       "    </tr>\n",
       "  </thead>\n",
       "  <tbody>\n",
       "    <tr>\n",
       "      <th>Abkhazia</th>\n",
       "      <td>NaN</td>\n",
       "      <td>NaN</td>\n",
       "      <td>NaN</td>\n",
       "      <td>NaN</td>\n",
       "      <td>NaN</td>\n",
       "      <td>NaN</td>\n",
       "      <td>NaN</td>\n",
       "      <td>NaN</td>\n",
       "      <td>NaN</td>\n",
       "      <td>NaN</td>\n",
       "      <td>...</td>\n",
       "      <td>NaN</td>\n",
       "      <td>NaN</td>\n",
       "      <td>NaN</td>\n",
       "      <td>NaN</td>\n",
       "      <td>NaN</td>\n",
       "      <td>NaN</td>\n",
       "      <td>NaN</td>\n",
       "      <td>NaN</td>\n",
       "      <td>NaN</td>\n",
       "      <td>NaN</td>\n",
       "    </tr>\n",
       "    <tr>\n",
       "      <th>Afghanistan</th>\n",
       "      <td>3280000.0</td>\n",
       "      <td>3280000.0</td>\n",
       "      <td>3323519.0</td>\n",
       "      <td>3448982.0</td>\n",
       "      <td>3625022.0</td>\n",
       "      <td>3810047.0</td>\n",
       "      <td>3973968.0</td>\n",
       "      <td>4169690.0</td>\n",
       "      <td>4419695.0</td>\n",
       "      <td>4710171.0</td>\n",
       "      <td>...</td>\n",
       "      <td>25183615.0</td>\n",
       "      <td>25877544.0</td>\n",
       "      <td>26528741.0</td>\n",
       "      <td>27207291.0</td>\n",
       "      <td>27962207.0</td>\n",
       "      <td>28809167.0</td>\n",
       "      <td>29726803.0</td>\n",
       "      <td>30682500.0</td>\n",
       "      <td>31627506.0</td>\n",
       "      <td>32526562.0</td>\n",
       "    </tr>\n",
       "  </tbody>\n",
       "</table>\n",
       "<p>2 rows × 81 columns</p>\n",
       "</div>"
      ],
      "text/plain": [
       "                  1800       1810       1820       1830       1840       1850  \\\n",
       "countries                                                                       \n",
       "Abkhazia           NaN        NaN        NaN        NaN        NaN        NaN   \n",
       "Afghanistan  3280000.0  3280000.0  3323519.0  3448982.0  3625022.0  3810047.0   \n",
       "\n",
       "                  1860       1870       1880       1890  ...        2006  \\\n",
       "countries                                                ...               \n",
       "Abkhazia           NaN        NaN        NaN        NaN  ...         NaN   \n",
       "Afghanistan  3973968.0  4169690.0  4419695.0  4710171.0  ...  25183615.0   \n",
       "\n",
       "                   2007        2008        2009        2010        2011  \\\n",
       "countries                                                                 \n",
       "Abkhazia            NaN         NaN         NaN         NaN         NaN   \n",
       "Afghanistan  25877544.0  26528741.0  27207291.0  27962207.0  28809167.0   \n",
       "\n",
       "                   2012        2013        2014        2015  \n",
       "countries                                                    \n",
       "Abkhazia            NaN         NaN         NaN         NaN  \n",
       "Afghanistan  29726803.0  30682500.0  31627506.0  32526562.0  \n",
       "\n",
       "[2 rows x 81 columns]"
      ]
     },
     "execution_count": 73,
     "metadata": {},
     "output_type": "execute_result"
    }
   ],
   "source": [
    "df_population.head(2)"
   ]
  },
  {
   "cell_type": "code",
   "execution_count": 74,
   "id": "e10bc2c2",
   "metadata": {
    "hidden": true
   },
   "outputs": [],
   "source": [
    "df_life_expectancy.set_index('Life expectancy', inplace=True)"
   ]
  },
  {
   "cell_type": "code",
   "execution_count": 75,
   "id": "7440d0f5",
   "metadata": {
    "hidden": true
   },
   "outputs": [],
   "source": [
    "df_life_expectancy.index.name = 'countries'"
   ]
  },
  {
   "cell_type": "code",
   "execution_count": 76,
   "id": "eb7739ff",
   "metadata": {
    "hidden": true
   },
   "outputs": [],
   "source": [
    "df_life_expectancy.columns = df_life_expectancy.columns.astype(int)"
   ]
  },
  {
   "cell_type": "code",
   "execution_count": 77,
   "id": "4efca9e3",
   "metadata": {
    "hidden": true
   },
   "outputs": [
    {
     "data": {
      "text/html": [
       "<div>\n",
       "<style scoped>\n",
       "    .dataframe tbody tr th:only-of-type {\n",
       "        vertical-align: middle;\n",
       "    }\n",
       "\n",
       "    .dataframe tbody tr th {\n",
       "        vertical-align: top;\n",
       "    }\n",
       "\n",
       "    .dataframe thead th {\n",
       "        text-align: right;\n",
       "    }\n",
       "</style>\n",
       "<table border=\"1\" class=\"dataframe\">\n",
       "  <thead>\n",
       "    <tr style=\"text-align: right;\">\n",
       "      <th></th>\n",
       "      <th>1800</th>\n",
       "      <th>1801</th>\n",
       "      <th>1802</th>\n",
       "      <th>1803</th>\n",
       "      <th>1804</th>\n",
       "      <th>1805</th>\n",
       "      <th>1806</th>\n",
       "      <th>1807</th>\n",
       "      <th>1808</th>\n",
       "      <th>1809</th>\n",
       "      <th>...</th>\n",
       "      <th>2007</th>\n",
       "      <th>2008</th>\n",
       "      <th>2009</th>\n",
       "      <th>2010</th>\n",
       "      <th>2011</th>\n",
       "      <th>2012</th>\n",
       "      <th>2013</th>\n",
       "      <th>2014</th>\n",
       "      <th>2015</th>\n",
       "      <th>2016</th>\n",
       "    </tr>\n",
       "    <tr>\n",
       "      <th>countries</th>\n",
       "      <th></th>\n",
       "      <th></th>\n",
       "      <th></th>\n",
       "      <th></th>\n",
       "      <th></th>\n",
       "      <th></th>\n",
       "      <th></th>\n",
       "      <th></th>\n",
       "      <th></th>\n",
       "      <th></th>\n",
       "      <th></th>\n",
       "      <th></th>\n",
       "      <th></th>\n",
       "      <th></th>\n",
       "      <th></th>\n",
       "      <th></th>\n",
       "      <th></th>\n",
       "      <th></th>\n",
       "      <th></th>\n",
       "      <th></th>\n",
       "      <th></th>\n",
       "    </tr>\n",
       "  </thead>\n",
       "  <tbody>\n",
       "    <tr>\n",
       "      <th>Abkhazia</th>\n",
       "      <td>NaN</td>\n",
       "      <td>NaN</td>\n",
       "      <td>NaN</td>\n",
       "      <td>NaN</td>\n",
       "      <td>NaN</td>\n",
       "      <td>NaN</td>\n",
       "      <td>NaN</td>\n",
       "      <td>NaN</td>\n",
       "      <td>NaN</td>\n",
       "      <td>NaN</td>\n",
       "      <td>...</td>\n",
       "      <td>NaN</td>\n",
       "      <td>NaN</td>\n",
       "      <td>NaN</td>\n",
       "      <td>NaN</td>\n",
       "      <td>NaN</td>\n",
       "      <td>NaN</td>\n",
       "      <td>NaN</td>\n",
       "      <td>NaN</td>\n",
       "      <td>NaN</td>\n",
       "      <td>NaN</td>\n",
       "    </tr>\n",
       "    <tr>\n",
       "      <th>Afghanistan</th>\n",
       "      <td>28.21</td>\n",
       "      <td>28.2</td>\n",
       "      <td>28.19</td>\n",
       "      <td>28.18</td>\n",
       "      <td>28.17</td>\n",
       "      <td>28.16</td>\n",
       "      <td>28.15</td>\n",
       "      <td>28.14</td>\n",
       "      <td>28.13</td>\n",
       "      <td>28.12</td>\n",
       "      <td>...</td>\n",
       "      <td>52.4</td>\n",
       "      <td>52.8</td>\n",
       "      <td>53.3</td>\n",
       "      <td>53.6</td>\n",
       "      <td>54.0</td>\n",
       "      <td>54.4</td>\n",
       "      <td>54.8</td>\n",
       "      <td>54.9</td>\n",
       "      <td>53.8</td>\n",
       "      <td>52.72</td>\n",
       "    </tr>\n",
       "  </tbody>\n",
       "</table>\n",
       "<p>2 rows × 217 columns</p>\n",
       "</div>"
      ],
      "text/plain": [
       "              1800  1801   1802   1803   1804   1805   1806   1807   1808  \\\n",
       "countries                                                                   \n",
       "Abkhazia       NaN   NaN    NaN    NaN    NaN    NaN    NaN    NaN    NaN   \n",
       "Afghanistan  28.21  28.2  28.19  28.18  28.17  28.16  28.15  28.14  28.13   \n",
       "\n",
       "              1809  ...  2007  2008  2009  2010  2011  2012  2013  2014  2015  \\\n",
       "countries           ...                                                         \n",
       "Abkhazia       NaN  ...   NaN   NaN   NaN   NaN   NaN   NaN   NaN   NaN   NaN   \n",
       "Afghanistan  28.12  ...  52.4  52.8  53.3  53.6  54.0  54.4  54.8  54.9  53.8   \n",
       "\n",
       "              2016  \n",
       "countries           \n",
       "Abkhazia       NaN  \n",
       "Afghanistan  52.72  \n",
       "\n",
       "[2 rows x 217 columns]"
      ]
     },
     "execution_count": 77,
     "metadata": {},
     "output_type": "execute_result"
    }
   ],
   "source": [
    "df_life_expectancy.head(2)"
   ]
  },
  {
   "cell_type": "code",
   "execution_count": 78,
   "id": "2737ab71",
   "metadata": {
    "hidden": true
   },
   "outputs": [
    {
     "data": {
      "text/html": [
       "<div>\n",
       "<style scoped>\n",
       "    .dataframe tbody tr th:only-of-type {\n",
       "        vertical-align: middle;\n",
       "    }\n",
       "\n",
       "    .dataframe tbody tr th {\n",
       "        vertical-align: top;\n",
       "    }\n",
       "\n",
       "    .dataframe thead th {\n",
       "        text-align: right;\n",
       "    }\n",
       "</style>\n",
       "<table border=\"1\" class=\"dataframe\">\n",
       "  <thead>\n",
       "    <tr style=\"text-align: right;\">\n",
       "      <th></th>\n",
       "      <th>continent</th>\n",
       "      <th>country</th>\n",
       "    </tr>\n",
       "  </thead>\n",
       "  <tbody>\n",
       "    <tr>\n",
       "      <th>0</th>\n",
       "      <td>Africa</td>\n",
       "      <td>Algeria</td>\n",
       "    </tr>\n",
       "    <tr>\n",
       "      <th>1</th>\n",
       "      <td>Africa</td>\n",
       "      <td>Angola</td>\n",
       "    </tr>\n",
       "  </tbody>\n",
       "</table>\n",
       "</div>"
      ],
      "text/plain": [
       "  continent  country\n",
       "0    Africa  Algeria\n",
       "1    Africa   Angola"
      ]
     },
     "execution_count": 78,
     "metadata": {},
     "output_type": "execute_result"
    }
   ],
   "source": [
    "df_continents.head(2)"
   ]
  },
  {
   "cell_type": "markdown",
   "id": "b795909b",
   "metadata": {
    "heading_collapsed": true
   },
   "source": [
    "### Step 5 - Turning wide data into long data"
   ]
  },
  {
   "cell_type": "code",
   "execution_count": 79,
   "id": "fcb08061",
   "metadata": {
    "hidden": true
   },
   "outputs": [],
   "source": [
    "df_fertility.reset_index(inplace=True)"
   ]
  },
  {
   "cell_type": "code",
   "execution_count": 80,
   "id": "92c7e753",
   "metadata": {
    "hidden": true
   },
   "outputs": [
    {
     "data": {
      "text/html": [
       "<div>\n",
       "<style scoped>\n",
       "    .dataframe tbody tr th:only-of-type {\n",
       "        vertical-align: middle;\n",
       "    }\n",
       "\n",
       "    .dataframe tbody tr th {\n",
       "        vertical-align: top;\n",
       "    }\n",
       "\n",
       "    .dataframe thead th {\n",
       "        text-align: right;\n",
       "    }\n",
       "</style>\n",
       "<table border=\"1\" class=\"dataframe\">\n",
       "  <thead>\n",
       "    <tr style=\"text-align: right;\">\n",
       "      <th></th>\n",
       "      <th>countries</th>\n",
       "      <th>years</th>\n",
       "      <th>fertility rates</th>\n",
       "    </tr>\n",
       "  </thead>\n",
       "  <tbody>\n",
       "    <tr>\n",
       "      <th>0</th>\n",
       "      <td>Abkhazia</td>\n",
       "      <td>1800</td>\n",
       "      <td>NaN</td>\n",
       "    </tr>\n",
       "    <tr>\n",
       "      <th>1</th>\n",
       "      <td>Afghanistan</td>\n",
       "      <td>1800</td>\n",
       "      <td>7.0</td>\n",
       "    </tr>\n",
       "  </tbody>\n",
       "</table>\n",
       "</div>"
      ],
      "text/plain": [
       "     countries years  fertility rates\n",
       "0     Abkhazia  1800              NaN\n",
       "1  Afghanistan  1800              7.0"
      ]
     },
     "execution_count": 80,
     "metadata": {},
     "output_type": "execute_result"
    }
   ],
   "source": [
    "df_fertility_long = df_fertility.melt(id_vars    = ['countries'], \n",
    "                                      var_name   =  'years',\n",
    "                                      value_name =  'fertility rates')\n",
    "\n",
    "df_fertility_long.head(2)"
   ]
  },
  {
   "cell_type": "code",
   "execution_count": 81,
   "id": "00453fc9",
   "metadata": {
    "hidden": true
   },
   "outputs": [
    {
     "data": {
      "text/plain": [
       "\"\\ndf_fertility_long.pivot_table(columns  = 'years', \\n                              index    = 'countries', \\n                              dropna   = False)\\n\\ndf_fertility_long.head(2)\\n\""
      ]
     },
     "execution_count": 81,
     "metadata": {},
     "output_type": "execute_result"
    }
   ],
   "source": [
    "'''\n",
    "df_fertility_long.pivot_table(columns  = 'years', \n",
    "                              index    = 'countries', \n",
    "                              dropna   = False)\n",
    "\n",
    "df_fertility_long.head(2)\n",
    "'''"
   ]
  },
  {
   "cell_type": "code",
   "execution_count": 82,
   "id": "598e1379",
   "metadata": {
    "hidden": true
   },
   "outputs": [],
   "source": [
    "df_life_expectancy.reset_index(inplace=True)"
   ]
  },
  {
   "cell_type": "code",
   "execution_count": 83,
   "id": "b403fd37",
   "metadata": {
    "hidden": true
   },
   "outputs": [
    {
     "data": {
      "text/html": [
       "<div>\n",
       "<style scoped>\n",
       "    .dataframe tbody tr th:only-of-type {\n",
       "        vertical-align: middle;\n",
       "    }\n",
       "\n",
       "    .dataframe tbody tr th {\n",
       "        vertical-align: top;\n",
       "    }\n",
       "\n",
       "    .dataframe thead th {\n",
       "        text-align: right;\n",
       "    }\n",
       "</style>\n",
       "<table border=\"1\" class=\"dataframe\">\n",
       "  <thead>\n",
       "    <tr style=\"text-align: right;\">\n",
       "      <th></th>\n",
       "      <th>countries</th>\n",
       "      <th>years</th>\n",
       "      <th>life expectancy</th>\n",
       "    </tr>\n",
       "  </thead>\n",
       "  <tbody>\n",
       "    <tr>\n",
       "      <th>0</th>\n",
       "      <td>Abkhazia</td>\n",
       "      <td>1800</td>\n",
       "      <td>NaN</td>\n",
       "    </tr>\n",
       "    <tr>\n",
       "      <th>1</th>\n",
       "      <td>Afghanistan</td>\n",
       "      <td>1800</td>\n",
       "      <td>28.21</td>\n",
       "    </tr>\n",
       "  </tbody>\n",
       "</table>\n",
       "</div>"
      ],
      "text/plain": [
       "     countries years  life expectancy\n",
       "0     Abkhazia  1800              NaN\n",
       "1  Afghanistan  1800            28.21"
      ]
     },
     "execution_count": 83,
     "metadata": {},
     "output_type": "execute_result"
    }
   ],
   "source": [
    "df_life_expectancy_long = df_life_expectancy.melt(id_vars    = 'countries', \n",
    "                                                  var_name   = 'years', \n",
    "                                                  value_name = 'life expectancy')\n",
    "\n",
    "df_life_expectancy_long.head(2)"
   ]
  },
  {
   "cell_type": "code",
   "execution_count": 84,
   "id": "018c775e",
   "metadata": {
    "hidden": true
   },
   "outputs": [],
   "source": [
    "df_population.reset_index(inplace=True)"
   ]
  },
  {
   "cell_type": "code",
   "execution_count": 85,
   "id": "ee086f0b",
   "metadata": {
    "hidden": true
   },
   "outputs": [
    {
     "data": {
      "text/html": [
       "<div>\n",
       "<style scoped>\n",
       "    .dataframe tbody tr th:only-of-type {\n",
       "        vertical-align: middle;\n",
       "    }\n",
       "\n",
       "    .dataframe tbody tr th {\n",
       "        vertical-align: top;\n",
       "    }\n",
       "\n",
       "    .dataframe thead th {\n",
       "        text-align: right;\n",
       "    }\n",
       "</style>\n",
       "<table border=\"1\" class=\"dataframe\">\n",
       "  <thead>\n",
       "    <tr style=\"text-align: right;\">\n",
       "      <th></th>\n",
       "      <th>countries</th>\n",
       "      <th>years</th>\n",
       "      <th>population</th>\n",
       "    </tr>\n",
       "  </thead>\n",
       "  <tbody>\n",
       "    <tr>\n",
       "      <th>0</th>\n",
       "      <td>Abkhazia</td>\n",
       "      <td>1800</td>\n",
       "      <td>NaN</td>\n",
       "    </tr>\n",
       "    <tr>\n",
       "      <th>1</th>\n",
       "      <td>Afghanistan</td>\n",
       "      <td>1800</td>\n",
       "      <td>3280000.0</td>\n",
       "    </tr>\n",
       "  </tbody>\n",
       "</table>\n",
       "</div>"
      ],
      "text/plain": [
       "     countries years  population\n",
       "0     Abkhazia  1800         NaN\n",
       "1  Afghanistan  1800   3280000.0"
      ]
     },
     "execution_count": 85,
     "metadata": {},
     "output_type": "execute_result"
    }
   ],
   "source": [
    "df_population_long = df_population.melt(id_vars    = 'countries', \n",
    "                                        var_name   = 'years', \n",
    "                                        value_name = 'population')\n",
    "\n",
    "df_population_long.head(2)"
   ]
  },
  {
   "cell_type": "code",
   "execution_count": 86,
   "id": "f46211c8",
   "metadata": {
    "hidden": true
   },
   "outputs": [],
   "source": [
    "df_continents.rename({'country': 'countries'}, axis=1, inplace=True)"
   ]
  },
  {
   "cell_type": "markdown",
   "id": "2a9e889e",
   "metadata": {
    "heading_collapsed": true
   },
   "source": [
    "### Step 6 - Concat the data frames"
   ]
  },
  {
   "cell_type": "code",
   "execution_count": 87,
   "id": "fac6855b",
   "metadata": {
    "hidden": true
   },
   "outputs": [
    {
     "data": {
      "text/html": [
       "<div>\n",
       "<style scoped>\n",
       "    .dataframe tbody tr th:only-of-type {\n",
       "        vertical-align: middle;\n",
       "    }\n",
       "\n",
       "    .dataframe tbody tr th {\n",
       "        vertical-align: top;\n",
       "    }\n",
       "\n",
       "    .dataframe thead th {\n",
       "        text-align: right;\n",
       "    }\n",
       "</style>\n",
       "<table border=\"1\" class=\"dataframe\">\n",
       "  <thead>\n",
       "    <tr style=\"text-align: right;\">\n",
       "      <th></th>\n",
       "      <th>countries</th>\n",
       "      <th>years</th>\n",
       "      <th>fertility rates</th>\n",
       "    </tr>\n",
       "  </thead>\n",
       "  <tbody>\n",
       "    <tr>\n",
       "      <th>0</th>\n",
       "      <td>Abkhazia</td>\n",
       "      <td>1800</td>\n",
       "      <td>NaN</td>\n",
       "    </tr>\n",
       "    <tr>\n",
       "      <th>1</th>\n",
       "      <td>Afghanistan</td>\n",
       "      <td>1800</td>\n",
       "      <td>7.0</td>\n",
       "    </tr>\n",
       "  </tbody>\n",
       "</table>\n",
       "</div>"
      ],
      "text/plain": [
       "     countries years  fertility rates\n",
       "0     Abkhazia  1800              NaN\n",
       "1  Afghanistan  1800              7.0"
      ]
     },
     "execution_count": 87,
     "metadata": {},
     "output_type": "execute_result"
    }
   ],
   "source": [
    "df_fertility_long.join(df_life_expectancy_long, \n",
    "                       lsuffix = '_fert', \n",
    "                       rsuffix = '_life')\n",
    "\n",
    "df_fertility_long.head(2)"
   ]
  },
  {
   "cell_type": "code",
   "execution_count": 88,
   "id": "2a9d4d89",
   "metadata": {
    "hidden": true
   },
   "outputs": [],
   "source": [
    "df_gapminder = df_fertility_long.merge(df_life_expectancy_long, on=['countries', 'years'])"
   ]
  },
  {
   "cell_type": "code",
   "execution_count": 89,
   "id": "d1fd1739",
   "metadata": {
    "hidden": true
   },
   "outputs": [],
   "source": [
    "df_gapminder = df_gapminder.merge(df_population_long, on=['countries', 'years'])"
   ]
  },
  {
   "cell_type": "code",
   "execution_count": 90,
   "id": "9cead8f6",
   "metadata": {
    "hidden": true
   },
   "outputs": [],
   "source": [
    "df_gapminder = df_gapminder.merge(df_continents, on=['countries'], how='left')"
   ]
  },
  {
   "cell_type": "code",
   "execution_count": 91,
   "id": "3a9506ab",
   "metadata": {
    "hidden": true
   },
   "outputs": [],
   "source": [
    "df_gapminder.columns = ['countries', 'years', 'fertility_rate', 'life_expectancy', 'population', 'continent']"
   ]
  },
  {
   "cell_type": "code",
   "execution_count": 92,
   "id": "ec4359f4",
   "metadata": {
    "hidden": true
   },
   "outputs": [
    {
     "data": {
      "text/html": [
       "<div>\n",
       "<style scoped>\n",
       "    .dataframe tbody tr th:only-of-type {\n",
       "        vertical-align: middle;\n",
       "    }\n",
       "\n",
       "    .dataframe tbody tr th {\n",
       "        vertical-align: top;\n",
       "    }\n",
       "\n",
       "    .dataframe thead th {\n",
       "        text-align: right;\n",
       "    }\n",
       "</style>\n",
       "<table border=\"1\" class=\"dataframe\">\n",
       "  <thead>\n",
       "    <tr style=\"text-align: right;\">\n",
       "      <th></th>\n",
       "      <th>countries</th>\n",
       "      <th>years</th>\n",
       "      <th>fertility_rate</th>\n",
       "      <th>life_expectancy</th>\n",
       "      <th>population</th>\n",
       "      <th>continent</th>\n",
       "    </tr>\n",
       "  </thead>\n",
       "  <tbody>\n",
       "    <tr>\n",
       "      <th>0</th>\n",
       "      <td>Abkhazia</td>\n",
       "      <td>1800</td>\n",
       "      <td>NaN</td>\n",
       "      <td>NaN</td>\n",
       "      <td>NaN</td>\n",
       "      <td>NaN</td>\n",
       "    </tr>\n",
       "    <tr>\n",
       "      <th>1</th>\n",
       "      <td>Afghanistan</td>\n",
       "      <td>1800</td>\n",
       "      <td>7.0</td>\n",
       "      <td>28.21</td>\n",
       "      <td>3280000.0</td>\n",
       "      <td>Asia</td>\n",
       "    </tr>\n",
       "  </tbody>\n",
       "</table>\n",
       "</div>"
      ],
      "text/plain": [
       "     countries years  fertility_rate  life_expectancy  population continent\n",
       "0     Abkhazia  1800             NaN              NaN         NaN       NaN\n",
       "1  Afghanistan  1800             7.0            28.21   3280000.0      Asia"
      ]
     },
     "execution_count": 92,
     "metadata": {},
     "output_type": "execute_result"
    }
   ],
   "source": [
    "df_gapminder.head(2)"
   ]
  },
  {
   "cell_type": "markdown",
   "id": "6fbe432a",
   "metadata": {
    "heading_collapsed": true
   },
   "source": [
    "### Step 7 - plot some information"
   ]
  },
  {
   "cell_type": "code",
   "execution_count": 93,
   "id": "f584729c",
   "metadata": {
    "hidden": true
   },
   "outputs": [
    {
     "data": {
      "text/plain": [
       "<matplotlib.legend.Legend at 0x7f9808983ac0>"
      ]
     },
     "execution_count": 93,
     "metadata": {},
     "output_type": "execute_result"
    },
    {
     "data": {
      "image/png": "[encoded data removed]",
      "text/plain": [
       "<Figure size 432x288 with 1 Axes>"
      ]
     },
     "metadata": {
      "needs_background": "light"
     },
     "output_type": "display_data"
    }
   ],
   "source": [
    "# plot of the year 2000\n",
    "df_gapminder_2000 = df_gapminder.loc[df_gapminder['years'] == 2000]\n",
    "\n",
    "sns.scatterplot(x     = 'life_expectancy' , \n",
    "                y     = 'fertility_rate'  , \n",
    "                hue   = 'continent'       ,\n",
    "                size  = 'population'      , \n",
    "                data  = df_gapminder_2000 , \n",
    "                alpha = 0.6)\n",
    "\n",
    "plt.legend(loc=2, bbox_to_anchor=(1, 1))"
   ]
  },
  {
   "cell_type": "code",
   "execution_count": 94,
   "id": "56b22852",
   "metadata": {
    "hidden": true
   },
   "outputs": [
    {
     "data": {
      "text/html": [
       "<div>\n",
       "<style scoped>\n",
       "    .dataframe tbody tr th:only-of-type {\n",
       "        vertical-align: middle;\n",
       "    }\n",
       "\n",
       "    .dataframe tbody tr th {\n",
       "        vertical-align: top;\n",
       "    }\n",
       "\n",
       "    .dataframe thead th {\n",
       "        text-align: right;\n",
       "    }\n",
       "</style>\n",
       "<table border=\"1\" class=\"dataframe\">\n",
       "  <thead>\n",
       "    <tr style=\"text-align: right;\">\n",
       "      <th></th>\n",
       "      <th>countries</th>\n",
       "      <th>years</th>\n",
       "      <th>fertility_rate</th>\n",
       "      <th>life_expectancy</th>\n",
       "      <th>population</th>\n",
       "      <th>continent</th>\n",
       "    </tr>\n",
       "  </thead>\n",
       "  <tbody>\n",
       "    <tr>\n",
       "      <th>16835</th>\n",
       "      <td>Abkhazia</td>\n",
       "      <td>2000</td>\n",
       "      <td>NaN</td>\n",
       "      <td>NaN</td>\n",
       "      <td>NaN</td>\n",
       "      <td>NaN</td>\n",
       "    </tr>\n",
       "    <tr>\n",
       "      <th>16837</th>\n",
       "      <td>Akrotiri and Dhekelia</td>\n",
       "      <td>2000</td>\n",
       "      <td>NaN</td>\n",
       "      <td>NaN</td>\n",
       "      <td>15157.0</td>\n",
       "      <td>NaN</td>\n",
       "    </tr>\n",
       "  </tbody>\n",
       "</table>\n",
       "</div>"
      ],
      "text/plain": [
       "                   countries years  fertility_rate  life_expectancy  \\\n",
       "16835               Abkhazia  2000             NaN              NaN   \n",
       "16837  Akrotiri and Dhekelia  2000             NaN              NaN   \n",
       "\n",
       "       population continent  \n",
       "16835         NaN       NaN  \n",
       "16837     15157.0       NaN  "
      ]
     },
     "execution_count": 94,
     "metadata": {},
     "output_type": "execute_result"
    }
   ],
   "source": [
    "# check for those countries that did not exist in 2000\n",
    "df_gapminder_2000[df_gapminder_2000['continent'].isna()].head(2)"
   ]
  },
  {
   "cell_type": "markdown",
   "id": "ed720013",
   "metadata": {
    "heading_collapsed": true
   },
   "source": [
    "### Step 8 - Animated Scatterplot"
   ]
  },
  {
   "cell_type": "code",
   "execution_count": 95,
   "id": "f1dbc44a",
   "metadata": {
    "hidden": true
   },
   "outputs": [],
   "source": [
    "file_path_write = '/home/florianriemann/data_science_portfolio/visualization/gif/'"
   ]
  },
  {
   "cell_type": "code",
   "execution_count": 96,
   "id": "c8ea2de7",
   "metadata": {
    "hidden": true
   },
   "outputs": [],
   "source": [
    "start = 1960\n",
    "end   = 2016\n",
    "\n",
    "for year in range(start,end,1):\n",
    "    \n",
    "    scatter_plot = sns.scatterplot(x     = 'life_expectancy'   , \n",
    "                                   y     = 'fertility_rate'    , \n",
    "                                   hue   = 'continent'         ,\n",
    "                                   size  = 'population'        , \n",
    "                                   data  = df_gapminder        ,\n",
    "                                   alpha = 0.6)\n",
    "    \n",
    "    plt.legend(loc = 2, bbox_to_anchor = (1, 1))\n",
    "    plt.title(str(year))\n",
    "    \n",
    "    figure = scatter_plot.get_figure()\n",
    "    figure.savefig(f'{file_path_write}{year}.png' ,\n",
    "                    bbox_inches = 'tight'         ,\n",
    "                    facecolor   = 'white'         ,\n",
    "                    transparent = False)\n",
    "    plt.close()\n",
    "    ;"
   ]
  },
  {
   "cell_type": "code",
   "execution_count": 97,
   "id": "7cf170a8",
   "metadata": {
    "hidden": true
   },
   "outputs": [],
   "source": [
    "import imageio\n",
    "\n",
    "images = []\n",
    "\n",
    "for i in range(start, end):\n",
    "    filename = file_path_write + 'gapminder_{}.png'.format(i)\n",
    "    images.append(imageio.imread(filename))\n",
    "\n",
    "imageio.mimsave('gapminder_years.gif', images, fps = 10, duration = 0.4)"
   ]
  }
 ],
 "metadata": {
  "kernelspec": {
   "display_name": "Python 3 (ipykernel)",
   "language": "python",
   "name": "python3"
  },
  "language_info": {
   "codemirror_mode": {
    "name": "ipython",
    "version": 3
   },
   "file_extension": ".py",
   "mimetype": "text/x-python",
   "name": "python",
   "nbconvert_exporter": "python",
   "pygments_lexer": "ipython3",
   "version": "3.9.12"
  }
 },
 "nbformat": 4,
 "nbformat_minor": 5
}
